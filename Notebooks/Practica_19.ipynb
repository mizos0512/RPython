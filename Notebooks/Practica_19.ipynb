{
 "cells": [
  {
   "cell_type": "markdown",
   "metadata": {},
   "source": [
    "1. Escriba un programa que le pida al usuario un número entero mayor que cero y que luego\n",
    "imprima en pantalla sus divisores."
   ]
  },
  {
   "cell_type": "code",
   "execution_count": 1,
   "metadata": {},
   "outputs": [
    {
     "name": "stdout",
     "output_type": "stream",
     "text": [
      "Los divisores del número 12 son:\n",
      "1\n",
      "2\n",
      "3\n",
      "4\n",
      "6\n",
      "12\n"
     ]
    }
   ],
   "source": [
    "while True:\n",
    "        numero = int(input(\"Teclee un número entero mayor que cero: \"))\n",
    "        if numero > 0:\n",
    "            break\n",
    "        else:\n",
    "            print(\"El número ingresado no es válido. Intente de nuevo.\")\n",
    "print(f\"Los divisores del número {numero} son:\")\n",
    "for i in range(1, numero + 1):\n",
    "    if numero % i == 0:\n",
    "        print(i)\n"
   ]
  },
  {
   "cell_type": "markdown",
   "metadata": {},
   "source": [
    "2. Escriba un programa que pregunte al usuario cuántos números se van a introducir, pida\n",
    "esos números y escriba cuántos negativos ha introducido"
   ]
  },
  {
   "cell_type": "code",
   "execution_count": 5,
   "metadata": {},
   "outputs": [
    {
     "name": "stdout",
     "output_type": "stream",
     "text": [
      "\n",
      "Tecleó: 2 números negativos.\n"
     ]
    }
   ],
   "source": [
    "n = int(input(\"¿Cantidad de números a introducir:? \"))\n",
    "n_negativos = 0\n",
    "\n",
    "for i in range(n):\n",
    "    numero = float(input(f\"teclee el número {i+1}: \"))\n",
    "    if numero < 0:\n",
    "        n_negativos += 1\n",
    "print()\n",
    "print(f\"Tecleó: {n_negativos} números negativos.\")\n",
    "\n"
   ]
  },
  {
   "cell_type": "markdown",
   "metadata": {},
   "source": [
    "3. Escriba un programa que pida dos números enteros y escriba qué números son pares y\n",
    "cuáles impares desde el primero hasta el segundo."
   ]
  },
  {
   "cell_type": "code",
   "execution_count": 8,
   "metadata": {},
   "outputs": [
    {
     "name": "stdout",
     "output_type": "stream",
     "text": [
      "Los números pares desde: 2 hasta 24\n",
      "2\n",
      "4\n",
      "6\n",
      "8\n",
      "10\n",
      "12\n",
      "14\n",
      "16\n",
      "18\n",
      "20\n",
      "22\n",
      "24\n",
      "\n",
      "Los números impares desde: 2 hasta 24\n",
      "3\n",
      "5\n",
      "7\n",
      "9\n",
      "11\n",
      "13\n",
      "15\n",
      "17\n",
      "19\n",
      "21\n",
      "23\n"
     ]
    }
   ],
   "source": [
    "inicio = int(input(\"Primer número entero: \"))\n",
    "fin = int(input(\"Segundo número entero: \"))\n",
    "\n",
    "print(f\"Los números pares desde: {inicio} hasta {fin}\")\n",
    "for i in range(inicio, fin + 1):\n",
    "    if i % 2 == 0:\n",
    "        print(i)\n",
    "print()\n",
    "print(f\"Los números impares desde: {inicio} hasta {fin}\")\n",
    "for i in range(inicio, fin + 1):\n",
    "    if i % 2 != 0:\n",
    "        print(i)"
   ]
  },
  {
   "cell_type": "markdown",
   "metadata": {},
   "source": [
    "4. Escriba un programa que pregunte cuántos números se van a introducir, pida esos\n",
    "números, y diga al final cuántos han sido pares y cuántos impares."
   ]
  },
  {
   "cell_type": "code",
   "execution_count": 10,
   "metadata": {},
   "outputs": [
    {
     "name": "stdout",
     "output_type": "stream",
     "text": [
      "\n",
      "Ha tecleado 3 pares y 2 impares\n"
     ]
    }
   ],
   "source": [
    "n = int(input(\"¿Cuántos números vas a teclear:? \"))\n",
    "\n",
    "p = 0\n",
    "im = 0\n",
    "\n",
    "for i in range(n):\n",
    "    numero = int(input(f\"Ingrese el número {i+1}: \"))\n",
    "    if numero % 2 == 0:\n",
    "        p += 1\n",
    "    else:\n",
    "        im += 1\n",
    "print()\n",
    "print(f\"Ha tecleado {p} pares y {im} impares.\")\n"
   ]
  },
  {
   "cell_type": "markdown",
   "metadata": {},
   "source": [
    "5. Escriba un programa que pregunte cuantos números se van a introducir, pida esos\n",
    "números (que puedan ser decimales) y calcule su suma."
   ]
  },
  {
   "cell_type": "code",
   "execution_count": 11,
   "metadata": {},
   "outputs": [
    {
     "name": "stdout",
     "output_type": "stream",
     "text": [
      "\n",
      "La suma de los números introducidos es: 28.0\n"
     ]
    }
   ],
   "source": [
    "n = int(input(\"¿Cantidad de  números:? \"))\n",
    "\n",
    "suma = 0\n",
    "\n",
    "for i in range(n):\n",
    "    numero = float(input(f\"Número {i+1}: \"))\n",
    "    suma += numero\n",
    "print()\n",
    "print(f\"La suma de los números introducidos es: {suma}\")\n"
   ]
  },
  {
   "cell_type": "markdown",
   "metadata": {},
   "source": [
    "6. Imprimir todos los dígitos decimales, del 0 al 9, utilizando una repetición."
   ]
  },
  {
   "cell_type": "code",
   "execution_count": 12,
   "metadata": {},
   "outputs": [
    {
     "name": "stdout",
     "output_type": "stream",
     "text": [
      "0\n",
      "1\n",
      "2\n",
      "3\n",
      "4\n",
      "5\n",
      "6\n",
      "7\n",
      "8\n",
      "9\n"
     ]
    }
   ],
   "source": [
    "for i in range(10):\n",
    "    print(i)\n"
   ]
  },
  {
   "cell_type": "markdown",
   "metadata": {},
   "source": [
    "7. Imprimir todos los números entre el 100 y el 199."
   ]
  },
  {
   "cell_type": "code",
   "execution_count": 18,
   "metadata": {},
   "outputs": [
    {
     "name": "stdout",
     "output_type": "stream",
     "text": [
      "100, 101, 102, 103, 104, 105, 106, 107, 108, 109, 110, 111, 112, 113, 114, 115, 116, 117, 118, 119, \n",
      "120, 121, 122, 123, 124, 125, 126, 127, 128, 129, 130, 131, 132, 133, 134, 135, 136, 137, 138, 139, \n",
      "140, 141, 142, 143, 144, 145, 146, 147, 148, 149, 150, 151, 152, 153, 154, 155, 156, 157, 158, 159, \n",
      "160, 161, 162, 163, 164, 165, 166, 167, 168, 169, 170, 171, 172, 173, 174, 175, 176, 177, 178, 179, \n",
      "180, 181, 182, 183, 184, 185, 186, 187, 188, 189, 190, 191, 192, 193, 194, 195, 196, 197, 198, 199, \n"
     ]
    }
   ],
   "source": [
    "for i in range(100, 200):\n",
    "    print(i, end=\", \")\n",
    "\n",
    "    # Esto agrega un salto cada 20 números\n",
    "    if (i - 99) % 20 == 0:\n",
    "        print()\n"
   ]
  },
  {
   "cell_type": "markdown",
   "metadata": {},
   "source": [
    "8. Imprimir los números entre el 5 y el 20, saltando de tres en tres."
   ]
  },
  {
   "cell_type": "code",
   "execution_count": 20,
   "metadata": {},
   "outputs": [
    {
     "name": "stdout",
     "output_type": "stream",
     "text": [
      "5\n",
      "8\n",
      "11\n",
      "14\n",
      "17\n",
      "20\n"
     ]
    }
   ],
   "source": [
    "for i in range(5, 21, 3):\n",
    "    print(i)\n"
   ]
  },
  {
   "cell_type": "markdown",
   "metadata": {},
   "source": [
    "9. Solicitar al usuario que ingrese una frase y luego imprimir un listado de las vocales que\n",
    "aparecen en esa frase (sin repetirlas)."
   ]
  },
  {
   "cell_type": "code",
   "execution_count": 22,
   "metadata": {},
   "outputs": [
    {
     "name": "stdout",
     "output_type": "stream",
     "text": [
      "Vocales en la frase son: {'e', 'o', 'u', 'a'}\n"
     ]
    }
   ],
   "source": [
    "frase = input(\"Introduzca la frase que quieras: \")\n",
    "\n",
    "lasVocales = set()\n",
    "for char in frase:\n",
    "    if char.lower() in \"aeiou\":\n",
    "        lasVocales.add(char.lower())\n",
    "print(f\"Vocales en la frase son: {lasVocales}\")\n"
   ]
  },
  {
   "cell_type": "markdown",
   "metadata": {},
   "source": [
    "10. Solicitar al usuario que ingrese una frase y luego imprimir la cantidad de vocales que se\n",
    "encuentran en dicha frase."
   ]
  },
  {
   "cell_type": "code",
   "execution_count": 23,
   "metadata": {},
   "outputs": [
    {
     "name": "stdout",
     "output_type": "stream",
     "text": [
      "La cantidad de vocales que hay en la frase es de: 2\n"
     ]
    }
   ],
   "source": [
    "frase = input(\"Teclee la frase que quieras:: \")\n",
    "n = 0\n",
    "vocales = {'a', 'e', 'i', 'o', 'u'}\n",
    "\n",
    "for char in frase:\n",
    "    if char.lower() in vocales:\n",
    "       n+= 1\n",
    "print(f\"La cantidad de vocales que hay en la frase es de: {n}\")\n"
   ]
  },
  {
   "cell_type": "markdown",
   "metadata": {},
   "source": [
    "11. Escribir un programa que muestre la sumatoria de todos los números entre el 0 y el 100."
   ]
  },
  {
   "cell_type": "code",
   "execution_count": 24,
   "metadata": {},
   "outputs": [
    {
     "name": "stdout",
     "output_type": "stream",
     "text": [
      "La sumatoria de los números entre 0 y 100 es de: 5050\n"
     ]
    }
   ],
   "source": [
    "\n",
    "suma = 0\n",
    "for n in range(101):\n",
    "    suma += n\n",
    "print(f\"La sumatoria de los números entre 0 y 100 es de: {suma}\")\n"
   ]
  },
  {
   "cell_type": "markdown",
   "metadata": {},
   "source": [
    "12. Escribir un programa que muestre la sumatoria de todos los múltiplos de 3 encontrados \n",
    "entre el 0 y el 100."
   ]
  },
  {
   "cell_type": "code",
   "execution_count": 25,
   "metadata": {},
   "outputs": [
    {
     "name": "stdout",
     "output_type": "stream",
     "text": [
      "Suma de múltiplos de 3 entre 0 y 100: 1683\n"
     ]
    }
   ],
   "source": [
    "\n",
    "suma_mult_tres = 0\n",
    "for numero in range(0, 101, 3):\n",
    "    suma_mult_tres += numero\n",
    "print(f\"Suma de múltiplos de 3 entre 0 y 100: {suma_mult_tres}\")\n"
   ]
  },
  {
   "cell_type": "markdown",
   "metadata": {},
   "source": [
    "13. Escribir un programa que permita al usuario ingresar 6 números enteros, que pueden ser \n",
    "positivos o negativos. Al finalizar, mostrar la sumatoria de los números negativos y el promedio \n",
    "de los positivos. No olvides que no es posible dividir por cero, por lo que es necesario evitar \n",
    "que el programa arroje un error si no se ingresaron números positivos."
   ]
  },
  {
   "cell_type": "code",
   "execution_count": 31,
   "metadata": {},
   "outputs": [
    {
     "name": "stdout",
     "output_type": "stream",
     "text": [
      "\n",
      "Suma de los números negativos: -4\n",
      "Promedio de los números positivos: 4.25\n"
     ]
    }
   ],
   "source": [
    "sNeg = 0\n",
    "nPos = 0\n",
    "sPos = 0\n",
    "for i in range(6):\n",
    "    numero = int(input(\"Número entero= \"))\n",
    "    if numero < 0:\n",
    "        sNeg += numero\n",
    "    elif numero > 0:\n",
    "        nPos += 1\n",
    "        sPos += numero\n",
    "\n",
    "if nPos > 0:\n",
    "    mediaPositivo = sPos / nPos\n",
    "else:\n",
    "    mPositivo = 0\n",
    "\n",
    "print()\n",
    "print(f\"Suma de los números negativos: {sNeg}\")\n",
    "print(f\"Promedio de los números positivos: {mediaPositivo}\")\n"
   ]
  },
  {
   "cell_type": "markdown",
   "metadata": {},
   "source": [
    "14. Dado un número entero positivo, mostrar su factorial. El factorial de un número se obtiene \n",
    "multiplicando todos los números enteros positivos que hay entre el 1 y ese número."
   ]
  },
  {
   "cell_type": "code",
   "execution_count": 33,
   "metadata": {},
   "outputs": [
    {
     "name": "stdout",
     "output_type": "stream",
     "text": [
      "El factorial del número ingresado es: 24\n"
     ]
    }
   ],
   "source": [
    "n = int(input(\"Numero entero positivo: \"))\n",
    "\n",
    "if n < 0:\n",
    "    print(\"Entrada no válida, el número debe ser entero positivo.\")\n",
    "else:\n",
    "    fact = 1\n",
    "    for i in range(1, n + 1):\n",
    "        fact*= i\n",
    "    print(f\"El factorial del número ingresado es: {fact}\")"
   ]
  },
  {
   "cell_type": "markdown",
   "metadata": {},
   "source": [
    "15. Escribir un programa que pida al usuario una palabra y luego muestre por pantalla una a \n",
    "una las letras de la palabra introducida empezando por la última."
   ]
  },
  {
   "cell_type": "code",
   "execution_count": 1,
   "metadata": {},
   "outputs": [
    {
     "name": "stdout",
     "output_type": "stream",
     "text": [
      "RESULTADO EMPEZANDO POR LA ULTIMA LETRA DE LA PALABRA:\n",
      "o, d, l, a, n, i, e, R, \n",
      "\n",
      "RESULTADO EMPEZANDO POR LA PRIMERA LETRA DE LA PALABRA ENTRADA:\n",
      "R,  e,  i,  n,  a,  l,  d,  o,  \n"
     ]
    }
   ],
   "source": [
    "laWord = input(\"Teclee la palabra: \")\n",
    "\n",
    "print(\"RESULTADO EMPEZANDO POR LA ULTIMA LETRA DE LA PALABRA ENTRADA:\")\n",
    "for char in laWord[::-1]:\n",
    "    print(char + \",\", end=\" \")\n",
    "\n",
    "print(); print()\n",
    "\n",
    "print(\"RESULTADO EMPEZANDO POR LA PRIMERA LETRA DE LA PALABRA ENTRADA:\")\n",
    "for char in laWord:\n",
    "    print(char+\", \", end=\" \") \n",
    "print()    \n",
    "       \n",
    "      "
   ]
  }
 ],
 "metadata": {
  "kernelspec": {
   "display_name": "Python 3",
   "language": "python",
   "name": "python3"
  },
  "language_info": {
   "codemirror_mode": {
    "name": "ipython",
    "version": 3
   },
   "file_extension": ".py",
   "mimetype": "text/x-python",
   "name": "python",
   "nbconvert_exporter": "python",
   "pygments_lexer": "ipython3",
   "version": "3.12.1"
  }
 },
 "nbformat": 4,
 "nbformat_minor": 2
}

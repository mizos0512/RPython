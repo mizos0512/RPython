{
 "cells": [
  {
   "cell_type": "code",
   "execution_count": 6,
   "metadata": {},
   "outputs": [],
   "source": [
    "# LISTAS\n",
    "lista_vacia=[]\n",
    "\n",
    "lenguajes=['Python','Java','Scala', 'JavaScript']\n",
    "\n",
    "sucesion=[0,1,1,2,3,5,8,13]\n",
    "\n",
    "data=['Tenerife',{'cielo':'limpio','temp':24},3718,(28.2933947,-16.5226597)]\n",
    "\n",
    "# LISTA DE CINCO CIUDADES\n",
    "\n",
    "ciudades=['Las Vegas', 'New York', 'Miami', 'Madrid', 'Roma', 'Santo Domingo']\n",
    "\n",
    "#////////////////////////////////////////////////////////////////\n",
    "\n",
    "# CONVERSIÓN\n",
    "# Para convertir otros tipos de datos en una lista podemos uisar la función 'list'\n",
    "# Conversión desde un cadena de texto\n",
    "\n",
    "list('Python')\n"
   ]
  },
  {
   "cell_type": "code",
   "execution_count": 4,
   "metadata": {},
   "outputs": [
    {
     "data": {
      "text/plain": [
       "[0, 1, 2, 3, 4, 5, 6, 7, 8, 9]"
      ]
     },
     "execution_count": 4,
     "metadata": {},
     "output_type": "execute_result"
    }
   ],
   "source": [
    "list(range(10))"
   ]
  },
  {
   "cell_type": "code",
   "execution_count": 6,
   "metadata": {},
   "outputs": [
    {
     "data": {
      "text/plain": [
       "[]"
      ]
     },
     "execution_count": 6,
     "metadata": {},
     "output_type": "execute_result"
    }
   ],
   "source": [
    "# LISTA VACÍA\n",
    "\n",
    "list()\n",
    "[]"
   ]
  },
  {
   "cell_type": "code",
   "execution_count": 12,
   "metadata": {},
   "outputs": [
    {
     "name": "stdout",
     "output_type": "stream",
     "text": [
      "Agua ,  Huevo ,  Aceite\n",
      "Aceite\n"
     ]
    }
   ],
   "source": [
    "# OPERACIONES CON LISTAS\n",
    "\n",
    "compra = ['Agua','Huevo','Aceite']\n",
    "print(compra[0],', ', compra[1], ', ', compra[2])\n",
    "print(compra[-1])"
   ]
  },
  {
   "cell_type": "code",
   "execution_count": 15,
   "metadata": {},
   "outputs": [
    {
     "name": "stdout",
     "output_type": "stream",
     "text": [
      "['Agua', 'Huevo', 'Aceite']  -  ['Agua', 'Huevo', 'Aceite']  -  ['Aceite', 'Sal']  -  ['Limón', 'Sal', 'Aceite']  -  ['Limón', 'Sal', 'Aceite', 'Huevo', 'Agua']\n"
     ]
    }
   ],
   "source": [
    "# TROCEAR UNA LISTA\n",
    "\n",
    "compra = ['Agua','Huevo','Aceite', 'Sal', 'Limón']\n",
    "print(compra[0:3], ' - ', compra[:3],' - ',compra[2:4],' - ',compra[-1:-4:-1], ' - ', compra[::-1])\n"
   ]
  },
  {
   "cell_type": "code",
   "execution_count": 16,
   "metadata": {},
   "outputs": [
    {
     "data": {
      "text/plain": [
       "['Agua', 'Huevo', 'Aceite', 'Sal', 'Limón']"
      ]
     },
     "execution_count": 16,
     "metadata": {},
     "output_type": "execute_result"
    }
   ],
   "source": [
    "compra"
   ]
  },
  {
   "cell_type": "code",
   "execution_count": 17,
   "metadata": {},
   "outputs": [
    {
     "data": {
      "text/plain": [
       "[]"
      ]
     },
     "execution_count": 17,
     "metadata": {},
     "output_type": "execute_result"
    }
   ],
   "source": [
    "compra[10:]"
   ]
  },
  {
   "cell_type": "code",
   "execution_count": 18,
   "metadata": {},
   "outputs": [
    {
     "data": {
      "text/plain": [
       "['Agua', 'Huevo', 'Aceite', 'Sal']"
      ]
     },
     "execution_count": 18,
     "metadata": {},
     "output_type": "execute_result"
    }
   ],
   "source": [
    "compra = ['Agua','Huevo','Aceite', 'Sal', 'Limón']\n",
    "compra[-700:4]"
   ]
  },
  {
   "cell_type": "code",
   "execution_count": 19,
   "metadata": {},
   "outputs": [
    {
     "data": {
      "text/plain": [
       "['Aceite', 'Sal', 'Limón']"
      ]
     },
     "execution_count": 19,
     "metadata": {},
     "output_type": "execute_result"
    }
   ],
   "source": [
    "compra[2:100]"
   ]
  },
  {
   "cell_type": "code",
   "execution_count": 20,
   "metadata": {},
   "outputs": [
    {
     "name": "stdout",
     "output_type": "stream",
     "text": [
      "['Limón', 'Sal', 'Aceite', 'Huevo', 'Agua']  -  ['Limón', 'Sal', 'Aceite', 'Huevo', 'Agua']\n"
     ]
    }
   ],
   "source": [
    "# INVERTIR UNA LISTA\n",
    "\n",
    "print(compra[::-1],' - ',list(reversed(compra)))"
   ]
  },
  {
   "cell_type": "code",
   "execution_count": 25,
   "metadata": {},
   "outputs": [
    {
     "name": "stdout",
     "output_type": "stream",
     "text": [
      "['Limón', 'Sal', 'Aceite', 'Huevo', 'Agua']\n"
     ]
    }
   ],
   "source": [
    "# MODIFICANDO LA LISTA ORIGINAL  UTILIZANDO LA FUNCIÓN reverse()\n",
    "\n",
    "compra = ['Agua','Huevo','Aceite', 'Sal', 'Limón']\n",
    "compra.reverse()\n",
    "print(compra)"
   ]
  },
  {
   "cell_type": "code",
   "execution_count": 26,
   "metadata": {},
   "outputs": [
    {
     "data": {
      "text/plain": [
       "['Agua', 'Huevo', 'Aceite', 'Atún']"
      ]
     },
     "execution_count": 26,
     "metadata": {},
     "output_type": "execute_result"
    }
   ],
   "source": [
    "# AÑADIR ELEMENTOS AL FINAL DE LA LISTA\n",
    "\n",
    "compra = ['Agua','Huevo','Aceite']\n",
    "compra.append('Atún')\n",
    "compra"
   ]
  },
  {
   "cell_type": "code",
   "execution_count": 28,
   "metadata": {},
   "outputs": [
    {
     "data": {
      "text/plain": [
       "[0, 2, 4, 6, 8, 10, 12, 14, 16, 18]"
      ]
     },
     "execution_count": 28,
     "metadata": {},
     "output_type": "execute_result"
    }
   ],
   "source": [
    "# CREANDO LISTAS DESDE OTRA LISTA VACÍA\n",
    "\n",
    "numeros_pares=[]\n",
    "for i in range(20):\n",
    "    if i%2==0:\n",
    "        numeros_pares.append(i)\n",
    "numeros_pares        \n",
    "     "
   ]
  },
  {
   "cell_type": "code",
   "execution_count": 29,
   "metadata": {},
   "outputs": [
    {
     "data": {
      "text/plain": [
       "['Agua', 'Jamón', 'Huevo', 'Aceite']"
      ]
     },
     "execution_count": 29,
     "metadata": {},
     "output_type": "execute_result"
    }
   ],
   "source": [
    "# AÑADIR EN CUALQUIER POSICIÓN DE UNA LISTA\n",
    "\n",
    "compra = ['Agua','Huevo','Aceite']\n",
    "\n",
    "compra.insert(1,'Jamón')\n",
    "compra"
   ]
  },
  {
   "cell_type": "code",
   "execution_count": 30,
   "metadata": {},
   "outputs": [
    {
     "data": {
      "text/plain": [
       "['Agua', 'Jamón', 'Huevo', 'Queso', 'Aceite']"
      ]
     },
     "execution_count": 30,
     "metadata": {},
     "output_type": "execute_result"
    }
   ],
   "source": [
    "compra.insert(3,'Queso')\n",
    "compra\n"
   ]
  },
  {
   "cell_type": "code",
   "execution_count": 31,
   "metadata": {},
   "outputs": [
    {
     "data": {
      "text/plain": [
       "['Agua', 'Jamón', 'Huevo', 'Queso', 'Aceite', 'Mermelada']"
      ]
     },
     "execution_count": 31,
     "metadata": {},
     "output_type": "execute_result"
    }
   ],
   "source": [
    "compra.insert(100,'Mermelada')\n",
    "compra"
   ]
  },
  {
   "cell_type": "code",
   "execution_count": 32,
   "metadata": {},
   "outputs": [
    {
     "data": {
      "text/plain": [
       "['Arroz', 'Agua', 'Jamón', 'Huevo', 'Queso', 'Aceite', 'Mermelada']"
      ]
     },
     "execution_count": 32,
     "metadata": {},
     "output_type": "execute_result"
    }
   ],
   "source": [
    "compra.insert(-100,'Arroz')\n",
    "compra"
   ]
  },
  {
   "cell_type": "code",
   "execution_count": 33,
   "metadata": {},
   "outputs": [
    {
     "data": {
      "text/plain": [
       "['Agua',\n",
       " 'Huevo',\n",
       " 'Aceite',\n",
       " 'Agua',\n",
       " 'Huevo',\n",
       " 'Aceite',\n",
       " 'Agua',\n",
       " 'Huevo',\n",
       " 'Aceite']"
      ]
     },
     "execution_count": 33,
     "metadata": {},
     "output_type": "execute_result"
    }
   ],
   "source": [
    "# REPETIR ELEMENTOS\n",
    "\n",
    "compra = ['Agua','Huevo','Aceite']\n",
    "compra * 3"
   ]
  },
  {
   "cell_type": "code",
   "execution_count": 34,
   "metadata": {},
   "outputs": [
    {
     "data": {
      "text/plain": [
       "['Agua', 'Huevo', 'Aceite', 'Naranja', 'Manzana', 'Piña']"
      ]
     },
     "execution_count": 34,
     "metadata": {},
     "output_type": "execute_result"
    }
   ],
   "source": [
    "# COMBINAR LISTAS\n",
    "\n",
    "compra = ['Agua','Huevo','Aceite']\n",
    "fruteria = ['Naranja','Manzana','Piña']\n",
    "\n",
    "compra + fruteria\n"
   ]
  },
  {
   "cell_type": "code",
   "execution_count": 36,
   "metadata": {},
   "outputs": [
    {
     "data": {
      "text/plain": [
       "['Agua', 'Huevo', 'Aceite', 'Naranja', 'Manzana', 'Piña']"
      ]
     },
     "execution_count": 36,
     "metadata": {},
     "output_type": "execute_result"
    }
   ],
   "source": [
    "# MODIFICANDO LA LISTA ORIGINAL MEDIANTE LA FUNCIÓN extend()\n",
    "\n",
    "compra = ['Agua','Huevo','Aceite']\n",
    "fruteria = ['Naranja','Manzana','Piña']\n",
    "\n",
    "compra.extend(fruteria)\n",
    "compra"
   ]
  },
  {
   "cell_type": "code",
   "execution_count": 47,
   "metadata": {},
   "outputs": [
    {
     "name": "stdout",
     "output_type": "stream",
     "text": [
      "['Agua', 'Huevo', 'Aceite', 'L', 'i', 'm', 'ó', 'n']\n"
     ]
    }
   ],
   "source": [
    "# Tener en cuenta que extend() funciona adecuadamente si pasamos una lista cmo argumento. En otro caso. quizas los resultados mo sean los esperados. Veamos un ejemplo:\n",
    "\n",
    "compra = ['Agua','Huevo','Aceite']\n",
    "compra.extend('Limón')\n",
    "print(compra, sep=(' ,'))\n"
   ]
  },
  {
   "cell_type": "code",
   "execution_count": 48,
   "metadata": {},
   "outputs": [
    {
     "data": {
      "text/plain": [
       "['Agua', 'Huevo', 'Aceite', ['Naranja', 'Manzana', 'Piña']]"
      ]
     },
     "execution_count": 48,
     "metadata": {},
     "output_type": "execute_result"
    }
   ],
   "source": [
    "# SE PODRIA PENSAR EN append() PERO EN REALIDAD NO FUNCIONA COMO LO ESPERAMOS, AÑADIRíA A LA LISTA COMO UN ELEMENTO MAS\n",
    "\n",
    "compra = ['Agua','Huevo','Aceite']\n",
    "fruteria = ['Naranja','Manzana','Piña']\n",
    "\n",
    "compra.append(fruteria)\n",
    "compra\n"
   ]
  },
  {
   "cell_type": "code",
   "execution_count": 49,
   "metadata": {},
   "outputs": [
    {
     "data": {
      "text/plain": [
       "['Jugo', 'Huevo', 'Aceite']"
      ]
     },
     "execution_count": 49,
     "metadata": {},
     "output_type": "execute_result"
    }
   ],
   "source": [
    "# MODIFICANDO UNA LISTA\n",
    "\n",
    "compra = ['Agua','Huevo','Aceite']\n",
    "\n",
    "compra[0] = 'Jugo'\n",
    "\n",
    "compra"
   ]
  },
  {
   "cell_type": "code",
   "execution_count": 51,
   "metadata": {},
   "outputs": [
    {
     "ename": "IndexError",
     "evalue": "list assignment index out of range",
     "output_type": "error",
     "traceback": [
      "\u001b[1;31m---------------------------------------------------------------------------\u001b[0m",
      "\u001b[1;31mIndexError\u001b[0m                                Traceback (most recent call last)",
      "Cell \u001b[1;32mIn[51], line 3\u001b[0m\n\u001b[0;32m      1\u001b[0m \u001b[38;5;66;03m# CUANDO SE ACCEDE A UN INDICE  NO VÁLIDO SE DEVUELVE ERROR\u001b[39;00m\n\u001b[1;32m----> 3\u001b[0m compra[\u001b[38;5;241m100\u001b[39m]\u001b[38;5;241m=\u001b[39m\u001b[38;5;124m'\u001b[39m\u001b[38;5;124mChocolate\u001b[39m\u001b[38;5;124m'\u001b[39m\n\u001b[0;32m      4\u001b[0m compra\n",
      "\u001b[1;31mIndexError\u001b[0m: list assignment index out of range"
     ]
    }
   ],
   "source": [
    "# CUANDO SE ACCEDE A UN INDICE  NO VÁLIDO SE DEVUELVE ERROR\n",
    "\n",
    "compra[100]='Chocolate'\n",
    "compra"
   ]
  },
  {
   "cell_type": "code",
   "execution_count": null,
   "metadata": {},
   "outputs": [],
   "source": []
  }
 ],
 "metadata": {
  "kernelspec": {
   "display_name": "Curso_Python",
   "language": "python",
   "name": "python3"
  },
  "language_info": {
   "codemirror_mode": {
    "name": "ipython",
    "version": 3
   },
   "file_extension": ".py",
   "mimetype": "text/x-python",
   "name": "python",
   "nbconvert_exporter": "python",
   "pygments_lexer": "ipython3",
   "version": "3.12.1"
  }
 },
 "nbformat": 4,
 "nbformat_minor": 2
}

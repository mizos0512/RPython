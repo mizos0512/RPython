{
 "cells": [
  {
   "cell_type": "markdown",
   "id": "9fbbe553-4bbb-49a9-8169-dcba7d5d5080",
   "metadata": {},
   "source": [
    "# Igual que en los ejercicios anteriores debes explicar que hace cada código resuelto. \n",
    "Con el tratamiento de errores haciendo uso de las excepciones, todo el código se ubica dentro del bloque try-except, de haber un tipo de error, para que el programa no aborte, de hace uso de las 'excepciones' y el control pasa a ejecutar las líneas que vienen después del 'except' y se hace la gestión de error cotresppndiente indicando el mensaje segun el error que se levantó.\n"
   ]
  },
  {
   "cell_type": "markdown",
   "id": "103008fb-f49d-4766-957c-b63e2e4aeef8",
   "metadata": {},
   "source": [
    "1 - Localiza el error en el siguiente bloque de código. Crea una excepción para evitar que el programa se bloquee y además explica en un mensaje al usuario la causa y/o solución:\n",
    "'resultado = 10/0'"
   ]
  },
  {
   "cell_type": "code",
   "execution_count": 1,
   "id": "270cb401-d6f7-4cc8-b0f5-dbf48e38267f",
   "metadata": {},
   "outputs": [
    {
     "ename": "ZeroDivisionError",
     "evalue": "division by zero",
     "output_type": "error",
     "traceback": [
      "\u001b[1;31m---------------------------------------------------------------------------\u001b[0m",
      "\u001b[1;31mZeroDivisionError\u001b[0m                         Traceback (most recent call last)",
      "Cell \u001b[1;32mIn[1], line 1\u001b[0m\n\u001b[1;32m----> 1\u001b[0m resultado \u001b[38;5;241m=\u001b[39m \u001b[38;5;241;43m10\u001b[39;49m\u001b[38;5;241;43m/\u001b[39;49m\u001b[38;5;241;43m0\u001b[39;49m\n",
      "\u001b[1;31mZeroDivisionError\u001b[0m: division by zero"
     ]
    }
   ],
   "source": [
    "resultado = 10/0"
   ]
  },
  {
   "cell_type": "code",
   "execution_count": 2,
   "id": "385e648e-f995-4895-824d-59d36a7ca9a1",
   "metadata": {},
   "outputs": [
    {
     "name": "stdout",
     "output_type": "stream",
     "text": [
      "Error: No es posible dividir por cero, debes introducir un numero distinto de cero\n"
     ]
    }
   ],
   "source": [
    "try:\n",
    "    resultado = 10/0 # Aqui se va a levantar un error de división por cero, no permitido en Matematica.\n",
    "except ZeroDivisionError: # Clase predefinida por Python para manejar los errores que ocurren cuando se intenta dividir por cero\n",
    "    print('Error: No es posible dividir por cero, debes introducir un numero distinto de cero')"
   ]
  },
  {
   "cell_type": "markdown",
   "id": "215ff42a-63f3-4dde-8ddb-3253abdd0d89",
   "metadata": {},
   "source": [
    "2 - Localiza el error en el siguiente bloque de código. Crea una excepción para evitar que el programa se bloquee y además explica en un mensaje al usuario la causa y/o solución:\n",
    "'''\n",
    "lista = [1, 2, 3, 4, 5]\n",
    "lista[10]\n",
    "'''"
   ]
  },
  {
   "cell_type": "code",
   "execution_count": 3,
   "id": "7539d909-198f-4aac-86cf-1d7eee9117dc",
   "metadata": {},
   "outputs": [
    {
     "ename": "IndexError",
     "evalue": "list index out of range",
     "output_type": "error",
     "traceback": [
      "\u001b[1;31m---------------------------------------------------------------------------\u001b[0m",
      "\u001b[1;31mIndexError\u001b[0m                                Traceback (most recent call last)",
      "Cell \u001b[1;32mIn[3], line 2\u001b[0m\n\u001b[0;32m      1\u001b[0m lista \u001b[38;5;241m=\u001b[39m [\u001b[38;5;241m1\u001b[39m, \u001b[38;5;241m2\u001b[39m, \u001b[38;5;241m3\u001b[39m, \u001b[38;5;241m4\u001b[39m, \u001b[38;5;241m5\u001b[39m]\n\u001b[1;32m----> 2\u001b[0m \u001b[43mlista\u001b[49m\u001b[43m[\u001b[49m\u001b[38;5;241;43m10\u001b[39;49m\u001b[43m]\u001b[49m\n",
      "\u001b[1;31mIndexError\u001b[0m: list index out of range"
     ]
    }
   ],
   "source": [
    "lista = [1, 2, 3, 4, 5]\n",
    "lista[10]"
   ]
  },
  {
   "cell_type": "code",
   "execution_count": 5,
   "id": "58fce99f-09e5-4450-a7ec-4a5171785621",
   "metadata": {},
   "outputs": [
    {
     "name": "stdout",
     "output_type": "stream",
     "text": [
      "Error: El indice al que intentas acceder se encuentra fuera de rango.     Debes utilizar un número mayor o igual que cero y menor que la longitud de la lista 5\n"
     ]
    }
   ],
   "source": [
    "lista = [1, 2, 3, 4, 5]\n",
    "try:\n",
    "    lista[10] # Aqui se va a levantar un error de indices, ya que se intenta acceder a un índice que está fuera de rango.\n",
    "except IndexError: # Una clase predefinida para manejar errores de índices\n",
    "    print('Error: El indice al que intentas acceder se encuentra fuera de rango. \\\n",
    "    Debes utilizar un número mayor o igual que cero y menor que la longitud de la lista', len(lista))\n",
    "\"\"\"\n",
    "\"\"\"    "
   ]
  },
  {
   "cell_type": "markdown",
   "id": "0d31c433-055b-43db-b8ec-ed3698ce2d1a",
   "metadata": {},
   "source": [
    "3 - Localiza el error en el siguiente bloque de código. Crea una excepción para evitar que el programa se bloquee y además explica en un mensaje al usuario la causa y/o solución:\n",
    "\n",
    "colores = { 'rojo':'red', 'verde':'green', 'negro':'black' }\n",
    "colores['blanco']"
   ]
  },
  {
   "cell_type": "markdown",
   "id": "66eae8b9-9b20-471b-b666-ca3cdbde65f3",
   "metadata": {},
   "source": [
    "Localizamos el error:"
   ]
  },
  {
   "cell_type": "code",
   "execution_count": 6,
   "id": "b4a59421-c812-44f6-bac5-6cb524a9b455",
   "metadata": {},
   "outputs": [
    {
     "ename": "KeyError",
     "evalue": "'blanco'",
     "output_type": "error",
     "traceback": [
      "\u001b[1;31m---------------------------------------------------------------------------\u001b[0m",
      "\u001b[1;31mKeyError\u001b[0m                                  Traceback (most recent call last)",
      "Cell \u001b[1;32mIn[6], line 2\u001b[0m\n\u001b[0;32m      1\u001b[0m colores \u001b[38;5;241m=\u001b[39m { \u001b[38;5;124m'\u001b[39m\u001b[38;5;124mrojo\u001b[39m\u001b[38;5;124m'\u001b[39m:\u001b[38;5;124m'\u001b[39m\u001b[38;5;124mred\u001b[39m\u001b[38;5;124m'\u001b[39m, \u001b[38;5;124m'\u001b[39m\u001b[38;5;124mverde\u001b[39m\u001b[38;5;124m'\u001b[39m:\u001b[38;5;124m'\u001b[39m\u001b[38;5;124mgreen\u001b[39m\u001b[38;5;124m'\u001b[39m, \u001b[38;5;124m'\u001b[39m\u001b[38;5;124mnegro\u001b[39m\u001b[38;5;124m'\u001b[39m:\u001b[38;5;124m'\u001b[39m\u001b[38;5;124mblack\u001b[39m\u001b[38;5;124m'\u001b[39m }\n\u001b[1;32m----> 2\u001b[0m \u001b[43mcolores\u001b[49m\u001b[43m[\u001b[49m\u001b[38;5;124;43m'\u001b[39;49m\u001b[38;5;124;43mblanco\u001b[39;49m\u001b[38;5;124;43m'\u001b[39;49m\u001b[43m]\u001b[49m\n",
      "\u001b[1;31mKeyError\u001b[0m: 'blanco'"
     ]
    }
   ],
   "source": [
    "colores = { 'rojo':'red', 'verde':'green', 'negro':'black' }\n",
    "colores['blanco']"
   ]
  },
  {
   "cell_type": "markdown",
   "id": "487e757b-c3e8-4d60-bd40-10ba5bedb392",
   "metadata": {},
   "source": [
    "El tipo de error es KeyError"
   ]
  },
  {
   "cell_type": "code",
   "execution_count": 7,
   "id": "39ba8c6b-ddd2-45d3-8376-093847713661",
   "metadata": {},
   "outputs": [
    {
     "name": "stdout",
     "output_type": "stream",
     "text": [
      "No se encuentra la clave del diccionario\n"
     ]
    }
   ],
   "source": [
    "colores = { 'rojo':'red', 'verde':'green', 'negro':'black' }\n",
    "try:\n",
    "    pass\n",
    "    colores['blanco'] # Se intenta acceder a una 'clave' del diccionario que no existe\n",
    "except KeyError: #Clase predefinida en Python para manejar los errores que ocurren en claves en diccionarios\n",
    "    print('No se encuentra la clave del diccionario')"
   ]
  },
  {
   "cell_type": "markdown",
   "id": "08c52f73-4b99-4a6e-85d8-78380f8356fa",
   "metadata": {},
   "source": [
    "4 - Localiza el error en el siguiente bloque de código. Crea una excepción para evitar que el programa se bloquee y además explica en un mensaje al usuario la causa y/o solución:\n",
    "resultado = 15 + \"20\""
   ]
  },
  {
   "cell_type": "markdown",
   "id": "542b4f54-d2bb-48ba-9b1c-6bbd807a3a68",
   "metadata": {},
   "source": [
    "Localizamos el error:"
   ]
  },
  {
   "cell_type": "code",
   "execution_count": 8,
   "id": "04d33fba-115f-4a22-a0bb-c51a4b8b2510",
   "metadata": {},
   "outputs": [
    {
     "ename": "TypeError",
     "evalue": "unsupported operand type(s) for +: 'int' and 'str'",
     "output_type": "error",
     "traceback": [
      "\u001b[1;31m---------------------------------------------------------------------------\u001b[0m",
      "\u001b[1;31mTypeError\u001b[0m                                 Traceback (most recent call last)",
      "Cell \u001b[1;32mIn[8], line 1\u001b[0m\n\u001b[1;32m----> 1\u001b[0m resultado \u001b[38;5;241m=\u001b[39m \u001b[38;5;241;43m15\u001b[39;49m\u001b[43m \u001b[49m\u001b[38;5;241;43m+\u001b[39;49m\u001b[43m \u001b[49m\u001b[38;5;124;43m\"\u001b[39;49m\u001b[38;5;124;43m20\u001b[39;49m\u001b[38;5;124;43m\"\u001b[39;49m\n",
      "\u001b[1;31mTypeError\u001b[0m: unsupported operand type(s) for +: 'int' and 'str'"
     ]
    }
   ],
   "source": [
    "resultado = 15 + \"20\""
   ]
  },
  {
   "cell_type": "markdown",
   "id": "cf1f52d8-3515-4d12-8bed-86b254872a87",
   "metadata": {},
   "source": [
    "El tipo de error es: TypeError"
   ]
  },
  {
   "cell_type": "code",
   "execution_count": 9,
   "id": "a80e35fc-3706-4434-b266-1921cda8886a",
   "metadata": {},
   "outputs": [
    {
     "ename": "TypeError",
     "evalue": "can only concatenate str (not \"int\") to str",
     "output_type": "error",
     "traceback": [
      "\u001b[1;31m---------------------------------------------------------------------------\u001b[0m",
      "\u001b[1;31mTypeError\u001b[0m                                 Traceback (most recent call last)",
      "Cell \u001b[1;32mIn[9], line 1\u001b[0m\n\u001b[1;32m----> 1\u001b[0m resultado \u001b[38;5;241m=\u001b[39m \u001b[38;5;124;43m\"\u001b[39;49m\u001b[38;5;124;43m20\u001b[39;49m\u001b[38;5;124;43m\"\u001b[39;49m\u001b[43m \u001b[49m\u001b[38;5;241;43m+\u001b[39;49m\u001b[43m \u001b[49m\u001b[38;5;241;43m15\u001b[39;49m\n",
      "\u001b[1;31mTypeError\u001b[0m: can only concatenate str (not \"int\") to str"
     ]
    }
   ],
   "source": [
    "resultado = \"20\" + 15"
   ]
  },
  {
   "cell_type": "markdown",
   "id": "5c0d0561-46c3-461a-82e6-f514be701664",
   "metadata": {},
   "source": [
    "la salida el error es diferente según el orden, pero al menos es de tipo TypeError"
   ]
  },
  {
   "cell_type": "code",
   "execution_count": 10,
   "id": "f315af0f-181d-42e2-a436-432f034bc3ef",
   "metadata": {},
   "outputs": [
    {
     "name": "stdout",
     "output_type": "stream",
     "text": [
      "Error: Solo es posible sumar datos de un mismo tipo.    Debes transformar el número a cadena o la cadena a número.\n"
     ]
    }
   ],
   "source": [
    "try:\n",
    "    resultado = 15 + \"20\" #Se está intentando hacer una suma de un 'entero' con un 'caracter', lo cual no es posible\n",
    "except TypeError: # Clase predefinida en Python para manejar errores de 'Tipo'\n",
    "    print('Error: Solo es posible sumar datos de un mismo tipo.\\\n",
    "    Debes transformar el número a cadena o la cadena a número.')"
   ]
  },
  {
   "cell_type": "markdown",
   "id": "d55d0a8b-71bb-432c-b082-1fc2c75d4687",
   "metadata": {},
   "source": [
    "5 -  Realiza una función llamada **agregar_una_vez(lista, el)** que reciba una lista y un elemento. La función debe añadir el elemento al final de la lista con la condición de no repetir ningún elemento. Además si este elemento ya se encuentra en la lista se debe invocar un error de tipo **ValueError** que debes capturar y mostrar este mensaje en su lugar:\n",
    "'Error: Imposible añadir elementos duplicados => [elemento].'"
   ]
  },
  {
   "cell_type": "markdown",
   "id": "c483a924-11f0-4c63-a791-6f451be20e72",
   "metadata": {},
   "source": [
    "Cuando tengas la función intenta añadir los siguiente valores a la lista **10, -2, \"Hola\"** y luego muestra su contenido. Puedes utilizar la sintaxis \"elemento in lista\""
   ]
  },
  {
   "cell_type": "code",
   "execution_count": 13,
   "id": "da1402e7-f03a-4101-bbcc-62bc4565c35c",
   "metadata": {},
   "outputs": [
    {
     "name": "stdout",
     "output_type": "stream",
     "text": [
      "Error: Imposible añadir elementos duplicados => -2\n",
      "[1, 5, -2, 10, 'Hola']\n"
     ]
    }
   ],
   "source": [
    "elementos = [1, 5, -2]\n",
    "\n",
    "def agregar_una_vez(lista, el):\n",
    "    try:\n",
    "        if el in lista:\n",
    "            # Según el contexto del problema yo soy el que levanto el error con la palabra reservada 'raise', y el control pasaría a 'except ValueError' para dar el mensaje correspondiente\n",
    "            #El error se produce cuando se intenta añadir un elemento en la lista y este ya existe, evitando la duplicación.\n",
    "            raise ValueError\n",
    "        else:\n",
    "            lista.append(el)\n",
    "    except ValueError:\n",
    "        print(f'Error: Imposible añadir elementos duplicados => {el}')\n",
    "\n",
    "agregar_una_vez(elementos, 10)\n",
    "agregar_una_vez(elementos, -2)\n",
    "agregar_una_vez(elementos, 'Hola')\n",
    "print(elementos)"
   ]
  }
 ],
 "metadata": {
  "kernelspec": {
   "display_name": "Python 3 (ipykernel)",
   "language": "python",
   "name": "python3"
  },
  "language_info": {
   "codemirror_mode": {
    "name": "ipython",
    "version": 3
   },
   "file_extension": ".py",
   "mimetype": "text/x-python",
   "name": "python",
   "nbconvert_exporter": "python",
   "pygments_lexer": "ipython3",
   "version": "3.11.9"
  }
 },
 "nbformat": 4,
 "nbformat_minor": 5
}

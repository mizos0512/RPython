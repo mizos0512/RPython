{
 "cells": [
  {
   "cell_type": "markdown",
   "metadata": {},
   "source": [
    "Instalamos json con pip install json\n",
    "Conversión  de una cadena de JSON a Python\n",
    "- La función 'loads' toma una cadena JSON como entrada y devuelve un diccionario o una lista de Python.\n",
    "- Para multiples entradas loads devolverá una lista.\n",
    "- Un conjunto de datos que tiene una sola fila se llama entrada única, mientras que un conjunto de datos con mas de dos filas se llma entradas múltiples."
   ]
  },
  {
   "cell_type": "markdown",
   "metadata": {},
   "source": [
    "En este ejemplo cargamos una cadena JSON y la convertimos en un objeto Python"
   ]
  },
  {
   "cell_type": "code",
   "execution_count": 14,
   "metadata": {},
   "outputs": [
    {
     "name": "stdout",
     "output_type": "stream",
     "text": [
      "-----------------------------------------------------\n",
      "{'id': 'NC04', 'name': 'City Centre'}\n",
      "{'id': 'NC66', 'name': 'Cultural Quarter'}\n",
      "{'id': 'NC67', 'name': 'Riverside'}\n",
      "{'id': 'NC68', 'name': 'Clarendon Park'}\n",
      "{'id': 'NE09', 'name': 'Latimer'}\n",
      "{'id': 'NE10', 'name': 'Belgrave'}\n",
      "{'id': 'NE11', 'name': 'Rushey Mead'}\n",
      "{'id': 'NE12', 'name': 'Humberstone and Hamilton'}\n",
      "-----------------------------------------------------\n"
     ]
    }
   ],
   "source": [
    "#Importando el módulo JASON\n",
    "import json\n",
    "# Pasando los datos de JSON con el método loads()\n",
    "json_data =''' \n",
    "[\n",
    "    {\"id\":\"NC04\",\"name\":\"City Centre\"},\n",
    "    {\"id\": \"NC66\", \"name\": \"Cultural Quarter\"},\n",
    "    {\"id\": \"NC67\", \"name\": \"Riverside\"},\n",
    "    {\"id\": \"NC68\", \"name\": \"Clarendon Park\"},\n",
    "    {\"id\": \"NE09\", \"name\": \"Latimer\"},\n",
    "    {\"id\": \"NE10\", \"name\": \"Belgrave\"},\n",
    "    {\"id\": \"NE11\", \"name\": \"Rushey Mead\"},\n",
    "    {\"id\": \"NE12\", \"name\": \"Humberstone and Hamilton\"}\n",
    "]\n",
    "'''\n",
    "vecindario_england = json.loads(json_data)\n",
    "# Printing the result - list\n",
    "print(\"-----------------------------------------------------\")\n",
    "for dicc in vecindario_england:\n",
    "    print(dicc)\n",
    "print(\"-----------------------------------------------------\")\n",
    "\n"
   ]
  },
  {
   "cell_type": "markdown",
   "metadata": {},
   "source": [
    "Conversión de datos de Python a una cadena de JSON\n",
    "- La función dumps() de Python toma un objeto de Python y lo convierte en una cadena de JSON\n",
    "- Su sintaxis es variable = json.dumps(vecindario_england)\n",
    "En el siguiente ejemplo utilizaremos los datos de 'vecindario_england' almacenados anteriormente, como una lista de Python, y luego pasémolos a dumps() "
   ]
  },
  {
   "cell_type": "code",
   "execution_count": 23,
   "metadata": {},
   "outputs": [
    {
     "name": "stdout",
     "output_type": "stream",
     "text": [
      "<class 'str'>\n",
      "-----------------------------------------------------\n",
      "-----------------------------------------------------\n",
      "[{\"id\": \"NC04\"\n",
      " \"name\": \"City Centre\"}\n",
      " {\"id\": \"NC66\"\n",
      " \"name\": \"Cultural Quarter\"}\n",
      " {\"id\": \"NC67\"\n",
      " \"name\": \"Riverside\"}\n",
      " {\"id\": \"NC68\"\n",
      " \"name\": \"Clarendon Park\"}\n",
      " {\"id\": \"NE09\"\n",
      " \"name\": \"Latimer\"}\n",
      " {\"id\": \"NE10\"\n",
      " \"name\": \"Belgrave\"}\n",
      " {\"id\": \"NE11\"\n",
      " \"name\": \"Rushey Mead\"}\n",
      " {\"id\": \"NE12\"\n",
      " \"name\": \"Humberstone and Hamilton\"}]\n",
      "-----------------------------------------------------\n"
     ]
    }
   ],
   "source": [
    "import json\n",
    "\n",
    "lista_vecindario_england = json.dumps(vecindario_england)\n",
    "\n",
    "# Vamos a chequear el tipo de variable\n",
    "\n",
    "print(type(lista_vecindario_england))\n",
    "print(\"-----------------------------------------------------\")\n",
    "\n",
    "# Vamos a imprimir el resultado\n",
    "\n",
    "print(\"-----------------------------------------------------\")\n",
    "for l in lista_vecindario_england.split(','): \n",
    "  print(l)\n",
    "print(\"-----------------------------------------------------\")\n",
    "\n",
    "\n",
    "\n"
   ]
  },
  {
   "cell_type": "markdown",
   "metadata": {},
   "source": [
    "Conversión de duiferentes objetos Python en cadenas JSON\n",
    "- dictionary\n",
    "- string\n",
    "- int\n",
    "Vamos a crear cuatro tipos de variables que contengan los datos de Python mencionados anteriormente.\n",
    "Despues vamos a alimentar estos valores a 'dumps()' y luego ver la conversión a una cadena JSON."
   ]
  },
  {
   "cell_type": "code",
   "execution_count": 24,
   "metadata": {},
   "outputs": [
    {
     "name": "stdout",
     "output_type": "stream",
     "text": [
      "{\"name\": \"John Depp\", \"age\": 48}\n",
      "<class 'str'>\n",
      "-----------------------------------------------------\n",
      "[\"John\", \"Depp\", 48]\n",
      "<class 'str'>\n",
      "-----------------------------------------------------\n",
      "\"John Depp\"\n",
      "<class 'str'>\n",
      "-----------------------------------------------------\n",
      "48\n",
      "<class 'str'>\n",
      "-----------------------------------------------------\n"
     ]
    }
   ],
   "source": [
    "dictt= {\"name\": \"John Depp\", \"age\": 48}\n",
    "listt= [\"John\", \"Depp\", 48]\n",
    "strr= \"John Depp\"\n",
    "intt= 48\n",
    "\n",
    "# Objeto de Python 1 - diccionario\n",
    "print(json.dumps(dictt))\n",
    "# Chequeando el tipo\n",
    "print(type(json.dumps(dictt)))\n",
    "print(\"-----------------------------------------------------\")\n",
    "# Objeto de Python 2 - lista\n",
    "print(json.dumps(listt))\n",
    "# Chequeando el tipo\n",
    "print(type(json.dumps(listt)))\n",
    "print(\"-----------------------------------------------------\")\n",
    "# Objeto de Python 3 - String\n",
    "print(json.dumps(strr))\n",
    "# Chequeando el tipo\n",
    "print(type(json.dumps(strr)))\n",
    "print(\"-----------------------------------------------------\")\n",
    "# Objeto de Python 4 - integer\n",
    "print(json.dumps(intt))\n",
    "# Chequeando el tipo\n",
    "print(type(json.dumps(intt)))\n",
    "print(\"-----------------------------------------------------\")"
   ]
  },
  {
   "cell_type": "markdown",
   "metadata": {},
   "source": [
    "in importar el tipo de dato será siempre una cadena 'string'\n",
    "Probamos ahora con oyros tipos de datos"
   ]
  },
  {
   "cell_type": "code",
   "execution_count": 25,
   "metadata": {},
   "outputs": [
    {
     "name": "stdout",
     "output_type": "stream",
     "text": [
      "300.0\n",
      "<class 'str'>\n",
      "--------------------------\n",
      "true\n",
      "<class 'str'>\n",
      "--------------------------\n",
      "[\"Habana\", \"Madrid\", \"Whashington D.C.\"]\n",
      "<class 'str'>\n",
      "--------------------------\n"
     ]
    }
   ],
   "source": [
    "salario_John_Depp= 300.00\n",
    "millonario= True\n",
    "capitales=('Habana','Madrid','Whashington D.C.')\n",
    "\n",
    "print(json.dumps(salario_John_Depp))\n",
    "print(type(json.dumps(salario_John_Depp)))\n",
    "print('--------------------------')\n",
    "print(json.dumps(millonario))\n",
    "print(type(json.dumps(millonario)))\n",
    "print('--------------------------')\n",
    "print(json.dumps(capitales))\n",
    "print(type(json.dumps(capitales)))\n",
    "print('--------------------------')\n"
   ]
  },
  {
   "cell_type": "markdown",
   "metadata": {},
   "source": [
    "Conversión de datos JSON en un marco de trabajo 'dataframe'\n",
    "Ahora imagina que estás realizando un proyecto de ciencia de datos para alguien. Los detalles específicos del proyecto no son tan importantes en este caso. Entonces, el primer paso es recopilar los datos, y muchas veces en Kaggle, data.gov u otros sitios, los datos ya estarán en formato CSV. Sin embargo, en este caso, tu jefe o profesor te proporciona datos en formato JSON (me ha pasado). ¿Cómo abordar esta situación?\n",
    "La solución es bastante simple, no es ciencia espacial; más bien, necesitas usar 'loads()' y el método 'pandas.DataFrame()'. Para este ejemplo, usaré el conjunto de datos de Vecindarios en el Reino Unido (Leicestershire) mencionado anteriormente.\n"
   ]
  },
  {
   "cell_type": "code",
   "execution_count": 26,
   "metadata": {},
   "outputs": [
    {
     "name": "stdout",
     "output_type": "stream",
     "text": [
      "     id                      name\n",
      "0  NC04               City Centre\n",
      "1  NC66          Cultural Quarter\n",
      "2  NC67                 Riverside\n",
      "3  NC68            Clarendon Park\n",
      "4  NE09                   Latimer\n",
      "5  NE10                  Belgrave\n",
      "6  NE11               Rushey Mead\n",
      "7  NE12  Humberstone and Hamilton\n",
      "-----------------------------------------------------\n",
      "<class 'pandas.core.frame.DataFrame'>\n"
     ]
    }
   ],
   "source": [
    "# Importando Json y la librería de Pandas\n",
    "import json\n",
    "import pandas as pd\n",
    "# Usando el método 'loads()' para cargar los datos de JSON\n",
    "df = json.loads(json_data)\n",
    "# Pasa los datos de JSON generados a un datafrae de pandas\n",
    "df = pd.DataFrame(df)\n",
    "print(df)\n",
    "print(\"-----------------------------------------------------\")\n",
    "# Chequeando el tipo de datos\n",
    "print(type(df))"
   ]
  },
  {
   "cell_type": "markdown",
   "metadata": {},
   "source": [
    "Conclusión\n",
    "¡Felicidades a todos por haber completado exitosamente la lectura/implantación de este hermoso artículo \"Cómo manejar JSON en Python\"! Este tutorial cubre todos los conceptos junto con ejemplos específicos para entender el manejo de datos JSON en Python. Si tienen algún comentario o sugerencia, por favor utilicen la sección de comentarios sabiamente. Espero que hayan aprendido algo nuevo hoy. Manténganse atentos para más actualizaciones. Hasta la próxima, que tengan un buen día y manténganse seguros!\n",
    "\n",
    "Muchas Gracias!!"
   ]
  },
  {
   "cell_type": "markdown",
   "metadata": {},
   "source": []
  }
 ],
 "metadata": {
  "kernelspec": {
   "display_name": "Python 3",
   "language": "python",
   "name": "python3"
  },
  "language_info": {
   "codemirror_mode": {
    "name": "ipython",
    "version": 3
   },
   "file_extension": ".py",
   "mimetype": "text/x-python",
   "name": "python",
   "nbconvert_exporter": "python",
   "pygments_lexer": "ipython3",
   "version": "3.12.1"
  }
 },
 "nbformat": 4,
 "nbformat_minor": 2
}

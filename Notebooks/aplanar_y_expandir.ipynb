{
 "cells": [
  {
   "cell_type": "code",
   "execution_count": 5,
   "metadata": {},
   "outputs": [
    {
     "name": "stdout",
     "output_type": "stream",
     "text": [
      "   id  a   b\n",
      "0   1  1   4\n",
      "1   1  2   5\n",
      "2   1  3   8\n",
      "3   2  6   9\n",
      "4   2  7  10\n"
     ]
    }
   ],
   "source": [
    "import pandas as pd\n",
    "\n",
    "# Crear un DataFrame de ejemplo\n",
    "data = {\n",
    "    'id': [1, 2],\n",
    "    'data': [\n",
    "        {'a': [1, 2, 3], 'b': [4, 5]},\n",
    "        {'a': [6, 7], 'b': [8, 9, 10]}\n",
    "    ]\n",
    "}\n",
    "\n",
    "df = pd.DataFrame(data)\n",
    "print(df)\n",
    "\n",
    "# Paso 1: Expandir la columna 'data' que contiene diccionarios en varias columnas\n",
    "expanded_df = df['data'].apply(pd.Series)\n",
    "\n",
    "# Paso 2: Expandir las listas dentro de las columnas 'a' y 'b'\n",
    "expanded_a = expanded_df['a'].explode()\n",
    "expanded_b = expanded_df['b'].explode()\n",
    "\n",
    "# Paso 3: Repetir el índice del DataFrame original para combinar con los datos expandidos\n",
    "df_repeated = df.loc[df.index.repeat(expanded_df['a'].apply(len))].reset_index(drop=True)\n",
    "\n",
    "# Paso 4: Combinar las columnas expandidas con el DataFrame original\n",
    "result_df = df_repeated.drop(columns=['data']).assign(a=expanded_a.values, b=expanded_b.values)\n",
    "\n",
    "#print(result_df)\n"
   ]
  }
 ],
 "metadata": {
  "kernelspec": {
   "display_name": "Curso_Python",
   "language": "python",
   "name": "python3"
  },
  "language_info": {
   "codemirror_mode": {
    "name": "ipython",
    "version": 3
   },
   "file_extension": ".py",
   "mimetype": "text/x-python",
   "name": "python",
   "nbconvert_exporter": "python",
   "pygments_lexer": "ipython3",
   "version": "3.11.9"
  }
 },
 "nbformat": 4,
 "nbformat_minor": 2
}

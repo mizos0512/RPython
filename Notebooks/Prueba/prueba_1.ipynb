{
 "cells": [
  {
   "cell_type": "code",
   "execution_count": 1,
   "id": "68fa1f25-9856-4884-b535-995a43770e50",
   "metadata": {},
   "outputs": [
    {
     "name": "stdout",
     "output_type": "stream",
     "text": [
      "4\n"
     ]
    }
   ],
   "source": [
    "print(2+2)"
   ]
  },
  {
   "cell_type": "markdown",
   "id": "4eefb092-8ee8-44fd-adbe-0e5941f87f0e",
   "metadata": {},
   "source": [
    "# Prueba"
   ]
  },
  {
   "cell_type": "markdown",
   "id": "31ecd8f7-55bd-4d01-8292-1cbdbce4bf05",
   "metadata": {},
   "source": [
    "## Section"
   ]
  },
  {
   "cell_type": "markdown",
   "id": "dec1d74a-3e11-4440-b45b-674f03accf67",
   "metadata": {},
   "source": [
    "### Sub-Section"
   ]
  }
 ],
 "metadata": {
  "kernelspec": {
   "display_name": "Python 3 (ipykernel)",
   "language": "python",
   "name": "python3"
  },
  "language_info": {
   "codemirror_mode": {
    "name": "ipython",
    "version": 3
   },
   "file_extension": ".py",
   "mimetype": "text/x-python",
   "name": "python",
   "nbconvert_exporter": "python",
   "pygments_lexer": "ipython3",
   "version": "3.11.9"
  }
 },
 "nbformat": 4,
 "nbformat_minor": 5
}

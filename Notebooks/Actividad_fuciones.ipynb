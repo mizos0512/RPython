{
 "cells": [
  {
   "cell_type": "markdown",
   "metadata": {},
   "source": [
    "1. Supongamos que una función contiene argumentos posicionales y los argumentos a pasar están en una lista, tupla o conjunto. En tal caso, necesitamos desempaquetar la lista/tupla/conjunto usando el operador * antes de pasarlo a la función"
   ]
  },
  {
   "cell_type": "code",
   "execution_count": 4,
   "metadata": {},
   "outputs": [
    {
     "name": "stdout",
     "output_type": "stream",
     "text": [
      "10 20 30 40 50\n"
     ]
    }
   ],
   "source": [
    "def imprimelo (a, b, c, d, e):\n",
    "    print(a, b, c, d, e)\n",
    "\n",
    "lista=[10, 20, 30, 40, 50]\n",
    "imprimelo(*lista)"
   ]
  },
  {
   "cell_type": "code",
   "execution_count": 5,
   "metadata": {},
   "outputs": [
    {
     "name": "stdout",
     "output_type": "stream",
     "text": [
      "A B C D E\n"
     ]
    }
   ],
   "source": [
    "def imprimelo (a, b, c, d, e):\n",
    "    print(a, b, c, d, e)\n",
    "\n",
    "tupla=('A','B','C','D','E')\n",
    "imprimelo(*tupla)"
   ]
  },
  {
   "cell_type": "code",
   "execution_count": 7,
   "metadata": {},
   "outputs": [
    {
     "name": "stdout",
     "output_type": "stream",
     "text": [
      "1 2 3 4 5\n"
     ]
    }
   ],
   "source": [
    "def imprimelo (a, b, c, d, e):\n",
    "    print(a, b, c, d, e)\n",
    "\n",
    "conjunto={1, 2, 3, 4, 5}\n",
    "imprimelo(*conjunto)"
   ]
  },
  {
   "cell_type": "markdown",
   "metadata": {},
   "source": [
    "2. Supongamos que una función espera argumentos de palabras clave y los argumentos que se van a pasar están en un diccionario. En tal caso, necesitamos desempaquetar el diccionario usando el operador ** antes de pasarlo a la función:"
   ]
  },
  {
   "cell_type": "code",
   "execution_count": 9,
   "metadata": {},
   "outputs": [
    {
     "name": "stdout",
     "output_type": "stream",
     "text": [
      "nombre edad profesion\n",
      "Ana 50 Data Scientist\n"
     ]
    }
   ],
   "source": [
    "def imprimelo (nombre = 'Sara', edad=75, profesion = 'Data Analyst'):\n",
    "    print(nombre, edad, profesion)\n",
    "\n",
    "diccionario={'nombre': 'Ana', 'edad': 50, 'profesion': 'Data Scientist'}\n",
    "imprimelo(*diccionario)  # Pasa las claves\n",
    "imprimelo(**diccionario) # Pasa los valores"
   ]
  },
  {
   "cell_type": "markdown",
   "metadata": {},
   "source": [
    "3. Variables interna y externa a la función con el mismo nombre. Para Python son variables distintas."
   ]
  },
  {
   "cell_type": "code",
   "execution_count": 10,
   "metadata": {},
   "outputs": [
    {
     "name": "stdout",
     "output_type": "stream",
     "text": [
      "Mundo\n",
      "\n",
      "Python\n"
     ]
    }
   ],
   "source": [
    "def f():\n",
    "    s = 'Mundo'\n",
    "    print(s)\n",
    "    \n",
    "s = 'Python'\n",
    "f()\n",
    "print()\n",
    "print(s)    "
   ]
  }
 ],
 "metadata": {
  "kernelspec": {
   "display_name": "Curso_Python",
   "language": "python",
   "name": "python3"
  },
  "language_info": {
   "codemirror_mode": {
    "name": "ipython",
    "version": 3
   },
   "file_extension": ".py",
   "mimetype": "text/x-python",
   "name": "python",
   "nbconvert_exporter": "python",
   "pygments_lexer": "ipython3",
   "version": "3.11.9"
  }
 },
 "nbformat": 4,
 "nbformat_minor": 2
}

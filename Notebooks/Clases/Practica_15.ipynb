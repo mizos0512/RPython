{
 "cells": [
  {
   "cell_type": "markdown",
   "metadata": {},
   "source": [
    "1. Escriba un programa que genere los siguientes resultados a partir  del 'string': Shenanigan\n",
    "Sh\n",
    "an\n",
    "enanigan\n",
    "Shenan\n",
    "Shenanigan\n",
    "Seaia\n",
    "Snin\n",
    "Saa\n",
    "ShenaniganType\n",
    "ShenanWabbite"
   ]
  },
  {
   "cell_type": "code",
   "execution_count": 2,
   "metadata": {},
   "outputs": [
    {
     "name": "stdout",
     "output_type": "stream",
     "text": [
      "Para Sh: Sh\n",
      "Para an: an\n",
      "Para enanigan: enanigan\n",
      "Para Shenan: Shenan\n",
      "Para Shenanigan: Shenanigan\n",
      "Para Seaia: Seaia\n",
      "Para Snin: Snin\n",
      "Para Saa: Saa\n",
      "Para ShenaniganType: ShenaniganType\n",
      "Para ShenanWabbite: ShenaWabbite\n"
     ]
    }
   ],
   "source": [
    "_str = 'Shenanigan'\n",
    "print(\"Para Sh: {}\".format(_str[0:2]))\n",
    "print(\"Para an: {}\".format(_str[4:6]))\n",
    "print(\"Para enanigan: {}\".format(_str[2:10]))\n",
    "print(\"Para Shenan: {}\".format(_str[0:6]))\n",
    "print(\"Para Shenanigan: {}\".format(_str[:]))\n",
    "print(\"Para Seaia: {}\".format(_str[0:9:2]))\n",
    "print(\"Para Snin: {}\".format(_str[0:10:3]))\n",
    "print(\"Para Saa: {}\".format(_str[0:9:4]))\n",
    "print(\"Para ShenaniganType: {}\".format(_str[:]+'Type'))\n",
    "print(\"Para ShenanWabbite: {}\".format(_str[0:5]+'Wabbite'))"
   ]
  },
  {
   "cell_type": "markdown",
   "metadata": {},
   "source": [
    "2. Escriba un programa para convertir la siguiente cadena:\n",
    "'Visita la web noexiste.com para mayor información  sobre programación'\n",
    "En esta:\n",
    "'Visita La Web Noexiste.com Para Mayor Información  Sobre Programación'"
   ]
  },
  {
   "cell_type": "code",
   "execution_count": 14,
   "metadata": {},
   "outputs": [
    {
     "name": "stdout",
     "output_type": "stream",
     "text": [
      "Cadena Original: Visita la web noexiste.com para mayor información  sobre programación\n",
      "Cadena Convertida: Visita La Web Noexiste.Com Para Mayor Información  Sobre Programación\n"
     ]
    }
   ],
   "source": [
    "cadena=\"Visita la web noexiste.com para mayor información  sobre programación\"\n",
    "cadena1=cadena\n",
    "print(f\"Cadena Original: {cadena}\")\n",
    "print(f\"Cadena Convertida: {cadena1.title()}\")"
   ]
  },
  {
   "cell_type": "markdown",
   "metadata": {},
   "source": [
    "3. Escriba un programa para convertir la sigiente cadena:\n",
    "'Light travels faster than sound. This is why some people appear bright until you hear them speak'\n",
    "En esta:\n",
    "'LIGHT travels faster than SOUND. This is why some people appear bright until you hear them speak'"
   ]
  },
  {
   "cell_type": "code",
   "execution_count": 41,
   "metadata": {},
   "outputs": [
    {
     "name": "stdout",
     "output_type": "stream",
     "text": [
      "Cadena Original: Light travels faster than sound. This is why some people appear bright until you hear them speak\n",
      "Cadena Convertida: LIGHT travels faster than SOUND. This is why some people appear bright until you hear them speak\n"
     ]
    }
   ],
   "source": [
    "cadena=\"Light travels faster than sound. This is why some people appear bright until you hear them speak\"\n",
    "word_1=cadena[0:5].upper()\n",
    "word_2=cadena[5:25]\n",
    "word_3=cadena[25:32].upper()\n",
    "word_4=cadena[32:]\n",
    "print(f\"Cadena Original: {cadena}\")\n",
    "print(f\"Cadena Convertida: {word_1+word_2+word_3+word_4}\")\n",
    "\n"
   ]
  },
  {
   "cell_type": "markdown",
   "metadata": {},
   "source": [
    "4. ¿Cuál será la salida del siguiente programa?\n",
    "s= 'HumptyDumpty'\n",
    "print('s= ',s)\n",
    "print(s.isalpha())\n",
    "print(s.isdigit())\n",
    "print(s.isalnum())\n",
    "print(s.islower())\n",
    "print(s.isupper())\n",
    "print(s.startswith('Hump'))\n",
    "print(s.endswith('Dump'))\n",
    "\n"
   ]
  },
  {
   "cell_type": "code",
   "execution_count": 43,
   "metadata": {},
   "outputs": [
    {
     "name": "stdout",
     "output_type": "stream",
     "text": [
      "s=  HumptyDumpty\n",
      "True\n",
      "False\n",
      "True\n",
      "False\n",
      "False\n",
      "True\n",
      "False\n"
     ]
    }
   ],
   "source": [
    "s= 'HumptyDumpty'\n",
    "print('s= ',s)\n",
    "print(s.isalpha())\n",
    "print(s.isdigit())\n",
    "print(s.isalnum())\n",
    "print(s.islower())\n",
    "print(s.isupper())\n",
    "print(s.startswith('Hump'))\n",
    "print(s.endswith('Dump'))"
   ]
  },
  {
   "cell_type": "markdown",
   "metadata": {},
   "source": [
    "5. Extraiga la subcadena: 'TraPoete' de la cadena 'ThreadProperties'"
   ]
  },
  {
   "cell_type": "code",
   "execution_count": 48,
   "metadata": {},
   "outputs": [
    {
     "name": "stdout",
     "output_type": "stream",
     "text": [
      "TraPoete\n"
     ]
    }
   ],
   "source": [
    "cadena= 'ThreadProperties'\n",
    "print(f\"{cadena[0:15:2]}\")"
   ]
  },
  {
   "cell_type": "markdown",
   "metadata": {},
   "source": [
    "6. ¿Cuál será el resultado del siguinete fragmento de código?\n",
    "print(id('imaginary'))\n",
    "print(type('imaginary'))"
   ]
  },
  {
   "cell_type": "code",
   "execution_count": 49,
   "metadata": {},
   "outputs": [
    {
     "name": "stdout",
     "output_type": "stream",
     "text": [
      "1717324748400\n",
      "<class 'str'>\n"
     ]
    }
   ],
   "source": [
    "print(id('imaginary'))   # Esto devuelve un identificador único del objeto\n",
    "print(type('imaginary'))"
   ]
  },
  {
   "cell_type": "markdown",
   "metadata": {},
   "source": [
    "7. ¿Cuál será el resultado del siguinete fragmento de código?\n",
    "s3= 'c:\\\\Users\\\\Tajamar\\\\Documents'\n",
    "print(s3.split('\\\\'))\n",
    "print(s3.partition('\\\\'))\n",
    "Nota: Partition devuelve la parte antes del separador, el separador, y la parte despues del separador."
   ]
  },
  {
   "cell_type": "code",
   "execution_count": 2,
   "metadata": {},
   "outputs": [
    {
     "name": "stdout",
     "output_type": "stream",
     "text": [
      "['c:', 'Users', 'Tajamar', 'Documents']\n",
      "('c:', '\\\\', 'Users\\\\Tajamar\\\\Documents')\n"
     ]
    }
   ],
   "source": [
    "s3= 'c:\\\\Users\\\\Tajamar\\\\Documents'\n",
    "print(s3.split('\\\\'))\n",
    "print(s3.partition('\\\\'))\n"
   ]
  },
  {
   "cell_type": "markdown",
   "metadata": {},
   "source": []
  },
  {
   "cell_type": "markdown",
   "metadata": {},
   "source": [
    "8. Indique si la siguiente afirmación es verdadera o falsa: Las cadenas de Python son iterables, troceables e inmutables. Explicar en caso de que sea falsa. \n",
    "Verdadera"
   ]
  },
  {
   "cell_type": "markdown",
   "metadata": {},
   "source": [
    "9. Como eliminará los espacios a ambos lados de la cadena:\n",
    "'   Flanked by spaces on either side   '\n",
    "Con la función strip()"
   ]
  },
  {
   "cell_type": "markdown",
   "metadata": {},
   "source": []
  },
  {
   "cell_type": "code",
   "execution_count": 5,
   "metadata": {},
   "outputs": [
    {
     "name": "stdout",
     "output_type": "stream",
     "text": [
      "Cadena original tiene longitud de: 38\n",
      "Cadena después de quitar espacios a ambos lados tiene longitud de: 32\n"
     ]
    }
   ],
   "source": [
    "s= '   Flanked by spaces on either side   '\n",
    "print(f\"Cadena original tiene longitud de: {len(s)}\")\n",
    "print(f\"Cadena después de quitar espacios a ambos lados tiene longitud de: {len(s.strip())}\")\n"
   ]
  },
  {
   "cell_type": "markdown",
   "metadata": {},
   "source": [
    "10. ¿Cuál será el resultado del siguiente fragmento de código?\n",
    "s1=s2=s3=\"Hello\"\n",
    "print(id(s1),id(s2),id(s3))\n",
    "\n",
    "Es el mismo resultado, porque Python permite Asignación Múltiple"
   ]
  },
  {
   "cell_type": "code",
   "execution_count": 6,
   "metadata": {},
   "outputs": [
    {
     "name": "stdout",
     "output_type": "stream",
     "text": [
      "2737005211504 2737005211504 2737005211504\n"
     ]
    }
   ],
   "source": [
    "s1=s2=s3=\"Hello\"\n",
    "print(id(s1),id(s2),id(s3))"
   ]
  },
  {
   "cell_type": "markdown",
   "metadata": {},
   "source": [
    "11. Haga coincidir los códigos con sus respectivas salidas con la variable \n",
    "msg= 'Keep yourself warm'\n",
    "\n",
    "a. msg.partition(' ')          (h) 1. 18                   \n",
    "b. msg.split('')               (e) 2. kEEP YOURSELF WARM\n",
    "c. msg.startswith('Keep')      (f) 3. Keep yourself warm\n",
    "d. msg.endswith('Keep')        (g) 4. 3\n",
    "e. msg.swapcase()              (c) 5. True\n",
    "f. msg.capitalize()            (d) 6. False\n",
    "g. msg.count('e')              (b) 7. ['Keep', 'yourself', 'warm']\n",
    "h. len(msg)                    (a) 8. ['Keep', ' ','yourself warm']        \n",
    "i. msg[0]                      (m) 9. Keep yourself w\n",
    "j. msg[-1]                     (o)10. Keep yourself wa\n",
    "k. msg[1:1:1]                  (i)11. K\n",
    "l. msg[-1:3]                   (k)12. empty string\n",
    "m. msg[:-3]                    (j)13. m\n",
    "n. msg[-3:]                    (n)14. arm\n",
    "o. msg[0:-2]                   (l)15. empty string"
   ]
  },
  {
   "cell_type": "code",
   "execution_count": 15,
   "metadata": {},
   "outputs": [
    {
     "name": "stdout",
     "output_type": "stream",
     "text": [
      "('Keep', ' ', 'yourself warm')\n",
      "['Keep', 'yourself', 'warm']\n",
      "True\n",
      "False\n",
      "kEEP YOURSELF WARM\n",
      "Keep yourself warm\n",
      "3\n",
      "18\n",
      "K\n",
      "m\n",
      "\n",
      "\n",
      "Keep yourself w\n",
      "arm\n",
      "Keep yourself wa\n"
     ]
    }
   ],
   "source": [
    "msg= 'Keep yourself warm'\n",
    "print(msg.partition(' '))           \n",
    "print(msg.split(' '))               \n",
    "print(msg.startswith('Keep'))       \n",
    "print(msg.endswith('Keep'))         \n",
    "print(msg.swapcase())               \n",
    "print(msg.capitalize())             \n",
    "print(msg.count('e'))               \n",
    "print(len(msg))               \n",
    "print(msg[0])                       \n",
    "print(msg[-1])                     \n",
    "print(msg[1:1:1])                  \n",
    "print(msg[-1:3])                   \n",
    "print(msg[:-3])                    \n",
    "print(msg[-3:])                    \n",
    "print(msg[0:-2])                   "
   ]
  }
 ],
 "metadata": {
  "kernelspec": {
   "display_name": "Curso_Python",
   "language": "python",
   "name": "python3"
  },
  "language_info": {
   "codemirror_mode": {
    "name": "ipython",
    "version": 3
   },
   "file_extension": ".py",
   "mimetype": "text/x-python",
   "name": "python",
   "nbconvert_exporter": "python",
   "pygments_lexer": "ipython3",
   "version": "3.12.1"
  }
 },
 "nbformat": 4,
 "nbformat_minor": 2
}

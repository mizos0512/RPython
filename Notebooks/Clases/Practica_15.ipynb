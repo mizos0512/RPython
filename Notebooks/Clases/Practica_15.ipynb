{
 "cells": [
  {
   "cell_type": "markdown",
   "metadata": {},
   "source": [
    "1. Escriba un programa que genere los siguientes resultados a partir  del 'string': Shenanigan\n",
    "Sh\n",
    "an\n",
    "enanigan\n",
    "Shenan\n",
    "Shenanigan\n",
    "Seaia\n",
    "Snin\n",
    "Saa\n",
    "ShenaniganType\n",
    "ShenanWabbite"
   ]
  },
  {
   "cell_type": "code",
   "execution_count": 2,
   "metadata": {},
   "outputs": [
    {
     "name": "stdout",
     "output_type": "stream",
     "text": [
      "Para Sh: Sh\n",
      "Para an: an\n",
      "Para enanigan: enanigan\n",
      "Para Shenan: Shenan\n",
      "Para Shenanigan: Shenanigan\n",
      "Para Seaia: Seaia\n",
      "Para Snin: Snin\n",
      "Para Saa: Saa\n",
      "Para ShenaniganType: ShenaniganType\n",
      "Para ShenanWabbite: ShenaWabbite\n"
     ]
    }
   ],
   "source": [
    "_str = 'Shenanigan'\n",
    "print(\"Para Sh: {}\".format(_str[0:2]))\n",
    "print(\"Para an: {}\".format(_str[4:6]))\n",
    "print(\"Para enanigan: {}\".format(_str[2:10]))\n",
    "print(\"Para Shenan: {}\".format(_str[0:6]))\n",
    "print(\"Para Shenanigan: {}\".format(_str[:]))\n",
    "print(\"Para Seaia: {}\".format(_str[0:9:2]))\n",
    "print(\"Para Snin: {}\".format(_str[0:10:3]))\n",
    "print(\"Para Saa: {}\".format(_str[0:9:4]))\n",
    "print(\"Para ShenaniganType: {}\".format(_str[:]+'Type'))\n",
    "print(\"Para ShenanWabbite: {}\".format(_str[0:5]+'Wabbite'))"
   ]
  },
  {
   "cell_type": "markdown",
   "metadata": {},
   "source": [
    "2. Escriba un programa para convertir la siguiente cadena:\n",
    "'Visita la web noexiste.com para mayor información  sobre programación'\n",
    "En esta:\n",
    "'Visita La Web Noexiste.com Para Mayor Información  Sobre Programación'"
   ]
  },
  {
   "cell_type": "code",
   "execution_count": 14,
   "metadata": {},
   "outputs": [
    {
     "name": "stdout",
     "output_type": "stream",
     "text": [
      "Cadena Original: Visita la web noexiste.com para mayor información  sobre programación\n",
      "Cadena Convertida: Visita La Web Noexiste.Com Para Mayor Información  Sobre Programación\n"
     ]
    }
   ],
   "source": [
    "cadena=\"Visita la web noexiste.com para mayor información  sobre programación\"\n",
    "cadena1=cadena\n",
    "print(f\"Cadena Original: {cadena}\")\n",
    "print(f\"Cadena Convertida: {cadena1.title()}\")"
   ]
  },
  {
   "cell_type": "markdown",
   "metadata": {},
   "source": [
    "3. Escriba un programa para convertir la sigiente cadena:\n",
    "'Light travels faster than sound. This is why some people appear bright until you hear them speak'\n",
    "En esta:\n",
    "'LIGHT travels faster than SOUND. This is why some people appear bright until you hear them speak'"
   ]
  },
  {
   "cell_type": "code",
   "execution_count": 41,
   "metadata": {},
   "outputs": [
    {
     "name": "stdout",
     "output_type": "stream",
     "text": [
      "Cadena Original: Light travels faster than sound. This is why some people appear bright until you hear them speak\n",
      "Cadena Convertida: LIGHT travels faster than SOUND. This is why some people appear bright until you hear them speak\n"
     ]
    }
   ],
   "source": [
    "cadena=\"Light travels faster than sound. This is why some people appear bright until you hear them speak\"\n",
    "word_1=cadena[0:5].upper()\n",
    "word_2=cadena[5:25]\n",
    "word_3=cadena[25:32].upper()\n",
    "word_4=cadena[32:]\n",
    "print(f\"Cadena Original: {cadena}\")\n",
    "print(f\"Cadena Convertida: {word_1+word_2+word_3+word_4}\")\n",
    "\n"
   ]
  },
  {
   "cell_type": "markdown",
   "metadata": {},
   "source": [
    "4. ¿Cuál será la salida del siguiente programa?\n",
    "s= 'HumptyDumpty'\n",
    "print('s= ',s)\n",
    "print(s.isalpha())\n",
    "print(s.isdigit())\n",
    "print(s.isalnum())\n",
    "print(s.islower())\n",
    "print(s.isupper())\n",
    "print(s.startswith('Hump'))\n",
    "print(s.endswith('Dump'))\n",
    "\n"
   ]
  },
  {
   "cell_type": "code",
   "execution_count": 43,
   "metadata": {},
   "outputs": [
    {
     "name": "stdout",
     "output_type": "stream",
     "text": [
      "s=  HumptyDumpty\n",
      "True\n",
      "False\n",
      "True\n",
      "False\n",
      "False\n",
      "True\n",
      "False\n"
     ]
    }
   ],
   "source": [
    "s= 'HumptyDumpty'\n",
    "print('s= ',s)\n",
    "print(s.isalpha())\n",
    "print(s.isdigit())\n",
    "print(s.isalnum())\n",
    "print(s.islower())\n",
    "print(s.isupper())\n",
    "print(s.startswith('Hump'))\n",
    "print(s.endswith('Dump'))"
   ]
  },
  {
   "cell_type": "markdown",
   "metadata": {},
   "source": [
    "5. Extraiga la subcadena: 'TraPoete' de la cadena 'ThreadProperties'"
   ]
  },
  {
   "cell_type": "code",
   "execution_count": 48,
   "metadata": {},
   "outputs": [
    {
     "name": "stdout",
     "output_type": "stream",
     "text": [
      "TraPoete\n"
     ]
    }
   ],
   "source": [
    "cadena= 'ThreadProperties'\n",
    "print(f\"{cadena[0:15:2]}\")"
   ]
  },
  {
   "cell_type": "markdown",
   "metadata": {},
   "source": [
    "6. ¿Cuál será el resultado del siguinete fragmento de código?\n",
    "print(id('imaginary'))\n",
    "print(type('imaginary'))"
   ]
  },
  {
   "cell_type": "code",
   "execution_count": 49,
   "metadata": {},
   "outputs": [
    {
     "name": "stdout",
     "output_type": "stream",
     "text": [
      "1717324748400\n",
      "<class 'str'>\n"
     ]
    }
   ],
   "source": [
    "print(id('imaginary'))   # Esto devuelve un identificador único del objeto\n",
    "print(type('imaginary'))"
   ]
  },
  {
   "cell_type": "markdown",
   "metadata": {},
   "source": [
    "7. ¿Cuál será el resultado del siguinete fragmento de código?\n",
    "s3= "
   ]
  }
 ],
 "metadata": {
  "kernelspec": {
   "display_name": "Curso_Python",
   "language": "python",
   "name": "python3"
  },
  "language_info": {
   "codemirror_mode": {
    "name": "ipython",
    "version": 3
   },
   "file_extension": ".py",
   "mimetype": "text/x-python",
   "name": "python",
   "nbconvert_exporter": "python",
   "pygments_lexer": "ipython3",
   "version": "3.11.9"
  }
 },
 "nbformat": 4,
 "nbformat_minor": 2
}

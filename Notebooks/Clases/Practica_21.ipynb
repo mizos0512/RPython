{
 "cells": [
  {
   "cell_type": "markdown",
   "metadata": {},
   "source": [
    "1. Crea una tupla con números enteros con algunos de ellos repetidos, pide uno por teclado e indica cuantas veces se repite si estuviese en la tupla."
   ]
  },
  {
   "cell_type": "code",
   "execution_count": 2,
   "metadata": {},
   "outputs": [
    {
     "name": "stdout",
     "output_type": "stream",
     "text": [
      "El número 13 se repite 3 veces en la tupla.\n"
     ]
    }
   ],
   "source": [
    "n = (8, 3, 9, 7, 13, 9, 5, 13, 11, 13, 8, 5)\n",
    "findN = int(input(\"Teclee un número: \"))\n",
    "contar = n.count(findN)\n",
    "print(f\"El número {findN} se repite {contar} veces en la tupla.\")"
   ]
  },
  {
   "cell_type": "markdown",
   "metadata": {},
   "source": [
    "2. Crea una tupla con números e indica el número con mayor valor  y el que menor tenga."
   ]
  },
  {
   "cell_type": "code",
   "execution_count": 4,
   "metadata": {},
   "outputs": [
    {
     "name": "stdout",
     "output_type": "stream",
     "text": [
      "El número con mayor valor en la tupla es: 8000\n",
      "El número con menor valor en la tupla es: 350\n"
     ]
    }
   ],
   "source": [
    "n = (450, 1000, 700, 350, 900, 2000, 555, 8000, 6000)\n",
    "\n",
    "\n",
    "mayor = max(n)\n",
    "menor = min(n)\n",
    "\n",
    "\n",
    "print(f\"El número con mayor valor en la tupla es: {mayor}\")\n",
    "print(f\"El número con menor valor en la tupla es: {menor}\")\n",
    "\n"
   ]
  },
  {
   "cell_type": "markdown",
   "metadata": {},
   "source": [
    "3. Crea una tupla con valores ya predefinidos del '1' al '10', pide um índice por teclado y muestra los valores de la tupla."
   ]
  },
  {
   "cell_type": "code",
   "execution_count": 5,
   "metadata": {},
   "outputs": [
    {
     "name": "stdout",
     "output_type": "stream",
     "text": [
      "El valor en el índice 5 es: 6\n"
     ]
    }
   ],
   "source": [
    "v = (1, 2, 3, 4, 5, 6, 7, 8, 9, 10)\n",
    "ind = int(input(\"Introduce un índice (0-9): \"))\n",
    "\n",
    "if 0 <= ind < len(v):\n",
    "    print(f\"El valor en el índice {ind} es: {v[ind]}\")\n",
    "else:\n",
    "    print(\"Índice no válido...\")"
   ]
  },
  {
   "cell_type": "markdown",
   "metadata": {},
   "source": [
    "4. Escribir un codigo donde se le pide al usuario almacenar en una tupla el 'dia,'mes','año' (todos en formato entero) y luego que imprima diche fecha en el formato: \"03/07/2023\""
   ]
  },
  {
   "cell_type": "code",
   "execution_count": 7,
   "metadata": {},
   "outputs": [
    {
     "name": "stdout",
     "output_type": "stream",
     "text": [
      "Fecha: 12/05/1962\n"
     ]
    }
   ],
   "source": [
    "dia = int(input(\"Teclee el día: \"))\n",
    "mes = int(input(\"Teclee el mes: \"))\n",
    "año = int(input(\"Teclee el año: \"))\n",
    "\n",
    "fecha = (dia, mes, año)\n",
    "\n",
    "print(f\"Fecha: {fecha[0]:02d}/{fecha[1]:02d}/{fecha[2]}\")\n"
   ]
  },
  {
   "cell_type": "markdown",
   "metadata": {},
   "source": [
    "5. Definir una tupla con tres valores enteros. Convertir el contenido de la tupla a tipo lista. Modificar la lista y luego convertir la lista en tupla."
   ]
  },
  {
   "cell_type": "code",
   "execution_count": 10,
   "metadata": {},
   "outputs": [
    {
     "name": "stdout",
     "output_type": "stream",
     "text": [
      "Tupla original: (100, 250, 500)\n",
      "Lista modificada: [100, 2500, 500]\n",
      "Tupla modificada: (100, 2500, 500)\n"
     ]
    }
   ],
   "source": [
    "_tupla = (100, 250, 500)\n",
    "\n",
    "_lista = list(_tupla)\n",
    "\n",
    "_lista[1] = 2500\n",
    "\n",
    "tuplaModif = tuple(_lista)\n",
    "\n",
    "print(f\"Tupla original: {_tupla}\")\n",
    "print(f\"Lista modificada: {_lista}\")\n",
    "print(f\"Tupla modificada: {tuplaModif}\")\n"
   ]
  },
  {
   "cell_type": "markdown",
   "metadata": {},
   "source": [
    "6. Crear una tupla y luego imprimirla en orden inverso en otra variable (otra tupla)"
   ]
  },
  {
   "cell_type": "code",
   "execution_count": 11,
   "metadata": {},
   "outputs": [
    {
     "name": "stdout",
     "output_type": "stream",
     "text": [
      "Tupla original: (15, 46, 30, 45, 51)\n",
      "Tupla en orden inverso: (51, 45, 30, 46, 15)\n"
     ]
    }
   ],
   "source": [
    "_tupla = (15, 46, 30, 45, 51)\n",
    "\n",
    "inverTupla = tuple(reversed(_tupla))\n",
    "\n",
    "print(f\"Tupla original: {_tupla}\")\n",
    "print(f\"Tupla en orden inverso: {inverTupla}\")\n"
   ]
  },
  {
   "cell_type": "markdown",
   "metadata": {},
   "source": [
    "7. Dada la tupla:\n",
    "tuple1= (\"Orange\",[10, 20, 30],[5, 15, 25])\n",
    "Acceder al valor '20' e imprimir en una nueva variable."
   ]
  },
  {
   "cell_type": "code",
   "execution_count": 14,
   "metadata": {},
   "outputs": [
    {
     "name": "stdout",
     "output_type": "stream",
     "text": [
      "En la Tupla: ('Orange', [10, 20, 30], (5, 15, 25))\n",
      "El valor '20' es: 20 y está en el índice (1, 1) de la Tupla\n"
     ]
    }
   ],
   "source": [
    "tuple1 = (\"Orange\", [10, 20, 30], (5, 15, 25))\n",
    "\n",
    "el_20 = tuple1[1][1]\n",
    "print(f\"En la Tupla: {tuple1}\")\n",
    "print(f\"El valor '20' es: {el_20} y está en el índice (1, 1) de la Tupla\" )\n"
   ]
  },
  {
   "cell_type": "markdown",
   "metadata": {},
   "source": [
    "8. Escriba un programa para descomprimir la siguiente tupla en cuatro  variables e imprimir cada variable."
   ]
  },
  {
   "cell_type": "code",
   "execution_count": 16,
   "metadata": {},
   "outputs": [
    {
     "name": "stdout",
     "output_type": "stream",
     "text": [
      "var1: 10\n",
      "var2: 20\n",
      "var3: 30\n",
      "var4: 40\n"
     ]
    }
   ],
   "source": [
    "Tuple1=(10,20,30,40)\n",
    "v1, v2, v3, v4 = Tuple1\n",
    "\n",
    "print(f\"var1: {v1}\")\n",
    "print(f\"var2: {v2}\")\n",
    "print(f\"var3: {v3}\")\n",
    "print(f\"var4: {v4}\")\n"
   ]
  },
  {
   "cell_type": "markdown",
   "metadata": {},
   "source": [
    "9. Intercambia dos tuplas en Python dados:\n",
    "tuple1= (1,22)\n",
    "tuple2= (99,88)"
   ]
  },
  {
   "cell_type": "code",
   "execution_count": 21,
   "metadata": {},
   "outputs": [
    {
     "name": "stdout",
     "output_type": "stream",
     "text": [
      "tuple1 original: (11, 22)\n",
      "tuple2 original: (99, 88)\n",
      "\n",
      "DESPUES DEL INTERCAMBIO\n",
      "\n",
      "tuple1: (99, 88)\n",
      "tuple2: (11, 22)\n"
     ]
    }
   ],
   "source": [
    "tuple1= (11,22)\n",
    "tuple2= (99,88)\n",
    "print(f\"tuple1 original: {tuple1}\")\n",
    "print(f\"tuple2 original: {tuple2}\")\n",
    "tuple1,tuple2 = tuple2,tuple1\n",
    "print()\n",
    "print(\"DESPUES DEL INTERCAMBIO\")\n",
    "print()\n",
    "print(f\"tuple1: {tuple1}\")\n",
    "print(f\"tuple2: {tuple2}\")"
   ]
  },
  {
   "cell_type": "markdown",
   "metadata": {},
   "source": [
    "10. ¿Cuatas veces aparece  '777'  en  la siguinete tupla? Escribir código.\n",
    "tt= (55, 6, 777, 54, 6, 76, 7777, 1, 777, 2, 6)"
   ]
  },
  {
   "cell_type": "code",
   "execution_count": 23,
   "metadata": {},
   "outputs": [
    {
     "name": "stdout",
     "output_type": "stream",
     "text": [
      "El número '777' aparece 2 veces\n"
     ]
    }
   ],
   "source": [
    "tt= (55, 6, 777, 54, 6, 76, 7777, 1, 777, 2, 6)\n",
    "\n",
    "c = 0\n",
    "\n",
    "for i in tt:\n",
    "    if i == 777:\n",
    "        c += 1\n",
    "print(f\"El número '777' aparece {c} veces\")\n"
   ]
  },
  {
   "cell_type": "markdown",
   "metadata": {},
   "source": [
    "11. ¿Cual es la suma de todos los número en la siguiente tupla? Escribir código\n",
    "tt= (42, 1092, 11, 88, 65, 2, 6)"
   ]
  },
  {
   "cell_type": "code",
   "execution_count": 24,
   "metadata": {},
   "outputs": [
    {
     "name": "stdout",
     "output_type": "stream",
     "text": [
      "La suma de todos los números en la tupla es: 1306\n"
     ]
    }
   ],
   "source": [
    "\n",
    "tt= (42, 1092, 11, 88, 65, 2, 6)\n",
    "suma = sum(tt)\n",
    "\n",
    "print(f\"La suma de todos los números en la tupla es: {suma}\")\n"
   ]
  },
  {
   "cell_type": "markdown",
   "metadata": {},
   "source": [
    "12. ¿Cuáles son los valores mínimo y máximo de la siguiente tupla? escribir código\n",
    "tt= (42, 1092, 11, 88, 65, 2, 6)"
   ]
  },
  {
   "cell_type": "code",
   "execution_count": 26,
   "metadata": {},
   "outputs": [
    {
     "name": "stdout",
     "output_type": "stream",
     "text": [
      "El valor mínimo en la tupla es: 2\n",
      "El valor máximo en la tupla es: 1092\n"
     ]
    }
   ],
   "source": [
    "tt= (42, 1092, 11, 88, 65, 2, 6)\n",
    "\n",
    "print(f\"El valor mínimo en la tupla es: {min(tt)}\")\n",
    "print(f\"El valor máximo en la tupla es: {max(tt)}\")\n"
   ]
  },
  {
   "cell_type": "markdown",
   "metadata": {},
   "source": [
    "13. Escriba un prorama para aceptar el nombre de cinco frutas por parte del usuario, almacenarlo en una tupla y luego imprimir."
   ]
  },
  {
   "cell_type": "code",
   "execution_count": 28,
   "metadata": {},
   "outputs": [
    {
     "name": "stdout",
     "output_type": "stream",
     "text": [
      "Por favor, ingresa nombre de cinco frutas:\n",
      "Las frutas son: ('Mango', 'Guayaba', 'Papaya', 'Naranja', 'Mamey')\n"
     ]
    }
   ],
   "source": [
    "frutas = []\n",
    "print(\"Por favor, ingresa nombre de cinco frutas:\")\n",
    "for i in range(5):\n",
    "    fruta = input(f\"Fruta {i+1}: \")\n",
    "    frutas.append(fruta)\n",
    "frutaTupla= tuple(frutas)\n",
    "print(f\"Las frutas son: {frutaTupla}\")"
   ]
  },
  {
   "cell_type": "markdown",
   "metadata": {},
   "source": [
    "14. Considere la siguiente tupla: T1= (12, 3, 45, 'Hokey', 'Anil', ('a','b'))\n",
    "a. Imprimir el primer elemento de T1\n",
    "b. Imprimir el último elemento de T1\n",
    "c. Imprimir T1 en orden inverso\n",
    "d. Imprimir 'Anil' desde la tupla T1\n",
    "e. Imprimir 'b' de la tupla T1"
   ]
  },
  {
   "cell_type": "code",
   "execution_count": 36,
   "metadata": {},
   "outputs": [
    {
     "name": "stdout",
     "output_type": "stream",
     "text": [
      "Tupla original T1: (12, 3, 45, 'Hokey', 'Anil', ('a', 'b'))\n",
      "a. Primer elemento de 'T1': 12\n",
      "b. Último elemento de 'T1': ('a', 'b')\n",
      "c. 'T1' en orden inverso: (('a', 'b'), 'Anil', 'Hokey', 45, 3, 12)\n",
      "d. 'Anil' está en el índice [4] de la tupla 'T1': Anil\n",
      "e. 'b' está en el índice [5][1] de la tupla 'T1': b\n"
     ]
    }
   ],
   "source": [
    "T1= (12, 3, 45, 'Hokey', 'Anil', ('a','b'))\n",
    "\n",
    "# Imprimir la tupla original T1\n",
    "print(f\"Tupla original T1: {T1}\")\n",
    "\n",
    "# Imprimir el primer elemento de T1\n",
    "print(f\"a. Primer elemento de 'T1': {T1[0]}\")\n",
    "\n",
    "#Imprimir el último elemento de T1\n",
    "print(f\"b. Último elemento de 'T1': {T1[len(T1)-1]}\")\n",
    "\n",
    "#Imprimir 'T1' en orden inverso\n",
    "print(f\"c. 'T1' en orden inverso: {tuple(reversed(T1))}\")\n",
    "\n",
    "#Imprimir 'Anil' desde la tupla T1\n",
    "print(f\"d. 'Anil' está en el índice [4] de la tupla 'T1': {T1[4]}\")\n",
    "\n",
    "#Imprimir 'Anil' desde la tupla T1\n",
    "print(f\"e. 'b' está en el índice [5][1] de la tupla 'T1': {T1[5][1]}\")\n",
    "\n"
   ]
  },
  {
   "cell_type": "markdown",
   "metadata": {},
   "source": [
    "15. Escriba un programa que le pida al usuario una cadena (string), luego convertirlo a una tupla e imprimir"
   ]
  },
  {
   "cell_type": "code",
   "execution_count": 37,
   "metadata": {},
   "outputs": [
    {
     "name": "stdout",
     "output_type": "stream",
     "text": [
      "Tu nombre es: ('R', 'e', 'i', 'n', 'a', 'l', 'd', 'o')\n"
     ]
    }
   ],
   "source": [
    "miNombre= input(\"¿Tu nmbre por favor:? \")\n",
    "print(f\"Tu nombre es: {tuple(miNombre)}\")"
   ]
  }
 ],
 "metadata": {
  "kernelspec": {
   "display_name": "Curso_Python",
   "language": "python",
   "name": "python3"
  },
  "language_info": {
   "codemirror_mode": {
    "name": "ipython",
    "version": 3
   },
   "file_extension": ".py",
   "mimetype": "text/x-python",
   "name": "python",
   "nbconvert_exporter": "python",
   "pygments_lexer": "ipython3",
   "version": "3.11.9"
  }
 },
 "nbformat": 4,
 "nbformat_minor": 2
}

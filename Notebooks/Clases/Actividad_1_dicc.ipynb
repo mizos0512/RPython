{
 "cells": [
  {
   "cell_type": "markdown",
   "metadata": {},
   "source": [
    "1. Confeccione un diccionario que contenga p5 paises y sus respectivas capitales."
   ]
  },
  {
   "cell_type": "code",
   "execution_count": 3,
   "metadata": {},
   "outputs": [
    {
     "data": {
      "text/plain": [
       "{'Estados_Unidos_de_Anerica': 'Whashington D. C.',\n",
       " 'España': 'Madrid',\n",
       " 'Republica_Dominicana': 'Santo Domingo',\n",
       " 'Panamá': 'Ciudad Panamá',\n",
       " 'Cuba': 'La Habana'}"
      ]
     },
     "execution_count": 3,
     "metadata": {},
     "output_type": "execute_result"
    }
   ],
   "source": [
    "pais_capital={\n",
    "    'Estados_Unidos_de_Anerica': 'Whashington D. C.', 'España': 'Madrid','Republica_Dominicana':'Santo Domingo', 'Panamá':'Ciudad Panamá','Cuba':'La Habana'\n",
    "}\n",
    "pais_capital"
   ]
  },
  {
   "cell_type": "markdown",
   "metadata": {},
   "source": [
    "2. A partir del siguiente diccionario que tiene Batman en su cueva:\n",
    "murcielago= {\n",
    "    'Pteropus_Livingstonii':'Murciélago de la Fruta',\n",
    "    'Desmodus_rotundussolo':'Murciélago Vampiro',\n",
    "    'Myotis_Sodalis':'Murciélago de Indiana',\n",
    "    'Rousettus_aegyptiacus':'Murciélago Egipcio  de la Fruta',\n",
    "    'Acedoron_jubatus':'Zorro volador Filipino'\n",
    "}\n",
    "\n",
    "Obtener los valores de:\n",
    "Myotis Sodalis\n",
    "Pteropus Livingstonii\n",
    "\n",
    "#murcielago= {\n",
    "#    '':'','':'','':'','':'','':'','':'','':'','':'','':'',:'','':'','':'','':'','':'','':'','':'','':'','':'','':'','':'','':'','':''\n",
    "#}"
   ]
  },
  {
   "cell_type": "code",
   "execution_count": 7,
   "metadata": {},
   "outputs": [
    {
     "name": "stdout",
     "output_type": "stream",
     "text": [
      "Murciélago de Indiana\n",
      "Murciélago de la Fruta\n"
     ]
    }
   ],
   "source": [
    "murcielago= {\n",
    "    'Pteropus_Livingstonii':'Murciélago de la Fruta',\n",
    "    'Desmodus_rotundussolo':'Murciélago Vampiro',\n",
    "    'Myotis_Sodalis':'Murciélago de Indiana',\n",
    "    'Rousettus_aegyptiacus':'Murciélago Egipcio  de la Fruta',\n",
    "    'Acedoron_jubatus':'Zorro volador Filipino'\n",
    "}\n",
    "\n",
    "print(murcielago['Myotis_Sodalis'])\n",
    "print(murcielago['Pteropus_Livingstonii'])\n",
    "\n",
    "\n"
   ]
  },
  {
   "cell_type": "markdown",
   "metadata": {},
   "source": [
    "3. A partir del siguinete diccionario de la cueva de Batman:\n",
    "\n",
    "murcielago= {\n",
    "    'Pteropus_Livingstonii':'Murciélago de la Fruta',\n",
    "    'Desmodus_rotundussolo':'Murciélago Vampiro',\n",
    "    'Myotis_Sodalis':'Murciélago de Indiana',\n",
    "    'Rousettus_aegyptiacus':'Murciélago Egipcio  de la Fruta',\n",
    "    'Acedoron_jubatus':'Zorro volador Filipino'\n",
    "}\n",
    "\n",
    "Añadir las siguientes especies tomando como clave el nombre científico y como valor el nombre popular:\n",
    "\n",
    "Pequeño murciélago café -> Myotis lucifugus\n",
    "Craseonycteris thonglongyai -> Murciélago nariz de cerdo\n"
   ]
  },
  {
   "cell_type": "code",
   "execution_count": 9,
   "metadata": {},
   "outputs": [
    {
     "name": "stdout",
     "output_type": "stream",
     "text": [
      "Pteropus_Livingstonii: Murciélago de la Fruta\n",
      "Desmodus_rotundussolo: Murciélago Vampiro\n",
      "Myotis_Sodalis: Murciélago de Indiana\n",
      "Rousettus_aegyptiacus: Murciélago Egipcio  de la Fruta\n",
      "Acedoron_jubatus: Zorro volador Filipino\n",
      "Myotis_lucifugus: Pequeño murciélago café\n",
      "Craseonycteris_thonglongyai: Murciélago nariz de cerdo\n"
     ]
    }
   ],
   "source": [
    "murcielago= {\n",
    "    'Pteropus_Livingstonii':'Murciélago de la Fruta',\n",
    "    'Desmodus_rotundussolo':'Murciélago Vampiro',\n",
    "    'Myotis_Sodalis':'Murciélago de Indiana',\n",
    "    'Rousettus_aegyptiacus':'Murciélago Egipcio  de la Fruta',\n",
    "    'Acedoron_jubatus':'Zorro volador Filipino'\n",
    "}\n",
    "\n",
    "murcielago['Myotis_lucifugus']='Pequeño murciélago café'\n",
    "murcielago['Craseonycteris_thonglongyai']='Murciélago nariz de cerdo'\n",
    "\n",
    "for clave, valor in murcielago.items():\n",
    "    print(f'{clave}: {valor}')\n",
    "          "
   ]
  },
  {
   "cell_type": "markdown",
   "metadata": {},
   "source": [
    "4. Verificar si las siguientes especies se encuentran en la cueva de Batman utilizando el operador 'in'\n",
    "Myotis lucifugus y Myotis crypticus"
   ]
  },
  {
   "cell_type": "code",
   "execution_count": 13,
   "metadata": {},
   "outputs": [
    {
     "name": "stdout",
     "output_type": "stream",
     "text": [
      "No se encuentra la Especie 'Myotis lucifugus'\n",
      "No se encuentra la Especie 'Myotis crypticus'\n",
      "Si se encuentra la Especie 'Acedoron jubatus'\n"
     ]
    }
   ],
   "source": [
    "murcielago = {\n",
    "    'Pteropus_Livingstonii': 'Murciélago de la Fruta',\n",
    "    'Desmodus_rotundussolo': 'Murciélago Vampiro',\n",
    "    'Myotis_Sodalis': 'Murciélago de Indiana',\n",
    "    'Rousettus_aegyptiacus': 'Murciélago Egipcio de la Fruta',\n",
    "    'Acedoron_jubatus': 'Zorro volador Filipino'\n",
    "}\n",
    "\n",
    "# Verificar la existencia de las especies usando 'in'\n",
    "print(\"Si se encuentra la Especie 'Myotis lucifugus'\") if 'Myotis_lucifugus' in murcielago else print(\"No se encuentra la Especie 'Myotis lucifugus'\")\n",
    "print(\"Si se encuentra la Especie 'Myotis crypticus'\") if 'Myotis_crypticus' in murcielago else print(\"No se encuentra la Especie 'Myotis crypticus'\")\n",
    "print(\"Si se encuentra la Especie 'Acedoron jubatus'\") if 'Acedoron_jubatus' in murcielago else print(\"No se encuentra la Especie 'Acedoron jubatus'\")\n",
    "\n"
   ]
  },
  {
   "cell_type": "markdown",
   "metadata": {},
   "source": [
    "5. Obtener todos los pares <clave-valor> de un dicionario: Mediante la función items():\n",
    "\n",
    "dict_items=([\n",
    "'bifronte':'De dos frentes o dos caras',\n",
    "'anarcoide':'Que tiende al desorden',\n",
    "'montuvio':'Campesino de la costa',\n",
    "'enjuiciar':'Instruir, juzgar o sentenciar una causa'    \n",
    "])\n",
    "\n"
   ]
  },
  {
   "cell_type": "code",
   "execution_count": 16,
   "metadata": {},
   "outputs": [
    {
     "data": {
      "text/plain": [
       "dict_items([('bifronte', 'De dos frentes o dos caras'), ('anarcoide', 'Que tiende al desorden'), ('montuvio', 'Campesino de la costa'), ('enjuiciar', 'Instruir, juzgar o sentenciar una causa')])"
      ]
     },
     "execution_count": 16,
     "metadata": {},
     "output_type": "execute_result"
    }
   ],
   "source": [
    "rae= {\n",
    "'bifronte':'De dos frentes o dos caras',\n",
    "'anarcoide':'Que tiende al desorden',\n",
    "'montuvio':'Campesino de la costa',\n",
    "'enjuiciar':'Instruir, juzgar o sentenciar una causa'    \n",
    "}\n",
    "\n",
    "rae.items()\n",
    "\n"
   ]
  },
  {
   "cell_type": "markdown",
   "metadata": {},
   "source": [
    "6. Obtener todos los pares <clave-valor> de la cueva Batman\n",
    "Obtener los nombres comunes de los murciélagos de la cueva de Batman\n",
    "Obtener los nombres científicos de los murciélago de la cueva de Batman\n",
    "¿Cuántos murciélagos distintos tiene la cueva de Batman? utiliza la función len()"
   ]
  },
  {
   "cell_type": "code",
   "execution_count": 37,
   "metadata": {},
   "outputs": [
    {
     "name": "stdout",
     "output_type": "stream",
     "text": [
      "<clave:valor>\n",
      "---------------\n",
      "Pteropus_Livingstonii: Murciélago de la Fruta\n",
      "Desmodus_rotundussolo: Murciélago Vampiro\n",
      "Myotis_Sodalis: Murciélago de Indiana\n",
      "Rousettus_aegyptiacus: Murciélago Egipcio de la Fruta\n",
      "Acedoron_jubatus: Zorro volador Filipino\n",
      "\n",
      "<Nombres comúnes de los murciélagos de la cueva de Batman>\n",
      "---------------\n",
      "Murciélago de la Fruta\n",
      "Murciélago Vampiro\n",
      "Murciélago de Indiana\n",
      "Murciélago Egipcio de la Fruta\n",
      "Zorro volador Filipino\n",
      "\n",
      "<Nombres científico de los murciélagos de la cueva de Batman>\n",
      "---------------\n",
      "Pteropus_Livingstonii\n",
      "Desmodus_rotundussolo\n",
      "Myotis_Sodalis\n",
      "Rousettus_aegyptiacus\n",
      "Acedoron_jubatus\n",
      "\n",
      "La cueva de Batman tiene 5 distintos\n"
     ]
    }
   ],
   "source": [
    "murcielago = {\n",
    "    'Pteropus_Livingstonii': 'Murciélago de la Fruta',\n",
    "    'Desmodus_rotundussolo': 'Murciélago Vampiro',\n",
    "    'Myotis_Sodalis': 'Murciélago de Indiana',\n",
    "    'Rousettus_aegyptiacus': 'Murciélago Egipcio de la Fruta',\n",
    "    'Acedoron_jubatus': 'Zorro volador Filipino'\n",
    "}\n",
    "\n",
    "print(\"<clave:valor>\")\n",
    "print(\"---------------\")\n",
    "for clave, valor in murcielago.items():\n",
    "    print(f'{clave}: {valor}')\n",
    "print()\n",
    "print(\"<Nombres comúnes de los murciélagos de la cueva de Batman>\")\n",
    "print(\"---------------\")\n",
    "for valor in murcielago.values():\n",
    "    print(f\"{valor}\")\n",
    "print()\n",
    "print(\"<Nombres científico de los murciélagos de la cueva de Batman>\")\n",
    "print(\"---------------\")\n",
    "for clave, valor in murcielago.items():\n",
    "    print(f\"{clave}\")\n",
    "print()    \n",
    "print(f\"La cueva de Batman tiene {len(murcielago)} distintos\")\n"
   ]
  },
  {
   "cell_type": "markdown",
   "metadata": {},
   "source": [
    "7. Batman ha encontrado especies de murciélago que solo  se ven en España, Portugal y Gibraltar. Bruce Wayne le pide que actualice el diccionario añadiendo también su nombre científico a estas especies encontradas:\n",
    "\n",
    "Murciélago grande de herradura ->  Rhinolophus ferrumequinum\n",
    "Murciélago Hortelano -> Eptesicus isabellinus\n",
    "Orejudo Canario -> Plecotus teneriffae\n",
    "Murciélago ratonero ibérico -> Myotis escalerai\n",
    "\n",
    "Los nombres científicos los puedes encontrar en: Especies de murciélagos de España, Portugal y Gibraltar - SECEMU"
   ]
  },
  {
   "cell_type": "code",
   "execution_count": 50,
   "metadata": {},
   "outputs": [
    {
     "name": "stdout",
     "output_type": "stream",
     "text": [
      "Lista de murcielagos actualizados a petición de Bruce Wayne: \n",
      "-------------------------------------------------------------\n",
      "Pteropus_Livingstonii:Murciélago de la Fruta\n",
      "Desmodus_rotundussolo:Murciélago Vampiro\n",
      "Myotis_Sodalis:Murciélago de Indiana\n",
      "Rousettus_aegyptiacus:Murciélago Egipcio de la Fruta\n",
      "Acedoron_jubatus:Zorro volador Filipino\n",
      "Rhinolophus_ferrumequinum:Murciélago grande de herradura\n",
      "Eptesicus_isabellinus:Murciélago Hortelano\n",
      "Plecotus_teneriffae:Orejudo Canario\n",
      "Myotis_escalerai:Murciélago ratonero ibérico\n"
     ]
    }
   ],
   "source": [
    "murcielago_1 = {\n",
    "    'Pteropus_Livingstonii': 'Murciélago de la Fruta',\n",
    "    'Desmodus_rotundussolo': 'Murciélago Vampiro',\n",
    "    'Myotis_Sodalis': 'Murciélago de Indiana',\n",
    "    'Rousettus_aegyptiacus': 'Murciélago Egipcio de la Fruta',\n",
    "    'Acedoron_jubatus': 'Zorro volador Filipino'\n",
    "}\n",
    "\n",
    "murcielago_2 = {\n",
    "    'Rhinolophus_ferrumequinum':'Murciélago grande de herradura',\n",
    "    'Eptesicus_isabellinus':'Murciélago Hortelano',\n",
    "    'Plecotus_teneriffae':'Orejudo Canario',\n",
    "    'Myotis_escalerai':'Murciélago ratonero ibérico'\n",
    "}\n",
    "\n",
    "murcielagos_update = murcielago_1 | murcielago_2\n",
    "print(f\"Lista de murcielagos actualizados a petición de Bruce Wayne: \")\n",
    "print(\"-------------------------------------------------------------\")\n",
    "for clave, valor in murcielagos_update.items():\n",
    "    print(f\"{clave}:{valor}\")"
   ]
  },
  {
   "cell_type": "markdown",
   "metadata": {},
   "source": [
    "8. Bruce se ha equivocado haciendo taxonomía de lagunas especies de murciélagos y le pide que borre del diccionario  el murciélago hortelano. Haga el ejercicio dos veces: urilizando 'del' y '.pop()'"
   ]
  },
  {
   "cell_type": "code",
   "execution_count": 51,
   "metadata": {},
   "outputs": [
    {
     "name": "stdout",
     "output_type": "stream",
     "text": [
      "Borrando el murciélago 'murciélago hortelano' con del: \n",
      "-------------------------------------------------------------\n",
      "\n",
      "Pteropus_Livingstonii:Murciélago de la Fruta\n",
      "Desmodus_rotundussolo:Murciélago Vampiro\n",
      "Myotis_Sodalis:Murciélago de Indiana\n",
      "Rousettus_aegyptiacus:Murciélago Egipcio de la Fruta\n",
      "Acedoron_jubatus:Zorro volador Filipino\n",
      "Rhinolophus ferrumequinum:Murciélago grande de herradura\n",
      "Plecotus_teneriffae:Orejudo Canario\n",
      "Myotis_escalerai:Murciélago ratonero ibérico\n"
     ]
    }
   ],
   "source": [
    "murcielagos_update = {\n",
    "    'Pteropus_Livingstonii':'Murciélago de la Fruta',\n",
    "    'Desmodus_rotundussolo':'Murciélago Vampiro',\n",
    "    'Myotis_Sodalis':'Murciélago de Indiana',\n",
    "    'Rousettus_aegyptiacus':'Murciélago Egipcio de la Fruta',\n",
    "    'Acedoron_jubatus':'Zorro volador Filipino',\n",
    "    'Rhinolophus ferrumequinum':'Murciélago grande de herradura',\n",
    "    'Eptesicus_isabellinus':'Murciélago Hortelano',\n",
    "    'Plecotus_teneriffae':'Orejudo Canario',\n",
    "    'Myotis_escalerai':'Murciélago ratonero ibérico'\n",
    "}\n",
    "\n",
    "\n",
    "print(f\"Borrando el murciélago 'murciélago hortelano' con 'del': \")\n",
    "print(\"-------------------------------------------------------------\")\n",
    "\n",
    "del murcielagos_update['Eptesicus_isabellinus']\n",
    "print()\n",
    "for clave, valor in murcielagos_update.items():\n",
    "    print(f\"{clave}:{valor}\")\n"
   ]
  },
  {
   "cell_type": "markdown",
   "metadata": {},
   "source": [
    "8.1 Se añade nuevamente el murciélago al diccionario para borrar con .pop()"
   ]
  },
  {
   "cell_type": "code",
   "execution_count": 55,
   "metadata": {},
   "outputs": [
    {
     "name": "stdout",
     "output_type": "stream",
     "text": [
      "\n",
      "Añadiendo el murciélago 'murciélago hortelano': \n",
      "-------------------------------------------------------------\n",
      "Pteropus_Livingstonii:Murciélago de la Fruta\n",
      "Desmodus_rotundussolo:Murciélago Vampiro\n",
      "Myotis_Sodalis:Murciélago de Indiana\n",
      "Rousettus_aegyptiacus:Murciélago Egipcio de la Fruta\n",
      "Acedoron_jubatus:Zorro volador Filipino\n",
      "Rhinolophus ferrumequinum:Murciélago grande de herradura\n",
      "Plecotus_teneriffae:Orejudo Canario\n",
      "Myotis_escalerai:Murciélago ratonero ibérico\n",
      "Eptesicus_isabellinus:Murciélago Hortelano\n",
      "\n",
      "Borrando el murciélago 'murciélago hortelano' con '.pop()': \n",
      "-------------------------------------------------------------\n",
      "\n",
      "Pteropus_Livingstonii:Murciélago de la Fruta\n",
      "Desmodus_rotundussolo:Murciélago Vampiro\n",
      "Myotis_Sodalis:Murciélago de Indiana\n",
      "Rousettus_aegyptiacus:Murciélago Egipcio de la Fruta\n",
      "Acedoron_jubatus:Zorro volador Filipino\n",
      "Rhinolophus ferrumequinum:Murciélago grande de herradura\n",
      "Plecotus_teneriffae:Orejudo Canario\n",
      "Myotis_escalerai:Murciélago ratonero ibérico\n"
     ]
    }
   ],
   "source": [
    "print()\n",
    "print(f\"Añadiendo el murciélago 'murciélago hortelano': \")\n",
    "print(\"-------------------------------------------------------------\")\n",
    "\n",
    "murcielagos_update['Eptesicus_isabellinus'] = 'Murciélago Hortelano'\n",
    "for clave, valor in murcielagos_update.items():\n",
    "    print(f\"{clave}:{valor}\")\n",
    "\n",
    "print()\n",
    "print(f\"Borrando el murciélago 'murciélago hortelano' con '.pop()': \")\n",
    "print(\"-------------------------------------------------------------\")\n",
    "\n",
    "murcielagos_update.pop('Eptesicus_isabellinus')\n",
    "print()\n",
    "for clave, valor in murcielagos_update.items():\n",
    "    print(f\"{clave}:{valor}\")"
   ]
  },
  {
   "cell_type": "markdown",
   "metadata": {},
   "source": []
  }
 ],
 "metadata": {
  "kernelspec": {
   "display_name": "Curso_Python",
   "language": "python",
   "name": "python3"
  },
  "language_info": {
   "codemirror_mode": {
    "name": "ipython",
    "version": 3
   },
   "file_extension": ".py",
   "mimetype": "text/x-python",
   "name": "python",
   "nbconvert_exporter": "python",
   "pygments_lexer": "ipython3",
   "version": "3.11.9"
  }
 },
 "nbformat": 4,
 "nbformat_minor": 2
}

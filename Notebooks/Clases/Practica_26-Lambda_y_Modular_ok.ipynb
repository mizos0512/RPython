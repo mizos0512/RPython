{
 "cells": [
  {
   "cell_type": "markdown",
   "id": "967c6e08-e365-43af-a16e-a8b7cde7c419",
   "metadata": {
    "jp-MarkdownHeadingCollapsed": true
   },
   "source": [
    "# Parte 1 - Funciones de orden superior. Lambda(), map(), filter() y reduce()"
   ]
  },
  {
   "cell_type": "markdown",
   "id": "aca85ac7-18f9-4651-b2c7-c15d8b34c569",
   "metadata": {
    "jp-MarkdownHeadingCollapsed": true
   },
   "source": [
    "### Usando lambda, map(), filter() y reduce() o una combinación de ellos para realizar las siguientes tareas:"
   ]
  },
  {
   "cell_type": "markdown",
   "id": "80d07ad6-3e6b-4a2a-856c-33953fecc7db",
   "metadata": {},
   "source": [
    "1 - Supongamos que un diccionario contiene el tipo de mascota (gato, perro, etc.), el nombre de la mascota y la edad de la mascota. Escribe un programa que obtenga la suma de las edades de todos los perros."
   ]
  },
  {
   "cell_type": "code",
   "execution_count": 2,
   "id": "2efd4b97-195d-406a-b6e7-0e7bf457aa84",
   "metadata": {},
   "outputs": [
    {
     "name": "stdout",
     "output_type": "stream",
     "text": [
      "La suma de las edades de los perros es igual a '12' años\n"
     ]
    }
   ],
   "source": [
    "from functools import reduce\n",
    "\n",
    "mascotas = [\n",
    "    {'tipo': 'gato', 'nombre': 'Chahi', 'edad': 3},\n",
    "    {'tipo': 'perro', 'nombre': 'Rintintin', 'edad': 6},\n",
    "    {'tipo': 'perro', 'nombre': 'Laica', 'edad': 4},\n",
    "    {'tipo': 'gato', 'nombre': 'Yaco', 'edad': 4},\n",
    "    {'tipo': 'perro', 'nombre': 'Rolo', 'edad': 2}\n",
    "]\n",
    "\n",
    "perros = filter(lambda x: x['tipo'] == 'perro', mascotas)\n",
    "edades = map(lambda x: x['edad'], perros)\n",
    "suma_edad = reduce(lambda x, y: x + y, edades)\n",
    "\n",
    "print(f\"La suma de las edades de los perros es igual a '{suma_edad}' años\")\n"
   ]
  },
  {
   "cell_type": "markdown",
   "id": "bf1ba130-4ff6-4d87-84df-212dd2b26124",
   "metadata": {},
   "source": [
    "2 - Considere la siguiente lista:  \n",
    "lst = [1.25, 3.22, 4.68, 10.95, 32.55, 12.54]  \n",
    "Los números de la lista representan radios de circunferencias. Escribe un programa para obtener una lista de áreas de estos círculos redondeada a dos decimales."
   ]
  },
  {
   "cell_type": "code",
   "execution_count": 3,
   "id": "98a8456a-cf2a-4e21-96df-a96b13fe9c84",
   "metadata": {},
   "outputs": [
    {
     "name": "stdout",
     "output_type": "stream",
     "text": [
      "Radios de las circunsferencias:\n",
      "-------------------------------\n",
      "[1.25, 3.22, 4.68, 10.95, 32.55, 12.54]\n",
      "\n",
      "Areas de las circunsferencias:\n",
      "-------------------------------\n",
      "[4.91, 32.57, 68.81, 376.68, 3328.53, 494.02]\n"
     ]
    }
   ],
   "source": [
    "import math\n",
    "\n",
    "lst = [1.25, 3.22, 4.68, 10.95, 32.55, 12.54]\n",
    "areas = list(map(lambda radio: round(math.pi * radio**2, 2), lst))\n",
    "\n",
    "print(\"Radios de las circunsferencias:\")\n",
    "print(\"-------------------------------\")\n",
    "print(lst)\n",
    "print()\n",
    "print(\"Areas de las circunsferencias:\")\n",
    "print(\"-------------------------------\")\n",
    "print(areas)\n",
    "\n"
   ]
  },
  {
   "cell_type": "markdown",
   "id": "e476c7d4-2399-4eec-b8f1-b37e5488282b",
   "metadata": {},
   "source": [
    "3 - Considere las siguientes listas:  \n",
    "nums = [10, 20, 30, 40, 50, 60, 70, 80]  \n",
    "strs = ['A', 'B', 'C', 'D', 'E', 'F', 'G', 'H']  \n",
    "Escribe un programa para obtener una lista de tuplas, donde cada tupla contenga un número de una lista y una cadena de otra, en el mismo orden en que aparecen en las listas originales."
   ]
  },
  {
   "cell_type": "code",
   "execution_count": 6,
   "id": "2cfc9465-40eb-4f53-adc3-b6c57b47788c",
   "metadata": {},
   "outputs": [
    {
     "name": "stdout",
     "output_type": "stream",
     "text": [
      "Resultado = [(10, 'A'), (20, 'B'), (30, 'C'), (40, 'D'), (50, 'E'), (60, 'F'), (70, 'G'), (80, 'H')]\n"
     ]
    }
   ],
   "source": [
    "nums = [10, 20, 30, 40, 50, 60, 70, 80]\n",
    "strs = ['A', 'B', 'C', 'D', 'E', 'F', 'G', 'H']\n",
    "\n",
    "resultado = list(map(lambda x, y: (x, y), nums, strs))\n",
    "\n",
    "print(f\"Resultado = {resultado}\")\n"
   ]
  },
  {
   "cell_type": "markdown",
   "id": "2f5a2236-8003-45c7-93e9-429fc5c65761",
   "metadata": {},
   "source": [
    "4 - Considere la siguiente lista:  \n",
    "lst = ['Malayalam', 'Drawing', 'madamIamadam', '1234321']  \n",
    "Escribe un programa que imprima las cadenas que son palíndromos."
   ]
  },
  {
   "cell_type": "code",
   "execution_count": 2,
   "id": "4b5216d4-3da9-46cb-ab66-3c92d6713625",
   "metadata": {},
   "outputs": [
    {
     "name": "stdout",
     "output_type": "stream",
     "text": [
      "['Malayalam', '1234321']\n"
     ]
    }
   ],
   "source": [
    "\n",
    "lst = ['Malayalam', 'Drawing', 'madamIamadam', '1234321']\n",
    "\n",
    "palindromos = list(filter(lambda s: s.lower() == s.lower()[::-1], lst))\n",
    "\n",
    "print(palindromos)\n",
    "\n",
    "\n",
    "\n"
   ]
  },
  {
   "cell_type": "markdown",
   "id": "ae61e557-4188-4c03-bc22-be53a4097266",
   "metadata": {},
   "source": [
    "5 - Una lista contiene nombres de empleados. Escribe un programa para filtrar aquellos nombres cuya longitud sea superior a 8 caracteres."
   ]
  },
  {
   "cell_type": "code",
   "execution_count": 3,
   "id": "5bbc6b37-c1cc-4431-8e7a-4090252dc319",
   "metadata": {},
   "outputs": [
    {
     "name": "stdout",
     "output_type": "stream",
     "text": [
      "['Catherine', 'Estephania', 'Alejandra']\n"
     ]
    }
   ],
   "source": [
    "nombres = ['Filomena', 'Bob', 'Catherine', 'Daniel', 'Estephania', 'Alejandra']\n",
    "nombres_char8 = list(filter(lambda nombre: len(nombre) > 8, nombres))\n",
    "print(nombres_char8)\n"
   ]
  },
  {
   "cell_type": "markdown",
   "id": "2066ad6a-f374-4adf-87a0-d40cceccadf3",
   "metadata": {},
   "source": [
    "6 - Utilizando la función de filter(), encuentre los valores comunes a las dos listas siguientes.   \n",
    "a = [1,2,3,5,7,9]  \n",
    "\n",
    "b = [2,3,5,6,7,8]  \n",
    "\n",
    "El resultado debe estar guardado en otra lista.\n"
   ]
  },
  {
   "cell_type": "code",
   "execution_count": 5,
   "id": "25c5a8b8-be97-4414-9989-e8ccd98ccc5f",
   "metadata": {},
   "outputs": [
    {
     "name": "stdout",
     "output_type": "stream",
     "text": [
      "[2, 3, 5, 7]\n"
     ]
    }
   ],
   "source": [
    "a = [1,2,3,5,7,9]\n",
    "b = [2,3,5,6,7,8]\n",
    "\n",
    "comunes = list(filter(lambda x: x in b, a))\n",
    "\n",
    "print(comunes)\n"
   ]
  },
  {
   "cell_type": "markdown",
   "id": "6f95561f-c3f2-48d8-a08a-e7b59c152bcc",
   "metadata": {},
   "source": [
    "6 - Teniendo en cuenta el rango de valores de abajo, utilice filter() para devolver una lista que contenga sólo números negativos.  \n",
    "range(-17, 17)"
   ]
  },
  {
   "cell_type": "code",
   "execution_count": 6,
   "id": "81f29282-28db-4255-95d3-5d759168cfca",
   "metadata": {},
   "outputs": [
    {
     "name": "stdout",
     "output_type": "stream",
     "text": [
      "[-17, -16, -15, -14, -13, -12, -11, -10, -9, -8, -7, -6, -5, -4, -3, -2, -1]\n"
     ]
    }
   ],
   "source": [
    "rango = range(-17, 17)\n",
    "valores_negativos = list(filter(lambda x: x < 0, rango))\n",
    "\n",
    "print(valores_negativos)\n"
   ]
  },
  {
   "cell_type": "markdown",
   "id": "6b522fee-3b2e-4e2d-88c3-29a6261e5645",
   "metadata": {},
   "source": [
    "7 - Basado en la cadena de texto de abajo, utilice map() y lambda para imprimir una lista de listas que contenga cada palabra en mayúsculas, otra en minúsculas y el número de caracteres de la palabra.  \n",
    "words = 'Data Science Academy offers the best data analysis courses in Spain'"
   ]
  },
  {
   "cell_type": "markdown",
   "id": "dd8819c8-a454-4d5b-a4bb-31bdb42974d3",
   "metadata": {},
   "source": [
    "Ejemplo de salida:  \n",
    "[['DATA', 'data', 4], []...]"
   ]
  },
  {
   "cell_type": "code",
   "execution_count": 7,
   "id": "001d830a-0d12-486a-8d63-b01ea0ad1626",
   "metadata": {},
   "outputs": [
    {
     "name": "stdout",
     "output_type": "stream",
     "text": [
      "[['DATA', 'data', 4], ['SCIENCE', 'science', 7], ['ACADEMY', 'academy', 7], ['OFFERS', 'offers', 6], ['THE', 'the', 3], ['BEST', 'best', 4], ['DATA', 'data', 4], ['ANALYSIS', 'analysis', 8], ['COURSES', 'courses', 7], ['IN', 'in', 2], ['SPAIN', 'spain', 5]]\n"
     ]
    }
   ],
   "source": [
    "words = 'Data Science Academy offers the best data analysis courses in Spain'\n",
    "\n",
    "lista_palabras = words.split()\n",
    "\n",
    "resultado = list(map(lambda x: [x.upper(), x.lower(), len(x)], lista_palabras))\n",
    "\n",
    "print(resultado)\n"
   ]
  },
  {
   "cell_type": "markdown",
   "id": "f2802ee8-3011-450b-bdca-86dc6ef76a15",
   "metadata": {},
   "source": [
    "8 - Considere la siguiente lista:  \n",
    "lst = ['Benevolent', 'Dictator', 'For', 'Life']  \n",
    "Escriba un programa para obtener la cadena: 'Benevolent Dictator For Life'"
   ]
  },
  {
   "cell_type": "code",
   "execution_count": 8,
   "id": "23787d45-ded5-4c96-96e4-197ed3e0e346",
   "metadata": {},
   "outputs": [
    {
     "name": "stdout",
     "output_type": "stream",
     "text": [
      "Benevolent Dictator For Life\n"
     ]
    }
   ],
   "source": [
    "from functools import reduce\n",
    "\n",
    "lst = ['Benevolent', 'Dictator', 'For', 'Life']\n",
    "resultado = reduce(lambda x, y: x + ' ' + y, lst)\n",
    "\n",
    "print(resultado)\n",
    "\n"
   ]
  },
  {
   "cell_type": "markdown",
   "id": "60ea0aff-5952-43b5-97ff-9addcf5da29c",
   "metadata": {},
   "source": [
    "9 - Considere la siguiente lista de estudiantes de una clase:  \n",
    "lst = ['Miguel', 'Francisco', 'Julia', 'Margarita', 'Elizabeth']  \n",
    "Escribe un programa que muestre una lista que contenga los nombres anteriores en mayúsculas.  \n"
   ]
  },
  {
   "cell_type": "code",
   "execution_count": 9,
   "id": "51842f24-a2b6-480e-b893-90216d1bc589",
   "metadata": {},
   "outputs": [
    {
     "name": "stdout",
     "output_type": "stream",
     "text": [
      "['MIGUEL', 'FRANCISCO', 'JULIA', 'MARGARITA', 'ELIZABETH']\n"
     ]
    }
   ],
   "source": [
    "lst = ['Miguel', 'Francisco', 'Julia', 'Margarita', 'Elizabeth']\n",
    "\n",
    "nombres_mayusculas = list(map(lambda x: x.upper(), lst))\n",
    "\n",
    "print(nombres_mayusculas)\n"
   ]
  },
  {
   "cell_type": "markdown",
   "id": "e3a04ec6-47ea-4efd-af8d-09eaf11c8729",
   "metadata": {
    "jp-MarkdownHeadingCollapsed": true
   },
   "source": [
    "### Parte 2 - Programación modular"
   ]
  },
  {
   "cell_type": "markdown",
   "id": "dc38834c-a662-4dd1-bf6c-ae1b7305b665",
   "metadata": {},
   "source": [
    "10 - Escribe un programa que contenga las funciones fun1( ), fun2( ), fun3( ) y algunas sentencias. Añade código adecuado al programa para poder utilizarlo como módulo o como script."
   ]
  },
  {
   "cell_type": "code",
   "execution_count": null,
   "id": "073cf156-05de-4b83-8435-61578bea24cf",
   "metadata": {},
   "outputs": [],
   "source": [
    "def fun1(x, y):\n",
    "    print(\"Esta es la función 1\")\n",
    "    return x + y\n",
    "\n",
    "def fun2(x, y):\n",
    "    print(\"Esta es la función 2\")\n",
    "    return x - y\n",
    "\n",
    "def fun3(x, y):\n",
    "    print(\"Esta es la función 3\")\n",
    "    return x * y\n",
    "\n",
    "PI = 3.1415927\n",
    "radio= 2.2\n",
    "Area = PI*radio**2\n",
    "\n",
    "if __name__ == \"__main__\":\n",
    "    # Si el programa se ejecuta como script independiente, se ejecutan las siguientes sentencias.\n",
    "    print(\"Este archivo se está ejecutando como un script independiente\")\n",
    "    print(\"Ejecutando la función 1...\")\n",
    "    print(f\"El resultado de la suma de '8 + 3' es {fun1(8,3)}\")\n",
    "    print(\"Ejecutando la función 2...\")\n",
    "    print(f\"El resultado de la resta de '8 - 3' es {fun2(8,3)}\")\n",
    "    print(\"Ejecutando la función 3...\")\n",
    "    print(f\"El resultado de la multiplicación de '8 * 3' es {fun3(8,3)}\")\n",
    "    print(f\"Imprimiendo la variable PI con dos decimales: {PI:.2f}\")\n",
    "    print(f\"El resultado del área con un radio de'{radio:.2f}' es de '{Area:.3f}'\")\n",
    "    \n"
   ]
  },
  {
   "cell_type": "markdown",
   "id": "a76dbf80",
   "metadata": {},
   "source": [
    "Por ejemplo si se estuviera utiizando como módulo, y dicho módulo se llama: mi_modulo.py\n",
    "dentro del programa principal pondría:\n",
    "\n",
    "from mi_mdulo import fun1, fun2, fun3\n",
    "\n",
    "y despues usaria las funciones de la forma:\n",
    "\n",
    "fun1(8,3)\n",
    "fun2(8,3)\n",
    "fun3(8,3)\n",
    "\n",
    "Para ejecutar mi_modulo.py como Script se pondría en el prompt:\n",
    "\n",
    "python mi_modulo.py\n",
    "\n",
    "Siempre que se ejecute como script se ejecuta todo el bloque de codigo que hay despues de\n",
    "if __name__ == \"__main__\": incluyendo esta sentencia.\n",
    "\n",
    "Si se ejecuta como módulo se puede importar mi_modulo desde otro programa y usar las funciones sin ejecutar el código  dentro de if __name__ == \"__main__\":\n"
   ]
  },
  {
   "cell_type": "markdown",
   "id": "fef0f3c0-222b-400d-905a-9b17b85381bc",
   "metadata": {},
   "source": [
    "11 - Supongamos que existen tres módulos mod1.py, mod2.py, mod3.py, que contienen las funciones f1( ), f2( ) y f3( ) respectivamente. ¿Cómo utilizarías o ejecutarías esas funciones en tu programa?"
   ]
  },
  {
   "cell_type": "code",
   "execution_count": null,
   "id": "5201aa8d",
   "metadata": {},
   "outputs": [],
   "source": [
    "import mod1\n",
    "import mod2 \n",
    "import mod3\n",
    "\n",
    "print(\"Ejecutando 'f1'\")\n",
    "mod1.f1()\n",
    "print(\"Ejecutando 'f2'\")\n",
    "mod2.f2()\n",
    "print(\"Ejecutando 'f3'\")\n",
    "mod3.f3()\n"
   ]
  },
  {
   "cell_type": "markdown",
   "id": "4a90d281-fea3-46c0-9b50-045a01017bf9",
   "metadata": {},
   "source": [
    "12 - Indicar si las siguientes afirmaciones son Verdaderas o Falsas. Explicar las falsas."
   ]
  },
  {
   "cell_type": "markdown",
   "id": "5270edf5-ff4c-477d-8ed3-bc86655e1ebb",
   "metadata": {},
   "source": [
    "(a) Una función puede pertenecer a un módulo y el módulo puede pertenecer a un paquete."
   ]
  },
  {
   "cell_type": "markdown",
   "id": "e4e56684",
   "metadata": {},
   "source": [
    "Verdadero"
   ]
  },
  {
   "cell_type": "markdown",
   "id": "6fc09887-96dc-49e0-89c5-618a498d4ae9",
   "metadata": {},
   "source": [
    "(b) Un paquete puede contener uno o varios módulos."
   ]
  },
  {
   "cell_type": "markdown",
   "id": "823a70c0",
   "metadata": {},
   "source": [
    "Verdadero"
   ]
  },
  {
   "cell_type": "markdown",
   "id": "b9949a49-4ac5-430c-9529-6baddec23962",
   "metadata": {},
   "source": [
    "(c) Se permiten los paquetes anidados"
   ]
  },
  {
   "cell_type": "markdown",
   "id": "96e4947b",
   "metadata": {},
   "source": [
    "Verdadero"
   ]
  },
  {
   "cell_type": "markdown",
   "id": "9c9ad380-266d-492f-a591-86faa95b0e9a",
   "metadata": {},
   "source": [
    "(d) En la declaración:  \n",
    "`import a.b.c`  \n",
    "'c' no puede ser una función"
   ]
  },
  {
   "cell_type": "markdown",
   "id": "ece9372c",
   "metadata": {},
   "source": [
    "Verdadera\n",
    "Siempre y cuando 'c' sea un módulo y no una función."
   ]
  },
  {
   "cell_type": "markdown",
   "id": "ee522aaf-bd22-46d5-a849-a1c6ba015a46",
   "metadata": {},
   "source": [
    "(e) Es una buena idea utilizar * para importar todas las funciones/clases definidas en un módulo."
   ]
  },
  {
   "cell_type": "markdown",
   "id": "4449243f",
   "metadata": {},
   "source": [
    "Falso\n",
    "No es buena idea utilizar el comodín '*' para querer importar todas las funciones /clases definidas en un módulo porque puede generar conflictos en los espacio de nombres actual con nombres no deseados, dificultades para el rastreo de las funciones y clases importadas y conflictos con los nombres si se importan múltiples módulos con funciones/clases que tienen el mismo nombre."
   ]
  }
 ],
 "metadata": {
  "kernelspec": {
   "display_name": "Python 3 (ipykernel)",
   "language": "python",
   "name": "python3"
  },
  "language_info": {
   "codemirror_mode": {
    "name": "ipython",
    "version": 3
   },
   "file_extension": ".py",
   "mimetype": "text/x-python",
   "name": "python",
   "nbconvert_exporter": "python",
   "pygments_lexer": "ipython3",
   "version": "3.12.1"
  }
 },
 "nbformat": 4,
 "nbformat_minor": 5
}

{
 "cells": [
  {
   "cell_type": "markdown",
   "metadata": {},
   "source": [
    "1. Fucnión factorial recursiva."
   ]
  },
  {
   "cell_type": "code",
   "execution_count": 9,
   "metadata": {},
   "outputs": [
    {
     "name": "stdout",
     "output_type": "stream",
     "text": [
      "Resultado =  6\n"
     ]
    }
   ],
   "source": [
    "def refact(n):\n",
    "    if n == 0:\n",
    "        return 1\n",
    "    else:\n",
    "        p = n * refact(n-1)\n",
    "        return p\n",
    "num = int(input('Entra un número: '))\n",
    "factorial = refact(num)\n",
    "print(\"Resultado = \", factorial)            "
   ]
  },
  {
   "cell_type": "markdown",
   "metadata": {},
   "source": [
    "2. Definir un programa que genere y devuelva una lista de listas que contengan todas las combinaciones posibles de los números 1, 2 y 3"
   ]
  },
  {
   "cell_type": "code",
   "execution_count": 40,
   "metadata": {},
   "outputs": [
    {
     "name": "stdout",
     "output_type": "stream",
     "text": [
      "'pos' comienza en: 0\n",
      "Valor de 'i': 1\n",
      "Valor de 'j': 1\n",
      "Valor de 'k': 1\n",
      "Ahora 'pos' tiene el valor de: 1\n",
      "Valor de 'k': 2\n",
      "Ahora 'pos' tiene el valor de: 2\n",
      "Valor de 'k': 3\n",
      "Ahora 'pos' tiene el valor de: 3\n",
      "Valor de 'j': 2\n",
      "Valor de 'k': 1\n",
      "Ahora 'pos' tiene el valor de: 4\n",
      "Valor de 'k': 2\n",
      "Ahora 'pos' tiene el valor de: 5\n",
      "Valor de 'k': 3\n",
      "Ahora 'pos' tiene el valor de: 6\n",
      "Valor de 'j': 3\n",
      "Valor de 'k': 1\n",
      "Ahora 'pos' tiene el valor de: 7\n",
      "Valor de 'k': 2\n",
      "Ahora 'pos' tiene el valor de: 8\n",
      "Valor de 'k': 3\n",
      "Ahora 'pos' tiene el valor de: 9\n",
      "Valor de 'i': 2\n",
      "Valor de 'j': 1\n",
      "Valor de 'k': 1\n",
      "Ahora 'pos' tiene el valor de: 10\n",
      "Valor de 'k': 2\n",
      "Ahora 'pos' tiene el valor de: 11\n",
      "Valor de 'k': 3\n",
      "Ahora 'pos' tiene el valor de: 12\n",
      "Valor de 'j': 2\n",
      "Valor de 'k': 1\n",
      "Ahora 'pos' tiene el valor de: 13\n",
      "Valor de 'k': 2\n",
      "Ahora 'pos' tiene el valor de: 14\n",
      "Valor de 'k': 3\n",
      "Ahora 'pos' tiene el valor de: 15\n",
      "Valor de 'j': 3\n",
      "Valor de 'k': 1\n",
      "Ahora 'pos' tiene el valor de: 16\n",
      "Valor de 'k': 2\n",
      "Ahora 'pos' tiene el valor de: 17\n",
      "Valor de 'k': 3\n",
      "Ahora 'pos' tiene el valor de: 18\n",
      "Valor de 'i': 3\n",
      "Valor de 'j': 1\n",
      "Valor de 'k': 1\n",
      "Ahora 'pos' tiene el valor de: 19\n",
      "Valor de 'k': 2\n",
      "Ahora 'pos' tiene el valor de: 20\n",
      "Valor de 'k': 3\n",
      "Ahora 'pos' tiene el valor de: 21\n",
      "Valor de 'j': 2\n",
      "Valor de 'k': 1\n",
      "Ahora 'pos' tiene el valor de: 22\n",
      "Valor de 'k': 2\n",
      "Ahora 'pos' tiene el valor de: 23\n",
      "Valor de 'k': 3\n",
      "Ahora 'pos' tiene el valor de: 24\n",
      "Valor de 'j': 3\n",
      "Valor de 'k': 1\n",
      "Ahora 'pos' tiene el valor de: 25\n",
      "Valor de 'k': 2\n",
      "Ahora 'pos' tiene el valor de: 26\n",
      "Valor de 'k': 3\n",
      "Ahora 'pos' tiene el valor de: 27\n",
      "[[1, 1, 1], [1, 1, 2], [1, 1, 3], [1, 2, 1], [1, 2, 2], [1, 2, 3], [1, 3, 1], [1, 3, 2], [1, 3, 3], [2, 1, 1], [2, 1, 2], [2, 1, 3], [2, 2, 1], [2, 2, 2], [2, 2, 3], [2, 3, 1], [2, 3, 2], [2, 3, 3], [3, 1, 1], [3, 1, 2], [3, 1, 3], [3, 2, 1], [3, 2, 2], [3, 2, 3], [3, 3, 1], [3, 3, 2], [3, 3, 3]]\n"
     ]
    }
   ],
   "source": [
    "def generar(n):\n",
    "    lista_de_lista = [[] for i in range(n**n)]\n",
    "    pos=0\n",
    "    print(f\"'pos' comienza en: {pos}\")\n",
    "    for i in range(1, n + 1):\n",
    "        print(f\"Valor de 'i': {i}\")\n",
    "        for j in range(1, n + 1):\n",
    "                print(f\"Valor de 'j': {j}\")\n",
    "                for k in range(1, n+1):\n",
    "                    print(f\"Valor de 'k': {k}\")\n",
    "                    t=[i, j, k]\n",
    "                    lista_de_lista[pos] = t\n",
    "                    pos+=1\n",
    "                    print(f\"Ahora 'pos' tiene el valor de: {pos}\")\n",
    "    return lista_de_lista\n",
    "    \n",
    "a = generar(3)\n",
    "print(a)    "
   ]
  },
  {
   "cell_type": "markdown",
   "metadata": {},
   "source": [
    "3. El ejercicio anterior pero de forma recursiva."
   ]
  },
  {
   "cell_type": "code",
   "execution_count": 41,
   "metadata": {},
   "outputs": [
    {
     "name": "stdout",
     "output_type": "stream",
     "text": [
      "[[1, 1, 1], [1, 1, 2], [1, 1, 3], [1, 2, 1], [1, 2, 2], [1, 2, 3], [1, 3, 1], [1, 3, 2], [1, 3, 3], [2, 1, 1], [2, 1, 2], [2, 1, 3], [2, 2, 1], [2, 2, 2], [2, 2, 3], [2, 3, 1], [2, 3, 2], [2, 3, 3], [3, 1, 1], [3, 1, 2], [3, 1, 3], [3, 2, 1], [3, 2, 2], [3, 2, 3], [3, 3, 1], [3, 3, 2], [3, 3, 3]]\n"
     ]
    }
   ],
   "source": [
    "def generar(n):\n",
    "    t=[]\n",
    "    lista_de_lista= [[] for i in range(n**n)]\n",
    "    helper(n, t, lista_de_lista)\n",
    "    return(lista_de_lista)\n",
    "\n",
    "def helper(n, t, lista_de_lista):\n",
    "    global j\n",
    "    if len(t) == n:\n",
    "        lista_de_lista[j]=lista_de_lista[j] + t\n",
    "        j+=1\n",
    "        return\n",
    "    for i in range(1, n+1):\n",
    "        t.append(i)\n",
    "        helper(n, t, lista_de_lista)\n",
    "        t.pop()\n",
    "j = 0\n",
    "a = generar(3)\n",
    "print(a)        \n",
    "        "
   ]
  }
 ],
 "metadata": {
  "kernelspec": {
   "display_name": "Curso_Python",
   "language": "python",
   "name": "python3"
  },
  "language_info": {
   "codemirror_mode": {
    "name": "ipython",
    "version": 3
   },
   "file_extension": ".py",
   "mimetype": "text/x-python",
   "name": "python",
   "nbconvert_exporter": "python",
   "pygments_lexer": "ipython3",
   "version": "3.11.9"
  }
 },
 "nbformat": 4,
 "nbformat_minor": 2
}

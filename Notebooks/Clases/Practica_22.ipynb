{
 "cells": [
  {
   "cell_type": "markdown",
   "metadata": {},
   "source": [
    "1. Cree un diccionario que contenga los nombres de los estudiantes y las calificaciones obtenidas por ellos en tres materias. Escriba un programa para reemplazar las calificaciones de tres materias con el total de tres materias y las calificaciones promedio. Informe también quien es el mejor de la clase."
   ]
  },
  {
   "cell_type": "code",
   "execution_count": 21,
   "metadata": {},
   "outputs": [
    {
     "name": "stdout",
     "output_type": "stream",
     "text": [
      "{'Juan': 12, 'Reinaldo': 9, 'Pedro': 13, 'Eva': 10, 'Olga': 15}\n",
      "{'Juan': 4.0, 'Reinaldo': 3.0, 'Pedro': 4.333333333333333, 'Eva': 3.3333333333333335, 'Olga': 5.0}\n"
     ]
    }
   ],
   "source": [
    "estudiante_calificacion= {\n",
    "    'Juan':[3, 4, 5],\n",
    "    'Reinaldo':[3, 3, 3],\n",
    "    'Pedro':[4, 4, 5],\n",
    "    'Eva':[3, 3, 4],\n",
    "    'Olga':[5, 5, 5]\n",
    "}\n",
    "\n",
    "dicc_total={}\n",
    "dicc_promedio={}\n",
    "\n",
    "for clave,valor in estudiante_calificacion.items():\n",
    "    contar=0\n",
    "    suma=0\n",
    "    for j in range(3):\n",
    "        suma+=valor[j]\n",
    "        contar+=1\n",
    "    prom=suma/contar\n",
    "    dicc_total[clave]=suma\n",
    "    dicc_promedio[clave]=prom\n",
    "\n",
    "print(dicc_total)\n",
    "print(dicc_promedio)"
   ]
  }
 ],
 "metadata": {
  "kernelspec": {
   "display_name": "Curso_Python",
   "language": "python",
   "name": "python3"
  },
  "language_info": {
   "codemirror_mode": {
    "name": "ipython",
    "version": 3
   },
   "file_extension": ".py",
   "mimetype": "text/x-python",
   "name": "python",
   "nbconvert_exporter": "python",
   "pygments_lexer": "ipython3",
   "version": "3.11.9"
  }
 },
 "nbformat": 4,
 "nbformat_minor": 2
}

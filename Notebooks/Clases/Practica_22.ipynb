{
 "cells": [
  {
   "cell_type": "markdown",
   "metadata": {},
   "source": [
    "1. Cree un diccionario que contenga los nombres de los estudiantes y las calificaciones obtenidas por ellos en tres materias. Escriba un programa para reemplazar las calificaciones de tres materias con el total de tres materias y las calificaciones promedio. Informe también quien es el mejor de la clase."
   ]
  },
  {
   "cell_type": "code",
   "execution_count": 42,
   "metadata": {},
   "outputs": [
    {
     "name": "stdout",
     "output_type": "stream",
     "text": [
      "{'Juan': 12, 'Reinaldo': 9, 'Pedro': 14, 'Eva': 10, 'Olga': 13}\n",
      "\n",
      "{'Juan': 4.0, 'Reinaldo': 3.0, 'Pedro': 4.666666666666667, 'Eva': 3.3333333333333335, 'Olga': 4.333333333333333}\n",
      "\n",
      "El mejor en la clase es: 'Pedro' con una calificación promedio de: 4.67\n"
     ]
    }
   ],
   "source": [
    "estudiante_calificacion= {\n",
    "    'Juan':[3, 4, 5],\n",
    "    'Reinaldo':[3, 3, 3],\n",
    "    'Pedro':[4, 5, 5],\n",
    "    'Eva':[3, 3, 4],\n",
    "    'Olga':[5, 3, 5]\n",
    "}\n",
    "\n",
    "dicc_total={}\n",
    "dicc_promedio={}\n",
    "mas_alto= 1\n",
    "\n",
    "for clave,valor in estudiante_calificacion.items():\n",
    "    dicc_total[clave]=sum(valor)\n",
    "    dicc_promedio[clave]=sum(valor)/len(valor)\n",
    "    valor= sum(valor)/len(valor)\n",
    "    if valor>mas_alto:\n",
    "        mejor = clave\n",
    "        mas_alto = valor\n",
    "    \n",
    "    \n",
    "print(dicc_total)\n",
    "print()\n",
    "print(dicc_promedio)\n",
    "print()\n",
    "print(f\"El mejor en la clase es: '{mejor}' con una calificación promedio de: {mas_alto:.2f}\")\n"
   ]
  },
  {
   "cell_type": "markdown",
   "metadata": {},
   "source": [
    "2. Crear un diccionario que almacene los siguientes datos:\n",
    "Interface\t\tIP\t\t    Address status\n",
    "eth0\t\t\t1.1.1.1\t\t\tup\n",
    "eth1\t\t\t2.2.2.2\t\t\tup\n",
    "wlan0\t\t\t3.3.3.3\t\t\tdown\n",
    "wlan1\t\t\t4.4.4.4\t\t\tup\n",
    "\n",
    "Escriba un programa que realice las ssiguientes operaciones:\n",
    "- Encontrar el estado de una interfaz determinada.\n",
    "- Encuentra la interfaz y la IP de todas las interfaces que están activas.\n",
    "- Encuentra el número total de interfaces.\n",
    "- Añadir dos nuevas entradas al diccionario."
   ]
  },
  {
   "cell_type": "code",
   "execution_count": 25,
   "metadata": {},
   "outputs": [
    {
     "name": "stdout",
     "output_type": "stream",
     "text": [
      "El estado de la interfaz 'wlan1' es 'up'\n",
      "\n",
      "Interfaces activas:\n",
      "-------------------\n",
      "eth0:{'IP': '1.1.1.1', 'Address status': 'up'}\n",
      "eth1:{'IP': '2.2.2.2', 'Address status': 'up'}\n",
      "wlan1:{'IP': '4.4.4.4', 'Address status': 'up'}\n",
      "\n",
      "Hay un total de 4 interfaces\n",
      "\n",
      "Se añadieron 2 interfaces más\n",
      "-----------------------------\n",
      "eth0:{'IP': '1.1.1.1', 'Address status': 'up'}\n",
      "eth1:{'IP': '2.2.2.2', 'Address status': 'up'}\n",
      "wlan0:{'IP': '3.3.3.3', 'Address status': 'down'}\n",
      "wlan1:{'IP': '4.4.4.4', 'Address status': 'up'}\n",
      "eth2:{'IP': '5.5.5.5', 'Address status': 'up'}\n",
      "wlan2:{'IP': '6.6.6.6', 'Address status': 'down'}\n"
     ]
    }
   ],
   "source": [
    "\n",
    "# Conociendo el estado de la interfaz\n",
    "interfaz=input(\"Teclee la interfaz que desea conocer el estado: \")\n",
    "\n",
    "if interfaz not in ['eth0','eth1','wlan0','wlan1']:\n",
    "    print(\"Ese estado no existe...\")\n",
    "else:    \n",
    "\n",
    "   interfaces = {\n",
    "       'eth0': {'IP': '1.1.1.1', 'Address status': 'up'},\n",
    "       'eth1': {'IP': '2.2.2.2', 'Address status': 'up'},\n",
    "       'wlan0': {'IP': '3.3.3.3', 'Address status': 'down'},\n",
    "       'wlan1': {'IP': '4.4.4.4', 'Address status': 'up'},\n",
    "    }\n",
    "   print(f\"El estado de la interfaz '{interfaz}' es '{interfaces[interfaz]['Address status']}'\")\n",
    "print()\n",
    "# Listar las interfaces que estan activas\n",
    "print(\"Interfaces activas:\")\n",
    "print(\"-------------------\")\n",
    "for clave, valor in interfaces.items():\n",
    "    if valor['Address status']=='up':\n",
    "        print(f\"{clave}:{valor}\")\n",
    "print()\n",
    "# Encuentra el número total de interfaces\n",
    "# Añadiendo dos nuevas entradas al diccionario\n",
    "print(f\"Hay un total de {len(interfaces)} interfaces\")  \n",
    "print()\n",
    "print(\"Se añadieron 2 interfaces más\")\n",
    "print(\"-----------------------------\")\n",
    "interfaces['eth2'] = {'IP':'5.5.5.5', 'Address status': 'up'}     \n",
    "interfaces['wlan2'] = {'IP':'6.6.6.6', 'Address status': 'down'}\n",
    "for c, v in interfaces.items():\n",
    "    print(f\"{c}:{v}\")"
   ]
  },
  {
   "cell_type": "markdown",
   "metadata": {},
   "source": [
    "3. Crear un diccionario con 10 nombres de usuario y contraseña. Elprograma recibe el nombre de usuario y la contraseña por el teclado y luego los busca en el diccionario. imprima el mensaje apropiado en pantalla en función  de si se encuentra una coincidencia o no."
   ]
  },
  {
   "cell_type": "code",
   "execution_count": 3,
   "metadata": {},
   "outputs": [
    {
     "name": "stdout",
     "output_type": "stream",
     "text": [
      "Introduzca el usuario y contraseña: \n",
      "\n",
      "Acceso concedido...\n"
     ]
    }
   ],
   "source": [
    "cuentas = {\n",
    "    'Juan':'1234',\n",
    "    'Pedro':'5678',\n",
    "    'José':'9101',\n",
    "    'Mario':'1213',\n",
    "    'Fernando':'1516',\n",
    "    'Julio':'1718',\n",
    "    'Reinaldo':'1920',\n",
    "    'Oscar':'2122',\n",
    "    'Jorge':'2324',\n",
    "    'Carlos':'2526'\n",
    "}\n",
    "\n",
    "print(\"Introduzca el usuario y contraseña: \")\n",
    "print()\n",
    "ok=False\n",
    "usuario=input(\"Usuario: \")\n",
    "pws=input(\"Contraseña: \")\n",
    "for c, v in cuentas.items():\n",
    "    if c==usuario and v==pws:\n",
    "        ok=True \n",
    "if ok:\n",
    "    print(\"Acceso concedido...\")\n",
    "else:\n",
    "    print(\"Acceso denegado 'usuario' o 'contraseña' incorrecto\")     \n",
    "    \n",
    "    "
   ]
  },
  {
   "cell_type": "markdown",
   "metadata": {},
   "source": [
    "4. Escriba un programa en Python que imprima un diccionario donde las claves sean números entre el 1 y el 15 (ambos incluidos) y los valores sean los cuadrados de sus claves respectivas."
   ]
  },
  {
   "cell_type": "code",
   "execution_count": 16,
   "metadata": {},
   "outputs": [
    {
     "name": "stdout",
     "output_type": "stream",
     "text": [
      "{1: 1, 2: 4, 3: 9, 4: 16, 5: 25, 6: 36, 7: 49, 8: 64, 9: 81, 10: 100, 11: 121, 12: 144, 13: 169, 14: 196, 15: 225}\n"
     ]
    }
   ],
   "source": [
    "print({i + 1: (i + 1) ** 2 for i in range(15)})"
   ]
  },
  {
   "cell_type": "markdown",
   "metadata": {},
   "source": [
    "5. Escribe un programa en Python que imprima la suma de todos los valores de un diccionario. Puede utilizar valores enteros para los pares 'clave:valor'."
   ]
  },
  {
   "cell_type": "code",
   "execution_count": 19,
   "metadata": {},
   "outputs": [
    {
     "name": "stdout",
     "output_type": "stream",
     "text": [
      "Suma de los valores del diccionario= 225\n"
     ]
    }
   ],
   "source": [
    "print(f\"Suma de los valores del diccionario= {sum({2:25,4:35,5:45,6:55,7:65}.values())}\")"
   ]
  },
  {
   "cell_type": "markdown",
   "metadata": {},
   "source": [
    "6. Escribe un programa en Python que multiplique todos los valores de un diccionario. Puede utilizar números enteros para los pares 'clave:valor'"
   ]
  },
  {
   "cell_type": "code",
   "execution_count": 21,
   "metadata": {},
   "outputs": [
    {
     "name": "stdout",
     "output_type": "stream",
     "text": [
      "Producto de los valores del diccionario= 140765625\n"
     ]
    }
   ],
   "source": [
    "dicc = {2:25,4:35,5:45,6:55,7:65}\n",
    "p= 1\n",
    "for valor in dicc.values():\n",
    "    p*=valor    \n",
    "print(f\"Producto de los valores del diccionario= {p}\")    "
   ]
  },
  {
   "cell_type": "markdown",
   "metadata": {},
   "source": [
    "7. Escribe un programa Python que cuente la cantidad de valores (values) que contiene cada clave (key) del diccionario. El valor (o valores) de cada clave están guardados en una lista.\n",
    "Ejemplo: dict= {'clave_1': [val1, val2], 'clave_2': [val3, val4],,,,'clave_n': [valn,valn+1]}"
   ]
  },
  {
   "cell_type": "code",
   "execution_count": 34,
   "metadata": {},
   "outputs": [
    {
     "name": "stdout",
     "output_type": "stream",
     "text": [
      "VARIANTE UNO CREANDO UN NUEVO DICCIONARIO E IMPRIMIENTO CLAVE: CUENTA_VALOR\n",
      "---------------------------------------------------------------------------\n",
      "La cantidad de valores por claves de muestran a continuación: {'a': 3, 'b': 5, 'c': 3, 'e': 3}\n",
      "\n",
      "VARIANTE DOS 'LA DE TODA UNA VIDA' IMPRIMIENDO POR CADA CLAVE SU CUENTA DE VALORES\n",
      "----------------------------------------------------------------------------------\n",
      "3 valores para la Clave: 'a'\n",
      "5 valores para la Clave: 'b'\n",
      "3 valores para la Clave: 'c'\n",
      "3 valores para la Clave: 'e'\n"
     ]
    }
   ],
   "source": [
    "dict={'a':[1, 2, 3],'b':[4, 5, 6, 7, 8],'c':[10, 11, 12],'e':[13,14,15]}\n",
    "\n",
    "# Se puede hacer de muchas manera\n",
    "# en mi caso voy a contar los valores por clave \n",
    "# e imprimo el resultado como  otro diccionario (dict_count)\n",
    "# donde mantengo la <clave> y como <valor> la cuenta de \n",
    "# los valores del diccionario <dict> y lo imprimo.\n",
    "print(\"VARIANTE UNO CREANDO UN NUEVO DICCIONARIO E IMPRIMIENTO CLAVE: CUENTA_VALOR\")\n",
    "print(\"---------------------------------------------------------------------------\")\n",
    "dict_count= {}\n",
    "for clave, valor in dict.items():\n",
    "    dict_count[clave]=len(valor)\n",
    "\n",
    "print(f\"La cantidad de valores por claves de muestran a continuación: {dict_count}\") \n",
    "print()\n",
    "\n",
    "# Otra forma es sencillamente imprimir <clave> y <cuenta> en un ciclo como\n",
    "# se ha hecho de toda una vida\n",
    "print(\"VARIANTE DOS 'LA DE TODA UNA VIDA' IMPRIMIENDO POR CADA CLAVE SU CUENTA DE VALORES\")\n",
    "print(\"----------------------------------------------------------------------------------\")\n",
    "\n",
    "for clave, valor in dict.items():\n",
    "    print(f\"{len(valor)} valores para la Clave: '{clave}'\")\n"
   ]
  },
  {
   "cell_type": "markdown",
   "metadata": {},
   "source": [
    "8. Escriba un programa en Python que ordene los elementos de una lista (contenida como valores en un diccionario), alfabeticamente. Ejemplo del Diccionario:\n",
    "\n",
    "profesores= {'Math':['Julia','Miguel','Francisco','Eduardo','Elizabeth'],\n",
    "'Physics':['Antonio','Adela','María'],\n",
    "'Chemistry':['Rosa','Adela']}"
   ]
  },
  {
   "cell_type": "code",
   "execution_count": 40,
   "metadata": {},
   "outputs": [
    {
     "name": "stdout",
     "output_type": "stream",
     "text": [
      "LISTA INICIAL DE PROFESORES POR ASIGNATURA\n",
      "-------------------------------------------------------\n",
      "'Matemática': ['Juan', 'Carlos', 'Patricio', 'Jacinto']\n",
      "'Literatura': ['Margarita', 'Lidia']\n",
      "'ingles': ['Nemesio', 'Cambell', 'Fernando']\n",
      "'Geografía': ['José Ramón', 'Armando']\n",
      "'Biología': ['Yolanda', 'Norma', 'Sandalio']\n",
      "\n",
      "AHORA ESTÁN ORDENADOS ALFABETICAMENTE\n",
      "-------------------------------------------------------\n",
      "'Matemática': ['Carlos', 'Jacinto', 'Juan', 'Patricio']\n",
      "'Literatura': ['Lidia', 'Margarita']\n",
      "'ingles': ['Cambell', 'Fernando', 'Nemesio']\n",
      "'Geografía': ['Armando', 'José Ramón']\n",
      "'Biología': ['Norma', 'Sandalio', 'Yolanda']\n"
     ]
    }
   ],
   "source": [
    "profesores= {\n",
    "'Matemática':['Juan','Carlos','Patricio','Jacinto'],\n",
    "'Literatura':['Margarita','Lidia'],\n",
    "'ingles':['Nemesio','Cambell','Fernando'],\n",
    "'Geografía':['José Ramón','Armando'],\n",
    "'Biología': ['Yolanda', 'Norma', 'Sandalio']\n",
    "}\n",
    "print(\"LISTA INICIAL DE PROFESORES POR ASIGNATURA\")\n",
    "print(\"-------------------------------------------------------\")\n",
    "\n",
    "for clave, valor in profesores.items():\n",
    "    print(f\"'{clave}': {valor}\")\n",
    "\n",
    "print()\n",
    "print(\"AHORA ESTÁN ORDENADOS ALFABETICAMENTE\")\n",
    "print(\"-------------------------------------------------------\")\n",
    "\n",
    "for clave, valor in profesores.items():\n",
    "    print(f\"'{clave}': {sorted(valor)}\")\n"
   ]
  },
  {
   "cell_type": "markdown",
   "metadata": {},
   "source": [
    "9. Escriba un programa en Python que combine dos diccionarios en uno solo sumando los valores de aquellas claves que estén repetidas en dicho diccionario.\n",
    "Datos de muestra:\n",
    "\n",
    "d1= {'a': 100, 'b': 200, 'c': 300}\n",
    "d2= {'a': 300, 'b': 200, 'd':400}\n",
    "\n",
    "Salida esperada:\n",
    "Counter=({'a': 400,'b':400,'d':400,'c':300})"
   ]
  },
  {
   "cell_type": "code",
   "execution_count": 45,
   "metadata": {},
   "outputs": [
    {
     "name": "stdout",
     "output_type": "stream",
     "text": [
      "dicc_1 = {'clave_1': 500, 'clave_2': 120, 'clave_3': 430, 'clave_4': 530, 'clave_5': 730}\n",
      "dicc_2 = {'clave_6': 100, 'clave_7': 220, 'clave_3': 130, 'clave_5': 230, 'clave_8': 630}\n",
      "\n",
      "Combinación de 'dicc_1' y 'dicc_2' donde\n",
      "se muestra en el diccionario 'combinado' el valor\n",
      "como la suma de los valores, cuando las 'claves'\n",
      "de ambos diccionarios son iguales.\n",
      "\n",
      "combinado = {'clave_1': 500, 'clave_2': 120, 'clave_3': 560, 'clave_4': 530, 'clave_5': 960, 'clave_6': 100, 'clave_7': 220, 'clave_8': 630}\n"
     ]
    }
   ],
   "source": [
    "# Diccionarios de muestra\n",
    "dicc_1 = {'clave_1': 500, 'clave_2': 120, 'clave_3': 430, 'clave_4': 530, 'clave_5': 730}\n",
    "dicc_2 = {'clave_6': 100, 'clave_7': 220, 'clave_3': 130, 'clave_5': 230, 'clave_8': 630}\n",
    "\n",
    "combinado = {}\n",
    "\n",
    "for clave, valor in dicc_1.items():\n",
    "    combinado[clave] = valor\n",
    "\n",
    "for clave, valor in dicc_2.items():\n",
    "    if clave in combinado:\n",
    "        combinado[clave] += valor\n",
    "    else:\n",
    "        combinado[clave] = valor\n",
    "\n",
    "print(f\"dicc_1 = {dicc_1}\")\n",
    "print(f\"dicc_2 = {dicc_2}\")\n",
    "print()\n",
    "print(\"Combinación de 'dicc_1' y 'dicc_2' donde\")\n",
    "print(\"se muestra en el diccionario 'combinado' el valor\") \n",
    "print(\"como la suma de los valores, cuando las 'claves'\")\n",
    "print(\"de ambos diccionarios son iguales.\")\n",
    "print()\n",
    "print(f\"combinado = {combinado}\")\n"
   ]
  }
 ],
 "metadata": {
  "kernelspec": {
   "display_name": "Curso_Python",
   "language": "python",
   "name": "python3"
  },
  "language_info": {
   "codemirror_mode": {
    "name": "ipython",
    "version": 3
   },
   "file_extension": ".py",
   "mimetype": "text/x-python",
   "name": "python",
   "nbconvert_exporter": "python",
   "pygments_lexer": "ipython3",
   "version": "3.12.1"
  }
 },
 "nbformat": 4,
 "nbformat_minor": 2
}

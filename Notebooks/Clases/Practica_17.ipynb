{
 "cells": [
  {
   "cell_type": "markdown",
   "metadata": {},
   "source": [
    "1. Escribe expresiones condicionales para:\n",
    "- if a<10 b=20, else b=30\n",
    "- Print 'Morning' if time<12, otherwise print 'Afternoon'\n",
    "- if marks>=70, set remarks to True, otherwise False"
   ]
  },
  {
   "cell_type": "code",
   "execution_count": 2,
   "metadata": {},
   "outputs": [
    {
     "name": "stdout",
     "output_type": "stream",
     "text": [
      "b=20\n",
      "Afternoon\n",
      "True\n"
     ]
    }
   ],
   "source": [
    "a= int(input('Valor de a: '))\n",
    "time= int(input('Valor de time: '))\n",
    "marks= int(input('Valor de marks: '))\n",
    "\n",
    "if (a>10):\n",
    "    print('b=20')\n",
    "else:\n",
    "    print('b=30')\n",
    "\n",
    "########################################################################\n",
    "if (time<12):\n",
    "    print('Morning')\n",
    "else:\n",
    "    print('Afternoon')\n",
    "\n",
    "########################################################################\n",
    "if (marks>=70):\n",
    "    remarks=True\n",
    "else:\n",
    "    remarks=False\n",
    "print(remarks)"
   ]
  },
  {
   "cell_type": "markdown",
   "metadata": {},
   "source": [
    "2. Vuelva a escribir el siguiente fragmento de código en 2 líneas:\n",
    "\n",
    "x = 3\n",
    "y = 3.0\n",
    "\n",
    "\n",
    "if  x==y:\n",
    "    print('x and y are equal')\n",
    "else:\n",
    "    print('x and y are not equal')\n"
   ]
  },
  {
   "cell_type": "code",
   "execution_count": 11,
   "metadata": {},
   "outputs": [
    {
     "name": "stdout",
     "output_type": "stream",
     "text": [
      "x and y are not equal\n"
     ]
    }
   ],
   "source": [
    "x,y = 3,3.0\n",
    "print('x and y are equal') if (x==y) else print('x and y are not equal');"
   ]
  },
  {
   "cell_type": "markdown",
   "metadata": {},
   "source": [
    "3. ¿Cuál será el resultado de  los siguientes programas?. Explica en una celda de texto o en un comentario que hace cada código.\n",
    "\n",
    "(a) i, j, k = 4, -1, 0\n",
    "    w = i or j or k\n",
    "    x = i and j and k\n",
    "    y = i or j and k\n",
    "    z = i and j or k\n",
    "    print(w, x, y, z)\n",
    "\n",
    "(b) a = 10\n",
    "    a = not not a\n",
    "    print(a)\n",
    "\n",
    "(c) x, y, z = 20, 40, 45    \n",
    "    if x>y and x>z:\n",
    "      print('biggest =' + str(x))\n",
    "    elif y>x and y>z:\n",
    "      print('biggest =' + str(y))\n",
    "    elif z>x and z>y:\n",
    "      print('biggest =' + str(z))\n",
    "\n",
    "(d) num = 30\n",
    "    k = 100 if num <= 10 else 500\n",
    "    print(k)\n",
    "\n",
    "(e) a = 10\n",
    "    b = 60\n",
    "    if a and b>20:\n",
    "      print('Hello')\n",
    "    else:\n",
    "      print('Hi')\n",
    "\n",
    "(f) a = 10\n",
    "    b = 60\n",
    "    if a>20 and b>20:\n",
    "      print('Hello')\n",
    "    else:\n",
    "      print('Hi')\n",
    "\n",
    "(g) a = 10\n",
    "    if a=30 or 40 or 60:\n",
    "      print('Hello')\n",
    "    else:\n",
    "      print('Hi')\n",
    "\n",
    "(h) a = 10\n",
    "    if a==30 or a==40 or a==60:\n",
    "      print('Hello')\n",
    "    else:\n",
    "      print('Hi')\n",
    "\n",
    "(i) a = 10\n",
    "    if a in (30, 40, 50):\n",
    "      print('Hello')\n",
    "    else:\n",
    "      print('Hi')\n",
    "\n",
    "\n",
    "        "
   ]
  }
 ],
 "metadata": {
  "kernelspec": {
   "display_name": "Curso_Python",
   "language": "python",
   "name": "python3"
  },
  "language_info": {
   "codemirror_mode": {
    "name": "ipython",
    "version": 3
   },
   "file_extension": ".py",
   "mimetype": "text/x-python",
   "name": "python",
   "nbconvert_exporter": "python",
   "pygments_lexer": "ipython3",
   "version": "3.11.9"
  }
 },
 "nbformat": 4,
 "nbformat_minor": 2
}

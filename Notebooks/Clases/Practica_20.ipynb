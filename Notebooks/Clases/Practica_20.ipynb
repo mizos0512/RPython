{
 "cells": [
  {
   "cell_type": "markdown",
   "metadata": {},
   "source": [
    "1. Escribir un programa que almacene las asignaturas de un curso (por ejemplo, Matemáticas, Física, Química, Historia y Lengua) en una lista y la muestre por pantalla."
   ]
  },
  {
   "cell_type": "code",
   "execution_count": 11,
   "metadata": {},
   "outputs": [
    {
     "name": "stdout",
     "output_type": "stream",
     "text": [
      "MOSTRANDO ASIGNATURAS DEL CURSO 'X' (CON CERO TERMINA)\n",
      "\n",
      "Asignaturas: ['Matemática']\n",
      "Asignaturas: ['Matemática', 'Física']\n",
      "Asignaturas: ['Matemática', 'Física', 'Química']\n",
      "Asignaturas: ['Matemática', 'Física', 'Química', 'Historia']\n",
      "Asignaturas: ['Matemática', 'Física', 'Química', 'Historia', 'Lengua']\n"
     ]
    }
   ],
   "source": [
    "asignatura=[]\n",
    "print(\"MOSTRANDO ASIGNATURAS DEL CURSO 'X' (CON CERO TERMINA)\")\n",
    "print()\n",
    "while True:\n",
    "    asig=input(\"Asignatura:\")\n",
    "    if asig=='0':\n",
    "        break\n",
    "    asignatura.append(asig)\n",
    "    print(f\"Asignaturas: {asignatura}\")\n",
    "       "
   ]
  },
  {
   "cell_type": "markdown",
   "metadata": {},
   "source": [
    "2. Escribir un programa que almacene las asignaturas de un curso (por ejemplo, Matemáticas, Física, Química, Historia y Lengua) en una lista y muestre por pantalla el mensaje Yo estudio <asignatura>, donde <asignatura> es cada una de las asignaturas de la lista."
   ]
  },
  {
   "cell_type": "code",
   "execution_count": 14,
   "metadata": {},
   "outputs": [
    {
     "name": "stdout",
     "output_type": "stream",
     "text": [
      "MOSTRANDO ASIGNATURAS DEL CURSO 'X' (CON CERO TERMINA)\n",
      "\n",
      "Yo estudio Matemática\n",
      "Yo estudio Física\n",
      "Yo estudio Química\n",
      "Yo estudio Historia\n",
      "Yo estudio Lengua\n"
     ]
    }
   ],
   "source": [
    "asignatura=[]\n",
    "print(\"MOSTRANDO ASIGNATURAS DEL CURSO 'X' (CON CERO TERMINA)\")\n",
    "print()\n",
    "while True:\n",
    "    asig=input(\"Asignatura:\")\n",
    "    if asig=='0':\n",
    "        break\n",
    "    asignatura.append(asig)\n",
    "for i in asignatura:\n",
    "    print(f\"Yo estudio {i}\")"
   ]
  },
  {
   "cell_type": "markdown",
   "metadata": {},
   "source": [
    "3. Escribir un programa que almacene las asignaturas de un curso (por ejemplo, Matemáticas, Física, Química, Historia y Lengua) en una lista, pregunte al usuario la nota que ha sacado en cada asignatura, y después las muestre por pantalla con el mensaje En <asignatura> has sacado <nota> donde <asignatura> es cada una de las asignaturas de la lista y <nota> cada una de las correspondientes notas introducidas por el usuario."
   ]
  }
 ],
 "metadata": {
  "kernelspec": {
   "display_name": "Python 3",
   "language": "python",
   "name": "python3"
  },
  "language_info": {
   "codemirror_mode": {
    "name": "ipython",
    "version": 3
   },
   "file_extension": ".py",
   "mimetype": "text/x-python",
   "name": "python",
   "nbconvert_exporter": "python",
   "pygments_lexer": "ipython3",
   "version": "3.11.9"
  }
 },
 "nbformat": 4,
 "nbformat_minor": 2
}

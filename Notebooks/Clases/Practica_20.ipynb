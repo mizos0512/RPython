{
 "cells": [
  {
   "cell_type": "markdown",
   "metadata": {},
   "source": [
    "1. Escribir un programa que almacene las asignaturas de un curso (por ejemplo, Matemáticas, Física, Química, Historia y Lengua) en una lista y la muestre por pantalla."
   ]
  },
  {
   "cell_type": "code",
   "execution_count": 20,
   "metadata": {},
   "outputs": [
    {
     "name": "stdout",
     "output_type": "stream",
     "text": [
      "MOSTRANDO ASIGNATURAS DEL CURSO 'X' (CON CERO TERMINA)\n",
      "\n",
      "Asignaturas: ['Matemática', 'Física', 'Química', 'Historia', 'Lengua']\n"
     ]
    }
   ],
   "source": [
    "asignatura=[]\n",
    "print(\"MOSTRANDO ASIGNATURAS DEL CURSO 'X' (CON CERO TERMINA)\")\n",
    "print()\n",
    "while True:\n",
    "    asig=input(\"Asignatura:\")\n",
    "    if asig=='0':\n",
    "        break\n",
    "    asignatura.append(asig)\n",
    "print(f\"Asignaturas: {asignatura}\")\n",
    "       "
   ]
  },
  {
   "cell_type": "markdown",
   "metadata": {},
   "source": [
    "2. Escribir un programa que almacene las asignaturas de un curso (por ejemplo, Matemáticas, Física, Química, Historia y Lengua) en una lista y muestre por pantalla el mensaje Yo estudio <asignatura>, donde <asignatura> es cada una de las asignaturas de la lista."
   ]
  },
  {
   "cell_type": "code",
   "execution_count": 14,
   "metadata": {},
   "outputs": [
    {
     "name": "stdout",
     "output_type": "stream",
     "text": [
      "MOSTRANDO ASIGNATURAS DEL CURSO 'X' (CON CERO TERMINA)\n",
      "\n",
      "Yo estudio Matemática\n",
      "Yo estudio Física\n",
      "Yo estudio Química\n",
      "Yo estudio Historia\n",
      "Yo estudio Lengua\n"
     ]
    }
   ],
   "source": [
    "asignatura=[]\n",
    "print(\"MOSTRANDO ASIGNATURAS DEL CURSO 'X' (CON CERO TERMINA)\")\n",
    "print()\n",
    "while True:\n",
    "    asig=input(\"Asignatura:\")\n",
    "    if asig=='0':\n",
    "        break\n",
    "    asignatura.append(asig)\n",
    "for i in asignatura:\n",
    "    print(f\"Yo estudio {i}\")"
   ]
  },
  {
   "cell_type": "markdown",
   "metadata": {},
   "source": [
    "3. Escribir un programa que almacene las asignaturas de un curso (por ejemplo, Matemáticas, Física, Química, Historia y Lengua) en una lista, pregunte al usuario la nota que ha sacado en cada asignatura, y después las muestre por pantalla con el mensaje En <asignatura> has sacado <nota> donde <asignatura> es cada una de las asignaturas de la lista y <nota> cada una de las correspondientes notas introducidas por el usuario."
   ]
  },
  {
   "cell_type": "code",
   "execution_count": 27,
   "metadata": {},
   "outputs": [
    {
     "name": "stdout",
     "output_type": "stream",
     "text": [
      "TANTO PARA LA 'ASIGNATURA' COMO PARA LA 'NOTA' CON CERO SE INTERRUMPE LA CAPTURA\n",
      "\n",
      "En la asignatura Matemática he sacado 5 puntos\n",
      "En la asignatura Física he sacado 5 puntos\n",
      "En la asignatura Química he sacado 4 puntos\n",
      "En la asignatura Historia he sacado 4 puntos\n",
      "En la asignatura Lengua he sacado 3 puntos\n"
     ]
    }
   ],
   "source": [
    "asignatura=[]\n",
    "nota=[]\n",
    "print(\"TANTO PARA LA 'ASIGNATURA' COMO PARA LA 'NOTA' CON CERO SE INTERRUMPE LA CAPTURA\")\n",
    "print()\n",
    "while True:\n",
    "    asig=input(\"Asignatura: \")\n",
    "    if asig=='0':\n",
    "        break\n",
    "    asignatura.append(asig)\n",
    "\n",
    "for asig in asignatura:\n",
    "    n = input(f\"¿Qué nota has sacado en {asig} (cero interrumpe) ?: \")\n",
    "    if n=='0':\n",
    "        break\n",
    "    nota.append(n)\n",
    "\n",
    "for _asig, _nota in zip(asignatura, nota):\n",
    "    print(f\"En la asignatura {_asig} he sacado {_nota} puntos\")\n",
    "          \n",
    "    \n",
    "    \n",
    "    "
   ]
  },
  {
   "cell_type": "markdown",
   "metadata": {},
   "source": [
    "4. Escribir un programa que almacene en una lista los números del 1 al 10 y los muestre por pantalla en orden inverso separados por comas."
   ]
  },
  {
   "cell_type": "code",
   "execution_count": 34,
   "metadata": {},
   "outputs": [
    {
     "name": "stdout",
     "output_type": "stream",
     "text": [
      "[10, 9, 8, 7, 6, 5, 4, 3, 2, 1]\n"
     ]
    }
   ],
   "source": [
    "lista=[]\n",
    "for i in range(10):\n",
    "    lista.append((i+1))\n",
    "lista.reverse()\n",
    "print(lista)    "
   ]
  },
  {
   "cell_type": "markdown",
   "metadata": {},
   "source": [
    "5. Escribir un programa que almacene las asignaturas de un curso (por ejemplo, Matemáticas, Física, Química, Historia y Lengua) en una lista, pregunte al usuario la nota que ha sacado en cada asignatura y elimine de la lista las asignaturas aprobadas. Al final el programa debe mostrar por pantalla las asignaturas que el usuario tiene que repetir."
   ]
  },
  {
   "cell_type": "code",
   "execution_count": 38,
   "metadata": {},
   "outputs": [
    {
     "name": "stdout",
     "output_type": "stream",
     "text": [
      "TANTO PARA LA 'ASIGNATURA' COMO PARA LA 'NOTA' CON CERO SE INTERRUMPE LA CAPTURA\n",
      "SE CONSIDERA LA NOTA '2' REPROBADO\n",
      "\n",
      "El usuario debe repetir las asignaturas: ['Historia', 'Lengua']\n"
     ]
    }
   ],
   "source": [
    "asignatura=[]\n",
    "nota=[]\n",
    "reprobado=[]\n",
    "print(\"TANTO PARA LA 'ASIGNATURA' COMO PARA LA 'NOTA' CON CERO SE INTERRUMPE LA CAPTURA\")\n",
    "print(\"SE CONSIDERA LA NOTA '2' REPROBADO\")\n",
    "print()\n",
    "while True:\n",
    "    asig=input(\"Asignatura: \")\n",
    "    if asig=='0':\n",
    "        break\n",
    "    asignatura.append(asig)\n",
    "\n",
    "for asig in asignatura:\n",
    "    n = input(f\"¿Qué nota has sacado en {asig} (cero interrumpe) ?: \")\n",
    "    if n=='0':\n",
    "        break\n",
    "    nota.append(n)\n",
    "    \n",
    "for _asig, _nota in zip(asignatura, nota):   \n",
    "    if int(_nota)==int('2'):\n",
    "        reprobado.append(_asig)\n",
    "        \n",
    "print(f\"El usuario debe repetir las asignaturas: {reprobado}\")"
   ]
  }
 ],
 "metadata": {
  "kernelspec": {
   "display_name": "Python 3",
   "language": "python",
   "name": "python3"
  },
  "language_info": {
   "codemirror_mode": {
    "name": "ipython",
    "version": 3
   },
   "file_extension": ".py",
   "mimetype": "text/x-python",
   "name": "python",
   "nbconvert_exporter": "python",
   "pygments_lexer": "ipython3",
   "version": "3.11.9"
  }
 },
 "nbformat": 4,
 "nbformat_minor": 2
}

{
 "cells": [
  {
   "cell_type": "markdown",
   "metadata": {},
   "source": [
    "1. Desarrolle un programa que le pregunte al usuario por la edad y que luego imprima en pantalla si dicho usuario  es menor o mayor de edad."
   ]
  },
  {
   "cell_type": "code",
   "execution_count": 2,
   "metadata": {},
   "outputs": [
    {
     "name": "stdout",
     "output_type": "stream",
     "text": [
      "El usuario es menor de edad\n"
     ]
    }
   ],
   "source": [
    "mayor_edad=18\n",
    "e= int(input(\"Introduzca la edad: \"))\n",
    "if e>=18:\n",
    "   print('El usuario es mayor de edad')\n",
    "else:\n",
    "   print('El usuario es menor de edad')  "
   ]
  },
  {
   "cell_type": "markdown",
   "metadata": {},
   "source": [
    "2. Escribir un programa que pida al usuario un número entero y que luego imprima en pantalla si dicho número es o no divisible entre 2."
   ]
  },
  {
   "cell_type": "code",
   "execution_count": 6,
   "metadata": {},
   "outputs": [
    {
     "name": "stdout",
     "output_type": "stream",
     "text": [
      "El numero NO ES DIVISIBLE entre dos (2)\n"
     ]
    }
   ],
   "source": [
    "n= int(input(\"Introduzca un número entero: \"))\n",
    "if (n%2)==0:\n",
    "    print('El numero ES DIVISIBLE entre dos (2)')\n",
    "else:\n",
    "    print('El numero NO ES DIVISIBLE entre dos (2)')    "
   ]
  },
  {
   "cell_type": "markdown",
   "metadata": {},
   "source": [
    "3. Escriba un programa que pida al usuario dos números  enteros y que  calcule su división, indicando si la división  es exacta o no."
   ]
  },
  {
   "cell_type": "code",
   "execution_count": 8,
   "metadata": {},
   "outputs": [
    {
     "name": "stdout",
     "output_type": "stream",
     "text": [
      "La división de 30 entre 7 es NO ES EXACTA\n"
     ]
    }
   ],
   "source": [
    "n1= int(input(\"Introduzca el primer número entero: \"))\n",
    "n2= int(input(\"Introduzca el segundo número entero: \"))\n",
    "if (n1%n2==0):\n",
    "    v= 'EXACTA'\n",
    "else:\n",
    "    v= 'NO ES EXACTA'\n",
    "print(f'La división de {n1} entre {n2} es {v}')"
   ]
  },
  {
   "cell_type": "markdown",
   "metadata": {},
   "source": [
    "ACTIVIDAD 4. Dada una variable llamada \"year\" con un valor entero, compruebe  si dicho año es bisiesto o no lo es . Un año  es bisiesto en el Calendario Gregorian, si es divisible entre 100, o bien si es divisible entre 400.\n",
    "Ejemplo:\n",
    "Entrada: 2008\n",
    "Salida: Es un año bisiesto\n",
    "\n",
    "Usar solo el condicional if (no usar funciones)"
   ]
  },
  {
   "cell_type": "code",
   "execution_count": 19,
   "metadata": {},
   "outputs": [
    {
     "name": "stdout",
     "output_type": "stream",
     "text": [
      "El año 2019 NO es un año bisiesto\n"
     ]
    }
   ],
   "source": [
    "year= int(input(\"Introduzca el año: \"))\n",
    "\n",
    "if ((year%4==0) and not (year%100==0) and not (year%400==100)) or ((year%4==0) and  (year%100==0) and (year%400==0)):\n",
    "    print(f'El año {year} es un año bisiesto')\n",
    "else:\n",
    "    print(f'El año {year} NO es un año bisiesto')"
   ]
  },
  {
   "cell_type": "markdown",
   "metadata": {},
   "source": [
    "ACTIVIDAD 5. Escriba un programa que pida al usuario su año de nacimiento, y que luego imprima en pantalla a que  generación pertenece según  la siguiente taxonomía."
   ]
  },
  {
   "cell_type": "code",
   "execution_count": 1,
   "metadata": {},
   "outputs": [
    {
     "name": "stdout",
     "output_type": "stream",
     "text": [
      "Usted pertenece a la GENERACIÓN BABY BOOMERS\n"
     ]
    }
   ],
   "source": [
    "year= int(input(\"Introduzca su año de nacimiento: \"))\n",
    "\n",
    "if (year > 1930 and year<=1948):\n",
    "    generacion= \"GENERACIÓN 'SILENCIOSA'\"\n",
    "elif (year > 1948 and year<=1968):  \n",
    "    generacion= 'GENERACIÓN BABY BOOMERS'\n",
    "elif (year > 1968 and year<=1981):\n",
    "    generacion= \"GENERACIÓN 'X' Y MICROGENERACIÓN 'XENNIALS'\"    \n",
    "elif (year > 1981 and year<=1983):\n",
    "    generacion= \"MICROGENERACIÓN 'XENNIALS' Y GENERACIÓN 'Y' ('MILLENNIALS')\"\n",
    "elif (year > 1983 and year<=1993):\n",
    "    generacion= \"GENERACIÓN 'Y' ('MILLENNIALS')\"\n",
    "elif (year > 1993 and year<=2010):\n",
    "    generacion= \"GENERACIÓN 'Z'\" \n",
    "elif (year > 2010 and year<=2025):\n",
    "    generacion= \"GENERACIÓN 'T' ('ALFA')\" \n",
    "else:\n",
    "    print(\"Teclee un año entre 1930 y 2025\")\n",
    "\n",
    "if (year > 1930 and year<=2025):\n",
    "    print(f\"Usted pertenece a la {generacion}\")\n",
    "else:\n",
    "    print(\"Hubo un error en el año tecleado...\")  \n",
    "       \n",
    "    \n",
    "    \n",
    "          "
   ]
  }
 ],
 "metadata": {
  "kernelspec": {
   "display_name": "Curso_Python",
   "language": "python",
   "name": "python3"
  },
  "language_info": {
   "codemirror_mode": {
    "name": "ipython",
    "version": 3
   },
   "file_extension": ".py",
   "mimetype": "text/x-python",
   "name": "python",
   "nbconvert_exporter": "python",
   "pygments_lexer": "ipython3",
   "version": "3.12.1"
  }
 },
 "nbformat": 4,
 "nbformat_minor": 2
}

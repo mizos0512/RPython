{
 "cells": [
  {
   "cell_type": "markdown",
   "metadata": {},
   "source": [
    "1. Desarrolle un programa que le pregunte al usuario por la edad y que luego imprima en pantalla si dicho usuario  es menor o mayor de edad."
   ]
  },
  {
   "cell_type": "code",
   "execution_count": 2,
   "metadata": {},
   "outputs": [
    {
     "name": "stdout",
     "output_type": "stream",
     "text": [
      "El usuario es menor de edad\n"
     ]
    }
   ],
   "source": [
    "mayor_edad=18\n",
    "e= int(input(\"Introduzca su edad: \"))\n",
    "if e>=18:\n",
    "   print('El usuario es mayor de edad')\n",
    "else:\n",
    "   print('El usuario es menor de edad')  "
   ]
  },
  {
   "cell_type": "markdown",
   "metadata": {},
   "source": [
    "2. Escribir un programa que pida al usuario un número entero y que luego imprima en pantalla si dicho número es o no divisible entre 2."
   ]
  },
  {
   "cell_type": "code",
   "execution_count": 6,
   "metadata": {},
   "outputs": [
    {
     "name": "stdout",
     "output_type": "stream",
     "text": [
      "El numero NO ES DIVISIBLE entre dos (2)\n"
     ]
    }
   ],
   "source": [
    "n= int(input(\"Introduzca un número entero: \"))\n",
    "if (n%2)==0:\n",
    "    print('El numero ES DIVISIBLE entre dos (2)')\n",
    "else:\n",
    "    print('El numero NO ES DIVISIBLE entre dos (2)')    "
   ]
  },
  {
   "cell_type": "markdown",
   "metadata": {},
   "source": [
    "3. Escriba un programa que pida al usuario dos números  enteros y que  calcule su división, indicando si la división  es exacta o no."
   ]
  },
  {
   "cell_type": "code",
   "execution_count": 8,
   "metadata": {},
   "outputs": [
    {
     "name": "stdout",
     "output_type": "stream",
     "text": [
      "La división de 30 entre 7 es NO ES EXACTA\n"
     ]
    }
   ],
   "source": [
    "n1= int(input(\"Introduzca el primer número entero: \"))\n",
    "n2= int(input(\"Introduzca el segundo número entero: \"))\n",
    "if (n1%n2==0):\n",
    "    v= 'EXACTA'\n",
    "else:\n",
    "    v= 'NO ES EXACTA'\n",
    "print(f'La división de {n1} entre {n2} es {v}')"
   ]
  }
 ],
 "metadata": {
  "kernelspec": {
   "display_name": "Curso_Python",
   "language": "python",
   "name": "python3"
  },
  "language_info": {
   "codemirror_mode": {
    "name": "ipython",
    "version": 3
   },
   "file_extension": ".py",
   "mimetype": "text/x-python",
   "name": "python",
   "nbconvert_exporter": "python",
   "pygments_lexer": "ipython3",
   "version": "3.11.9"
  }
 },
 "nbformat": 4,
 "nbformat_minor": 2
}

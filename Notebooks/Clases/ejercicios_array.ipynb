{
 "cells": [
  {
   "cell_type": "code",
   "execution_count": 1,
   "metadata": {},
   "outputs": [
    {
     "name": "stdout",
     "output_type": "stream",
     "text": [
      "Collecting numpy\n",
      "  Downloading numpy-2.0.0-cp311-cp311-win_amd64.whl.metadata (60 kB)\n",
      "     ---------------------------------------- 0.0/60.9 kB ? eta -:--:--\n",
      "     ------ --------------------------------- 10.2/60.9 kB ? eta -:--:--\n",
      "     ------------ ------------------------- 20.5/60.9 kB 162.5 kB/s eta 0:00:01\n",
      "     ------------------- ------------------ 30.7/60.9 kB 217.9 kB/s eta 0:00:01\n",
      "     ------------------------------- ------ 51.2/60.9 kB 290.5 kB/s eta 0:00:01\n",
      "     ------------------------------- ------ 51.2/60.9 kB 290.5 kB/s eta 0:00:01\n",
      "     -------------------------------------- 60.9/60.9 kB 216.5 kB/s eta 0:00:00\n",
      "Downloading numpy-2.0.0-cp311-cp311-win_amd64.whl (16.5 MB)\n",
      "   ---------------------------------------- 0.0/16.5 MB ? eta -:--:--\n",
      "   ---------------------------------------- 0.1/16.5 MB 2.0 MB/s eta 0:00:09\n",
      "   - -------------------------------------- 0.5/16.5 MB 5.2 MB/s eta 0:00:04\n",
      "   --- ------------------------------------ 1.2/16.5 MB 8.9 MB/s eta 0:00:02\n",
      "   ------- -------------------------------- 3.3/16.5 MB 17.5 MB/s eta 0:00:01\n",
      "   ------------- -------------------------- 5.7/16.5 MB 24.2 MB/s eta 0:00:01\n",
      "   ------------------- -------------------- 8.1/16.5 MB 28.7 MB/s eta 0:00:01\n",
      "   ------------------------- -------------- 10.5/16.5 MB 38.5 MB/s eta 0:00:01\n",
      "   ----------------------------- ---------- 12.4/16.5 MB 50.4 MB/s eta 0:00:01\n",
      "   ----------------------------- ---------- 12.4/16.5 MB 50.4 MB/s eta 0:00:01\n",
      "   ----------------------------- ---------- 12.4/16.5 MB 50.4 MB/s eta 0:00:01\n",
      "   ----------------------------- ---------- 12.4/16.5 MB 50.4 MB/s eta 0:00:01\n",
      "   ----------------------------- ---------- 12.4/16.5 MB 50.4 MB/s eta 0:00:01\n",
      "   ----------------------------- ---------- 12.4/16.5 MB 50.4 MB/s eta 0:00:01\n",
      "   ----------------------------- ---------- 12.4/16.5 MB 50.4 MB/s eta 0:00:01\n",
      "   ----------------------------- ---------- 12.4/16.5 MB 50.4 MB/s eta 0:00:01\n",
      "   ----------------------------- ---------- 12.4/16.5 MB 50.4 MB/s eta 0:00:01\n",
      "   -------------------------------- ------- 13.3/16.5 MB 16.4 MB/s eta 0:00:01\n",
      "   ---------------------------------------  16.1/16.5 MB 16.8 MB/s eta 0:00:01\n",
      "   ---------------------------------------  16.5/16.5 MB 16.8 MB/s eta 0:00:01\n",
      "   ---------------------------------------- 16.5/16.5 MB 14.5 MB/s eta 0:00:00\n",
      "Installing collected packages: numpy\n",
      "Successfully installed numpy-2.0.0\n"
     ]
    }
   ],
   "source": [
    "!pip install numpy"
   ]
  },
  {
   "cell_type": "code",
   "execution_count": 15,
   "metadata": {},
   "outputs": [
    {
     "name": "stdout",
     "output_type": "stream",
     "text": [
      "a1 = [1 2 3]\n",
      "El arreglo 'a1' es de 1 una sola dimensión\n",
      "\n",
      "a2 = [[1 2 3]\n",
      " [4 5 6]]\n",
      "El arreglo 'a2' es de 2 dimensiones\n",
      "\n",
      "a3 = [[[1 2 3]\n",
      "  [4 5 6]]]\n",
      "El arreglo 'a3' es de 3 dimensiones\n",
      "\n",
      "a3_1 = [[[1 2 3]\n",
      "  [4 5 6]]]\n",
      "El arreglo 'a3_1' es de 3 dimensiones\n",
      "\n",
      "a4 = [[[[ 1  2  3]\n",
      "   [ 4  5  6]\n",
      "   [ 7  8  9]\n",
      "   [10 11 12]]]]\n",
      "El arreglo 'a4' es de 4 dimensiones\n"
     ]
    }
   ],
   "source": [
    "import numpy as np\n",
    "print(\"'np.ndim' me dice la dimensión del arreglo\")\n",
    "a1= np.array([1, 2, 3]) #Array de una dimension\n",
    "a2= np.array([[1, 2, 3],[4, 5, 6]]) #Array de dos dimensiones\n",
    "a3= np.array([[[1, 2, 3],[4, 5, 6]]]) #Array de tres dimensiones\n",
    "a3_1= np.array([[[1, 2, 3],[4, 5, 6]],[[7, 8, 9], [10, 11, 12]]]) #Array de tres dimensiones\n",
    "a4= np.array([[[[1, 2, 3],[4, 5, 6],[7, 8, 9], [10, 11, 12]]]]) #Array de cuatro dimensiones\n",
    "print(f\"a1 = {a1}\")\n",
    "print(f\"El arreglo 'a1' es de {np.ndim(a1)} una sola dimensión\")\n",
    "print()\n",
    "print(f\"a2 = {a2}\")\n",
    "print(f\"El arreglo 'a2' es de {np.ndim(a2)} dimensiones\")\n",
    "print()\n",
    "print(f\"a3 = {a3}\")\n",
    "print(f\"El arreglo 'a3' es de {np.ndim(a3)} dimensiones\")\n",
    "print()\n",
    "print(f\"a3_1 = {a3}\")\n",
    "print(f\"El arreglo 'a3_1' es de {np.ndim(a3_1)} dimensiones\")\n",
    "print()\n",
    "print(f\"a4 = {a4}\")\n",
    "print(f\"El arreglo 'a4' es de {np.ndim(a4)} dimensiones\")\n",
    "\n"
   ]
  },
  {
   "cell_type": "markdown",
   "metadata": {},
   "source": [
    "'ndmin' - Es utilizado en los arreglos para especificar el numero minimo de dimensiones que debe tener, el arrglo no tiene el 'ndmin' especificado entonces se le agragará dimensiones adicionales"
   ]
  },
  {
   "cell_type": "code",
   "execution_count": 18,
   "metadata": {},
   "outputs": [
    {
     "name": "stdout",
     "output_type": "stream",
     "text": [
      "Al arreglo 'np.array([1,2,3])' de una dimension se le agregó el parámetro 'ndmin=3' para convertirlo en un arreglo de tres dimensiones\n",
      "\n",
      "a1= [1 2 3]\n",
      "\n",
      "a1_3= [[[1 2 3]]]\n"
     ]
    }
   ],
   "source": [
    "import numpy as np\n",
    "a1= np.array([1, 2, 3]) #Array de una dimension\n",
    "a1_3= np.array([1, 2, 3], ndmin=3) \n",
    "\n",
    "print(\"Al arreglo 'np.array([1,2,3])' de una dimension se le agregó el parámetro 'ndmin=3' para convertirlo en un arreglo de tres dimensiones\")\n",
    "print()\n",
    "print(f\"a1= {a1}\")\n",
    "print()\n",
    "print(f\"a1_3= {a1_3}\")"
   ]
  },
  {
   "cell_type": "markdown",
   "metadata": {},
   "source": [
    "Veamos las funciones:\n",
    "np.zeros()\n",
    "np.random.random()\n",
    "np.arange()"
   ]
  },
  {
   "cell_type": "code",
   "execution_count": 44,
   "metadata": {},
   "outputs": [
    {
     "name": "stdout",
     "output_type": "stream",
     "text": [
      "Un 'Shape' define la cantidad de fila y de columnas de un 'array'\n",
      "np.zeros() \n",
      "'np.zeros((5, 3))' incializa un shape() de 5 filas y 3 columnas, con ceros \n",
      "[[0. 0. 0.]\n",
      " [0. 0. 0.]\n",
      " [0. 0. 0.]\n",
      " [0. 0. 0.]\n",
      " [0. 0. 0.]]\n",
      "array.shape= (5, 3) \n"
     ]
    }
   ],
   "source": [
    "import numpy as np\n",
    "print(\"Un 'Shape' define la cantidad de fila y de columnas de un 'array'\")\n",
    "print(\"np.zeros() \")\n",
    "print(\"'np.zeros((5, 3))' incializa un shape() de 5 filas y 3 columnas, con ceros \")\n",
    "array= np.zeros((5,3))\n",
    "print(array)\n",
    "print(f\"array.shape= {array.shape}\")"
   ]
  },
  {
   "cell_type": "markdown",
   "metadata": {},
   "source": [
    "np.random.random()- Genera numeros aleatorios entre 'cero' y 'uno'  de un shape()"
   ]
  },
  {
   "cell_type": "code",
   "execution_count": 28,
   "metadata": {},
   "outputs": [
    {
     "name": "stdout",
     "output_type": "stream",
     "text": [
      "np.random.random((2, 4)) crea un array con un 'shape' de 2 filas y 4 columnas = [[0.5518871  0.18035944 0.26870658 0.13218897]\n",
      " [0.97194708 0.08365399 0.07325865 0.12275158]]\n"
     ]
    }
   ],
   "source": [
    "import numpy as np\n",
    "print(f\"np.random.random((2, 4)) crea un array con un 'shape' de 2 filas y 4 columnas = {np.random.random((2, 4))}\")"
   ]
  },
  {
   "cell_type": "markdown",
   "metadata": {},
   "source": [
    "np.arange() se utiliza para generar array con una secuencia de numeros indicadas en el argumento"
   ]
  },
  {
   "cell_type": "code",
   "execution_count": 42,
   "metadata": {},
   "outputs": [
    {
     "name": "stdout",
     "output_type": "stream",
     "text": [
      "'np.arange(-1,2)' comienza con '-1' y termina en '2' como no aparece el paso, el valor por defecto es '1' = [-1  0  1]\n",
      "'np.arange(-3, 3, 1, dtype=int)' comienza con '-3' y termina en '3' con paso '1' y valores 'enteros' = [-3 -2 -1  0  1  2]\n",
      "'np.arange(-3, 3, 0.5, dtype=float)' comienza con '-3' y termina en '3' con paso '0.5' y valores 'flotantes' = [-3.  -2.5 -2.  -1.5 -1.  -0.5  0.   0.5  1.   1.5  2.   2.5]\n"
     ]
    }
   ],
   "source": [
    "import numpy as np\n",
    "\n",
    "a= np.arange(-1,2)\n",
    "b= np.arange(-3, 3, 1, dtype=int)\n",
    "c= np.arange(-3, 3, 0.5, dtype=float)\n",
    "\n",
    "print(f\"'np.arange(-1,2)' comienza con '-1' y termina en '2' como no aparece el paso, el valor por defecto es '1' = {a}\")\n",
    "print(f\"'np.arange(-3, 3, 1, dtype=int)' comienza con '-3' y termina en '3' con paso '1' y valores 'enteros' = {b}\")\n",
    "print(f\"'np.arange(-3, 3, 0.5, dtype=float)' comienza con '-3' y termina en '3' con paso '0.5' y valores 'flotantes' = {c}\")\n",
    "\n"
   ]
  },
  {
   "cell_type": "markdown",
   "metadata": {},
   "source": [
    ".flatten() - Sirve para aplanar un array multidimensional"
   ]
  },
  {
   "cell_type": "code",
   "execution_count": 53,
   "metadata": {},
   "outputs": [
    {
     "name": "stdout",
     "output_type": "stream",
     "text": [
      "arreglo = [[[23  4 45  2]\n",
      "  [ 3 34  4  1]\n",
      "  [ 3  4  4  2]]]\n",
      "dimension = 3\n",
      "\n",
      "Usando la función 'flatten()' podemos aplanar el arreglo: \n",
      "arreglo.flatten() = [23  4 45  2  3 34  4  1  3  4  4  2]\n",
      "dimension = 1\n"
     ]
    }
   ],
   "source": [
    "import numpy as np\n",
    "\n",
    "arreglo= np.array([[[23, 4, 45, 2 ], [3, 34, 4, 1 ], [3, 4, 4, 2 ]]])\n",
    "print(f\"arreglo = {arreglo}\")\n",
    "print(f\"dimension = {arreglo.ndim}\")\n",
    "\n",
    "print()\n",
    "print(\"Usando la función 'flatten()' podemos aplanar el arreglo: \")\n",
    "print(f\"arreglo.flatten() = {arreglo.flatten()}\")\n",
    "print(f\"dimension = {arreglo.flatten().ndim}\")"
   ]
  },
  {
   "cell_type": "markdown",
   "metadata": {},
   "source": [
    "reshape() - Pemite cambiar la forma del arreglo sin cambiar sus datos"
   ]
  },
  {
   "cell_type": "code",
   "execution_count": 54,
   "metadata": {},
   "outputs": [
    {
     "name": "stdout",
     "output_type": "stream",
     "text": [
      "arr = np.array([1, 2, 3, 4, 5, 6])\n",
      "[1 2 3 4 5 6]\n",
      "'reshaped_arr = arr.reshape((2, 3))' cambia el arreglo unidimensional a un arreglo de '2 filas0 y '3 columnas'\n",
      "[[1 2 3]\n",
      " [4 5 6]]\n"
     ]
    }
   ],
   "source": [
    "import numpy as np\n",
    "\n",
    "import numpy as np\n",
    "\n",
    "print(\"arr = np.array([1, 2, 3, 4, 5, 6])\")\n",
    "arr = np.array([1, 2, 3, 4, 5, 6])\n",
    "print(arr)\n",
    "print(\"'reshaped_arr = arr.reshape((2, 3))' cambia el arreglo unidimensional a un arreglo de '2 filas y '3 columnas'\")\n",
    "reshaped_arr = arr.reshape((2, 3))\n",
    "print(reshaped_arr)\n",
    "# Salida:\n",
    "# [[1 2 3]\n",
    "#  [4 5 6]]\n"
   ]
  },
  {
   "cell_type": "code",
   "execution_count": 55,
   "metadata": {},
   "outputs": [
    {
     "name": "stdout",
     "output_type": "stream",
     "text": [
      "'arr = np.array([[1, 2, 3], [4, 5, 6]])' es un arreglo de '2D'\n",
      "[[1 2 3]\n",
      " [4 5 6]]\n",
      "'reshaped_arr = arr.reshape((2, 3, 1)' cambia de '2D' a '3D' lo convierte a dos bloques, cada uno con '3 filas' y '1 columna'\n",
      "[[[1]\n",
      "  [2]\n",
      "  [3]]\n",
      "\n",
      " [[4]\n",
      "  [5]\n",
      "  [6]]]\n"
     ]
    }
   ],
   "source": [
    "print(\"'arr = np.array([[1, 2, 3], [4, 5, 6]])' es un arreglo de '2D'\")\n",
    "arr = np.array([[1, 2, 3], [4, 5, 6]])\n",
    "print(arr)\n",
    "print(\"'reshaped_arr = arr.reshape((2, 3, 1)' cambia de '2D' a '3D' lo convierte a dos bloques, cada uno con '3 filas' y '1 columna'\")\n",
    "reshaped_arr = arr.reshape((2, 3, 1))\n",
    "print(reshaped_arr)\n"
   ]
  },
  {
   "cell_type": "code",
   "execution_count": 63,
   "metadata": {},
   "outputs": [
    {
     "name": "stdout",
     "output_type": "stream",
     "text": [
      "'arr = np.array([[1, 2, 3], [4, 5, 6]])'\n",
      "[[1 2 3]\n",
      " [4 5 6]]\n",
      "\n",
      "'reshaped_arr = arr.reshape((3, 2), order='F')'\n",
      "[[1 5]\n",
      " [4 3]\n",
      " [2 6]]\n",
      "\n",
      "¿Como lo hizo?\n",
      "Se genera un arreglo con 'reshape()' de '3' filas y '2' columnas\n",
      "La orden 'F' toma los dos primeros valores de la primera columna '1 y 4' y para completar\n",
      "la tercera fila de la primera columna del 'reshape()' coge entonces el primer valor de la segunda columna, es decir, el '2'\n",
      "con esto ya se creó la primera columna de 'reshape()' con los valores '1, 4, 2'\n",
      "para la segunda columna de reshape toma entonces el valor siguiente de '2' en la segunda columna, el '5'\n",
      "y completaria la segunda columna de reshape() con el '3' y el '6' de la tercera columna del arreglo original\n"
     ]
    }
   ],
   "source": [
    "print(\"'arr = np.array([[1, 2, 3], [4, 5, 6]])'\")\n",
    "arr = np.array([[1, 2, 3], [4, 5, 6]])\n",
    "print(arr)\n",
    "print()\n",
    "print(\"'reshaped_arr = arr.reshape((3, 2), order='F')'\")\n",
    "reshaped_arr = arr.reshape((3, 2), order='F')\n",
    "print(reshaped_arr)\n",
    "print()\n",
    "print(\"¿Como lo hizo?\")\n",
    "print(\"Se genera un arreglo con 'reshape()' de '3' filas y '2' columnas\")\n",
    "print(\"La orden 'F' toma los dos primeros valores de la primera columna '1 y 4' y para completar\")\n",
    "print(\"la tercera fila de la primera columna del 'reshape()' coge entonces el primer valor de la segunda columna, es decir, el '2'\")\n",
    "print(\"con esto ya se creó la primera columna de 'reshape()' con los valores '1, 4, 2'\")\n",
    "print(\"para la segunda columna de reshape toma entonces el valor siguiente de '2' en la segunda columna, el '5'\")\n",
    "print(\"y completaria la segunda columna de reshape() con el '3' y el '6' de la tercera columna del arreglo original\")"
   ]
  }
 ],
 "metadata": {
  "kernelspec": {
   "display_name": "Curso_Python",
   "language": "python",
   "name": "python3"
  },
  "language_info": {
   "codemirror_mode": {
    "name": "ipython",
    "version": 3
   },
   "file_extension": ".py",
   "mimetype": "text/x-python",
   "name": "python",
   "nbconvert_exporter": "python",
   "pygments_lexer": "ipython3",
   "version": "3.11.9"
  }
 },
 "nbformat": 4,
 "nbformat_minor": 2
}

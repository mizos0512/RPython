{
 "cells": [
  {
   "cell_type": "markdown",
   "metadata": {},
   "source": [
    "# Ejercicios Pandas Series\n"
   ]
  },
  {
   "cell_type": "code",
   "execution_count": 1,
   "metadata": {},
   "outputs": [
    {
     "name": "stdout",
     "output_type": "stream",
     "text": [
      "2.2.2\n",
      "compute.use_bottleneck : bool\n",
      "    Use the bottleneck library to accelerate if it is installed,\n",
      "    the default is True\n",
      "    Valid values: False,True\n",
      "    [default: True] [currently: True]\n",
      "compute.use_numba : bool\n",
      "    Use the numba engine option for select operations if it is installed,\n",
      "    the default is False\n",
      "    Valid values: False,True\n",
      "    [default: False] [currently: False]\n",
      "compute.use_numexpr : bool\n",
      "    Use the numexpr library to accelerate computation if it is installed,\n",
      "    the default is True\n",
      "    Valid values: False,True\n",
      "    [default: True] [currently: True]\n",
      "display.chop_threshold : float or None\n",
      "    if set to a float value, all float values smaller than the given threshold\n",
      "    will be displayed as exactly 0 by repr and friends.\n",
      "    [default: None] [currently: None]\n",
      "display.colheader_justify : 'left'/'right'\n",
      "    Controls the justification of column headers. used by DataFrameFormatter.\n",
      "    [default: right] [currently: right]\n",
      "display.date_dayfirst : boolean\n",
      "    When True, prints and parses dates with the day first, eg 20/01/2005\n",
      "    [default: False] [currently: False]\n",
      "display.date_yearfirst : boolean\n",
      "    When True, prints and parses dates with the year first, eg 2005/01/20\n",
      "    [default: False] [currently: False]\n",
      "display.encoding : str/unicode\n",
      "    Defaults to the detected encoding of the console.\n",
      "    Specifies the encoding to be used for strings returned by to_string,\n",
      "    these are generally strings meant to be displayed on the console.\n",
      "    [default: UTF-8] [currently: UTF-8]\n",
      "display.expand_frame_repr : boolean\n",
      "    Whether to print out the full DataFrame repr for wide DataFrames across\n",
      "    multiple lines, `max_columns` is still respected, but the output will\n",
      "    wrap-around across multiple \"pages\" if its width exceeds `display.width`.\n",
      "    [default: True] [currently: True]\n",
      "display.float_format : callable\n",
      "    The callable should accept a floating point number and return\n",
      "    a string with the desired format of the number. This is used\n",
      "    in some places like SeriesFormatter.\n",
      "    See formats.format.EngFormatter for an example.\n",
      "    [default: None] [currently: None]\n",
      "display.html.border : int\n",
      "    A ``border=value`` attribute is inserted in the ``<table>`` tag\n",
      "    for the DataFrame HTML repr.\n",
      "    [default: 1] [currently: 1]\n",
      "display.html.table_schema : boolean\n",
      "    Whether to publish a Table Schema representation for frontends\n",
      "    that support it.\n",
      "    (default: False)\n",
      "    [default: False] [currently: False]\n",
      "display.html.use_mathjax : boolean\n",
      "    When True, Jupyter notebook will process table contents using MathJax,\n",
      "    rendering mathematical expressions enclosed by the dollar symbol.\n",
      "    (default: True)\n",
      "    [default: True] [currently: True]\n",
      "display.large_repr : 'truncate'/'info'\n",
      "    For DataFrames exceeding max_rows/max_cols, the repr (and HTML repr) can\n",
      "    show a truncated table, or switch to the view from\n",
      "    df.info() (the behaviour in earlier versions of pandas).\n",
      "    [default: truncate] [currently: truncate]\n",
      "display.max_categories : int\n",
      "    This sets the maximum number of categories pandas should output when\n",
      "    printing out a `Categorical` or a Series of dtype \"category\".\n",
      "    [default: 8] [currently: 8]\n",
      "display.max_columns : int\n",
      "    If max_cols is exceeded, switch to truncate view. Depending on\n",
      "    `large_repr`, objects are either centrally truncated or printed as\n",
      "    a summary view. 'None' value means unlimited.\n",
      "\n",
      "    In case python/IPython is running in a terminal and `large_repr`\n",
      "    equals 'truncate' this can be set to 0 or None and pandas will auto-detect\n",
      "    the width of the terminal and print a truncated object which fits\n",
      "    the screen width. The IPython notebook, IPython qtconsole, or IDLE\n",
      "    do not run in a terminal and hence it is not possible to do\n",
      "    correct auto-detection and defaults to 20.\n",
      "    [default: 20] [currently: 20]\n",
      "display.max_colwidth : int or None\n",
      "    The maximum width in characters of a column in the repr of\n",
      "    a pandas data structure. When the column overflows, a \"...\"\n",
      "    placeholder is embedded in the output. A 'None' value means unlimited.\n",
      "    [default: 50] [currently: 50]\n",
      "display.max_dir_items : int\n",
      "    The number of items that will be added to `dir(...)`. 'None' value means\n",
      "    unlimited. Because dir is cached, changing this option will not immediately\n",
      "    affect already existing dataframes until a column is deleted or added.\n",
      "\n",
      "    This is for instance used to suggest columns from a dataframe to tab\n",
      "    completion.\n",
      "    [default: 100] [currently: 100]\n",
      "display.max_info_columns : int\n",
      "    max_info_columns is used in DataFrame.info method to decide if\n",
      "    per column information will be printed.\n",
      "    [default: 100] [currently: 100]\n",
      "display.max_info_rows : int\n",
      "    df.info() will usually show null-counts for each column.\n",
      "    For large frames this can be quite slow. max_info_rows and max_info_cols\n",
      "    limit this null check only to frames with smaller dimensions than\n",
      "    specified.\n",
      "    [default: 1690785] [currently: 1690785]\n",
      "display.max_rows : int\n",
      "    If max_rows is exceeded, switch to truncate view. Depending on\n",
      "    `large_repr`, objects are either centrally truncated or printed as\n",
      "    a summary view. 'None' value means unlimited.\n",
      "\n",
      "    In case python/IPython is running in a terminal and `large_repr`\n",
      "    equals 'truncate' this can be set to 0 and pandas will auto-detect\n",
      "    the height of the terminal and print a truncated object which fits\n",
      "    the screen height. The IPython notebook, IPython qtconsole, or\n",
      "    IDLE do not run in a terminal and hence it is not possible to do\n",
      "    correct auto-detection.\n",
      "    [default: 60] [currently: 60]\n",
      "display.max_seq_items : int or None\n",
      "    When pretty-printing a long sequence, no more then `max_seq_items`\n",
      "    will be printed. If items are omitted, they will be denoted by the\n",
      "    addition of \"...\" to the resulting string.\n",
      "\n",
      "    If set to None, the number of items to be printed is unlimited.\n",
      "    [default: 100] [currently: 100]\n",
      "display.memory_usage : bool, string or None\n",
      "    This specifies if the memory usage of a DataFrame should be displayed when\n",
      "    df.info() is called. Valid values True,False,'deep'\n",
      "    [default: True] [currently: True]\n",
      "display.min_rows : int\n",
      "    The numbers of rows to show in a truncated view (when `max_rows` is\n",
      "    exceeded). Ignored when `max_rows` is set to None or 0. When set to\n",
      "    None, follows the value of `max_rows`.\n",
      "    [default: 10] [currently: 10]\n",
      "display.multi_sparse : boolean\n",
      "    \"sparsify\" MultiIndex display (don't display repeated\n",
      "    elements in outer levels within groups)\n",
      "    [default: True] [currently: True]\n",
      "display.notebook_repr_html : boolean\n",
      "    When True, IPython notebook will use html representation for\n",
      "    pandas objects (if it is available).\n",
      "    [default: True] [currently: True]\n",
      "display.pprint_nest_depth : int\n",
      "    Controls the number of nested levels to process when pretty-printing\n",
      "    [default: 3] [currently: 3]\n",
      "display.precision : int\n",
      "    Floating point output precision in terms of number of places after the\n",
      "    decimal, for regular formatting as well as scientific notation. Similar\n",
      "    to ``precision`` in :meth:`numpy.set_printoptions`.\n",
      "    [default: 6] [currently: 6]\n",
      "display.show_dimensions : boolean or 'truncate'\n",
      "    Whether to print out dimensions at the end of DataFrame repr.\n",
      "    If 'truncate' is specified, only print out the dimensions if the\n",
      "    frame is truncated (e.g. not display all rows and/or columns)\n",
      "    [default: truncate] [currently: truncate]\n",
      "display.unicode.ambiguous_as_wide : boolean\n",
      "    Whether to use the Unicode East Asian Width to calculate the display text\n",
      "    width.\n",
      "    Enabling this may affect to the performance (default: False)\n",
      "    [default: False] [currently: False]\n",
      "display.unicode.east_asian_width : boolean\n",
      "    Whether to use the Unicode East Asian Width to calculate the display text\n",
      "    width.\n",
      "    Enabling this may affect to the performance (default: False)\n",
      "    [default: False] [currently: False]\n",
      "display.width : int\n",
      "    Width of the display in characters. In case python/IPython is running in\n",
      "    a terminal this can be set to None and pandas will correctly auto-detect\n",
      "    the width.\n",
      "    Note that the IPython notebook, IPython qtconsole, or IDLE do not run in a\n",
      "    terminal and hence it is not possible to correctly detect the width.\n",
      "    [default: 80] [currently: 80]\n",
      "future.infer_string Whether to infer sequence of str objects as pyarrow string dtype, which will be the default in pandas 3.0 (at which point this option will be deprecated).\n",
      "    [default: False] [currently: False]\n",
      "future.no_silent_downcasting Whether to opt-in to the future behavior which will *not* silently downcast results from Series and DataFrame `where`, `mask`, and `clip` methods. Silent downcasting will be removed in pandas 3.0 (at which point this option will be deprecated).\n",
      "    [default: False] [currently: False]\n",
      "io.excel.ods.reader : string\n",
      "    The default Excel reader engine for 'ods' files. Available options:\n",
      "    auto, odf, calamine.\n",
      "    [default: auto] [currently: auto]\n",
      "io.excel.ods.writer : string\n",
      "    The default Excel writer engine for 'ods' files. Available options:\n",
      "    auto, odf.\n",
      "    [default: auto] [currently: auto]\n",
      "io.excel.xls.reader : string\n",
      "    The default Excel reader engine for 'xls' files. Available options:\n",
      "    auto, xlrd, calamine.\n",
      "    [default: auto] [currently: auto]\n",
      "io.excel.xlsb.reader : string\n",
      "    The default Excel reader engine for 'xlsb' files. Available options:\n",
      "    auto, pyxlsb, calamine.\n",
      "    [default: auto] [currently: auto]\n",
      "io.excel.xlsm.reader : string\n",
      "    The default Excel reader engine for 'xlsm' files. Available options:\n",
      "    auto, xlrd, openpyxl, calamine.\n",
      "    [default: auto] [currently: auto]\n",
      "io.excel.xlsm.writer : string\n",
      "    The default Excel writer engine for 'xlsm' files. Available options:\n",
      "    auto, openpyxl.\n",
      "    [default: auto] [currently: auto]\n",
      "io.excel.xlsx.reader : string\n",
      "    The default Excel reader engine for 'xlsx' files. Available options:\n",
      "    auto, xlrd, openpyxl, calamine.\n",
      "    [default: auto] [currently: auto]\n",
      "io.excel.xlsx.writer : string\n",
      "    The default Excel writer engine for 'xlsx' files. Available options:\n",
      "    auto, openpyxl, xlsxwriter.\n",
      "    [default: auto] [currently: auto]\n",
      "io.hdf.default_format : format\n",
      "    default format writing format, if None, then\n",
      "    put will default to 'fixed' and append will default to 'table'\n",
      "    [default: None] [currently: None]\n",
      "io.hdf.dropna_table : boolean\n",
      "    drop ALL nan rows when appending to a table\n",
      "    [default: False] [currently: False]\n",
      "io.parquet.engine : string\n",
      "    The default parquet reader/writer engine. Available options:\n",
      "    'auto', 'pyarrow', 'fastparquet', the default is 'auto'\n",
      "    [default: auto] [currently: auto]\n",
      "io.sql.engine : string\n",
      "    The default sql reader/writer engine. Available options:\n",
      "    'auto', 'sqlalchemy', the default is 'auto'\n",
      "    [default: auto] [currently: auto]\n",
      "mode.chained_assignment : string\n",
      "    Raise an exception, warn, or no action if trying to use chained assignment,\n",
      "    The default is warn\n",
      "    [default: warn] [currently: warn]\n",
      "mode.copy_on_write : bool\n",
      "    Use new copy-view behaviour using Copy-on-Write. Defaults to False,\n",
      "    unless overridden by the 'PANDAS_COPY_ON_WRITE' environment variable\n",
      "    (if set to \"1\" for True, needs to be set before pandas is imported).\n",
      "    [default: False] [currently: False]\n",
      "mode.data_manager : string\n",
      "    Internal data manager type; can be \"block\" or \"array\". Defaults to \"block\",\n",
      "    unless overridden by the 'PANDAS_DATA_MANAGER' environment variable (needs\n",
      "    to be set before pandas is imported).\n",
      "    [default: block] [currently: block]\n",
      "    (Deprecated, use `` instead.)\n",
      "mode.sim_interactive : boolean\n",
      "    Whether to simulate interactive mode for purposes of testing\n",
      "    [default: False] [currently: False]\n",
      "mode.string_storage : string\n",
      "    The default storage for StringDtype. This option is ignored if\n",
      "    ``future.infer_string`` is set to True.\n",
      "    [default: python] [currently: python]\n",
      "mode.use_inf_as_na : boolean\n",
      "    True means treat None, NaN, INF, -INF as NA (old way),\n",
      "    False means None and NaN are null, but INF, -INF are not NA\n",
      "    (new way).\n",
      "\n",
      "    This option is deprecated in pandas 2.1.0 and will be removed in 3.0.\n",
      "    [default: False] [currently: False]\n",
      "    (Deprecated, use `` instead.)\n",
      "plotting.backend : str\n",
      "    The plotting backend to use. The default value is \"matplotlib\", the\n",
      "    backend provided with pandas. Other backends can be specified by\n",
      "    providing the name of the module that implements the backend.\n",
      "    [default: matplotlib] [currently: matplotlib]\n",
      "plotting.matplotlib.register_converters : bool or 'auto'.\n",
      "    Whether to register converters with matplotlib's units registry for\n",
      "    dates, times, datetimes, and Periods. Toggling to False will remove\n",
      "    the converters, restoring any converters that pandas overwrote.\n",
      "    [default: auto] [currently: auto]\n",
      "styler.format.decimal : str\n",
      "    The character representation for the decimal separator for floats and complex.\n",
      "    [default: .] [currently: .]\n",
      "styler.format.escape : str, optional\n",
      "    Whether to escape certain characters according to the given context; html or latex.\n",
      "    [default: None] [currently: None]\n",
      "styler.format.formatter : str, callable, dict, optional\n",
      "    A formatter object to be used as default within ``Styler.format``.\n",
      "    [default: None] [currently: None]\n",
      "styler.format.na_rep : str, optional\n",
      "    The string representation for values identified as missing.\n",
      "    [default: None] [currently: None]\n",
      "styler.format.precision : int\n",
      "    The precision for floats and complex numbers.\n",
      "    [default: 6] [currently: 6]\n",
      "styler.format.thousands : str, optional\n",
      "    The character representation for thousands separator for floats, int and complex.\n",
      "    [default: None] [currently: None]\n",
      "styler.html.mathjax : bool\n",
      "    If False will render special CSS classes to table attributes that indicate Mathjax\n",
      "    will not be used in Jupyter Notebook.\n",
      "    [default: True] [currently: True]\n",
      "styler.latex.environment : str\n",
      "    The environment to replace ``\\begin{table}``. If \"longtable\" is used results\n",
      "    in a specific longtable environment format.\n",
      "    [default: None] [currently: None]\n",
      "styler.latex.hrules : bool\n",
      "    Whether to add horizontal rules on top and bottom and below the headers.\n",
      "    [default: False] [currently: False]\n",
      "styler.latex.multicol_align : {\"r\", \"c\", \"l\", \"naive-l\", \"naive-r\"}\n",
      "    The specifier for horizontal alignment of sparsified LaTeX multicolumns. Pipe\n",
      "    decorators can also be added to non-naive values to draw vertical\n",
      "    rules, e.g. \"\\|r\" will draw a rule on the left side of right aligned merged cells.\n",
      "    [default: r] [currently: r]\n",
      "styler.latex.multirow_align : {\"c\", \"t\", \"b\"}\n",
      "    The specifier for vertical alignment of sparsified LaTeX multirows.\n",
      "    [default: c] [currently: c]\n",
      "styler.render.encoding : str\n",
      "    The encoding used for output HTML and LaTeX files.\n",
      "    [default: utf-8] [currently: utf-8]\n",
      "styler.render.max_columns : int, optional\n",
      "    The maximum number of columns that will be rendered. May still be reduced to\n",
      "    satisfy ``max_elements``, which takes precedence.\n",
      "    [default: None] [currently: None]\n",
      "styler.render.max_elements : int\n",
      "    The maximum number of data-cell (<td>) elements that will be rendered before\n",
      "    trimming will occur over columns, rows or both if needed.\n",
      "    [default: 262144] [currently: 262144]\n",
      "styler.render.max_rows : int, optional\n",
      "    The maximum number of rows that will be rendered. May still be reduced to\n",
      "    satisfy ``max_elements``, which takes precedence.\n",
      "    [default: None] [currently: None]\n",
      "styler.render.repr : str\n",
      "    Determine which output to use in Jupyter Notebook in {\"html\", \"latex\"}.\n",
      "    [default: html] [currently: html]\n",
      "styler.sparse.columns : bool\n",
      "    Whether to sparsify the display of hierarchical columns. Setting to False will\n",
      "    display each explicit level element in a hierarchical key for each column.\n",
      "    [default: True] [currently: True]\n",
      "styler.sparse.index : bool\n",
      "    Whether to sparsify the display of a hierarchical index. Setting to False will\n",
      "    display each explicit level element in a hierarchical key for each row.\n",
      "    [default: True] [currently: True]\n"
     ]
    }
   ],
   "source": [
    "# Importa el paquete numpy con el nombre np\n",
    "import numpy as np\n",
    "\n",
    "\n",
    "\n",
    "# Importa el paquete pandas con el nombre pd\n",
    "import pandas as pd\n",
    "\n",
    "\n",
    "# Imprime la versión de pandas y la configuración\n",
    "\n",
    "print(pd.__version__)\n",
    "\n",
    "import pandas as pd\n",
    "\n",
    "# Mostrar toda la configuración de pandas\n",
    "pd.options.display.max_rows = 60\n",
    "pd.describe_option()\n",
    "\n",
    "\n"
   ]
  },
  {
   "cell_type": "markdown",
   "metadata": {},
   "source": [
    "##  (a) Creando una `Series`"
   ]
  },
  {
   "cell_type": "markdown",
   "metadata": {},
   "source": [
    "### 1) Crear una serie pandas vacía"
   ]
  },
  {
   "cell_type": "code",
   "execution_count": 2,
   "metadata": {},
   "outputs": [
    {
     "name": "stdout",
     "output_type": "stream",
     "text": [
      "Series([], dtype: object)\n"
     ]
    }
   ],
   "source": [
    "# your code goes here\n",
    "serie_vacia = pd.Series()\n",
    "\n",
    "# Imprimir la serie vacía\n",
    "print(serie_vacia)\n",
    "\n"
   ]
  },
  {
   "cell_type": "markdown",
   "metadata": {},
   "source": [
    "### 2) Dada la lista X de Python conviértala en una serie Y de Pandas"
   ]
  },
  {
   "cell_type": "code",
   "execution_count": 19,
   "metadata": {},
   "outputs": [
    {
     "name": "stdout",
     "output_type": "stream",
     "text": [
      "Esta serie 'Y' de pandas se formó de lista 'X':\n",
      "0    10\n",
      "1    20\n",
      "2    35\n",
      "3    45\n",
      "4    55\n",
      "dtype: int64\n"
     ]
    }
   ],
   "source": [
    "# your code goes here\n",
    "\n",
    "import pandas as pd\n",
    "\n",
    "# Lista de Python\n",
    "X = [10, 20, 35, 45, 55]\n",
    "\n",
    "Y = pd.Series(X)\n",
    "\n",
    "# Imprimir la serie\n",
    "print(f\"Esta serie 'Y' de pandas se formó de lista 'X':\\n{Y}\")\n",
    "\n"
   ]
  },
  {
   "cell_type": "markdown",
   "metadata": {},
   "source": [
    "### 3) Dada la serie X pandas, nómbrala 'My letters'."
   ]
  },
  {
   "cell_type": "code",
   "execution_count": 4,
   "metadata": {},
   "outputs": [
    {
     "name": "stdout",
     "output_type": "stream",
     "text": [
      "0    a\n",
      "1    b\n",
      "2    c\n",
      "3    d\n",
      "4    e\n",
      "Name: My letters, dtype: object\n"
     ]
    }
   ],
   "source": [
    "# your code goes here\n",
    "\n",
    "X = pd.Series(['a', 'b', 'c', 'd', 'e'])\n",
    "\n",
    "X.name = 'My letters'\n",
    "\n",
    "print(X)\n",
    "\n"
   ]
  },
  {
   "cell_type": "markdown",
   "metadata": {},
   "source": [
    "### 4) Dada la serie X de pandas, muestre sus valores\n"
   ]
  },
  {
   "cell_type": "code",
   "execution_count": 9,
   "metadata": {},
   "outputs": [
    {
     "name": "stdout",
     "output_type": "stream",
     "text": [
      "SERIE\n",
      "Reinaldo    2500\n",
      "Carlos      3500\n",
      "Fernando    1500\n",
      "dtype: int64\n",
      "\n",
      "VALORES\n",
      "[2500 3500 1500]\n"
     ]
    }
   ],
   "source": [
    "# your code goes here\n",
    "\n",
    "X = pd.Series([2500, 3500, 1500], index=['Reinaldo', 'Carlos', 'Fernando'])\n",
    "\n",
    "print('SERIE')\n",
    "print(X)\n",
    "print();\n",
    "print('VALORES')\n",
    "print(X.values)\n",
    "\n"
   ]
  },
  {
   "cell_type": "markdown",
   "metadata": {},
   "source": [
    "## (b) Indexación de Series "
   ]
  },
  {
   "cell_type": "markdown",
   "metadata": {},
   "source": [
    "### 5) Asignar nombres de índice a las Series X  de pandas dadas\n"
   ]
  },
  {
   "cell_type": "code",
   "execution_count": 10,
   "metadata": {},
   "outputs": [
    {
     "name": "stdout",
     "output_type": "stream",
     "text": [
      "1    Reinaldo\n",
      "2    Fernando\n",
      "3       Jorge\n",
      "4       Oscar\n",
      "dtype: object\n"
     ]
    }
   ],
   "source": [
    "# your code goes here\n",
    "\n",
    "import pandas as pd\n",
    "\n",
    "# Crear una serie de pandas\n",
    "X = pd.Series(['Reinaldo', 'Fernando', 'Jorge', 'Oscar'])\n",
    "\n",
    "# Asignar nombres de índice a la serie\n",
    "X.index = [1, 2, 3, 4]\n",
    "\n",
    "print(X)\n",
    "\n"
   ]
  },
  {
   "cell_type": "markdown",
   "metadata": {},
   "source": [
    "### 6) Dada la serie X de pandas, muestre su primer elemento\n"
   ]
  },
  {
   "cell_type": "code",
   "execution_count": 13,
   "metadata": {},
   "outputs": [
    {
     "name": "stdout",
     "output_type": "stream",
     "text": [
      "El Primer elemento de la serie es 'Elemento_1'\n"
     ]
    }
   ],
   "source": [
    "# your code goes here\n",
    "X = pd.Series(['Elemento_1', 'Elemento_2', 'Elemento_3', 'Elemento_4', 'Elemento_5'])\n",
    "\n",
    "print(f\"El Primer elemento de la serie 'X' es '{X.iloc[0]}'\")\n",
    "\n"
   ]
  },
  {
   "cell_type": "markdown",
   "metadata": {},
   "source": [
    "### 7) Dada la serie X de pandas, muestra su último elemento\n"
   ]
  },
  {
   "cell_type": "code",
   "execution_count": 14,
   "metadata": {},
   "outputs": [
    {
     "name": "stdout",
     "output_type": "stream",
     "text": [
      "El Ultimo elemento de la serie 'X' es 'Elemento_5'\n"
     ]
    }
   ],
   "source": [
    "# your code goes here\n",
    "\n",
    "X = pd.Series(['Elemento_1', 'Elemento_2', 'Elemento_3', 'Elemento_4', 'Elemento_5'])\n",
    "\n",
    "print(f\"El Ultimo elemento de la serie 'X' es '{X.iloc[-1]}'\")\n",
    "import pandas as pd\n"
   ]
  },
  {
   "cell_type": "markdown",
   "metadata": {},
   "source": [
    "### 8) Dada la serie X pandas, mostrar todos los elementos centrales\n"
   ]
  },
  {
   "cell_type": "code",
   "execution_count": 16,
   "metadata": {},
   "outputs": [
    {
     "name": "stdout",
     "output_type": "stream",
     "text": [
      "Elementos centrales de la serie 'X': \n",
      "1    b\n",
      "2    c\n",
      "3    d\n",
      "dtype: object\n"
     ]
    }
   ],
   "source": [
    "# your code goes here\n",
    "\n",
    "X = pd.Series(['a', 'b', 'c', 'd', 'e'])\n",
    "\n",
    "print(f\"Elementos centrales de la serie 'X': \\n{X.iloc[1:-1]}\")\n"
   ]
  },
  {
   "cell_type": "markdown",
   "metadata": {},
   "source": [
    "### 9) Dada la serie X de pandas, muestre los elementos en posición inversa\n"
   ]
  },
  {
   "cell_type": "code",
   "execution_count": 20,
   "metadata": {},
   "outputs": [
    {
     "name": "stdout",
     "output_type": "stream",
     "text": [
      "Elementos de la Serie 'X' en posición iversa:\n",
      "4    a\n",
      "3    b\n",
      "2    c\n",
      "1    d\n",
      "0    e\n",
      "dtype: object\n"
     ]
    }
   ],
   "source": [
    "# your code goes here\n",
    "\n",
    "X = pd.Series(['e', 'd', 'c', 'b', 'a'])\n",
    "\n",
    "X.iloc[::-1]\n",
    "print(f\"Elementos de la Serie 'X' en posición iversa:\\n{X.iloc[::-1]}\")\n",
    "\n"
   ]
  },
  {
   "cell_type": "markdown",
   "metadata": {},
   "source": [
    "### 10) Dada la serie X de pandas, muestre el primer y el último elemento"
   ]
  },
  {
   "cell_type": "code",
   "execution_count": 21,
   "metadata": {},
   "outputs": [
    {
     "name": "stdout",
     "output_type": "stream",
     "text": [
      "Primer Elemento de la Serie 'X': Oscar\n",
      "Último Elemento de la Serie 'X': Reinaldo\n"
     ]
    }
   ],
   "source": [
    "# your code goes here\n",
    "\n",
    "X = pd.Series(['Oscar', 'Jorge', 'Fernando', 'Reinaldo'])\n",
    "\n",
    "print(f\"Primer Elemento de la Serie 'X': {X.iloc[0]}\\nÚltimo Elemento de la Serie 'X': {X.iloc[-1]}\")\n",
    "\n",
    "\n"
   ]
  },
  {
   "cell_type": "markdown",
   "metadata": {},
   "source": [
    "## (c) 'Manipulanción' de `Series`"
   ]
  },
  {
   "cell_type": "markdown",
   "metadata": {},
   "source": [
    "### 11) Convierte la serie pandas entera dada a float\n"
   ]
  },
  {
   "cell_type": "code",
   "execution_count": 25,
   "metadata": {},
   "outputs": [
    {
     "name": "stdout",
     "output_type": "stream",
     "text": [
      "Serie: 'X' de 'Enteros'\n",
      "0     10\n",
      "1     20\n",
      "2     60\n",
      "3     80\n",
      "4    150\n",
      "dtype: int64\n",
      "Serie 'X' convertida en 'Float:\n",
      "0     10.0\n",
      "1     20.0\n",
      "2     60.0\n",
      "3     80.0\n",
      "4    150.0\n",
      "dtype: float64'\n"
     ]
    }
   ],
   "source": [
    "# your code goes here\n",
    "\n",
    "\n",
    "X = pd.Series([10, 20, 60, 80, 150])\n",
    "\n",
    "print(f\"Serie: 'X' de 'Enteros'\\n{X}\\nSerie 'X' convertida en 'Float:\\n{X.astype(float)}'\")\n"
   ]
  },
  {
   "cell_type": "markdown",
   "metadata": {},
   "source": [
    "### 12) Invierte la serie de pandas dada (el primer elemento se convierte en el último)"
   ]
  },
  {
   "cell_type": "code",
   "execution_count": 27,
   "metadata": {},
   "outputs": [
    {
     "name": "stdout",
     "output_type": "stream",
     "text": [
      "Serie Normal de 'X':\n",
      "0    a\n",
      "1    b\n",
      "2    c\n",
      "3    d\n",
      "4    e\n",
      "dtype: object\n",
      "Serie de 'X' invertida:\n",
      "4    e\n",
      "3    d\n",
      "2    c\n",
      "1    b\n",
      "0    a\n",
      "dtype: object\n"
     ]
    }
   ],
   "source": [
    "# your code goes here\n",
    "\n",
    "X = pd.Series(['a', 'b', 'c', 'd', 'e'])\n",
    "\n",
    "print(f\"Serie Normal de 'X':\\n{X}\\nSerie de 'X' invertida:\\n{X.iloc[::-1]}\")\n",
    "\n"
   ]
  },
  {
   "cell_type": "markdown",
   "metadata": {},
   "source": [
    "### 13) Ordenar (sort) las series de pandas dadas\n"
   ]
  },
  {
   "cell_type": "code",
   "execution_count": 31,
   "metadata": {},
   "outputs": [
    {
     "name": "stdout",
     "output_type": "stream",
     "text": [
      "Serie 'X' ordenada por valor:\n",
      "3    Armando\n",
      "2       José\n",
      "1    Lorenzo\n",
      "0     Pancho\n",
      "4       Raul\n",
      "dtype: object\n",
      "\n",
      "Serie 'X' ordenada por índice:\n",
      "0     Pancho\n",
      "1    Lorenzo\n",
      "2       José\n",
      "3    Armando\n",
      "4       Raul\n",
      "dtype: object\n"
     ]
    }
   ],
   "source": [
    "# your code goes here\n",
    "\n",
    "X = pd.Series(['Pancho','Lorenzo', 'José', 'Armando', 'Raul'])\n",
    "\n",
    "X_por_valor = X.sort_values()\n",
    "X_por_indice = X.sort_index()\n",
    "\n",
    "print(\"Serie 'X' ordenada por valor:\")\n",
    "print(X_por_valor)\n",
    "print()\n",
    "print(\"Serie 'X' ordenada por índice:\")\n",
    "print(X_por_indice)\n",
    "\n"
   ]
  },
  {
   "cell_type": "markdown",
   "metadata": {},
   "source": [
    "### 14) Dada la serie X de pandas, establece (set) el quinto elemento igual a 10\n"
   ]
  },
  {
   "cell_type": "code",
   "execution_count": 34,
   "metadata": {},
   "outputs": [
    {
     "name": "stdout",
     "output_type": "stream",
     "text": [
      "Serie original:\n",
      "0     6\n",
      "1     7\n",
      "2     8\n",
      "3     9\n",
      "4     1\n",
      "5    12\n",
      "6    13\n",
      "7    14\n",
      "8    15\n",
      "dtype: int64\n",
      "\n",
      "Se cambió el quinto elemento por '10':\n",
      "0     6\n",
      "1     7\n",
      "2     8\n",
      "3     9\n",
      "4    10\n",
      "5    12\n",
      "6    13\n",
      "7    14\n",
      "8    15\n",
      "dtype: int64\n"
     ]
    }
   ],
   "source": [
    "# your code goes here\n",
    "\n",
    "X = pd.Series([6, 7, 8, 9, 1, 12, 13, 14, 15])\n",
    "print(\"Serie original:\")\n",
    "print(X)\n",
    "print()\n",
    "X.iloc[4] = 10\n",
    "print(\"Se cambió el quinto elemento por '10':\")\n",
    "print(X)\n"
   ]
  },
  {
   "cell_type": "markdown",
   "metadata": {},
   "source": [
    "### 15) Dada la serie X de pandas, cambia todos los elementos del medio (centrales) a 0\n"
   ]
  },
  {
   "cell_type": "code",
   "execution_count": 42,
   "metadata": {},
   "outputs": [
    {
     "name": "stdout",
     "output_type": "stream",
     "text": [
      "Serie original:\n",
      "0    1\n",
      "1    2\n",
      "2    3\n",
      "3    4\n",
      "4    5\n",
      "5    6\n",
      "dtype: int64\n",
      "\n",
      "Elementos centrales 'se igualaron a cero':\n",
      "0    1\n",
      "1    2\n",
      "2    0\n",
      "3    0\n",
      "4    5\n",
      "5    6\n",
      "dtype: int64\n"
     ]
    }
   ],
   "source": [
    "# your code goes here\n",
    "\n",
    "X = pd.Series([1, 2, 3, 4, 5, 6])\n",
    "print(\"Serie original:\")\n",
    "print(X)\n",
    "print()\n",
    "\n",
    "ini = (len(X) - 1) // 2   # Índice del primer elemento central\n",
    "fin = (len(X) + 2) // 2  # Índice del último elemento central\n",
    "\n",
    "X.iloc[ini:fin] = 0\n",
    "print(\"Elementos centrales 'se igualaron a cero':\")\n",
    "print(X)\n",
    "\n"
   ]
  },
  {
   "cell_type": "markdown",
   "metadata": {},
   "source": [
    "### 16) Dada la serie X de pandas, suma 5 a cada elemento\n"
   ]
  },
  {
   "cell_type": "code",
   "execution_count": 44,
   "metadata": {},
   "outputs": [
    {
     "name": "stdout",
     "output_type": "stream",
     "text": [
      "Serie 'X' + 5 es igual a:\n",
      "0    20\n",
      "1    30\n",
      "2    40\n",
      "3    50\n",
      "4    60\n",
      "dtype: int64\n"
     ]
    }
   ],
   "source": [
    "# your code goes here\n",
    "\n",
    "X = pd.Series([15, 25, 35, 45, 55])\n",
    "\n",
    "print(f\"Serie 'X' + 5 es igual a:\\n{X + 5}\")\n",
    "\n"
   ]
  },
  {
   "cell_type": "markdown",
   "metadata": {},
   "source": [
    "## (d) `Series` de tipo 'Boolean Arrays' (también llamadas mask)"
   ]
  },
  {
   "cell_type": "markdown",
   "metadata": {},
   "source": [
    "### 17) Dada la serie X de pandas, haz una máscara (mask) que muestre los elementos negativos\n"
   ]
  },
  {
   "cell_type": "code",
   "execution_count": 48,
   "metadata": {},
   "outputs": [
    {
     "name": "stdout",
     "output_type": "stream",
     "text": [
      "1   -2\n",
      "3   -4\n",
      "5   -6\n",
      "dtype: int64\n"
     ]
    }
   ],
   "source": [
    "# your code goes here\n",
    "X = pd.Series([1, -2, 3, -4, 5, -6])\n",
    "\n",
    "negativos = X < 0\n",
    "\n",
    "negativos = X[negativos]\n",
    "\n",
    "print(negativos)\n"
   ]
  },
  {
   "cell_type": "markdown",
   "metadata": {},
   "source": [
    "### 18) Dada la serie X de pandas, obtener los elementos negativos"
   ]
  },
  {
   "cell_type": "code",
   "execution_count": 49,
   "metadata": {},
   "outputs": [
    {
     "name": "stdout",
     "output_type": "stream",
     "text": [
      "1   -2\n",
      "3   -4\n",
      "5   -6\n",
      "dtype: int64\n"
     ]
    }
   ],
   "source": [
    "# your code goes here\n",
    "X = pd.Series([1, -2, 3, -4, 5, -6])\n",
    "\n",
    "negativos = X[X < 0]\n",
    "\n",
    "print(negativos)\n"
   ]
  },
  {
   "cell_type": "markdown",
   "metadata": {},
   "source": [
    "### 19) Dada la serie X pandas, obtener números superiores a 5\n"
   ]
  },
  {
   "cell_type": "code",
   "execution_count": 51,
   "metadata": {},
   "outputs": [
    {
     "name": "stdout",
     "output_type": "stream",
     "text": [
      "Elementos superiores a '5':\n",
      "0    17\n",
      "3    81\n",
      "4    52\n",
      "6    73\n",
      "dtype: int64\n"
     ]
    }
   ],
   "source": [
    "X = pd.Series([17, 1, 3, 81, 52, 2, 73])\n",
    "\n",
    "\n",
    "superior_a_5 = X[X > 5]\n",
    "\n",
    "print(\"Elementos superiores a '5':\")\n",
    "print(superior_a_5)\n"
   ]
  },
  {
   "cell_type": "markdown",
   "metadata": {},
   "source": [
    "### 20) Dada la serie X pandas, obtener números superiores a la media de los elementos"
   ]
  },
  {
   "cell_type": "code",
   "execution_count": 53,
   "metadata": {},
   "outputs": [
    {
     "name": "stdout",
     "output_type": "stream",
     "text": [
      "Media: 45.714\n",
      "Números superiores a la media:\n",
      "1    60\n",
      "3    80\n",
      "4    50\n",
      "6    70\n",
      "dtype: int64\n"
     ]
    }
   ],
   "source": [
    "X = pd.Series([10, 60, 30, 80, 50, 20, 70])\n",
    "\n",
    "media = X.mean()\n",
    "\n",
    "superior_media= X[X > media]\n",
    "\n",
    "print(f\"Media: {media:.3f}\")\n",
    "print(\"Números superiores a la media:\")\n",
    "print(superior_media)\n",
    "\n"
   ]
  },
  {
   "cell_type": "markdown",
   "metadata": {},
   "source": [
    "### 21) Dada la serie X pandas, obtener números iguales a 2 o 10\n"
   ]
  },
  {
   "cell_type": "code",
   "execution_count": 54,
   "metadata": {},
   "outputs": [
    {
     "name": "stdout",
     "output_type": "stream",
     "text": [
      "Números iguales a 2 o 10:\n",
      "2     2\n",
      "4    10\n",
      "5     2\n",
      "7    10\n",
      "dtype: int64\n"
     ]
    }
   ],
   "source": [
    "X = pd.Series([11, 65, 2, 8, 10, 2, 7, 10, 4])\n",
    "\n",
    "a_2_o_10 = X[(X == 2) | (X == 10)]\n",
    "\n",
    "print(\"Números iguales a 2 o 10:\")\n",
    "print(a_2_o_10)\n",
    "\n"
   ]
  },
  {
   "cell_type": "markdown",
   "metadata": {},
   "source": [
    "##  (e) Funciones de tipo 'Logic'"
   ]
  },
  {
   "cell_type": "markdown",
   "metadata": {},
   "source": [
    "### 22) Dada la serie X de pandas, devuelve True si ninguno de sus elementos es cero\n"
   ]
  },
  {
   "cell_type": "code",
   "execution_count": 55,
   "metadata": {},
   "outputs": [
    {
     "name": "stdout",
     "output_type": "stream",
     "text": [
      "True\n"
     ]
    }
   ],
   "source": [
    "# your code goes here\n",
    "X = pd.Series([1, 6, 9, 8, 5])\n",
    "\n",
    "\n",
    "no_cero = (X != 0).all()\n",
    "\n",
    "\n",
    "print(no_cero)\n",
    "\n"
   ]
  },
  {
   "cell_type": "markdown",
   "metadata": {},
   "source": [
    "### 23) Dada la serie X de pandas, devuelve True si alguno de sus elementos es cero"
   ]
  },
  {
   "cell_type": "code",
   "execution_count": 56,
   "metadata": {},
   "outputs": [
    {
     "name": "stdout",
     "output_type": "stream",
     "text": [
      "True\n"
     ]
    }
   ],
   "source": [
    "# your code goes here\n",
    "\n",
    "X = pd.Series([1, 4, 3, 0, 8, 1])\n",
    "\n",
    "es_cero = (X == 0).any()\n",
    "\n",
    "print(es_cero)\n"
   ]
  },
  {
   "cell_type": "markdown",
   "metadata": {},
   "source": [
    "## (f) Algunas funciones estadísticas"
   ]
  },
  {
   "cell_type": "markdown",
   "metadata": {},
   "source": [
    "### 24) Dada la serie X de pandas, muestra la suma de sus elementos\n"
   ]
  },
  {
   "cell_type": "code",
   "execution_count": 57,
   "metadata": {},
   "outputs": [
    {
     "name": "stdout",
     "output_type": "stream",
     "text": [
      "La suma de los elementos de la serie 'X' es: 229\n"
     ]
    }
   ],
   "source": [
    "# your code goes here\n",
    "\n",
    "X = pd.Series([1, 61, 32, 0, 84, 51])\n",
    "\n",
    "\n",
    "print(f\"La suma de los elementos de la serie 'X' es: {X.sum()}\")\n"
   ]
  },
  {
   "cell_type": "markdown",
   "metadata": {},
   "source": [
    "### 25) Dada la serie X de pandas, muestre el valor medio de sus elementos"
   ]
  },
  {
   "cell_type": "code",
   "execution_count": 59,
   "metadata": {},
   "outputs": [
    {
     "name": "stdout",
     "output_type": "stream",
     "text": [
      "El valor medio de los elementos de la serie 'X' es: 3.833\n"
     ]
    }
   ],
   "source": [
    "# your code goes here\n",
    "\n",
    "\n",
    "X = pd.Series([1, 6, 3, 0, 8, 5])\n",
    "\n",
    "media = X.mean()\n",
    "\n",
    "\n",
    "print(f\"El valor medio de los elementos de la serie 'X' es: {X.mean():.3f}\")\n",
    "\n"
   ]
  },
  {
   "cell_type": "markdown",
   "metadata": {},
   "source": [
    "### 26) Dada la serie X de pandas, muestre el valor máximo de sus elementos"
   ]
  },
  {
   "cell_type": "code",
   "execution_count": 60,
   "metadata": {},
   "outputs": [
    {
     "name": "stdout",
     "output_type": "stream",
     "text": [
      "El valor máximo de los elementos de la serie 'X' es: 800\n"
     ]
    }
   ],
   "source": [
    "# your code goes here\n",
    "\n",
    "X = pd.Series([19, 61, 3, 100, 800, 50])\n",
    "\n",
    "print(f\"El valor máximo de los elementos de la serie 'X' es: {X.max()}\")\n",
    "\n"
   ]
  },
  {
   "cell_type": "markdown",
   "metadata": {},
   "source": []
  }
 ],
 "metadata": {
  "kernelspec": {
   "display_name": "Python 3 (ipykernel)",
   "language": "python",
   "name": "python3"
  },
  "language_info": {
   "codemirror_mode": {
    "name": "ipython",
    "version": 3
   },
   "file_extension": ".py",
   "mimetype": "text/x-python",
   "name": "python",
   "nbconvert_exporter": "python",
   "pygments_lexer": "ipython3",
   "version": "3.11.9"
  }
 },
 "nbformat": 4,
 "nbformat_minor": 4
}

{
 "cells": [
  {
   "cell_type": "markdown",
   "metadata": {},
   "source": [
    "Imprimir los datos de la calidad del aire de Madrid de  la siguiente URL\n",
    "import requests\n",
    "\"http://www.mambiente.munimadrid.es/opendata/horario.txt\""
   ]
  },
  {
   "cell_type": "code",
   "execution_count": 2,
   "metadata": {},
   "outputs": [],
   "source": [
    "import requests\n",
    "url = \"http://www.mambiente.munimadrid.es/opendata/horario.txt\"\n",
    "resp = requests.get(url)\n",
    "with open('data/horario.txt', 'wb') as output:\n",
    "   output.write(resp.content)\n",
    "# Me está generando un error 503"
   ]
  },
  {
   "cell_type": "markdown",
   "metadata": {},
   "source": [
    "- El codigo 200 o cualquier otro código que comience con '2' suele indicar éxito\n",
    "- El código 404 recurso no encontrado\n",
    "- 503 El servidor no puede manejar la solicitud en ese momento debido a una carha alta, mantenimiento o problemas temporales."
   ]
  }
 ],
 "metadata": {
  "kernelspec": {
   "display_name": "Curso_Python",
   "language": "python",
   "name": "python3"
  },
  "language_info": {
   "codemirror_mode": {
    "name": "ipython",
    "version": 3
   },
   "file_extension": ".py",
   "mimetype": "text/x-python",
   "name": "python",
   "nbconvert_exporter": "python",
   "pygments_lexer": "ipython3",
   "version": "3.11.9"
  }
 },
 "nbformat": 4,
 "nbformat_minor": 2
}

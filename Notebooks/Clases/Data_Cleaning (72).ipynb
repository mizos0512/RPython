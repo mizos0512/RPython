{
 "cells": [
  {
   "cell_type": "markdown",
   "id": "f426c096",
   "metadata": {
    "slideshow": {
     "slide_type": "slide"
    }
   },
   "source": [
    "# Limpieza y preparación de datos"
   ]
  },
  {
   "cell_type": "markdown",
   "id": "6acc7dbb-c345-4ce3-8141-94eb771833ee",
   "metadata": {},
   "source": [
    "# Inicio Clase 72"
   ]
  },
  {
   "cell_type": "markdown",
   "id": "35668dfe",
   "metadata": {
    "slideshow": {
     "slide_type": "slide"
    }
   },
   "source": [
    "## 2.1 Tratamiento de los datos que faltan"
   ]
  },
  {
   "cell_type": "markdown",
   "id": "bf93f8b5",
   "metadata": {},
   "source": [
    "### En muchas aplicaciones de análisis de datos es habitual que falten datos. Uno de los objetivos de pandas es hacer que trabajar con datos perdidos sea lo menos doloroso posible. Por ejemplo, todas las estadísticas descriptivas de los objetos de pandas excluyen por defecto los datos que faltan."
   ]
  },
  {
   "cell_type": "markdown",
   "id": "18d7e1f4",
   "metadata": {
    "slideshow": {
     "slide_type": "slide"
    }
   },
   "source": [
    "### La forma en que se representan los datos que faltan en los objetos de pandas es algo imperfecta, pero es suficiente para la mayoría de los usos en el mundo real. Para datos con dtype float64, pandas utiliza el valor de coma flotante NaN (`Not a Number`) para representar los datos que faltan."
   ]
  },
  {
   "cell_type": "markdown",
   "id": "dddd97d7",
   "metadata": {},
   "source": [
    "Lo llamamos valor centinela (sentinel value): cuando está presente, indica un valor ausente (o nulo):"
   ]
  },
  {
   "cell_type": "code",
   "execution_count": 16,
   "id": "2acec2f6",
   "metadata": {
    "slideshow": {
     "slide_type": "slide"
    }
   },
   "outputs": [],
   "source": [
    "import pandas as pd\n",
    "import numpy as np\n",
    "\n",
    "float_data = pd.Series([1.8, -3.5, np.nan, 0])\n",
    "\n",
    "Mi_float_data = pd.Series(['a', -3.5, 1,np.nan])"
   ]
  },
  {
   "cell_type": "code",
   "execution_count": 17,
   "id": "f8221898",
   "metadata": {},
   "outputs": [
    {
     "name": "stdout",
     "output_type": "stream",
     "text": [
      "0    1.8\n",
      "1   -3.5\n",
      "2    NaN\n",
      "3    0.0\n",
      "dtype: float64\n",
      "\n",
      "0      a\n",
      "1   -3.5\n",
      "2      1\n",
      "3    NaN\n",
      "dtype: object\n"
     ]
    }
   ],
   "source": [
    "print(float_data)\n",
    "print()\n",
    "print(Mi_float_data)"
   ]
  },
  {
   "cell_type": "markdown",
   "id": "5d6e522e",
   "metadata": {
    "slideshow": {
     "slide_type": "slide"
    }
   },
   "source": [
    "El método `isna` nos da una Serie Booleana con `True` donde los valores son 'nulos':"
   ]
  },
  {
   "cell_type": "code",
   "execution_count": 3,
   "id": "8f642842",
   "metadata": {},
   "outputs": [
    {
     "data": {
      "text/plain": [
       "0    False\n",
       "1    False\n",
       "2     True\n",
       "3    False\n",
       "dtype: bool"
      ]
     },
     "execution_count": 3,
     "metadata": {},
     "output_type": "execute_result"
    }
   ],
   "source": [
    "float_data.isna()"
   ]
  },
  {
   "cell_type": "markdown",
   "id": "83ac8723",
   "metadata": {
    "slideshow": {
     "slide_type": "slide"
    }
   },
   "source": [
    "En pandas, hemos adoptado una convención utilizada en el lenguaje de programación R refiriéndonos a los datos perdidos como `NA`, que significa no disponible (`Not Available`). "
   ]
  },
  {
   "cell_type": "markdown",
   "id": "0f641407",
   "metadata": {
    "slideshow": {
     "slide_type": "slide"
    }
   },
   "source": [
    "El valor `None` (ausencia de un valor o un valor nulo) incorporado en Python también se trata como `NA`:"
   ]
  },
  {
   "cell_type": "code",
   "execution_count": 4,
   "id": "32fc5765",
   "metadata": {},
   "outputs": [
    {
     "data": {
      "text/plain": [
       "0    abcd\n",
       "1     NaN\n",
       "2    None\n",
       "3    dfeg\n",
       "dtype: object"
      ]
     },
     "execution_count": 4,
     "metadata": {},
     "output_type": "execute_result"
    }
   ],
   "source": [
    "string_data = pd.Series(['abcd', np.nan, None, 'dfeg'])\n",
    "\n",
    "string_data"
   ]
  },
  {
   "cell_type": "code",
   "execution_count": 5,
   "id": "86111bf1",
   "metadata": {
    "slideshow": {
     "slide_type": "slide"
    }
   },
   "outputs": [
    {
     "data": {
      "text/plain": [
       "0    False\n",
       "1     True\n",
       "2     True\n",
       "3    False\n",
       "dtype: bool"
      ]
     },
     "execution_count": 5,
     "metadata": {},
     "output_type": "execute_result"
    }
   ],
   "source": [
    "string_data.isna()"
   ]
  },
  {
   "cell_type": "markdown",
   "id": "fcae94e1-dc6f-4f9d-8d6e-cf45dec1ad94",
   "metadata": {},
   "source": [
    "El método `isna` nos da una Serie Booleana con `True` donde los valores son 'nulos':"
   ]
  },
  {
   "cell_type": "code",
   "execution_count": 22,
   "id": "c0aa58d8",
   "metadata": {
    "slideshow": {
     "slide_type": "slide"
    }
   },
   "outputs": [
    {
     "name": "stdout",
     "output_type": "stream",
     "text": [
      "0     3.0\n",
      "1     4.0\n",
      "2     7.0\n",
      "3     3.4\n",
      "4     7.0\n",
      "5     0.0\n",
      "6     NaN\n",
      "7     0.3\n",
      "8     4.0\n",
      "9     1.0\n",
      "10    NaN\n",
      "dtype: float64\n",
      "\n"
     ]
    },
    {
     "data": {
      "text/plain": [
       "0    1.0\n",
       "1    2.0\n",
       "2    NaN\n",
       "dtype: float64"
      ]
     },
     "execution_count": 22,
     "metadata": {},
     "output_type": "execute_result"
    }
   ],
   "source": [
    "float_data = pd.Series([1, 2, None], dtype='float64')\n",
    "\n",
    "mi_float_data=pd.Series([3, 4, 7, 3.4, 7, 0, None, 0.3, 4, 1, None])\n",
    "\n",
    "print(mi_float_data)\n",
    "print()\n",
    "float_data"
   ]
  },
  {
   "cell_type": "code",
   "execution_count": 24,
   "id": "a99d981f",
   "metadata": {
    "slideshow": {
     "slide_type": "slide"
    }
   },
   "outputs": [
    {
     "name": "stdout",
     "output_type": "stream",
     "text": [
      "0     False\n",
      "1     False\n",
      "2     False\n",
      "3     False\n",
      "4     False\n",
      "5     False\n",
      "6      True\n",
      "7     False\n",
      "8     False\n",
      "9     False\n",
      "10     True\n",
      "dtype: bool\n",
      "\n"
     ]
    },
    {
     "data": {
      "text/plain": [
       "0    False\n",
       "1    False\n",
       "2     True\n",
       "dtype: bool"
      ]
     },
     "execution_count": 24,
     "metadata": {},
     "output_type": "execute_result"
    }
   ],
   "source": [
    "print(mi_float_data.isna())\n",
    "print()\n",
    "float_data.isna()"
   ]
  },
  {
   "cell_type": "markdown",
   "id": "e512e237",
   "metadata": {
    "slideshow": {
     "slide_type": "slide"
    }
   },
   "source": [
    "**Otros metodos**\n",
    "\n",
    "\n",
    "`dropna()`: es un método utilizado para eliminar filas o columnas que contienen valores nulos (NaN).  \n",
    "\n",
    "`fillna`: Rellena los datos que faltan con algún valor o utilizando un método de interpolación como `ffill` o `bfill`.\n",
    "\n",
    "`ìsna()`: Devuelve valores booleanos que indican qué valores faltan `NA`. \n",
    "\n",
    "`notna`: Negación de `isna`, devuelve `True` para valores no `NA` y False para valores `NA`."
   ]
  },
  {
   "cell_type": "markdown",
   "id": "89d8f485",
   "metadata": {
    "slideshow": {
     "slide_type": "slide"
    }
   },
   "source": [
    "### Filtrar los datos que faltan"
   ]
  },
  {
   "cell_type": "markdown",
   "id": "4386985b",
   "metadata": {
    "slideshow": {
     "slide_type": "slide"
    }
   },
   "source": [
    "Hay algunas formas de filtrar los datos que faltan. Aunque siempre se tiene la opción de hacerlo a mano usando `pandas.isna()` y la indexación booleana, `dropna()` puede ser útil. En una Serie, devuelve la Serie con sólo los datos no nulos y los valores de índice:"
   ]
  },
  {
   "cell_type": "code",
   "execution_count": 37,
   "id": "fe62beda",
   "metadata": {},
   "outputs": [
    {
     "name": "stdout",
     "output_type": "stream",
     "text": [
      "0    1.0\n",
      "2    3.5\n",
      "4    7.0\n",
      "dtype: float64\n",
      "\n"
     ]
    },
    {
     "data": {
      "text/plain": [
       "0     True\n",
       "1    False\n",
       "2     True\n",
       "3    False\n",
       "4    False\n",
       "5     True\n",
       "dtype: bool"
      ]
     },
     "execution_count": 37,
     "metadata": {},
     "output_type": "execute_result"
    }
   ],
   "source": [
    "data = pd.Series([1, np.nan, 3.5, np.nan, 7])\n",
    "Mi_data = pd.Series([1, np.nan, 3.5, None, np.nan, 7])\n",
    "print(data.dropna())\n",
    "print()\n",
    "Mi_data.notna()\n"
   ]
  },
  {
   "cell_type": "markdown",
   "id": "9401408b",
   "metadata": {
    "slideshow": {
     "slide_type": "slide"
    }
   },
   "source": [
    "Esto es lo mismo que hacer:"
   ]
  },
  {
   "cell_type": "code",
   "execution_count": 35,
   "id": "247e345f",
   "metadata": {},
   "outputs": [
    {
     "data": {
      "text/plain": [
       "0     True\n",
       "1    False\n",
       "2     True\n",
       "3    False\n",
       "4     True\n",
       "dtype: bool"
      ]
     },
     "execution_count": 35,
     "metadata": {},
     "output_type": "execute_result"
    }
   ],
   "source": [
    "data.notna()"
   ]
  },
  {
   "cell_type": "markdown",
   "id": "dfbee4cc",
   "metadata": {
    "slideshow": {
     "slide_type": "slide"
    }
   },
   "source": [
    "Con los objetos DataFrame, hay diferentes formas de eliminar los datos que faltan. Es posible que desee eliminar las filas o columnas que son todas NA, o sólo las filas o columnas que contienen cualquier NA en absoluto. `dropna()` por defecto elimina cualquier fila que contenga un valor perdido:"
   ]
  },
  {
   "cell_type": "code",
   "execution_count": 38,
   "id": "fd5a3341",
   "metadata": {},
   "outputs": [
    {
     "name": "stdout",
     "output_type": "stream",
     "text": [
      "     0    1    2\n",
      "0  1.0  6.5  3.0\n",
      "1  1.0  NaN  NaN\n",
      "2  NaN  NaN  NaN\n",
      "3  NaN  6.5  3.0\n",
      "\n"
     ]
    },
    {
     "data": {
      "text/html": [
       "<div>\n",
       "<style scoped>\n",
       "    .dataframe tbody tr th:only-of-type {\n",
       "        vertical-align: middle;\n",
       "    }\n",
       "\n",
       "    .dataframe tbody tr th {\n",
       "        vertical-align: top;\n",
       "    }\n",
       "\n",
       "    .dataframe thead th {\n",
       "        text-align: right;\n",
       "    }\n",
       "</style>\n",
       "<table border=\"1\" class=\"dataframe\">\n",
       "  <thead>\n",
       "    <tr style=\"text-align: right;\">\n",
       "      <th></th>\n",
       "      <th>0</th>\n",
       "      <th>1</th>\n",
       "      <th>2</th>\n",
       "      <th>3</th>\n",
       "    </tr>\n",
       "  </thead>\n",
       "  <tbody>\n",
       "    <tr>\n",
       "      <th>0</th>\n",
       "      <td>1.0</td>\n",
       "      <td>6.5</td>\n",
       "      <td>3.0</td>\n",
       "      <td>0.0</td>\n",
       "    </tr>\n",
       "    <tr>\n",
       "      <th>1</th>\n",
       "      <td>8.0</td>\n",
       "      <td>1.0</td>\n",
       "      <td>0.0</td>\n",
       "      <td>2.0</td>\n",
       "    </tr>\n",
       "    <tr>\n",
       "      <th>2</th>\n",
       "      <td>NaN</td>\n",
       "      <td>NaN</td>\n",
       "      <td>0.0</td>\n",
       "      <td>3.0</td>\n",
       "    </tr>\n",
       "    <tr>\n",
       "      <th>3</th>\n",
       "      <td>NaN</td>\n",
       "      <td>NaN</td>\n",
       "      <td>NaN</td>\n",
       "      <td>NaN</td>\n",
       "    </tr>\n",
       "  </tbody>\n",
       "</table>\n",
       "</div>"
      ],
      "text/plain": [
       "     0    1    2    3\n",
       "0  1.0  6.5  3.0  0.0\n",
       "1  8.0  1.0  0.0  2.0\n",
       "2  NaN  NaN  0.0  3.0\n",
       "3  NaN  NaN  NaN  NaN"
      ]
     },
     "execution_count": 38,
     "metadata": {},
     "output_type": "execute_result"
    }
   ],
   "source": [
    "data = pd.DataFrame([[1., 6.5, 3.], [1., np.nan, np.nan],\n",
    "             [np.nan, np.nan, np.nan],\n",
    "             [np.nan, 6.5, 3.]])\n",
    "\n",
    "mi_data = pd.DataFrame([[1., 6.5, 3., 0], [8, 1, 0, 2],\n",
    "             [np.nan, np.nan, 0, 3],\n",
    "             [np.nan, None, np.nan, None]])\n",
    "\n",
    "print(data)\n",
    "print()\n",
    "mi_data"
   ]
  },
  {
   "cell_type": "code",
   "execution_count": 40,
   "id": "16d5374e",
   "metadata": {
    "slideshow": {
     "slide_type": "slide"
    }
   },
   "outputs": [
    {
     "name": "stdout",
     "output_type": "stream",
     "text": [
      "     0    1    2\n",
      "0  1.0  6.5  3.0\n",
      "\n"
     ]
    },
    {
     "data": {
      "text/html": [
       "<div>\n",
       "<style scoped>\n",
       "    .dataframe tbody tr th:only-of-type {\n",
       "        vertical-align: middle;\n",
       "    }\n",
       "\n",
       "    .dataframe tbody tr th {\n",
       "        vertical-align: top;\n",
       "    }\n",
       "\n",
       "    .dataframe thead th {\n",
       "        text-align: right;\n",
       "    }\n",
       "</style>\n",
       "<table border=\"1\" class=\"dataframe\">\n",
       "  <thead>\n",
       "    <tr style=\"text-align: right;\">\n",
       "      <th></th>\n",
       "      <th>0</th>\n",
       "      <th>1</th>\n",
       "      <th>2</th>\n",
       "      <th>3</th>\n",
       "    </tr>\n",
       "  </thead>\n",
       "  <tbody>\n",
       "    <tr>\n",
       "      <th>0</th>\n",
       "      <td>1.0</td>\n",
       "      <td>6.5</td>\n",
       "      <td>3.0</td>\n",
       "      <td>0.0</td>\n",
       "    </tr>\n",
       "    <tr>\n",
       "      <th>1</th>\n",
       "      <td>8.0</td>\n",
       "      <td>1.0</td>\n",
       "      <td>0.0</td>\n",
       "      <td>2.0</td>\n",
       "    </tr>\n",
       "  </tbody>\n",
       "</table>\n",
       "</div>"
      ],
      "text/plain": [
       "     0    1    2    3\n",
       "0  1.0  6.5  3.0  0.0\n",
       "1  8.0  1.0  0.0  2.0"
      ]
     },
     "execution_count": 40,
     "metadata": {},
     "output_type": "execute_result"
    }
   ],
   "source": [
    "print(data.dropna())\n",
    "print()\n",
    "mi_data.dropna() "
   ]
  },
  {
   "cell_type": "markdown",
   "id": "5f7baa20",
   "metadata": {
    "slideshow": {
     "slide_type": "slide"
    }
   },
   "source": [
    "Si se pasa `how=\"all\"`, sólo se eliminarán las filas que sean todas NA:"
   ]
  },
  {
   "cell_type": "code",
   "execution_count": 42,
   "id": "6375e3c0",
   "metadata": {},
   "outputs": [
    {
     "name": "stdout",
     "output_type": "stream",
     "text": [
      "     0    1    2\n",
      "0  1.0  6.5  3.0\n",
      "1  1.0  NaN  NaN\n",
      "3  NaN  6.5  3.0\n",
      "\n",
      "     0    1    2    3\n",
      "0  1.0  6.5  3.0  0.0\n",
      "1  8.0  1.0  0.0  2.0\n",
      "2  NaN  NaN  0.0  3.0\n",
      "\n"
     ]
    },
    {
     "data": {
      "text/html": [
       "<div>\n",
       "<style scoped>\n",
       "    .dataframe tbody tr th:only-of-type {\n",
       "        vertical-align: middle;\n",
       "    }\n",
       "\n",
       "    .dataframe tbody tr th {\n",
       "        vertical-align: top;\n",
       "    }\n",
       "\n",
       "    .dataframe thead th {\n",
       "        text-align: right;\n",
       "    }\n",
       "</style>\n",
       "<table border=\"1\" class=\"dataframe\">\n",
       "  <thead>\n",
       "    <tr style=\"text-align: right;\">\n",
       "      <th></th>\n",
       "      <th>0</th>\n",
       "      <th>1</th>\n",
       "      <th>2</th>\n",
       "      <th>3</th>\n",
       "    </tr>\n",
       "  </thead>\n",
       "  <tbody>\n",
       "    <tr>\n",
       "      <th>0</th>\n",
       "      <td>1.0</td>\n",
       "      <td>6.5</td>\n",
       "      <td>3.0</td>\n",
       "      <td>0.0</td>\n",
       "    </tr>\n",
       "    <tr>\n",
       "      <th>1</th>\n",
       "      <td>8.0</td>\n",
       "      <td>1.0</td>\n",
       "      <td>0.0</td>\n",
       "      <td>2.0</td>\n",
       "    </tr>\n",
       "    <tr>\n",
       "      <th>2</th>\n",
       "      <td>NaN</td>\n",
       "      <td>NaN</td>\n",
       "      <td>0.0</td>\n",
       "      <td>3.0</td>\n",
       "    </tr>\n",
       "    <tr>\n",
       "      <th>3</th>\n",
       "      <td>NaN</td>\n",
       "      <td>NaN</td>\n",
       "      <td>NaN</td>\n",
       "      <td>NaN</td>\n",
       "    </tr>\n",
       "  </tbody>\n",
       "</table>\n",
       "</div>"
      ],
      "text/plain": [
       "     0    1    2    3\n",
       "0  1.0  6.5  3.0  0.0\n",
       "1  8.0  1.0  0.0  2.0\n",
       "2  NaN  NaN  0.0  3.0\n",
       "3  NaN  NaN  NaN  NaN"
      ]
     },
     "execution_count": 42,
     "metadata": {},
     "output_type": "execute_result"
    }
   ],
   "source": [
    "print(data.dropna(how=\"all\"))\n",
    "print()\n",
    "print(mi_data.dropna(how=\"all\"))\n",
    "print()\n",
    "mi_data\n"
   ]
  },
  {
   "cell_type": "markdown",
   "id": "e7ad93a8",
   "metadata": {
    "slideshow": {
     "slide_type": "slide"
    }
   },
   "source": [
    "Tenga en cuenta que estas funciones devuelven nuevos objetos por defecto y no modifican el contenido del objeto original.\n",
    "\n",
    "Para soltar (drop) columnas del mismo modo, pase `axis=\"columns\"`:\n"
   ]
  },
  {
   "cell_type": "code",
   "execution_count": 45,
   "id": "805cac59",
   "metadata": {},
   "outputs": [
    {
     "name": "stdout",
     "output_type": "stream",
     "text": [
      "     0    1    2   4\n",
      "0  1.0  6.5  3.0 NaN\n",
      "1  1.0  NaN  NaN NaN\n",
      "2  NaN  NaN  NaN NaN\n",
      "3  NaN  6.5  3.0 NaN\n",
      "\n",
      "     0    1    2    3   4\n",
      "0  1.0  6.5  3.0  0.0 NaN\n",
      "1  8.0  1.0  0.0  2.0 NaN\n",
      "2  NaN  NaN  0.0  3.0 NaN\n",
      "3  NaN  NaN  NaN  NaN NaN\n",
      "\n"
     ]
    },
    {
     "data": {
      "text/html": [
       "<div>\n",
       "<style scoped>\n",
       "    .dataframe tbody tr th:only-of-type {\n",
       "        vertical-align: middle;\n",
       "    }\n",
       "\n",
       "    .dataframe tbody tr th {\n",
       "        vertical-align: top;\n",
       "    }\n",
       "\n",
       "    .dataframe thead th {\n",
       "        text-align: right;\n",
       "    }\n",
       "</style>\n",
       "<table border=\"1\" class=\"dataframe\">\n",
       "  <thead>\n",
       "    <tr style=\"text-align: right;\">\n",
       "      <th></th>\n",
       "      <th>0</th>\n",
       "      <th>1</th>\n",
       "      <th>2</th>\n",
       "      <th>3</th>\n",
       "      <th>4</th>\n",
       "    </tr>\n",
       "  </thead>\n",
       "  <tbody>\n",
       "    <tr>\n",
       "      <th>0</th>\n",
       "      <td>1.0</td>\n",
       "      <td>6.5</td>\n",
       "      <td>3.0</td>\n",
       "      <td>0.0</td>\n",
       "      <td>NaN</td>\n",
       "    </tr>\n",
       "    <tr>\n",
       "      <th>1</th>\n",
       "      <td>8.0</td>\n",
       "      <td>1.0</td>\n",
       "      <td>0.0</td>\n",
       "      <td>2.0</td>\n",
       "      <td>NaN</td>\n",
       "    </tr>\n",
       "    <tr>\n",
       "      <th>2</th>\n",
       "      <td>NaN</td>\n",
       "      <td>NaN</td>\n",
       "      <td>0.0</td>\n",
       "      <td>3.0</td>\n",
       "      <td>NaN</td>\n",
       "    </tr>\n",
       "    <tr>\n",
       "      <th>3</th>\n",
       "      <td>NaN</td>\n",
       "      <td>NaN</td>\n",
       "      <td>NaN</td>\n",
       "      <td>NaN</td>\n",
       "      <td>NaN</td>\n",
       "    </tr>\n",
       "  </tbody>\n",
       "</table>\n",
       "</div>"
      ],
      "text/plain": [
       "     0    1    2    3   4\n",
       "0  1.0  6.5  3.0  0.0 NaN\n",
       "1  8.0  1.0  0.0  2.0 NaN\n",
       "2  NaN  NaN  0.0  3.0 NaN\n",
       "3  NaN  NaN  NaN  NaN NaN"
      ]
     },
     "execution_count": 45,
     "metadata": {},
     "output_type": "execute_result"
    }
   ],
   "source": [
    "data[4] = np.nan\n",
    "print(data)\n",
    "print()\n",
    "print(mi_data)\n",
    "print()\n",
    "mi_data[4]=np.nan\n",
    "mi_data"
   ]
  },
  {
   "cell_type": "code",
   "execution_count": 52,
   "id": "60dc7053",
   "metadata": {
    "slideshow": {
     "slide_type": "slide"
    }
   },
   "outputs": [
    {
     "name": "stdout",
     "output_type": "stream",
     "text": [
      "     0    1    2    3\n",
      "0  1.0  6.5  3.0  0.0\n",
      "1  8.0  1.0  0.0  2.0\n",
      "2  2.0  NaN  0.0  3.0\n",
      "3  3.0  NaN  NaN  NaN\n",
      "\n",
      "     0\n",
      "0  1.0\n",
      "1  8.0\n",
      "2  2.0\n",
      "3  3.0\n",
      "\n"
     ]
    },
    {
     "data": {
      "text/html": [
       "<div>\n",
       "<style scoped>\n",
       "    .dataframe tbody tr th:only-of-type {\n",
       "        vertical-align: middle;\n",
       "    }\n",
       "\n",
       "    .dataframe tbody tr th {\n",
       "        vertical-align: top;\n",
       "    }\n",
       "\n",
       "    .dataframe thead th {\n",
       "        text-align: right;\n",
       "    }\n",
       "</style>\n",
       "<table border=\"1\" class=\"dataframe\">\n",
       "  <thead>\n",
       "    <tr style=\"text-align: right;\">\n",
       "      <th></th>\n",
       "      <th>0</th>\n",
       "      <th>1</th>\n",
       "      <th>2</th>\n",
       "    </tr>\n",
       "  </thead>\n",
       "  <tbody>\n",
       "    <tr>\n",
       "      <th>0</th>\n",
       "      <td>1.0</td>\n",
       "      <td>6.5</td>\n",
       "      <td>3.0</td>\n",
       "    </tr>\n",
       "    <tr>\n",
       "      <th>1</th>\n",
       "      <td>1.0</td>\n",
       "      <td>NaN</td>\n",
       "      <td>NaN</td>\n",
       "    </tr>\n",
       "    <tr>\n",
       "      <th>2</th>\n",
       "      <td>NaN</td>\n",
       "      <td>NaN</td>\n",
       "      <td>NaN</td>\n",
       "    </tr>\n",
       "    <tr>\n",
       "      <th>3</th>\n",
       "      <td>NaN</td>\n",
       "      <td>6.5</td>\n",
       "      <td>3.0</td>\n",
       "    </tr>\n",
       "  </tbody>\n",
       "</table>\n",
       "</div>"
      ],
      "text/plain": [
       "     0    1    2\n",
       "0  1.0  6.5  3.0\n",
       "1  1.0  NaN  NaN\n",
       "2  NaN  NaN  NaN\n",
       "3  NaN  6.5  3.0"
      ]
     },
     "execution_count": 52,
     "metadata": {},
     "output_type": "execute_result"
    }
   ],
   "source": [
    "mi_data1 = pd.DataFrame([[1., 6.5, 3., 0], [8, 1, 0, 2],\n",
    "[2, np.nan, 0, 3],\n",
    "[3, None, np.nan, None]])\n",
    "print(mi_data1)\n",
    "print()\n",
    "print(mi_data1.dropna(axis=\"columns\"))\n",
    "print()\n",
    "data.dropna(axis=\"columns\", how=\"all\")\n",
    "\n"
   ]
  },
  {
   "cell_type": "markdown",
   "id": "5e9af624",
   "metadata": {
    "slideshow": {
     "slide_type": "slide"
    }
   },
   "source": [
    "Supongamos que desea conservar sólo las filas que contengan como máximo un determinado número de observaciones omitidas.  \n",
    "Puede indicarlo con el argumento `thresh`, el cual especifica el número mínimo de valores no nulos que deben estar presentes en una fila o columna para que no sea eliminada.  \n",
    "Si una fila o columna no cumple con este umbral mínimo de valores no nulos, será eliminada del DataFrame."
   ]
  },
  {
   "cell_type": "code",
   "execution_count": 83,
   "id": "50c52525",
   "metadata": {
    "slideshow": {
     "slide_type": "-"
    }
   },
   "outputs": [],
   "source": [
    " df = pd.DataFrame(np.random.standard_normal((7, 3)))\n",
    " \n",
    " df_1 = pd.DataFrame(np.random.standard_normal((8, 4)))\n",
    " \n",
    " df_2 = pd.DataFrame(np.random.standard_normal((9, 5)))\n",
    " "
   ]
  },
  {
   "cell_type": "code",
   "execution_count": 84,
   "id": "35c692d5",
   "metadata": {
    "slideshow": {
     "slide_type": "slide"
    }
   },
   "outputs": [
    {
     "name": "stdout",
     "output_type": "stream",
     "text": [
      "          0         1         2\n",
      "0 -0.689859  1.502193 -1.133089\n",
      "1 -0.190453  0.380016 -0.572662\n",
      "2  1.405653  1.696467  1.478727\n",
      "3 -1.031556  1.029356  0.301410\n",
      "4 -0.352114 -0.148971  0.815259\n",
      "5  0.434023 -2.295916 -0.426819\n",
      "6  2.216655 -0.627189 -0.816908\n",
      "\n",
      "          0         1         2         3\n",
      "0  1.152069  0.489660 -1.447451  0.924103\n",
      "1 -0.199648  0.023229 -1.632171  0.764754\n",
      "2  0.457322 -1.031360  1.143603 -1.552225\n",
      "3  0.351991  0.449048  0.155745 -0.128090\n",
      "4 -0.515430 -0.990425 -0.512231 -0.792147\n",
      "5  1.370671 -0.278436 -0.394670  0.969267\n",
      "6  0.208861 -0.118976 -0.159338  0.450502\n",
      "7 -0.400702 -0.126432  0.307809  1.951067\n",
      "\n"
     ]
    },
    {
     "data": {
      "text/html": [
       "<div>\n",
       "<style scoped>\n",
       "    .dataframe tbody tr th:only-of-type {\n",
       "        vertical-align: middle;\n",
       "    }\n",
       "\n",
       "    .dataframe tbody tr th {\n",
       "        vertical-align: top;\n",
       "    }\n",
       "\n",
       "    .dataframe thead th {\n",
       "        text-align: right;\n",
       "    }\n",
       "</style>\n",
       "<table border=\"1\" class=\"dataframe\">\n",
       "  <thead>\n",
       "    <tr style=\"text-align: right;\">\n",
       "      <th></th>\n",
       "      <th>0</th>\n",
       "      <th>1</th>\n",
       "      <th>2</th>\n",
       "      <th>3</th>\n",
       "      <th>4</th>\n",
       "    </tr>\n",
       "  </thead>\n",
       "  <tbody>\n",
       "    <tr>\n",
       "      <th>0</th>\n",
       "      <td>-0.533473</td>\n",
       "      <td>-0.230496</td>\n",
       "      <td>0.905595</td>\n",
       "      <td>0.263430</td>\n",
       "      <td>1.609479</td>\n",
       "    </tr>\n",
       "    <tr>\n",
       "      <th>1</th>\n",
       "      <td>0.178550</td>\n",
       "      <td>-1.612611</td>\n",
       "      <td>0.055245</td>\n",
       "      <td>1.199089</td>\n",
       "      <td>-0.456682</td>\n",
       "    </tr>\n",
       "    <tr>\n",
       "      <th>2</th>\n",
       "      <td>-0.837546</td>\n",
       "      <td>1.026222</td>\n",
       "      <td>-1.079689</td>\n",
       "      <td>-2.494234</td>\n",
       "      <td>-0.188610</td>\n",
       "    </tr>\n",
       "    <tr>\n",
       "      <th>3</th>\n",
       "      <td>0.677042</td>\n",
       "      <td>1.727954</td>\n",
       "      <td>-0.870498</td>\n",
       "      <td>0.557573</td>\n",
       "      <td>0.661852</td>\n",
       "    </tr>\n",
       "    <tr>\n",
       "      <th>4</th>\n",
       "      <td>1.462078</td>\n",
       "      <td>-0.579672</td>\n",
       "      <td>0.522501</td>\n",
       "      <td>-0.748456</td>\n",
       "      <td>1.855297</td>\n",
       "    </tr>\n",
       "    <tr>\n",
       "      <th>5</th>\n",
       "      <td>-1.099431</td>\n",
       "      <td>0.797034</td>\n",
       "      <td>-0.663657</td>\n",
       "      <td>-0.586088</td>\n",
       "      <td>-0.597626</td>\n",
       "    </tr>\n",
       "    <tr>\n",
       "      <th>6</th>\n",
       "      <td>-0.557485</td>\n",
       "      <td>0.091103</td>\n",
       "      <td>0.052466</td>\n",
       "      <td>1.546092</td>\n",
       "      <td>0.544085</td>\n",
       "    </tr>\n",
       "    <tr>\n",
       "      <th>7</th>\n",
       "      <td>0.478180</td>\n",
       "      <td>1.328201</td>\n",
       "      <td>-0.891580</td>\n",
       "      <td>0.377530</td>\n",
       "      <td>0.063472</td>\n",
       "    </tr>\n",
       "    <tr>\n",
       "      <th>8</th>\n",
       "      <td>0.466078</td>\n",
       "      <td>-0.705445</td>\n",
       "      <td>0.003602</td>\n",
       "      <td>-1.292552</td>\n",
       "      <td>-1.022998</td>\n",
       "    </tr>\n",
       "  </tbody>\n",
       "</table>\n",
       "</div>"
      ],
      "text/plain": [
       "          0         1         2         3         4\n",
       "0 -0.533473 -0.230496  0.905595  0.263430  1.609479\n",
       "1  0.178550 -1.612611  0.055245  1.199089 -0.456682\n",
       "2 -0.837546  1.026222 -1.079689 -2.494234 -0.188610\n",
       "3  0.677042  1.727954 -0.870498  0.557573  0.661852\n",
       "4  1.462078 -0.579672  0.522501 -0.748456  1.855297\n",
       "5 -1.099431  0.797034 -0.663657 -0.586088 -0.597626\n",
       "6 -0.557485  0.091103  0.052466  1.546092  0.544085\n",
       "7  0.478180  1.328201 -0.891580  0.377530  0.063472\n",
       "8  0.466078 -0.705445  0.003602 -1.292552 -1.022998"
      ]
     },
     "execution_count": 84,
     "metadata": {},
     "output_type": "execute_result"
    }
   ],
   "source": [
    "print(df)\n",
    "print()\n",
    "print(df_1)\n",
    "print()\n",
    "df_2\n"
   ]
  },
  {
   "cell_type": "code",
   "execution_count": 85,
   "id": "245be668",
   "metadata": {},
   "outputs": [
    {
     "data": {
      "text/html": [
       "<div>\n",
       "<style scoped>\n",
       "    .dataframe tbody tr th:only-of-type {\n",
       "        vertical-align: middle;\n",
       "    }\n",
       "\n",
       "    .dataframe tbody tr th {\n",
       "        vertical-align: top;\n",
       "    }\n",
       "\n",
       "    .dataframe thead th {\n",
       "        text-align: right;\n",
       "    }\n",
       "</style>\n",
       "<table border=\"1\" class=\"dataframe\">\n",
       "  <thead>\n",
       "    <tr style=\"text-align: right;\">\n",
       "      <th></th>\n",
       "      <th>0</th>\n",
       "      <th>1</th>\n",
       "      <th>2</th>\n",
       "      <th>3</th>\n",
       "      <th>4</th>\n",
       "    </tr>\n",
       "  </thead>\n",
       "  <tbody>\n",
       "    <tr>\n",
       "      <th>3</th>\n",
       "      <td>0.677042</td>\n",
       "      <td>1.727954</td>\n",
       "      <td>-0.870498</td>\n",
       "      <td>0.557573</td>\n",
       "      <td>0.661852</td>\n",
       "    </tr>\n",
       "    <tr>\n",
       "      <th>4</th>\n",
       "      <td>1.462078</td>\n",
       "      <td>-0.579672</td>\n",
       "      <td>0.522501</td>\n",
       "      <td>-0.748456</td>\n",
       "      <td>1.855297</td>\n",
       "    </tr>\n",
       "    <tr>\n",
       "      <th>5</th>\n",
       "      <td>-1.099431</td>\n",
       "      <td>0.797034</td>\n",
       "      <td>-0.663657</td>\n",
       "      <td>-0.586088</td>\n",
       "      <td>-0.597626</td>\n",
       "    </tr>\n",
       "    <tr>\n",
       "      <th>6</th>\n",
       "      <td>-0.557485</td>\n",
       "      <td>0.091103</td>\n",
       "      <td>0.052466</td>\n",
       "      <td>1.546092</td>\n",
       "      <td>0.544085</td>\n",
       "    </tr>\n",
       "    <tr>\n",
       "      <th>7</th>\n",
       "      <td>0.478180</td>\n",
       "      <td>1.328201</td>\n",
       "      <td>-0.891580</td>\n",
       "      <td>0.377530</td>\n",
       "      <td>0.063472</td>\n",
       "    </tr>\n",
       "  </tbody>\n",
       "</table>\n",
       "</div>"
      ],
      "text/plain": [
       "          0         1         2         3         4\n",
       "3  0.677042  1.727954 -0.870498  0.557573  0.661852\n",
       "4  1.462078 -0.579672  0.522501 -0.748456  1.855297\n",
       "5 -1.099431  0.797034 -0.663657 -0.586088 -0.597626\n",
       "6 -0.557485  0.091103  0.052466  1.546092  0.544085\n",
       "7  0.478180  1.328201 -0.891580  0.377530  0.063472"
      ]
     },
     "execution_count": 85,
     "metadata": {},
     "output_type": "execute_result"
    }
   ],
   "source": []
  },
  {
   "cell_type": "code",
   "execution_count": 60,
   "id": "40eb8b4c",
   "metadata": {
    "slideshow": {
     "slide_type": "slide"
    }
   },
   "outputs": [],
   "source": [
    "df.iloc[:4, 1] = np.nan\n",
    "df.iloc[:2, 2] = np.nan\n"
   ]
  },
  {
   "cell_type": "code",
   "execution_count": 18,
   "id": "fe53aa86",
   "metadata": {},
   "outputs": [
    {
     "data": {
      "text/html": [
       "<div>\n",
       "<style scoped>\n",
       "    .dataframe tbody tr th:only-of-type {\n",
       "        vertical-align: middle;\n",
       "    }\n",
       "\n",
       "    .dataframe tbody tr th {\n",
       "        vertical-align: top;\n",
       "    }\n",
       "\n",
       "    .dataframe thead th {\n",
       "        text-align: right;\n",
       "    }\n",
       "</style>\n",
       "<table border=\"1\" class=\"dataframe\">\n",
       "  <thead>\n",
       "    <tr style=\"text-align: right;\">\n",
       "      <th></th>\n",
       "      <th>0</th>\n",
       "      <th>1</th>\n",
       "      <th>2</th>\n",
       "    </tr>\n",
       "  </thead>\n",
       "  <tbody>\n",
       "    <tr>\n",
       "      <th>0</th>\n",
       "      <td>-0.350195</td>\n",
       "      <td>NaN</td>\n",
       "      <td>NaN</td>\n",
       "    </tr>\n",
       "    <tr>\n",
       "      <th>1</th>\n",
       "      <td>-1.603950</td>\n",
       "      <td>NaN</td>\n",
       "      <td>NaN</td>\n",
       "    </tr>\n",
       "    <tr>\n",
       "      <th>2</th>\n",
       "      <td>0.064977</td>\n",
       "      <td>NaN</td>\n",
       "      <td>-0.807149</td>\n",
       "    </tr>\n",
       "    <tr>\n",
       "      <th>3</th>\n",
       "      <td>0.205999</td>\n",
       "      <td>NaN</td>\n",
       "      <td>0.333218</td>\n",
       "    </tr>\n",
       "    <tr>\n",
       "      <th>4</th>\n",
       "      <td>0.193293</td>\n",
       "      <td>-1.670206</td>\n",
       "      <td>-0.590758</td>\n",
       "    </tr>\n",
       "    <tr>\n",
       "      <th>5</th>\n",
       "      <td>0.496036</td>\n",
       "      <td>-0.706883</td>\n",
       "      <td>0.392845</td>\n",
       "    </tr>\n",
       "    <tr>\n",
       "      <th>6</th>\n",
       "      <td>1.310755</td>\n",
       "      <td>1.240568</td>\n",
       "      <td>-1.256120</td>\n",
       "    </tr>\n",
       "  </tbody>\n",
       "</table>\n",
       "</div>"
      ],
      "text/plain": [
       "          0         1         2\n",
       "0 -0.350195       NaN       NaN\n",
       "1 -1.603950       NaN       NaN\n",
       "2  0.064977       NaN -0.807149\n",
       "3  0.205999       NaN  0.333218\n",
       "4  0.193293 -1.670206 -0.590758\n",
       "5  0.496036 -0.706883  0.392845\n",
       "6  1.310755  1.240568 -1.256120"
      ]
     },
     "execution_count": 18,
     "metadata": {},
     "output_type": "execute_result"
    }
   ],
   "source": [
    "df"
   ]
  },
  {
   "cell_type": "code",
   "execution_count": 19,
   "id": "7132de74",
   "metadata": {
    "slideshow": {
     "slide_type": "slide"
    }
   },
   "outputs": [
    {
     "data": {
      "text/html": [
       "<div>\n",
       "<style scoped>\n",
       "    .dataframe tbody tr th:only-of-type {\n",
       "        vertical-align: middle;\n",
       "    }\n",
       "\n",
       "    .dataframe tbody tr th {\n",
       "        vertical-align: top;\n",
       "    }\n",
       "\n",
       "    .dataframe thead th {\n",
       "        text-align: right;\n",
       "    }\n",
       "</style>\n",
       "<table border=\"1\" class=\"dataframe\">\n",
       "  <thead>\n",
       "    <tr style=\"text-align: right;\">\n",
       "      <th></th>\n",
       "      <th>0</th>\n",
       "      <th>1</th>\n",
       "      <th>2</th>\n",
       "    </tr>\n",
       "  </thead>\n",
       "  <tbody>\n",
       "    <tr>\n",
       "      <th>4</th>\n",
       "      <td>0.193293</td>\n",
       "      <td>-1.670206</td>\n",
       "      <td>-0.590758</td>\n",
       "    </tr>\n",
       "    <tr>\n",
       "      <th>5</th>\n",
       "      <td>0.496036</td>\n",
       "      <td>-0.706883</td>\n",
       "      <td>0.392845</td>\n",
       "    </tr>\n",
       "    <tr>\n",
       "      <th>6</th>\n",
       "      <td>1.310755</td>\n",
       "      <td>1.240568</td>\n",
       "      <td>-1.256120</td>\n",
       "    </tr>\n",
       "  </tbody>\n",
       "</table>\n",
       "</div>"
      ],
      "text/plain": [
       "          0         1         2\n",
       "4  0.193293 -1.670206 -0.590758\n",
       "5  0.496036 -0.706883  0.392845\n",
       "6  1.310755  1.240568 -1.256120"
      ]
     },
     "execution_count": 19,
     "metadata": {},
     "output_type": "execute_result"
    }
   ],
   "source": [
    "df.dropna()"
   ]
  },
  {
   "cell_type": "code",
   "execution_count": 20,
   "id": "b3b0f144",
   "metadata": {
    "slideshow": {
     "slide_type": "slide"
    }
   },
   "outputs": [
    {
     "data": {
      "text/html": [
       "<div>\n",
       "<style scoped>\n",
       "    .dataframe tbody tr th:only-of-type {\n",
       "        vertical-align: middle;\n",
       "    }\n",
       "\n",
       "    .dataframe tbody tr th {\n",
       "        vertical-align: top;\n",
       "    }\n",
       "\n",
       "    .dataframe thead th {\n",
       "        text-align: right;\n",
       "    }\n",
       "</style>\n",
       "<table border=\"1\" class=\"dataframe\">\n",
       "  <thead>\n",
       "    <tr style=\"text-align: right;\">\n",
       "      <th></th>\n",
       "      <th>0</th>\n",
       "      <th>1</th>\n",
       "      <th>2</th>\n",
       "    </tr>\n",
       "  </thead>\n",
       "  <tbody>\n",
       "    <tr>\n",
       "      <th>2</th>\n",
       "      <td>0.064977</td>\n",
       "      <td>NaN</td>\n",
       "      <td>-0.807149</td>\n",
       "    </tr>\n",
       "    <tr>\n",
       "      <th>3</th>\n",
       "      <td>0.205999</td>\n",
       "      <td>NaN</td>\n",
       "      <td>0.333218</td>\n",
       "    </tr>\n",
       "    <tr>\n",
       "      <th>4</th>\n",
       "      <td>0.193293</td>\n",
       "      <td>-1.670206</td>\n",
       "      <td>-0.590758</td>\n",
       "    </tr>\n",
       "    <tr>\n",
       "      <th>5</th>\n",
       "      <td>0.496036</td>\n",
       "      <td>-0.706883</td>\n",
       "      <td>0.392845</td>\n",
       "    </tr>\n",
       "    <tr>\n",
       "      <th>6</th>\n",
       "      <td>1.310755</td>\n",
       "      <td>1.240568</td>\n",
       "      <td>-1.256120</td>\n",
       "    </tr>\n",
       "  </tbody>\n",
       "</table>\n",
       "</div>"
      ],
      "text/plain": [
       "          0         1         2\n",
       "2  0.064977       NaN -0.807149\n",
       "3  0.205999       NaN  0.333218\n",
       "4  0.193293 -1.670206 -0.590758\n",
       "5  0.496036 -0.706883  0.392845\n",
       "6  1.310755  1.240568 -1.256120"
      ]
     },
     "execution_count": 20,
     "metadata": {},
     "output_type": "execute_result"
    }
   ],
   "source": [
    "df.dropna(thresh=2)"
   ]
  },
  {
   "cell_type": "code",
   "execution_count": 67,
   "id": "5a0a420e",
   "metadata": {},
   "outputs": [
    {
     "name": "stdout",
     "output_type": "stream",
     "text": [
      "          0         1         2         3\n",
      "0 -0.562239 -0.538679  0.092159  0.866690\n",
      "1  0.435171  0.086605 -0.539535  1.638161\n",
      "2 -0.269751 -0.016318  1.975415       NaN\n",
      "3  0.253939 -0.327988  0.736766       NaN\n",
      "4  1.176226  2.087048 -0.417223 -0.182218\n",
      "5       NaN  0.807250 -1.439846  1.004179\n",
      "6       NaN -1.337561 -1.566016 -1.760304\n",
      "7  1.068203  0.855511 -0.887699 -2.786103\n",
      "\n"
     ]
    }
   ],
   "source": [
    "print(df_1)\n",
    "print()\n",
    "df_1.iloc[2:4,3]=np.nan\n",
    "df_1.iloc[5:7,0]=np.nan\n"
   ]
  },
  {
   "cell_type": "markdown",
   "id": "dddf0605",
   "metadata": {
    "slideshow": {
     "slide_type": "slide"
    }
   },
   "source": [
    "### Rellenar los datos que faltan"
   ]
  },
  {
   "cell_type": "markdown",
   "id": "fa10ace8",
   "metadata": {},
   "source": [
    "En lugar de filtrar los datos que faltan (y potencialmente descartar otros datos junto con ellos), es posible que desee rellenar los \"huecos\" de varias maneras. Para la mayoría de los propósitos, el método `fillna()` es la función a utilizar. Llamar a `fillna()` con una constante sustituye los valores que faltan por ese valor:"
   ]
  },
  {
   "cell_type": "code",
   "execution_count": 21,
   "id": "7e08146e-138f-4b2f-8f8a-643eb59ea827",
   "metadata": {},
   "outputs": [
    {
     "data": {
      "text/html": [
       "<div>\n",
       "<style scoped>\n",
       "    .dataframe tbody tr th:only-of-type {\n",
       "        vertical-align: middle;\n",
       "    }\n",
       "\n",
       "    .dataframe tbody tr th {\n",
       "        vertical-align: top;\n",
       "    }\n",
       "\n",
       "    .dataframe thead th {\n",
       "        text-align: right;\n",
       "    }\n",
       "</style>\n",
       "<table border=\"1\" class=\"dataframe\">\n",
       "  <thead>\n",
       "    <tr style=\"text-align: right;\">\n",
       "      <th></th>\n",
       "      <th>0</th>\n",
       "      <th>1</th>\n",
       "      <th>2</th>\n",
       "    </tr>\n",
       "  </thead>\n",
       "  <tbody>\n",
       "    <tr>\n",
       "      <th>0</th>\n",
       "      <td>-0.350195</td>\n",
       "      <td>NaN</td>\n",
       "      <td>NaN</td>\n",
       "    </tr>\n",
       "    <tr>\n",
       "      <th>1</th>\n",
       "      <td>-1.603950</td>\n",
       "      <td>NaN</td>\n",
       "      <td>NaN</td>\n",
       "    </tr>\n",
       "    <tr>\n",
       "      <th>2</th>\n",
       "      <td>0.064977</td>\n",
       "      <td>NaN</td>\n",
       "      <td>-0.807149</td>\n",
       "    </tr>\n",
       "    <tr>\n",
       "      <th>3</th>\n",
       "      <td>0.205999</td>\n",
       "      <td>NaN</td>\n",
       "      <td>0.333218</td>\n",
       "    </tr>\n",
       "    <tr>\n",
       "      <th>4</th>\n",
       "      <td>0.193293</td>\n",
       "      <td>-1.670206</td>\n",
       "      <td>-0.590758</td>\n",
       "    </tr>\n",
       "    <tr>\n",
       "      <th>5</th>\n",
       "      <td>0.496036</td>\n",
       "      <td>-0.706883</td>\n",
       "      <td>0.392845</td>\n",
       "    </tr>\n",
       "    <tr>\n",
       "      <th>6</th>\n",
       "      <td>1.310755</td>\n",
       "      <td>1.240568</td>\n",
       "      <td>-1.256120</td>\n",
       "    </tr>\n",
       "  </tbody>\n",
       "</table>\n",
       "</div>"
      ],
      "text/plain": [
       "          0         1         2\n",
       "0 -0.350195       NaN       NaN\n",
       "1 -1.603950       NaN       NaN\n",
       "2  0.064977       NaN -0.807149\n",
       "3  0.205999       NaN  0.333218\n",
       "4  0.193293 -1.670206 -0.590758\n",
       "5  0.496036 -0.706883  0.392845\n",
       "6  1.310755  1.240568 -1.256120"
      ]
     },
     "execution_count": 21,
     "metadata": {},
     "output_type": "execute_result"
    }
   ],
   "source": [
    "df"
   ]
  },
  {
   "cell_type": "code",
   "execution_count": 22,
   "id": "b2966f30",
   "metadata": {
    "slideshow": {
     "slide_type": "slide"
    }
   },
   "outputs": [
    {
     "data": {
      "text/html": [
       "<div>\n",
       "<style scoped>\n",
       "    .dataframe tbody tr th:only-of-type {\n",
       "        vertical-align: middle;\n",
       "    }\n",
       "\n",
       "    .dataframe tbody tr th {\n",
       "        vertical-align: top;\n",
       "    }\n",
       "\n",
       "    .dataframe thead th {\n",
       "        text-align: right;\n",
       "    }\n",
       "</style>\n",
       "<table border=\"1\" class=\"dataframe\">\n",
       "  <thead>\n",
       "    <tr style=\"text-align: right;\">\n",
       "      <th></th>\n",
       "      <th>0</th>\n",
       "      <th>1</th>\n",
       "      <th>2</th>\n",
       "    </tr>\n",
       "  </thead>\n",
       "  <tbody>\n",
       "    <tr>\n",
       "      <th>0</th>\n",
       "      <td>-0.350195</td>\n",
       "      <td>0.000000</td>\n",
       "      <td>0.000000</td>\n",
       "    </tr>\n",
       "    <tr>\n",
       "      <th>1</th>\n",
       "      <td>-1.603950</td>\n",
       "      <td>0.000000</td>\n",
       "      <td>0.000000</td>\n",
       "    </tr>\n",
       "    <tr>\n",
       "      <th>2</th>\n",
       "      <td>0.064977</td>\n",
       "      <td>0.000000</td>\n",
       "      <td>-0.807149</td>\n",
       "    </tr>\n",
       "    <tr>\n",
       "      <th>3</th>\n",
       "      <td>0.205999</td>\n",
       "      <td>0.000000</td>\n",
       "      <td>0.333218</td>\n",
       "    </tr>\n",
       "    <tr>\n",
       "      <th>4</th>\n",
       "      <td>0.193293</td>\n",
       "      <td>-1.670206</td>\n",
       "      <td>-0.590758</td>\n",
       "    </tr>\n",
       "    <tr>\n",
       "      <th>5</th>\n",
       "      <td>0.496036</td>\n",
       "      <td>-0.706883</td>\n",
       "      <td>0.392845</td>\n",
       "    </tr>\n",
       "    <tr>\n",
       "      <th>6</th>\n",
       "      <td>1.310755</td>\n",
       "      <td>1.240568</td>\n",
       "      <td>-1.256120</td>\n",
       "    </tr>\n",
       "  </tbody>\n",
       "</table>\n",
       "</div>"
      ],
      "text/plain": [
       "          0         1         2\n",
       "0 -0.350195  0.000000  0.000000\n",
       "1 -1.603950  0.000000  0.000000\n",
       "2  0.064977  0.000000 -0.807149\n",
       "3  0.205999  0.000000  0.333218\n",
       "4  0.193293 -1.670206 -0.590758\n",
       "5  0.496036 -0.706883  0.392845\n",
       "6  1.310755  1.240568 -1.256120"
      ]
     },
     "execution_count": 22,
     "metadata": {},
     "output_type": "execute_result"
    }
   ],
   "source": [
    "df.fillna(0)"
   ]
  },
  {
   "cell_type": "code",
   "execution_count": 69,
   "id": "6400b7c4",
   "metadata": {},
   "outputs": [
    {
     "data": {
      "text/html": [
       "<div>\n",
       "<style scoped>\n",
       "    .dataframe tbody tr th:only-of-type {\n",
       "        vertical-align: middle;\n",
       "    }\n",
       "\n",
       "    .dataframe tbody tr th {\n",
       "        vertical-align: top;\n",
       "    }\n",
       "\n",
       "    .dataframe thead th {\n",
       "        text-align: right;\n",
       "    }\n",
       "</style>\n",
       "<table border=\"1\" class=\"dataframe\">\n",
       "  <thead>\n",
       "    <tr style=\"text-align: right;\">\n",
       "      <th></th>\n",
       "      <th>0</th>\n",
       "      <th>1</th>\n",
       "      <th>2</th>\n",
       "      <th>3</th>\n",
       "    </tr>\n",
       "  </thead>\n",
       "  <tbody>\n",
       "    <tr>\n",
       "      <th>0</th>\n",
       "      <td>-0.562239</td>\n",
       "      <td>-0.538679</td>\n",
       "      <td>0.092159</td>\n",
       "      <td>0.866690</td>\n",
       "    </tr>\n",
       "    <tr>\n",
       "      <th>1</th>\n",
       "      <td>0.435171</td>\n",
       "      <td>0.086605</td>\n",
       "      <td>-0.539535</td>\n",
       "      <td>1.638161</td>\n",
       "    </tr>\n",
       "    <tr>\n",
       "      <th>2</th>\n",
       "      <td>-0.269751</td>\n",
       "      <td>-0.016318</td>\n",
       "      <td>1.975415</td>\n",
       "      <td>-1.000000</td>\n",
       "    </tr>\n",
       "    <tr>\n",
       "      <th>3</th>\n",
       "      <td>0.253939</td>\n",
       "      <td>-0.327988</td>\n",
       "      <td>0.736766</td>\n",
       "      <td>-1.000000</td>\n",
       "    </tr>\n",
       "    <tr>\n",
       "      <th>4</th>\n",
       "      <td>1.176226</td>\n",
       "      <td>2.087048</td>\n",
       "      <td>-0.417223</td>\n",
       "      <td>-0.182218</td>\n",
       "    </tr>\n",
       "    <tr>\n",
       "      <th>5</th>\n",
       "      <td>-1.000000</td>\n",
       "      <td>0.807250</td>\n",
       "      <td>-1.439846</td>\n",
       "      <td>1.004179</td>\n",
       "    </tr>\n",
       "    <tr>\n",
       "      <th>6</th>\n",
       "      <td>-1.000000</td>\n",
       "      <td>-1.337561</td>\n",
       "      <td>-1.566016</td>\n",
       "      <td>-1.760304</td>\n",
       "    </tr>\n",
       "    <tr>\n",
       "      <th>7</th>\n",
       "      <td>1.068203</td>\n",
       "      <td>0.855511</td>\n",
       "      <td>-0.887699</td>\n",
       "      <td>-2.786103</td>\n",
       "    </tr>\n",
       "  </tbody>\n",
       "</table>\n",
       "</div>"
      ],
      "text/plain": [
       "          0         1         2         3\n",
       "0 -0.562239 -0.538679  0.092159  0.866690\n",
       "1  0.435171  0.086605 -0.539535  1.638161\n",
       "2 -0.269751 -0.016318  1.975415 -1.000000\n",
       "3  0.253939 -0.327988  0.736766 -1.000000\n",
       "4  1.176226  2.087048 -0.417223 -0.182218\n",
       "5 -1.000000  0.807250 -1.439846  1.004179\n",
       "6 -1.000000 -1.337561 -1.566016 -1.760304\n",
       "7  1.068203  0.855511 -0.887699 -2.786103"
      ]
     },
     "execution_count": 69,
     "metadata": {},
     "output_type": "execute_result"
    }
   ],
   "source": [
    "df_1.fillna(-1)"
   ]
  },
  {
   "cell_type": "markdown",
   "id": "23202be6",
   "metadata": {
    "slideshow": {
     "slide_type": "slide"
    }
   },
   "source": [
    "Llamando a `fillna()` con un diccionario, puede utilizar un valor de relleno diferente para cada columna:"
   ]
  },
  {
   "cell_type": "code",
   "execution_count": 71,
   "id": "e52707d5",
   "metadata": {},
   "outputs": [
    {
     "data": {
      "text/html": [
       "<div>\n",
       "<style scoped>\n",
       "    .dataframe tbody tr th:only-of-type {\n",
       "        vertical-align: middle;\n",
       "    }\n",
       "\n",
       "    .dataframe tbody tr th {\n",
       "        vertical-align: top;\n",
       "    }\n",
       "\n",
       "    .dataframe thead th {\n",
       "        text-align: right;\n",
       "    }\n",
       "</style>\n",
       "<table border=\"1\" class=\"dataframe\">\n",
       "  <thead>\n",
       "    <tr style=\"text-align: right;\">\n",
       "      <th></th>\n",
       "      <th>0</th>\n",
       "      <th>1</th>\n",
       "      <th>2</th>\n",
       "    </tr>\n",
       "  </thead>\n",
       "  <tbody>\n",
       "    <tr>\n",
       "      <th>0</th>\n",
       "      <td>0.175351</td>\n",
       "      <td>0.500000</td>\n",
       "      <td>0.000000</td>\n",
       "    </tr>\n",
       "    <tr>\n",
       "      <th>1</th>\n",
       "      <td>-0.067846</td>\n",
       "      <td>0.500000</td>\n",
       "      <td>0.000000</td>\n",
       "    </tr>\n",
       "    <tr>\n",
       "      <th>2</th>\n",
       "      <td>0.255104</td>\n",
       "      <td>0.500000</td>\n",
       "      <td>-0.672915</td>\n",
       "    </tr>\n",
       "    <tr>\n",
       "      <th>3</th>\n",
       "      <td>1.416088</td>\n",
       "      <td>0.500000</td>\n",
       "      <td>-0.650013</td>\n",
       "    </tr>\n",
       "    <tr>\n",
       "      <th>4</th>\n",
       "      <td>0.473113</td>\n",
       "      <td>-1.453965</td>\n",
       "      <td>0.266200</td>\n",
       "    </tr>\n",
       "    <tr>\n",
       "      <th>5</th>\n",
       "      <td>-0.017000</td>\n",
       "      <td>-0.083933</td>\n",
       "      <td>0.502919</td>\n",
       "    </tr>\n",
       "    <tr>\n",
       "      <th>6</th>\n",
       "      <td>0.347622</td>\n",
       "      <td>1.523456</td>\n",
       "      <td>-0.799390</td>\n",
       "    </tr>\n",
       "  </tbody>\n",
       "</table>\n",
       "</div>"
      ],
      "text/plain": [
       "          0         1         2\n",
       "0  0.175351  0.500000  0.000000\n",
       "1 -0.067846  0.500000  0.000000\n",
       "2  0.255104  0.500000 -0.672915\n",
       "3  1.416088  0.500000 -0.650013\n",
       "4  0.473113 -1.453965  0.266200\n",
       "5 -0.017000 -0.083933  0.502919\n",
       "6  0.347622  1.523456 -0.799390"
      ]
     },
     "execution_count": 71,
     "metadata": {},
     "output_type": "execute_result"
    }
   ],
   "source": [
    "df.fillna({1: 0.5, 2: 0})"
   ]
  },
  {
   "cell_type": "code",
   "execution_count": 79,
   "id": "2eb2bfc9",
   "metadata": {},
   "outputs": [
    {
     "data": {
      "text/html": [
       "<div>\n",
       "<style scoped>\n",
       "    .dataframe tbody tr th:only-of-type {\n",
       "        vertical-align: middle;\n",
       "    }\n",
       "\n",
       "    .dataframe tbody tr th {\n",
       "        vertical-align: top;\n",
       "    }\n",
       "\n",
       "    .dataframe thead th {\n",
       "        text-align: right;\n",
       "    }\n",
       "</style>\n",
       "<table border=\"1\" class=\"dataframe\">\n",
       "  <thead>\n",
       "    <tr style=\"text-align: right;\">\n",
       "      <th></th>\n",
       "      <th>0</th>\n",
       "      <th>1</th>\n",
       "      <th>2</th>\n",
       "      <th>3</th>\n",
       "    </tr>\n",
       "  </thead>\n",
       "  <tbody>\n",
       "    <tr>\n",
       "      <th>0</th>\n",
       "      <td>-0.562239</td>\n",
       "      <td>-0.538679</td>\n",
       "      <td>0.092159</td>\n",
       "      <td>0.866690</td>\n",
       "    </tr>\n",
       "    <tr>\n",
       "      <th>1</th>\n",
       "      <td>0.435171</td>\n",
       "      <td>0.086605</td>\n",
       "      <td>-0.539535</td>\n",
       "      <td>1.638161</td>\n",
       "    </tr>\n",
       "    <tr>\n",
       "      <th>2</th>\n",
       "      <td>-0.269751</td>\n",
       "      <td>-0.016318</td>\n",
       "      <td>1.975415</td>\n",
       "      <td>100.000000</td>\n",
       "    </tr>\n",
       "    <tr>\n",
       "      <th>3</th>\n",
       "      <td>0.253939</td>\n",
       "      <td>-0.327988</td>\n",
       "      <td>0.736766</td>\n",
       "      <td>100.000000</td>\n",
       "    </tr>\n",
       "    <tr>\n",
       "      <th>4</th>\n",
       "      <td>1.176226</td>\n",
       "      <td>2.087048</td>\n",
       "      <td>-0.417223</td>\n",
       "      <td>-0.182218</td>\n",
       "    </tr>\n",
       "    <tr>\n",
       "      <th>5</th>\n",
       "      <td>100.000000</td>\n",
       "      <td>0.807250</td>\n",
       "      <td>-1.439846</td>\n",
       "      <td>1.004179</td>\n",
       "    </tr>\n",
       "    <tr>\n",
       "      <th>6</th>\n",
       "      <td>100.000000</td>\n",
       "      <td>-1.337561</td>\n",
       "      <td>-1.566016</td>\n",
       "      <td>-1.760304</td>\n",
       "    </tr>\n",
       "    <tr>\n",
       "      <th>7</th>\n",
       "      <td>1.068203</td>\n",
       "      <td>0.855511</td>\n",
       "      <td>-0.887699</td>\n",
       "      <td>-2.786103</td>\n",
       "    </tr>\n",
       "  </tbody>\n",
       "</table>\n",
       "</div>"
      ],
      "text/plain": [
       "            0         1         2           3\n",
       "0   -0.562239 -0.538679  0.092159    0.866690\n",
       "1    0.435171  0.086605 -0.539535    1.638161\n",
       "2   -0.269751 -0.016318  1.975415  100.000000\n",
       "3    0.253939 -0.327988  0.736766  100.000000\n",
       "4    1.176226  2.087048 -0.417223   -0.182218\n",
       "5  100.000000  0.807250 -1.439846    1.004179\n",
       "6  100.000000 -1.337561 -1.566016   -1.760304\n",
       "7    1.068203  0.855511 -0.887699   -2.786103"
      ]
     },
     "execution_count": 79,
     "metadata": {},
     "output_type": "execute_result"
    }
   ],
   "source": [
    "df_1.fillna({0: 100, 2: 0, 3: 100})"
   ]
  },
  {
   "cell_type": "markdown",
   "id": "48fa124e",
   "metadata": {
    "slideshow": {
     "slide_type": "slide"
    }
   },
   "source": [
    "Los mismos métodos de interpolación disponibles para la reindexación pueden utilizarse con `fillna()`:"
   ]
  },
  {
   "cell_type": "code",
   "execution_count": 24,
   "id": "d4762cdd",
   "metadata": {},
   "outputs": [],
   "source": [
    "df = pd.DataFrame(np.random.standard_normal((6, 3)))"
   ]
  },
  {
   "cell_type": "code",
   "execution_count": 25,
   "id": "24d67c3a",
   "metadata": {
    "slideshow": {
     "slide_type": "slide"
    }
   },
   "outputs": [
    {
     "data": {
      "text/html": [
       "<div>\n",
       "<style scoped>\n",
       "    .dataframe tbody tr th:only-of-type {\n",
       "        vertical-align: middle;\n",
       "    }\n",
       "\n",
       "    .dataframe tbody tr th {\n",
       "        vertical-align: top;\n",
       "    }\n",
       "\n",
       "    .dataframe thead th {\n",
       "        text-align: right;\n",
       "    }\n",
       "</style>\n",
       "<table border=\"1\" class=\"dataframe\">\n",
       "  <thead>\n",
       "    <tr style=\"text-align: right;\">\n",
       "      <th></th>\n",
       "      <th>0</th>\n",
       "      <th>1</th>\n",
       "      <th>2</th>\n",
       "    </tr>\n",
       "  </thead>\n",
       "  <tbody>\n",
       "    <tr>\n",
       "      <th>0</th>\n",
       "      <td>-1.722007</td>\n",
       "      <td>-1.895035</td>\n",
       "      <td>-0.090413</td>\n",
       "    </tr>\n",
       "    <tr>\n",
       "      <th>1</th>\n",
       "      <td>-1.634339</td>\n",
       "      <td>-1.782433</td>\n",
       "      <td>-0.950678</td>\n",
       "    </tr>\n",
       "    <tr>\n",
       "      <th>2</th>\n",
       "      <td>-1.004879</td>\n",
       "      <td>NaN</td>\n",
       "      <td>0.732767</td>\n",
       "    </tr>\n",
       "    <tr>\n",
       "      <th>3</th>\n",
       "      <td>1.611951</td>\n",
       "      <td>NaN</td>\n",
       "      <td>-0.385819</td>\n",
       "    </tr>\n",
       "    <tr>\n",
       "      <th>4</th>\n",
       "      <td>2.559992</td>\n",
       "      <td>NaN</td>\n",
       "      <td>NaN</td>\n",
       "    </tr>\n",
       "    <tr>\n",
       "      <th>5</th>\n",
       "      <td>0.803963</td>\n",
       "      <td>NaN</td>\n",
       "      <td>NaN</td>\n",
       "    </tr>\n",
       "  </tbody>\n",
       "</table>\n",
       "</div>"
      ],
      "text/plain": [
       "          0         1         2\n",
       "0 -1.722007 -1.895035 -0.090413\n",
       "1 -1.634339 -1.782433 -0.950678\n",
       "2 -1.004879       NaN  0.732767\n",
       "3  1.611951       NaN -0.385819\n",
       "4  2.559992       NaN       NaN\n",
       "5  0.803963       NaN       NaN"
      ]
     },
     "execution_count": 25,
     "metadata": {},
     "output_type": "execute_result"
    }
   ],
   "source": [
    "df.iloc[2:, 1] = np.nan\n",
    "df.iloc[4:, 2] = np.nan\n",
    "df"
   ]
  },
  {
   "cell_type": "code",
   "execution_count": 81,
   "id": "59ae6fdd",
   "metadata": {},
   "outputs": [
    {
     "data": {
      "text/html": [
       "<div>\n",
       "<style scoped>\n",
       "    .dataframe tbody tr th:only-of-type {\n",
       "        vertical-align: middle;\n",
       "    }\n",
       "\n",
       "    .dataframe tbody tr th {\n",
       "        vertical-align: top;\n",
       "    }\n",
       "\n",
       "    .dataframe thead th {\n",
       "        text-align: right;\n",
       "    }\n",
       "</style>\n",
       "<table border=\"1\" class=\"dataframe\">\n",
       "  <thead>\n",
       "    <tr style=\"text-align: right;\">\n",
       "      <th></th>\n",
       "      <th>0</th>\n",
       "      <th>1</th>\n",
       "      <th>2</th>\n",
       "      <th>3</th>\n",
       "    </tr>\n",
       "  </thead>\n",
       "  <tbody>\n",
       "    <tr>\n",
       "      <th>0</th>\n",
       "      <td>-0.562239</td>\n",
       "      <td>-0.538679</td>\n",
       "      <td>0.092159</td>\n",
       "      <td>0.866690</td>\n",
       "    </tr>\n",
       "    <tr>\n",
       "      <th>1</th>\n",
       "      <td>0.435171</td>\n",
       "      <td>0.086605</td>\n",
       "      <td>-0.539535</td>\n",
       "      <td>1.638161</td>\n",
       "    </tr>\n",
       "    <tr>\n",
       "      <th>2</th>\n",
       "      <td>-0.269751</td>\n",
       "      <td>-0.016318</td>\n",
       "      <td>1.975415</td>\n",
       "      <td>NaN</td>\n",
       "    </tr>\n",
       "    <tr>\n",
       "      <th>3</th>\n",
       "      <td>0.253939</td>\n",
       "      <td>-0.327988</td>\n",
       "      <td>0.736766</td>\n",
       "      <td>NaN</td>\n",
       "    </tr>\n",
       "    <tr>\n",
       "      <th>4</th>\n",
       "      <td>1.176226</td>\n",
       "      <td>2.087048</td>\n",
       "      <td>-0.417223</td>\n",
       "      <td>-0.182218</td>\n",
       "    </tr>\n",
       "    <tr>\n",
       "      <th>5</th>\n",
       "      <td>NaN</td>\n",
       "      <td>0.807250</td>\n",
       "      <td>-1.439846</td>\n",
       "      <td>1.004179</td>\n",
       "    </tr>\n",
       "    <tr>\n",
       "      <th>6</th>\n",
       "      <td>NaN</td>\n",
       "      <td>-1.337561</td>\n",
       "      <td>-1.566016</td>\n",
       "      <td>-1.760304</td>\n",
       "    </tr>\n",
       "    <tr>\n",
       "      <th>7</th>\n",
       "      <td>1.068203</td>\n",
       "      <td>0.855511</td>\n",
       "      <td>-0.887699</td>\n",
       "      <td>-2.786103</td>\n",
       "    </tr>\n",
       "  </tbody>\n",
       "</table>\n",
       "</div>"
      ],
      "text/plain": [
       "          0         1         2         3\n",
       "0 -0.562239 -0.538679  0.092159  0.866690\n",
       "1  0.435171  0.086605 -0.539535  1.638161\n",
       "2 -0.269751 -0.016318  1.975415       NaN\n",
       "3  0.253939 -0.327988  0.736766       NaN\n",
       "4  1.176226  2.087048 -0.417223 -0.182218\n",
       "5       NaN  0.807250 -1.439846  1.004179\n",
       "6       NaN -1.337561 -1.566016 -1.760304\n",
       "7  1.068203  0.855511 -0.887699 -2.786103"
      ]
     },
     "execution_count": 81,
     "metadata": {},
     "output_type": "execute_result"
    }
   ],
   "source": [
    "df_1\n"
   ]
  },
  {
   "cell_type": "code",
   "execution_count": 86,
   "id": "70734613",
   "metadata": {
    "slideshow": {
     "slide_type": "slide"
    }
   },
   "outputs": [
    {
     "name": "stderr",
     "output_type": "stream",
     "text": [
      "C:\\Users\\CursosTardes\\AppData\\Local\\Temp\\ipykernel_15156\\2707318993.py:1: FutureWarning: DataFrame.fillna with 'method' is deprecated and will raise in a future version. Use obj.ffill() or obj.bfill() instead.\n",
      "  df_1.fillna(method=\"ffill\")\n"
     ]
    },
    {
     "data": {
      "text/html": [
       "<div>\n",
       "<style scoped>\n",
       "    .dataframe tbody tr th:only-of-type {\n",
       "        vertical-align: middle;\n",
       "    }\n",
       "\n",
       "    .dataframe tbody tr th {\n",
       "        vertical-align: top;\n",
       "    }\n",
       "\n",
       "    .dataframe thead th {\n",
       "        text-align: right;\n",
       "    }\n",
       "</style>\n",
       "<table border=\"1\" class=\"dataframe\">\n",
       "  <thead>\n",
       "    <tr style=\"text-align: right;\">\n",
       "      <th></th>\n",
       "      <th>0</th>\n",
       "      <th>1</th>\n",
       "      <th>2</th>\n",
       "      <th>3</th>\n",
       "    </tr>\n",
       "  </thead>\n",
       "  <tbody>\n",
       "    <tr>\n",
       "      <th>0</th>\n",
       "      <td>1.152069</td>\n",
       "      <td>0.489660</td>\n",
       "      <td>-1.447451</td>\n",
       "      <td>0.924103</td>\n",
       "    </tr>\n",
       "    <tr>\n",
       "      <th>1</th>\n",
       "      <td>-0.199648</td>\n",
       "      <td>0.023229</td>\n",
       "      <td>-1.632171</td>\n",
       "      <td>0.764754</td>\n",
       "    </tr>\n",
       "    <tr>\n",
       "      <th>2</th>\n",
       "      <td>0.457322</td>\n",
       "      <td>-1.031360</td>\n",
       "      <td>1.143603</td>\n",
       "      <td>-1.552225</td>\n",
       "    </tr>\n",
       "    <tr>\n",
       "      <th>3</th>\n",
       "      <td>0.351991</td>\n",
       "      <td>0.449048</td>\n",
       "      <td>0.155745</td>\n",
       "      <td>-0.128090</td>\n",
       "    </tr>\n",
       "    <tr>\n",
       "      <th>4</th>\n",
       "      <td>-0.515430</td>\n",
       "      <td>-0.990425</td>\n",
       "      <td>-0.512231</td>\n",
       "      <td>-0.792147</td>\n",
       "    </tr>\n",
       "    <tr>\n",
       "      <th>5</th>\n",
       "      <td>1.370671</td>\n",
       "      <td>-0.278436</td>\n",
       "      <td>-0.394670</td>\n",
       "      <td>0.969267</td>\n",
       "    </tr>\n",
       "    <tr>\n",
       "      <th>6</th>\n",
       "      <td>0.208861</td>\n",
       "      <td>-0.118976</td>\n",
       "      <td>-0.159338</td>\n",
       "      <td>0.450502</td>\n",
       "    </tr>\n",
       "    <tr>\n",
       "      <th>7</th>\n",
       "      <td>-0.400702</td>\n",
       "      <td>-0.126432</td>\n",
       "      <td>0.307809</td>\n",
       "      <td>1.951067</td>\n",
       "    </tr>\n",
       "  </tbody>\n",
       "</table>\n",
       "</div>"
      ],
      "text/plain": [
       "          0         1         2         3\n",
       "0  1.152069  0.489660 -1.447451  0.924103\n",
       "1 -0.199648  0.023229 -1.632171  0.764754\n",
       "2  0.457322 -1.031360  1.143603 -1.552225\n",
       "3  0.351991  0.449048  0.155745 -0.128090\n",
       "4 -0.515430 -0.990425 -0.512231 -0.792147\n",
       "5  1.370671 -0.278436 -0.394670  0.969267\n",
       "6  0.208861 -0.118976 -0.159338  0.450502\n",
       "7 -0.400702 -0.126432  0.307809  1.951067"
      ]
     },
     "execution_count": 86,
     "metadata": {},
     "output_type": "execute_result"
    }
   ],
   "source": [
    "df_1.fillna(method=\"ffill\")"
   ]
  },
  {
   "cell_type": "code",
   "execution_count": 82,
   "id": "79f73d13",
   "metadata": {},
   "outputs": [
    {
     "name": "stderr",
     "output_type": "stream",
     "text": [
      "C:\\Users\\CursosTardes\\AppData\\Local\\Temp\\ipykernel_15156\\2630181197.py:1: FutureWarning: DataFrame.fillna with 'method' is deprecated and will raise in a future version. Use obj.ffill() or obj.bfill() instead.\n",
      "  df_1.fillna(method='ffill')\n"
     ]
    },
    {
     "data": {
      "text/html": [
       "<div>\n",
       "<style scoped>\n",
       "    .dataframe tbody tr th:only-of-type {\n",
       "        vertical-align: middle;\n",
       "    }\n",
       "\n",
       "    .dataframe tbody tr th {\n",
       "        vertical-align: top;\n",
       "    }\n",
       "\n",
       "    .dataframe thead th {\n",
       "        text-align: right;\n",
       "    }\n",
       "</style>\n",
       "<table border=\"1\" class=\"dataframe\">\n",
       "  <thead>\n",
       "    <tr style=\"text-align: right;\">\n",
       "      <th></th>\n",
       "      <th>0</th>\n",
       "      <th>1</th>\n",
       "      <th>2</th>\n",
       "      <th>3</th>\n",
       "    </tr>\n",
       "  </thead>\n",
       "  <tbody>\n",
       "    <tr>\n",
       "      <th>0</th>\n",
       "      <td>-0.562239</td>\n",
       "      <td>-0.538679</td>\n",
       "      <td>0.092159</td>\n",
       "      <td>0.866690</td>\n",
       "    </tr>\n",
       "    <tr>\n",
       "      <th>1</th>\n",
       "      <td>0.435171</td>\n",
       "      <td>0.086605</td>\n",
       "      <td>-0.539535</td>\n",
       "      <td>1.638161</td>\n",
       "    </tr>\n",
       "    <tr>\n",
       "      <th>2</th>\n",
       "      <td>-0.269751</td>\n",
       "      <td>-0.016318</td>\n",
       "      <td>1.975415</td>\n",
       "      <td>1.638161</td>\n",
       "    </tr>\n",
       "    <tr>\n",
       "      <th>3</th>\n",
       "      <td>0.253939</td>\n",
       "      <td>-0.327988</td>\n",
       "      <td>0.736766</td>\n",
       "      <td>1.638161</td>\n",
       "    </tr>\n",
       "    <tr>\n",
       "      <th>4</th>\n",
       "      <td>1.176226</td>\n",
       "      <td>2.087048</td>\n",
       "      <td>-0.417223</td>\n",
       "      <td>-0.182218</td>\n",
       "    </tr>\n",
       "    <tr>\n",
       "      <th>5</th>\n",
       "      <td>1.176226</td>\n",
       "      <td>0.807250</td>\n",
       "      <td>-1.439846</td>\n",
       "      <td>1.004179</td>\n",
       "    </tr>\n",
       "    <tr>\n",
       "      <th>6</th>\n",
       "      <td>1.176226</td>\n",
       "      <td>-1.337561</td>\n",
       "      <td>-1.566016</td>\n",
       "      <td>-1.760304</td>\n",
       "    </tr>\n",
       "    <tr>\n",
       "      <th>7</th>\n",
       "      <td>1.068203</td>\n",
       "      <td>0.855511</td>\n",
       "      <td>-0.887699</td>\n",
       "      <td>-2.786103</td>\n",
       "    </tr>\n",
       "  </tbody>\n",
       "</table>\n",
       "</div>"
      ],
      "text/plain": [
       "          0         1         2         3\n",
       "0 -0.562239 -0.538679  0.092159  0.866690\n",
       "1  0.435171  0.086605 -0.539535  1.638161\n",
       "2 -0.269751 -0.016318  1.975415  1.638161\n",
       "3  0.253939 -0.327988  0.736766  1.638161\n",
       "4  1.176226  2.087048 -0.417223 -0.182218\n",
       "5  1.176226  0.807250 -1.439846  1.004179\n",
       "6  1.176226 -1.337561 -1.566016 -1.760304\n",
       "7  1.068203  0.855511 -0.887699 -2.786103"
      ]
     },
     "execution_count": 82,
     "metadata": {},
     "output_type": "execute_result"
    }
   ],
   "source": [
    "df_1.fillna(method='ffill')"
   ]
  },
  {
   "cell_type": "code",
   "execution_count": 27,
   "id": "0af4c4fc",
   "metadata": {
    "slideshow": {
     "slide_type": "slide"
    }
   },
   "outputs": [
    {
     "name": "stderr",
     "output_type": "stream",
     "text": [
      "C:\\Users\\juanj\\AppData\\Local\\Temp\\ipykernel_24584\\1627181726.py:1: FutureWarning: DataFrame.fillna with 'method' is deprecated and will raise in a future version. Use obj.ffill() or obj.bfill() instead.\n",
      "  df.fillna(method=\"ffill\", limit=2)\n"
     ]
    },
    {
     "data": {
      "text/html": [
       "<div>\n",
       "<style scoped>\n",
       "    .dataframe tbody tr th:only-of-type {\n",
       "        vertical-align: middle;\n",
       "    }\n",
       "\n",
       "    .dataframe tbody tr th {\n",
       "        vertical-align: top;\n",
       "    }\n",
       "\n",
       "    .dataframe thead th {\n",
       "        text-align: right;\n",
       "    }\n",
       "</style>\n",
       "<table border=\"1\" class=\"dataframe\">\n",
       "  <thead>\n",
       "    <tr style=\"text-align: right;\">\n",
       "      <th></th>\n",
       "      <th>0</th>\n",
       "      <th>1</th>\n",
       "      <th>2</th>\n",
       "    </tr>\n",
       "  </thead>\n",
       "  <tbody>\n",
       "    <tr>\n",
       "      <th>0</th>\n",
       "      <td>-1.722007</td>\n",
       "      <td>-1.895035</td>\n",
       "      <td>-0.090413</td>\n",
       "    </tr>\n",
       "    <tr>\n",
       "      <th>1</th>\n",
       "      <td>-1.634339</td>\n",
       "      <td>-1.782433</td>\n",
       "      <td>-0.950678</td>\n",
       "    </tr>\n",
       "    <tr>\n",
       "      <th>2</th>\n",
       "      <td>-1.004879</td>\n",
       "      <td>-1.782433</td>\n",
       "      <td>0.732767</td>\n",
       "    </tr>\n",
       "    <tr>\n",
       "      <th>3</th>\n",
       "      <td>1.611951</td>\n",
       "      <td>-1.782433</td>\n",
       "      <td>-0.385819</td>\n",
       "    </tr>\n",
       "    <tr>\n",
       "      <th>4</th>\n",
       "      <td>2.559992</td>\n",
       "      <td>NaN</td>\n",
       "      <td>-0.385819</td>\n",
       "    </tr>\n",
       "    <tr>\n",
       "      <th>5</th>\n",
       "      <td>0.803963</td>\n",
       "      <td>NaN</td>\n",
       "      <td>-0.385819</td>\n",
       "    </tr>\n",
       "  </tbody>\n",
       "</table>\n",
       "</div>"
      ],
      "text/plain": [
       "          0         1         2\n",
       "0 -1.722007 -1.895035 -0.090413\n",
       "1 -1.634339 -1.782433 -0.950678\n",
       "2 -1.004879 -1.782433  0.732767\n",
       "3  1.611951 -1.782433 -0.385819\n",
       "4  2.559992       NaN -0.385819\n",
       "5  0.803963       NaN -0.385819"
      ]
     },
     "execution_count": 27,
     "metadata": {},
     "output_type": "execute_result"
    }
   ],
   "source": [
    "df.fillna(method=\"ffill\", limit=2)"
   ]
  },
  {
   "cell_type": "code",
   "execution_count": 91,
   "id": "53aefa35",
   "metadata": {},
   "outputs": [
    {
     "data": {
      "text/html": [
       "<div>\n",
       "<style scoped>\n",
       "    .dataframe tbody tr th:only-of-type {\n",
       "        vertical-align: middle;\n",
       "    }\n",
       "\n",
       "    .dataframe tbody tr th {\n",
       "        vertical-align: top;\n",
       "    }\n",
       "\n",
       "    .dataframe thead th {\n",
       "        text-align: right;\n",
       "    }\n",
       "</style>\n",
       "<table border=\"1\" class=\"dataframe\">\n",
       "  <thead>\n",
       "    <tr style=\"text-align: right;\">\n",
       "      <th></th>\n",
       "      <th>0</th>\n",
       "      <th>1</th>\n",
       "      <th>2</th>\n",
       "      <th>3</th>\n",
       "      <th>4</th>\n",
       "    </tr>\n",
       "  </thead>\n",
       "  <tbody>\n",
       "    <tr>\n",
       "      <th>0</th>\n",
       "      <td>-0.533473</td>\n",
       "      <td>-0.230496</td>\n",
       "      <td>0.905595</td>\n",
       "      <td>0.263430</td>\n",
       "      <td>1.609479</td>\n",
       "    </tr>\n",
       "    <tr>\n",
       "      <th>1</th>\n",
       "      <td>0.178550</td>\n",
       "      <td>-1.612611</td>\n",
       "      <td>0.055245</td>\n",
       "      <td>1.199089</td>\n",
       "      <td>-0.456682</td>\n",
       "    </tr>\n",
       "    <tr>\n",
       "      <th>2</th>\n",
       "      <td>NaN</td>\n",
       "      <td>1.026222</td>\n",
       "      <td>-1.079689</td>\n",
       "      <td>-2.494234</td>\n",
       "      <td>-0.188610</td>\n",
       "    </tr>\n",
       "    <tr>\n",
       "      <th>3</th>\n",
       "      <td>NaN</td>\n",
       "      <td>1.727954</td>\n",
       "      <td>-0.870498</td>\n",
       "      <td>0.557573</td>\n",
       "      <td>0.661852</td>\n",
       "    </tr>\n",
       "    <tr>\n",
       "      <th>4</th>\n",
       "      <td>NaN</td>\n",
       "      <td>-0.579672</td>\n",
       "      <td>0.522501</td>\n",
       "      <td>-0.748456</td>\n",
       "      <td>1.855297</td>\n",
       "    </tr>\n",
       "    <tr>\n",
       "      <th>5</th>\n",
       "      <td>NaN</td>\n",
       "      <td>0.797034</td>\n",
       "      <td>-0.663657</td>\n",
       "      <td>-0.586088</td>\n",
       "      <td>-0.597626</td>\n",
       "    </tr>\n",
       "    <tr>\n",
       "      <th>6</th>\n",
       "      <td>NaN</td>\n",
       "      <td>0.091103</td>\n",
       "      <td>0.052466</td>\n",
       "      <td>1.546092</td>\n",
       "      <td>0.544085</td>\n",
       "    </tr>\n",
       "    <tr>\n",
       "      <th>7</th>\n",
       "      <td>NaN</td>\n",
       "      <td>1.328201</td>\n",
       "      <td>-0.891580</td>\n",
       "      <td>0.377530</td>\n",
       "      <td>0.063472</td>\n",
       "    </tr>\n",
       "    <tr>\n",
       "      <th>8</th>\n",
       "      <td>0.466078</td>\n",
       "      <td>-0.705445</td>\n",
       "      <td>0.003602</td>\n",
       "      <td>-1.292552</td>\n",
       "      <td>-1.022998</td>\n",
       "    </tr>\n",
       "  </tbody>\n",
       "</table>\n",
       "</div>"
      ],
      "text/plain": [
       "          0         1         2         3         4\n",
       "0 -0.533473 -0.230496  0.905595  0.263430  1.609479\n",
       "1  0.178550 -1.612611  0.055245  1.199089 -0.456682\n",
       "2       NaN  1.026222 -1.079689 -2.494234 -0.188610\n",
       "3       NaN  1.727954 -0.870498  0.557573  0.661852\n",
       "4       NaN -0.579672  0.522501 -0.748456  1.855297\n",
       "5       NaN  0.797034 -0.663657 -0.586088 -0.597626\n",
       "6       NaN  0.091103  0.052466  1.546092  0.544085\n",
       "7       NaN  1.328201 -0.891580  0.377530  0.063472\n",
       "8  0.466078 -0.705445  0.003602 -1.292552 -1.022998"
      ]
     },
     "execution_count": 91,
     "metadata": {},
     "output_type": "execute_result"
    }
   ],
   "source": [
    "df_2\n",
    "df_2.iloc[2:8, 0]=np.nan\n",
    "df_2"
   ]
  },
  {
   "cell_type": "code",
   "execution_count": 92,
   "id": "be723baa",
   "metadata": {},
   "outputs": [
    {
     "name": "stderr",
     "output_type": "stream",
     "text": [
      "C:\\Users\\CursosTardes\\AppData\\Local\\Temp\\ipykernel_15156\\1922469364.py:1: FutureWarning: DataFrame.fillna with 'method' is deprecated and will raise in a future version. Use obj.ffill() or obj.bfill() instead.\n",
      "  df_2.fillna(method=\"ffill\", limit=2)\n"
     ]
    },
    {
     "data": {
      "text/html": [
       "<div>\n",
       "<style scoped>\n",
       "    .dataframe tbody tr th:only-of-type {\n",
       "        vertical-align: middle;\n",
       "    }\n",
       "\n",
       "    .dataframe tbody tr th {\n",
       "        vertical-align: top;\n",
       "    }\n",
       "\n",
       "    .dataframe thead th {\n",
       "        text-align: right;\n",
       "    }\n",
       "</style>\n",
       "<table border=\"1\" class=\"dataframe\">\n",
       "  <thead>\n",
       "    <tr style=\"text-align: right;\">\n",
       "      <th></th>\n",
       "      <th>0</th>\n",
       "      <th>1</th>\n",
       "      <th>2</th>\n",
       "      <th>3</th>\n",
       "      <th>4</th>\n",
       "    </tr>\n",
       "  </thead>\n",
       "  <tbody>\n",
       "    <tr>\n",
       "      <th>0</th>\n",
       "      <td>-0.533473</td>\n",
       "      <td>-0.230496</td>\n",
       "      <td>0.905595</td>\n",
       "      <td>0.263430</td>\n",
       "      <td>1.609479</td>\n",
       "    </tr>\n",
       "    <tr>\n",
       "      <th>1</th>\n",
       "      <td>0.178550</td>\n",
       "      <td>-1.612611</td>\n",
       "      <td>0.055245</td>\n",
       "      <td>1.199089</td>\n",
       "      <td>-0.456682</td>\n",
       "    </tr>\n",
       "    <tr>\n",
       "      <th>2</th>\n",
       "      <td>0.178550</td>\n",
       "      <td>1.026222</td>\n",
       "      <td>-1.079689</td>\n",
       "      <td>-2.494234</td>\n",
       "      <td>-0.188610</td>\n",
       "    </tr>\n",
       "    <tr>\n",
       "      <th>3</th>\n",
       "      <td>0.178550</td>\n",
       "      <td>1.727954</td>\n",
       "      <td>-0.870498</td>\n",
       "      <td>0.557573</td>\n",
       "      <td>0.661852</td>\n",
       "    </tr>\n",
       "    <tr>\n",
       "      <th>4</th>\n",
       "      <td>NaN</td>\n",
       "      <td>-0.579672</td>\n",
       "      <td>0.522501</td>\n",
       "      <td>-0.748456</td>\n",
       "      <td>1.855297</td>\n",
       "    </tr>\n",
       "    <tr>\n",
       "      <th>5</th>\n",
       "      <td>NaN</td>\n",
       "      <td>0.797034</td>\n",
       "      <td>-0.663657</td>\n",
       "      <td>-0.586088</td>\n",
       "      <td>-0.597626</td>\n",
       "    </tr>\n",
       "    <tr>\n",
       "      <th>6</th>\n",
       "      <td>NaN</td>\n",
       "      <td>0.091103</td>\n",
       "      <td>0.052466</td>\n",
       "      <td>1.546092</td>\n",
       "      <td>0.544085</td>\n",
       "    </tr>\n",
       "    <tr>\n",
       "      <th>7</th>\n",
       "      <td>NaN</td>\n",
       "      <td>1.328201</td>\n",
       "      <td>-0.891580</td>\n",
       "      <td>0.377530</td>\n",
       "      <td>0.063472</td>\n",
       "    </tr>\n",
       "    <tr>\n",
       "      <th>8</th>\n",
       "      <td>0.466078</td>\n",
       "      <td>-0.705445</td>\n",
       "      <td>0.003602</td>\n",
       "      <td>-1.292552</td>\n",
       "      <td>-1.022998</td>\n",
       "    </tr>\n",
       "  </tbody>\n",
       "</table>\n",
       "</div>"
      ],
      "text/plain": [
       "          0         1         2         3         4\n",
       "0 -0.533473 -0.230496  0.905595  0.263430  1.609479\n",
       "1  0.178550 -1.612611  0.055245  1.199089 -0.456682\n",
       "2  0.178550  1.026222 -1.079689 -2.494234 -0.188610\n",
       "3  0.178550  1.727954 -0.870498  0.557573  0.661852\n",
       "4       NaN -0.579672  0.522501 -0.748456  1.855297\n",
       "5       NaN  0.797034 -0.663657 -0.586088 -0.597626\n",
       "6       NaN  0.091103  0.052466  1.546092  0.544085\n",
       "7       NaN  1.328201 -0.891580  0.377530  0.063472\n",
       "8  0.466078 -0.705445  0.003602 -1.292552 -1.022998"
      ]
     },
     "execution_count": 92,
     "metadata": {},
     "output_type": "execute_result"
    }
   ],
   "source": [
    "df_2.fillna(method=\"ffill\", limit=2)"
   ]
  },
  {
   "cell_type": "markdown",
   "id": "c0d3fddb",
   "metadata": {
    "slideshow": {
     "slide_type": "slide"
    }
   },
   "source": [
    "Con `fillna()` puede hacer muchas otras cosas, como la imputación simple de datos utilizando la mediana o la media estadística:"
   ]
  },
  {
   "cell_type": "code",
   "execution_count": 98,
   "id": "b1ddf7bd",
   "metadata": {},
   "outputs": [
    {
     "name": "stdout",
     "output_type": "stream",
     "text": [
      "0    1.0\n",
      "1    NaN\n",
      "2    3.5\n",
      "3    NaN\n",
      "4    7.0\n",
      "dtype: float64\n",
      "\n"
     ]
    },
    {
     "data": {
      "text/plain": [
       "0     1.0\n",
       "1     NaN\n",
       "2     3.5\n",
       "3     NaN\n",
       "4     7.0\n",
       "5    12.0\n",
       "6     9.0\n",
       "7     2.3\n",
       "8     NaN\n",
       "dtype: float64"
      ]
     },
     "execution_count": 98,
     "metadata": {},
     "output_type": "execute_result"
    }
   ],
   "source": [
    "data = pd.Series([1., np.nan, 3.5, np.nan, 7])\n",
    "data_1 = pd.Series([1., np.nan, 3.5, np.nan, 7, 12, 9, 2.3, np.nan])\n",
    "print(data)\n",
    "print()\n",
    "data_1"
   ]
  },
  {
   "cell_type": "code",
   "execution_count": 29,
   "id": "3909395f-ab48-42aa-aa78-b191c70fde3a",
   "metadata": {},
   "outputs": [
    {
     "data": {
      "text/plain": [
       "0    1.000000\n",
       "1    3.833333\n",
       "2    3.500000\n",
       "3    3.833333\n",
       "4    7.000000\n",
       "dtype: float64"
      ]
     },
     "execution_count": 29,
     "metadata": {},
     "output_type": "execute_result"
    }
   ],
   "source": [
    "data.fillna(data.mean())"
   ]
  },
  {
   "cell_type": "code",
   "execution_count": 97,
   "id": "8b5734eb",
   "metadata": {},
   "outputs": [
    {
     "data": {
      "text/plain": [
       "0     1.0\n",
       "1     5.8\n",
       "2     3.5\n",
       "3     5.8\n",
       "4     7.0\n",
       "5    12.0\n",
       "6     9.0\n",
       "7     2.3\n",
       "8     5.8\n",
       "dtype: float64"
      ]
     },
     "execution_count": 97,
     "metadata": {},
     "output_type": "execute_result"
    }
   ],
   "source": [
    "data_1.fillna(data_1.mean())\n",
    "# La media de la serie es 5.8"
   ]
  },
  {
   "cell_type": "markdown",
   "id": "cbfebee6",
   "metadata": {
    "slideshow": {
     "slide_type": "slide"
    }
   },
   "source": [
    "**Funciones de argumento para `fillna`**\n",
    "\n",
    "`value`: Valor escalar u objeto tipo diccionario que se utilizará para rellenar los valores que faltan.\n",
    "\n",
    "`method`: Método de interpolación: uno de \"bfill\" (relleno hacia atrás) o \"ffill\" (relleno hacia delante); por defecto es None\n",
    "\n",
    "`axis`: Eje de relleno (\"index\" o \"columns\"); por defecto axis=\"index\".\n",
    "\n",
    "`limit`: Para el llenado hacia delante y hacia atrás, número máximo de periodos consecutivos a llenar"
   ]
  },
  {
   "cell_type": "markdown",
   "id": "7b7e3e23",
   "metadata": {
    "slideshow": {
     "slide_type": "slide"
    }
   },
   "source": [
    "## Transformación de datos"
   ]
  },
  {
   "cell_type": "markdown",
   "id": "5279922c",
   "metadata": {},
   "source": [
    "Hasta ahora nos hemos ocupado de la gestión de los datos que faltan. El filtrado, la limpieza y otras transformaciones son otra clase de operaciones importantes."
   ]
  },
  {
   "cell_type": "markdown",
   "id": "a1275d31",
   "metadata": {
    "slideshow": {
     "slide_type": "slide"
    }
   },
   "source": [
    "### Remover duplicados"
   ]
  },
  {
   "cell_type": "markdown",
   "id": "2cd9a09a",
   "metadata": {},
   "source": [
    "Pueden encontrarse filas duplicadas en un DataFrame por cualquier número de razones. He aquí un ejemplo:"
   ]
  },
  {
   "cell_type": "code",
   "execution_count": 11,
   "id": "ff7fa13c",
   "metadata": {
    "slideshow": {
     "slide_type": "slide"
    }
   },
   "outputs": [
    {
     "name": "stdout",
     "output_type": "stream",
     "text": [
      "    k1  k2\n",
      "0  one   1\n",
      "1  two   1\n",
      "2  one   2\n",
      "3  two   3\n",
      "4  one   3\n",
      "5  two   4\n",
      "6  two   4\n",
      "\n"
     ]
    },
    {
     "data": {
      "text/html": [
       "<div>\n",
       "<style scoped>\n",
       "    .dataframe tbody tr th:only-of-type {\n",
       "        vertical-align: middle;\n",
       "    }\n",
       "\n",
       "    .dataframe tbody tr th {\n",
       "        vertical-align: top;\n",
       "    }\n",
       "\n",
       "    .dataframe thead th {\n",
       "        text-align: right;\n",
       "    }\n",
       "</style>\n",
       "<table border=\"1\" class=\"dataframe\">\n",
       "  <thead>\n",
       "    <tr style=\"text-align: right;\">\n",
       "      <th></th>\n",
       "      <th>a1</th>\n",
       "      <th>a2</th>\n",
       "      <th>a3</th>\n",
       "      <th>a4</th>\n",
       "    </tr>\n",
       "  </thead>\n",
       "  <tbody>\n",
       "    <tr>\n",
       "      <th>0</th>\n",
       "      <td>7</td>\n",
       "      <td>7</td>\n",
       "      <td>7</td>\n",
       "      <td>7</td>\n",
       "    </tr>\n",
       "    <tr>\n",
       "      <th>1</th>\n",
       "      <td>2</td>\n",
       "      <td>2</td>\n",
       "      <td>3</td>\n",
       "      <td>16</td>\n",
       "    </tr>\n",
       "    <tr>\n",
       "      <th>2</th>\n",
       "      <td>2</td>\n",
       "      <td>2</td>\n",
       "      <td>2</td>\n",
       "      <td>2</td>\n",
       "    </tr>\n",
       "    <tr>\n",
       "      <th>3</th>\n",
       "      <td>3</td>\n",
       "      <td>4</td>\n",
       "      <td>21</td>\n",
       "      <td>18</td>\n",
       "    </tr>\n",
       "    <tr>\n",
       "      <th>4</th>\n",
       "      <td>2</td>\n",
       "      <td>2</td>\n",
       "      <td>2</td>\n",
       "      <td>2</td>\n",
       "    </tr>\n",
       "    <tr>\n",
       "      <th>5</th>\n",
       "      <td>2</td>\n",
       "      <td>2</td>\n",
       "      <td>2</td>\n",
       "      <td>2</td>\n",
       "    </tr>\n",
       "    <tr>\n",
       "      <th>6</th>\n",
       "      <td>6</td>\n",
       "      <td>7</td>\n",
       "      <td>12</td>\n",
       "      <td>18</td>\n",
       "    </tr>\n",
       "    <tr>\n",
       "      <th>7</th>\n",
       "      <td>7</td>\n",
       "      <td>8</td>\n",
       "      <td>13</td>\n",
       "      <td>12</td>\n",
       "    </tr>\n",
       "    <tr>\n",
       "      <th>8</th>\n",
       "      <td>7</td>\n",
       "      <td>9</td>\n",
       "      <td>14</td>\n",
       "      <td>10</td>\n",
       "    </tr>\n",
       "    <tr>\n",
       "      <th>9</th>\n",
       "      <td>7</td>\n",
       "      <td>7</td>\n",
       "      <td>7</td>\n",
       "      <td>7</td>\n",
       "    </tr>\n",
       "    <tr>\n",
       "      <th>10</th>\n",
       "      <td>2</td>\n",
       "      <td>2</td>\n",
       "      <td>2</td>\n",
       "      <td>2</td>\n",
       "    </tr>\n",
       "  </tbody>\n",
       "</table>\n",
       "</div>"
      ],
      "text/plain": [
       "    a1  a2  a3  a4\n",
       "0    7   7   7   7\n",
       "1    2   2   3  16\n",
       "2    2   2   2   2\n",
       "3    3   4  21  18\n",
       "4    2   2   2   2\n",
       "5    2   2   2   2\n",
       "6    6   7  12  18\n",
       "7    7   8  13  12\n",
       "8    7   9  14  10\n",
       "9    7   7   7   7\n",
       "10   2   2   2   2"
      ]
     },
     "execution_count": 11,
     "metadata": {},
     "output_type": "execute_result"
    }
   ],
   "source": [
    "import pandas as pd\n",
    "\n",
    "data = pd.DataFrame({\"k1\": [\"one\", \"two\"] * 3 + [\"two\"],\n",
    "                     \"k2\":[1, 1, 2, 3, 3, 4, 4]})\n",
    "\n",
    "print(data)\n",
    "print()\n",
    "\n",
    "data_2= pd.DataFrame({\"a1\":[7, 2, 2, 3, 2, 2, 6, 7, 7, 7, 2], \n",
    "                    \"a2\":[7, 2, 2, 4, 2, 2, 7, 8, 9, 7, 2], \n",
    "                    \"a3\":[7, 3, 2, 21, 2, 2, 12, 13, 14, 7, 2], \n",
    "                    \"a4\":[7, 16, 2, 18, 2, 2, 18, 12, 10, 7, 2]})\n",
    "\n",
    "data_2"
   ]
  },
  {
   "cell_type": "code",
   "execution_count": 31,
   "id": "80bc42d4",
   "metadata": {},
   "outputs": [
    {
     "data": {
      "text/html": [
       "<div>\n",
       "<style scoped>\n",
       "    .dataframe tbody tr th:only-of-type {\n",
       "        vertical-align: middle;\n",
       "    }\n",
       "\n",
       "    .dataframe tbody tr th {\n",
       "        vertical-align: top;\n",
       "    }\n",
       "\n",
       "    .dataframe thead th {\n",
       "        text-align: right;\n",
       "    }\n",
       "</style>\n",
       "<table border=\"1\" class=\"dataframe\">\n",
       "  <thead>\n",
       "    <tr style=\"text-align: right;\">\n",
       "      <th></th>\n",
       "      <th>k1</th>\n",
       "      <th>k2</th>\n",
       "    </tr>\n",
       "  </thead>\n",
       "  <tbody>\n",
       "    <tr>\n",
       "      <th>0</th>\n",
       "      <td>one</td>\n",
       "      <td>1</td>\n",
       "    </tr>\n",
       "    <tr>\n",
       "      <th>1</th>\n",
       "      <td>two</td>\n",
       "      <td>1</td>\n",
       "    </tr>\n",
       "    <tr>\n",
       "      <th>2</th>\n",
       "      <td>one</td>\n",
       "      <td>2</td>\n",
       "    </tr>\n",
       "    <tr>\n",
       "      <th>3</th>\n",
       "      <td>two</td>\n",
       "      <td>3</td>\n",
       "    </tr>\n",
       "    <tr>\n",
       "      <th>4</th>\n",
       "      <td>one</td>\n",
       "      <td>3</td>\n",
       "    </tr>\n",
       "    <tr>\n",
       "      <th>5</th>\n",
       "      <td>two</td>\n",
       "      <td>4</td>\n",
       "    </tr>\n",
       "    <tr>\n",
       "      <th>6</th>\n",
       "      <td>two</td>\n",
       "      <td>4</td>\n",
       "    </tr>\n",
       "  </tbody>\n",
       "</table>\n",
       "</div>"
      ],
      "text/plain": [
       "    k1  k2\n",
       "0  one   1\n",
       "1  two   1\n",
       "2  one   2\n",
       "3  two   3\n",
       "4  one   3\n",
       "5  two   4\n",
       "6  two   4"
      ]
     },
     "execution_count": 31,
     "metadata": {},
     "output_type": "execute_result"
    }
   ],
   "source": [
    "data"
   ]
  },
  {
   "cell_type": "markdown",
   "id": "86b0e37d",
   "metadata": {
    "slideshow": {
     "slide_type": "slide"
    }
   },
   "source": [
    "El método DataFrame `duplicated` devuelve una serie booleana que indica si cada fila es un duplicado (sus valores de columna son exactamente iguales a los de una fila anterior) o no:"
   ]
  },
  {
   "cell_type": "code",
   "execution_count": 32,
   "id": "6a344d4d",
   "metadata": {},
   "outputs": [
    {
     "data": {
      "text/plain": [
       "0    False\n",
       "1    False\n",
       "2    False\n",
       "3    False\n",
       "4    False\n",
       "5    False\n",
       "6     True\n",
       "dtype: bool"
      ]
     },
     "execution_count": 32,
     "metadata": {},
     "output_type": "execute_result"
    }
   ],
   "source": [
    "data.duplicated()"
   ]
  },
  {
   "cell_type": "code",
   "execution_count": 16,
   "id": "51d1a4be",
   "metadata": {},
   "outputs": [
    {
     "data": {
      "text/plain": [
       "0     False\n",
       "1     False\n",
       "2     False\n",
       "3     False\n",
       "4      True\n",
       "5      True\n",
       "6     False\n",
       "7     False\n",
       "8     False\n",
       "9      True\n",
       "10     True\n",
       "dtype: bool"
      ]
     },
     "execution_count": 16,
     "metadata": {},
     "output_type": "execute_result"
    }
   ],
   "source": [
    "data_2.duplicated()"
   ]
  },
  {
   "cell_type": "markdown",
   "id": "2c5737c0",
   "metadata": {
    "slideshow": {
     "slide_type": "slide"
    }
   },
   "source": [
    "En relación con esto, `drop_duplicates` devuelve un DataFrame con filas en las que se ha filtrado False el array duplicado:"
   ]
  },
  {
   "cell_type": "code",
   "execution_count": 33,
   "id": "b6f56a7b",
   "metadata": {},
   "outputs": [
    {
     "data": {
      "text/html": [
       "<div>\n",
       "<style scoped>\n",
       "    .dataframe tbody tr th:only-of-type {\n",
       "        vertical-align: middle;\n",
       "    }\n",
       "\n",
       "    .dataframe tbody tr th {\n",
       "        vertical-align: top;\n",
       "    }\n",
       "\n",
       "    .dataframe thead th {\n",
       "        text-align: right;\n",
       "    }\n",
       "</style>\n",
       "<table border=\"1\" class=\"dataframe\">\n",
       "  <thead>\n",
       "    <tr style=\"text-align: right;\">\n",
       "      <th></th>\n",
       "      <th>k1</th>\n",
       "      <th>k2</th>\n",
       "    </tr>\n",
       "  </thead>\n",
       "  <tbody>\n",
       "    <tr>\n",
       "      <th>0</th>\n",
       "      <td>one</td>\n",
       "      <td>1</td>\n",
       "    </tr>\n",
       "    <tr>\n",
       "      <th>1</th>\n",
       "      <td>two</td>\n",
       "      <td>1</td>\n",
       "    </tr>\n",
       "    <tr>\n",
       "      <th>2</th>\n",
       "      <td>one</td>\n",
       "      <td>2</td>\n",
       "    </tr>\n",
       "    <tr>\n",
       "      <th>3</th>\n",
       "      <td>two</td>\n",
       "      <td>3</td>\n",
       "    </tr>\n",
       "    <tr>\n",
       "      <th>4</th>\n",
       "      <td>one</td>\n",
       "      <td>3</td>\n",
       "    </tr>\n",
       "    <tr>\n",
       "      <th>5</th>\n",
       "      <td>two</td>\n",
       "      <td>4</td>\n",
       "    </tr>\n",
       "  </tbody>\n",
       "</table>\n",
       "</div>"
      ],
      "text/plain": [
       "    k1  k2\n",
       "0  one   1\n",
       "1  two   1\n",
       "2  one   2\n",
       "3  two   3\n",
       "4  one   3\n",
       "5  two   4"
      ]
     },
     "execution_count": 33,
     "metadata": {},
     "output_type": "execute_result"
    }
   ],
   "source": [
    "data.drop_duplicates()"
   ]
  },
  {
   "cell_type": "code",
   "execution_count": 14,
   "id": "9472441d",
   "metadata": {},
   "outputs": [
    {
     "name": "stdout",
     "output_type": "stream",
     "text": [
      "    a1  a2  a3  a4\n",
      "0    7   7   7   7\n",
      "1    2   2   3  16\n",
      "2    2   2   2   2\n",
      "3    3   4  21  18\n",
      "4    2   2   2   2\n",
      "5    2   2   2   2\n",
      "6    6   7  12  18\n",
      "7    7   8  13  12\n",
      "8    7   9  14  10\n",
      "9    7   7   7   7\n",
      "10   2   2   2   2\n",
      "\n"
     ]
    },
    {
     "data": {
      "text/html": [
       "<div>\n",
       "<style scoped>\n",
       "    .dataframe tbody tr th:only-of-type {\n",
       "        vertical-align: middle;\n",
       "    }\n",
       "\n",
       "    .dataframe tbody tr th {\n",
       "        vertical-align: top;\n",
       "    }\n",
       "\n",
       "    .dataframe thead th {\n",
       "        text-align: right;\n",
       "    }\n",
       "</style>\n",
       "<table border=\"1\" class=\"dataframe\">\n",
       "  <thead>\n",
       "    <tr style=\"text-align: right;\">\n",
       "      <th></th>\n",
       "      <th>a1</th>\n",
       "      <th>a2</th>\n",
       "      <th>a3</th>\n",
       "      <th>a4</th>\n",
       "    </tr>\n",
       "  </thead>\n",
       "  <tbody>\n",
       "    <tr>\n",
       "      <th>0</th>\n",
       "      <td>7</td>\n",
       "      <td>7</td>\n",
       "      <td>7</td>\n",
       "      <td>7</td>\n",
       "    </tr>\n",
       "    <tr>\n",
       "      <th>1</th>\n",
       "      <td>2</td>\n",
       "      <td>2</td>\n",
       "      <td>3</td>\n",
       "      <td>16</td>\n",
       "    </tr>\n",
       "    <tr>\n",
       "      <th>2</th>\n",
       "      <td>2</td>\n",
       "      <td>2</td>\n",
       "      <td>2</td>\n",
       "      <td>2</td>\n",
       "    </tr>\n",
       "    <tr>\n",
       "      <th>3</th>\n",
       "      <td>3</td>\n",
       "      <td>4</td>\n",
       "      <td>21</td>\n",
       "      <td>18</td>\n",
       "    </tr>\n",
       "    <tr>\n",
       "      <th>6</th>\n",
       "      <td>6</td>\n",
       "      <td>7</td>\n",
       "      <td>12</td>\n",
       "      <td>18</td>\n",
       "    </tr>\n",
       "    <tr>\n",
       "      <th>7</th>\n",
       "      <td>7</td>\n",
       "      <td>8</td>\n",
       "      <td>13</td>\n",
       "      <td>12</td>\n",
       "    </tr>\n",
       "    <tr>\n",
       "      <th>8</th>\n",
       "      <td>7</td>\n",
       "      <td>9</td>\n",
       "      <td>14</td>\n",
       "      <td>10</td>\n",
       "    </tr>\n",
       "  </tbody>\n",
       "</table>\n",
       "</div>"
      ],
      "text/plain": [
       "   a1  a2  a3  a4\n",
       "0   7   7   7   7\n",
       "1   2   2   3  16\n",
       "2   2   2   2   2\n",
       "3   3   4  21  18\n",
       "6   6   7  12  18\n",
       "7   7   8  13  12\n",
       "8   7   9  14  10"
      ]
     },
     "execution_count": 14,
     "metadata": {},
     "output_type": "execute_result"
    }
   ],
   "source": [
    "print(data_2)\n",
    "print()\n",
    "data_2.drop_duplicates()"
   ]
  },
  {
   "cell_type": "markdown",
   "id": "60f1c4b3",
   "metadata": {
    "slideshow": {
     "slide_type": "slide"
    }
   },
   "source": [
    "Ambos métodos consideran por defecto todas las columnas; alternativamente, puede especificar cualquier subconjunto de ellas para detectar duplicados. Supongamos que tenemos una columna adicional de valores y queremos filtrar los duplicados basándonos sólo en la columna \"k1\":"
   ]
  },
  {
   "cell_type": "code",
   "execution_count": 34,
   "id": "c3f02963-6593-4a30-8a84-d4b3194e3db5",
   "metadata": {},
   "outputs": [
    {
     "data": {
      "text/html": [
       "<div>\n",
       "<style scoped>\n",
       "    .dataframe tbody tr th:only-of-type {\n",
       "        vertical-align: middle;\n",
       "    }\n",
       "\n",
       "    .dataframe tbody tr th {\n",
       "        vertical-align: top;\n",
       "    }\n",
       "\n",
       "    .dataframe thead th {\n",
       "        text-align: right;\n",
       "    }\n",
       "</style>\n",
       "<table border=\"1\" class=\"dataframe\">\n",
       "  <thead>\n",
       "    <tr style=\"text-align: right;\">\n",
       "      <th></th>\n",
       "      <th>k1</th>\n",
       "      <th>k2</th>\n",
       "    </tr>\n",
       "  </thead>\n",
       "  <tbody>\n",
       "    <tr>\n",
       "      <th>0</th>\n",
       "      <td>one</td>\n",
       "      <td>1</td>\n",
       "    </tr>\n",
       "    <tr>\n",
       "      <th>1</th>\n",
       "      <td>two</td>\n",
       "      <td>1</td>\n",
       "    </tr>\n",
       "    <tr>\n",
       "      <th>2</th>\n",
       "      <td>one</td>\n",
       "      <td>2</td>\n",
       "    </tr>\n",
       "    <tr>\n",
       "      <th>3</th>\n",
       "      <td>two</td>\n",
       "      <td>3</td>\n",
       "    </tr>\n",
       "    <tr>\n",
       "      <th>4</th>\n",
       "      <td>one</td>\n",
       "      <td>3</td>\n",
       "    </tr>\n",
       "    <tr>\n",
       "      <th>5</th>\n",
       "      <td>two</td>\n",
       "      <td>4</td>\n",
       "    </tr>\n",
       "    <tr>\n",
       "      <th>6</th>\n",
       "      <td>two</td>\n",
       "      <td>4</td>\n",
       "    </tr>\n",
       "  </tbody>\n",
       "</table>\n",
       "</div>"
      ],
      "text/plain": [
       "    k1  k2\n",
       "0  one   1\n",
       "1  two   1\n",
       "2  one   2\n",
       "3  two   3\n",
       "4  one   3\n",
       "5  two   4\n",
       "6  two   4"
      ]
     },
     "execution_count": 34,
     "metadata": {},
     "output_type": "execute_result"
    }
   ],
   "source": [
    "data"
   ]
  },
  {
   "cell_type": "code",
   "execution_count": 17,
   "id": "2f4723e7",
   "metadata": {},
   "outputs": [
    {
     "name": "stdout",
     "output_type": "stream",
     "text": [
      "    k1  k2  v1\n",
      "0  one   1   0\n",
      "1  two   1   1\n",
      "2  one   2   2\n",
      "3  two   3   3\n",
      "4  one   3   4\n",
      "5  two   4   5\n",
      "6  two   4   6\n",
      "\n"
     ]
    },
    {
     "data": {
      "text/html": [
       "<div>\n",
       "<style scoped>\n",
       "    .dataframe tbody tr th:only-of-type {\n",
       "        vertical-align: middle;\n",
       "    }\n",
       "\n",
       "    .dataframe tbody tr th {\n",
       "        vertical-align: top;\n",
       "    }\n",
       "\n",
       "    .dataframe thead th {\n",
       "        text-align: right;\n",
       "    }\n",
       "</style>\n",
       "<table border=\"1\" class=\"dataframe\">\n",
       "  <thead>\n",
       "    <tr style=\"text-align: right;\">\n",
       "      <th></th>\n",
       "      <th>a1</th>\n",
       "      <th>a2</th>\n",
       "      <th>a3</th>\n",
       "      <th>a4</th>\n",
       "      <th>a5</th>\n",
       "    </tr>\n",
       "  </thead>\n",
       "  <tbody>\n",
       "    <tr>\n",
       "      <th>0</th>\n",
       "      <td>7</td>\n",
       "      <td>7</td>\n",
       "      <td>7</td>\n",
       "      <td>7</td>\n",
       "      <td>0</td>\n",
       "    </tr>\n",
       "    <tr>\n",
       "      <th>1</th>\n",
       "      <td>2</td>\n",
       "      <td>2</td>\n",
       "      <td>3</td>\n",
       "      <td>16</td>\n",
       "      <td>1</td>\n",
       "    </tr>\n",
       "    <tr>\n",
       "      <th>2</th>\n",
       "      <td>2</td>\n",
       "      <td>2</td>\n",
       "      <td>2</td>\n",
       "      <td>2</td>\n",
       "      <td>2</td>\n",
       "    </tr>\n",
       "    <tr>\n",
       "      <th>3</th>\n",
       "      <td>3</td>\n",
       "      <td>4</td>\n",
       "      <td>21</td>\n",
       "      <td>18</td>\n",
       "      <td>3</td>\n",
       "    </tr>\n",
       "    <tr>\n",
       "      <th>4</th>\n",
       "      <td>2</td>\n",
       "      <td>2</td>\n",
       "      <td>2</td>\n",
       "      <td>2</td>\n",
       "      <td>4</td>\n",
       "    </tr>\n",
       "    <tr>\n",
       "      <th>5</th>\n",
       "      <td>2</td>\n",
       "      <td>2</td>\n",
       "      <td>2</td>\n",
       "      <td>2</td>\n",
       "      <td>5</td>\n",
       "    </tr>\n",
       "    <tr>\n",
       "      <th>6</th>\n",
       "      <td>6</td>\n",
       "      <td>7</td>\n",
       "      <td>12</td>\n",
       "      <td>18</td>\n",
       "      <td>6</td>\n",
       "    </tr>\n",
       "    <tr>\n",
       "      <th>7</th>\n",
       "      <td>7</td>\n",
       "      <td>8</td>\n",
       "      <td>13</td>\n",
       "      <td>12</td>\n",
       "      <td>7</td>\n",
       "    </tr>\n",
       "    <tr>\n",
       "      <th>8</th>\n",
       "      <td>7</td>\n",
       "      <td>9</td>\n",
       "      <td>14</td>\n",
       "      <td>10</td>\n",
       "      <td>8</td>\n",
       "    </tr>\n",
       "    <tr>\n",
       "      <th>9</th>\n",
       "      <td>7</td>\n",
       "      <td>7</td>\n",
       "      <td>7</td>\n",
       "      <td>7</td>\n",
       "      <td>9</td>\n",
       "    </tr>\n",
       "    <tr>\n",
       "      <th>10</th>\n",
       "      <td>2</td>\n",
       "      <td>2</td>\n",
       "      <td>2</td>\n",
       "      <td>2</td>\n",
       "      <td>10</td>\n",
       "    </tr>\n",
       "  </tbody>\n",
       "</table>\n",
       "</div>"
      ],
      "text/plain": [
       "    a1  a2  a3  a4  a5\n",
       "0    7   7   7   7   0\n",
       "1    2   2   3  16   1\n",
       "2    2   2   2   2   2\n",
       "3    3   4  21  18   3\n",
       "4    2   2   2   2   4\n",
       "5    2   2   2   2   5\n",
       "6    6   7  12  18   6\n",
       "7    7   8  13  12   7\n",
       "8    7   9  14  10   8\n",
       "9    7   7   7   7   9\n",
       "10   2   2   2   2  10"
      ]
     },
     "execution_count": 17,
     "metadata": {},
     "output_type": "execute_result"
    }
   ],
   "source": [
    "# Añadimos una tercera columna\n",
    "data[\"v1\"] = range(7)\n",
    "print(data)\n",
    "\n",
    "print()\n",
    "\n",
    "# Añadimos a data_2 una quinta columna\n",
    "data_2[\"a5\"] = range(11)\n",
    "data_2"
   ]
  },
  {
   "cell_type": "code",
   "execution_count": 36,
   "id": "400f99f1",
   "metadata": {
    "slideshow": {
     "slide_type": "slide"
    }
   },
   "outputs": [
    {
     "data": {
      "text/html": [
       "<div>\n",
       "<style scoped>\n",
       "    .dataframe tbody tr th:only-of-type {\n",
       "        vertical-align: middle;\n",
       "    }\n",
       "\n",
       "    .dataframe tbody tr th {\n",
       "        vertical-align: top;\n",
       "    }\n",
       "\n",
       "    .dataframe thead th {\n",
       "        text-align: right;\n",
       "    }\n",
       "</style>\n",
       "<table border=\"1\" class=\"dataframe\">\n",
       "  <thead>\n",
       "    <tr style=\"text-align: right;\">\n",
       "      <th></th>\n",
       "      <th>k1</th>\n",
       "      <th>k2</th>\n",
       "      <th>v1</th>\n",
       "    </tr>\n",
       "  </thead>\n",
       "  <tbody>\n",
       "    <tr>\n",
       "      <th>0</th>\n",
       "      <td>one</td>\n",
       "      <td>1</td>\n",
       "      <td>0</td>\n",
       "    </tr>\n",
       "    <tr>\n",
       "      <th>1</th>\n",
       "      <td>two</td>\n",
       "      <td>1</td>\n",
       "      <td>1</td>\n",
       "    </tr>\n",
       "  </tbody>\n",
       "</table>\n",
       "</div>"
      ],
      "text/plain": [
       "    k1  k2  v1\n",
       "0  one   1   0\n",
       "1  two   1   1"
      ]
     },
     "execution_count": 36,
     "metadata": {},
     "output_type": "execute_result"
    }
   ],
   "source": [
    "data.drop_duplicates(subset=[\"k1\"])"
   ]
  },
  {
   "cell_type": "code",
   "execution_count": 23,
   "id": "568fcbb0",
   "metadata": {},
   "outputs": [
    {
     "name": "stdout",
     "output_type": "stream",
     "text": [
      "    a1  a2  a3  a4  a5\n",
      "0    7   7   7   7   0\n",
      "1    2   2   3  16   1\n",
      "2    2   2   2   2   2\n",
      "3    3   4  21  18   3\n",
      "4    2   2   2   2   4\n",
      "5    2   2   2   2   5\n",
      "6    6   7  12  18   6\n",
      "7    7   8  13  12   7\n",
      "8    7   9  14  10   8\n",
      "9    7   7   7   7   9\n",
      "10   2   2   2   2  10\n",
      "\n",
      "   a1  a2  a3  a4  a5\n",
      "0   7   7   7   7   0\n",
      "1   2   2   3  16   1\n",
      "2   2   2   2   2   2\n",
      "3   3   4  21  18   3\n",
      "7   7   8  13  12   7\n",
      "8   7   9  14  10   8\n",
      "\n"
     ]
    },
    {
     "data": {
      "text/html": [
       "<div>\n",
       "<style scoped>\n",
       "    .dataframe tbody tr th:only-of-type {\n",
       "        vertical-align: middle;\n",
       "    }\n",
       "\n",
       "    .dataframe tbody tr th {\n",
       "        vertical-align: top;\n",
       "    }\n",
       "\n",
       "    .dataframe thead th {\n",
       "        text-align: right;\n",
       "    }\n",
       "</style>\n",
       "<table border=\"1\" class=\"dataframe\">\n",
       "  <thead>\n",
       "    <tr style=\"text-align: right;\">\n",
       "      <th></th>\n",
       "      <th>a1</th>\n",
       "      <th>a2</th>\n",
       "      <th>a3</th>\n",
       "      <th>a4</th>\n",
       "      <th>a5</th>\n",
       "    </tr>\n",
       "  </thead>\n",
       "  <tbody>\n",
       "    <tr>\n",
       "      <th>1</th>\n",
       "      <td>2</td>\n",
       "      <td>2</td>\n",
       "      <td>3</td>\n",
       "      <td>16</td>\n",
       "      <td>1</td>\n",
       "    </tr>\n",
       "    <tr>\n",
       "      <th>6</th>\n",
       "      <td>6</td>\n",
       "      <td>7</td>\n",
       "      <td>12</td>\n",
       "      <td>18</td>\n",
       "      <td>6</td>\n",
       "    </tr>\n",
       "    <tr>\n",
       "      <th>7</th>\n",
       "      <td>7</td>\n",
       "      <td>8</td>\n",
       "      <td>13</td>\n",
       "      <td>12</td>\n",
       "      <td>7</td>\n",
       "    </tr>\n",
       "    <tr>\n",
       "      <th>8</th>\n",
       "      <td>7</td>\n",
       "      <td>9</td>\n",
       "      <td>14</td>\n",
       "      <td>10</td>\n",
       "      <td>8</td>\n",
       "    </tr>\n",
       "    <tr>\n",
       "      <th>9</th>\n",
       "      <td>7</td>\n",
       "      <td>7</td>\n",
       "      <td>7</td>\n",
       "      <td>7</td>\n",
       "      <td>9</td>\n",
       "    </tr>\n",
       "    <tr>\n",
       "      <th>10</th>\n",
       "      <td>2</td>\n",
       "      <td>2</td>\n",
       "      <td>2</td>\n",
       "      <td>2</td>\n",
       "      <td>10</td>\n",
       "    </tr>\n",
       "  </tbody>\n",
       "</table>\n",
       "</div>"
      ],
      "text/plain": [
       "    a1  a2  a3  a4  a5\n",
       "1    2   2   3  16   1\n",
       "6    6   7  12  18   6\n",
       "7    7   8  13  12   7\n",
       "8    7   9  14  10   8\n",
       "9    7   7   7   7   9\n",
       "10   2   2   2   2  10"
      ]
     },
     "execution_count": 23,
     "metadata": {},
     "output_type": "execute_result"
    }
   ],
   "source": [
    "print(data_2)\n",
    "print()\n",
    "print(data_2.drop_duplicates(subset=[\"a4\"]))\n",
    "print()\n",
    "data_2.drop_duplicates(subset=[\"a4\"], keep=\"last\")"
   ]
  },
  {
   "cell_type": "markdown",
   "id": "6fd3e710",
   "metadata": {
    "slideshow": {
     "slide_type": "slide"
    }
   },
   "source": [
    "`duplicated` y `drop_duplicates` mantienen por defecto la primera combinación de valores observada. Si se pasa `keep=\"last\"` se devolverá la última.  \n",
    "El argumento `keep` puede tomar tres valores:\n",
    "\n",
    "`\"first\"`: (por defecto) Mantiene la primera aparición de una fila duplicada y elimina las subsecuentes.  \n",
    "\n",
    "`\"last\"`: Mantiene la última aparición de una fila duplicada y elimina las anteriores.  \n",
    "\n",
    "`\"False\"`: Elimina todas las filas duplicadas, no conservando ninguna."
   ]
  },
  {
   "cell_type": "code",
   "execution_count": 37,
   "id": "1f7a07aa-4903-4f3e-abd7-22d42dc5e94c",
   "metadata": {},
   "outputs": [
    {
     "data": {
      "text/html": [
       "<div>\n",
       "<style scoped>\n",
       "    .dataframe tbody tr th:only-of-type {\n",
       "        vertical-align: middle;\n",
       "    }\n",
       "\n",
       "    .dataframe tbody tr th {\n",
       "        vertical-align: top;\n",
       "    }\n",
       "\n",
       "    .dataframe thead th {\n",
       "        text-align: right;\n",
       "    }\n",
       "</style>\n",
       "<table border=\"1\" class=\"dataframe\">\n",
       "  <thead>\n",
       "    <tr style=\"text-align: right;\">\n",
       "      <th></th>\n",
       "      <th>k1</th>\n",
       "      <th>k2</th>\n",
       "      <th>v1</th>\n",
       "    </tr>\n",
       "  </thead>\n",
       "  <tbody>\n",
       "    <tr>\n",
       "      <th>0</th>\n",
       "      <td>one</td>\n",
       "      <td>1</td>\n",
       "      <td>0</td>\n",
       "    </tr>\n",
       "    <tr>\n",
       "      <th>1</th>\n",
       "      <td>two</td>\n",
       "      <td>1</td>\n",
       "      <td>1</td>\n",
       "    </tr>\n",
       "    <tr>\n",
       "      <th>2</th>\n",
       "      <td>one</td>\n",
       "      <td>2</td>\n",
       "      <td>2</td>\n",
       "    </tr>\n",
       "    <tr>\n",
       "      <th>3</th>\n",
       "      <td>two</td>\n",
       "      <td>3</td>\n",
       "      <td>3</td>\n",
       "    </tr>\n",
       "    <tr>\n",
       "      <th>4</th>\n",
       "      <td>one</td>\n",
       "      <td>3</td>\n",
       "      <td>4</td>\n",
       "    </tr>\n",
       "    <tr>\n",
       "      <th>5</th>\n",
       "      <td>two</td>\n",
       "      <td>4</td>\n",
       "      <td>5</td>\n",
       "    </tr>\n",
       "    <tr>\n",
       "      <th>6</th>\n",
       "      <td>two</td>\n",
       "      <td>4</td>\n",
       "      <td>6</td>\n",
       "    </tr>\n",
       "  </tbody>\n",
       "</table>\n",
       "</div>"
      ],
      "text/plain": [
       "    k1  k2  v1\n",
       "0  one   1   0\n",
       "1  two   1   1\n",
       "2  one   2   2\n",
       "3  two   3   3\n",
       "4  one   3   4\n",
       "5  two   4   5\n",
       "6  two   4   6"
      ]
     },
     "execution_count": 37,
     "metadata": {},
     "output_type": "execute_result"
    }
   ],
   "source": [
    "data"
   ]
  },
  {
   "cell_type": "code",
   "execution_count": 21,
   "id": "1cecd476",
   "metadata": {},
   "outputs": [
    {
     "name": "stdout",
     "output_type": "stream",
     "text": [
      "    k1  k2  v1\n",
      "0  one   1   0\n",
      "1  two   1   1\n",
      "2  one   2   2\n",
      "3  two   3   3\n",
      "4  one   3   4\n",
      "5  two   4   5\n",
      "6  two   4   6\n",
      "\n",
      "    k1  k2  v1\n",
      "0  one   1   0\n",
      "1  two   1   1\n",
      "2  one   2   2\n",
      "3  two   3   3\n",
      "4  one   3   4\n",
      "5  two   4   5\n",
      "\n"
     ]
    },
    {
     "data": {
      "text/html": [
       "<div>\n",
       "<style scoped>\n",
       "    .dataframe tbody tr th:only-of-type {\n",
       "        vertical-align: middle;\n",
       "    }\n",
       "\n",
       "    .dataframe tbody tr th {\n",
       "        vertical-align: top;\n",
       "    }\n",
       "\n",
       "    .dataframe thead th {\n",
       "        text-align: right;\n",
       "    }\n",
       "</style>\n",
       "<table border=\"1\" class=\"dataframe\">\n",
       "  <thead>\n",
       "    <tr style=\"text-align: right;\">\n",
       "      <th></th>\n",
       "      <th>k1</th>\n",
       "      <th>k2</th>\n",
       "      <th>v1</th>\n",
       "    </tr>\n",
       "  </thead>\n",
       "  <tbody>\n",
       "    <tr>\n",
       "      <th>0</th>\n",
       "      <td>one</td>\n",
       "      <td>1</td>\n",
       "      <td>0</td>\n",
       "    </tr>\n",
       "    <tr>\n",
       "      <th>1</th>\n",
       "      <td>two</td>\n",
       "      <td>1</td>\n",
       "      <td>1</td>\n",
       "    </tr>\n",
       "    <tr>\n",
       "      <th>2</th>\n",
       "      <td>one</td>\n",
       "      <td>2</td>\n",
       "      <td>2</td>\n",
       "    </tr>\n",
       "    <tr>\n",
       "      <th>3</th>\n",
       "      <td>two</td>\n",
       "      <td>3</td>\n",
       "      <td>3</td>\n",
       "    </tr>\n",
       "    <tr>\n",
       "      <th>4</th>\n",
       "      <td>one</td>\n",
       "      <td>3</td>\n",
       "      <td>4</td>\n",
       "    </tr>\n",
       "    <tr>\n",
       "      <th>6</th>\n",
       "      <td>two</td>\n",
       "      <td>4</td>\n",
       "      <td>6</td>\n",
       "    </tr>\n",
       "  </tbody>\n",
       "</table>\n",
       "</div>"
      ],
      "text/plain": [
       "    k1  k2  v1\n",
       "0  one   1   0\n",
       "1  two   1   1\n",
       "2  one   2   2\n",
       "3  two   3   3\n",
       "4  one   3   4\n",
       "6  two   4   6"
      ]
     },
     "execution_count": 21,
     "metadata": {},
     "output_type": "execute_result"
    }
   ],
   "source": [
    "print(data)\n",
    "print()\n",
    "print(data.drop_duplicates([\"k1\", \"k2\"]))\n",
    "print()\n",
    "data.drop_duplicates([\"k1\", \"k2\"], keep=\"last\")"
   ]
  },
  {
   "cell_type": "markdown",
   "id": "94f899d4",
   "metadata": {
    "slideshow": {
     "slide_type": "slide"
    }
   },
   "source": [
    "### Transformación de datos mediante una `Function` o `Mapping`"
   ]
  },
  {
   "cell_type": "markdown",
   "id": "d22a459b",
   "metadata": {},
   "source": [
    "Para muchos conjuntos de datos, es posible que desee realizar alguna transformación basada en los valores de un array, Serie o columna de un DataFrame. Considere los siguientes datos hipotéticos recogidos sobre varios tipos de jamón:"
   ]
  },
  {
   "cell_type": "code",
   "execution_count": 39,
   "id": "1c76dd2f",
   "metadata": {
    "slideshow": {
     "slide_type": "slide"
    }
   },
   "outputs": [
    {
     "data": {
      "text/html": [
       "<div>\n",
       "<style scoped>\n",
       "    .dataframe tbody tr th:only-of-type {\n",
       "        vertical-align: middle;\n",
       "    }\n",
       "\n",
       "    .dataframe tbody tr th {\n",
       "        vertical-align: top;\n",
       "    }\n",
       "\n",
       "    .dataframe thead th {\n",
       "        text-align: right;\n",
       "    }\n",
       "</style>\n",
       "<table border=\"1\" class=\"dataframe\">\n",
       "  <thead>\n",
       "    <tr style=\"text-align: right;\">\n",
       "      <th></th>\n",
       "      <th>food</th>\n",
       "      <th>ounces</th>\n",
       "    </tr>\n",
       "  </thead>\n",
       "  <tbody>\n",
       "    <tr>\n",
       "      <th>0</th>\n",
       "      <td>bacon</td>\n",
       "      <td>4.0</td>\n",
       "    </tr>\n",
       "    <tr>\n",
       "      <th>1</th>\n",
       "      <td>pulled pork</td>\n",
       "      <td>3.0</td>\n",
       "    </tr>\n",
       "    <tr>\n",
       "      <th>2</th>\n",
       "      <td>bacon</td>\n",
       "      <td>12.0</td>\n",
       "    </tr>\n",
       "    <tr>\n",
       "      <th>3</th>\n",
       "      <td>pastrami</td>\n",
       "      <td>6.0</td>\n",
       "    </tr>\n",
       "    <tr>\n",
       "      <th>4</th>\n",
       "      <td>corned beef</td>\n",
       "      <td>7.5</td>\n",
       "    </tr>\n",
       "    <tr>\n",
       "      <th>5</th>\n",
       "      <td>bacon</td>\n",
       "      <td>8.0</td>\n",
       "    </tr>\n",
       "    <tr>\n",
       "      <th>6</th>\n",
       "      <td>pastrami</td>\n",
       "      <td>3.0</td>\n",
       "    </tr>\n",
       "    <tr>\n",
       "      <th>7</th>\n",
       "      <td>honey ham</td>\n",
       "      <td>5.0</td>\n",
       "    </tr>\n",
       "    <tr>\n",
       "      <th>8</th>\n",
       "      <td>nova lox</td>\n",
       "      <td>6.0</td>\n",
       "    </tr>\n",
       "  </tbody>\n",
       "</table>\n",
       "</div>"
      ],
      "text/plain": [
       "          food  ounces\n",
       "0        bacon     4.0\n",
       "1  pulled pork     3.0\n",
       "2        bacon    12.0\n",
       "3     pastrami     6.0\n",
       "4  corned beef     7.5\n",
       "5        bacon     8.0\n",
       "6     pastrami     3.0\n",
       "7    honey ham     5.0\n",
       "8     nova lox     6.0"
      ]
     },
     "execution_count": 39,
     "metadata": {},
     "output_type": "execute_result"
    }
   ],
   "source": [
    "data = pd.DataFrame({\"food\": [\"bacon\", \"pulled pork\",\n",
    "                              \"bacon\",\"pastrami\", \"corned beef\",\n",
    "                              \"bacon\", \"pastrami\", \"honey ham\",\n",
    "                              \"nova lox\"],\n",
    "                     \"ounces\": [4, 3, 12, 6, 7.5, 8, 3, 5, 6]})\n",
    "data"
   ]
  },
  {
   "cell_type": "markdown",
   "id": "a76d43b6",
   "metadata": {
    "slideshow": {
     "slide_type": "slide"
    }
   },
   "source": [
    "Supongamos que queremos añadir una columna que indique el tipo de animal del que procede cada alimento. Escribamos una correspondencia entre cada tipo de carne y el tipo de animal:"
   ]
  },
  {
   "cell_type": "code",
   "execution_count": 40,
   "id": "cb6723a0",
   "metadata": {},
   "outputs": [],
   "source": [
    "meat_to_animal = {\n",
    "  \"bacon\": \"pig\",\n",
    "  \"pulled pork\": \"pig\",\n",
    "  \"pastrami\": \"cow\",\n",
    "  \"corned beef\": \"cow\",\n",
    "  \"honey ham\": \"pig\",\n",
    "  \"nova lox\": \"salmon\"\n",
    "}"
   ]
  },
  {
   "cell_type": "markdown",
   "id": "a3357a6a",
   "metadata": {
    "slideshow": {
     "slide_type": "slide"
    }
   },
   "source": [
    "El método `map` de una serie acepta una función u objeto de tipo diccionario que contenga un mapeo para realizar la transformación de los valores:"
   ]
  },
  {
   "cell_type": "code",
   "execution_count": 41,
   "id": "ffde4341",
   "metadata": {},
   "outputs": [
    {
     "data": {
      "text/html": [
       "<div>\n",
       "<style scoped>\n",
       "    .dataframe tbody tr th:only-of-type {\n",
       "        vertical-align: middle;\n",
       "    }\n",
       "\n",
       "    .dataframe tbody tr th {\n",
       "        vertical-align: top;\n",
       "    }\n",
       "\n",
       "    .dataframe thead th {\n",
       "        text-align: right;\n",
       "    }\n",
       "</style>\n",
       "<table border=\"1\" class=\"dataframe\">\n",
       "  <thead>\n",
       "    <tr style=\"text-align: right;\">\n",
       "      <th></th>\n",
       "      <th>food</th>\n",
       "      <th>ounces</th>\n",
       "      <th>animal</th>\n",
       "    </tr>\n",
       "  </thead>\n",
       "  <tbody>\n",
       "    <tr>\n",
       "      <th>0</th>\n",
       "      <td>bacon</td>\n",
       "      <td>4.0</td>\n",
       "      <td>pig</td>\n",
       "    </tr>\n",
       "    <tr>\n",
       "      <th>1</th>\n",
       "      <td>pulled pork</td>\n",
       "      <td>3.0</td>\n",
       "      <td>pig</td>\n",
       "    </tr>\n",
       "    <tr>\n",
       "      <th>2</th>\n",
       "      <td>bacon</td>\n",
       "      <td>12.0</td>\n",
       "      <td>pig</td>\n",
       "    </tr>\n",
       "    <tr>\n",
       "      <th>3</th>\n",
       "      <td>pastrami</td>\n",
       "      <td>6.0</td>\n",
       "      <td>cow</td>\n",
       "    </tr>\n",
       "    <tr>\n",
       "      <th>4</th>\n",
       "      <td>corned beef</td>\n",
       "      <td>7.5</td>\n",
       "      <td>cow</td>\n",
       "    </tr>\n",
       "    <tr>\n",
       "      <th>5</th>\n",
       "      <td>bacon</td>\n",
       "      <td>8.0</td>\n",
       "      <td>pig</td>\n",
       "    </tr>\n",
       "    <tr>\n",
       "      <th>6</th>\n",
       "      <td>pastrami</td>\n",
       "      <td>3.0</td>\n",
       "      <td>cow</td>\n",
       "    </tr>\n",
       "    <tr>\n",
       "      <th>7</th>\n",
       "      <td>honey ham</td>\n",
       "      <td>5.0</td>\n",
       "      <td>pig</td>\n",
       "    </tr>\n",
       "    <tr>\n",
       "      <th>8</th>\n",
       "      <td>nova lox</td>\n",
       "      <td>6.0</td>\n",
       "      <td>salmon</td>\n",
       "    </tr>\n",
       "  </tbody>\n",
       "</table>\n",
       "</div>"
      ],
      "text/plain": [
       "          food  ounces  animal\n",
       "0        bacon     4.0     pig\n",
       "1  pulled pork     3.0     pig\n",
       "2        bacon    12.0     pig\n",
       "3     pastrami     6.0     cow\n",
       "4  corned beef     7.5     cow\n",
       "5        bacon     8.0     pig\n",
       "6     pastrami     3.0     cow\n",
       "7    honey ham     5.0     pig\n",
       "8     nova lox     6.0  salmon"
      ]
     },
     "execution_count": 41,
     "metadata": {},
     "output_type": "execute_result"
    }
   ],
   "source": [
    "data[\"animal\"] = data[\"food\"].map(meat_to_animal)\n",
    "data"
   ]
  },
  {
   "cell_type": "markdown",
   "id": "62fdc91c",
   "metadata": {
    "slideshow": {
     "slide_type": "slide"
    }
   },
   "source": [
    "También podríamos haber pasado una función que haga todo el trabajo:"
   ]
  },
  {
   "cell_type": "code",
   "execution_count": 42,
   "id": "4c20aa34",
   "metadata": {},
   "outputs": [
    {
     "data": {
      "text/html": [
       "<div>\n",
       "<style scoped>\n",
       "    .dataframe tbody tr th:only-of-type {\n",
       "        vertical-align: middle;\n",
       "    }\n",
       "\n",
       "    .dataframe tbody tr th {\n",
       "        vertical-align: top;\n",
       "    }\n",
       "\n",
       "    .dataframe thead th {\n",
       "        text-align: right;\n",
       "    }\n",
       "</style>\n",
       "<table border=\"1\" class=\"dataframe\">\n",
       "  <thead>\n",
       "    <tr style=\"text-align: right;\">\n",
       "      <th></th>\n",
       "      <th>food</th>\n",
       "      <th>ounces</th>\n",
       "      <th>animal</th>\n",
       "    </tr>\n",
       "  </thead>\n",
       "  <tbody>\n",
       "    <tr>\n",
       "      <th>0</th>\n",
       "      <td>bacon</td>\n",
       "      <td>4.0</td>\n",
       "      <td>pig</td>\n",
       "    </tr>\n",
       "    <tr>\n",
       "      <th>1</th>\n",
       "      <td>pulled pork</td>\n",
       "      <td>3.0</td>\n",
       "      <td>pig</td>\n",
       "    </tr>\n",
       "    <tr>\n",
       "      <th>2</th>\n",
       "      <td>bacon</td>\n",
       "      <td>12.0</td>\n",
       "      <td>pig</td>\n",
       "    </tr>\n",
       "    <tr>\n",
       "      <th>3</th>\n",
       "      <td>pastrami</td>\n",
       "      <td>6.0</td>\n",
       "      <td>cow</td>\n",
       "    </tr>\n",
       "    <tr>\n",
       "      <th>4</th>\n",
       "      <td>corned beef</td>\n",
       "      <td>7.5</td>\n",
       "      <td>cow</td>\n",
       "    </tr>\n",
       "    <tr>\n",
       "      <th>5</th>\n",
       "      <td>bacon</td>\n",
       "      <td>8.0</td>\n",
       "      <td>pig</td>\n",
       "    </tr>\n",
       "    <tr>\n",
       "      <th>6</th>\n",
       "      <td>pastrami</td>\n",
       "      <td>3.0</td>\n",
       "      <td>cow</td>\n",
       "    </tr>\n",
       "    <tr>\n",
       "      <th>7</th>\n",
       "      <td>honey ham</td>\n",
       "      <td>5.0</td>\n",
       "      <td>pig</td>\n",
       "    </tr>\n",
       "    <tr>\n",
       "      <th>8</th>\n",
       "      <td>nova lox</td>\n",
       "      <td>6.0</td>\n",
       "      <td>salmon</td>\n",
       "    </tr>\n",
       "  </tbody>\n",
       "</table>\n",
       "</div>"
      ],
      "text/plain": [
       "          food  ounces  animal\n",
       "0        bacon     4.0     pig\n",
       "1  pulled pork     3.0     pig\n",
       "2        bacon    12.0     pig\n",
       "3     pastrami     6.0     cow\n",
       "4  corned beef     7.5     cow\n",
       "5        bacon     8.0     pig\n",
       "6     pastrami     3.0     cow\n",
       "7    honey ham     5.0     pig\n",
       "8     nova lox     6.0  salmon"
      ]
     },
     "execution_count": 42,
     "metadata": {},
     "output_type": "execute_result"
    }
   ],
   "source": [
    "def get_animal(x):\n",
    "    return meat_to_animal[x]\n",
    "\n",
    "data[\"animal\"] = data[\"food\"].map(get_animal)\n",
    "data"
   ]
  },
  {
   "cell_type": "markdown",
   "id": "22882206",
   "metadata": {
    "slideshow": {
     "slide_type": "slide"
    }
   },
   "source": [
    "### Sustitución de valores"
   ]
  },
  {
   "cell_type": "markdown",
   "id": "6f501af1",
   "metadata": {},
   "source": [
    "Rellenar los datos que faltan con el método `fillna` es un caso especial de sustitución de valores más general. Como ya se ha visto, `map` puede utilizarse para modificar un subconjunto de valores de un objeto, tambien `replace` proporciona una forma más sencilla y flexible de hacerlo. Consideremos esta serie:"
   ]
  },
  {
   "cell_type": "code",
   "execution_count": 43,
   "id": "1c0038e4",
   "metadata": {
    "slideshow": {
     "slide_type": "slide"
    }
   },
   "outputs": [
    {
     "data": {
      "text/plain": [
       "0       1.0\n",
       "1    -999.0\n",
       "2       2.0\n",
       "3    -999.0\n",
       "4   -1000.0\n",
       "5       3.0\n",
       "dtype: float64"
      ]
     },
     "execution_count": 43,
     "metadata": {},
     "output_type": "execute_result"
    }
   ],
   "source": [
    "data = pd.Series([1., -999., 2., -999., -1000., 3.])\n",
    "data"
   ]
  },
  {
   "cell_type": "markdown",
   "id": "b5ea227b",
   "metadata": {
    "slideshow": {
     "slide_type": "slide"
    }
   },
   "source": [
    "Los valores `-999` podrían ser valores centinela de datos perdidos. Para reemplazarlos por valores `NA` que pandas entienda, podemos usar `replace`, produciendo una nueva Serie:"
   ]
  },
  {
   "cell_type": "code",
   "execution_count": 25,
   "id": "b3bc7f20",
   "metadata": {},
   "outputs": [
    {
     "name": "stdout",
     "output_type": "stream",
     "text": [
      "    k1  k2  v1\n",
      "0  one   1   0\n",
      "1  two   1   1\n",
      "2  one   2   2\n",
      "3  two   3   3\n",
      "4  one   3   4\n",
      "5  two   4   5\n",
      "6  two   4   6\n",
      "\n"
     ]
    },
    {
     "data": {
      "text/html": [
       "<div>\n",
       "<style scoped>\n",
       "    .dataframe tbody tr th:only-of-type {\n",
       "        vertical-align: middle;\n",
       "    }\n",
       "\n",
       "    .dataframe tbody tr th {\n",
       "        vertical-align: top;\n",
       "    }\n",
       "\n",
       "    .dataframe thead th {\n",
       "        text-align: right;\n",
       "    }\n",
       "</style>\n",
       "<table border=\"1\" class=\"dataframe\">\n",
       "  <thead>\n",
       "    <tr style=\"text-align: right;\">\n",
       "      <th></th>\n",
       "      <th>a1</th>\n",
       "      <th>a2</th>\n",
       "      <th>a3</th>\n",
       "      <th>a4</th>\n",
       "      <th>a5</th>\n",
       "    </tr>\n",
       "  </thead>\n",
       "  <tbody>\n",
       "    <tr>\n",
       "      <th>0</th>\n",
       "      <td>7</td>\n",
       "      <td>7</td>\n",
       "      <td>7</td>\n",
       "      <td>7</td>\n",
       "      <td>0</td>\n",
       "    </tr>\n",
       "    <tr>\n",
       "      <th>1</th>\n",
       "      <td>2</td>\n",
       "      <td>2</td>\n",
       "      <td>3</td>\n",
       "      <td>16</td>\n",
       "      <td>1</td>\n",
       "    </tr>\n",
       "    <tr>\n",
       "      <th>2</th>\n",
       "      <td>2</td>\n",
       "      <td>2</td>\n",
       "      <td>2</td>\n",
       "      <td>2</td>\n",
       "      <td>2</td>\n",
       "    </tr>\n",
       "    <tr>\n",
       "      <th>3</th>\n",
       "      <td>3</td>\n",
       "      <td>4</td>\n",
       "      <td>21</td>\n",
       "      <td>180</td>\n",
       "      <td>3</td>\n",
       "    </tr>\n",
       "    <tr>\n",
       "      <th>4</th>\n",
       "      <td>2</td>\n",
       "      <td>2</td>\n",
       "      <td>2</td>\n",
       "      <td>2</td>\n",
       "      <td>4</td>\n",
       "    </tr>\n",
       "    <tr>\n",
       "      <th>5</th>\n",
       "      <td>2</td>\n",
       "      <td>2</td>\n",
       "      <td>2</td>\n",
       "      <td>2</td>\n",
       "      <td>5</td>\n",
       "    </tr>\n",
       "    <tr>\n",
       "      <th>6</th>\n",
       "      <td>6</td>\n",
       "      <td>7</td>\n",
       "      <td>12</td>\n",
       "      <td>180</td>\n",
       "      <td>6</td>\n",
       "    </tr>\n",
       "    <tr>\n",
       "      <th>7</th>\n",
       "      <td>7</td>\n",
       "      <td>8</td>\n",
       "      <td>13</td>\n",
       "      <td>12</td>\n",
       "      <td>7</td>\n",
       "    </tr>\n",
       "    <tr>\n",
       "      <th>8</th>\n",
       "      <td>7</td>\n",
       "      <td>9</td>\n",
       "      <td>14</td>\n",
       "      <td>10</td>\n",
       "      <td>8</td>\n",
       "    </tr>\n",
       "    <tr>\n",
       "      <th>9</th>\n",
       "      <td>7</td>\n",
       "      <td>7</td>\n",
       "      <td>7</td>\n",
       "      <td>7</td>\n",
       "      <td>9</td>\n",
       "    </tr>\n",
       "    <tr>\n",
       "      <th>10</th>\n",
       "      <td>2</td>\n",
       "      <td>2</td>\n",
       "      <td>2</td>\n",
       "      <td>2</td>\n",
       "      <td>10</td>\n",
       "    </tr>\n",
       "  </tbody>\n",
       "</table>\n",
       "</div>"
      ],
      "text/plain": [
       "    a1  a2  a3   a4  a5\n",
       "0    7   7   7    7   0\n",
       "1    2   2   3   16   1\n",
       "2    2   2   2    2   2\n",
       "3    3   4  21  180   3\n",
       "4    2   2   2    2   4\n",
       "5    2   2   2    2   5\n",
       "6    6   7  12  180   6\n",
       "7    7   8  13   12   7\n",
       "8    7   9  14   10   8\n",
       "9    7   7   7    7   9\n",
       "10   2   2   2    2  10"
      ]
     },
     "execution_count": 25,
     "metadata": {},
     "output_type": "execute_result"
    }
   ],
   "source": [
    "import numpy as np\n",
    "import pandas as pd\n",
    "\n",
    "print(data.replace(-999, np.nan))\n",
    "\n",
    "print()\n",
    "data_2.replace(18, 180)"
   ]
  },
  {
   "cell_type": "markdown",
   "id": "c8443f96",
   "metadata": {
    "slideshow": {
     "slide_type": "slide"
    }
   },
   "source": [
    "Si desea sustituir varios valores a la vez, debe pasar una lista y, a continuación, el valor sustituido:"
   ]
  },
  {
   "cell_type": "code",
   "execution_count": 26,
   "id": "4020a035",
   "metadata": {},
   "outputs": [
    {
     "name": "stdout",
     "output_type": "stream",
     "text": [
      "    k1  k2  v1\n",
      "0  one   1   0\n",
      "1  two   1   1\n",
      "2  one   2   2\n",
      "3  two   3   3\n",
      "4  one   3   4\n",
      "5  two   4   5\n",
      "6  two   4   6\n",
      "\n"
     ]
    },
    {
     "data": {
      "text/html": [
       "<div>\n",
       "<style scoped>\n",
       "    .dataframe tbody tr th:only-of-type {\n",
       "        vertical-align: middle;\n",
       "    }\n",
       "\n",
       "    .dataframe tbody tr th {\n",
       "        vertical-align: top;\n",
       "    }\n",
       "\n",
       "    .dataframe thead th {\n",
       "        text-align: right;\n",
       "    }\n",
       "</style>\n",
       "<table border=\"1\" class=\"dataframe\">\n",
       "  <thead>\n",
       "    <tr style=\"text-align: right;\">\n",
       "      <th></th>\n",
       "      <th>a1</th>\n",
       "      <th>a2</th>\n",
       "      <th>a3</th>\n",
       "      <th>a4</th>\n",
       "      <th>a5</th>\n",
       "    </tr>\n",
       "  </thead>\n",
       "  <tbody>\n",
       "    <tr>\n",
       "      <th>0</th>\n",
       "      <td>7</td>\n",
       "      <td>7</td>\n",
       "      <td>7</td>\n",
       "      <td>7</td>\n",
       "      <td>0</td>\n",
       "    </tr>\n",
       "    <tr>\n",
       "      <th>1</th>\n",
       "      <td>2</td>\n",
       "      <td>2</td>\n",
       "      <td>3</td>\n",
       "      <td>160</td>\n",
       "      <td>1</td>\n",
       "    </tr>\n",
       "    <tr>\n",
       "      <th>2</th>\n",
       "      <td>2</td>\n",
       "      <td>2</td>\n",
       "      <td>2</td>\n",
       "      <td>2</td>\n",
       "      <td>2</td>\n",
       "    </tr>\n",
       "    <tr>\n",
       "      <th>3</th>\n",
       "      <td>3</td>\n",
       "      <td>4</td>\n",
       "      <td>21</td>\n",
       "      <td>180</td>\n",
       "      <td>3</td>\n",
       "    </tr>\n",
       "    <tr>\n",
       "      <th>4</th>\n",
       "      <td>2</td>\n",
       "      <td>2</td>\n",
       "      <td>2</td>\n",
       "      <td>2</td>\n",
       "      <td>4</td>\n",
       "    </tr>\n",
       "    <tr>\n",
       "      <th>5</th>\n",
       "      <td>2</td>\n",
       "      <td>2</td>\n",
       "      <td>2</td>\n",
       "      <td>2</td>\n",
       "      <td>5</td>\n",
       "    </tr>\n",
       "    <tr>\n",
       "      <th>6</th>\n",
       "      <td>6</td>\n",
       "      <td>7</td>\n",
       "      <td>12</td>\n",
       "      <td>180</td>\n",
       "      <td>6</td>\n",
       "    </tr>\n",
       "    <tr>\n",
       "      <th>7</th>\n",
       "      <td>7</td>\n",
       "      <td>8</td>\n",
       "      <td>13</td>\n",
       "      <td>12</td>\n",
       "      <td>7</td>\n",
       "    </tr>\n",
       "    <tr>\n",
       "      <th>8</th>\n",
       "      <td>7</td>\n",
       "      <td>9</td>\n",
       "      <td>14</td>\n",
       "      <td>10</td>\n",
       "      <td>8</td>\n",
       "    </tr>\n",
       "    <tr>\n",
       "      <th>9</th>\n",
       "      <td>7</td>\n",
       "      <td>7</td>\n",
       "      <td>7</td>\n",
       "      <td>7</td>\n",
       "      <td>9</td>\n",
       "    </tr>\n",
       "    <tr>\n",
       "      <th>10</th>\n",
       "      <td>2</td>\n",
       "      <td>2</td>\n",
       "      <td>2</td>\n",
       "      <td>2</td>\n",
       "      <td>10</td>\n",
       "    </tr>\n",
       "  </tbody>\n",
       "</table>\n",
       "</div>"
      ],
      "text/plain": [
       "    a1  a2  a3   a4  a5\n",
       "0    7   7   7    7   0\n",
       "1    2   2   3  160   1\n",
       "2    2   2   2    2   2\n",
       "3    3   4  21  180   3\n",
       "4    2   2   2    2   4\n",
       "5    2   2   2    2   5\n",
       "6    6   7  12  180   6\n",
       "7    7   8  13   12   7\n",
       "8    7   9  14   10   8\n",
       "9    7   7   7    7   9\n",
       "10   2   2   2    2  10"
      ]
     },
     "execution_count": 26,
     "metadata": {},
     "output_type": "execute_result"
    }
   ],
   "source": [
    "print(data.replace([-999, -1000], np.nan))\n",
    "print()\n",
    "data_2.replace([18, 16], [180, 160])"
   ]
  },
  {
   "cell_type": "markdown",
   "id": "cb8e3568",
   "metadata": {
    "slideshow": {
     "slide_type": "slide"
    }
   },
   "source": [
    "Para utilizar un sustituto diferente para cada valor, pase una lista de sustitutos:"
   ]
  },
  {
   "cell_type": "code",
   "execution_count": 27,
   "id": "b7c5cfd1",
   "metadata": {},
   "outputs": [
    {
     "data": {
      "text/html": [
       "<div>\n",
       "<style scoped>\n",
       "    .dataframe tbody tr th:only-of-type {\n",
       "        vertical-align: middle;\n",
       "    }\n",
       "\n",
       "    .dataframe tbody tr th {\n",
       "        vertical-align: top;\n",
       "    }\n",
       "\n",
       "    .dataframe thead th {\n",
       "        text-align: right;\n",
       "    }\n",
       "</style>\n",
       "<table border=\"1\" class=\"dataframe\">\n",
       "  <thead>\n",
       "    <tr style=\"text-align: right;\">\n",
       "      <th></th>\n",
       "      <th>k1</th>\n",
       "      <th>k2</th>\n",
       "      <th>v1</th>\n",
       "    </tr>\n",
       "  </thead>\n",
       "  <tbody>\n",
       "    <tr>\n",
       "      <th>0</th>\n",
       "      <td>one</td>\n",
       "      <td>1</td>\n",
       "      <td>0</td>\n",
       "    </tr>\n",
       "    <tr>\n",
       "      <th>1</th>\n",
       "      <td>two</td>\n",
       "      <td>1</td>\n",
       "      <td>1</td>\n",
       "    </tr>\n",
       "    <tr>\n",
       "      <th>2</th>\n",
       "      <td>one</td>\n",
       "      <td>2</td>\n",
       "      <td>2</td>\n",
       "    </tr>\n",
       "    <tr>\n",
       "      <th>3</th>\n",
       "      <td>two</td>\n",
       "      <td>3</td>\n",
       "      <td>3</td>\n",
       "    </tr>\n",
       "    <tr>\n",
       "      <th>4</th>\n",
       "      <td>one</td>\n",
       "      <td>3</td>\n",
       "      <td>4</td>\n",
       "    </tr>\n",
       "    <tr>\n",
       "      <th>5</th>\n",
       "      <td>two</td>\n",
       "      <td>4</td>\n",
       "      <td>5</td>\n",
       "    </tr>\n",
       "    <tr>\n",
       "      <th>6</th>\n",
       "      <td>two</td>\n",
       "      <td>4</td>\n",
       "      <td>6</td>\n",
       "    </tr>\n",
       "  </tbody>\n",
       "</table>\n",
       "</div>"
      ],
      "text/plain": [
       "    k1  k2  v1\n",
       "0  one   1   0\n",
       "1  two   1   1\n",
       "2  one   2   2\n",
       "3  two   3   3\n",
       "4  one   3   4\n",
       "5  two   4   5\n",
       "6  two   4   6"
      ]
     },
     "execution_count": 27,
     "metadata": {},
     "output_type": "execute_result"
    }
   ],
   "source": [
    "data.replace([-999, -1000], [np.nan, 0])"
   ]
  },
  {
   "cell_type": "markdown",
   "id": "6efc9455",
   "metadata": {
    "slideshow": {
     "slide_type": "slide"
    }
   },
   "source": [
    "El argumento pasado también puede ser un diccionario:"
   ]
  },
  {
   "cell_type": "code",
   "execution_count": 31,
   "id": "fac8ce64",
   "metadata": {},
   "outputs": [
    {
     "name": "stdout",
     "output_type": "stream",
     "text": [
      "    a1  a2  a3  a4  a5\n",
      "0    7   7   7   7   0\n",
      "1    2   2   3  16   1\n",
      "2    2   2   2   2   2\n",
      "3    3   4  21  18   3\n",
      "4    2   2   2   2   4\n",
      "5    2   2   2   2   5\n",
      "6    6   7  12  18   6\n",
      "7    7   8  13  12   7\n",
      "8    7   9  14  10   8\n",
      "9    7   7   7   7   9\n",
      "10   2   2   2   2  10\n",
      "\n",
      "    k1  k2  v1\n",
      "0  one   1   0\n",
      "1  two   1   1\n",
      "2  one   2   2\n",
      "3  two   3   3\n",
      "4  one   3   4\n",
      "5  two   4   5\n",
      "6  two   4   6\n",
      "\n"
     ]
    },
    {
     "data": {
      "text/html": [
       "<div>\n",
       "<style scoped>\n",
       "    .dataframe tbody tr th:only-of-type {\n",
       "        vertical-align: middle;\n",
       "    }\n",
       "\n",
       "    .dataframe tbody tr th {\n",
       "        vertical-align: top;\n",
       "    }\n",
       "\n",
       "    .dataframe thead th {\n",
       "        text-align: right;\n",
       "    }\n",
       "</style>\n",
       "<table border=\"1\" class=\"dataframe\">\n",
       "  <thead>\n",
       "    <tr style=\"text-align: right;\">\n",
       "      <th></th>\n",
       "      <th>a1</th>\n",
       "      <th>a2</th>\n",
       "      <th>a3</th>\n",
       "      <th>a4</th>\n",
       "      <th>a5</th>\n",
       "    </tr>\n",
       "  </thead>\n",
       "  <tbody>\n",
       "    <tr>\n",
       "      <th>0</th>\n",
       "      <td>0.0</td>\n",
       "      <td>0.0</td>\n",
       "      <td>0.0</td>\n",
       "      <td>0.0</td>\n",
       "      <td>0.0</td>\n",
       "    </tr>\n",
       "    <tr>\n",
       "      <th>1</th>\n",
       "      <td>NaN</td>\n",
       "      <td>NaN</td>\n",
       "      <td>3.0</td>\n",
       "      <td>16.0</td>\n",
       "      <td>1.0</td>\n",
       "    </tr>\n",
       "    <tr>\n",
       "      <th>2</th>\n",
       "      <td>NaN</td>\n",
       "      <td>NaN</td>\n",
       "      <td>NaN</td>\n",
       "      <td>NaN</td>\n",
       "      <td>NaN</td>\n",
       "    </tr>\n",
       "    <tr>\n",
       "      <th>3</th>\n",
       "      <td>3.0</td>\n",
       "      <td>4.0</td>\n",
       "      <td>21.0</td>\n",
       "      <td>18.0</td>\n",
       "      <td>3.0</td>\n",
       "    </tr>\n",
       "    <tr>\n",
       "      <th>4</th>\n",
       "      <td>NaN</td>\n",
       "      <td>NaN</td>\n",
       "      <td>NaN</td>\n",
       "      <td>NaN</td>\n",
       "      <td>4.0</td>\n",
       "    </tr>\n",
       "    <tr>\n",
       "      <th>5</th>\n",
       "      <td>NaN</td>\n",
       "      <td>NaN</td>\n",
       "      <td>NaN</td>\n",
       "      <td>NaN</td>\n",
       "      <td>5.0</td>\n",
       "    </tr>\n",
       "    <tr>\n",
       "      <th>6</th>\n",
       "      <td>6.0</td>\n",
       "      <td>0.0</td>\n",
       "      <td>12.0</td>\n",
       "      <td>18.0</td>\n",
       "      <td>6.0</td>\n",
       "    </tr>\n",
       "    <tr>\n",
       "      <th>7</th>\n",
       "      <td>0.0</td>\n",
       "      <td>8.0</td>\n",
       "      <td>13.0</td>\n",
       "      <td>12.0</td>\n",
       "      <td>0.0</td>\n",
       "    </tr>\n",
       "    <tr>\n",
       "      <th>8</th>\n",
       "      <td>0.0</td>\n",
       "      <td>9.0</td>\n",
       "      <td>14.0</td>\n",
       "      <td>10.0</td>\n",
       "      <td>8.0</td>\n",
       "    </tr>\n",
       "    <tr>\n",
       "      <th>9</th>\n",
       "      <td>0.0</td>\n",
       "      <td>0.0</td>\n",
       "      <td>0.0</td>\n",
       "      <td>0.0</td>\n",
       "      <td>9.0</td>\n",
       "    </tr>\n",
       "    <tr>\n",
       "      <th>10</th>\n",
       "      <td>NaN</td>\n",
       "      <td>NaN</td>\n",
       "      <td>NaN</td>\n",
       "      <td>NaN</td>\n",
       "      <td>10.0</td>\n",
       "    </tr>\n",
       "  </tbody>\n",
       "</table>\n",
       "</div>"
      ],
      "text/plain": [
       "     a1   a2    a3    a4    a5\n",
       "0   0.0  0.0   0.0   0.0   0.0\n",
       "1   NaN  NaN   3.0  16.0   1.0\n",
       "2   NaN  NaN   NaN   NaN   NaN\n",
       "3   3.0  4.0  21.0  18.0   3.0\n",
       "4   NaN  NaN   NaN   NaN   4.0\n",
       "5   NaN  NaN   NaN   NaN   5.0\n",
       "6   6.0  0.0  12.0  18.0   6.0\n",
       "7   0.0  8.0  13.0  12.0   0.0\n",
       "8   0.0  9.0  14.0  10.0   8.0\n",
       "9   0.0  0.0   0.0   0.0   9.0\n",
       "10  NaN  NaN   NaN   NaN  10.0"
      ]
     },
     "execution_count": 31,
     "metadata": {},
     "output_type": "execute_result"
    }
   ],
   "source": [
    "print(data_2)\n",
    "print()\n",
    "print(data.replace({-999: np.nan, -1000: 0}))\n",
    "print()\n",
    "data_2.replace({2: np.nan, 7: 0})\n"
   ]
  },
  {
   "cell_type": "markdown",
   "id": "2ae92fc7",
   "metadata": {
    "slideshow": {
     "slide_type": "slide"
    }
   },
   "source": [
    "El método `data.replace()` es distinto de `data.str.replace`, que realiza la sustitución de cadenas por elementos. Veremos estos métodos de cadena en Series más adelante."
   ]
  },
  {
   "cell_type": "markdown",
   "id": "c85a5f58",
   "metadata": {
    "slideshow": {
     "slide_type": "slide"
    }
   },
   "source": [
    "### Renombrar índices de ejes"
   ]
  },
  {
   "cell_type": "markdown",
   "id": "9b569f7c",
   "metadata": {},
   "source": [
    "Al igual que los valores de una Serie, las etiquetas de los ejes pueden transformarse de forma similar mediante una función o un mapeo (`mapping`) de algún tipo para producir nuevos objetos etiquetados de forma diferente. También puede modificar los ejes in situ sin crear una nueva estructura de datos. He aquí un ejemplo sencillo:"
   ]
  },
  {
   "cell_type": "code",
   "execution_count": 40,
   "id": "7a793a5f",
   "metadata": {
    "slideshow": {
     "slide_type": "slide"
    }
   },
   "outputs": [
    {
     "name": "stdout",
     "output_type": "stream",
     "text": [
      "          one  two  three  four\n",
      "Ohio        0    1      2     3\n",
      "Colorado    4    5      6     7\n",
      "New York    8    9     10    11\n",
      "\n"
     ]
    },
    {
     "data": {
      "text/html": [
       "<div>\n",
       "<style scoped>\n",
       "    .dataframe tbody tr th:only-of-type {\n",
       "        vertical-align: middle;\n",
       "    }\n",
       "\n",
       "    .dataframe tbody tr th {\n",
       "        vertical-align: top;\n",
       "    }\n",
       "\n",
       "    .dataframe thead th {\n",
       "        text-align: right;\n",
       "    }\n",
       "</style>\n",
       "<table border=\"1\" class=\"dataframe\">\n",
       "  <thead>\n",
       "    <tr style=\"text-align: right;\">\n",
       "      <th></th>\n",
       "      <th>one</th>\n",
       "      <th>two</th>\n",
       "      <th>three</th>\n",
       "    </tr>\n",
       "  </thead>\n",
       "  <tbody>\n",
       "    <tr>\n",
       "      <th>Camaguey</th>\n",
       "      <td>0</td>\n",
       "      <td>1</td>\n",
       "      <td>2</td>\n",
       "    </tr>\n",
       "    <tr>\n",
       "      <th>Ciego de Avila</th>\n",
       "      <td>3</td>\n",
       "      <td>4</td>\n",
       "      <td>5</td>\n",
       "    </tr>\n",
       "  </tbody>\n",
       "</table>\n",
       "</div>"
      ],
      "text/plain": [
       "                one  two  three\n",
       "Camaguey          0    1      2\n",
       "Ciego de Avila    3    4      5"
      ]
     },
     "execution_count": 40,
     "metadata": {},
     "output_type": "execute_result"
    }
   ],
   "source": [
    "import numpy as np\n",
    "import pandas as pd\n",
    "\n",
    "data = pd.DataFrame(np.arange(12).reshape((3, 4)),\n",
    "                    index=[\"Ohio\", \"Colorado\", \"New York\"],\n",
    "                    columns=[\"one\", \"two\", \"three\", \"four\"])\n",
    "\n",
    "data_3 = pd.DataFrame(np.arange(6).reshape((2, 3)),\n",
    "                    index=[\"Camaguey\", \"Ciego de Avila\"],\n",
    "                    columns=[\"one\", \"two\", \"three\"])\n",
    "                    \n",
    "print(data)\n",
    "print()\n",
    "data_3"
   ]
  },
  {
   "cell_type": "markdown",
   "id": "72e3b4e2",
   "metadata": {
    "slideshow": {
     "slide_type": "slide"
    }
   },
   "source": [
    "Al igual que una Serie, los índices de eje tienen un método `map`:"
   ]
  },
  {
   "cell_type": "code",
   "execution_count": 43,
   "id": "5c06f4ee",
   "metadata": {},
   "outputs": [
    {
     "name": "stdout",
     "output_type": "stream",
     "text": [
      "Index(['OHIO', 'COLO', 'NEW '], dtype='object')\n",
      "\n"
     ]
    },
    {
     "data": {
      "text/plain": [
       "Index(['CAMAG', 'CIEGO'], dtype='object')"
      ]
     },
     "execution_count": 43,
     "metadata": {},
     "output_type": "execute_result"
    }
   ],
   "source": [
    "import numpy as np\n",
    "import pandas as pd\n",
    "\n",
    "def transform(x):\n",
    "    return x[:4].upper()\n",
    "\n",
    "def transforma(x):\n",
    "    return x[:5].upper()\n",
    "\n",
    "\n",
    "\n",
    "print(data.index.map(transform))\n",
    "\n",
    "print()\n",
    "\n",
    "data_3.index.map(transforma)\n",
    "#Index(['OHIO', 'COLO', 'NEW '], dtype='object')"
   ]
  },
  {
   "cell_type": "code",
   "execution_count": 50,
   "id": "fbbcd845-e27c-49f9-994f-11886013a701",
   "metadata": {},
   "outputs": [
    {
     "data": {
      "text/html": [
       "<div>\n",
       "<style scoped>\n",
       "    .dataframe tbody tr th:only-of-type {\n",
       "        vertical-align: middle;\n",
       "    }\n",
       "\n",
       "    .dataframe tbody tr th {\n",
       "        vertical-align: top;\n",
       "    }\n",
       "\n",
       "    .dataframe thead th {\n",
       "        text-align: right;\n",
       "    }\n",
       "</style>\n",
       "<table border=\"1\" class=\"dataframe\">\n",
       "  <thead>\n",
       "    <tr style=\"text-align: right;\">\n",
       "      <th></th>\n",
       "      <th>one</th>\n",
       "      <th>two</th>\n",
       "      <th>three</th>\n",
       "      <th>four</th>\n",
       "    </tr>\n",
       "  </thead>\n",
       "  <tbody>\n",
       "    <tr>\n",
       "      <th>Ohio</th>\n",
       "      <td>0</td>\n",
       "      <td>1</td>\n",
       "      <td>2</td>\n",
       "      <td>3</td>\n",
       "    </tr>\n",
       "    <tr>\n",
       "      <th>Colorado</th>\n",
       "      <td>4</td>\n",
       "      <td>5</td>\n",
       "      <td>6</td>\n",
       "      <td>7</td>\n",
       "    </tr>\n",
       "    <tr>\n",
       "      <th>New York</th>\n",
       "      <td>8</td>\n",
       "      <td>9</td>\n",
       "      <td>10</td>\n",
       "      <td>11</td>\n",
       "    </tr>\n",
       "  </tbody>\n",
       "</table>\n",
       "</div>"
      ],
      "text/plain": [
       "          one  two  three  four\n",
       "Ohio        0    1      2     3\n",
       "Colorado    4    5      6     7\n",
       "New York    8    9     10    11"
      ]
     },
     "execution_count": 50,
     "metadata": {},
     "output_type": "execute_result"
    }
   ],
   "source": [
    "data"
   ]
  },
  {
   "cell_type": "markdown",
   "id": "bee8d15e",
   "metadata": {
    "slideshow": {
     "slide_type": "slide"
    }
   },
   "source": [
    "You can assign to the `index` attribute, modifying the DataFrame in place:"
   ]
  },
  {
   "cell_type": "code",
   "execution_count": 46,
   "id": "6bc3cb76",
   "metadata": {},
   "outputs": [
    {
     "name": "stdout",
     "output_type": "stream",
     "text": [
      "      one  two  three  four\n",
      "OHIO    0    1      2     3\n",
      "COLO    4    5      6     7\n",
      "NEW     8    9     10    11\n",
      "\n"
     ]
    },
    {
     "data": {
      "text/html": [
       "<div>\n",
       "<style scoped>\n",
       "    .dataframe tbody tr th:only-of-type {\n",
       "        vertical-align: middle;\n",
       "    }\n",
       "\n",
       "    .dataframe tbody tr th {\n",
       "        vertical-align: top;\n",
       "    }\n",
       "\n",
       "    .dataframe thead th {\n",
       "        text-align: right;\n",
       "    }\n",
       "</style>\n",
       "<table border=\"1\" class=\"dataframe\">\n",
       "  <thead>\n",
       "    <tr style=\"text-align: right;\">\n",
       "      <th></th>\n",
       "      <th>one</th>\n",
       "      <th>two</th>\n",
       "      <th>three</th>\n",
       "    </tr>\n",
       "  </thead>\n",
       "  <tbody>\n",
       "    <tr>\n",
       "      <th>CAMAG</th>\n",
       "      <td>0</td>\n",
       "      <td>1</td>\n",
       "      <td>2</td>\n",
       "    </tr>\n",
       "    <tr>\n",
       "      <th>CIEGO</th>\n",
       "      <td>3</td>\n",
       "      <td>4</td>\n",
       "      <td>5</td>\n",
       "    </tr>\n",
       "  </tbody>\n",
       "</table>\n",
       "</div>"
      ],
      "text/plain": [
       "       one  two  three\n",
       "CAMAG    0    1      2\n",
       "CIEGO    3    4      5"
      ]
     },
     "execution_count": 46,
     "metadata": {},
     "output_type": "execute_result"
    }
   ],
   "source": [
    "data.index = data.index.map(transform)\n",
    "print(data)\n",
    "\n",
    "print()\n",
    "\n",
    "data_3.index = data_3.index.map(transforma)\n",
    "\n",
    "data_3"
   ]
  },
  {
   "cell_type": "markdown",
   "id": "d42a10de",
   "metadata": {
    "slideshow": {
     "slide_type": "slide"
    }
   },
   "source": [
    "Si desea crear una versión transformada de un conjunto de datos sin modificar el original, un método útil es `rename`:\n"
   ]
  },
  {
   "cell_type": "code",
   "execution_count": 47,
   "id": "2cbfcb2d",
   "metadata": {},
   "outputs": [
    {
     "name": "stdout",
     "output_type": "stream",
     "text": [
      "      ONE  TWO  THREE  FOUR\n",
      "Ohio    0    1      2     3\n",
      "Colo    4    5      6     7\n",
      "New     8    9     10    11\n",
      "\n"
     ]
    },
    {
     "data": {
      "text/html": [
       "<div>\n",
       "<style scoped>\n",
       "    .dataframe tbody tr th:only-of-type {\n",
       "        vertical-align: middle;\n",
       "    }\n",
       "\n",
       "    .dataframe tbody tr th {\n",
       "        vertical-align: top;\n",
       "    }\n",
       "\n",
       "    .dataframe thead th {\n",
       "        text-align: right;\n",
       "    }\n",
       "</style>\n",
       "<table border=\"1\" class=\"dataframe\">\n",
       "  <thead>\n",
       "    <tr style=\"text-align: right;\">\n",
       "      <th></th>\n",
       "      <th>ONE</th>\n",
       "      <th>TWO</th>\n",
       "      <th>THREE</th>\n",
       "    </tr>\n",
       "  </thead>\n",
       "  <tbody>\n",
       "    <tr>\n",
       "      <th>Camag</th>\n",
       "      <td>0</td>\n",
       "      <td>1</td>\n",
       "      <td>2</td>\n",
       "    </tr>\n",
       "    <tr>\n",
       "      <th>Ciego</th>\n",
       "      <td>3</td>\n",
       "      <td>4</td>\n",
       "      <td>5</td>\n",
       "    </tr>\n",
       "  </tbody>\n",
       "</table>\n",
       "</div>"
      ],
      "text/plain": [
       "       ONE  TWO  THREE\n",
       "Camag    0    1      2\n",
       "Ciego    3    4      5"
      ]
     },
     "execution_count": 47,
     "metadata": {},
     "output_type": "execute_result"
    }
   ],
   "source": [
    "print(data.rename(index=str.title, columns=str.upper))\n",
    "\n",
    "print()\n",
    "\n",
    "data_3.rename(index=str.title, columns=str.upper)"
   ]
  },
  {
   "cell_type": "markdown",
   "id": "0343f119",
   "metadata": {
    "slideshow": {
     "slide_type": "slide"
    }
   },
   "source": [
    "En particular, renombrar puede utilizarse junto con un objeto tipo diccionario, proporcionando nuevos valores para un subconjunto de las etiquetas de los ejes:"
   ]
  },
  {
   "cell_type": "code",
   "execution_count": 53,
   "id": "4b4fe752",
   "metadata": {},
   "outputs": [
    {
     "data": {
      "text/html": [
       "<div>\n",
       "<style scoped>\n",
       "    .dataframe tbody tr th:only-of-type {\n",
       "        vertical-align: middle;\n",
       "    }\n",
       "\n",
       "    .dataframe tbody tr th {\n",
       "        vertical-align: top;\n",
       "    }\n",
       "\n",
       "    .dataframe thead th {\n",
       "        text-align: right;\n",
       "    }\n",
       "</style>\n",
       "<table border=\"1\" class=\"dataframe\">\n",
       "  <thead>\n",
       "    <tr style=\"text-align: right;\">\n",
       "      <th></th>\n",
       "      <th>one</th>\n",
       "      <th>two</th>\n",
       "      <th>tres</th>\n",
       "      <th>four</th>\n",
       "    </tr>\n",
       "  </thead>\n",
       "  <tbody>\n",
       "    <tr>\n",
       "      <th>Madrid</th>\n",
       "      <td>0</td>\n",
       "      <td>1</td>\n",
       "      <td>2</td>\n",
       "      <td>3</td>\n",
       "    </tr>\n",
       "    <tr>\n",
       "      <th>COLO</th>\n",
       "      <td>4</td>\n",
       "      <td>5</td>\n",
       "      <td>6</td>\n",
       "      <td>7</td>\n",
       "    </tr>\n",
       "    <tr>\n",
       "      <th>NEW</th>\n",
       "      <td>8</td>\n",
       "      <td>9</td>\n",
       "      <td>10</td>\n",
       "      <td>11</td>\n",
       "    </tr>\n",
       "  </tbody>\n",
       "</table>\n",
       "</div>"
      ],
      "text/plain": [
       "        one  two  tres  four\n",
       "Madrid    0    1     2     3\n",
       "COLO      4    5     6     7\n",
       "NEW       8    9    10    11"
      ]
     },
     "execution_count": 53,
     "metadata": {},
     "output_type": "execute_result"
    }
   ],
   "source": [
    "data.rename(index={\"OHIO\": \"Madrid\"},\n",
    "            columns={\"three\": \"tres\"})\n",
    "            "
   ]
  },
  {
   "cell_type": "markdown",
   "id": "b84960f9",
   "metadata": {
    "slideshow": {
     "slide_type": "slide"
    }
   },
   "source": [
    "### Discretización y `binning`"
   ]
  },
  {
   "cell_type": "markdown",
   "id": "01e7beb4-43d7-4603-9ac6-e0ad85f3ace4",
   "metadata": {},
   "source": [
    "La discretización y el binning son técnicas utilizadas en la preprocesamiento de datos para convertir datos continuos en discretos. Estas técnicas son útiles para reducir la variabilidad, agrupar datos similares y mejorar el rendimiento de algunos algoritmos de aprendizaje automático"
   ]
  },
  {
   "cell_type": "markdown",
   "id": "fb55d593-05fd-4b6c-a39c-79893c2ff476",
   "metadata": {},
   "source": [
    "### Discretización.  \n",
    "\n",
    "Es el proceso de convertir datos continuos en datos categóricos dividiendo el rango de valores continuos en intervalos (bins)."
   ]
  },
  {
   "cell_type": "markdown",
   "id": "6ac77705-ab94-427a-96f0-a85629e895f8",
   "metadata": {},
   "source": [
    "### Binning (Agrupación por intervalos)\n",
    "El `binning` es una técnica de discretización que agrupa los datos en intervalos, o `\"bins\"`.  \n",
    "Hay varios métodos para hacer `binning` en pandas, como el binning por frecuencia, el binning por longitud de intervalo y el binning basado en la cuantilación (por ejemplo Cuartil)."
   ]
  },
  {
   "cell_type": "markdown",
   "id": "199ee9bf",
   "metadata": {},
   "source": [
    "Los datos continuos suelen discretizarse o separarse en \"intervalos\" (bins) para su análisis. Supongamos que se dispone de datos sobre un grupo de personas en un estudio y desea agruparlas en grupos de edad discretos:"
   ]
  },
  {
   "cell_type": "code",
   "execution_count": 5,
   "id": "a8a77593",
   "metadata": {
    "slideshow": {
     "slide_type": "slide"
    }
   },
   "outputs": [],
   "source": [
    "import numpy as np\n",
    "import pandas as pd\n",
    "\n",
    "ages = [20, 22, 25, 27, 21, 23, 37, 31, 61, 45, 41, 32]\n",
    "\n",
    "ages1 = [20, 22, 25, 27, 50]\n"
   ]
  },
  {
   "cell_type": "markdown",
   "id": "0b89cfbf",
   "metadata": {},
   "source": [
    "Vamos a dividirlos en franjas (bins) de 18 a 25, de 26 a 35, de 36 a 60 y, por último, de 61 años en adelante. Para ello, hay que utilizar `pandas.cut`:"
   ]
  },
  {
   "cell_type": "code",
   "execution_count": 7,
   "id": "933a5fe8",
   "metadata": {
    "slideshow": {
     "slide_type": "slide"
    }
   },
   "outputs": [],
   "source": [
    "import numpy as np\n",
    "import pandas as pd\n",
    "\n",
    "bins = [18, 25, 35, 60, 100]\n",
    "\n",
    "bins1 = [10, 40, 70]"
   ]
  },
  {
   "cell_type": "code",
   "execution_count": 8,
   "id": "77f76b44",
   "metadata": {},
   "outputs": [],
   "source": [
    "age_categories = pd.cut(ages, bins)\n",
    "\n",
    "age_categories1 = pd.cut(ages1, bins1)"
   ]
  },
  {
   "cell_type": "code",
   "execution_count": 9,
   "id": "738fa65f",
   "metadata": {
    "slideshow": {
     "slide_type": "slide"
    }
   },
   "outputs": [
    {
     "name": "stdout",
     "output_type": "stream",
     "text": [
      "[(18, 25], (18, 25], (18, 25], (25, 35], (18, 25], ..., (25, 35], (60, 100], (35, 60], (35, 60], (25, 35]]\n",
      "Length: 12\n",
      "Categories (4, interval[int64, right]): [(18, 25] < (25, 35] < (35, 60] < (60, 100]]\n",
      "\n",
      "[(10, 40], (10, 40], (10, 40], (10, 40], (40, 70]]\n",
      "Categories (2, interval[int64, right]): [(10, 40] < (40, 70]]\n"
     ]
    }
   ],
   "source": [
    "import numpy as np\n",
    "import pandas as pd\n",
    "\n",
    "print(age_categories)\n",
    "\n",
    "print()\n",
    "\n",
    "print(age_categories1)"
   ]
  },
  {
   "cell_type": "markdown",
   "id": "ff4ad42a",
   "metadata": {
    "slideshow": {
     "slide_type": "slide"
    }
   },
   "source": [
    "El objeto que pandas devuelve es un objeto `Categorical` especial. La salida que se ve describe los bins calculados por `pandas.cut`. Cada bin se identifica por un tipo de valor de intervalo especial (único en pandas) que contiene el límite inferior y superior de cada bin:"
   ]
  },
  {
   "cell_type": "code",
   "execution_count": 10,
   "id": "5b3b4561",
   "metadata": {
    "slideshow": {
     "slide_type": "slide"
    }
   },
   "outputs": [
    {
     "name": "stdout",
     "output_type": "stream",
     "text": [
      "[0 0 0 1 0 0 2 1 3 2 2 1]\n",
      "\n"
     ]
    },
    {
     "data": {
      "text/plain": [
       "array([0, 0, 0, 0, 1], dtype=int8)"
      ]
     },
     "execution_count": 10,
     "metadata": {},
     "output_type": "execute_result"
    }
   ],
   "source": [
    "print(age_categories.codes)\n",
    "print()\n",
    "\n",
    "\n",
    "age_categories1.codes\n"
   ]
  },
  {
   "cell_type": "code",
   "execution_count": 11,
   "id": "ed733027",
   "metadata": {
    "slideshow": {
     "slide_type": "slide"
    }
   },
   "outputs": [
    {
     "data": {
      "text/plain": [
       "IntervalIndex([(18, 25], (25, 35], (35, 60], (60, 100]], dtype='interval[int64, right]')"
      ]
     },
     "execution_count": 11,
     "metadata": {},
     "output_type": "execute_result"
    }
   ],
   "source": [
    "age_categories.categories"
   ]
  },
  {
   "cell_type": "code",
   "execution_count": 12,
   "id": "16c7489a",
   "metadata": {
    "slideshow": {
     "slide_type": "slide"
    }
   },
   "outputs": [
    {
     "name": "stdout",
     "output_type": "stream",
     "text": [
      "(18, 25]\n",
      "\n",
      "(40, 70]\n"
     ]
    }
   ],
   "source": [
    "print(age_categories.categories[0])\n",
    "print()\n",
    "print(age_categories1.categories[1])\n"
   ]
  },
  {
   "cell_type": "code",
   "execution_count": 13,
   "id": "7d76801a",
   "metadata": {
    "slideshow": {
     "slide_type": "slide"
    }
   },
   "outputs": [
    {
     "name": "stdout",
     "output_type": "stream",
     "text": [
      "\n"
     ]
    },
    {
     "name": "stderr",
     "output_type": "stream",
     "text": [
      "C:\\Users\\CursosTardes\\AppData\\Local\\Temp\\ipykernel_10656\\2752612771.py:4: FutureWarning: pandas.value_counts is deprecated and will be removed in a future version. Use pd.Series(obj).value_counts() instead.\n",
      "  pd.value_counts(age_categories)\n",
      "C:\\Users\\CursosTardes\\AppData\\Local\\Temp\\ipykernel_10656\\2752612771.py:6: FutureWarning: pandas.value_counts is deprecated and will be removed in a future version. Use pd.Series(obj).value_counts() instead.\n",
      "  pd.value_counts(age_categories1)\n"
     ]
    },
    {
     "data": {
      "text/plain": [
       "(10, 40]    4\n",
       "(40, 70]    1\n",
       "Name: count, dtype: int64"
      ]
     },
     "execution_count": 13,
     "metadata": {},
     "output_type": "execute_result"
    }
   ],
   "source": [
    "import numpy as np\n",
    "import pandas as pd\n",
    "\n",
    "pd.value_counts(age_categories)\n",
    "print()\n",
    "pd.value_counts(age_categories1)\n"
   ]
  },
  {
   "cell_type": "markdown",
   "id": "f93d8e0b",
   "metadata": {
    "slideshow": {
     "slide_type": "slide"
    }
   },
   "source": [
    "Tenga en cuenta que `pd.value_counts(categories)` son los recuentos bin del resultado de `pandas.cut`.\n",
    "\n",
    "En la representación de cadena de un intervalo, un paréntesis significa que el lado está abierto (excluyente), mientras que el corchete significa que está cerrado (incluyente). Puede cambiar el lado cerrado pasando `right=False`"
   ]
  },
  {
   "cell_type": "code",
   "execution_count": 62,
   "id": "8c73c08e",
   "metadata": {
    "slideshow": {
     "slide_type": "slide"
    }
   },
   "outputs": [
    {
     "data": {
      "text/plain": [
       "[[18, 25), [18, 25), [25, 35), [25, 35), [18, 25), ..., [25, 35), [60, 100), [35, 60), [35, 60), [25, 35)]\n",
       "Length: 12\n",
       "Categories (4, interval[int64, left]): [[18, 25) < [25, 35) < [35, 60) < [60, 100)]"
      ]
     },
     "execution_count": 62,
     "metadata": {},
     "output_type": "execute_result"
    }
   ],
   "source": [
    "pd.cut(ages, bins, right=False)"
   ]
  },
  {
   "cell_type": "markdown",
   "id": "8f3fe71b",
   "metadata": {
    "slideshow": {
     "slide_type": "slide"
    }
   },
   "source": [
    "Puede anular el etiquetado de contenedores por defecto basado en intervalos pasando una lista o array a la opción `labels`:"
   ]
  },
  {
   "cell_type": "code",
   "execution_count": 20,
   "id": "e7db305e",
   "metadata": {},
   "outputs": [
    {
     "name": "stdout",
     "output_type": "stream",
     "text": [
      "['Youth', 'Youth', 'Youth', 'YoungAdult', 'Youth', ..., 'YoungAdult', 'Senior', 'MiddleAged', 'MiddleAged', 'YoungAdult']\n",
      "Length: 12\n",
      "Categories (4, object): ['Youth' < 'YoungAdult' < 'MiddleAged' < 'Senior']\n",
      "\n",
      "['Pancho', 'Pancho', 'Pancho', 'Pancho', 'Pancho', ..., 'Juan', 'Pedro', 'Pedro', 'Jose', 'Jose']\n",
      "Length: 11\n",
      "Categories (4, object): ['Pancho' < 'Juan' < 'Pedro' < 'Jose']\n"
     ]
    }
   ],
   "source": [
    "import numpy as np\n",
    "import pandas as pd\n",
    "\n",
    "group_names = [\"Youth\", \"YoungAdult\", \"MiddleAged\", \"Senior\"]\n",
    "\n",
    "a= [1, 2, 3, 4, 6, 10, 11, 12, 13, 18, 20]\n",
    "b= [0, 6, 11, 16, 21]\n",
    "\n",
    "group_names1 = [\"Pancho\", \"Juan\", \"Pedro\",\"Jose\"]\n",
    "\n",
    "print(pd.cut(ages, bins, labels=group_names))\n",
    "print()\n",
    "print(pd.cut(a,b,labels=group_names1))\n"
   ]
  },
  {
   "cell_type": "markdown",
   "id": "27343225",
   "metadata": {
    "slideshow": {
     "slide_type": "slide"
    }
   },
   "source": [
    "Consideremos el caso de unos datos distribuidos uniformemente y cortados en cuartos:"
   ]
  },
  {
   "cell_type": "code",
   "execution_count": 21,
   "id": "8af197a7",
   "metadata": {
    "slideshow": {
     "slide_type": "slide"
    }
   },
   "outputs": [
    {
     "name": "stdout",
     "output_type": "stream",
     "text": [
      "[0.78229492 0.26590622 0.60060428 0.32190894 0.39227668 0.70620353\n",
      " 0.52830272 0.27587433 0.24833378 0.56654884 0.56926241 0.24874702\n",
      " 0.6784947  0.54235923 0.22562541 0.33864115 0.83672622 0.72809618\n",
      " 0.61652857 0.3669341 ]\n",
      "\n",
      "[0.5377502  0.74320368 0.05003486 0.96072008 0.73554941 0.36886272\n",
      " 0.69287283 0.47664719 0.11905325 0.58026402 0.85586389 0.02564636\n",
      " 0.01044199 0.16168726 0.74254503 0.11475227 0.43006435 0.87980177\n",
      " 0.41614008 0.77290541 0.70641318 0.74341307 0.06571017 0.41275176\n",
      " 0.15548998 0.0585598  0.88806531 0.76452403 0.22160616 0.20867288\n",
      " 0.02886261 0.2006483  0.24232632 0.14909658 0.52180801 0.33860993\n",
      " 0.65033448 0.08575906 0.81082445 0.7330281 ]\n"
     ]
    }
   ],
   "source": [
    "data = np.random.uniform(size=20)\n",
    "print(data)\n",
    "print()\n",
    "data_4 = np.random.uniform(size=40)\n",
    "print(data_4)\n"
   ]
  },
  {
   "cell_type": "code",
   "execution_count": 22,
   "id": "65d57ed2",
   "metadata": {
    "slideshow": {
     "slide_type": "slide"
    }
   },
   "outputs": [
    {
     "name": "stdout",
     "output_type": "stream",
     "text": [
      "[(0.68, 0.84], (0.23, 0.38], (0.53, 0.68], (0.23, 0.38], (0.38, 0.53], ..., (0.23, 0.38], (0.68, 0.84], (0.68, 0.84], (0.53, 0.68], (0.23, 0.38]]\n",
      "Length: 20\n",
      "Categories (4, interval[float64, right]): [(0.23, 0.38] < (0.38, 0.53] < (0.53, 0.68] < (0.68, 0.84]]\n",
      "\n",
      "[(0.49, 0.72], (0.72, 0.96], (0.0095, 0.25], (0.72, 0.96], (0.72, 0.96], ..., (0.25, 0.49], (0.49, 0.72], (0.0095, 0.25], (0.72, 0.96], (0.72, 0.96]]\n",
      "Length: 40\n",
      "Categories (4, interval[float64, right]): [(0.0095, 0.25] < (0.25, 0.49] < (0.49, 0.72] < (0.72, 0.96]]\n"
     ]
    }
   ],
   "source": [
    "print(pd.cut(data, 4, precision=2))\n",
    "print()\n",
    "print(pd.cut(data_4, 4, precision=2))\n"
   ]
  },
  {
   "cell_type": "markdown",
   "id": "a7eb5a45",
   "metadata": {
    "slideshow": {
     "slide_type": "slide"
    }
   },
   "source": [
    "La opción `precision=2` limita la precisión decimal a dos dígitos distintos de cero."
   ]
  },
  {
   "cell_type": "markdown",
   "id": "0f87101c",
   "metadata": {
    "slideshow": {
     "slide_type": "slide"
    }
   },
   "source": [
    "Una función estrechamente relacionada, `pandas.qcut`, separa los datos basándose en los cuantiles de la muestra. Dependiendo de la distribución de los datos, el uso de `pandas.cut` no siempre resultará en que cada contenedor tenga el mismo número de puntos de datos. Dado que `pandas.qcut` utiliza los cuantiles de la muestra en su lugar, obtendrá intervalos de tamaño más o menos igual:"
   ]
  },
  {
   "cell_type": "code",
   "execution_count": 24,
   "id": "f0fba8be",
   "metadata": {
    "slideshow": {
     "slide_type": "slide"
    }
   },
   "outputs": [
    {
     "name": "stdout",
     "output_type": "stream",
     "text": [
      "[-9.22419675e-01 -7.58845414e-01 -6.11030218e-02 -2.89811435e-02\n",
      " -4.76265027e-01 -9.09324771e-01 -2.54208187e-01 -9.69504864e-01\n",
      " -8.37639844e-01  9.91373292e-01  1.29153610e+00 -9.04922243e-01\n",
      "  1.08251538e+00 -6.46260635e-01 -4.90381779e-02 -5.32130464e-01\n",
      "  5.01062207e-01  5.05703194e-01  8.22892517e-01 -4.78762468e-01\n",
      " -1.01469512e+00  3.04294061e+00 -1.63182439e+00  1.52942749e+00\n",
      " -2.50578964e-01 -5.66054232e-01 -1.62970552e+00  9.97131509e-01\n",
      "  9.13446246e-01 -3.78446642e-01 -7.57998523e-01  4.25333029e-01\n",
      " -4.54062613e-01  4.90592766e-01  9.91323022e-01  4.99838786e-01\n",
      "  6.89280534e-01  4.76492510e-01  2.83218969e-01 -4.60837025e-01\n",
      "  2.47087166e-01  5.95488033e-01 -1.52947827e-01  4.43368832e-01\n",
      "  7.15189207e-01  7.18528460e-01 -1.07198850e+00 -5.12020854e-01\n",
      " -4.32407821e-02  2.21165040e+00 -1.12047793e+00  5.01523234e-01\n",
      " -1.83418461e+00  2.19546726e-01  1.34269802e+00  8.26341122e-01\n",
      "  1.30872247e+00 -5.33425860e-01  3.93068845e-01 -1.29550256e-01\n",
      " -2.01437577e+00 -8.09178875e-01 -2.25271999e-01  5.08317884e-01\n",
      " -3.54027624e-01  1.38910092e+00  4.78049757e-01  1.30162623e+00\n",
      "  8.75607942e-01 -2.63122005e+00 -2.39451829e+00 -4.13698728e-01\n",
      "  3.52811940e-01 -5.18646228e-02  1.68028939e-01  3.17286736e-01\n",
      " -4.71902072e-01  2.14967366e-01  3.31452399e-01  9.48250818e-01\n",
      " -6.57723739e-01  5.19435898e-01  7.85891851e-01 -9.35843415e-01\n",
      "  3.50064758e-02 -3.83255651e-01  1.51199013e-01 -3.13403939e-01\n",
      "  6.27557698e-01  1.78101835e+00 -5.91186252e-01  3.09521089e-02\n",
      " -7.01758421e-01  5.71686069e-02 -4.40967484e-01  5.51881993e-01\n",
      "  1.76694797e+00 -4.12597413e-01 -4.40219170e-01 -4.02980830e-01\n",
      " -4.75989290e-01  7.09099792e-01 -1.00643190e-01  1.50392625e+00\n",
      " -2.23471414e+00  1.99288832e+00 -4.75169370e-01  2.59241924e+00\n",
      "  9.90673124e-01  7.59858695e-01  2.08704241e+00 -1.39076824e+00\n",
      "  5.63074257e-01 -5.12335260e-01  5.63858693e-01  2.83940939e-01\n",
      " -1.40541274e+00 -8.25163122e-01  1.23687727e+00  5.15763352e-03\n",
      " -3.99462739e-01 -1.13328259e+00 -1.22764669e+00 -1.25595357e-01\n",
      " -3.95478211e-01  5.71747812e-01  2.65559874e-02  6.37868096e-01\n",
      " -8.99245141e-01 -5.55898513e-01 -2.55479484e-01  9.88320540e-01\n",
      "  1.19173549e+00 -1.04387391e+00 -1.65862587e+00  2.03610025e-01\n",
      "  1.88346303e+00 -2.41130102e+00  3.72376508e-01  5.96003385e-01\n",
      "  5.10467074e-01  5.12245101e-01 -7.11279797e-01 -3.73648749e-01\n",
      " -1.25430870e+00  5.80185245e-01  9.55158842e-01 -2.20160958e-01\n",
      "  7.90572390e-01 -3.30338263e-01 -4.93070492e-01  4.46917599e-01\n",
      " -1.52891845e+00  8.77800550e-01  3.24854402e-01  4.03359474e-01\n",
      " -2.80389952e-01  5.98356702e-01  1.08427269e+00 -1.77680134e-01\n",
      " -9.74517738e-02  8.28880139e-01 -6.54157692e-02 -5.18015494e-01\n",
      " -8.64952249e-01 -1.11835648e+00 -8.37035748e-01 -3.28966554e-01\n",
      "  5.42505716e-01  3.37154514e-01 -1.63701364e-02  1.58279309e+00\n",
      "  2.17306822e+00 -7.81793534e-01 -7.59580844e-01 -1.65100162e+00\n",
      "  4.13460838e-01 -1.10444952e+00 -1.91650986e-03  1.03429388e+00\n",
      "  4.80933327e-02 -3.39512176e-01 -1.61094069e+00 -1.89691622e-01\n",
      " -2.33569817e+00 -8.45003057e-01 -3.74402933e-01  4.93901942e-01\n",
      "  9.68698911e-01 -7.90562543e-02  6.17804253e-01  7.12855617e-01\n",
      "  1.82066962e+00 -3.71301894e-01  1.15921432e+00  8.26811001e-02\n",
      "  5.82260948e-01 -2.13820001e-03  8.18428598e-01  1.72062808e+00\n",
      "  1.09623098e+00 -1.06754069e-01 -7.30709974e-01  1.73291564e+00\n",
      " -2.85677848e-01  1.55510850e+00 -1.23141994e+00 -3.65354632e-01\n",
      " -4.01003906e-01 -1.25228533e-01  9.74729178e-01 -5.93990073e-01\n",
      "  1.03108977e+00  2.77532011e+00  4.53342809e-02  6.80354044e-01\n",
      "  7.63095324e-01 -2.09274691e+00  3.47349587e-02 -3.19141397e-01\n",
      " -5.83833548e-01 -7.56894757e-01  1.07252908e+00  9.62472118e-01\n",
      "  2.70756531e-02  1.01128756e-02 -8.91100442e-01  2.16540038e-01\n",
      " -6.30550578e-01  1.67680114e-01 -5.32752771e-01  6.04052198e-01\n",
      "  4.79040460e-01 -1.37446327e+00 -4.05222255e-01 -8.27404877e-01\n",
      " -4.66866535e-01 -7.01849896e-01 -1.34309212e+00 -6.26108070e-03\n",
      " -7.45571404e-01  1.56477348e-01 -1.55436140e+00 -2.09713204e-01\n",
      "  1.19010574e+00 -1.55106164e+00 -1.24500051e+00 -2.94776668e-01\n",
      "  2.09039016e+00  9.06471515e-01 -3.78655297e-01 -2.67604780e-01\n",
      " -1.13243434e+00  8.94294545e-01 -2.14662070e-01 -1.19751660e-01\n",
      "  1.93035799e-01  6.65405520e-01 -7.71408761e-02  1.83020101e-01\n",
      " -6.16504384e-01  1.06785776e+00 -1.10161741e-01 -6.79156855e-01\n",
      "  1.81613592e+00 -3.53803114e-01 -1.22805873e+00 -4.78053284e-02\n",
      " -1.20784779e+00  6.53921687e-01  9.95816333e-01  1.13588976e+00\n",
      " -3.69222354e-01  1.28915240e-01  2.23846129e-01 -2.85079448e-01\n",
      " -8.75404682e-01 -1.38725410e+00  9.34665541e-01  1.37099598e-01\n",
      "  1.71358359e+00 -1.35557383e+00  2.68378180e-01 -8.56100864e-01\n",
      " -1.46152402e+00  2.22543778e-01  1.14053175e+00  8.34587768e-01\n",
      " -1.59830183e-01  6.50586519e-01 -3.58674004e-01 -9.52210767e-01\n",
      "  2.65078981e+00 -9.01873610e-01 -2.28231419e-01  7.50812531e-01\n",
      "  6.81736942e-01  1.52752015e+00  1.22868400e+00 -6.73639395e-01\n",
      "  2.77414005e-01  6.67911160e-01 -3.65386439e-01 -6.60666441e-01\n",
      "  9.28507437e-01  7.42343954e-01  1.12533578e+00 -1.62939160e-01\n",
      " -6.94692896e-01  1.10600830e+00  1.84424123e+00  1.82799958e+00\n",
      "  6.98711422e-01 -4.97358188e-01 -2.63803146e-01  4.85006236e-01\n",
      " -1.49432021e+00  3.18666389e-01 -9.71594744e-01  3.22106383e-01\n",
      " -6.07269103e-01  4.56732216e-01  1.11934544e+00  6.94013257e-01\n",
      " -9.27299865e-01 -3.32240989e-01 -1.06360427e+00 -2.67078640e-01\n",
      "  8.39837234e-01 -2.44669924e+00 -4.33651255e-01  7.50261788e-02\n",
      "  2.55016069e-01  6.03431978e-01  9.39503319e-01 -1.32918413e+00\n",
      " -1.20726926e+00 -1.88717913e+00 -5.31217381e-01  1.04177104e+00\n",
      "  4.06089479e-01  2.58246197e-01  1.12718212e+00 -4.08581429e-01\n",
      " -6.07234323e-01 -5.15034631e-02 -1.48943667e+00  2.05947643e+00\n",
      "  9.34007826e-01  5.07666406e-01  4.74234243e-01  2.82403118e+00\n",
      " -4.99706929e-01 -2.38489412e+00  1.26356650e+00 -9.39799428e-01\n",
      "  8.70817057e-01  1.13795207e+00  1.28971550e+00 -1.20879423e+00\n",
      " -6.70040979e-01 -1.93741981e+00  1.21950671e+00 -4.58428907e-01\n",
      "  2.48663622e-02  1.74888918e+00 -4.34136847e-01  3.97233307e-01\n",
      " -1.55715854e+00  2.63030712e-01  2.78058972e-01  8.62213162e-01\n",
      " -7.11156387e-01 -9.93038063e-01 -5.18115309e-01 -6.18821822e-01\n",
      "  5.52056193e-01 -5.98383139e-01 -8.64356467e-02 -7.57523305e-01\n",
      "  2.08008507e+00  6.74532307e-01  1.04638620e+00  3.54804864e-02\n",
      "  7.13468813e-02 -7.61811061e-02 -9.83514835e-01  8.76163154e-01\n",
      " -9.60137210e-01  8.70960372e-01 -3.34114679e-01 -1.15958541e+00\n",
      "  4.80340849e-01  5.68864449e-01 -5.14262981e-01 -3.66922458e-01\n",
      " -6.94270453e-01  1.86976870e+00 -5.52833734e-02  1.66206523e+00\n",
      " -4.08869163e-01  6.05793715e-01  1.27101898e-01  6.69722677e-01\n",
      "  8.82213319e-01  1.21800396e+00  1.80808900e-01 -9.77422016e-01\n",
      "  5.58557299e-01 -1.23788108e+00 -4.34931442e-01  9.92159138e-02\n",
      " -9.67499756e-01  1.02475670e+00 -7.99197832e-01  1.15482778e+00\n",
      "  1.65325956e+00 -5.14559947e-01 -2.94429105e+00 -2.85758103e-01\n",
      "  2.63440778e-01 -2.68472045e-01  1.02854242e+00  7.15861343e-01\n",
      "  1.00084147e-02  1.99341635e-01  4.69204481e-01  8.72194150e-01\n",
      "  2.29835355e+00  1.54075360e+00 -3.95364920e-01 -2.61416384e-02\n",
      " -1.22429171e+00  1.44518179e+00  7.56806970e-01 -1.31568141e+00\n",
      "  6.74134507e-01  6.25269541e-02  1.05477118e-01  8.59713933e-01\n",
      "  1.11310801e-01  1.95710932e+00  1.42518435e+00 -2.04882982e+00\n",
      " -4.32308990e-02 -3.65912000e-01 -1.78556393e-02  1.01663602e+00\n",
      "  1.43364798e+00 -7.02368962e-01  2.77437355e+00 -1.95081449e+00\n",
      " -2.33322378e+00  8.96637065e-01 -1.24831774e+00  2.78083609e+00\n",
      "  4.17596296e-01  4.67140726e-01  4.14595677e-01 -2.79360970e-02\n",
      "  1.29574322e+00  3.06303857e-01 -1.50256218e+00 -4.12911933e-01\n",
      " -1.17688256e+00 -1.19440587e+00  5.05150277e-01 -5.93235518e-01\n",
      " -5.12422884e-01 -6.35857353e-02  2.73188245e-01  6.42517118e-01\n",
      "  9.17909786e-01  8.39963957e-01  1.93747022e+00  1.22856827e+00\n",
      " -3.02260102e-01  2.27016062e-01  1.01854350e+00 -1.07393346e+00\n",
      " -2.19157806e+00  1.45674383e+00  1.25965596e+00 -1.59829366e+00\n",
      "  1.65101482e+00 -4.51275261e-01  3.32138920e-01  1.17106210e-01\n",
      " -2.03734385e-01  4.02480000e-01 -1.94898856e-01  9.87745329e-02\n",
      " -2.08731009e+00  3.91571549e-01  1.01544091e+00 -1.51215603e+00\n",
      " -7.93363773e-01  6.58043434e-01  1.01503221e+00  5.00860055e-01\n",
      " -1.14506256e+00  6.32243982e-01 -7.88675434e-01 -8.72173183e-01\n",
      "  8.53835914e-02 -3.49975406e-01  7.13170981e-01 -8.55679297e-02\n",
      " -1.15596718e-01  1.72568918e+00  1.49150933e+00  1.38940967e+00\n",
      "  5.85324905e-01  1.58202297e-01  1.96408977e-01 -9.86508255e-01\n",
      " -4.46029464e-01 -1.19972585e+00  4.61662642e-01  6.94645323e-01\n",
      "  5.06900416e-01  1.13365482e+00  6.39414665e-01 -1.04064501e+00\n",
      "  3.19020326e-01 -5.88296162e-01 -1.10223199e+00  7.87731731e-01\n",
      " -7.31308170e-01  5.66426266e-01  7.82483955e-01 -1.36146959e+00\n",
      " -1.65072514e+00  7.77639616e-01  4.52526905e-01 -3.50247877e-02\n",
      "  1.21244250e+00 -1.07763988e+00 -6.09520808e-02 -2.26598058e+00\n",
      "  1.43636601e+00  2.66201280e-01 -1.62420529e+00 -1.14270651e-01\n",
      "  1.12151789e+00  1.09698349e+00  2.03893603e+00  1.19152036e-02\n",
      "  4.17458084e-01  1.11760748e+00  3.65702110e-02  1.66727516e-01\n",
      "  1.12964254e-02 -1.30228703e+00 -9.61798673e-02  5.97974047e-01\n",
      "  6.49482620e-01 -3.25188635e-01 -2.36414062e-01  2.51834320e-01\n",
      " -3.96332251e-01 -2.10424476e-01 -2.43404898e+00  1.39652620e+00\n",
      " -1.03478377e+00 -2.27899567e+00  1.19150461e-01 -1.91325620e+00\n",
      "  4.70035421e-01 -7.51782528e-01  3.28543042e-02 -1.32088569e+00\n",
      " -7.83720348e-01  2.10381381e-01  4.21049367e-01  7.26880489e-01\n",
      " -2.47722115e-01  2.82242485e-01 -9.27371355e-01 -1.02310146e+00\n",
      "  5.48247431e-01  1.75773515e+00 -1.38698255e+00  7.87179768e-01\n",
      " -3.60927205e-01  3.56843637e-02  2.05834888e-01 -3.50022606e-01\n",
      " -1.88192133e-01  2.61971166e-01  1.38672859e-02 -5.28887936e-01\n",
      " -4.47963049e-01  4.71694441e-01 -1.13088083e+00  6.62989970e-01\n",
      " -2.82982313e-01 -8.63396331e-01 -1.31508532e-01 -3.45977976e-01\n",
      "  3.45436008e-02  3.96087052e-01 -2.87851846e-01  2.47634587e-01\n",
      "  7.79848044e-01  6.86717685e-01 -1.94150822e-01 -9.20276107e-01\n",
      "  1.11426869e+00 -1.32205068e+00 -1.29634273e+00  3.47101890e-01\n",
      " -6.90744182e-01  7.66808075e-01  1.34294662e+00 -8.59306747e-02\n",
      " -4.54786766e-01 -6.32220557e-01 -6.52975107e-01 -2.84811422e-01\n",
      "  3.47356140e-02 -6.08309265e-01  2.19589423e-01  1.58691482e+00\n",
      "  2.46348422e+00 -3.91663152e-01  1.21717600e+00 -3.33829850e-02\n",
      "  1.22322775e+00  1.24471483e-01 -1.15047783e+00  1.05805707e-01\n",
      "  1.11388701e+00 -1.69602474e+00  6.10394940e-01  1.00830902e+00\n",
      "  5.26007597e-02 -1.46657490e+00 -4.29632189e-01  1.29850686e+00\n",
      "  7.04454658e-01 -4.21050097e-01  4.78843528e-01 -2.42536781e+00\n",
      "  2.51880820e-01 -2.92469450e-03 -2.51331921e-01  1.46865994e+00\n",
      "  9.98219336e-01 -1.99401757e+00  5.72584098e-02  1.53434297e-01\n",
      " -3.55995125e-01  1.07396469e+00  1.31941828e+00 -7.45197067e-02\n",
      " -1.52109936e+00 -1.19252318e+00 -9.89756381e-01 -2.68568026e-01\n",
      "  1.92754875e+00 -8.40406713e-02  3.80892188e-01  1.08350582e+00\n",
      " -1.03076912e+00 -3.78734233e-01  8.08271484e-01  4.25686086e-01\n",
      " -1.83700695e-01  4.83735994e-01 -2.37978734e-01  1.59043169e+00\n",
      " -8.22060477e-01 -4.17459493e-01  4.28092864e-02 -7.25392337e-01\n",
      "  5.55319274e-01 -9.04341429e-01 -2.41387841e-01  5.58951803e-01\n",
      "  4.17372926e-01 -2.26384741e-01  5.29768056e-01 -8.63174621e-01\n",
      " -6.73768558e-01  5.39839333e-01  8.99216278e-01  3.48706974e-01\n",
      " -1.11044942e+00 -5.43963485e-01 -2.18925740e-01 -8.34728064e-01\n",
      "  9.32381171e-01  3.29792018e-02 -1.18753156e+00  5.83382225e-01\n",
      "  1.22066248e+00  1.63420967e+00 -1.80410393e-01  6.36162581e-01\n",
      "  1.49106409e-01  1.67829397e+00  2.91848149e-01  1.44414355e+00\n",
      " -3.91015156e-03 -6.21883011e-01 -3.79179084e-01 -8.74592724e-01\n",
      " -1.05883417e+00  5.94847542e-01  7.81070295e-01 -1.80680494e+00\n",
      " -1.52805502e-01  7.05895662e-01  2.51607171e-01 -8.96371177e-02\n",
      " -5.81434125e-01  3.05000908e-01 -1.52958356e+00  1.13404029e+00\n",
      " -2.62401980e-01 -6.02274574e-01  9.97057097e-01 -8.84568669e-02\n",
      "  9.99090611e-01 -4.23787255e-01 -1.10328493e-01  5.05034569e-01\n",
      " -4.88898912e-01  3.63709313e-01  3.21593907e+00  1.12515284e+00\n",
      "  1.32535741e+00 -9.43125045e-01 -1.05920255e-01  2.22216179e+00\n",
      " -1.41574938e+00  1.12073952e+00  4.19523879e-01 -1.91214624e-01\n",
      " -2.97296720e-01 -1.50464442e+00 -1.42151340e+00 -5.48214500e-01\n",
      "  6.42488698e-01 -1.21124169e+00  1.57672059e+00 -1.20797366e+00\n",
      "  5.72106826e-01  1.88086800e-01 -1.59647555e+00 -3.47381212e-01\n",
      "  4.93695907e-01 -3.39887441e-01 -4.53984281e-01 -3.49878256e-02\n",
      " -1.86619113e-01 -7.68917443e-01 -5.62603925e-01 -7.51025809e-01\n",
      "  2.63285625e-01  2.40471189e+00 -9.86691753e-01 -7.20993261e-01\n",
      " -5.42347246e-02  2.46247009e+00 -4.15932949e-01 -1.00029709e+00\n",
      " -5.83680182e-01 -1.92127529e+00  4.48089148e-02 -9.39454794e-01\n",
      "  4.68351019e-02 -1.17432588e+00  4.41354537e-02 -1.14716077e+00\n",
      "  2.20010647e-01  1.10040767e-01  5.91720997e-01 -1.01639135e+00\n",
      "  8.33020685e-01  5.95600922e-01  1.17378399e+00 -5.36734551e-01\n",
      " -2.21111336e-01  2.67167685e-01  3.49993765e-01  4.52158010e-02\n",
      " -1.08408188e+00 -1.03894753e+00  9.69850596e-01  1.15802916e-01\n",
      " -1.50930546e+00  1.13992753e+00  2.12960963e+00  8.12260546e-01\n",
      " -4.75466547e-01 -4.75547602e-01  1.00148451e+00 -7.87181594e-02\n",
      " -4.86058303e-01 -4.23806021e-01  1.05622303e+00 -1.32962417e+00\n",
      "  1.57952418e+00  1.43809752e+00  5.85900715e-01  1.83431295e+00\n",
      "  1.44512674e+00 -1.61036545e+00 -2.16923434e-01 -4.91867288e-01\n",
      " -5.06315165e-01 -9.25050618e-01  2.49762396e-01  1.08911245e+00\n",
      "  6.55509045e-01 -2.27405791e-01  9.62461653e-01 -2.07742174e+00\n",
      " -9.73086465e-01  1.28193652e+00  1.27073718e-01 -3.67111075e-01\n",
      "  2.73073699e-01 -7.89284715e-01 -9.64747922e-01  4.35681644e-01\n",
      " -7.32329250e-01  9.92376785e-01  6.96463142e-01 -2.60045570e-02\n",
      "  1.28755118e+00 -9.93790623e-01 -7.74279755e-01  2.67514491e+00\n",
      " -4.44995728e-01  4.42666599e-01  4.63161585e-01  1.28678492e-01\n",
      "  3.65605442e-01 -4.86683487e-01  4.67144081e-02 -1.03908298e+00\n",
      " -3.36001620e-01 -1.69058219e-01 -1.18875691e+00  9.35514228e-01\n",
      " -1.18683948e+00  2.22801019e+00  8.21047680e-01  1.01504550e+00\n",
      "  4.85455712e-01  6.77922383e-01 -2.21683455e-01 -7.52781483e-01\n",
      " -1.67139543e-01 -9.18824840e-02 -3.71254258e-02 -4.18988971e-01\n",
      "  5.51040067e-01  1.15093060e+00 -2.13665992e+00 -8.46236142e-03\n",
      "  7.20772573e-01  1.45622363e+00  7.96302282e-01 -1.56828364e+00\n",
      " -7.71153791e-01  1.00996607e+00 -1.59784874e+00 -1.45259697e+00\n",
      "  5.60659355e-01 -3.71284566e-01  7.60794473e-01 -1.49114874e-01\n",
      "  9.90551104e-01  1.07979930e+00 -2.69614327e+00  1.11196776e+00\n",
      "  6.15178324e-01 -4.17133309e-01 -1.37235817e+00 -1.22853018e-01\n",
      " -2.23962919e+00 -1.85242631e+00 -8.59898785e-01  2.43916638e-01\n",
      "  5.66792587e-01 -1.41631061e+00  1.28248455e+00  2.60097836e+00\n",
      " -1.85729153e+00  1.76550820e-01  9.56651426e-01  5.38085777e-01\n",
      " -6.01194539e-01 -1.69442963e+00  2.92210390e-01  7.95132922e-01\n",
      "  3.77839687e-01  1.77916415e+00  2.11292784e+00 -6.69283808e-01\n",
      " -1.74510874e-02 -2.01973460e+00 -1.11923167e-01 -1.06980553e+00\n",
      "  5.88027436e-01  8.83639443e-01 -7.85022705e-01  5.85141172e-01\n",
      "  5.16217925e-02  5.92116173e-01 -5.54136697e-01 -5.26575176e-02\n",
      "  5.64458974e-01  4.13032743e-01  9.69326832e-01 -1.84824403e-01\n",
      " -5.71048434e-01  2.29203994e-01 -4.74953548e-01  1.14499161e-01\n",
      "  2.71082623e-01 -7.50683690e-01  5.85585014e-01 -1.67954460e+00\n",
      "  1.62649148e+00  1.49793468e+00 -3.21403383e-02 -1.88854872e+00\n",
      "  4.61817369e-01 -9.71900996e-01  1.14954736e+00  9.29615097e-01\n",
      " -4.68958297e-01  1.65593200e+00 -5.97272461e-01 -1.59687467e+00\n",
      "  2.36964921e-01  1.51386249e+00  1.51758460e-01  8.19430294e-01\n",
      "  4.83607192e-01 -8.86697445e-01 -9.22379326e-01 -5.21708149e-01\n",
      "  1.06093657e-02 -6.71455320e-01 -1.29563771e+00  8.38403853e-01\n",
      "  7.62941906e-01 -4.16294202e-01 -4.78621722e-01 -4.53959610e-01\n",
      " -1.39342589e+00  5.69781900e-01  8.20555331e-01 -8.74685449e-01\n",
      "  9.71704098e-01  1.27517094e+00 -2.00649953e+00  3.45810615e-01\n",
      "  8.29986934e-01 -3.16531735e-01  2.27166688e-01  1.41017297e+00\n",
      "  6.01776233e-01  2.44537874e-01 -9.49038216e-01 -3.33960493e-01\n",
      "  4.01749937e-01  5.55763249e-01  1.59033843e-01 -2.80061470e-01\n",
      " -1.24434379e+00  6.45178667e-01 -3.32878414e-01  3.47972144e-01\n",
      " -1.28891260e+00 -2.73765698e-02  5.80717419e-01 -7.85824256e-01\n",
      " -3.70877133e-01  1.91598127e-01  1.43447186e-01  1.29487698e+00\n",
      "  5.50840935e-02  4.64522819e-01 -1.56957831e-02 -1.79285767e-01\n",
      "  1.07803687e+00  3.43621152e-01  2.15636667e-01 -9.10606677e-01\n",
      " -2.10835041e+00  6.26522048e-02 -5.87259814e-01 -1.60594039e+00]\n",
      "[-2.18937287  1.75245145 -0.54567653  0.8022357   0.85839876 -1.83896084\n",
      " -1.15054524  1.2971426  -0.61262265 -0.80594783  1.24508538 -0.40914145\n",
      " -1.08857018  0.71140431  0.7038381  -0.85569703  1.39930431  0.69214507\n",
      "  0.53154818  1.06469662 -0.92839215  1.65914177 -0.91544838  1.22461752\n",
      " -0.18965949 -1.39688991  1.15543289  1.40506246 -0.17822882 -2.2990291\n",
      "  1.09506371 -0.41219274 -0.5091119  -0.50934243 -1.17654676  0.53536369\n",
      "  0.29679826  0.36877274 -1.53889461  1.25743411  0.78398068  0.08075617\n",
      "  0.66334487 -0.32900102 -1.44861996 -0.15073884  0.30404334 -0.70011594\n",
      "  0.59394954 -0.40789367  0.52374959  0.75310804  1.01419481 -0.06952096\n",
      "  1.33472718  0.40513703  1.22897048  1.11203133 -0.81557746  0.34986776\n",
      "  2.68715836 -0.32293569  0.02141279  0.2776828  -0.94876693 -0.69311948\n",
      " -1.27670396 -0.17089022  0.35608155  1.51478447  0.72312145 -1.18167714\n",
      " -2.19867809  2.64787818  0.76464693 -0.23223799 -0.40878703  1.15093314\n",
      "  0.5435364  -0.66854054 -0.1977629   0.52523586 -0.75533167  2.40349827\n",
      " -2.14664264 -1.4775607  -0.36043189  0.37623491 -0.82705171  1.2043158\n",
      "  1.39048091  0.32901314 -0.09738094  0.23899278  0.87789714 -0.74448809\n",
      "  2.63210908 -0.39174448  0.56750261 -0.1000893   1.78873665 -0.7952196\n",
      "  0.5909842   0.82724     0.48709316  0.86508115 -1.80045485 -0.96029144\n",
      "  1.28439921  0.80516708  1.20683025  0.35954983  0.97973775 -1.78609182\n",
      " -2.33404353  0.1733365   0.92130324 -2.79865565  0.85538042 -0.32551237\n",
      " -0.35969885  1.39217747 -0.82489162  0.71259401  1.19801235 -0.13421906\n",
      " -0.03350917 -0.02517506  0.04479399  1.35043001  0.05185273 -1.15801209\n",
      "  0.19735922  0.46547365 -1.03513166 -0.30112233 -1.6714471   1.95541673\n",
      "  0.52869621 -0.74271858 -0.05073006 -1.55858287 -0.04556001  0.63362797\n",
      "  0.29288305  0.47632665  2.04002285  1.70498104 -0.66846605  0.38995656\n",
      "  1.51242381  0.47863895  0.1849482  -0.33491874 -1.26073326 -0.96658071\n",
      "  0.90147545 -0.77884959 -0.90576879  0.8458178   1.13840307 -0.89576077\n",
      " -0.5496274   0.08277358  0.57822716  3.44398417 -0.12579278 -1.01366233\n",
      "  0.02503878  0.94020374 -0.81340753 -2.1793472   0.24191991 -0.55590556\n",
      "  1.22186336  0.6454536   0.81738295  0.31456219 -1.32090095 -0.26802588\n",
      " -0.46836618 -0.06135304  1.14000478  0.06168164 -0.26090392 -0.5267753\n",
      " -1.01220557  0.6067585  -0.62828377  0.31011211 -0.30594536 -0.88860636\n",
      "  1.44810532  0.38537089 -1.10967974  0.27730102 -0.1549545   0.07472531\n",
      " -1.22619679 -0.2453424  -1.79443202 -1.55738679 -0.29766924  0.09601756\n",
      " -1.38818174 -2.51422242  0.23086855 -0.43561046  0.66054258 -0.40527005\n",
      " -1.15832765 -0.72482504 -1.74165859 -0.3705727  -1.13919098 -1.52215558\n",
      "  0.23527871  0.24207072 -1.16638053  1.45475391  1.32367029  0.63750387\n",
      "  0.34384894  0.71985839  0.35208035 -2.30492429  1.71602815  0.42170186\n",
      "  1.82290014  1.4100354   0.28902639 -1.16211057  1.48349769  1.41882957\n",
      "  2.11313376  1.28485131 -0.43507727 -0.85600246 -0.08987055 -0.50736684\n",
      "  0.01423551 -1.00584963 -0.88553845 -0.41189599 -0.27132718  0.12567088\n",
      " -0.97990599  1.42251326  1.08542376 -0.6479666  -0.21396694 -1.58268498\n",
      " -0.21239817  1.0445865   0.13485741 -0.16163435 -0.25205391 -0.21855109\n",
      " -0.02429913 -0.76449093 -0.90832245  0.4760762   0.55167323  0.67750181\n",
      "  1.83752422  1.38894624 -1.21976634 -0.56485976  0.22381807 -0.85506691\n",
      "  0.45001609 -0.79259713 -1.12430074 -0.33787738 -0.40529942 -0.92918446\n",
      " -0.12755648 -0.86272224  0.54323331  0.36224716 -0.06502576  0.63096293\n",
      " -0.50381022  0.66150367 -0.18634527 -0.71168016  0.04311009 -0.91803737\n",
      "  1.03651274 -0.85463646 -2.2925512   0.02533386  1.93725363 -0.43281411\n",
      "  0.24059434  0.34751271 -0.94887944  2.24066108 -0.66832084 -0.88793143\n",
      " -0.21567765  0.39396238  0.00831455  0.1513238   1.33734033  1.43132017\n",
      "  1.37476659 -0.66815879  3.09467312  1.38154065  0.36100663 -1.36173331\n",
      "  0.35903608 -2.12699199  0.14845595 -0.65764994  0.72143481 -0.29150666\n",
      " -1.33705736 -0.92390365 -0.73116191  0.92329216 -0.76942628  0.25007045\n",
      " -0.20641445 -0.33798558 -0.21217711  1.21850633 -0.18959931 -0.64227027\n",
      "  0.11741584 -0.31238874  0.41885834 -0.81843521 -0.86927249 -0.69579962\n",
      " -0.37074292  0.26232359  0.27221056 -0.45069072 -0.37837475 -1.98049594\n",
      "  1.13145829 -1.21752683  1.41410414  0.17956902  1.45866978  1.00861701\n",
      " -0.80239706 -0.95043055 -0.0518026   1.16253058  0.66883808 -1.23438608\n",
      " -1.52684898 -0.72124422 -0.20961359 -0.29708586  0.7348936   0.22441675\n",
      "  0.10735223 -0.42656102 -0.84927324  2.2680751  -0.42733275  1.81154492\n",
      "  2.27707783  0.23829414 -1.20030074  1.03915716  1.81039388 -0.11329323\n",
      "  2.34327782 -0.11176033 -0.99414843  1.15942109  0.83988596  0.41818116\n",
      "  0.74933821  0.31448362 -1.06767835  0.4013971   2.54402168 -0.4069307\n",
      " -0.87171013 -0.57269404 -0.31070463 -0.70426451  0.43733877 -0.31792006\n",
      "  0.58059137  0.67521191 -0.15611341 -1.01432224 -0.2454371   0.94000012\n",
      "  1.62588359 -0.62714691 -1.54457543  0.14163431]\n"
     ]
    }
   ],
   "source": [
    "data = np.random.standard_normal(1000)\n",
    "print(data)\n",
    "data_5 = np.random.standard_normal(400)\n",
    "print(data_5)"
   ]
  },
  {
   "cell_type": "code",
   "execution_count": 25,
   "id": "574ec0c0",
   "metadata": {
    "slideshow": {
     "slide_type": "slide"
    }
   },
   "outputs": [
    {
     "name": "stdout",
     "output_type": "stream",
     "text": [
      "[(-2.9499999999999997, -0.59], (-2.9499999999999997, -0.59], (-0.59, 0.033], (-0.59, 0.033], (-0.59, 0.033], ..., (-2.9499999999999997, -0.59], (-2.9499999999999997, -0.59], (0.033, 0.68], (-0.59, 0.033], (-2.9499999999999997, -0.59]]\n",
      "Length: 1000\n",
      "Categories (4, interval[float64, right]): [(-2.9499999999999997, -0.59] < (-0.59, 0.033] < (0.033, 0.68] < (0.68, 3.22]]\n",
      "[(-2.8099999999999996, -0.71], (0.71, 3.44], (-0.71, -0.025], (0.71, 3.44], (0.71, 3.44], ..., (0.71, 3.44], (0.71, 3.44], (-0.71, -0.025], (-2.8099999999999996, -0.71], (-0.025, 0.71]]\n",
      "Length: 400\n",
      "Categories (4, interval[float64, right]): [(-2.8099999999999996, -0.71] < (-0.71, -0.025] < (-0.025, 0.71] < (0.71, 3.44]]\n"
     ]
    }
   ],
   "source": [
    "quartiles = pd.qcut(data, 4, precision=2)\n",
    "print(quartiles)\n",
    "\n",
    "quartiles1 = pd.qcut(data_5, 4, precision=2)\n",
    "print(quartiles1)"
   ]
  },
  {
   "cell_type": "code",
   "execution_count": 26,
   "id": "80003eb5",
   "metadata": {
    "slideshow": {
     "slide_type": "slide"
    }
   },
   "outputs": [
    {
     "name": "stdout",
     "output_type": "stream",
     "text": [
      "(-2.9499999999999997, -0.59]    250\n",
      "(-0.59, 0.033]                  250\n",
      "(0.033, 0.68]                   250\n",
      "(0.68, 3.22]                    250\n",
      "Name: count, dtype: int64\n",
      "\n",
      "(-2.8099999999999996, -0.71]    100\n",
      "(-0.71, -0.025]                 100\n",
      "(-0.025, 0.71]                  100\n",
      "(0.71, 3.44]                    100\n",
      "Name: count, dtype: int64\n"
     ]
    },
    {
     "name": "stderr",
     "output_type": "stream",
     "text": [
      "C:\\Users\\CursosTardes\\AppData\\Local\\Temp\\ipykernel_10656\\1002654172.py:1: FutureWarning: pandas.value_counts is deprecated and will be removed in a future version. Use pd.Series(obj).value_counts() instead.\n",
      "  print(pd.value_counts(quartiles))\n",
      "C:\\Users\\CursosTardes\\AppData\\Local\\Temp\\ipykernel_10656\\1002654172.py:3: FutureWarning: pandas.value_counts is deprecated and will be removed in a future version. Use pd.Series(obj).value_counts() instead.\n",
      "  print(pd.value_counts(quartiles1))\n"
     ]
    }
   ],
   "source": [
    "print(pd.value_counts(quartiles))\n",
    "print()\n",
    "print(pd.value_counts(quartiles1))"
   ]
  },
  {
   "cell_type": "code",
   "execution_count": 27,
   "id": "9f1d2c9e-49e1-4bba-b157-e056b77e9fc7",
   "metadata": {},
   "outputs": [
    {
     "name": "stdout",
     "output_type": "stream",
     "text": [
      "(-2.9499999999999997, -0.59]    250\n",
      "(-0.59, 0.033]                  250\n",
      "(0.033, 0.68]                   250\n",
      "(0.68, 3.22]                    250\n",
      "Name: count, dtype: int64\n",
      "\n",
      "(-2.8099999999999996, -0.71]    100\n",
      "(-0.71, -0.025]                 100\n",
      "(-0.025, 0.71]                  100\n",
      "(0.71, 3.44]                    100\n",
      "Name: count, dtype: int64\n"
     ]
    }
   ],
   "source": [
    "print(pd.Series(quartiles).value_counts())\n",
    "print()\n",
    "print(pd.Series(quartiles1).value_counts())\n"
   ]
  },
  {
   "cell_type": "markdown",
   "id": "7e753681",
   "metadata": {
    "slideshow": {
     "slide_type": "slide"
    }
   },
   "source": [
    "De forma similar a `pandas.cut`, el usuario puede pasar sus propios cuantiles (números entre 0 y 1, ambos inclusive):"
   ]
  },
  {
   "cell_type": "code",
   "execution_count": 28,
   "id": "ac74023d-fc8a-4f0f-8ea2-62778a8b6e79",
   "metadata": {},
   "outputs": [
    {
     "name": "stdout",
     "output_type": "stream",
     "text": [
      "[-9.22419675e-01 -7.58845414e-01 -6.11030218e-02 -2.89811435e-02\n",
      " -4.76265027e-01 -9.09324771e-01 -2.54208187e-01 -9.69504864e-01\n",
      " -8.37639844e-01  9.91373292e-01  1.29153610e+00 -9.04922243e-01\n",
      "  1.08251538e+00 -6.46260635e-01 -4.90381779e-02 -5.32130464e-01\n",
      "  5.01062207e-01  5.05703194e-01  8.22892517e-01 -4.78762468e-01\n",
      " -1.01469512e+00  3.04294061e+00 -1.63182439e+00  1.52942749e+00\n",
      " -2.50578964e-01 -5.66054232e-01 -1.62970552e+00  9.97131509e-01\n",
      "  9.13446246e-01 -3.78446642e-01 -7.57998523e-01  4.25333029e-01\n",
      " -4.54062613e-01  4.90592766e-01  9.91323022e-01  4.99838786e-01\n",
      "  6.89280534e-01  4.76492510e-01  2.83218969e-01 -4.60837025e-01\n",
      "  2.47087166e-01  5.95488033e-01 -1.52947827e-01  4.43368832e-01\n",
      "  7.15189207e-01  7.18528460e-01 -1.07198850e+00 -5.12020854e-01\n",
      " -4.32407821e-02  2.21165040e+00 -1.12047793e+00  5.01523234e-01\n",
      " -1.83418461e+00  2.19546726e-01  1.34269802e+00  8.26341122e-01\n",
      "  1.30872247e+00 -5.33425860e-01  3.93068845e-01 -1.29550256e-01\n",
      " -2.01437577e+00 -8.09178875e-01 -2.25271999e-01  5.08317884e-01\n",
      " -3.54027624e-01  1.38910092e+00  4.78049757e-01  1.30162623e+00\n",
      "  8.75607942e-01 -2.63122005e+00 -2.39451829e+00 -4.13698728e-01\n",
      "  3.52811940e-01 -5.18646228e-02  1.68028939e-01  3.17286736e-01\n",
      " -4.71902072e-01  2.14967366e-01  3.31452399e-01  9.48250818e-01\n",
      " -6.57723739e-01  5.19435898e-01  7.85891851e-01 -9.35843415e-01\n",
      "  3.50064758e-02 -3.83255651e-01  1.51199013e-01 -3.13403939e-01\n",
      "  6.27557698e-01  1.78101835e+00 -5.91186252e-01  3.09521089e-02\n",
      " -7.01758421e-01  5.71686069e-02 -4.40967484e-01  5.51881993e-01\n",
      "  1.76694797e+00 -4.12597413e-01 -4.40219170e-01 -4.02980830e-01\n",
      " -4.75989290e-01  7.09099792e-01 -1.00643190e-01  1.50392625e+00\n",
      " -2.23471414e+00  1.99288832e+00 -4.75169370e-01  2.59241924e+00\n",
      "  9.90673124e-01  7.59858695e-01  2.08704241e+00 -1.39076824e+00\n",
      "  5.63074257e-01 -5.12335260e-01  5.63858693e-01  2.83940939e-01\n",
      " -1.40541274e+00 -8.25163122e-01  1.23687727e+00  5.15763352e-03\n",
      " -3.99462739e-01 -1.13328259e+00 -1.22764669e+00 -1.25595357e-01\n",
      " -3.95478211e-01  5.71747812e-01  2.65559874e-02  6.37868096e-01\n",
      " -8.99245141e-01 -5.55898513e-01 -2.55479484e-01  9.88320540e-01\n",
      "  1.19173549e+00 -1.04387391e+00 -1.65862587e+00  2.03610025e-01\n",
      "  1.88346303e+00 -2.41130102e+00  3.72376508e-01  5.96003385e-01\n",
      "  5.10467074e-01  5.12245101e-01 -7.11279797e-01 -3.73648749e-01\n",
      " -1.25430870e+00  5.80185245e-01  9.55158842e-01 -2.20160958e-01\n",
      "  7.90572390e-01 -3.30338263e-01 -4.93070492e-01  4.46917599e-01\n",
      " -1.52891845e+00  8.77800550e-01  3.24854402e-01  4.03359474e-01\n",
      " -2.80389952e-01  5.98356702e-01  1.08427269e+00 -1.77680134e-01\n",
      " -9.74517738e-02  8.28880139e-01 -6.54157692e-02 -5.18015494e-01\n",
      " -8.64952249e-01 -1.11835648e+00 -8.37035748e-01 -3.28966554e-01\n",
      "  5.42505716e-01  3.37154514e-01 -1.63701364e-02  1.58279309e+00\n",
      "  2.17306822e+00 -7.81793534e-01 -7.59580844e-01 -1.65100162e+00\n",
      "  4.13460838e-01 -1.10444952e+00 -1.91650986e-03  1.03429388e+00\n",
      "  4.80933327e-02 -3.39512176e-01 -1.61094069e+00 -1.89691622e-01\n",
      " -2.33569817e+00 -8.45003057e-01 -3.74402933e-01  4.93901942e-01\n",
      "  9.68698911e-01 -7.90562543e-02  6.17804253e-01  7.12855617e-01\n",
      "  1.82066962e+00 -3.71301894e-01  1.15921432e+00  8.26811001e-02\n",
      "  5.82260948e-01 -2.13820001e-03  8.18428598e-01  1.72062808e+00\n",
      "  1.09623098e+00 -1.06754069e-01 -7.30709974e-01  1.73291564e+00\n",
      " -2.85677848e-01  1.55510850e+00 -1.23141994e+00 -3.65354632e-01\n",
      " -4.01003906e-01 -1.25228533e-01  9.74729178e-01 -5.93990073e-01\n",
      "  1.03108977e+00  2.77532011e+00  4.53342809e-02  6.80354044e-01\n",
      "  7.63095324e-01 -2.09274691e+00  3.47349587e-02 -3.19141397e-01\n",
      " -5.83833548e-01 -7.56894757e-01  1.07252908e+00  9.62472118e-01\n",
      "  2.70756531e-02  1.01128756e-02 -8.91100442e-01  2.16540038e-01\n",
      " -6.30550578e-01  1.67680114e-01 -5.32752771e-01  6.04052198e-01\n",
      "  4.79040460e-01 -1.37446327e+00 -4.05222255e-01 -8.27404877e-01\n",
      " -4.66866535e-01 -7.01849896e-01 -1.34309212e+00 -6.26108070e-03\n",
      " -7.45571404e-01  1.56477348e-01 -1.55436140e+00 -2.09713204e-01\n",
      "  1.19010574e+00 -1.55106164e+00 -1.24500051e+00 -2.94776668e-01\n",
      "  2.09039016e+00  9.06471515e-01 -3.78655297e-01 -2.67604780e-01\n",
      " -1.13243434e+00  8.94294545e-01 -2.14662070e-01 -1.19751660e-01\n",
      "  1.93035799e-01  6.65405520e-01 -7.71408761e-02  1.83020101e-01\n",
      " -6.16504384e-01  1.06785776e+00 -1.10161741e-01 -6.79156855e-01\n",
      "  1.81613592e+00 -3.53803114e-01 -1.22805873e+00 -4.78053284e-02\n",
      " -1.20784779e+00  6.53921687e-01  9.95816333e-01  1.13588976e+00\n",
      " -3.69222354e-01  1.28915240e-01  2.23846129e-01 -2.85079448e-01\n",
      " -8.75404682e-01 -1.38725410e+00  9.34665541e-01  1.37099598e-01\n",
      "  1.71358359e+00 -1.35557383e+00  2.68378180e-01 -8.56100864e-01\n",
      " -1.46152402e+00  2.22543778e-01  1.14053175e+00  8.34587768e-01\n",
      " -1.59830183e-01  6.50586519e-01 -3.58674004e-01 -9.52210767e-01\n",
      "  2.65078981e+00 -9.01873610e-01 -2.28231419e-01  7.50812531e-01\n",
      "  6.81736942e-01  1.52752015e+00  1.22868400e+00 -6.73639395e-01\n",
      "  2.77414005e-01  6.67911160e-01 -3.65386439e-01 -6.60666441e-01\n",
      "  9.28507437e-01  7.42343954e-01  1.12533578e+00 -1.62939160e-01\n",
      " -6.94692896e-01  1.10600830e+00  1.84424123e+00  1.82799958e+00\n",
      "  6.98711422e-01 -4.97358188e-01 -2.63803146e-01  4.85006236e-01\n",
      " -1.49432021e+00  3.18666389e-01 -9.71594744e-01  3.22106383e-01\n",
      " -6.07269103e-01  4.56732216e-01  1.11934544e+00  6.94013257e-01\n",
      " -9.27299865e-01 -3.32240989e-01 -1.06360427e+00 -2.67078640e-01\n",
      "  8.39837234e-01 -2.44669924e+00 -4.33651255e-01  7.50261788e-02\n",
      "  2.55016069e-01  6.03431978e-01  9.39503319e-01 -1.32918413e+00\n",
      " -1.20726926e+00 -1.88717913e+00 -5.31217381e-01  1.04177104e+00\n",
      "  4.06089479e-01  2.58246197e-01  1.12718212e+00 -4.08581429e-01\n",
      " -6.07234323e-01 -5.15034631e-02 -1.48943667e+00  2.05947643e+00\n",
      "  9.34007826e-01  5.07666406e-01  4.74234243e-01  2.82403118e+00\n",
      " -4.99706929e-01 -2.38489412e+00  1.26356650e+00 -9.39799428e-01\n",
      "  8.70817057e-01  1.13795207e+00  1.28971550e+00 -1.20879423e+00\n",
      " -6.70040979e-01 -1.93741981e+00  1.21950671e+00 -4.58428907e-01\n",
      "  2.48663622e-02  1.74888918e+00 -4.34136847e-01  3.97233307e-01\n",
      " -1.55715854e+00  2.63030712e-01  2.78058972e-01  8.62213162e-01\n",
      " -7.11156387e-01 -9.93038063e-01 -5.18115309e-01 -6.18821822e-01\n",
      "  5.52056193e-01 -5.98383139e-01 -8.64356467e-02 -7.57523305e-01\n",
      "  2.08008507e+00  6.74532307e-01  1.04638620e+00  3.54804864e-02\n",
      "  7.13468813e-02 -7.61811061e-02 -9.83514835e-01  8.76163154e-01\n",
      " -9.60137210e-01  8.70960372e-01 -3.34114679e-01 -1.15958541e+00\n",
      "  4.80340849e-01  5.68864449e-01 -5.14262981e-01 -3.66922458e-01\n",
      " -6.94270453e-01  1.86976870e+00 -5.52833734e-02  1.66206523e+00\n",
      " -4.08869163e-01  6.05793715e-01  1.27101898e-01  6.69722677e-01\n",
      "  8.82213319e-01  1.21800396e+00  1.80808900e-01 -9.77422016e-01\n",
      "  5.58557299e-01 -1.23788108e+00 -4.34931442e-01  9.92159138e-02\n",
      " -9.67499756e-01  1.02475670e+00 -7.99197832e-01  1.15482778e+00\n",
      "  1.65325956e+00 -5.14559947e-01 -2.94429105e+00 -2.85758103e-01\n",
      "  2.63440778e-01 -2.68472045e-01  1.02854242e+00  7.15861343e-01\n",
      "  1.00084147e-02  1.99341635e-01  4.69204481e-01  8.72194150e-01\n",
      "  2.29835355e+00  1.54075360e+00 -3.95364920e-01 -2.61416384e-02\n",
      " -1.22429171e+00  1.44518179e+00  7.56806970e-01 -1.31568141e+00\n",
      "  6.74134507e-01  6.25269541e-02  1.05477118e-01  8.59713933e-01\n",
      "  1.11310801e-01  1.95710932e+00  1.42518435e+00 -2.04882982e+00\n",
      " -4.32308990e-02 -3.65912000e-01 -1.78556393e-02  1.01663602e+00\n",
      "  1.43364798e+00 -7.02368962e-01  2.77437355e+00 -1.95081449e+00\n",
      " -2.33322378e+00  8.96637065e-01 -1.24831774e+00  2.78083609e+00\n",
      "  4.17596296e-01  4.67140726e-01  4.14595677e-01 -2.79360970e-02\n",
      "  1.29574322e+00  3.06303857e-01 -1.50256218e+00 -4.12911933e-01\n",
      " -1.17688256e+00 -1.19440587e+00  5.05150277e-01 -5.93235518e-01\n",
      " -5.12422884e-01 -6.35857353e-02  2.73188245e-01  6.42517118e-01\n",
      "  9.17909786e-01  8.39963957e-01  1.93747022e+00  1.22856827e+00\n",
      " -3.02260102e-01  2.27016062e-01  1.01854350e+00 -1.07393346e+00\n",
      " -2.19157806e+00  1.45674383e+00  1.25965596e+00 -1.59829366e+00\n",
      "  1.65101482e+00 -4.51275261e-01  3.32138920e-01  1.17106210e-01\n",
      " -2.03734385e-01  4.02480000e-01 -1.94898856e-01  9.87745329e-02\n",
      " -2.08731009e+00  3.91571549e-01  1.01544091e+00 -1.51215603e+00\n",
      " -7.93363773e-01  6.58043434e-01  1.01503221e+00  5.00860055e-01\n",
      " -1.14506256e+00  6.32243982e-01 -7.88675434e-01 -8.72173183e-01\n",
      "  8.53835914e-02 -3.49975406e-01  7.13170981e-01 -8.55679297e-02\n",
      " -1.15596718e-01  1.72568918e+00  1.49150933e+00  1.38940967e+00\n",
      "  5.85324905e-01  1.58202297e-01  1.96408977e-01 -9.86508255e-01\n",
      " -4.46029464e-01 -1.19972585e+00  4.61662642e-01  6.94645323e-01\n",
      "  5.06900416e-01  1.13365482e+00  6.39414665e-01 -1.04064501e+00\n",
      "  3.19020326e-01 -5.88296162e-01 -1.10223199e+00  7.87731731e-01\n",
      " -7.31308170e-01  5.66426266e-01  7.82483955e-01 -1.36146959e+00\n",
      " -1.65072514e+00  7.77639616e-01  4.52526905e-01 -3.50247877e-02\n",
      "  1.21244250e+00 -1.07763988e+00 -6.09520808e-02 -2.26598058e+00\n",
      "  1.43636601e+00  2.66201280e-01 -1.62420529e+00 -1.14270651e-01\n",
      "  1.12151789e+00  1.09698349e+00  2.03893603e+00  1.19152036e-02\n",
      "  4.17458084e-01  1.11760748e+00  3.65702110e-02  1.66727516e-01\n",
      "  1.12964254e-02 -1.30228703e+00 -9.61798673e-02  5.97974047e-01\n",
      "  6.49482620e-01 -3.25188635e-01 -2.36414062e-01  2.51834320e-01\n",
      " -3.96332251e-01 -2.10424476e-01 -2.43404898e+00  1.39652620e+00\n",
      " -1.03478377e+00 -2.27899567e+00  1.19150461e-01 -1.91325620e+00\n",
      "  4.70035421e-01 -7.51782528e-01  3.28543042e-02 -1.32088569e+00\n",
      " -7.83720348e-01  2.10381381e-01  4.21049367e-01  7.26880489e-01\n",
      " -2.47722115e-01  2.82242485e-01 -9.27371355e-01 -1.02310146e+00\n",
      "  5.48247431e-01  1.75773515e+00 -1.38698255e+00  7.87179768e-01\n",
      " -3.60927205e-01  3.56843637e-02  2.05834888e-01 -3.50022606e-01\n",
      " -1.88192133e-01  2.61971166e-01  1.38672859e-02 -5.28887936e-01\n",
      " -4.47963049e-01  4.71694441e-01 -1.13088083e+00  6.62989970e-01\n",
      " -2.82982313e-01 -8.63396331e-01 -1.31508532e-01 -3.45977976e-01\n",
      "  3.45436008e-02  3.96087052e-01 -2.87851846e-01  2.47634587e-01\n",
      "  7.79848044e-01  6.86717685e-01 -1.94150822e-01 -9.20276107e-01\n",
      "  1.11426869e+00 -1.32205068e+00 -1.29634273e+00  3.47101890e-01\n",
      " -6.90744182e-01  7.66808075e-01  1.34294662e+00 -8.59306747e-02\n",
      " -4.54786766e-01 -6.32220557e-01 -6.52975107e-01 -2.84811422e-01\n",
      "  3.47356140e-02 -6.08309265e-01  2.19589423e-01  1.58691482e+00\n",
      "  2.46348422e+00 -3.91663152e-01  1.21717600e+00 -3.33829850e-02\n",
      "  1.22322775e+00  1.24471483e-01 -1.15047783e+00  1.05805707e-01\n",
      "  1.11388701e+00 -1.69602474e+00  6.10394940e-01  1.00830902e+00\n",
      "  5.26007597e-02 -1.46657490e+00 -4.29632189e-01  1.29850686e+00\n",
      "  7.04454658e-01 -4.21050097e-01  4.78843528e-01 -2.42536781e+00\n",
      "  2.51880820e-01 -2.92469450e-03 -2.51331921e-01  1.46865994e+00\n",
      "  9.98219336e-01 -1.99401757e+00  5.72584098e-02  1.53434297e-01\n",
      " -3.55995125e-01  1.07396469e+00  1.31941828e+00 -7.45197067e-02\n",
      " -1.52109936e+00 -1.19252318e+00 -9.89756381e-01 -2.68568026e-01\n",
      "  1.92754875e+00 -8.40406713e-02  3.80892188e-01  1.08350582e+00\n",
      " -1.03076912e+00 -3.78734233e-01  8.08271484e-01  4.25686086e-01\n",
      " -1.83700695e-01  4.83735994e-01 -2.37978734e-01  1.59043169e+00\n",
      " -8.22060477e-01 -4.17459493e-01  4.28092864e-02 -7.25392337e-01\n",
      "  5.55319274e-01 -9.04341429e-01 -2.41387841e-01  5.58951803e-01\n",
      "  4.17372926e-01 -2.26384741e-01  5.29768056e-01 -8.63174621e-01\n",
      " -6.73768558e-01  5.39839333e-01  8.99216278e-01  3.48706974e-01\n",
      " -1.11044942e+00 -5.43963485e-01 -2.18925740e-01 -8.34728064e-01\n",
      "  9.32381171e-01  3.29792018e-02 -1.18753156e+00  5.83382225e-01\n",
      "  1.22066248e+00  1.63420967e+00 -1.80410393e-01  6.36162581e-01\n",
      "  1.49106409e-01  1.67829397e+00  2.91848149e-01  1.44414355e+00\n",
      " -3.91015156e-03 -6.21883011e-01 -3.79179084e-01 -8.74592724e-01\n",
      " -1.05883417e+00  5.94847542e-01  7.81070295e-01 -1.80680494e+00\n",
      " -1.52805502e-01  7.05895662e-01  2.51607171e-01 -8.96371177e-02\n",
      " -5.81434125e-01  3.05000908e-01 -1.52958356e+00  1.13404029e+00\n",
      " -2.62401980e-01 -6.02274574e-01  9.97057097e-01 -8.84568669e-02\n",
      "  9.99090611e-01 -4.23787255e-01 -1.10328493e-01  5.05034569e-01\n",
      " -4.88898912e-01  3.63709313e-01  3.21593907e+00  1.12515284e+00\n",
      "  1.32535741e+00 -9.43125045e-01 -1.05920255e-01  2.22216179e+00\n",
      " -1.41574938e+00  1.12073952e+00  4.19523879e-01 -1.91214624e-01\n",
      " -2.97296720e-01 -1.50464442e+00 -1.42151340e+00 -5.48214500e-01\n",
      "  6.42488698e-01 -1.21124169e+00  1.57672059e+00 -1.20797366e+00\n",
      "  5.72106826e-01  1.88086800e-01 -1.59647555e+00 -3.47381212e-01\n",
      "  4.93695907e-01 -3.39887441e-01 -4.53984281e-01 -3.49878256e-02\n",
      " -1.86619113e-01 -7.68917443e-01 -5.62603925e-01 -7.51025809e-01\n",
      "  2.63285625e-01  2.40471189e+00 -9.86691753e-01 -7.20993261e-01\n",
      " -5.42347246e-02  2.46247009e+00 -4.15932949e-01 -1.00029709e+00\n",
      " -5.83680182e-01 -1.92127529e+00  4.48089148e-02 -9.39454794e-01\n",
      "  4.68351019e-02 -1.17432588e+00  4.41354537e-02 -1.14716077e+00\n",
      "  2.20010647e-01  1.10040767e-01  5.91720997e-01 -1.01639135e+00\n",
      "  8.33020685e-01  5.95600922e-01  1.17378399e+00 -5.36734551e-01\n",
      " -2.21111336e-01  2.67167685e-01  3.49993765e-01  4.52158010e-02\n",
      " -1.08408188e+00 -1.03894753e+00  9.69850596e-01  1.15802916e-01\n",
      " -1.50930546e+00  1.13992753e+00  2.12960963e+00  8.12260546e-01\n",
      " -4.75466547e-01 -4.75547602e-01  1.00148451e+00 -7.87181594e-02\n",
      " -4.86058303e-01 -4.23806021e-01  1.05622303e+00 -1.32962417e+00\n",
      "  1.57952418e+00  1.43809752e+00  5.85900715e-01  1.83431295e+00\n",
      "  1.44512674e+00 -1.61036545e+00 -2.16923434e-01 -4.91867288e-01\n",
      " -5.06315165e-01 -9.25050618e-01  2.49762396e-01  1.08911245e+00\n",
      "  6.55509045e-01 -2.27405791e-01  9.62461653e-01 -2.07742174e+00\n",
      " -9.73086465e-01  1.28193652e+00  1.27073718e-01 -3.67111075e-01\n",
      "  2.73073699e-01 -7.89284715e-01 -9.64747922e-01  4.35681644e-01\n",
      " -7.32329250e-01  9.92376785e-01  6.96463142e-01 -2.60045570e-02\n",
      "  1.28755118e+00 -9.93790623e-01 -7.74279755e-01  2.67514491e+00\n",
      " -4.44995728e-01  4.42666599e-01  4.63161585e-01  1.28678492e-01\n",
      "  3.65605442e-01 -4.86683487e-01  4.67144081e-02 -1.03908298e+00\n",
      " -3.36001620e-01 -1.69058219e-01 -1.18875691e+00  9.35514228e-01\n",
      " -1.18683948e+00  2.22801019e+00  8.21047680e-01  1.01504550e+00\n",
      "  4.85455712e-01  6.77922383e-01 -2.21683455e-01 -7.52781483e-01\n",
      " -1.67139543e-01 -9.18824840e-02 -3.71254258e-02 -4.18988971e-01\n",
      "  5.51040067e-01  1.15093060e+00 -2.13665992e+00 -8.46236142e-03\n",
      "  7.20772573e-01  1.45622363e+00  7.96302282e-01 -1.56828364e+00\n",
      " -7.71153791e-01  1.00996607e+00 -1.59784874e+00 -1.45259697e+00\n",
      "  5.60659355e-01 -3.71284566e-01  7.60794473e-01 -1.49114874e-01\n",
      "  9.90551104e-01  1.07979930e+00 -2.69614327e+00  1.11196776e+00\n",
      "  6.15178324e-01 -4.17133309e-01 -1.37235817e+00 -1.22853018e-01\n",
      " -2.23962919e+00 -1.85242631e+00 -8.59898785e-01  2.43916638e-01\n",
      "  5.66792587e-01 -1.41631061e+00  1.28248455e+00  2.60097836e+00\n",
      " -1.85729153e+00  1.76550820e-01  9.56651426e-01  5.38085777e-01\n",
      " -6.01194539e-01 -1.69442963e+00  2.92210390e-01  7.95132922e-01\n",
      "  3.77839687e-01  1.77916415e+00  2.11292784e+00 -6.69283808e-01\n",
      " -1.74510874e-02 -2.01973460e+00 -1.11923167e-01 -1.06980553e+00\n",
      "  5.88027436e-01  8.83639443e-01 -7.85022705e-01  5.85141172e-01\n",
      "  5.16217925e-02  5.92116173e-01 -5.54136697e-01 -5.26575176e-02\n",
      "  5.64458974e-01  4.13032743e-01  9.69326832e-01 -1.84824403e-01\n",
      " -5.71048434e-01  2.29203994e-01 -4.74953548e-01  1.14499161e-01\n",
      "  2.71082623e-01 -7.50683690e-01  5.85585014e-01 -1.67954460e+00\n",
      "  1.62649148e+00  1.49793468e+00 -3.21403383e-02 -1.88854872e+00\n",
      "  4.61817369e-01 -9.71900996e-01  1.14954736e+00  9.29615097e-01\n",
      " -4.68958297e-01  1.65593200e+00 -5.97272461e-01 -1.59687467e+00\n",
      "  2.36964921e-01  1.51386249e+00  1.51758460e-01  8.19430294e-01\n",
      "  4.83607192e-01 -8.86697445e-01 -9.22379326e-01 -5.21708149e-01\n",
      "  1.06093657e-02 -6.71455320e-01 -1.29563771e+00  8.38403853e-01\n",
      "  7.62941906e-01 -4.16294202e-01 -4.78621722e-01 -4.53959610e-01\n",
      " -1.39342589e+00  5.69781900e-01  8.20555331e-01 -8.74685449e-01\n",
      "  9.71704098e-01  1.27517094e+00 -2.00649953e+00  3.45810615e-01\n",
      "  8.29986934e-01 -3.16531735e-01  2.27166688e-01  1.41017297e+00\n",
      "  6.01776233e-01  2.44537874e-01 -9.49038216e-01 -3.33960493e-01\n",
      "  4.01749937e-01  5.55763249e-01  1.59033843e-01 -2.80061470e-01\n",
      " -1.24434379e+00  6.45178667e-01 -3.32878414e-01  3.47972144e-01\n",
      " -1.28891260e+00 -2.73765698e-02  5.80717419e-01 -7.85824256e-01\n",
      " -3.70877133e-01  1.91598127e-01  1.43447186e-01  1.29487698e+00\n",
      "  5.50840935e-02  4.64522819e-01 -1.56957831e-02 -1.79285767e-01\n",
      "  1.07803687e+00  3.43621152e-01  2.15636667e-01 -9.10606677e-01\n",
      " -2.10835041e+00  6.26522048e-02 -5.87259814e-01 -1.60594039e+00]\n",
      "\n",
      "[-2.18937287  1.75245145 -0.54567653  0.8022357   0.85839876 -1.83896084\n",
      " -1.15054524  1.2971426  -0.61262265 -0.80594783  1.24508538 -0.40914145\n",
      " -1.08857018  0.71140431  0.7038381  -0.85569703  1.39930431  0.69214507\n",
      "  0.53154818  1.06469662 -0.92839215  1.65914177 -0.91544838  1.22461752\n",
      " -0.18965949 -1.39688991  1.15543289  1.40506246 -0.17822882 -2.2990291\n",
      "  1.09506371 -0.41219274 -0.5091119  -0.50934243 -1.17654676  0.53536369\n",
      "  0.29679826  0.36877274 -1.53889461  1.25743411  0.78398068  0.08075617\n",
      "  0.66334487 -0.32900102 -1.44861996 -0.15073884  0.30404334 -0.70011594\n",
      "  0.59394954 -0.40789367  0.52374959  0.75310804  1.01419481 -0.06952096\n",
      "  1.33472718  0.40513703  1.22897048  1.11203133 -0.81557746  0.34986776\n",
      "  2.68715836 -0.32293569  0.02141279  0.2776828  -0.94876693 -0.69311948\n",
      " -1.27670396 -0.17089022  0.35608155  1.51478447  0.72312145 -1.18167714\n",
      " -2.19867809  2.64787818  0.76464693 -0.23223799 -0.40878703  1.15093314\n",
      "  0.5435364  -0.66854054 -0.1977629   0.52523586 -0.75533167  2.40349827\n",
      " -2.14664264 -1.4775607  -0.36043189  0.37623491 -0.82705171  1.2043158\n",
      "  1.39048091  0.32901314 -0.09738094  0.23899278  0.87789714 -0.74448809\n",
      "  2.63210908 -0.39174448  0.56750261 -0.1000893   1.78873665 -0.7952196\n",
      "  0.5909842   0.82724     0.48709316  0.86508115 -1.80045485 -0.96029144\n",
      "  1.28439921  0.80516708  1.20683025  0.35954983  0.97973775 -1.78609182\n",
      " -2.33404353  0.1733365   0.92130324 -2.79865565  0.85538042 -0.32551237\n",
      " -0.35969885  1.39217747 -0.82489162  0.71259401  1.19801235 -0.13421906\n",
      " -0.03350917 -0.02517506  0.04479399  1.35043001  0.05185273 -1.15801209\n",
      "  0.19735922  0.46547365 -1.03513166 -0.30112233 -1.6714471   1.95541673\n",
      "  0.52869621 -0.74271858 -0.05073006 -1.55858287 -0.04556001  0.63362797\n",
      "  0.29288305  0.47632665  2.04002285  1.70498104 -0.66846605  0.38995656\n",
      "  1.51242381  0.47863895  0.1849482  -0.33491874 -1.26073326 -0.96658071\n",
      "  0.90147545 -0.77884959 -0.90576879  0.8458178   1.13840307 -0.89576077\n",
      " -0.5496274   0.08277358  0.57822716  3.44398417 -0.12579278 -1.01366233\n",
      "  0.02503878  0.94020374 -0.81340753 -2.1793472   0.24191991 -0.55590556\n",
      "  1.22186336  0.6454536   0.81738295  0.31456219 -1.32090095 -0.26802588\n",
      " -0.46836618 -0.06135304  1.14000478  0.06168164 -0.26090392 -0.5267753\n",
      " -1.01220557  0.6067585  -0.62828377  0.31011211 -0.30594536 -0.88860636\n",
      "  1.44810532  0.38537089 -1.10967974  0.27730102 -0.1549545   0.07472531\n",
      " -1.22619679 -0.2453424  -1.79443202 -1.55738679 -0.29766924  0.09601756\n",
      " -1.38818174 -2.51422242  0.23086855 -0.43561046  0.66054258 -0.40527005\n",
      " -1.15832765 -0.72482504 -1.74165859 -0.3705727  -1.13919098 -1.52215558\n",
      "  0.23527871  0.24207072 -1.16638053  1.45475391  1.32367029  0.63750387\n",
      "  0.34384894  0.71985839  0.35208035 -2.30492429  1.71602815  0.42170186\n",
      "  1.82290014  1.4100354   0.28902639 -1.16211057  1.48349769  1.41882957\n",
      "  2.11313376  1.28485131 -0.43507727 -0.85600246 -0.08987055 -0.50736684\n",
      "  0.01423551 -1.00584963 -0.88553845 -0.41189599 -0.27132718  0.12567088\n",
      " -0.97990599  1.42251326  1.08542376 -0.6479666  -0.21396694 -1.58268498\n",
      " -0.21239817  1.0445865   0.13485741 -0.16163435 -0.25205391 -0.21855109\n",
      " -0.02429913 -0.76449093 -0.90832245  0.4760762   0.55167323  0.67750181\n",
      "  1.83752422  1.38894624 -1.21976634 -0.56485976  0.22381807 -0.85506691\n",
      "  0.45001609 -0.79259713 -1.12430074 -0.33787738 -0.40529942 -0.92918446\n",
      " -0.12755648 -0.86272224  0.54323331  0.36224716 -0.06502576  0.63096293\n",
      " -0.50381022  0.66150367 -0.18634527 -0.71168016  0.04311009 -0.91803737\n",
      "  1.03651274 -0.85463646 -2.2925512   0.02533386  1.93725363 -0.43281411\n",
      "  0.24059434  0.34751271 -0.94887944  2.24066108 -0.66832084 -0.88793143\n",
      " -0.21567765  0.39396238  0.00831455  0.1513238   1.33734033  1.43132017\n",
      "  1.37476659 -0.66815879  3.09467312  1.38154065  0.36100663 -1.36173331\n",
      "  0.35903608 -2.12699199  0.14845595 -0.65764994  0.72143481 -0.29150666\n",
      " -1.33705736 -0.92390365 -0.73116191  0.92329216 -0.76942628  0.25007045\n",
      " -0.20641445 -0.33798558 -0.21217711  1.21850633 -0.18959931 -0.64227027\n",
      "  0.11741584 -0.31238874  0.41885834 -0.81843521 -0.86927249 -0.69579962\n",
      " -0.37074292  0.26232359  0.27221056 -0.45069072 -0.37837475 -1.98049594\n",
      "  1.13145829 -1.21752683  1.41410414  0.17956902  1.45866978  1.00861701\n",
      " -0.80239706 -0.95043055 -0.0518026   1.16253058  0.66883808 -1.23438608\n",
      " -1.52684898 -0.72124422 -0.20961359 -0.29708586  0.7348936   0.22441675\n",
      "  0.10735223 -0.42656102 -0.84927324  2.2680751  -0.42733275  1.81154492\n",
      "  2.27707783  0.23829414 -1.20030074  1.03915716  1.81039388 -0.11329323\n",
      "  2.34327782 -0.11176033 -0.99414843  1.15942109  0.83988596  0.41818116\n",
      "  0.74933821  0.31448362 -1.06767835  0.4013971   2.54402168 -0.4069307\n",
      " -0.87171013 -0.57269404 -0.31070463 -0.70426451  0.43733877 -0.31792006\n",
      "  0.58059137  0.67521191 -0.15611341 -1.01432224 -0.2454371   0.94000012\n",
      "  1.62588359 -0.62714691 -1.54457543  0.14163431]\n"
     ]
    }
   ],
   "source": [
    "print(data)\n",
    "print()\n",
    "print(data_5)"
   ]
  },
  {
   "cell_type": "code",
   "execution_count": 29,
   "id": "fd2a36e0",
   "metadata": {},
   "outputs": [
    {
     "name": "stdout",
     "output_type": "stream",
     "text": [
      "(-2.945, -1.209]    100\n",
      "(-1.209, 0.0329]    400\n",
      "(0.0329, 1.221]     400\n",
      "(1.221, 3.216]      100\n",
      "Name: count, dtype: int64\n",
      "\n",
      "(-2.8, -1.177]        40\n",
      "(-1.177, -0.0247]    160\n",
      "(-0.0247, 1.389]     160\n",
      "(1.389, 3.444]        40\n",
      "Name: count, dtype: int64\n"
     ]
    }
   ],
   "source": [
    "print(pd.qcut(data, [0, 0.1, 0.5, 0.9, 1.]).value_counts())\n",
    "print()\n",
    "print(pd.qcut(data_5, [0, 0.1, 0.5, 0.9, 1.]).value_counts())"
   ]
  },
  {
   "cell_type": "markdown",
   "id": "5b436e9f-f304-4df8-b946-6a24e89261aa",
   "metadata": {},
   "source": [
    "El segundo argumento `[0, 0.1, 0.5, 0.9, 1.]` especifica los puntos de corte para los cuantiles.  \n",
    "Estos puntos de corte son porcentajes que indican cómo se deben dividir los datos.  \n",
    "\n",
    "`0` corresponde al valor mínimo.  \n",
    "`0.1` corresponde al percentil 10 (el valor por debajo del cual se encuentra el 10% de los datos).  \n",
    "`0.5` corresponde al percentil 50 (la mediana).  \n",
    "`0.9` corresponde al percentil 90 (el valor por debajo del cual se encuentra el 90% de los datos).  \n",
    "`1.` corresponde al valor máximo.  "
   ]
  },
  {
   "cell_type": "markdown",
   "id": "b6dfbfae-bb58-4ba5-84e2-ed435dd2da3f",
   "metadata": {},
   "source": [
    "# Fin Clase 72"
   ]
  },
  {
   "cell_type": "markdown",
   "id": "7b325ebd",
   "metadata": {
    "jp-MarkdownHeadingCollapsed": true,
    "slideshow": {
     "slide_type": "slide"
    }
   },
   "source": [
    "### Detección y filtrado de valores atípicos (outliers)\n",
    "\n",
    "Filtrar o transformar los valores atípicos es en gran medida una cuestión de aplicar operaciones de arrays. Considere un DataFrame con algunos datos distribuidos normalmente:"
   ]
  },
  {
   "cell_type": "code",
   "execution_count": 45,
   "id": "f96476c9",
   "metadata": {},
   "outputs": [
    {
     "name": "stdout",
     "output_type": "stream",
     "text": [
      "Original DataFrame:\n",
      "          A         B         C\n",
      "0  1.764052  0.400157  0.978738\n",
      "1  2.240893  1.867558 -0.977278\n",
      "2  0.950088 -0.151357 -0.103219\n",
      "3  0.410599  0.144044  1.454274\n",
      "4  0.761038  0.121675  0.443863\n",
      "\n",
      "Z-Scores:\n",
      "          A         B         C\n",
      "0  1.621322  0.299284  1.130061\n",
      "1  2.086064  1.793542  0.874086\n",
      "2  0.828011  0.262324  0.021481\n",
      "3  0.302210  0.038483  1.617298\n",
      "4  0.643758  0.015705  0.582025\n",
      "\n",
      "Outliers (boolean mask):\n",
      "       A      B      C\n",
      "0  False  False  False\n",
      "1  False  False  False\n",
      "2  False  False  False\n",
      "3  False  False  False\n",
      "4  False  False  False\n"
     ]
    }
   ],
   "source": [
    "import numpy as np\n",
    "import pandas as pd\n",
    "from scipy import stats\n",
    "\n",
    "# Configurar la semilla para reproducibilidad\n",
    "np.random.seed(0)\n",
    "\n",
    "# Crear un DataFrame con datos distribuidos normalmente\n",
    "data = np.random.normal(loc=0, scale=1, size=(100, 3))  # 100 filas y 3 columnas\n",
    "df = pd.DataFrame(data, columns=['A', 'B', 'C'])\n",
    "\n",
    "print(\"Original DataFrame:\")\n",
    "print(df.head())\n",
    "\n",
    "# Paso 1: Calcular el Z-Score para identificar outliers\n",
    "z_scores = np.abs(stats.zscore(df))\n",
    "\n",
    "# Definir un umbral para considerar un valor como outlier\n",
    "threshold = 3\n",
    "\n",
    "# Identificar valores atípicos\n",
    "outliers = (z_scores > threshold)\n",
    "\n",
    "print(\"\\nZ-Scores:\")\n",
    "print(z_scores[:5])  # Mostrar las primeras 5 filas para verificar\n",
    "\n",
    "print(\"\\nOutliers (boolean mask):\")\n",
    "print(outliers[:5])  # Mostrar las primeras 5 filas para verificar\n",
    "\n",
    "\n",
    "\n"
   ]
  }
 ],
 "metadata": {
  "celltoolbar": "Slideshow",
  "kernelspec": {
   "display_name": "Python 3 (ipykernel)",
   "language": "python",
   "name": "python3"
  },
  "language_info": {
   "codemirror_mode": {
    "name": "ipython",
    "version": 3
   },
   "file_extension": ".py",
   "mimetype": "text/x-python",
   "name": "python",
   "nbconvert_exporter": "python",
   "pygments_lexer": "ipython3",
   "version": "3.11.9"
  }
 },
 "nbformat": 4,
 "nbformat_minor": 5
}

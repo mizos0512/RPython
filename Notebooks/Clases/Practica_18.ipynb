{
 "cells": [
  {
   "cell_type": "markdown",
   "metadata": {},
   "source": [
    "1. Escriba un programa que pregunte una y otra vez si desea continuar con el programa,\n",
    "siempre que se conteste exactamente sí (en minúsculas y con tilde)."
   ]
  },
  {
   "cell_type": "code",
   "execution_count": 4,
   "metadata": {},
   "outputs": [
    {
     "name": "stdout",
     "output_type": "stream",
     "text": [
      "Continuamos....\n",
      "Fin\n"
     ]
    }
   ],
   "source": [
    "while True:\n",
    "    r = input(\"¿Dese continuar con el programa (responda 'sí' para terminar)?: \")\n",
    "    if r == \"sí\":\n",
    "        print(\"Continuamos....\")\n",
    "    else:\n",
    "        print(\"Fin\")\n",
    "        break\n"
   ]
  },
  {
   "cell_type": "markdown",
   "metadata": {},
   "source": [
    "2. Escriba un programa que pregunte una y otra vez si desea terminar el programa, siempre\n",
    "que se conteste exactamente N (en mayúsculas)."
   ]
  },
  {
   "cell_type": "code",
   "execution_count": 3,
   "metadata": {},
   "outputs": [
    {
     "name": "stdout",
     "output_type": "stream",
     "text": [
      "Continuamos...\n",
      "Continuamos...\n",
      "Continuamos...\n",
      "Continuamos...\n",
      "Fin.\n"
     ]
    }
   ],
   "source": [
    "while True:\n",
    "    r = input(\"¿Deseas terminar con el programa (N termina)?: \")\n",
    "    if r == \"N\":\n",
    "        print(\"Fin.\")\n",
    "        break\n",
    "    else:\n",
    "        print(\"Continuamos...\")\n"
   ]
  },
  {
   "cell_type": "markdown",
   "metadata": {},
   "source": [
    "3. Escriba un programa que pregunte una y otra vez si desea continuar con el programa,\n",
    "siempre que se conteste S o s (en mayúsculas o en minúsculas)."
   ]
  },
  {
   "cell_type": "code",
   "execution_count": 5,
   "metadata": {},
   "outputs": [
    {
     "name": "stdout",
     "output_type": "stream",
     "text": [
      "Continuamos...\n",
      "Continuamos...\n",
      "Fin.\n"
     ]
    }
   ],
   "source": [
    "while True:\n",
    "    r = (input(\"¿Deseas continuar con el programa S/s?: \")).upper()\n",
    "    if r == \"S\":\n",
    "        print(\"Continuamos...\")\n",
    "    else:\n",
    "        print(\"Fin.\")\n",
    "        break\n"
   ]
  },
  {
   "cell_type": "markdown",
   "metadata": {},
   "source": [
    "4. Escriba un programa que solicite una contraseña (el texto de la contraseña no es importante)\n",
    "y la vuelva a solicitar hasta que las dos contraseñas coincidan"
   ]
  },
  {
   "cell_type": "code",
   "execution_count": 7,
   "metadata": {},
   "outputs": [
    {
     "name": "stdout",
     "output_type": "stream",
     "text": [
      "Las contraseñas no coinciden. Inténtelo de nuevo.\n"
     ]
    }
   ],
   "source": [
    "# Solicitar y confirmar la contraseña hasta que coincidan\n",
    "while True:\n",
    "    psw1 = input(\"Ingrese la contraseña: \")\n",
    "    psw2 = input(\"Confirme la contraseña: \")\n",
    "    \n",
    "    if psw1 == psw2:\n",
    "        print(\"Acceso concedido...\")\n",
    "        break\n",
    "    else:\n",
    "        print(\"Las contraseñas no coinciden. Inténtelo de nuevo.\")\n"
   ]
  },
  {
   "cell_type": "markdown",
   "metadata": {},
   "source": [
    "5. Escriba un programa que simule una hucha. El programa solicitará primero una cantidad, que será\n",
    "la cantidad de dinero que queremos ahorrar. A continuación, el programa solicitará una y otra vez las cantidades que se irán ahorrando, hasta que el total ahorrado iguale o supere al objetivo. El\n",
    "programa no comprobará que las cantidades sean positivas."
   ]
  },
  {
   "cell_type": "code",
   "execution_count": 3,
   "metadata": {},
   "outputs": [
    {
     "name": "stdout",
     "output_type": "stream",
     "text": [
      "\n",
      "Objetivo: 500.00\n",
      "Total ahorrado: 100.00\n",
      "Total ahorrado hasta la fecha: 100.00\n",
      "\n",
      "Objetivo: 500.00\n",
      "Total ahorrado: 100.00\n",
      "Total ahorrado hasta la fecha: 200.00\n",
      "\n",
      "Objetivo: 500.00\n",
      "Total ahorrado: 200.00\n",
      "Total ahorrado hasta la fecha: 400.00\n",
      "\n",
      "Objetivo: 500.00\n",
      "Total ahorrado: 100.00\n",
      "Total ahorrado hasta la fecha: 500.00\n",
      "\n",
      "Cumpliste con tus ahorros... 500.00\n"
     ]
    }
   ],
   "source": [
    "\n",
    "ahorro= 0.0\n",
    "cantidadObjetivo = float(input(\"Ingrese la cantidad que desea ahorrar: \"))\n",
    "\n",
    "while ahorro < cantidadObjetivo:\n",
    "    total = float(input(\"Ingrese la cantidad ahorrada: \"))\n",
    "    print() \n",
    "    print(f\"Objetivo: {cantidadObjetivo}0\")\n",
    "    print(f\"Total ahorrado: {total:.2f}\")\n",
    "    ahorro += total\n",
    "    print(f\"Total ahorrado hasta la fecha: {ahorro:.2f}\")\n",
    "print()\n",
    "print(f\"Cumpliste con tus ahorros... {ahorro:.2f}\")\n"
   ]
  },
  {
   "cell_type": "markdown",
   "metadata": {},
   "source": [
    "6. Escriba un programa que mejore la simulación de la hucha del ejercicio anterior, no permitiendo\n",
    "que se escriban cantidades negativas."
   ]
  },
  {
   "cell_type": "code",
   "execution_count": 4,
   "metadata": {},
   "outputs": [
    {
     "name": "stdout",
     "output_type": "stream",
     "text": [
      "\n",
      "Objetivo: 500.00\n",
      "Total ahorrado: 200.00\n",
      "Total ahorrado hasta fecha: 200.00\n",
      "\n",
      "\n",
      "Objetivo: 500.00\n",
      "Total ahorrado: 100.00\n",
      "Total ahorrado hasta fecha: 300.00\n",
      "\n",
      "\n",
      "No se permiten valores negativos...\n",
      "\n",
      "\n",
      "Objetivo: 500.00\n",
      "Total ahorrado: 200.00\n",
      "Total ahorrado hasta fecha: 500.00\n",
      "\n",
      "\n",
      "Cumpliste con tus ahorros... 500.00\n"
     ]
    }
   ],
   "source": [
    "\n",
    "ahorro= 0.0\n",
    "cantidadObjetivo = float(input(\"Ingrese la cantidad que desea ahorrar: \"))\n",
    "while ahorro < cantidadObjetivo:\n",
    "    total = float(input(\"Ingrese la cantidad ahorrada: \"))\n",
    "    print()\n",
    "    if total<0:\n",
    "        print(\"No se permiten valores negativos...\")\n",
    "    else:   \n",
    "        print(f\"Objetivo: {cantidadObjetivo}0\")\n",
    "        print(f\"Total ahorrado: {total:.2f}\")\n",
    "        ahorro += total \n",
    "        print(f\"Total ahorrado hasta fecha: {ahorro:.2f}\")\n",
    "    print() \n",
    "    \n",
    "print()\n",
    "print(f\"Cumpliste con tus ahorros... {ahorro:.2f}\")\n",
    "\n",
    "\n",
    "\n"
   ]
  },
  {
   "cell_type": "markdown",
   "metadata": {},
   "source": [
    "7. Escriba un programa que solicite una contraseña (el texto de la contraseña no es importante) y la\n",
    "vuelva a solicitar hasta que las dos contraseñas coincidan, con un límite de tres peticiones."
   ]
  },
  {
   "cell_type": "code",
   "execution_count": 7,
   "metadata": {},
   "outputs": [
    {
     "name": "stdout",
     "output_type": "stream",
     "text": [
      "Las contraseñas no coinciden. Solo tiene 2 intentos.\n",
      "Las contraseñas no coinciden. Solo tiene 1 intentos.\n",
      "Acceso permitido.\n"
     ]
    }
   ],
   "source": [
    "intentos = 3\n",
    "psw = input(\"Teclee la contraseña: \")\n",
    "\n",
    "while intentos > 0:\n",
    "    confirmacion = input(\"Confirme la contraseña: \")\n",
    "    if confirmacion == psw:\n",
    "        print(\"Acceso permitido.\")\n",
    "        break\n",
    "    else:\n",
    "        intentos -= 1\n",
    "        print(f\"Las contraseñas no coinciden. Solo tiene {intentos} intentos.\")\n",
    "    if intentos == 0:\n",
    "        print(\"Lo siento, no tiene mas intentos...\")\n",
    "\n"
   ]
  },
  {
   "cell_type": "markdown",
   "metadata": {},
   "source": [
    "8. Escriba un programa que lea los números enteros desde teclado, hasta que el usuario ingrese el 0. Finalmente, mostrar la sumatoria de todos los números ingresados"
   ]
  },
  {
   "cell_type": "code",
   "execution_count": 26,
   "metadata": {},
   "outputs": [
    {
     "name": "stdout",
     "output_type": "stream",
     "text": [
      "Numero entrado: 10\n",
      "Numero entrado: 10\n",
      "Numero entrado: 10\n",
      "Entrada no válida, debe ser un numero entero positivo...\n",
      "Numero entrado: 2\n",
      "Numero entrado: 2\n",
      "Entrada no válida, debe ser un numero entero positivo...\n",
      "Entrada no válida, debe ser un numero entero positivo...\n",
      "Numero entrado: 3\n",
      "La sumatoria de todos los números enteros poitivos tecleados es: 37\n"
     ]
    }
   ],
   "source": [
    "\n",
    "suma = 0\n",
    "while True:\n",
    "  numero = int(input(\"Teclee un número entero positivo (0 para terminar): \"))\n",
    "  if (numero<0): \n",
    "    print(\"Entrada no válida, debe ser un numero entero positivo...\")\n",
    "  else:  \n",
    "    if numero == 0:\n",
    "      break\n",
    "    suma += numero\n",
    "    print(f\"Numero entrado: {numero}\")\n",
    "print(f\"La sumatoria de todos los números enteros poitivos tecleados es: {suma}\")\n"
   ]
  },
  {
   "cell_type": "markdown",
   "metadata": {},
   "source": [
    "9. Escriba un programa que lea los números enteros desde teclado, hasta que el usuario ingrese el 0. Finalmente, mostrar la cantidad de todos los números positivos ingresados."
   ]
  },
  {
   "cell_type": "code",
   "execution_count": 29,
   "metadata": {},
   "outputs": [
    {
     "name": "stdout",
     "output_type": "stream",
     "text": [
      "\n",
      "número tecleado: 3\n",
      "Cantidad positivo: 1\n",
      "\n",
      "número tecleado: 1\n",
      "Cantidad positivo: 2\n",
      "\n",
      "número tecleado: -6\n",
      "Cantidad positivo: 2\n",
      "\n",
      "número tecleado: -7\n",
      "Cantidad positivo: 2\n",
      "\n",
      "número tecleado: -6\n",
      "Cantidad positivo: 2\n",
      "\n",
      "número tecleado: 5\n",
      "Cantidad positivo: 3\n",
      "\n",
      "número tecleado: -9\n",
      "Cantidad positivo: 3\n",
      "La cantidad de números positivos tecleados es: 3\n"
     ]
    }
   ],
   "source": [
    "n = 0\n",
    "while True:\n",
    "    numero = int(input(\"Teclee un número entero (0 para terminar): \"))\n",
    "    if numero == 0:\n",
    "        break\n",
    "    if numero > 0:\n",
    "        n += 1\n",
    "    print()\n",
    "    print(f\"número tecleado: {numero}\")\n",
    "    print(f\"Cantidad positivo: {n}\")    \n",
    "print()\n",
    "print(f\"La cantidad de números positivos tecleados es: {n}\")\n"
   ]
  },
  {
   "cell_type": "markdown",
   "metadata": {},
   "source": [
    "10. Escriba un programa que lea los números enteros positivos de teclado, hasta que el usuario \n",
    "ingrese el 0. Informar cuál fue el mayor número ingresado"
   ]
  },
  {
   "cell_type": "code",
   "execution_count": 30,
   "metadata": {},
   "outputs": [
    {
     "name": "stdout",
     "output_type": "stream",
     "text": [
      "\n",
      "Numero tecleado: 5\n",
      "El mayor hasta el momento es: 5\n",
      "\n",
      "Numero tecleado: 6\n",
      "El mayor hasta el momento es: 6\n",
      "Entrada no válida, solo se permite enteros positivos...\n",
      "\n",
      "Numero tecleado: -5\n",
      "El mayor hasta el momento es: 6\n",
      "Entrada no válida, solo se permite enteros positivos...\n",
      "\n",
      "Numero tecleado: -7\n",
      "El mayor hasta el momento es: 6\n",
      "\n",
      "Numero tecleado: 3\n",
      "El mayor hasta el momento es: 6\n",
      "\n",
      "Numero tecleado: 2\n",
      "El mayor hasta el momento es: 6\n",
      "\n",
      "El mayor número es: 6\n"
     ]
    }
   ],
   "source": [
    "mayor = None\n",
    "while True:\n",
    "    numero = int(input(\"Teclee un número entero positivo (0 para terminar): \"))\n",
    "    if numero == 0:\n",
    "        break\n",
    "    if numero > 0:\n",
    "        if mayor is None or numero > mayor:\n",
    "            mayor = numero\n",
    "    else:\n",
    "        print(\"Entrada no válida, solo se permite enteros positivos...\")\n",
    "    print()\n",
    "    print(f\"Numero tecleado: {numero}\")\n",
    "    print(f\"El mayor hasta el momento es: {mayor}\") \n",
    "\n",
    "print()\n",
    "if mayor is not None:\n",
    "    print(f\"El mayor número es: {mayor}\")\n",
    "else:\n",
    "    print(\"Los números ingresados no fueron positivos...\")\n"
   ]
  }
 ],
 "metadata": {
  "kernelspec": {
   "display_name": "Python 3",
   "language": "python",
   "name": "python3"
  },
  "language_info": {
   "codemirror_mode": {
    "name": "ipython",
    "version": 3
   },
   "file_extension": ".py",
   "mimetype": "text/x-python",
   "name": "python",
   "nbconvert_exporter": "python",
   "pygments_lexer": "ipython3",
   "version": "3.12.1"
  }
 },
 "nbformat": 4,
 "nbformat_minor": 2
}

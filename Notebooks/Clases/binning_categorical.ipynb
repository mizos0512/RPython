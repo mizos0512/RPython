{
 "cells": [
  {
   "cell_type": "markdown",
   "metadata": {},
   "source": [
    "Trabajar con datos categóricos para fines de aprendizaje automático (ML) a veces puede presentar problemas complicados. En última instancia, estas características deben codificarse numéricamente de alguna manera para que un algoritmo de ML pueda realmente trabajar con ellas.\n",
    "\n",
    "También deberá considerar métodos adicionales para preparar sus características categóricas para el modelado. Por ejemplo, el rendimiento de su modelo puede beneficiarse de la clasificación de características categóricas . Esto significa básicamente agrupar varias categorías en una sola categoría. Al aplicar el conocimiento del dominio, puede ser capaz de diseñar nuevas categorías y características que representen mejor la estructura de sus datos.\n",
    "\n",
    "En esta publicación, explicaremos brevemente por qué puede resultar beneficioso agrupar las características categóricas. Luego, repasaremos tres métodos diferentes para agrupar las características categóricas con ejemplos específicos utilizando NumPy y Pandas."
   ]
  }
 ],
 "metadata": {
  "language_info": {
   "name": "python"
  }
 },
 "nbformat": 4,
 "nbformat_minor": 2
}

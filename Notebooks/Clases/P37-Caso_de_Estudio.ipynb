{
 "cells": [
  {
   "cell_type": "markdown",
   "id": "8361bf35-937e-49d8-a929-4e96f6d9d756",
   "metadata": {},
   "source": [
    "# **Caso de Estudio: Análisis de Ventas de una Cadena de Tiendas**"
   ]
  },
  {
   "cell_type": "markdown",
   "id": "57386a73-f678-4eef-9dba-a8121308c8ae",
   "metadata": {},
   "source": [
    "Contexto:  Supongamos que trabajas como científico de datos para una cadena de tiendas minoristas. Tu tarea es analizar las ventas de productos en diferentes tiendas y generar informes sobre la disponibilidad de productos, así como sobre las tendencias de ventas en distintas regiones.  \n",
    "\n",
    "\n",
    "Objetivo: Determinar la disponibilidad de productos específicos en diferentes tiendas.\n",
    "Alinear y analizar las ventas de productos para realizar una comparación entre diferentes regiones y tiendas.  \n",
    "\n",
    "Datos:  \n",
    "Productos: Un DataFrame con información sobre productos únicos.  \n",
    "Ventas: Un DataFrame con registros de ventas diarias.  \n",
    "Tiendas: Un DataFrame con información sobre las tiendas.  "
   ]
  },
  {
   "cell_type": "markdown",
   "id": "d6530140-4505-43e3-84d9-22d0a55f0117",
   "metadata": {},
   "source": [
    "### Estructura de los Datos\n",
    "\n",
    "#### Productos\n",
    "\n",
    "| ProductoID | Nombre      |\n",
    "|------------|-------------|\n",
    "| 1          | Laptop      |\n",
    "| 2          | Smartphone  |\n",
    "| 3          | Tablet      |\n",
    "| 4          | Accesorios  |\n",
    "\n",
    "#### Ventas\n",
    "\n",
    "| Fecha       | TiendaID | ProductoID | Ventas |\n",
    "|-------------|----------|------------|--------|\n",
    "| 2023-01-01  | 101      | 1          | 20     |\n",
    "| 2023-01-01  | 102      | 2          | 15     |\n",
    "| 2023-01-01  | 101      | 3          | 10     |\n",
    "| 2023-01-02  | 101      | 1          | 25     |\n",
    "| 2023-01-02  | 103      | 2          | 12     |\n",
    "\n",
    "#### Tiendas\n",
    "\n",
    "| TiendaID | Región |\n",
    "|----------|--------|\n",
    "| 101      | Norte  |\n",
    "| 102      | Sur    |\n",
    "| 103      | Este   |\n",
    "| 104      | Oeste  |"
   ]
  },
  {
   "cell_type": "markdown",
   "id": "16f3293a-38a8-41b8-a84f-980a79c009c5",
   "metadata": {},
   "source": [
    "### Uso de `Index.get_indexer`:  \n",
    "Vamos a utilizar **Index.get_indexer** para alinear los datos de ventas con los datos de productos y tiendas para realizar un análisis detallado."
   ]
  },
  {
   "cell_type": "markdown",
   "id": "eedbe50d-0b0d-4545-8ccd-5925a1416f16",
   "metadata": {},
   "source": [
    "Paso 1: Crear los dataframes"
   ]
  },
  {
   "cell_type": "code",
   "execution_count": 3,
   "id": "d8331641-3b24-4981-b9dc-e7734212f6d3",
   "metadata": {},
   "outputs": [],
   "source": [
    "import pandas as pd\n",
    "# DataFrame de productos\n",
    "productos = pd.DataFrame({\n",
    "    'ProductoID': [1, 2, 3, 4],\n",
    "    'Nombre': ['Laptop', 'Smartphone', 'Tablet', 'Accesorios']\n",
    "})\n",
    "\n",
    "# DataFrame de ventas\n",
    "ventas = pd.DataFrame({\n",
    "    'Fecha': ['2023-01-01', '2023-01-01', '2023-01-01', '2023-01-02', '2023-01-02'],\n",
    "    'TiendaID': [101, 102, 101, 101, 103],\n",
    "    'ProductoID': [1, 2, 3, 1, 2],\n",
    "    'Ventas': [20, 15, 10, 25, 12]\n",
    "})\n",
    "\n",
    "# DataFrame de tiendas\n",
    "tiendas = pd.DataFrame({\n",
    "    'TiendaID': [101, 102, 103, 104],\n",
    "    'Región': ['Norte', 'Sur', 'Este', 'Oeste']\n",
    "})"
   ]
  },
  {
   "cell_type": "markdown",
   "id": "cdfe92df-9de6-41d8-aa6d-03008491451f",
   "metadata": {},
   "source": [
    "Paso 2. Usar `Index.get_indexer` para Alinear Datos:  \n",
    "Queremos alinear los datos de ventas con los nombres de productos y las regiones de las tiendas."
   ]
  },
  {
   "cell_type": "code",
   "execution_count": 4,
   "id": "c7e80374-7efc-4c1c-9b53-e00bd7d40326",
   "metadata": {},
   "outputs": [
    {
     "name": "stdout",
     "output_type": "stream",
     "text": [
      "        Fecha  TiendaID  ProductoID  Ventas  ProductoIndex NombreProducto  \\\n",
      "0  2023-01-01       101           1      20              0         Laptop   \n",
      "1  2023-01-01       102           2      15              1     Smartphone   \n",
      "2  2023-01-01       101           3      10              2         Tablet   \n",
      "3  2023-01-02       101           1      25              0         Laptop   \n",
      "4  2023-01-02       103           2      12              1     Smartphone   \n",
      "\n",
      "   TiendaIndex Región  \n",
      "0            0  Norte  \n",
      "1            1    Sur  \n",
      "2            0  Norte  \n",
      "3            0  Norte  \n",
      "4            2   Este  \n"
     ]
    }
   ],
   "source": [
    "import numpy as np\n",
    "import pandas as pd\n",
    "\n",
    "producto_index = pd.Index(productos['ProductoID'])\n",
    "ventas['ProductoIndex'] = producto_index.get_indexer(ventas['ProductoID'])\n",
    "ventas['NombreProducto'] = productos.loc[ventas['ProductoIndex'], 'Nombre'].values\n",
    "\n",
    "tienda_index = pd.Index(tiendas['TiendaID'])\n",
    "ventas['TiendaIndex'] = tienda_index.get_indexer(ventas['TiendaID'])\n",
    "ventas['Región'] = tiendas.loc[ventas['TiendaIndex'], 'Región'].values\n",
    "\n",
    "print(ventas)\n"
   ]
  },
  {
   "cell_type": "markdown",
   "id": "78749657-4093-4a93-9b1a-2acadba909a3",
   "metadata": {},
   "source": [
    "### Explicar linea por linea el código utilizado en la celda 5."
   ]
  },
  {
   "cell_type": "markdown",
   "id": "7af39676-aaaf-4107-84a8-b057d8a41b4b",
   "metadata": {},
   "source": [
    "### Elabore un breve análisis de los resultados obtenidos. Destacar los principales insights y proponga recomendaciones de mejora para el negocio."
   ]
  },
  {
   "cell_type": "markdown",
   "id": "a7a8a8f2",
   "metadata": {},
   "source": [
    "CELDA 5:\n",
    "\n",
    "- import numpy as np: Se importan las librerias de 'numpy' y se asigna el alias 'np'\n",
    "\n",
    "- import pandas as pd: Se importa la librería de 'pandas' y se asigna el alias 'pd' \n",
    "\n",
    "- producto_index = pd.Index(productos['ProductoID']): Crea un objeto 'index' a partir de la columna 'ProductoID' del DataFrame 'producto' \n",
    "\n",
    "- ventas['ProductoIndex'] = producto_index.get_indexer(ventas['ProductoID']): La línea asigna una nueva columna llamada 'ProductoIndex' al DataFrame 'ventas'. Esta columna contiene los índices correspondientes de los valores en la columna 'ProductoID' del DataFrame 'ventas' en el índice 'producto_index'.\n",
    "\n",
    "- ventas['NombreProducto'] = productos.loc[ventas['ProductoIndex'], 'Nombre'].values: Realiza una operación que asigna nombres de productos a un DataFrame 'ventas' basándose en los índices de 'productos'.\n",
    "\n",
    "- tienda_index = pd.Index(tiendas['TiendaID']) se utiliza para crear un índice a partir de la columna 'TiendaID' del DataFrame 'tiendas'. \n",
    "\n",
    "- ventas['TiendaIndex'] = tienda_index.get_indexer(ventas['TiendaID']): La línea asigna una nueva columna llamada 'TiendaIndex' al DataFrame 'ventas'. Esta columna contiene los índices correspondientes de los valores en la columna 'TiendaID' del DataFrame 'ventas' en el índice 'tienda_index'.\n",
    " \n",
    "- ventas['Región'] = tiendas.loc[ventas['TiendaIndex'], 'Región'].values: El código asigna una columna Región al DataFrame ventas extrayendo los valores correspondientes de la columna Región del DataFrame tiendas, utilizando los índices mapeados en ventas['TiendaIndex'].\n",
    "\n",
    "- print(ventas): Imprime el 'DataFrame' ventas resultante."
   ]
  },
  {
   "cell_type": "markdown",
   "id": "fccdcbf8",
   "metadata": {},
   "source": [
    "- Se nota un incremento en las ventas de Laptop y Tablet ubicados en la tienda 101 de la Region Norte, no asi, de smartphone.\n",
    "\n",
    "- Es similar las ventas solo de smartphone en las tiendas 102 'sur' con 15 y 103 'este' con 12 \n",
    "\n",
    "- No se aportan datos del stock de poductos en las tiendas 'norte', 'sur' y 'este' de las tiendas 101, 102 y 103 en las regiones 'norte', 'sur' y 'este'\n",
    "\n",
    "RECOMENDACIONES\n",
    "- Hay que hacer un estudio de mercado, en las regiones de menos ventas y analizar factores como:\n",
    "  - Estrategias publicitarias\n",
    "  - Promociones y descuentos\n",
    "\n",
    "- Analizar las caracteristicas demográficas de los clientes de la Región (poblacion, sexo, edad, etc), asi como tambien sus gustos (en cuanto a productos), poder adqusitivo, necesidades, etc.\n",
    "\n",
    "- Hacer un estudio de disponibiliad de los productos y que sean accesible a la Región\n",
    "\n",
    "- Ubicación Geografica de las tiendas. Influye notablemente en la evaluación de los canales de ventas y puntos de distribución.\n",
    "\n",
    "- Analizar si existen competidores, y trazar estrategias de ventas al respecto.\n",
    "\n",
    "- Estudio de los precios\n",
    "\n",
    "- En cuanto a las tiendas, analizar factores internos que pueden estar incidiendo, tales como: Dirección, administración, Recursos humano, comercialización, marketing, etc.\n"
   ]
  }
 ],
 "metadata": {
  "kernelspec": {
   "display_name": "Python 3 (ipykernel)",
   "language": "python",
   "name": "python3"
  },
  "language_info": {
   "codemirror_mode": {
    "name": "ipython",
    "version": 3
   },
   "file_extension": ".py",
   "mimetype": "text/x-python",
   "name": "python",
   "nbconvert_exporter": "python",
   "pygments_lexer": "ipython3",
   "version": "3.11.9"
  }
 },
 "nbformat": 4,
 "nbformat_minor": 5
}

{
 "cells": [
  {
   "cell_type": "code",
   "execution_count": 5,
   "metadata": {},
   "outputs": [],
   "source": [
    "f = open('poesia.txt', 'r')\n",
    "lineas= f.readlines()\n",
    "nuevo_fichero = open('nueva_poesia.txt','w')\n",
    "for i, linea in enumerate(lineas):\n",
    "    nuevo_fichero.write(str(i)+' '+linea)\n",
    "nuevo_fichero.close()    "
   ]
  },
  {
   "cell_type": "code",
   "execution_count": 6,
   "metadata": {},
   "outputs": [
    {
     "name": "stdout",
     "output_type": "stream",
     "text": [
      "Tu eres el huracan y yo la alta\n",
      "\n",
      "torre que desafia su poder:\n",
      "\n",
      "Â¡tenias que estrelarte o que abatirme!\n",
      "\n",
      "Â¡No podia ser!\n",
      "\n",
      "TÃº eras el oceano y yo la enhiesta\n",
      "\n",
      "roca que firme aguarda su vaiven:\n",
      "\n",
      "Â¡tenias que romperte o que arrancarme !\n",
      "\n",
      "Â¡No podia ser!\n",
      "\n",
      "Hermosa tu, yo altivo: acostumbrados\n",
      "\n",
      "uno a arrollar, el otro a no ceder:\n",
      "\n",
      "la senda estrecha, inevitable el choque...\n",
      "\n",
      "Â¡No podia ser! \n"
     ]
    }
   ],
   "source": [
    "fichero = open('poesia.txt','r').readlines()\n",
    "for i, lin in enumerate(fichero):\n",
    "    print(lin)"
   ]
  },
  {
   "cell_type": "markdown",
   "metadata": {},
   "source": [
    "Creando un fichero con lo veinte primeros números enteros en una única línea."
   ]
  },
  {
   "cell_type": "code",
   "execution_count": 8,
   "metadata": {},
   "outputs": [
    {
     "name": "stdout",
     "output_type": "stream",
     "text": [
      "0 2 4 6 8 10 12 14 16 18 \n"
     ]
    }
   ],
   "source": [
    "num_par = open('pares_1.txt', 'w', encoding='utf-8')\n",
    "for i in [j for j in range(20) if j%2==0]:\n",
    "    num_par.write(str(i)+' ')\n",
    "num_par.close()    \n",
    "\n",
    "num_par = open('pares_1.txt', 'r')\n",
    "for i, line in enumerate(num_par):\n",
    "    print(line)\n",
    "       \n"
   ]
  },
  {
   "cell_type": "markdown",
   "metadata": {},
   "source": [
    "Haciendo uso del metodo writelines(), pasando un alista, escribiendo cada elemento en una línea, añadiendo un caracter de nueva linea tras cada número"
   ]
  },
  {
   "cell_type": "code",
   "execution_count": 9,
   "metadata": {},
   "outputs": [
    {
     "name": "stdout",
     "output_type": "stream",
     "text": [
      "0\n",
      "\n",
      "2\n",
      "\n",
      "4\n",
      "\n",
      "6\n",
      "\n",
      "8\n",
      "\n",
      "10\n",
      "\n",
      "12\n",
      "\n",
      "14\n",
      "\n",
      "16\n",
      "\n",
      "18\n",
      "\n"
     ]
    }
   ],
   "source": [
    "with open('pares_1.txt', 'w', encoding='utf-8') as n_pares:\n",
    "    n_pares.writelines([str(i)+'\\n' for i in range(20) if i%2==0])\n",
    "    \n",
    "\n",
    "lineas= open('pares_1.txt', 'r')\n",
    "for i, linea in enumerate(lineas):\n",
    "    print(linea)"
   ]
  },
  {
   "cell_type": "markdown",
   "metadata": {},
   "source": [
    "Usando readlines"
   ]
  },
  {
   "cell_type": "code",
   "execution_count": 10,
   "metadata": {},
   "outputs": [
    {
     "name": "stdout",
     "output_type": "stream",
     "text": [
      " ñ Á É Ó Í Ú á é í ó ú\n",
      "\n",
      " I j k % $ & ^```+´´¨´\n",
      "\n",
      "abdefgtojkññññññññññññ\n"
     ]
    }
   ],
   "source": [
    "with open('new.txt', encoding='utf-8') as f:\n",
    "    linea=f.readline()\n",
    "    while linea:\n",
    "        print(linea)\n",
    "        linea=f.readline()"
   ]
  },
  {
   "cell_type": "markdown",
   "metadata": {},
   "source": [
    "El siguiente programa abre un fichero y lo copia en otro"
   ]
  },
  {
   "cell_type": "code",
   "execution_count": 11,
   "metadata": {},
   "outputs": [],
   "source": [
    "with open('fichero.txt') as origen:\n",
    "    with open('copia.txt', 'w') as destino:\n",
    "        linea=origen.readline()\n",
    "        while linea:\n",
    "          destino.write(linea)\n",
    "          linea=origen.readline() \n",
    "     \n",
    "            \n"
   ]
  },
  {
   "cell_type": "markdown",
   "metadata": {},
   "source": [
    "Trabajando con ficheros csv. Se quiere saber el importe tota en el fichero csv subvenciones.csv"
   ]
  },
  {
   "cell_type": "code",
   "execution_count": 12,
   "metadata": {},
   "outputs": [
    {
     "name": "stdout",
     "output_type": "stream",
     "text": [
      "66487.94\n"
     ]
    }
   ],
   "source": [
    "import csv\n",
    "with open('subvenciones.csv', encoding='latin1') as fichero_csv:\n",
    "    lector=csv.reader(fichero_csv)\n",
    "    next(lector, None)\n",
    "    importe_total= 0\n",
    "    for linea in lector:\n",
    "        importe_total+=float(linea[2])\n",
    "    print(importe_total)    "
   ]
  }
 ],
 "metadata": {
  "kernelspec": {
   "display_name": "Curso_Python",
   "language": "python",
   "name": "python3"
  },
  "language_info": {
   "codemirror_mode": {
    "name": "ipython",
    "version": 3
   },
   "file_extension": ".py",
   "mimetype": "text/x-python",
   "name": "python",
   "nbconvert_exporter": "python",
   "pygments_lexer": "ipython3",
   "version": "3.12.1"
  }
 },
 "nbformat": 4,
 "nbformat_minor": 2
}

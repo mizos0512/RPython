{
 "cells": [
  {
   "cell_type": "markdown",
   "id": "1e77d8e2-2c90-4295-881b-24cef792d61a",
   "metadata": {},
   "source": [
    "# Ejercicios de Introducción a POO. Para los ejemplos resueltos solo debe explicar los códigos añadiendo comentarios. "
   ]
  },
  {
   "cell_type": "markdown",
   "id": "55b131c9-00aa-4526-87f8-691498b680cf",
   "metadata": {},
   "source": [
    "**1 - Escribe una clase llamada Número que mantenga un número entero. Debe tener los siguientes métodos para realizar diversas operaciones en el número entero:**"
   ]
  },
  {
   "cell_type": "markdown",
   "id": "6021058a-f27d-4cd7-bc3b-e1c864e7c6a4",
   "metadata": {},
   "source": [
    "```\n",
    "set_number(self, n) # convierte n en int  \n",
    "get_number(self) # devuelve el valor actual de int  \n",
    "print_number(self) # imprime el int  \n",
    "isnegative(self) # comprueba si int es negativo  \n",
    "isdivisibleby(self, n) # comprueba si int es divisible por n  \n",
    "valor_absoluto(self) # devuelve el valor absoluto de int\n",
    "```"
   ]
  },
  {
   "cell_type": "code",
   "execution_count": 1,
   "id": "a829f616-cb4f-4a26-98f7-b6a2815406f6",
   "metadata": {},
   "outputs": [
    {
     "name": "stdout",
     "output_type": "stream",
     "text": [
      "-1234\n",
      "5 no divide -1234\n",
      "El valor absoluto de -1234 is  1234\n"
     ]
    }
   ],
   "source": [
    "class Number:\n",
    "    \n",
    "    def set_number(self,n):\n",
    "        self.__num = n\n",
    "    def get_number(self):\n",
    "        return self.__num\n",
    "    def print_number(self):\n",
    "        print(self.__num)\n",
    "    def isnegative(self): \n",
    "        if self.__num < 0 :\n",
    "            return True\n",
    "        else:\n",
    "            return False \n",
    "\n",
    "    def isdivisibleby(self,n):\n",
    "        if n == 0:\n",
    "            return False\n",
    "        if self.__num % n == 0:\n",
    "            return True\n",
    "        else:\n",
    "            return False\n",
    "    \n",
    "    def absolute_value(self): \n",
    "        if self.__num >= 0:\n",
    "            return self.__num \n",
    "        else:\n",
    "            return-1*self.__num\n",
    "\n",
    "x = Number()\n",
    "x.set_number(-1234)\n",
    "x.print_number()\n",
    "if x.isdivisibleby(5) == True:\n",
    "    print(\"5 divides\", x.get_number())\n",
    "else:\n",
    "    print(\"5 no divide\", x.get_number())\n",
    "    \n",
    "print(\"El valor absoluto de\", x.get_number(), \"es \", x.absolute_value())"
   ]
  },
  {
   "cell_type": "markdown",
   "id": "6fd92f94-4b58-4558-9492-30d3947924aa",
   "metadata": {},
   "source": [
    "**2 - Escribe un programa para crear una clase llamada Fruta con atributos tamaño y color. Cree múltiples objetos de esta clase. Indique cuántos objetos se han creado a partir de la clase**"
   ]
  },
  {
   "cell_type": "code",
   "execution_count": 7,
   "id": "212d2c55-3405-4ace-b882-8490ede34ee3",
   "metadata": {},
   "outputs": [
    {
     "name": "stdout",
     "output_type": "stream",
     "text": [
      "Cantidad de frutas instanciadas: 4\n",
      "La fruta Platano tiene un tamaño de 5 y un color Amarillo\n",
      "La fruta Naranja tiene un tamaño de 4 y un color Anaranjado\n",
      "La fruta Manzana tiene un tamaño de 3 y un color Rojo\n",
      "La fruta Papaya tiene un tamaño de 3 y un color Anaranjado\n"
     ]
    }
   ],
   "source": [
    "class Fruit:\n",
    "    count = 0\n",
    "\n",
    "    def __init__(self, name='', size=0, color=''):\n",
    "        self.name = name\n",
    "        self.size = size\n",
    "        self.color = color\n",
    "        Fruit.count+=1\n",
    "    def display():\n",
    "        print(f\"Cantidad de frutas instanciadas: {Fruit.count}\")\n",
    "    def get_name(self):\n",
    "        return self.name\n",
    "    def get_size(self):\n",
    "        return self.size\n",
    "    def get_color(self):\n",
    "        return self.color\n",
    "\n",
    "     \n",
    "f1 = Fruit('Platano', 5, 'Amarillo')\n",
    "f2 = Fruit('Naranja', 4, 'Anaranjado')\n",
    "f3 = Fruit('Manzana', 3, 'Rojo')\n",
    "f4 = Fruit('Papaya', 3, 'Anaranjado')\n",
    "\n",
    "Fruit.display()\n",
    "print(f\"La fruta {f1.get_name()} tiene un tamaño de {f1.get_size()} y un color {f1.get_color()}\") \n",
    "print(f\"La fruta {f2.get_name()} tiene un tamaño de {f2.get_size()} y un color {f2.get_color()}\")\n",
    "print(f\"La fruta {f3.get_name()} tiene un tamaño de {f3.get_size()} y un color {f3.get_color()}\")\n",
    "print(f\"La fruta {f4.get_name()} tiene un tamaño de {f4.get_size()} y un color {f4.get_color()}\")       \n",
    "        "
   ]
  },
  {
   "cell_type": "markdown",
   "id": "5011b3dd-505b-4f53-a8ff-b0255d66d4d1",
   "metadata": {},
   "source": [
    "**Tips:**\n",
    "- **count** es un atributo de clase, no del objeto. Por lo tanto, se comparte entre todos los objetos de Fruit.\n",
    "- Puede inicializarse como `count = 0`, pero debe accederse a él utilizando `Fruit.count`\n"
   ]
  },
  {
   "cell_type": "markdown",
   "id": "94f3b466-79ad-4bfe-ac7c-bfda67f17adf",
   "metadata": {},
   "source": [
    "**3 - Escribe un programa que determine si dos objetos son del mismo tipo, si sus atributos son iguales y si apuntan al mismo objeto**"
   ]
  },
  {
   "cell_type": "code",
   "execution_count": 8,
   "id": "b9d20d65-2ef4-44ae-98f8-840fa7890451",
   "metadata": {},
   "outputs": [
    {
     "name": "stdout",
     "output_type": "stream",
     "text": [
      "Los atributos de c1 y c2 son diferentes\n",
      "c1 y c3 son del mismo tipo\n",
      "c1 y c3 están apuntando al mismo objeto\n"
     ]
    }
   ],
   "source": [
    "class Complex:\n",
    "    def __init__(self, r = 0.0, i = 0.0):\n",
    "        self.__real = r\n",
    "        self.__imag = i\n",
    "    \n",
    "    def __eq__(self, other):\n",
    "        if self.__real == other.__real and self.__imag == other.imag:\n",
    "            return True\n",
    "        else:\n",
    "            return False\n",
    "c1 = Complex(1.1, 0.2)\n",
    "c2 = Complex(2.1, 0.4)\n",
    "c3 = c1\n",
    "\n",
    "if c1 == c2:\n",
    "    print('Los atributos de c1 y c2 son iguales')\n",
    "else:\n",
    "    print('Los atributos de c1 y c2 son diferentes')\n",
    "    \n",
    "if type(c1)==type(c3):\n",
    "    print('c1 y c3 son del mismo tipo')\n",
    "else:\n",
    "    print('c1 y c3 son de tipo diferente')\n",
    "\n",
    "if c1 is c3:\n",
    "    print('c1 y c3 están apuntando al mismo objeto')\n",
    "else:\n",
    "    print('c1 y c3 están poapuntando a objetos diferentes')"
   ]
  },
  {
   "cell_type": "markdown",
   "id": "107fcc1e-e2f2-47d1-92dc-c33699374d35",
   "metadata": {},
   "source": [
    "**Tips:**  \n",
    "- La función __eq__(self,other) se utiliza cunado se compara con el operador '==', dos objetos;\n",
    "  'self' es el objeto actual y 'other' es el otro.\n",
    "- Para comparar atributos de dos objetos complejos hemos sobrecargado (overloaded) el operador `==`, definiendo la función __eq__(). Para mas información sobre overloading == ve al [siguiente enlace](https://www.pythonmorsels.com/overloading-equality-in-python/).\n",
    "- `type( )` se utiliza para obtener el tipo de un objeto. Los tipos tambien pueden compararse utilizando el operador `==`.\n",
    "- La palabra clave `is` se utiliza para comprobar si c1 y c3 apuntan al mismo objeto.\n"
   ]
  },
  {
   "cell_type": "markdown",
   "id": "bef2bd48-159e-45ee-9e79-fa028667059f",
   "metadata": {},
   "source": [
    "**4 - Escribe un programa para obtener una lista de funciones built-in.**"
   ]
  },
  {
   "cell_type": "code",
   "execution_count": 10,
   "id": "cf98c435-824c-488f-93d4-4bf4d826cdb1",
   "metadata": {},
   "outputs": [
    {
     "name": "stdout",
     "output_type": "stream",
     "text": [
      "['ArithmeticError', 'AssertionError', 'AttributeError', 'BaseException', 'BaseExceptionGroup', 'BlockingIOError', 'BrokenPipeError', 'BufferError', 'BytesWarning', 'ChildProcessError', 'ConnectionAbortedError', 'ConnectionError', 'ConnectionRefusedError', 'ConnectionResetError', 'DeprecationWarning', 'EOFError', 'Ellipsis', 'EncodingWarning', 'EnvironmentError', 'Exception', 'ExceptionGroup', 'False', 'FileExistsError', 'FileNotFoundError', 'FloatingPointError', 'FutureWarning', 'GeneratorExit', 'IOError', 'ImportError', 'ImportWarning', 'IndentationError', 'IndexError', 'InterruptedError', 'IsADirectoryError', 'KeyError', 'KeyboardInterrupt', 'LookupError', 'MemoryError', 'ModuleNotFoundError', 'NameError', 'None', 'NotADirectoryError', 'NotImplemented', 'NotImplementedError', 'OSError', 'OverflowError', 'PendingDeprecationWarning', 'PermissionError', 'ProcessLookupError', 'RecursionError', 'ReferenceError', 'ResourceWarning', 'RuntimeError', 'RuntimeWarning', 'StopAsyncIteration', 'StopIteration', 'SyntaxError', 'SyntaxWarning', 'SystemError', 'SystemExit', 'TabError', 'TimeoutError', 'True', 'TypeError', 'UnboundLocalError', 'UnicodeDecodeError', 'UnicodeEncodeError', 'UnicodeError', 'UnicodeTranslateError', 'UnicodeWarning', 'UserWarning', 'ValueError', 'Warning', 'WindowsError', 'ZeroDivisionError', '__IPYTHON__', '__build_class__', '__debug__', '__doc__', '__import__', '__loader__', '__name__', '__package__', '__spec__', 'abs', 'aiter', 'all', 'anext', 'any', 'ascii', 'bin', 'bool', 'breakpoint', 'bytearray', 'bytes', 'callable', 'chr', 'classmethod', 'compile', 'complex', 'copyright', 'credits', 'delattr', 'dict', 'dir', 'display', 'divmod', 'enumerate', 'eval', 'exec', 'execfile', 'filter', 'float', 'format', 'frozenset', 'get_ipython', 'getattr', 'globals', 'hasattr', 'hash', 'help', 'hex', 'id', 'input', 'int', 'isinstance', 'issubclass', 'iter', 'len', 'license', 'list', 'locals', 'map', 'max', 'memoryview', 'min', 'next', 'object', 'oct', 'open', 'ord', 'pow', 'print', 'property', 'range', 'repr', 'reversed', 'round', 'runfile', 'set', 'setattr', 'slice', 'sorted', 'staticmethod', 'str', 'sum', 'super', 'tuple', 'type', 'vars', 'zip']\n",
      "\n",
      "{'__name__': 'builtins', '__doc__': \"Built-in functions, types, exceptions, and other objects.\\n\\nThis module provides direct access to all 'built-in'\\nidentifiers of Python; for example, builtins.len is\\nthe full name for the built-in function len().\\n\\nThis module is not normally accessed explicitly by most\\napplications, but can be useful in modules that provide\\nobjects with the same name as a built-in value, but in\\nwhich the built-in of that name is also needed.\", '__package__': '', '__loader__': <class '_frozen_importlib.BuiltinImporter'>, '__spec__': ModuleSpec(name='builtins', loader=<class '_frozen_importlib.BuiltinImporter'>, origin='built-in'), '__build_class__': <built-in function __build_class__>, '__import__': <built-in function __import__>, 'abs': <built-in function abs>, 'all': <built-in function all>, 'any': <built-in function any>, 'ascii': <built-in function ascii>, 'bin': <built-in function bin>, 'breakpoint': <built-in function breakpoint>, 'callable': <built-in function callable>, 'chr': <built-in function chr>, 'compile': <built-in function compile>, 'delattr': <built-in function delattr>, 'dir': <built-in function dir>, 'divmod': <built-in function divmod>, 'eval': <built-in function eval>, 'exec': <built-in function exec>, 'format': <built-in function format>, 'getattr': <built-in function getattr>, 'globals': <built-in function globals>, 'hasattr': <built-in function hasattr>, 'hash': <built-in function hash>, 'hex': <built-in function hex>, 'id': <built-in function id>, 'input': <bound method Kernel.raw_input of <ipykernel.ipkernel.IPythonKernel object at 0x0000020EFFB590D0>>, 'isinstance': <built-in function isinstance>, 'issubclass': <built-in function issubclass>, 'iter': <built-in function iter>, 'aiter': <built-in function aiter>, 'len': <built-in function len>, 'locals': <built-in function locals>, 'max': <built-in function max>, 'min': <built-in function min>, 'next': <built-in function next>, 'anext': <built-in function anext>, 'oct': <built-in function oct>, 'ord': <built-in function ord>, 'pow': <built-in function pow>, 'print': <built-in function print>, 'repr': <built-in function repr>, 'round': <built-in function round>, 'setattr': <built-in function setattr>, 'sorted': <built-in function sorted>, 'sum': <built-in function sum>, 'vars': <built-in function vars>, 'None': None, 'Ellipsis': Ellipsis, 'NotImplemented': NotImplemented, 'False': False, 'True': True, 'bool': <class 'bool'>, 'memoryview': <class 'memoryview'>, 'bytearray': <class 'bytearray'>, 'bytes': <class 'bytes'>, 'classmethod': <class 'classmethod'>, 'complex': <class 'complex'>, 'dict': <class 'dict'>, 'enumerate': <class 'enumerate'>, 'filter': <class 'filter'>, 'float': <class 'float'>, 'frozenset': <class 'frozenset'>, 'property': <class 'property'>, 'int': <class 'int'>, 'list': <class 'list'>, 'map': <class 'map'>, 'object': <class 'object'>, 'range': <class 'range'>, 'reversed': <class 'reversed'>, 'set': <class 'set'>, 'slice': <class 'slice'>, 'staticmethod': <class 'staticmethod'>, 'str': <class 'str'>, 'super': <class 'super'>, 'tuple': <class 'tuple'>, 'type': <class 'type'>, 'zip': <class 'zip'>, '__debug__': True, 'BaseException': <class 'BaseException'>, 'BaseExceptionGroup': <class 'BaseExceptionGroup'>, 'Exception': <class 'Exception'>, 'GeneratorExit': <class 'GeneratorExit'>, 'KeyboardInterrupt': <class 'KeyboardInterrupt'>, 'SystemExit': <class 'SystemExit'>, 'ArithmeticError': <class 'ArithmeticError'>, 'AssertionError': <class 'AssertionError'>, 'AttributeError': <class 'AttributeError'>, 'BufferError': <class 'BufferError'>, 'EOFError': <class 'EOFError'>, 'ImportError': <class 'ImportError'>, 'LookupError': <class 'LookupError'>, 'MemoryError': <class 'MemoryError'>, 'NameError': <class 'NameError'>, 'OSError': <class 'OSError'>, 'ReferenceError': <class 'ReferenceError'>, 'RuntimeError': <class 'RuntimeError'>, 'StopAsyncIteration': <class 'StopAsyncIteration'>, 'StopIteration': <class 'StopIteration'>, 'SyntaxError': <class 'SyntaxError'>, 'SystemError': <class 'SystemError'>, 'TypeError': <class 'TypeError'>, 'ValueError': <class 'ValueError'>, 'Warning': <class 'Warning'>, 'FloatingPointError': <class 'FloatingPointError'>, 'OverflowError': <class 'OverflowError'>, 'ZeroDivisionError': <class 'ZeroDivisionError'>, 'BytesWarning': <class 'BytesWarning'>, 'DeprecationWarning': <class 'DeprecationWarning'>, 'EncodingWarning': <class 'EncodingWarning'>, 'FutureWarning': <class 'FutureWarning'>, 'ImportWarning': <class 'ImportWarning'>, 'PendingDeprecationWarning': <class 'PendingDeprecationWarning'>, 'ResourceWarning': <class 'ResourceWarning'>, 'RuntimeWarning': <class 'RuntimeWarning'>, 'SyntaxWarning': <class 'SyntaxWarning'>, 'UnicodeWarning': <class 'UnicodeWarning'>, 'UserWarning': <class 'UserWarning'>, 'BlockingIOError': <class 'BlockingIOError'>, 'ChildProcessError': <class 'ChildProcessError'>, 'ConnectionError': <class 'ConnectionError'>, 'FileExistsError': <class 'FileExistsError'>, 'FileNotFoundError': <class 'FileNotFoundError'>, 'InterruptedError': <class 'InterruptedError'>, 'IsADirectoryError': <class 'IsADirectoryError'>, 'NotADirectoryError': <class 'NotADirectoryError'>, 'PermissionError': <class 'PermissionError'>, 'ProcessLookupError': <class 'ProcessLookupError'>, 'TimeoutError': <class 'TimeoutError'>, 'IndentationError': <class 'IndentationError'>, 'IndexError': <class 'IndexError'>, 'KeyError': <class 'KeyError'>, 'ModuleNotFoundError': <class 'ModuleNotFoundError'>, 'NotImplementedError': <class 'NotImplementedError'>, 'RecursionError': <class 'RecursionError'>, 'UnboundLocalError': <class 'UnboundLocalError'>, 'UnicodeError': <class 'UnicodeError'>, 'BrokenPipeError': <class 'BrokenPipeError'>, 'ConnectionAbortedError': <class 'ConnectionAbortedError'>, 'ConnectionRefusedError': <class 'ConnectionRefusedError'>, 'ConnectionResetError': <class 'ConnectionResetError'>, 'TabError': <class 'TabError'>, 'UnicodeDecodeError': <class 'UnicodeDecodeError'>, 'UnicodeEncodeError': <class 'UnicodeEncodeError'>, 'UnicodeTranslateError': <class 'UnicodeTranslateError'>, 'ExceptionGroup': <class 'ExceptionGroup'>, 'EnvironmentError': <class 'OSError'>, 'IOError': <class 'OSError'>, 'WindowsError': <class 'OSError'>, 'open': <built-in function open>, 'copyright': Copyright (c) 2001-2023 Python Software Foundation.\n",
      "All Rights Reserved.\n",
      "\n",
      "Copyright (c) 2000 BeOpen.com.\n",
      "All Rights Reserved.\n",
      "\n",
      "Copyright (c) 1995-2001 Corporation for National Research Initiatives.\n",
      "All Rights Reserved.\n",
      "\n",
      "Copyright (c) 1991-1995 Stichting Mathematisch Centrum, Amsterdam.\n",
      "All Rights Reserved., 'credits':     Thanks to CWI, CNRI, BeOpen.com, Zope Corporation and a cast of thousands\n",
      "    for supporting Python development.  See www.python.org for more information., 'license': See https://www.python.org/psf/license/, 'help': Type help() for interactive help, or help(object) for help about object., 'execfile': <function execfile at 0x0000020EFE76AC00>, 'runfile': <function runfile at 0x0000020EFE8A6C00>, '__IPYTHON__': True, 'display': <function display at 0x0000020EFD162AC0>, 'get_ipython': <bound method InteractiveShell.get_ipython of <ipykernel.zmqshell.ZMQInteractiveShell object at 0x0000020EFFB59AD0>>}\n"
     ]
    }
   ],
   "source": [
    "import builtins\n",
    "print(dir(builtins)) \n",
    "print( ) \n",
    "print(vars(builtins))"
   ]
  },
  {
   "cell_type": "markdown",
   "id": "d888a0fe-96ca-4f02-a74e-af0a2e7d20b5",
   "metadata": {},
   "source": [
    "**Tips:**  \n",
    "- En la salida anterior sólo se muestran elementos parciales del diccionario y de la lista. La salida real es mucho más exhaustiva"
   ]
  },
  {
   "cell_type": "markdown",
   "id": "60e17909-77ff-4eac-8901-5977700ac2eb",
   "metadata": {},
   "source": [
    "**5 - Supongamos que hemos definido dos funciones msg1( ) y msg2( ) en el módulo principal. ¿Cuál será la salida de vars( ) y dir( ) en el módulo actual? ¿Cómo se obtendrá la lista de nombres que están presentes en ambas salidas, los que son únicos en cualquiera de las listas?**"
   ]
  },
  {
   "cell_type": "code",
   "execution_count": 9,
   "id": "a01b6dc4-0364-4d13-9b0d-f7a41d65a2c5",
   "metadata": {},
   "outputs": [
    {
     "name": "stdout",
     "output_type": "stream",
     "text": [
      "['Complex', 'Fruit', 'In', 'Number', 'Out', '_', '__', '___', '__builtin__', '__builtins__', '__doc__', '__loader__', '__name__', '__package__', '__spec__', '__vsc_ipynb_file__', '_dh', '_i', '_i1', '_i2', '_i3', '_i4', '_i5', '_i6', '_i7', '_i8', '_i9', '_ih', '_ii', '_iii', '_oh', 'c1', 'c2', 'c3', 'd', 'exit', 'f1', 'f2', 'f3', 'f4', 'get_ipython', 'l', 'msg1', 'msg2', 'open', 'quit', 'x']\n",
      "['Complex', 'Fruit', 'In', 'Number', 'Out', '_', '__', '___', '__builtin__', '__builtins__', '__doc__', '__loader__', '__name__', '__package__', '__spec__', '__vsc_ipynb_file__', '_dh', '_i', '_i1', '_i2', '_i3', '_i4', '_i5', '_i6', '_i7', '_i8', '_i9', '_ih', '_ii', '_iii', '_oh', 'c1', 'c2', 'c3', 'd', 'exit', 'f1', 'f2', 'f3', 'f4', 'get_ipython', 'msg1', 'msg2', 'open', 'quit', 'x']\n",
      "{'l'}\n",
      "set()\n"
     ]
    }
   ],
   "source": [
    "def msg1( ) :\n",
    "    print('Los hermanos Wright también son responsables del 11 de septiembre')\n",
    "def msg2( ) :\n",
    "    print('Las células se dividen para multiplicarse')\n",
    "\n",
    "d = vars( ) \n",
    "l = dir( )\n",
    "print(sorted(d.keys()))\n",
    "print(l)\n",
    "print(d.keys( ) - l)\n",
    "print(l - d.keys( ))\n"
   ]
  },
  {
   "cell_type": "markdown",
   "id": "c9f9a470-7162-4d9a-9391-e29c753f7496",
   "metadata": {},
   "source": [
    "**Tips:**  \n",
    "- `set()` mostrado en la salida significa un conjunto vacío. Significa que no hay nada en l que no esté presente en d\n",
    "- La función vars() es una función integrada que devuelve el atributo __dict__\n",
    "  Sin argumentos; cuando vars() se llama sin argumentos, devuelve el diccionario de variables locales en el contexto actual; cuando se le pasa un objeto como argumento, devuelve el diccionario de los atributos de ese objeto. "
   ]
  },
  {
   "cell_type": "markdown",
   "id": "567e073e-ec42-45e1-9398-37b036d6a1e3",
   "metadata": {},
   "source": [
    "**6 - ¿Hay alguna diferencia en los valores devueltos por las funciones `dir()` y `vars(..).keys( )`? En caso afirmativo, escriba un programa para obtener esa diferencia?**"
   ]
  },
  {
   "cell_type": "code",
   "execution_count": 13,
   "id": "129f243f-0628-469b-8a45-54e9d77e2903",
   "metadata": {},
   "outputs": [
    {
     "name": "stdout",
     "output_type": "stream",
     "text": [
      "{'__dir__', '__setattr__', '__str__', '__reduce__', '__format__', '__class__', '__reduce_ex__', '__subclasshook__', '__init_subclass__', '__delattr__', '__getstate__'}\n"
     ]
    }
   ],
   "source": [
    "s = set(dir(list)).difference(vars(list).keys( ))\n",
    "print(s)"
   ]
  },
  {
   "cell_type": "markdown",
   "id": "b29d1b03-d418-4a05-b390-5a2d8167dadc",
   "metadata": {},
   "source": [
    "**Tips:**  \n",
    "- `dir(list)` devolverá una lista de atributos de tipo lista.\n",
    "- `vars(list).keys( )` devuelve una lista de claves del diccionario devuelto por vars() para el tipo de lista.\n",
    "- `difference( )` devuelve la diferencia entre las dos listas"
   ]
  },
  {
   "cell_type": "markdown",
   "id": "77c699b7-9889-4e4b-a722-582d3a7dad59",
   "metadata": {},
   "source": [
    "Preguntas de teoría:"
   ]
  },
  {
   "cell_type": "markdown",
   "id": "be6ae7d3-8dd0-41b5-b65f-3e27efb7077f",
   "metadata": {},
   "source": [
    "**[A] Diga si las siguientes afirmaciones son Verdaderas o Falsas:**  \n",
    "\n",
    "(a) Los atributos de clase y los atributos de objeto son iguales."
   ]
  },
  {
   "cell_type": "markdown",
   "id": "63e94186",
   "metadata": {},
   "source": [
    "FALSO:  Los atributos de clase son compartidos por todas las objetos de la clase, mientras que los atributos de objeto son específicos para cada objeto."
   ]
  },
  {
   "cell_type": "markdown",
   "id": "ea9b1879-c83b-49f2-b231-3085ff40a70c",
   "metadata": {},
   "source": [
    "(b) Un miembro de datos de clase es útil cuando todos los objetos de la misma clase deben compartir una información común."
   ]
  },
  {
   "cell_type": "markdown",
   "id": "c41aebfc",
   "metadata": {},
   "source": [
    "VERDADERO: Estos atributos se definen a nivel de clase y son accesibles por todas las instancias de esa clase."
   ]
  },
  {
   "cell_type": "markdown",
   "id": "a19061e9-8e28-41c6-83ff-1532f124e75d",
   "metadata": {},
   "source": [
    "(c) Si una clase tiene un miembro de datos y se crean tres objetos a partir de esta clase, cada objeto tendrá su propio miembro de datos."
   ]
  },
  {
   "cell_type": "markdown",
   "id": "5ed0081b",
   "metadata": {},
   "source": [
    "VERDADERO:  Si una clase tiene un miembro de datos y se crean tres objetos a partir de esta clase, cada objeto tendrá su propio miembro de datos, a menos que el miembro de datos sea un atributo de clase."
   ]
  },
  {
   "cell_type": "markdown",
   "id": "317d05a9-e4f8-4ea1-b144-6589de5970d1",
   "metadata": {},
   "source": [
    "(d) Una clase puede tener datos de clase y métodos de clase."
   ]
  },
  {
   "cell_type": "markdown",
   "id": "f40b3d13-7a48-4894-a522-7a07a43f47fe",
   "metadata": {},
   "source": [
    "VERDADERO: Una clase puede tener tanto datos de clase (atributos de clase) como métodos de clase. Los métodos de clase se definen con un decorador @classmethod."
   ]
  },
  {
   "cell_type": "markdown",
   "id": "ea710ea5-b5af-4b5d-b4b5-b4723b2fd37f",
   "metadata": {},
   "source": [
    "(e) Por lo general, los datos de una clase se mantienen privados y se accede a ellos / se manipulan a través de los métodos del objeto de la clase."
   ]
  },
  {
   "cell_type": "markdown",
   "id": "adb5abf6",
   "metadata": {},
   "source": [
    "VERDADERO: Los datos de una clase se mantienen privados (usando un guion bajo o doble guion bajo) y se accede a ellos o se manipulan a través de los métodos del objeto de la clase (getters y setters)."
   ]
  },
  {
   "cell_type": "markdown",
   "id": "42f75425-8b96-4daf-9f87-1e68ef00239d",
   "metadata": {},
   "source": [
    "(f) Las funciones miembro de un objeto deben llamarse explícitamente, mientras que el método init () se llama automáticamente."
   ]
  },
  {
   "cell_type": "markdown",
   "id": "a1996a13",
   "metadata": {},
   "source": [
    "VERDADERO: Las funciones miembro de un objeto deben llamarse explícitamente, mientras que el método constructor __init__() se llama automáticamente cuando se crea una instancia de la clase."
   ]
  },
  {
   "cell_type": "markdown",
   "id": "cbde6da8-ff22-42e2-b8b1-1191968d9bac",
   "metadata": {},
   "source": [
    "(g) Un constructor es llamado cada vez que un objeto es instanciado."
   ]
  },
  {
   "cell_type": "markdown",
   "id": "b89ab412",
   "metadata": {},
   "source": [
    "VERDADERO: Un constructor (el método __init__() en Python) es llamado cada vez que se instancia un objeto de la clase."
   ]
  },
  {
   "cell_type": "markdown",
   "id": "8185638b-cfd7-4eda-a40a-099628456985",
   "metadata": {},
   "source": [
    "(h) El método init ( ) nunca devuelve un valor."
   ]
  },
  {
   "cell_type": "markdown",
   "id": "7a63368c",
   "metadata": {},
   "source": [
    "VERDADERO: El propósito del método __init__() es inicializar la instancia del objeto."
   ]
  },
  {
   "cell_type": "markdown",
   "id": "ce797e2d-bdb2-40a3-b5a3-eb7a49b4cd43",
   "metadata": {},
   "source": [
    "(i) Cuando un objeto sale del ámbito, su método del( ) es llamado automáticamente."
   ]
  },
  {
   "cell_type": "markdown",
   "id": "7c9ab0ce",
   "metadata": {},
   "source": [
    "VERDADERO: El método __del__() se llama automáticamente (si está definido) cuando un objeto sale del ámbito, y es recogido por el recolector de basura."
   ]
  },
  {
   "cell_type": "markdown",
   "id": "5bd5de74-4f97-48dd-8874-23e18f8d2a71",
   "metadata": {},
   "source": [
    "(j) La variable self siempre contiene la dirección del objeto mediante el cual se accede al método/datos."
   ]
  },
  {
   "cell_type": "markdown",
   "id": "47fc70e3",
   "metadata": {},
   "source": [
    "VERDADERO: La variable self siempre tiene la referencia al objeto mediante el cual se accede a los atributos y métodos de la clase."
   ]
  },
  {
   "cell_type": "markdown",
   "id": "8ee9ad82-d5b6-4b7d-b36c-0f7cd4d2c5d3",
   "metadata": {},
   "source": [
    "(k) La variable self puede ser utilizada incluso fuera de la clase."
   ]
  },
  {
   "cell_type": "markdown",
   "id": "db17693b",
   "metadata": {},
   "source": [
    "FALSO: El uso de la variable self unicamente es para hacer referencia a los métodos y datos dentro de la clase."
   ]
  },
  {
   "cell_type": "markdown",
   "id": "fcd7681f-2f8d-4777-bfcd-cad245923437",
   "metadata": {},
   "source": [
    "(l) El método init ( ) sólo se llama una vez durante la vida de un objeto."
   ]
  },
  {
   "cell_type": "markdown",
   "id": "ceadef5f",
   "metadata": {},
   "source": [
    "VERDADERO: El método init() o constructor es para inicializar el objeto y definir sus atributos, para ser usado dentro de la clase."
   ]
  },
  {
   "cell_type": "markdown",
   "id": "4299c8a5-2a65-4a77-b94f-df2134938ddb",
   "metadata": {},
   "source": [
    "**[B] Responde las siguientes preguntas:**"
   ]
  },
  {
   "cell_type": "markdown",
   "id": "e6cdf297-fb79-4278-bf2f-75feed603a2d",
   "metadata": {},
   "source": [
    "(a) ¿Qué métodos de una clase actúan como constructores?"
   ]
  },
  {
   "cell_type": "markdown",
   "id": "06e97981",
   "metadata": {},
   "source": [
    "El método __init__(), este método se llama automáticamente cuando se crea una nueva instancia de una clase, y se utiliza para inicializar los atributos del objeto."
   ]
  },
  {
   "cell_type": "markdown",
   "id": "a96dfc61-fce7-486d-bd67-1dd6cccb57a2",
   "metadata": {},
   "source": [
    "(b) ¿Cuántos objetos se crean en el siguiente fragmento de código?  \n",
    "```\n",
    "a = 10\n",
    "b = a\n",
    "c = b\n",
    "```"
   ]
  },
  {
   "cell_type": "markdown",
   "id": "233942ca",
   "metadata": {},
   "source": [
    "- Solo se crea un objeto cuando se define a = 10, donde se crea un objeto de tipo entero con el valor de 10.\n",
    "- En el segundo caso lo unico que se asigna la referenica del objeto '10' a la variable 'b'\n",
    "- En el tercer caso se asigna la refrencia del objeto '10' a la variable 'c'"
   ]
  },
  {
   "cell_type": "markdown",
   "id": "ca61920c-0558-40a9-9701-8bfc7091a32c",
   "metadata": {},
   "source": [
    "(c) ¿Cuál es la diferencia entre variables, edad y __edad?"
   ]
  },
  {
   "cell_type": "markdown",
   "id": "07411726",
   "metadata": {},
   "source": [
    "La diferencia es que la variable 'edad' es un atributo del objeto mientras que la variable __edad es un atribjto de la clase (es privado dentro de la clase)."
   ]
  },
  {
   "cell_type": "markdown",
   "id": "a5519f24-af14-4f83-ab14-61dd7d6ddb1b",
   "metadata": {},
   "source": [
    "(d) ¿Cuál es la diferencia entre la función `vars( )` y `dir( )`?"
   ]
  },
  {
   "cell_type": "markdown",
   "id": "0b5c0ba0",
   "metadata": {},
   "source": [
    ". La función vars() devuelve el diccionario de atributos de un objeto. Esencialmente, devuelve el atributo __dict__ de un objeto si está presente.\n",
    "\n",
    ". dir() devuelve una lista de nombres válidos (incluidos métodos y atributos especiales) en el ámbito actual o los atributos de un objeto."
   ]
  },
  {
   "cell_type": "markdown",
   "id": "282500df-9d59-4578-b037-6bc9d25de9b9",
   "metadata": {},
   "source": [
    "(e) En el siguiente fragmento de código, ¿cuál es la diferencia entre `display( )` y `show( )`?  \n",
    "```\n",
    "class Message:\n",
    "    def display(self, msg):\n",
    "        pass\n",
    "    def show(msg):\n",
    "        pass\n",
    "```"
   ]
  },
  {
   "cell_type": "markdown",
   "id": "161ee65b",
   "metadata": {},
   "source": [
    ". El método display(self, msg) es un método de instancia que se requiere una instancia de la clase ('self') para ser llamado para acceder y manipular los atributos del objetos, mientras que:\n",
    "\n",
    ".show(msg) es un método estático dentro de la clase que no tiene acceso implícito a los atributos del objeto ('self') y es adecuado para las operaciones que no tiene nada que ver con las instancias específica de la clase."
   ]
  },
  {
   "cell_type": "markdown",
   "id": "4de68996-60f7-4d2a-962e-57957365d735",
   "metadata": {},
   "source": [
    "(f) En el siguiente fragmento de código, ¿cuál es la diferencia entre display( ) y show()?  \n",
    "\n",
    "```\n",
    "m = Message( )\n",
    "m.display('Hi and Bye' )\n",
    "Message.show('Hi and Bye' )\n",
    "```"
   ]
  },
  {
   "cell_type": "markdown",
   "id": "96d10326",
   "metadata": {},
   "source": [
    "display() - Es un método de la instancia de la clase 'Message' es decir 'm', por tanto puede acceder a los atributo y métodos de esa instancia específica.\n",
    "\n",
    "show() - Es un método estático que puede ser llamado directamente desde la clase. No requiere una instancia específica y no tiene acceso a los atributos de instancia (self)"
   ]
  },
  {
   "cell_type": "markdown",
   "id": "9920318b-65c7-4adc-9c6a-33e68e13ea67",
   "metadata": {},
   "source": [
    "(g) ¿Cuántos parámetros se pasan a `display()` en el siguiente fragmento de código?  \n",
    "```\n",
    "m = Sample( )\n",
    "m.display(10, 20, 30)\n",
    "```"
   ]
  },
  {
   "cell_type": "markdown",
   "id": "b9e4e3dc",
   "metadata": {},
   "source": [
    "Se están pasando tres parámetros: los valores '10', '20' y '30' como argumentos"
   ]
  },
  {
   "cell_type": "markdown",
   "id": "0065dab3-7235-4237-89d7-6292b92244f2",
   "metadata": {},
   "source": [
    "**(Opcional) De los cinco ejercicios dados responder solo 2.** "
   ]
  },
  {
   "cell_type": "markdown",
   "id": "156c7a87-56dc-455a-99e5-97f539f88854",
   "metadata": {},
   "source": [
    "O-1 - Escriba un programa para crear una clase que represente Números complejos que contengan partes reales e imaginarias y, a continuación, utilícelo para realizar sumas, restas, multiplicaciones y divisiones de números complejos."
   ]
  },
  {
   "cell_type": "code",
   "execution_count": null,
   "id": "6ed82b50-737e-46e9-9875-6eba60eddb9a",
   "metadata": {},
   "outputs": [],
   "source": []
  },
  {
   "cell_type": "markdown",
   "id": "fc6701cd-5409-422c-beb7-963dcab2c19c",
   "metadata": {},
   "source": [
    "O-2 - Escribe un programa que implemente una clase Matriz y realice operaciones de suma, multiplicación y transpuesta en matrices de 3 x 3."
   ]
  },
  {
   "cell_type": "code",
   "execution_count": null,
   "id": "23d83bc9-3f23-497d-b8f9-2f04f84e62bd",
   "metadata": {},
   "outputs": [],
   "source": []
  },
  {
   "cell_type": "markdown",
   "id": "d99927e8-d1dd-487a-8444-b6d42fa4170d",
   "metadata": {},
   "source": [
    "O-3 - Escribe un programa para crear una clase que pueda calcular la superficie y el volumen de un sólido. La clase también debe tener una disposición para aceptar los datos relevantes para el sólido."
   ]
  },
  {
   "cell_type": "code",
   "execution_count": 14,
   "id": "006641de-0467-42f9-8b8d-fbeacbc9253e",
   "metadata": {},
   "outputs": [
    {
     "name": "stdout",
     "output_type": "stream",
     "text": [
      "SE CREA UN CUBO DE LONGITUD '6'\n",
      "-------------------------------\n",
      "Area del Cubo: 216\n",
      "Volumen del cubo: 216\n",
      "\n",
      "SE CREA UNA ESFERA DE RADIO '5.5'\n",
      "---------------------------------\n",
      "Area de la Esfera: 380.133\n",
      "Volumen de la esfera: 696.910\n",
      "\n",
      "SE CREA UN CILINDRO DE RADIO '2' Y ALTURA '3'\n",
      "---------------------------------------------\n",
      "Area del cilindro: 62.832\n",
      "Volumen del cilindro: 37.699\n"
     ]
    }
   ],
   "source": [
    "import math\n",
    "\n",
    "class Solido:\n",
    "    def __init__(self, solido, dimension):\n",
    "        self.solido = solido\n",
    "        self.dimension = dimension  \n",
    "\n",
    "    def calc_area(self):\n",
    "        if self.solido == 'cubo':\n",
    "            lado = self.dimension[0]\n",
    "            return 6 * lado ** 2\n",
    "        elif self.solido == 'esfera':\n",
    "            radio = self.dimension[0]\n",
    "            return 4 * math.pi * radio ** 2\n",
    "        elif self.solido == 'cilindro':\n",
    "            radio = self.dimension[0]\n",
    "            altura = self.dimension[1]\n",
    "            return 2 * math.pi * radio * (radio + altura)\n",
    "        else:\n",
    "            return None  \n",
    "\n",
    "    def calc_volumen(self):\n",
    "        if self.solido == 'cubo':\n",
    "            lado = self.dimension[0]\n",
    "            return lado ** 3\n",
    "        elif self.solido == 'esfera':\n",
    "            radio = self.dimension[0]\n",
    "            return (4 / 3) * math.pi * radio ** 3\n",
    "        elif self.solido == 'cilindro':\n",
    "            radio = self.dimension[0]\n",
    "            altura = self.dimension[1]\n",
    "            return math.pi * radio ** 2 * altura\n",
    "        else:\n",
    "            return None  \n",
    "\n",
    "# CREAR UN CUBO CON LADO DE LONGITUD '6'\n",
    "print(\"SE CREA UN CUBO DE LONGITUD '6'\")\n",
    "print(\"-------------------------------\")\n",
    "cubo = Solido('cubo', [6])\n",
    "print(f\"Area del Cubo: {cubo.calc_area()}\")\n",
    "print(f\"Volumen del cubo: {cubo.calc_volumen()}\")\n",
    "print()\n",
    "# CREAR UNA ESFERA DE RADIO 5.5\n",
    "print(\"SE CREA UNA ESFERA DE RADIO '5.5'\")\n",
    "print(\"---------------------------------\")\n",
    "esfera = Solido('esfera', [5.5])\n",
    "print(f\"Area de la Esfera: {esfera.calc_area():.3f}\")\n",
    "print(f\"Volumen de la esfera: {esfera.calc_volumen():.3f}\")\n",
    "print()\n",
    "# CREAR UN CILINDRO DE RADIO 2 Y ALTURA 3\n",
    "print(\"SE CREA UN CILINDRO DE RADIO '2' Y ALTURA '3'\")\n",
    "print(\"---------------------------------------------\")\n",
    "cilindro = Solido('cilindro', [2, 3])\n",
    "print(f\"Area del cilindro: {cilindro.calc_area():.3f}\")\n",
    "print(f\"Volumen del cilindro: {cilindro.calc_volumen():.3f}\")\n"
   ]
  },
  {
   "cell_type": "markdown",
   "id": "aef6d95e-6bf2-493c-a172-242c3008017d",
   "metadata": {},
   "source": [
    "O-4 - Escribe un programa para crear una clase que pueda calcular el perímetro y el área de una forma regular. La clase también debe tener una disposición para aceptar los datos pertinentes a la forma."
   ]
  },
  {
   "cell_type": "code",
   "execution_count": 18,
   "id": "cfb599be-c795-44e2-97a8-95e56a2ac81a",
   "metadata": {},
   "outputs": [
    {
     "name": "stdout",
     "output_type": "stream",
     "text": [
      "CREA UN CUADRADO CON LONGITUD '7.5'\n",
      "------------------------------------\n",
      "Perímetro del cuadrado: 30.000\n",
      "Área del cuadrado: 56.250\n",
      "\n",
      "CREA UN TRIANGULO EQUILATERO CON LONGITUD '9'\n",
      "----------------------------------------------\n",
      "Perímetro del triángulo equilátero: 27.000\n",
      "Área del triángulo equilátero: 35.074\n",
      "\n",
      "CREA UN PENTAGONO REGULAR CON LONGITUD '7'\n",
      "------------------------------------------\n",
      "Perímetro del pentágono regular: 35.000\n",
      "Área del pentágono regular: 84.303\n"
     ]
    }
   ],
   "source": [
    "import math\n",
    "\n",
    "class Figura:\n",
    "    def __init__(self, tipo, longitud):\n",
    "        self.tipo = tipo\n",
    "        self.longitud = longitud\n",
    "\n",
    "    def perimetro(self):\n",
    "        if self.tipo == 'cuadrado':\n",
    "            return 4 * self.longitud\n",
    "        elif self.tipo == 'triangulo_equilatero':\n",
    "            return 3 * self.longitud\n",
    "        elif self.tipo == 'pentagono':\n",
    "            return 5 * self.longitud\n",
    "        else:\n",
    "            return None\n",
    "\n",
    "    def area(self):\n",
    "        if self.tipo == 'cuadrado':\n",
    "            return self.longitud ** 2\n",
    "        elif self.tipo == 'triangulo_equilatero':\n",
    "            return (math.sqrt(3) / 4) * self.longitud ** 2\n",
    "        elif self.tipo == 'pentagono':\n",
    "            return 0.25 * math.sqrt(5 * (5 + 2 * math.sqrt(5))) * self.longitud ** 2\n",
    "        else:\n",
    "            return None\n",
    "\n",
    "# CREA UN CUADRADO CON LONGITUD '7.5'\n",
    "print(\"CREA UN CUADRADO CON LONGITUD '7.5'\")\n",
    "print(\"------------------------------------\")\n",
    "cuadrado = Figura('cuadrado', 7.5)\n",
    "print(f\"Perímetro del cuadrado: {cuadrado.perimetro():.3f}\")\n",
    "print(f\"Área del cuadrado: {cuadrado.area():.3f}\")\n",
    "print()\n",
    "# CREA UN TRIANGULO EQUILATERO CON LONGITUD '9'\n",
    "print(\"CREA UN TRIANGULO EQUILATERO CON LONGITUD '9'\")\n",
    "print(\"----------------------------------------------\")\n",
    "triangulo = Figura('triangulo_equilatero', 9)\n",
    "print(f\"Perímetro del triángulo equilátero: {triangulo.perimetro():.3f}\")\n",
    "print(f\"Área del triángulo equilátero: {triangulo.area():.3f}\")\n",
    "print()\n",
    "# CREA UN PENTAGONO REGULAR CON LONGITUD '7'\n",
    "print(\"CREA UN PENTAGONO REGULAR CON LONGITUD '7'\")\n",
    "print(\"------------------------------------------\")\n",
    "pentagono = Figura('pentagono', 7)\n",
    "print(f\"Perímetro del pentágono regular: {pentagono.perimetro():.3f}\")\n",
    "print(f\"Área del pentágono regular: {pentagono.area():.3f}\")\n"
   ]
  },
  {
   "cell_type": "markdown",
   "id": "7b20b1ca-074d-4546-93ff-1ac9b0ebb875",
   "metadata": {},
   "source": [
    "O-5 -  Escribe un programa que cree y utilice una clase Time para realizar varias operaciones aritméticas de tiempo."
   ]
  },
  {
   "cell_type": "code",
   "execution_count": null,
   "id": "a4b3c060-a464-42c6-a35c-84e3379b77fd",
   "metadata": {},
   "outputs": [],
   "source": []
  }
 ],
 "metadata": {
  "kernelspec": {
   "display_name": "Python 3 (ipykernel)",
   "language": "python",
   "name": "python3"
  },
  "language_info": {
   "codemirror_mode": {
    "name": "ipython",
    "version": 3
   },
   "file_extension": ".py",
   "mimetype": "text/x-python",
   "name": "python",
   "nbconvert_exporter": "python",
   "pygments_lexer": "ipython3",
   "version": "3.12.1"
  }
 },
 "nbformat": 4,
 "nbformat_minor": 5
}

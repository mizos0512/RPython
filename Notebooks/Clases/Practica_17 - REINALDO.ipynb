{
 "cells": [
  {
   "cell_type": "markdown",
   "metadata": {},
   "source": [
    "1. Escribe expresiones condicionales para:\n",
    "- if a<10 b=20, else b=30\n",
    "- Print 'Morning' if time<12, otherwise print 'Afternoon'\n",
    "- if marks>=70, set remarks to True, otherwise False"
   ]
  },
  {
   "cell_type": "code",
   "execution_count": 2,
   "metadata": {},
   "outputs": [
    {
     "name": "stdout",
     "output_type": "stream",
     "text": [
      "b=20\n",
      "Afternoon\n",
      "True\n"
     ]
    }
   ],
   "source": [
    "a= int(input('Valor de a: '))\n",
    "time= int(input('Valor de time: '))\n",
    "marks= int(input('Valor de marks: '))\n",
    "\n",
    "if (a>10):\n",
    "    print('b=20')\n",
    "else:\n",
    "    print('b=30')\n",
    "\n",
    "########################################################################\n",
    "if (time<12):\n",
    "    print('Morning')\n",
    "else:\n",
    "    print('Afternoon')\n",
    "\n",
    "########################################################################\n",
    "if (marks>=70):\n",
    "    remarks=True\n",
    "else:\n",
    "    remarks=False\n",
    "print(remarks)"
   ]
  },
  {
   "cell_type": "markdown",
   "metadata": {},
   "source": [
    "2. Vuelva a escribir el siguiente fragmento de código en 2 líneas:\n",
    "\n",
    "x = 3\n",
    "y = 3.0\n",
    "\n",
    "\n",
    "if  x==y:\n",
    "    print('x and y are equal')\n",
    "else:\n",
    "    print('x and y are not equal')\n"
   ]
  },
  {
   "cell_type": "code",
   "execution_count": 11,
   "metadata": {},
   "outputs": [
    {
     "name": "stdout",
     "output_type": "stream",
     "text": [
      "x and y are not equal\n"
     ]
    }
   ],
   "source": [
    "x,y = 3,3.0\n",
    "print('x and y are equal') if (x==y) else print('x and y are not equal');"
   ]
  },
  {
   "cell_type": "markdown",
   "metadata": {},
   "source": [
    "3. ¿Cuál será el resultado de  los siguientes programas?. Explica en una celda de texto o en un comentario que hace cada código.\n",
    "\n",
    "(a) i, j, k = 4, -1, 0\n",
    "    w = i or j or k\n",
    "    x = i and j and k\n",
    "    y = i or j and k\n",
    "    z = i and j or k\n",
    "    print(w, x, y, z)\n",
    "\n",
    "(b) a = 10\n",
    "    a = not not a\n",
    "    print(a)\n",
    "\n",
    "(c) x, y, z = 20, 40, 45    \n",
    "    if x>y and x>z:\n",
    "      print('biggest =' + str(x))\n",
    "    elif y>x and y>z:\n",
    "      print('biggest =' + str(y))\n",
    "    elif z>x and z>y:\n",
    "      print('biggest =' + str(z))\n",
    "\n",
    "(d) num = 30\n",
    "    k = 100 if num <= 10 else 500\n",
    "    print(k)\n",
    "\n",
    "(e) a = 10\n",
    "    b = 60\n",
    "    if a and b>20:\n",
    "      print('Hello')\n",
    "    else:\n",
    "      print('Hi')\n",
    "\n",
    "(f) a = 10\n",
    "    b = 60\n",
    "    if a>20 and b>20:\n",
    "      print('Hello')\n",
    "    else:\n",
    "      print('Hi')\n",
    "\n",
    "(g) a = 10\n",
    "    if a=30 or 40 or 60:\n",
    "      print('Hello')\n",
    "    else:\n",
    "      print('Hi')\n",
    "\n",
    "(h) a = 10\n",
    "    if a==30 or a==40 or a==60:\n",
    "      print('Hello')\n",
    "    else:\n",
    "      print('Hi')\n",
    "\n",
    "(i) a = 10\n",
    "    if a in (30, 40, 50):\n",
    "      print('Hello')\n",
    "    else:\n",
    "      print('Hi')\n",
    "\n",
    "\n",
    "        "
   ]
  },
  {
   "cell_type": "code",
   "execution_count": 3,
   "metadata": {},
   "outputs": [
    {
     "name": "stdout",
     "output_type": "stream",
     "text": [
      "w= 4, x= 0, y= 4, z= -1\n"
     ]
    }
   ],
   "source": [
    "# (a)\n",
    "i, j, k = 4, -1, 0 # i=4, j=-1, k=0 (Desempaquetado de tuplas)\n",
    "w = i or j or k\n",
    "x = i and j and k\n",
    "y = i or j and k\n",
    "z = i and j or k\n",
    "print(f'w= {w}, x= {x}, y= {y}, z= {z}')"
   ]
  },
  {
   "cell_type": "markdown",
   "metadata": {},
   "source": [
    "(a)\n",
    "w= 4, Porque al ser un 'or' la expresion es verdadera solo con un True\n",
    "      y en Python cualquier numero distinto de cero es True, por tanto \n",
    "      como la primera aparición de un True es la i=4, ya no hace falta \n",
    "      seguir evaluando (True), y es el resultado, que toma 'w' \n",
    "x= 0, Porque se trata de un 'and' donde todas las variables tienen que\n",
    "      ser True, al k ser igual a cero '0' se devuelve False, es decir,\n",
    "      cero (0)\n",
    "y= 4, El resultado es '4' porque primero se evalua el 'and' por el orden\n",
    "      de precedencia de los operadores lógicos; al evaluar (-1 and 0), el \n",
    "      resultado es '0' es decir, False, y después se evalúa (4 or 0) (el cero\n",
    "      del primer resultado), al 'i' tener el valor 4 y por ser 'or', entonces\n",
    "      el resultado de y= 4. \n",
    "z= -1 Porque el operador 'and' evalua el primer valor False encontrado y el \n",
    "      último valor True si todos los valores son verdaderos, como (i and j),\n",
    "      ambos son verdaderos (4 and -1), al ser el ultimo '-1', por tanto se \n",
    "      devuelve '-1' (True), y al ser este valor verdadero y seguirle un\n",
    "      'or', no es necesario la siguiente evaluación, porque el resultado\n",
    "      con un solo verdadero, siempre es verdadero, por lo que z= -1               "
   ]
  },
  {
   "cell_type": "code",
   "execution_count": 4,
   "metadata": {},
   "outputs": [
    {
     "name": "stdout",
     "output_type": "stream",
     "text": [
      "True\n"
     ]
    }
   ],
   "source": [
    "#(b)\n",
    "a = 10\n",
    "a = not not a\n",
    "print(a)"
   ]
  },
  {
   "cell_type": "markdown",
   "metadata": {},
   "source": [
    "(b)\n",
    "a= 10 -> True\n",
    "not a -> False       /Niego a True => (not a) = False\n",
    "not (not a) -> True  /Niego a False => (not False) =True"
   ]
  },
  {
   "cell_type": "code",
   "execution_count": 5,
   "metadata": {},
   "outputs": [
    {
     "name": "stdout",
     "output_type": "stream",
     "text": [
      "biggest =45\n"
     ]
    }
   ],
   "source": [
    "#(c)\n",
    "x, y, z = 20, 40, 45    #x=20, y=40, z=45    Desempaquetado de tuplas\n",
    "if x>y and x>z:\n",
    "      print('biggest =' + str(x))\n",
    "elif y>x and y>z:\n",
    "      print('biggest =' + str(y))\n",
    "elif z>x and z>y:\n",
    "      print('biggest =' + str(z))"
   ]
  },
  {
   "cell_type": "markdown",
   "metadata": {},
   "source": [
    "x= 20\n",
    "y= 40\n",
    "z= 45\n",
    "\n",
    "Con el operador 'and' todas las condiciones tiene que ser True para que el resultado\n",
    "final sea True, con tan solo haya un False en alguna evaluacion, entonces, el resultado\n",
    "es False.\n",
    "\n",
    "(if x>y and x>z) => x= 20 no es mayor que y= 40 = False\n",
    "(if y>x and y>z) => y= 40 no es mayor que z= 45 = False\n",
    "(if z>x and z>y) => z= 45 > x=20; y=40 < z=45   = True\n",
    "\n",
    "Al dar True la tercera evaluacion del 'if' se imprime el valor de z, es decir,\n",
    "biggest =45"
   ]
  },
  {
   "cell_type": "code",
   "execution_count": 6,
   "metadata": {},
   "outputs": [
    {
     "name": "stdout",
     "output_type": "stream",
     "text": [
      "500\n"
     ]
    }
   ],
   "source": [
    "#(d) \n",
    "num = 30\n",
    "k = 100 if num <= 10 else 500\n",
    "print(k)"
   ]
  },
  {
   "cell_type": "markdown",
   "metadata": {},
   "source": [
    "(d)\n",
    "num = 30\n",
    "La segunda linea dice de forma literal:\n",
    "k = 100 si (30<=10) sino k = 500\n",
    "Como 30 no es menor o igual que 10, entonces, k=500"
   ]
  },
  {
   "cell_type": "code",
   "execution_count": 7,
   "metadata": {},
   "outputs": [
    {
     "name": "stdout",
     "output_type": "stream",
     "text": [
      "Hello\n"
     ]
    }
   ],
   "source": [
    "#(e)\n",
    "a = 10\n",
    "b = 60\n",
    "if a and b>20:\n",
    "  print('Hello')\n",
    "else:\n",
    "  print('Hi')"
   ]
  },
  {
   "cell_type": "markdown",
   "metadata": {},
   "source": [
    "(e)\n",
    "- En el contexto booleano cualquier valor distinto de cero '0' es True,\n",
    "  por tanto a = True\n",
    "- b=60 => b>20 = True\n",
    "- Entonces la tercera linea dice de forma literal lo siguiente:\n",
    "  Si (True y True) = True, entonces ':'\n",
    "  imprime 'Hello'"
   ]
  },
  {
   "cell_type": "code",
   "execution_count": 8,
   "metadata": {},
   "outputs": [
    {
     "name": "stdout",
     "output_type": "stream",
     "text": [
      "Hi\n"
     ]
    }
   ],
   "source": [
    "#(f) \n",
    "a = 10\n",
    "b = 60\n",
    "if a>20 and b>20:\n",
    "  print('Hello')\n",
    "else:\n",
    "  print('Hi')"
   ]
  },
  {
   "cell_type": "markdown",
   "metadata": {},
   "source": [
    "(f)\n",
    "- Para que la expresión sea cierta con 'and' deben cumplirse las dos evaluaciones\n",
    "  de 'a' y 'b' en la tercera línea y como 'a=10' no es mayor que 20, entonces la\n",
    "  la expresión del 'if' es falsa y la impresión es'Hi'"
   ]
  },
  {
   "cell_type": "code",
   "execution_count": 12,
   "metadata": {},
   "outputs": [
    {
     "name": "stdout",
     "output_type": "stream",
     "text": [
      "Hello\n"
     ]
    }
   ],
   "source": [
    "#(g) \n",
    "a = 10\n",
    "if a==30 or 40 or 60:\n",
    "   print('Hello')\n",
    "else:\n",
    "   print('Hi')"
   ]
  },
  {
   "cell_type": "markdown",
   "metadata": {},
   "source": [
    "(g)\n",
    "- Con el operador lógico 'or' al menos una condición debe cumplirse en la evaluación de 'a', para que el resultado de la expresión del 'if' sea True; como 'a= 10', a==30 es False, pero en Python en el contexto booleano, cualquier número distinto de cero (0) es True, por tanto al hacer la evaluación siguiente del 'or', es decir 'or 40', este resultado es True, entonces la expresión del 'if' resultante es True y se imprime 'Hello'. "
   ]
  },
  {
   "cell_type": "code",
   "execution_count": 13,
   "metadata": {},
   "outputs": [
    {
     "name": "stdout",
     "output_type": "stream",
     "text": [
      "Hi\n"
     ]
    }
   ],
   "source": [
    "#(h) \n",
    "a = 10\n",
    "if a==30 or a==40 or a==60:\n",
    "    print('Hello')\n",
    "else:\n",
    "    print('Hi')"
   ]
  },
  {
   "cell_type": "markdown",
   "metadata": {},
   "source": [
    "(h)\n",
    "En este caso la evaluación también es con 'or' de cumplirse l menos una condición, el resultado\n",
    "de la expresión del 'if' es verdadera, pero aqui sucede algo distinto qu el caso anterior y es que se está 'comparando' el valor de 'a' y en ningun caso de cada evaluaciòn del 'or' es cierta (True)\n",
    "por tanto la expresión del 'if' es False y el resultado final es 'Hi'."
   ]
  },
  {
   "cell_type": "code",
   "execution_count": 14,
   "metadata": {},
   "outputs": [
    {
     "name": "stdout",
     "output_type": "stream",
     "text": [
      "Hi\n"
     ]
    }
   ],
   "source": [
    "#(i) \n",
    "a = 10\n",
    "if a in (30, 40, 50):\n",
    "  print('Hello')\n",
    "else:\n",
    "  print('Hi')"
   ]
  },
  {
   "cell_type": "markdown",
   "metadata": {},
   "source": [
    "(i)\n",
    "En este caso tenemos una operacion 'in' de conjunto donde se està preguntando si el valor de 'a', (que es 10) está dentro del conjunto de números (30, 40, 50), al no estár incluido en ese conjunto\n",
    "entonces el resultado de la expresión del 'if' es False y el resultado es 'Hi'."
   ]
  },
  {
   "cell_type": "markdown",
   "metadata": {},
   "source": [
    "4. Señala los errores, si los hay, en los siguientes programas:\n",
    "\n",
    "(a)\n",
    "a= 12.25\n",
    "b= 12.52\n",
    "\n",
    "if a=b:\n",
    "  print('a and b are equal')\n",
    "\n",
    "(b)\n",
    "if or('X') < ord ('x'):\n",
    "  print('Unicode value of X is smaller than that of x')\n",
    "\n",
    "(c)\n",
    "x= 10\n",
    "if x>=2 then\n",
    "  print('x')\n",
    "\n",
    "(d)\n",
    "x= 10; y= 15\n",
    "if x%2 = y%3\n",
    "   print('Carpathians\\n')\n",
    "\n",
    "(e)\n",
    "x, y = 30, 40\n",
    "if x==y:\n",
    "   print('x is equal to y')\n",
    "elseif x>y:\n",
    "   print('x is greater than y')\n",
    "elseif x<y:\n",
    "   print('x is less than y')"
   ]
  },
  {
   "cell_type": "code",
   "execution_count": 15,
   "metadata": {},
   "outputs": [
    {
     "ename": "SyntaxError",
     "evalue": "invalid syntax. Maybe you meant '==' or ':=' instead of '='? (1827125017.py, line 5)",
     "output_type": "error",
     "traceback": [
      "\u001b[1;36m  Cell \u001b[1;32mIn[15], line 5\u001b[1;36m\u001b[0m\n\u001b[1;33m    if a=b:\u001b[0m\n\u001b[1;37m       ^\u001b[0m\n\u001b[1;31mSyntaxError\u001b[0m\u001b[1;31m:\u001b[0m invalid syntax. Maybe you meant '==' or ':=' instead of '='?\n"
     ]
    }
   ],
   "source": [
    "#(a)\n",
    "a= 12.25\n",
    "b= 12.52\n",
    "\n",
    "if a=b:\n",
    "  print('a and b are equal')"
   ]
  },
  {
   "cell_type": "markdown",
   "metadata": {},
   "source": [
    "(a)\n",
    "El operador '=' es un operador de 'asignación', mientras que el operador '==' es de comparación.\n",
    "En este caso faltó el operador '==' en el 'if'"
   ]
  },
  {
   "cell_type": "code",
   "execution_count": 16,
   "metadata": {},
   "outputs": [
    {
     "ename": "SyntaxError",
     "evalue": "invalid syntax (3161088215.py, line 2)",
     "output_type": "error",
     "traceback": [
      "\u001b[1;36m  Cell \u001b[1;32mIn[16], line 2\u001b[1;36m\u001b[0m\n\u001b[1;33m    if or('X') < ord ('x'):\u001b[0m\n\u001b[1;37m       ^\u001b[0m\n\u001b[1;31mSyntaxError\u001b[0m\u001b[1;31m:\u001b[0m invalid syntax\n"
     ]
    }
   ],
   "source": [
    "#(b)\n",
    "if or('X') < ord ('x'):\n",
    "  print('Unicode value of X is smaller than that of x')"
   ]
  },
  {
   "cell_type": "markdown",
   "metadata": {},
   "source": [
    "(b)\n",
    "El operador 'or' en Python es un operador lógico no una función, por eso en este contexto está\n",
    "mal empleado."
   ]
  },
  {
   "cell_type": "code",
   "execution_count": 17,
   "metadata": {},
   "outputs": [
    {
     "ename": "SyntaxError",
     "evalue": "invalid syntax (3252083789.py, line 3)",
     "output_type": "error",
     "traceback": [
      "\u001b[1;36m  Cell \u001b[1;32mIn[17], line 3\u001b[1;36m\u001b[0m\n\u001b[1;33m    if x>=2 then\u001b[0m\n\u001b[1;37m            ^\u001b[0m\n\u001b[1;31mSyntaxError\u001b[0m\u001b[1;31m:\u001b[0m invalid syntax\n"
     ]
    }
   ],
   "source": [
    "#(c)\n",
    "x= 10\n",
    "if x>=2 then\n",
    "  print('x')"
   ]
  },
  {
   "cell_type": "markdown",
   "metadata": {},
   "source": [
    "(c)\n",
    "'then' no es una sentencia de Python en su lugar debería ir ':'"
   ]
  },
  {
   "cell_type": "code",
   "execution_count": 18,
   "metadata": {},
   "outputs": [
    {
     "ename": "SyntaxError",
     "evalue": "cannot assign to expression here. Maybe you meant '==' instead of '='? (3808141223.py, line 3)",
     "output_type": "error",
     "traceback": [
      "\u001b[1;36m  Cell \u001b[1;32mIn[18], line 3\u001b[1;36m\u001b[0m\n\u001b[1;33m    if x%2 = y%3\u001b[0m\n\u001b[1;37m       ^\u001b[0m\n\u001b[1;31mSyntaxError\u001b[0m\u001b[1;31m:\u001b[0m cannot assign to expression here. Maybe you meant '==' instead of '='?\n"
     ]
    }
   ],
   "source": [
    "#(d)\n",
    "x= 10; y= 15\n",
    "if x%2 = y%3\n",
    "   print('Carpathians\\n')"
   ]
  },
  {
   "cell_type": "markdown",
   "metadata": {},
   "source": [
    "(d)\n",
    "'=' es un operador de asignación, lo que debe ponerse en el 'if' es un operador lógico\n",
    "'==', además, al final del 'if' falta ':'"
   ]
  },
  {
   "cell_type": "code",
   "execution_count": 19,
   "metadata": {},
   "outputs": [
    {
     "ename": "SyntaxError",
     "evalue": "invalid syntax (2911672035.py, line 5)",
     "output_type": "error",
     "traceback": [
      "\u001b[1;36m  Cell \u001b[1;32mIn[19], line 5\u001b[1;36m\u001b[0m\n\u001b[1;33m    elseif x>y:\u001b[0m\n\u001b[1;37m           ^\u001b[0m\n\u001b[1;31mSyntaxError\u001b[0m\u001b[1;31m:\u001b[0m invalid syntax\n"
     ]
    }
   ],
   "source": [
    "#(e)\n",
    "x, y = 30, 40\n",
    "if x==y:\n",
    "   print('x is equal to y')\n",
    "elseif x>y:\n",
    "   print('x is greater than y')\n",
    "elseif x<y:\n",
    "   print('x is less than y')"
   ]
  },
  {
   "cell_type": "markdown",
   "metadata": {},
   "source": [
    "(e)\n",
    "'elseif' no es una sentencia de Python, en su lugar debería ir 'elif'"
   ]
  },
  {
   "cell_type": "markdown",
   "metadata": {},
   "source": [
    "5. if a = 10, b = 12, c = 0, encuentra los valores de las siguinetes expresiones:\n",
    "\n",
    "a != 6 and b > 5\n",
    "a == 9 or b < 3\n",
    "not (a < 10)\n",
    "not (a > 5 and c)\n",
    "5 and c != 8 or c"
   ]
  },
  {
   "cell_type": "code",
   "execution_count": 24,
   "metadata": {},
   "outputs": [
    {
     "name": "stdout",
     "output_type": "stream",
     "text": [
      "a != 6 and b > 5 => True\n",
      "a == 9 or b < 3 => False\n",
      "not (a < 10) => True\n",
      "not (a > 5 and c) => True\n",
      "5 and c != 8 or c => True\n"
     ]
    }
   ],
   "source": [
    "a, b, c = 10, 12, 0\n",
    "\n",
    "#a != 6 and b > 5\n",
    "print(f'a != 6 and b > 5 => {a != 6 and b > 5}')\n",
    "\n",
    "#a == 9 or b < 3\n",
    "print(f'a == 9 or b < 3 => {a == 9 or b < 3}')\n",
    "\n",
    "#not (a < 10)\n",
    "print(f'not (a < 10) => {not (a < 10)}')\n",
    "\n",
    "#not (a > 5 and c)\n",
    "print(f'not (a > 5 and c) => {not (a > 5 and c)}')\n",
    "\n",
    "#5 and c != 8 or c\n",
    "print(f'5 and c != 8 or c => {5 and c != 8 or c}')\n"
   ]
  },
  {
   "cell_type": "markdown",
   "metadata": {},
   "source": [
    "6. Programe lo siguiente:\n",
    "\n",
    "a. Cualquier número entero se ingresa a través del teclado. Escribe un programa para averiguar si es un número par o impar.\n",
    "\n",
    "b. Si las edades de Sara, Sofía y Ana se ingresan a través del teclado, escribe un programa para determinar el más joven de las tres.\n",
    "\n",
    "c. Dado un punto (x, y), escriba un programa para averiguar si se encuentra en el eje X, el eje Y o en e origen del plano cartesiano."
   ]
  },
  {
   "cell_type": "code",
   "execution_count": 26,
   "metadata": {},
   "outputs": [
    {
     "name": "stdout",
     "output_type": "stream",
     "text": [
      "El número 5, es IMPAR\n"
     ]
    }
   ],
   "source": [
    "#(a)\n",
    "n= int(input(\"Introduzca un n´jmero entero: \"))\n",
    "\n",
    "print(f'El número {n}, es PAR') if (n%2 == 0) else print(f'El número {n}, es IMPAR') \n"
   ]
  },
  {
   "cell_type": "code",
   "execution_count": 41,
   "metadata": {},
   "outputs": [
    {
     "name": "stdout",
     "output_type": "stream",
     "text": [
      "Ana con 15 años es la más jóven de las tres.\n"
     ]
    }
   ],
   "source": [
    "#(b)\n",
    "edadSara= int(input(\"Introduzca la edad de Sara: \"))\n",
    "edadSofia= int(input(\"Introduzca la edad de Sofía: \"))\n",
    "edadAna= int(input(\"Introduzca la edad de Ana: \"))\n",
    "\n",
    "if edadSara < edadSofia and edadSara < edadAna:\n",
    "    print(f'Sara con {edadSara} años es la más jóven de las tres.')\n",
    "elif edadSofia < edadAna:\n",
    "   print(f'Sofía con {edadSofia} años es la más jóven de las tres.')\n",
    "else:\n",
    "    print(f'Ana con {edadAna} años es la más jóven de las tres.')"
   ]
  },
  {
   "cell_type": "code",
   "execution_count": 47,
   "metadata": {},
   "outputs": [
    {
     "name": "stdout",
     "output_type": "stream",
     "text": [
      "El punto (15,23) no está en el origen ni tampoco en el eje 'X' o eje 'Y' del plano cartesiano.\n"
     ]
    }
   ],
   "source": [
    "#(c)\n",
    "x= int(input(\"Cordenada X: \"))\n",
    "y= int(input(\"Cordenada Y: \"))\n",
    "\n",
    "if (x==0 and y==0):\n",
    "    print(f'El punto ({x},{y}) está en el origen del plano cartesiano.')\n",
    "elif (x != 0 and y==0):\n",
    "    print(f\"El punto ({x},{y}) está en el eje 'X' del plano cartesiano.\")\n",
    "elif (x == 0 and y !=0):    \n",
    "    print(f\"El punto ({x},{y}) está en el eje 'Y' del plano cartesiano.\")    \n",
    "else:\n",
    "    print(f\"El punto ({x},{y}) no está en el origen ni tampoco en el eje 'X' o eje 'Y' del plano cartesiano.\")    "
   ]
  },
  {
   "cell_type": "markdown",
   "metadata": {},
   "source": [
    "7. Años de perro.\n",
    "\n",
    "Comunmente se dice que un año humano equivale a 7 años caninos. Escriba un programa que implemente la conversión de años humanos a años caninos."
   ]
  },
  {
   "cell_type": "code",
   "execution_count": 49,
   "metadata": {},
   "outputs": [
    {
     "name": "stdout",
     "output_type": "stream",
     "text": [
      "Si tienes 34 años, la edad de tu perro es 4.\n"
     ]
    }
   ],
   "source": [
    "annoHumano= int(input(\"Edad del humano: \"))\n",
    "\n",
    "print(f\"Si tienes {annoHumano} años, la edad de tu perro es {annoHumano//7}.\")\n",
    "\n"
   ]
  },
  {
   "cell_type": "markdown",
   "metadata": {},
   "source": [
    "8. Niveles de sonido.\n",
    "\n",
    "La siguiente tabla evalúa el nivel de sonido en decibelios para varios ruidos comunes.\n",
    "\n",
    "Noise                   Decibel Level\n",
    "--------------------------------------\n",
    "Jackhammer              130 dB\n",
    "Gas Lawnmower           106 dB\n",
    "Alarm Clock              70 dB\n",
    "Quiet Room               40 dB\n",
    "\n",
    "Escriba un programa que lea un nivel de sonido en decibelios del usuario. Si el usuario ingresa un\n",
    "nivel de decibelios que coincide con uno de los ridos en la tabla, entonces su programa debería mostrar un mensaje que contenga solo ese ruido. Si el usuario ingresa una cantidad de decibelios entre los ruidos enumerados, su programa debería mostrar un mensaje que indique entre qué ruidos se encuentra el valor. Asegúrese de que su programa tabién genere  ua salida razonable para un valor menor que el ruido más bajo de la tabla y para un valor mayor que el ruido más alto de la tabla.\n"
   ]
  },
  {
   "cell_type": "code",
   "execution_count": 11,
   "metadata": {},
   "outputs": [
    {
     "name": "stdout",
     "output_type": "stream",
     "text": [
      "300 dB es superior a 'Jackhammer'.\n"
     ]
    }
   ],
   "source": [
    "Jackhammer= 130 \n",
    "Gas_Lawnmower= 106 \n",
    "Alarm_Clock= 70 \n",
    "Quiet_Room= 40\n",
    "\n",
    "nivel= int(input(\"Nivel de sonido en dB: \")) \n",
    "\n",
    "if (nivel<40):\n",
    "    print(f\"{nivel} dB está por debajo de 'Quiet Room'.\")\n",
    "elif (nivel>=40 and nivel<70):\n",
    "    print(f\"{nivel} dB está entre 'Quiet Room' y 'Alarm Clock'.\") \n",
    "elif (nivel==70):\n",
    "    print(f\"{nivel} dB está en 'Alarm Clock'.\")     \n",
    "elif (nivel>=70 and nivel<106):\n",
    "    print(f\"{nivel} dB está entre 'Alarm Clock' y 'Gas Lawnmower'.\") \n",
    "elif (nivel==106):\n",
    "    print(f\"{nivel} dB está en 'Gas Lawnmower'.\")     \n",
    "elif (nivel>=106 and nivel<130):\n",
    "    print(f\"{nivel} dB está entre 'Gas Lawnmower' y 'Jackhammer'.\") \n",
    "elif (nivel==130):  \n",
    "    print(f\"{nivel} dB está en 'Jackhammer'.\")    \n",
    "else:\n",
    "   print(f\"{nivel} dB es superior a 'Jackhammer'.\")    "
   ]
  },
  {
   "cell_type": "markdown",
   "metadata": {},
   "source": [
    "9.\tDe la nota a la frecuencia\n",
    "La siguiente tabla enumera una octava de notas musicales, comenzando con C central, junto con sus frecuencias.\n",
    "\n",
    "Note            Frecuency (Hz)\n",
    "------------------------------\n",
    "C4                  261.63\n",
    "D4                  293.66\n",
    "E4                  329.63\n",
    "F4                  349.23\n",
    "G4                  392.00\n",
    "A4                  440.00\n",
    "B4                  493.88\n",
    "\n",
    "Escriba un programa que lea el nombre de una nota del usuario y muestre la frecuencia de la nota. Su programa debe admitir todas las notas enumeradas anteriormente."
   ]
  },
  {
   "cell_type": "code",
   "execution_count": 26,
   "metadata": {},
   "outputs": [
    {
     "name": "stdout",
     "output_type": "stream",
     "text": [
      "La frecuencia de la Nota B4 es de 493.88 Hz.\n"
     ]
    }
   ],
   "source": [
    "nota= input(\"Teclee la Nota: \")\n",
    "if nota.upper() not in ('C4','D4','E4','F4','G4','A4','B4'):\n",
    "    print(f\"Lo siento, la Nota '{nota}' no es válida...\")\n",
    "else:\n",
    "    if (nota.upper()=='C4'):\n",
    "        print(f\"La frecuencia de la Nota {nota.upper()} es de 261.63 Hz.\")\n",
    "    if (nota.upper()=='D4'):\n",
    "        print(f\"La frecuencia de la Nota {nota.upper()} es de 293.66 Hz.\")     \n",
    "    if (nota.upper()=='E4'):\n",
    "        print(f\"La frecuencia de la Nota {nota.upper()} es de 329.63 Hz.\") \n",
    "    if (nota.upper()=='F4'):\n",
    "        print(f\"La frecuencia de la Nota {nota.upper()} es de 349.23 Hz.\")    \n",
    "    if (nota.upper()=='G4'):\n",
    "        print(f\"La frecuencia de la Nota {nota.upper()} es de 392.00 Hz.\")   \n",
    "    if (nota.upper()=='A4'):\n",
    "        print(f\"La frecuencia de la Nota {nota.upper()} es de 440.00 Hz.\")  \n",
    "    if (nota.upper()=='B4'):\n",
    "        print(f\"La frecuencia de la Nota {nota.upper()} es de 493.88 Hz.\")                                  "
   ]
  },
  {
   "cell_type": "markdown",
   "metadata": {},
   "source": [
    "10.\tCaras en los billetes de $\n",
    "\n",
    "Es común que las imágenes de los líderes anteriores de un país u otras personas de importancia histórica aparezcan en las monedas o billetes. Las personas que aparecen en los billetes en los Estados Unidos se enumeran a continuación:\n",
    "\n",
    "Individual                Amount\n",
    "---------------------------------\n",
    "George Washington        $  1.00\n",
    "Thomas Jefferson         $  2.00\n",
    "Abraham Lincoln          $  5.00\n",
    "Alexander Hamilton       $ 10.00\n",
    "Andrew Jackson           $ 20.00\n",
    "Ulysses S. Grant         $ 50.00\n",
    "Benjamin Franklin        $100.00  \n",
    "\n",
    "Escriba un programa que comience leyendo la denominación de un billete del usuario. Luego, su programa debe mostrar el nombre de la persona que aparece en el billete del monto ingresado. Se debe mostrar un mensaje de error apropiado si no existe tal nota."
   ]
  },
  {
   "cell_type": "code",
   "execution_count": 41,
   "metadata": {},
   "outputs": [
    {
     "name": "stdout",
     "output_type": "stream",
     "text": [
      "Lo siento, esa denominación de $0.50, no existe, al menos en USA...\n"
     ]
    }
   ],
   "source": [
    "denominacion = float(input(\"Valor del Billete: \"))\n",
    "if denominacion not in (1, 2, 5, 10, 20, 50, 100):\n",
    "    print(f\"Lo siento, esa denominación de ${denominacion}0, no existe, al menos en USA...\")\n",
    "else:\n",
    "    if (denominacion==1):\n",
    "       print(f\"El lider que se muestra en el billete de ${denominacion}0 es 'George Whashington'.\") \n",
    "    if (denominacion==2):\n",
    "       print(f\"El lider que se muestra en el billete de ${denominacion}0 es 'Thomas Jefferson'..\")  \n",
    "    if (denominacion==5):\n",
    "       print(f\"El lider que se muestra en el billete de ${denominacion}0 es 'Abraham Lincoln'\")   \n",
    "    if (denominacion==10):\n",
    "       print(f\"El lider que se muestra en el billete de ${denominacion}0 es 'Alexander Hamilton'.\")  \n",
    "    if (denominacion==20):\n",
    "       print(f\"El lider que se muestra en el billete de ${denominacion}0 es 'Andrew Jackson'.\")\n",
    "    if (denominacion==50):\n",
    "       print(f\"El lider que se muestra en el billete de ${denominacion}0 es 'Ulysses S. Grant'.\")\n",
    "    if (denominacion==100):\n",
    "       print(f\"El lider que se muestra en el billete de ${denominacion}0 es 'Benjamin Franklin'.\")    \n",
    "                     "
   ]
  },
  {
   "cell_type": "markdown",
   "metadata": {},
   "source": [
    "11.\tEstaciones del año\n",
    "El año se divide en cuatro estaciones: primavera, verano, otoño e invierno. Si bien las fechas exactas en que cambian las estaciones varían un poco de un año a otro debido a la forma en que se construye el calendario, usaremos las siguientes fechas para este ejercicio:\n",
    "\n",
    "Estación                    Día de inicio\n",
    "--------------------------------------------\n",
    "Primavera                   21 de Marzo\n",
    "Verano                      21 de Julio\n",
    "Otoño                       21 de Septiembre\n",
    "Invierno                    21 de Diciembre\n",
    "\n",
    "Cree un programa que lea un mes y un día del usuario. El usuario ingresará el nombre del mes como una cadena, seguido del día dentro del mes como un número entero. Luego, su programa debería mostrar la temporada asociada con la fecha que se ingresó."
   ]
  },
  {
   "cell_type": "code",
   "execution_count": 92,
   "metadata": {},
   "outputs": [
    {
     "name": "stdout",
     "output_type": "stream",
     "text": [
      "'Consideramos Febrero con 28 días'\n",
      "\n",
      "El día 19 del mes de Diciembre se asocia con la estación de Otoño.\n"
     ]
    }
   ],
   "source": [
    "diaMes = {'Enero': 31,'Febrero': 28, 'Marzo':31,'Abril':30,'Mayo':31,'Junio':30,'Julio':31, \n",
    "          'Agosto':31,'Septiembre':30,'Octubre':31,'Noviembre':30,'Diciembre':31}\n",
    "\n",
    "sale=False\n",
    "\n",
    "print(\"'Consideramos Febrero con 28 días'\")\n",
    "print()\n",
    "mes = input(\"Introduce el mes: \").strip()\n",
    "dia = int(input(\"Introduce el día: \"))\n",
    "\n",
    "if (mes.title() in diaMes):\n",
    "    if not(1 <= dia <= diaMes[mes.title()]):\n",
    "        print(f\"El dia {dia} no se corresponde con el mes de {mes.title()}.\")\n",
    "        print(\"Vuelva a introducir los datos...\")\n",
    "        sale= True\n",
    "else:\n",
    "    print(f\"El mes {mes.title()} no existe...\") \n",
    "    print(\"Vuelva a introducir los datos...\")\n",
    "    sale= True \n",
    "if sale== False:\n",
    "   #indiceMes= meses.index(mes.title())\n",
    "   #print(indiceMes)\n",
    "   if mes.title()=='Enero':\n",
    "       print(f\"El día {dia} del mes de {mes.title()} se asocia con la estación de Invierno.\")\n",
    "   if mes.title()=='Febrero':\n",
    "       print(f\"El día {dia} del mes de {mes.title()} se asocia con la estación de Invierno.\")\n",
    "   if mes.title()=='Marzo':\n",
    "       if dia<21:\n",
    "           print(f\"El día {dia} del mes de {mes.title()} se asocia con la estación de Invierno.\")\n",
    "       else:    \n",
    "           print(f\"El día {dia} del mes de {mes.title()} se asocia con la estación de Primavera.\")    \n",
    "   if mes.title()=='Abril':\n",
    "       print(f\"El día {dia} del mes de {mes.title()} se asocia con la estación de Primavera.\")\n",
    "   if mes.title()=='Mayo':\n",
    "       print(f\"El día {dia} del mes de {mes.title()} se asocia con la estación de Primavera.\")\n",
    "   if mes.title()=='Junio':\n",
    "       print(f\"El día {dia} del mes de {mes.title()} se asocia con la estación de Primavera.\")    \n",
    "   if mes.title()=='Julio':\n",
    "       if dia<21:\n",
    "           print(f\"El día {dia} del mes de {mes.title()} se asocia con la estación de Primavera.\")\n",
    "       else:    \n",
    "           print(f\"El día {dia} del mes de {mes.title()} se asocia con la estación de Verano.\") \n",
    "   if mes.title()=='Agosto':\n",
    "       print(f\"El día {dia} del mes de {mes.title()} se asocia con la estación de Verano.\")         \n",
    "   if mes.title()=='Septiembre':\n",
    "       if dia<21:\n",
    "           print(f\"El día {dia} del mes de {mes.title()} se asocia con la estación de Verano.\")\n",
    "       else:    \n",
    "           print(f\"El día {dia} del mes de {mes.title()} se asocia con la estación de Otoño.\")  \n",
    "   if mes.title()=='Octubre':\n",
    "       print(f\"El día {dia} del mes de {mes.title()} se asocia con la estación de Otoño.\") \n",
    "   if mes.title()=='Noviembre':\n",
    "       print(f\"El día {dia} del mes de {mes.title()} se asocia con la estación de Otoño.\")   \n",
    "   if mes.title()=='Diciembre':\n",
    "       if dia<21:\n",
    "           print(f\"El día {dia} del mes de {mes.title()} se asocia con la estación de Otoño.\")\n",
    "       else:    \n",
    "           print(f\"El día {dia} del mes de {mes.title()} se asocia con la estación de Invierno.\")      "
   ]
  },
  {
   "cell_type": "markdown",
   "metadata": {},
   "source": [
    "12.\tTu Signo del zodiaco según fecha de nacimiento\n",
    "Los horóscopos comúnmente usan la posición del sol en el momento del nacimiento para tratar de predecir el futuro. Este sistema de astrología divide el año en doce signos del zodíaco, como se indica en la siguiente tabla:\n",
    "\n",
    "Zodiac Sign             Date Range\n",
    "--------------------------------------------------\n",
    "Capricorn               December 22 to January  19\n",
    "Aquarius                January 20 to February 18\n",
    "Pisces                  February 19 to March 20\n",
    "Aries                   March 21 to April 19\n",
    "Tauros                  April 20 to May 20\n",
    "Gemini                  May 21 to June 20\n",
    "Cancer                  June 21 to July 22\n",
    "Leo                     July 23 to August 22\n",
    "Virgo                   August 23 to September 22\n",
    "Libra                   September 23 to October 22\n",
    "Scorpio                 October 23 to November 21\n",
    "Sagitarius              Novenber 22 to December 21\n",
    "\n",
    "Escriba un programa que le pida al usuario que ingrese su mes y día de nacimiento. Luego, su programa debe informar el signo zodiacal del usuario como parte de un mensaje de salida apropiado."
   ]
  },
  {
   "cell_type": "code",
   "execution_count": 96,
   "metadata": {},
   "outputs": [
    {
     "name": "stdout",
     "output_type": "stream",
     "text": [
      "'Consideramos Febrero con 28 días'\n",
      "\n",
      "El mes Bebrero no existe...\n",
      "Vuelva a introducir los datos...\n"
     ]
    }
   ],
   "source": [
    "diaMes = {'Enero': 31,'Febrero': 28, 'Marzo':31,'Abril':30,'Mayo':31,'Junio':30,'Julio':31, \n",
    "          'Agosto':31,'Septiembre':30,'Octubre':31,'Noviembre':30,'Diciembre':31}\n",
    "\n",
    "sale=False\n",
    "\n",
    "print(\"'Consideramos Febrero con 28 días'\")\n",
    "print()\n",
    "nombre= input(\"Nombre y Apellidos: \").upper()\n",
    "mes = input(\"Introduce el mes de nacimiento: \").strip()\n",
    "dia = int(input(\"Introduce el día de nacimeinto: \"))\n",
    "\n",
    "if (mes.title() in diaMes):\n",
    "    if not(1 <= dia <= diaMes[mes.title()]):\n",
    "        print(f\"El dia {dia} no se corresponde con el mes de {mes.title()}.\")\n",
    "        print(\"Vuelva a introducir los datos...\")\n",
    "        sale= True\n",
    "else:\n",
    "    print(f\"El mes {mes.title()} no existe...\") \n",
    "    print(\"Vuelva a introducir los datos...\")\n",
    "    sale= True \n",
    "if sale == False:\n",
    "    print(f\"Nombre: {nombre}.\")\n",
    "    print(f\"Día de nacimiento: {dia}.\")\n",
    "    if mes.title()=='Diciembre':\n",
    "       print(f\"Mes de nacimiento: {mes.title()}.\")\n",
    "       print()\n",
    "       if dia<22:\n",
    "          print(f\"Signo Zodiacal: 'Sagitarius'.\")\n",
    "       else:\n",
    "          print(f\"Signo Zodiacal: 'Capricorn'.\")     \n",
    "    ##########################################################    \n",
    "    if mes.title()=='Enero':\n",
    "       print(f\"Mes de nacimiento: {mes.title()}.\")\n",
    "       print()\n",
    "       if dia<20:\n",
    "          print(f\"Signo Zodiacal: 'Capricorn'.\")\n",
    "       else:\n",
    "          print(f\"Signo Zodiacal: 'Aquarius'.\")        \n",
    "   ##########################################################    \n",
    "    if mes.title()=='Febrero':\n",
    "       print(f\"Mes de nacimiento: {mes.title()}.\")\n",
    "       print()\n",
    "       if dia<19:\n",
    "          print(f\"Signo Zodiacal: 'Aquarius'.\")\n",
    "       else:\n",
    "          print(f\"Signo Zodiacal: 'Pisces'.\")         \n",
    "   ##########################################################    \n",
    "    if mes.title()=='Marzo':\n",
    "       print(f\"Mes de nacimiento: {mes.title()}.\")\n",
    "       print()\n",
    "       if dia<21:\n",
    "          print(f\"Signo Zodiacal: 'Pisces'.\")\n",
    "       else:\n",
    "          print(f\"Signo Zodiacal: 'Aries'.\")       \n",
    "   ##########################################################    \n",
    "    if mes.title()=='Abril':\n",
    "       print(f\"Mes de nacimiento: {mes.title()}.\")\n",
    "       print()\n",
    "       if dia<20:\n",
    "          print(f\"Signo Zodiacal: 'Aries'.\")\n",
    "       else:\n",
    "          print(f\"Signo Zodiacal: 'Tauros'.\") \n",
    "   ##########################################################    \n",
    "    if mes.title()=='Mayo':\n",
    "       print(f\"Mes de nacimiento: {mes.title()}.\")\n",
    "       print()\n",
    "       if dia<21:\n",
    "          print(f\"Signo Zodiacal: 'Tauros'.\")\n",
    "       else:\n",
    "          print(f\"Signo Zodiacal: 'Gemini'.\")   \n",
    "   ##########################################################    \n",
    "    if mes.title()=='Junio':\n",
    "       print(f\"Mes de nacimiento: {mes.title()}.\")\n",
    "       print()\n",
    "       if dia<21:\n",
    "          print(f\"Signo Zodiacal: 'Gemini'.\")\n",
    "       else:\n",
    "          print(f\"Signo Zodiacal: 'Cancer'.\")                               \n",
    "   ##########################################################    \n",
    "    if mes.title()=='Julio':\n",
    "       print(f\"Mes de nacimiento: {mes.title()}.\")\n",
    "       print()\n",
    "       if dia<23:\n",
    "          print(f\"Signo Zodiacal: 'Cancer'.\")\n",
    "       else:\n",
    "          print(f\"Signo Zodiacal: 'Leo'.\")      \n",
    "   ##########################################################    \n",
    "    if mes.title()=='Agosto':\n",
    "       print(f\"Mes de nacimiento: {mes.title()}.\")\n",
    "       print()\n",
    "       if dia<23:\n",
    "          print(f\"Signo Zodiacal: 'Leo'.\")\n",
    "       else:\n",
    "          print(f\"Signo Zodiacal: 'Virgo'.\")    \n",
    "   ##########################################################    \n",
    "    if mes.title()=='Septiembre':\n",
    "       print(f\"Mes de nacimiento: {mes.title()}.\")\n",
    "       print()\n",
    "       if dia<23:\n",
    "          print(f\"Signo Zodiacal: 'Virgo'.\")\n",
    "       else:\n",
    "          print(f\"Signo Zodiacal: 'Libra'.\")  \n",
    "    ##########################################################    \n",
    "    if mes.title()=='Octubre':\n",
    "       print(f\"Mes de nacimiento: {mes.title()}.\")\n",
    "       print()\n",
    "       if dia<23:\n",
    "          print(f\"Signo Zodiacal: 'Libra'.\")\n",
    "       else:\n",
    "          print(f\"Signo Zodiacal: 'Escorpio'.\")  \n",
    "     ##########################################################    \n",
    "    if mes.title()=='Noviembre':\n",
    "       print(f\"Mes de nacimiento: {mes.title()}.\")\n",
    "       print()\n",
    "       if dia<22:\n",
    "          print(f\"Signo Zodiacal: 'Escorpio'.\")\n",
    "       else:\n",
    "          print(f\"Signo Zodiacal: 'Sagitarius'.\")       \n",
    "                            "
   ]
  },
  {
   "cell_type": "markdown",
   "metadata": {},
   "source": [
    "13.\tEscala de Ritcher\n",
    "La siguiente tabla contiene rangos de magnitud de terremotos en la escala de Richter y sus descriptores:\n",
    "\n",
    "Magnitude                   Descriptor\n",
    "--------------------------------------\n",
    "Less than 2.0               Micro\n",
    "2.0 to less than 3.0        Very Minor\n",
    "3.0 to less than 4.0        Minor\n",
    "4.0 to less than 5.0        Light\n",
    "5.0 to less than 6.0        Moderate\n",
    "6.0 to less than 7.0        Strong\n",
    "7.0 to less than 8.0        Major\n",
    "8.0 to less than 10.0       Great\n",
    "10.0 or more                Meteoric\n",
    "\n",
    "Escriba un programa que lea una magnitud del usuario y muestre el descriptor apropiado como parte de un mensaje significativo. Por ejemplo, si el usuario ingresa 5.5, su programa debe indicar que un terremoto de magnitud 5.5 se considera un terremoto moderado."
   ]
  },
  {
   "cell_type": "code",
   "execution_count": 100,
   "metadata": {},
   "outputs": [
    {
     "name": "stdout",
     "output_type": "stream",
     "text": [
      "La magnitud del sismo es de 7.1, es 'Major'\n"
     ]
    }
   ],
   "source": [
    "magnitud= float(input(\"Teclee la magnitud del sismo en escala de Ritcher: \"))\n",
    "magnitud= round(magnitud,1)\n",
    "if magnitud<2.0:\n",
    "    print(f\"La magnitud del sismo es de {magnitud}, es 'Micro'\")\n",
    "elif magnitud>=2.1 and magnitud<=3.0:\n",
    "    print(f\"La magnitud del sismo es de {magnitud}, es 'Very Minor'\")\n",
    "elif magnitud>=3.1 and magnitud<=4.0:\n",
    "    print(f\"La magnitud del sismo es de {magnitud}, es 'Minor'\")    \n",
    "elif magnitud>=4.1 and magnitud<=5.0:\n",
    "    print(f\"La magnitud del sismo es de {magnitud}, es 'Light\")  \n",
    "elif magnitud>=5.1 and magnitud<=6.0:\n",
    "    print(f\"La magnitud del sismo es de {magnitud}, es 'Moderate'\")      \n",
    "elif magnitud>=6.1 and magnitud<=7.0:\n",
    "    print(f\"La magnitud del sismo es de {magnitud}, es 'Strong'\")        \n",
    "elif magnitud>=7.1 and magnitud<=8.0:\n",
    "    print(f\"La magnitud del sismo es de {magnitud}, es 'Major'\")     \n",
    "elif magnitud>=8.1 and magnitud<=10.0:\n",
    "    print(f\"La magnitud del sismo es de {magnitud}, es 'Great'\")    \n",
    "else: \n",
    "     print(f\"La magnitud del sismo es de {magnitud}, es 'Meteoric'\")     "
   ]
  },
  {
   "cell_type": "markdown",
   "metadata": {},
   "source": [
    "14.\tConversión de calificación en letras a número\n",
    "\n",
    "En una universidad en particular, las calificaciones con letras se asignan a puntos de calificación de la siguiente manera:\n",
    "\n",
    "Letter                  Grade Points\n",
    "--------------------------------------\n",
    "A+                      4.0\n",
    "A                       4.0\n",
    "A-                      3.7\n",
    "B+                      3.3\n",
    "B                       3.0\n",
    "B-                      2.7\n",
    "C+                      2.3\n",
    "C                       2.0\n",
    "C-                      1.7\n",
    "D+                      1.3\n",
    "D                       1.0 \n",
    "F                       0\n",
    "Escriba un programa que comience leyendo una letra de calificación del usuario. Luego, su programa debería calcular y mostrar el número equivalente de puntos de calificación. Asegúrese de que su programa genere un mensaje de error apropiado si el usuario ingresa una letra de calificación no válida."
   ]
  },
  {
   "cell_type": "code",
   "execution_count": 119,
   "metadata": {},
   "outputs": [
    {
     "name": "stdout",
     "output_type": "stream",
     "text": [
      "Lo siento, la Letra 'F+' no es válida...\n"
     ]
    }
   ],
   "source": [
    "letra= input(\"Teclee la letra de calificación: \").upper().strip()\n",
    "if letra not in ('A+','A','A-','B+','B','B-','C+','C','C-','D+','D','F'):\n",
    "    print(f\"Lo siento, la Letra '{letra}' no es válida...\")\n",
    "else:\n",
    "    if letra=='A+':\n",
    "        print(f\"La letra {letra} se corresponde con '4.0' puntos\")\n",
    "    if letra=='A':\n",
    "        print(f\"La letra {letra} se corresponde con '4.0' puntos\")\n",
    "    if letra=='A-':\n",
    "        print(f\"La letra {letra} se corresponde con '3.7' puntos\")\n",
    "    if letra=='B+':\n",
    "        print(f\"La letra {letra} se corresponde con '3.3' puntos\") \n",
    "    if letra=='B':\n",
    "        print(f\"La letra {letra} se corresponde con '3.0' puntos\")\n",
    "    if letra=='B-':\n",
    "        print(f\"La letra {letra} se corresponde con '2.7' puntos\")\n",
    "    if letra=='C+':\n",
    "        print(f\"La letra {letra} se corresponde con '2.3' puntos\")\n",
    "    if letra=='C':\n",
    "        print(f\"La letra {letra} se corresponde con '2.0' puntos\")\n",
    "    if letra=='C-':\n",
    "        print(f\"La letra {letra} se corresponde con '1.7' puntos\")\n",
    "    if letra=='D+':\n",
    "        print(f\"La letra {letra} se corresponde con '1.3' puntos\")  \n",
    "    if letra=='D':\n",
    "        print(f\"La letra {letra} se corresponde con '1.0' puntos\") \n",
    "    if letra=='F':\n",
    "        print(f\"La letra {letra} se corresponde con '0' puntos\")                                          \n",
    "        print(f\"\")"
   ]
  },
  {
   "cell_type": "markdown",
   "metadata": {},
   "source": [
    "15.\tEvaluación de Empleados\n",
    "En una empresa en particular, los empleados son calificados al final de cada año. La escala de calificación comienza en 0,0; los valores más altos indican un mejor desempeño y dan como resultado aumentos más grandes. El valor otorgado a un empleado es 0,0, 0,4 o 0,6 o más. Nunca se utilizan valores entre 0,0 y 0,4 y entre 0,4 y 0,6. \n",
    "El significado asociado con cada calificación se muestra en la siguiente tabla. El monto del aumento de sueldo de un empleado es $2,400.00 multiplicado por su calificación.\n",
    "\n",
    "Rating                      Desempeño\n",
    "-------------------------------------------------\n",
    "0.0                         Desempeño Inaceptable\n",
    "0.4                         Desempeño Aceptable\n",
    "0.6 o más                   Desempeño Meritorio\n",
    "\n",
    "Escriba un programa que lea una calificación del usuario e indique si el desempeño de esa calificación es inaceptable, aceptable o meritorio. También se debe informar el monto del aumento del empleado. Su programa debería mostrar un mensaje de error apropiado si se ingresa una calificación no válida."
   ]
  },
  {
   "cell_type": "code",
   "execution_count": 195,
   "metadata": {},
   "outputs": [
    {
     "name": "stdout",
     "output_type": "stream",
     "text": [
      "Calificación= 0.75    'Desempeño Meritorio'\n",
      "El empleado recibe un aumento de: €1800.00\n"
     ]
    }
   ],
   "source": [
    "calif= float(input(\"Teclee el valor de la calificación de desempeño: \"))\n",
    "if not calif in (0.0, 0.4, 0.6) and calif<0.6:\n",
    "    print(f\"El valor de calificación {calif} tecleado, no es válido...\")\n",
    "    print(\"Vuelva a entrar el valor de la calificación de desempeño...\")   \n",
    "else:\n",
    "    if calif==0.0:\n",
    "        print(f\"Calificación= {calif}    'Desempeño Inaceptable'\")\n",
    "        print(f\"El empleado no recibe aumento.\")\n",
    "    if calif==0.4:\n",
    "        print(f\"Calificación= {calif}    'Desempeño Aceptable'\")\n",
    "        print(f\"El empleado recibe un aumento de: €{calif*2400.00:.2f}\")  \n",
    "    if calif>=0.6:\n",
    "        print(f\"Calificación= {calif}    'Desempeño Meritorio'\")\n",
    "        print(f\"El empleado recibe un aumento de: €{calif*2400.00:.2f}\")         "
   ]
  },
  {
   "cell_type": "markdown",
   "metadata": {},
   "source": [
    "16.\tConvertir moneda de una denominación a otra\n",
    "Escriba un programa donde se le pida al usuario la cantidad de dinero en euros (€) y la denominación a la que desea cambiar. Para este caso utilice Dólar americano, Dólar australiano, Dólar canadiense, Libra esterlina, Yuan chino, Rublo y Franco suizo. El programa debe imprimir en pantalla la cantidad que recibirá en la denominación pedida."
   ]
  },
  {
   "cell_type": "code",
   "execution_count": 220,
   "metadata": {},
   "outputs": [
    {
     "name": "stdout",
     "output_type": "stream",
     "text": [
      "MONEDA EN QUE DESEA EL CAMBIO:\n",
      "---------------------------------\n",
      "1. Dólar americano.\n",
      "2. Dólar australiano.\n",
      "3. Dólar canadiense.\n",
      "4. Libra esterlina.\n",
      "5. Yuan chino.\n",
      "6. Rublo.\n",
      "7. Franco suizo\n",
      "---------------------------------\n",
      "Teclee la opción que desee:\n",
      "Cantidad de Euros a cambiar: €456.00\n",
      "Cambio en franco suizo a recibir: CHF437.76\n",
      "Gracias, Vuelva pronto...\n"
     ]
    }
   ],
   "source": [
    "from IPython.display import clear_output\n",
    "import time\n",
    "rub = '\\u20BD'\n",
    "salida = 1000\n",
    "while salida!=0:\n",
    " print(\"MONEDA EN QUE DESEA EL CAMBIO:\")\n",
    " print(\"---------------------------------\")\n",
    " print(\"1. Dólar americano.\")\n",
    " print(\"2. Dólar australiano.\")\n",
    " print(\"3. Dólar canadiense.\")\n",
    " print(\"4. Libra esterlina.\")\n",
    " print(\"5. Yuan chino.\")\n",
    " print(\"6. Rublo.\")\n",
    " print(\"7. Franco suizo\")\n",
    " print(\"---------------------------------\")\n",
    " print(\"Teclee la opción que desee:\")\n",
    " euro=float(input(\"Cantidad de Euros: \"))\n",
    " if euro==0:\n",
    "     salida= 0\n",
    " else:    \n",
    "     salida= int(input())\n",
    " if salida not in (0, 1, 2, 3, 4, 5, 6, 7, 1000):\n",
    "  print(\"La opcion no es válida, repita la entrada...\") \n",
    " else:\n",
    "     print(f\"Cantidad de Euros a cambiar: €{euro:.2f}\")\n",
    "     if salida==1:\n",
    "         print(f\"Cambio en Dólar americanos a recibir: ${euro*1.0848:.2f}\")\n",
    "     if salida==2:\n",
    "         print(f\"Cambio en Dólar australiano a recibir: ${euro*1.66:.2f}\")\n",
    "     if salida==3:\n",
    "         print(f\"Cambio en Dólar canadiense a recibir: ${euro*1.47:.2f}\")\n",
    "     if salida==4:\n",
    "         print(f\"Cambio en Libra esterlina a recibir: £{euro*0.87:.2f}\")\n",
    "     if salida==5:\n",
    "         print(f\"Cambio en Yuan chino a recibir: ¥{euro*7.67:.2f}\")\n",
    "     if salida==6:\n",
    "         print(f\"Cambio en Rublo a recibir: {rub}{euro*86.27:.2f}\")\n",
    "     if salida==7:   \n",
    "         print(f\"Cambio en franco suizo a recibir: CHF{euro*0.96:.2f}\")    \n",
    "     \n",
    "     si= input(\"Continuar... (S/N)\").upper()\n",
    "     if si=='N': \n",
    "         print(\"Gracias, Vuelva pronto...\")\n",
    "         salida= 0\n",
    "     else:\n",
    "         clear_output(wait=True)\n",
    "         salida= 1000\n",
    "                  \n"
   ]
  },
  {
   "cell_type": "markdown",
   "metadata": {},
   "source": [
    "17.\tVocal o consonante\n",
    "En este ejercicio, creará un programa que lea una letra del alfabeto del usuario. Si el usuario ingresa ‘a’, ‘e’, ‘i’, ‘o’ o ‘u’ entonces su programa debería mostrar un mensaje que indica que la letra ingresada es una vocal. De lo contrario, su programa debería mostrar un mensaje que indique que la letra es una consonante. Considerar solo minúsculas."
   ]
  },
  {
   "cell_type": "code",
   "execution_count": 226,
   "metadata": {},
   "outputs": [
    {
     "name": "stdout",
     "output_type": "stream",
     "text": [
      "La letra 'u' es una vocal.\n"
     ]
    }
   ],
   "source": [
    "letra= input(\"Teclee una letra: \").lower()\n",
    "if letra in ('a','e','i','o','u'):\n",
    "    print(f\"La letra '{letra.lower()}' es una vocal.\")\n",
    "else:    \n",
    "    print(f\"La letra '{letra.lower()}' es una consonante.\")"
   ]
  },
  {
   "cell_type": "markdown",
   "metadata": {},
   "source": [
    "18.\tClasificando Triángulos\n",
    "Un triángulo se puede clasificar según la longitud de sus lados como equilátero, isósceles o escaleno. \n",
    "Un triángulo es equilátero si todos sus lados son iguales (tienen  los tres la misma longitud).\n",
    "Un triángulo es isósceles si tiene dos lados iguales y el otro diferente (dos lados tienen la misma longitud y el otro lado tiene longitud diferente) Un triángulo es escaleno si todos sus lados son diferentes.\n",
    "Escriba un programa que lea las longitudes de los tres lados de un triángulo dadas por el usuario. Luego muestra un mensaje que indica el tipo de triángulo.\n"
   ]
  },
  {
   "cell_type": "code",
   "execution_count": 241,
   "metadata": {},
   "outputs": [
    {
     "name": "stdout",
     "output_type": "stream",
     "text": [
      "El triangulo es EQUILATERO.\n"
     ]
    }
   ],
   "source": [
    "a=float(input(\"Longitud del lado 'A' del triangulo: \"))\n",
    "b=float(input(\"Longitud del lado 'B' del triangulo: \"))\n",
    "c=float(input(\"Longitud del lado 'C' del triangulo: \"))\n",
    "\n",
    "if a == b == c:\n",
    "    print(\"El triangulo es EQUILATERO.\")\n",
    "elif a == b or a == c or b == c:\n",
    "    print(\"El triangulo es ISÓSCELES.\")   \n",
    "else:\n",
    "    print(\"El triangulo es ESCALENO.\")     "
   ]
  },
  {
   "cell_type": "markdown",
   "metadata": {},
   "source": [
    "20. Tablero de Ajedrez. ¿De qué color es ese cuadrado?\n",
    "Las posiciones en un tablero de ajedrez se identifican con una letra y un número. La letra identifica la columna, mientras que el número identifica la fila, como se muestra a continuación:\n",
    "\n",
    "Escriba un programa que lea una posición del usuario. Use una declaración if para determinar si la columna comienza con un cuadrado negro o un cuadrado blanco. Luego usa la aritmética modular (a % b) para informar el color del cuadrado en esa fila. \n",
    "Por ejemplo, si el usuario ingresa a1, su programa debería informar que el cuadrado es negro. Si el usuario ingresa d5, su programa debe informar que el cuadrado es blanco. Su programa puede suponer que siempre se ingresará una posición válida. \n",
    "No es necesario realizar ninguna comprobación de errores."
   ]
  },
  {
   "cell_type": "code",
   "execution_count": 258,
   "metadata": {},
   "outputs": [
    {
     "name": "stdout",
     "output_type": "stream",
     "text": [
      "== Debe teclearse solo letras desde 'a' hasta 'h' ==\n",
      "== Y números desde '1' hasta '8' ==\n",
      "\n",
      "El color de la casilla b8 es NEGRO\n"
     ]
    }
   ],
   "source": [
    "print(\"== Debe teclearse solo letras desde 'a' hasta 'h' ==\")\n",
    "print(\"== Y números desde '1' hasta '8' ==\")\n",
    "print()\n",
    "posicion= input(\"Teclee la posición (ejemplo: b5, a8, etc.)\").lower()\n",
    "if (posicion[0].isalpha() and  posicion[1].isdigit()):\n",
    "    col= posicion[0]\n",
    "    fil= int(posicion[1])\n",
    "if col not in ('a','b','c','d','e','f','g','h') or fil not in (1, 2, 3, 4, 5, 6, 7, 8):\n",
    " print(f\"El valor '{posicion}' entrado no es correcto...\")\n",
    "else: \n",
    "  nCol= ord(col) - ord('a')+1\n",
    "  if nCol%2==0:\n",
    "      if fil%2==0:\n",
    "          color='NEGRO'\n",
    "      else:\n",
    "          color= 'BLANCO'\n",
    "  if nCol%2!=0:\n",
    "      if fil%2==0:\n",
    "          color='BLANCO'\n",
    "      else:\n",
    "          color='NEGRO' \n",
    "  print(f\"El color de la casilla {posicion} es {color}\")                       \n",
    "\n",
    "\n"
   ]
  }
 ],
 "metadata": {
  "kernelspec": {
   "display_name": "Curso_Python",
   "language": "python",
   "name": "python3"
  },
  "language_info": {
   "codemirror_mode": {
    "name": "ipython",
    "version": 3
   },
   "file_extension": ".py",
   "mimetype": "text/x-python",
   "name": "python",
   "nbconvert_exporter": "python",
   "pygments_lexer": "ipython3",
   "version": "3.12.1"
  }
 },
 "nbformat": 4,
 "nbformat_minor": 2
}

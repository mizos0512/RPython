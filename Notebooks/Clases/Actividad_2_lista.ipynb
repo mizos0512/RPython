{
 "cells": [
  {
   "cell_type": "markdown",
   "metadata": {},
   "source": [
    "1. Convertir una cadena de texto con valores numericos en una lista con los mismos valores  pero convertidos a enteros. en s versión clasica."
   ]
  },
  {
   "cell_type": "code",
   "execution_count": 4,
   "metadata": {},
   "outputs": [
    {
     "data": {
      "text/plain": [
       "[32, 45, 11, 87, 20, 48]"
      ]
     },
     "execution_count": 4,
     "metadata": {},
     "output_type": "execute_result"
    }
   ],
   "source": [
    "valores='32,45,11,87,20,48,59'\n",
    "entero=[]\n",
    "\n",
    "for valor in valores.split(','):\n",
    "    valor_entero= int(valor)\n",
    "    entero.append(valor_entero)\n",
    "\n",
    "entero"
   ]
  },
  {
   "cell_type": "markdown",
   "metadata": {},
   "source": [
    "2. El mismo ejemplo anterior peroutilizando lista por compresión."
   ]
  },
  {
   "cell_type": "code",
   "execution_count": 5,
   "metadata": {},
   "outputs": [
    {
     "data": {
      "text/plain": [
       "[32, 45, 11, 87, 20, 48]"
      ]
     },
     "execution_count": 5,
     "metadata": {},
     "output_type": "execute_result"
    }
   ],
   "source": [
    "valores='32,45,11,87,20,48'\n",
    "\n",
    "entero=[int(valor) for valor in valores.split(',')]\n",
    "entero"
   ]
  },
  {
   "cell_type": "markdown",
   "metadata": {},
   "source": [
    "3. Ussando el condicional 'if'"
   ]
  },
  {
   "cell_type": "code",
   "execution_count": 7,
   "metadata": {},
   "outputs": [
    {
     "data": {
      "text/plain": [
       "[45, 48]"
      ]
     },
     "execution_count": 7,
     "metadata": {},
     "output_type": "execute_result"
    }
   ],
   "source": [
    "valores='32,45,11,87,20,48'\n",
    "\n",
    "entero=[int(valor) for valor in valores.split(',') if valor.startswith('4')]\n",
    "entero"
   ]
  },
  {
   "cell_type": "markdown",
   "metadata": {},
   "source": [
    "4. FUNCIONES MATEMATICAS\n",
    "   - Suma de todos los valores usando la función 'sum'\n",
    "   - Minimo de todos los valores 'min'\n",
    "   - Máximo de todos los valores 'max'\n",
    "    "
   ]
  },
  {
   "cell_type": "code",
   "execution_count": 9,
   "metadata": {},
   "outputs": [
    {
     "name": "stdout",
     "output_type": "stream",
     "text": [
      "La suma es = 28\n",
      "El mínimo es = 1\n",
      "El máximo es = 9\n"
     ]
    }
   ],
   "source": [
    "data=[5,3,2,8,9,1]\n",
    "print(f\"La suma es = {sum(data)}\")\n",
    "print(f\"El mínimo es = {min(data)}\")\n",
    "print(f\"El máximo es = {max(data)}\")"
   ]
  },
  {
   "cell_type": "markdown",
   "metadata": {},
   "source": [
    "5. LISTAS DE LISTAS\n",
    "Un equipo de fútbol suele teneer una disposición en el campo organizada en líneas de jugadores. En aquella alineación con la que España ganó la copa del mundo en el 2010 había una disposición 4-3-3 con los siguientes jugadores:\n",
    "\n",
    "portero=['Casillas']\n",
    "defensas=['Capdevila','Piqué', 'Puyol', 'Ramos']\n",
    "mediocampistas=['Xavi','X. Busquets','X. Alonso']\n",
    "delanteros=['Iniesta','Villa','Pedro']\n",
    "\n",
    "Debemos juntarlos en una única lista."
   ]
  },
  {
   "cell_type": "code",
   "execution_count": 12,
   "metadata": {},
   "outputs": [
    {
     "name": "stdout",
     "output_type": "stream",
     "text": [
      "Equipo: [['Casillas'], ['Capdevila', 'Piqué', 'Puyol', 'Ramos'], ['Xavi', 'X. Busquets', 'X. Alonso'], ['Iniesta', 'Villa', 'Pedro']]\n",
      "\n",
      "El portero es: ['Casillas']\n",
      "Centrocampistas: ['Xavi', 'X. Busquets', 'X. Alonso']\n",
      "Delantero centro: Villa\n"
     ]
    }
   ],
   "source": [
    "portero=['Casillas']\n",
    "defensas=['Capdevila','Piqué', 'Puyol', 'Ramos']\n",
    "mediocampistas=['Xavi','X. Busquets','X. Alonso']\n",
    "delanteros=['Iniesta','Villa','Pedro']\n",
    "\n",
    "equipo=[portero, defensas, mediocampistas, delanteros]\n",
    "\n",
    "# Comprobando el acceso a distintos elementos:\n",
    "\n",
    "print(f\"Equipo: {equipo}\")\n",
    "print()\n",
    "print(f\"El portero es: {equipo[0]}\")\n",
    "print(f\"Centrocampistas: {equipo[2]}\")\n",
    "print(f\"Delantero centro: {equipo[3][1]}\")\n"
   ]
  },
  {
   "cell_type": "markdown",
   "metadata": {},
   "source": [
    "6. Funciones Buil-in y métodos propios de las listas:"
   ]
  },
  {
   "cell_type": "code",
   "execution_count": 45,
   "metadata": {},
   "outputs": [
    {
     "name": "stdout",
     "output_type": "stream",
     "text": [
      "Lista 'lst': [12, 15, 13, 23, 22, 16, 17]\n",
      "Lista 'lst1': []\n",
      "\n",
      "FUNCIONES BUIL-IN\n",
      "Tamaño de la lista = 7\n",
      "Máximo de la lista = 23\n",
      "Mínimo de la lista = 12\n",
      "Como no hay elemento en 'lst1' devuelve: False\n",
      "Como hay elemento en 'lst' devuelve: True\n",
      "Borrando elemento '2' de la lista 'lst': [12, 15, 23, 22, 16, 17]\n",
      "Lista ordenada: [12, 15, 16, 17, 22, 23]\n",
      "Lista invertida: [17, 16, 22, 23, 15, 12]\n",
      "\n",
      "METODOS PROPIOS DE LAS LISTAS\n",
      "Añadiendo el elemnto '22' a la lista: [12, 15, 23, 22, 16, 17, 22]\n",
      "Borrando el elemnto '13' de la lista: [12, 15, 22, 16, 17, 22]\n",
      "Borrando el ultimo elemento de la lista: [12, 15, 22, 16, 17]\n",
      "Borra el elemento '3' de la lista: [12, 15, 22, 17]\n",
      "Inserta el elemento '21' en la posición '3': [12, 15, 22, 51, 17]\n",
      "Devolviendo la cantidad de veces que aparece el número '22': 1\n",
      "Retorna el índice del item '22': 2\n"
     ]
    }
   ],
   "source": [
    "lst= [12, 15, 13, 23, 22, 16, 17]\n",
    "lst1= []\n",
    "\n",
    "print(f\"Lista 'lst': {lst}\")\n",
    "print(f\"Lista 'lst1': {lst1}\")\n",
    "print()\n",
    "print(\"FUNCIONES BUIL-IN\")\n",
    "print(f\"Tamaño de la lista = {len(lst)}\")\n",
    "print(f\"Máximo de la lista = {max(lst)}\")\n",
    "print(f\"Mínimo de la lista = {min(lst)}\")\n",
    "print(f\"Como no hay elemento en 'lst1' devuelve: {any(lst1)}\")  \n",
    "print(f\"Como hay elemento en 'lst' devuelve: {all(lst)}\")\n",
    "del lst[2]\n",
    "print(f\"Borrando elemento '2' de la lista 'lst': {lst}\") \n",
    "numero_ord= list(sorted(lst))\n",
    "print(f\"Lista ordenada: {numero_ord}\") \n",
    "numero_inv= list(reversed(lst))\n",
    "print(f\"Lista invertida: {numero_inv}\") \n",
    "print()\n",
    "# Métodos de las listas\n",
    "print(\"METODOS PROPIOS DE LAS LISTAS\")\n",
    "lst.append(22)\n",
    "print(f\"Añadiendo el elemnto '22' a la lista: {lst}\")\n",
    "lst.remove(23)\n",
    "print(f\"Borrando el elemnto '13' de la lista: {lst}\")\n",
    "lst.pop()\n",
    "print(f\"Borrando el ultimo elemento de la lista: {lst}\")\n",
    "lst.pop(3)\n",
    "print(f\"Borra el elemento '3' de la lista: {lst}\")\n",
    "lst.insert(3,51)\n",
    "print(f\"Inserta el elemento '21' en la posición '3': {lst}\")\n",
    "c=lst.count(22)\n",
    "print(f\"Devolviendo la cantidad de veces que aparece el número '22': {c}\")\n",
    "print(f\"Retorna el índice del item '22': {lst.index(22)}\")\n",
    "\n"
   ]
  }
 ],
 "metadata": {
  "kernelspec": {
   "display_name": "Curso_Python",
   "language": "python",
   "name": "python3"
  },
  "language_info": {
   "codemirror_mode": {
    "name": "ipython",
    "version": 3
   },
   "file_extension": ".py",
   "mimetype": "text/x-python",
   "name": "python",
   "nbconvert_exporter": "python",
   "pygments_lexer": "ipython3",
   "version": "3.11.9"
  }
 },
 "nbformat": 4,
 "nbformat_minor": 2
}

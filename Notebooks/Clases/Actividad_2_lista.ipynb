{
 "cells": [
  {
   "cell_type": "markdown",
   "metadata": {},
   "source": [
    "1. Convertir una cadena de texto con valores numericos en una lista con los mismos valores  pero convertidos a enteros. en s versión clasica."
   ]
  },
  {
   "cell_type": "code",
   "execution_count": 4,
   "metadata": {},
   "outputs": [
    {
     "data": {
      "text/plain": [
       "[32, 45, 11, 87, 20, 48]"
      ]
     },
     "execution_count": 4,
     "metadata": {},
     "output_type": "execute_result"
    }
   ],
   "source": [
    "valores='32,45,11,87,20,48'\n",
    "entero=[]\n",
    "\n",
    "for valor in valores.split(','):\n",
    "    valor_entero= int(valor)\n",
    "    entero.append(valor_entero)\n",
    "\n",
    "entero"
   ]
  },
  {
   "cell_type": "markdown",
   "metadata": {},
   "source": [
    "2. El mismo ejemplo anterior peroutilizando lista por compresión."
   ]
  },
  {
   "cell_type": "code",
   "execution_count": 5,
   "metadata": {},
   "outputs": [
    {
     "data": {
      "text/plain": [
       "[32, 45, 11, 87, 20, 48]"
      ]
     },
     "execution_count": 5,
     "metadata": {},
     "output_type": "execute_result"
    }
   ],
   "source": [
    "valores='32,45,11,87,20,48'\n",
    "\n",
    "entero=[int(valor) for valor in valores.split(',')]\n",
    "entero"
   ]
  },
  {
   "cell_type": "markdown",
   "metadata": {},
   "source": [
    "3. Ussando el condicional 'if'"
   ]
  },
  {
   "cell_type": "code",
   "execution_count": 7,
   "metadata": {},
   "outputs": [
    {
     "data": {
      "text/plain": [
       "[45, 48]"
      ]
     },
     "execution_count": 7,
     "metadata": {},
     "output_type": "execute_result"
    }
   ],
   "source": [
    "valores='32,45,11,87,20,48'\n",
    "\n",
    "entero=[int(valor) for valor in valores.split(',') if valor.startswith('4')]\n",
    "entero"
   ]
  },
  {
   "cell_type": "markdown",
   "metadata": {},
   "source": [
    "4. FUNCIONES MATEMATICAS\n",
    "   - Suma de todos los valores usando la función 'sum'\n",
    "   - Minimo de todos los valores 'min'\n",
    "   - Máximo de todos los valores 'max'\n",
    "    "
   ]
  },
  {
   "cell_type": "code",
   "execution_count": 9,
   "metadata": {},
   "outputs": [
    {
     "name": "stdout",
     "output_type": "stream",
     "text": [
      "La suma es = 28\n",
      "El mínimo es = 1\n",
      "El máximo es = 9\n"
     ]
    }
   ],
   "source": [
    "data=[5,3,2,8,9,1]\n",
    "print(f\"La suma es = {sum(data)}\")\n",
    "print(f\"El mínimo es = {min(data)}\")\n",
    "print(f\"El máximo es = {max(data)}\")"
   ]
  },
  {
   "cell_type": "markdown",
   "metadata": {},
   "source": [
    "5. LISTAS DE LISTAS\n",
    "Un equipo de fútbol suele teneer una disposición en el campo organizada en líneas de jugadores. En aquella alineación con la que España ganó la copa del mundo en el 2010 había una disposición 4-3-3 con los siguientes jugadores:\n",
    "\n",
    "portero=['Casillas']\n",
    "defensas=['Capdevila','Piqué', 'Puyol', 'Ramos']\n",
    "mediocampistas=['Xavi','X. Busquets','X. Alonso']\n",
    "delanteros=['Iniesta','Villa','Pedro']\n",
    "\n",
    "Debemos juntarlos en una única lista."
   ]
  },
  {
   "cell_type": "code",
   "execution_count": 12,
   "metadata": {},
   "outputs": [
    {
     "name": "stdout",
     "output_type": "stream",
     "text": [
      "Equipo: [['Casillas'], ['Capdevila', 'Piqué', 'Puyol', 'Ramos'], ['Xavi', 'X. Busquets', 'X. Alonso'], ['Iniesta', 'Villa', 'Pedro']]\n",
      "\n",
      "El portero es: ['Casillas']\n",
      "Centrocampistas: ['Xavi', 'X. Busquets', 'X. Alonso']\n",
      "Delantero centro: Villa\n"
     ]
    }
   ],
   "source": [
    "portero=['Casillas']\n",
    "defensas=['Capdevila','Piqué', 'Puyol', 'Ramos']\n",
    "mediocampistas=['Xavi','X. Busquets','X. Alonso']\n",
    "delanteros=['Iniesta','Villa','Pedro']\n",
    "\n",
    "equipo=[portero, defensas, mediocampistas, delanteros]\n",
    "\n",
    "# Comprobando el acceso a distintos elementos:\n",
    "\n",
    "print(f\"Equipo: {equipo}\")\n",
    "print()\n",
    "print(f\"El portero es: {equipo[0]}\")\n",
    "print(f\"Centrocampistas: {equipo[2]}\")\n",
    "print(f\"Delantero centro: {equipo[3][1]}\")\n"
   ]
  },
  {
   "cell_type": "markdown",
   "metadata": {},
   "source": []
  }
 ],
 "metadata": {
  "kernelspec": {
   "display_name": "Curso_Python",
   "language": "python",
   "name": "python3"
  },
  "language_info": {
   "codemirror_mode": {
    "name": "ipython",
    "version": 3
   },
   "file_extension": ".py",
   "mimetype": "text/x-python",
   "name": "python",
   "nbconvert_exporter": "python",
   "pygments_lexer": "ipython3",
   "version": "3.11.9"
  }
 },
 "nbformat": 4,
 "nbformat_minor": 2
}

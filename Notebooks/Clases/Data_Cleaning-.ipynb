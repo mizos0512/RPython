{
 "cells": [
  {
   "cell_type": "markdown",
   "id": "f426c096",
   "metadata": {
    "slideshow": {
     "slide_type": "slide"
    }
   },
   "source": [
    "# Limpieza y preparación de datos"
   ]
  },
  {
   "cell_type": "markdown",
   "id": "35668dfe",
   "metadata": {
    "slideshow": {
     "slide_type": "slide"
    }
   },
   "source": [
    "## 2.1 Tratamiento de los datos que faltan"
   ]
  },
  {
   "cell_type": "markdown",
   "id": "c7b69174",
   "metadata": {},
   "source": [
    "## LAS SECCIONES QUE FALTAN EN ESTE NOTEBOOKS ES PORQUE ESTAN RESUELTAS EN LOS NOTEBOOKS ANTERIORES"
   ]
  },
  {
   "cell_type": "markdown",
   "id": "7d3dce3f",
   "metadata": {
    "slideshow": {
     "slide_type": "slide"
    }
   },
   "source": [
    "### Expresiones Regulares"
   ]
  },
  {
   "cell_type": "markdown",
   "id": "a3112269-b7ce-427c-8c29-6c2ed708f1da",
   "metadata": {},
   "source": [
    "- `[A-Z0-9._%+-]+`:  \n",
    "    - `[A-Z0-9._%+-]` es un conjunto de caracteres que incluye letras mayúsculas (A-Z), dígitos (0-9), y los caracteres ., _, %, +, y -.\n",
    "    - `+` indica que uno o más de estos caracteres pueden aparecer.    \n",
    "    - `@`: Un carácter de arroba literal.\n",
    "\n",
    "- `[A-Z0-9.-]+`:\n",
    "    - `[A-Z0-9.-]` es un conjunto de caracteres que incluye letras mayúsculas (A-Z), dígitos (0-9), y los caracteres . y -.\n",
    "    - `+` indica que uno o más de estos caracteres pueden aparecer.\n",
    "\n",
    "- `\\.`: Un punto literal (el \\ se usa para escapar el . ya que, en regex, el punto normalmente significa \"cualquier carácter\").\n",
    "\n",
    "- `[A-Z]{2,4}`:\n",
    "    - `[A-Z]` es un conjunto de letras mayúsculas.  \n",
    "    - `{2,4}` indica que deben aparecer de 2 a 4 de estas letras (por ejemplo, .com, .net, .info)."
   ]
  },
  {
   "cell_type": "markdown",
   "id": "97ee542a-6ff4-4353-9c48-4744d8d55ec4",
   "metadata": {},
   "source": [
    "### Ejercicio 5. Expresiones regulares."
   ]
  },
  {
   "cell_type": "markdown",
   "id": "0cc25243-7b9c-45f0-8e17-11094e1947eb",
   "metadata": {},
   "source": [
    "#### Dado el siguiente Diccionario:  "
   ]
  },
  {
   "cell_type": "code",
   "execution_count": 3,
   "id": "d6ccc579-c287-4557-b46a-6ebe636e5761",
   "metadata": {},
   "outputs": [
    {
     "data": {
      "text/html": [
       "<div>\n",
       "<style scoped>\n",
       "    .dataframe tbody tr th:only-of-type {\n",
       "        vertical-align: middle;\n",
       "    }\n",
       "\n",
       "    .dataframe tbody tr th {\n",
       "        vertical-align: top;\n",
       "    }\n",
       "\n",
       "    .dataframe thead th {\n",
       "        text-align: right;\n",
       "    }\n",
       "</style>\n",
       "<table border=\"1\" class=\"dataframe\">\n",
       "  <thead>\n",
       "    <tr style=\"text-align: right;\">\n",
       "      <th></th>\n",
       "      <th>Name</th>\n",
       "      <th>Email</th>\n",
       "    </tr>\n",
       "  </thead>\n",
       "  <tbody>\n",
       "    <tr>\n",
       "      <th>0</th>\n",
       "      <td>Dave</td>\n",
       "      <td>dave@google.com</td>\n",
       "    </tr>\n",
       "    <tr>\n",
       "      <th>1</th>\n",
       "      <td>Steve</td>\n",
       "      <td>steve@gmail.com</td>\n",
       "    </tr>\n",
       "    <tr>\n",
       "      <th>2</th>\n",
       "      <td>Rob</td>\n",
       "      <td>rob@yahoo.com</td>\n",
       "    </tr>\n",
       "    <tr>\n",
       "      <th>3</th>\n",
       "      <td>Ryan</td>\n",
       "      <td>ryan@gmail.com</td>\n",
       "    </tr>\n",
       "    <tr>\n",
       "      <th>4</th>\n",
       "      <td>Alice</td>\n",
       "      <td>alice@hotmail.com</td>\n",
       "    </tr>\n",
       "    <tr>\n",
       "      <th>5</th>\n",
       "      <td>Eve</td>\n",
       "      <td>eve@google.com</td>\n",
       "    </tr>\n",
       "    <tr>\n",
       "      <th>6</th>\n",
       "      <td>John</td>\n",
       "      <td>john@outlook.com</td>\n",
       "    </tr>\n",
       "    <tr>\n",
       "      <th>7</th>\n",
       "      <td>Jane</td>\n",
       "      <td>jane@gmail.com</td>\n",
       "    </tr>\n",
       "    <tr>\n",
       "      <th>8</th>\n",
       "      <td>Peter</td>\n",
       "      <td>peter@amazon.com</td>\n",
       "    </tr>\n",
       "    <tr>\n",
       "      <th>9</th>\n",
       "      <td>Mary</td>\n",
       "      <td>mary@google.com</td>\n",
       "    </tr>\n",
       "    <tr>\n",
       "      <th>10</th>\n",
       "      <td>Tom</td>\n",
       "      <td>tom@apple.com</td>\n",
       "    </tr>\n",
       "    <tr>\n",
       "      <th>11</th>\n",
       "      <td>Lucy</td>\n",
       "      <td>lucy@yahoo.com</td>\n",
       "    </tr>\n",
       "    <tr>\n",
       "      <th>12</th>\n",
       "      <td>Mike</td>\n",
       "      <td>mike@facebook.com</td>\n",
       "    </tr>\n",
       "    <tr>\n",
       "      <th>13</th>\n",
       "      <td>Chris</td>\n",
       "      <td>chris@netflix.com</td>\n",
       "    </tr>\n",
       "    <tr>\n",
       "      <th>14</th>\n",
       "      <td>Emma</td>\n",
       "      <td>emma@google.com</td>\n",
       "    </tr>\n",
       "    <tr>\n",
       "      <th>15</th>\n",
       "      <td>Olivia</td>\n",
       "      <td>olivia@gmail.com</td>\n",
       "    </tr>\n",
       "    <tr>\n",
       "      <th>16</th>\n",
       "      <td>Sophia</td>\n",
       "      <td>sophia@amazon.com</td>\n",
       "    </tr>\n",
       "    <tr>\n",
       "      <th>17</th>\n",
       "      <td>Liam</td>\n",
       "      <td>liam@apple.com</td>\n",
       "    </tr>\n",
       "    <tr>\n",
       "      <th>18</th>\n",
       "      <td>Noah</td>\n",
       "      <td>noah@google.com</td>\n",
       "    </tr>\n",
       "    <tr>\n",
       "      <th>19</th>\n",
       "      <td>Mason</td>\n",
       "      <td>mason@yahoo.com</td>\n",
       "    </tr>\n",
       "    <tr>\n",
       "      <th>20</th>\n",
       "      <td>Ava</td>\n",
       "      <td>ava@outlook.com</td>\n",
       "    </tr>\n",
       "    <tr>\n",
       "      <th>21</th>\n",
       "      <td>Mia</td>\n",
       "      <td>mia@gmail.com</td>\n",
       "    </tr>\n",
       "    <tr>\n",
       "      <th>22</th>\n",
       "      <td>James</td>\n",
       "      <td>james@hotmail.com</td>\n",
       "    </tr>\n",
       "    <tr>\n",
       "      <th>23</th>\n",
       "      <td>Benjamin</td>\n",
       "      <td>benjamin@google.com</td>\n",
       "    </tr>\n",
       "  </tbody>\n",
       "</table>\n",
       "</div>"
      ],
      "text/plain": [
       "        Name                Email\n",
       "0       Dave      dave@google.com\n",
       "1      Steve      steve@gmail.com\n",
       "2        Rob        rob@yahoo.com\n",
       "3       Ryan       ryan@gmail.com\n",
       "4      Alice    alice@hotmail.com\n",
       "5        Eve       eve@google.com\n",
       "6       John     john@outlook.com\n",
       "7       Jane       jane@gmail.com\n",
       "8      Peter     peter@amazon.com\n",
       "9       Mary      mary@google.com\n",
       "10       Tom        tom@apple.com\n",
       "11      Lucy       lucy@yahoo.com\n",
       "12      Mike    mike@facebook.com\n",
       "13     Chris    chris@netflix.com\n",
       "14      Emma      emma@google.com\n",
       "15    Olivia     olivia@gmail.com\n",
       "16    Sophia    sophia@amazon.com\n",
       "17      Liam       liam@apple.com\n",
       "18      Noah      noah@google.com\n",
       "19     Mason      mason@yahoo.com\n",
       "20       Ava      ava@outlook.com\n",
       "21       Mia        mia@gmail.com\n",
       "22     James    james@hotmail.com\n",
       "23  Benjamin  benjamin@google.com"
      ]
     },
     "execution_count": 3,
     "metadata": {},
     "output_type": "execute_result"
    }
   ],
   "source": [
    "import numpy as np\n",
    "import pandas as pd\n",
    "\n",
    "data = {\n",
    "    'Name': [\n",
    "        'Dave', 'Steve', 'Rob', 'Ryan', 'Alice', 'Eve', 'John', 'Jane', 'Peter', 'Mary', 'Tom', 'Lucy', \n",
    "        'Mike', 'Chris', 'Emma', 'Olivia', 'Sophia', 'Liam', 'Noah', 'Mason', 'Ava', 'Mia', 'James', 'Benjamin'\n",
    "    ],\n",
    "    'Email': [\n",
    "        'dave@google.com', 'steve@gmail.com', 'rob@yahoo.com', 'ryan@gmail.com', \n",
    "        'alice@hotmail.com', 'eve@google.com', 'john@outlook.com', 'jane@gmail.com',\n",
    "        'peter@amazon.com', 'mary@google.com', 'tom@apple.com', 'lucy@yahoo.com',\n",
    "        'mike@facebook.com', 'chris@netflix.com', 'emma@google.com', 'olivia@gmail.com',\n",
    "        'sophia@amazon.com', 'liam@apple.com', 'noah@google.com', 'mason@yahoo.com',\n",
    "        'ava@outlook.com', 'mia@gmail.com', 'james@hotmail.com', 'benjamin@google.com'\n",
    "    ]\n",
    "}\n",
    "\n",
    "# Creando el DataFrame\n",
    "\n",
    "df= pd.DataFrame(data)\n",
    "df\n"
   ]
  },
  {
   "cell_type": "markdown",
   "id": "b0f15d5d-b07e-42f9-bbf9-cc1224a74b4f",
   "metadata": {},
   "source": [
    "### Una vez pasado el diccionario a un DataFrame que contiene nombres y direcciones de correo electrónico, realiza las siguientes tareas:\n",
    "\n",
    "- Extrae los dominios de los correos electrónicos.\n",
    "- Cuenta la frecuencia de cada dominio.\n",
    "- Crea un nuevo DataFrame que contenga cada dominio como columna y el número de veces que se repiten dichos dominios en las filas.\n",
    "#### Resolver de las dos formas: Usando expresiones regulares y usando los métodos propios de pandas."
   ]
  },
  {
   "cell_type": "markdown",
   "id": "3337b807-abb2-49b3-a6be-ad669232a0ef",
   "metadata": {},
   "source": [
    "## Solución con expresiones regulares"
   ]
  },
  {
   "cell_type": "code",
   "execution_count": 7,
   "id": "626a3f3c-bf24-4704-836f-dad38774cdea",
   "metadata": {},
   "outputs": [
    {
     "data": {
      "text/html": [
       "<div>\n",
       "<style scoped>\n",
       "    .dataframe tbody tr th:only-of-type {\n",
       "        vertical-align: middle;\n",
       "    }\n",
       "\n",
       "    .dataframe tbody tr th {\n",
       "        vertical-align: top;\n",
       "    }\n",
       "\n",
       "    .dataframe thead th {\n",
       "        text-align: right;\n",
       "    }\n",
       "</style>\n",
       "<table border=\"1\" class=\"dataframe\">\n",
       "  <thead>\n",
       "    <tr style=\"text-align: right;\">\n",
       "      <th></th>\n",
       "      <th>Dominio</th>\n",
       "      <th>Frecuencia</th>\n",
       "    </tr>\n",
       "  </thead>\n",
       "  <tbody>\n",
       "    <tr>\n",
       "      <th>0</th>\n",
       "      <td>google.com</td>\n",
       "      <td>6</td>\n",
       "    </tr>\n",
       "    <tr>\n",
       "      <th>1</th>\n",
       "      <td>gmail.com</td>\n",
       "      <td>5</td>\n",
       "    </tr>\n",
       "    <tr>\n",
       "      <th>2</th>\n",
       "      <td>yahoo.com</td>\n",
       "      <td>3</td>\n",
       "    </tr>\n",
       "    <tr>\n",
       "      <th>3</th>\n",
       "      <td>hotmail.com</td>\n",
       "      <td>2</td>\n",
       "    </tr>\n",
       "    <tr>\n",
       "      <th>4</th>\n",
       "      <td>outlook.com</td>\n",
       "      <td>2</td>\n",
       "    </tr>\n",
       "    <tr>\n",
       "      <th>5</th>\n",
       "      <td>amazon.com</td>\n",
       "      <td>2</td>\n",
       "    </tr>\n",
       "    <tr>\n",
       "      <th>6</th>\n",
       "      <td>apple.com</td>\n",
       "      <td>2</td>\n",
       "    </tr>\n",
       "    <tr>\n",
       "      <th>7</th>\n",
       "      <td>facebook.com</td>\n",
       "      <td>1</td>\n",
       "    </tr>\n",
       "    <tr>\n",
       "      <th>8</th>\n",
       "      <td>netflix.com</td>\n",
       "      <td>1</td>\n",
       "    </tr>\n",
       "  </tbody>\n",
       "</table>\n",
       "</div>"
      ],
      "text/plain": [
       "        Dominio  Frecuencia\n",
       "0    google.com           6\n",
       "1     gmail.com           5\n",
       "2     yahoo.com           3\n",
       "3   hotmail.com           2\n",
       "4   outlook.com           2\n",
       "5    amazon.com           2\n",
       "6     apple.com           2\n",
       "7  facebook.com           1\n",
       "8   netflix.com           1"
      ]
     },
     "execution_count": 7,
     "metadata": {},
     "output_type": "execute_result"
    }
   ],
   "source": [
    "import re\n",
    "\n",
    "# Se extraen los dominios con expresiones regulares:\n",
    "df['Dominio'] = df['Email'].apply(lambda x: re.search(r'@([\\w.-]+)', x).group(1))\n",
    "\n",
    "# Contar la frecuencia de cada dominio:\n",
    "dominio_counts = df['Dominio'].value_counts()\n",
    "\n",
    "# Se crea un nuevo DatFrame con os dominios como columnas:\n",
    "dominio_df = pd.DataFrame([dominio_counts]).T.reset_index()\n",
    "\n",
    "dominio_df.columns = ['Dominio', 'Frecuencia']\n",
    "# La 'T' se usa para transponer el DatFrame\n",
    "\n",
    "dominio_df"
   ]
  },
  {
   "cell_type": "markdown",
   "id": "15800608-77f1-4412-b9e3-14115ad88bdb",
   "metadata": {},
   "source": [
    "## Solución con los métodos propios de Pandas"
   ]
  },
  {
   "cell_type": "code",
   "execution_count": 9,
   "id": "e524e8b8-86ff-4158-b6b5-6235e4472b6a",
   "metadata": {},
   "outputs": [
    {
     "data": {
      "text/html": [
       "<div>\n",
       "<style scoped>\n",
       "    .dataframe tbody tr th:only-of-type {\n",
       "        vertical-align: middle;\n",
       "    }\n",
       "\n",
       "    .dataframe tbody tr th {\n",
       "        vertical-align: top;\n",
       "    }\n",
       "\n",
       "    .dataframe thead th {\n",
       "        text-align: right;\n",
       "    }\n",
       "</style>\n",
       "<table border=\"1\" class=\"dataframe\">\n",
       "  <thead>\n",
       "    <tr style=\"text-align: right;\">\n",
       "      <th></th>\n",
       "      <th>Dominio</th>\n",
       "      <th>Frecuencia</th>\n",
       "    </tr>\n",
       "  </thead>\n",
       "  <tbody>\n",
       "    <tr>\n",
       "      <th>0</th>\n",
       "      <td>google.com</td>\n",
       "      <td>6</td>\n",
       "    </tr>\n",
       "    <tr>\n",
       "      <th>1</th>\n",
       "      <td>gmail.com</td>\n",
       "      <td>5</td>\n",
       "    </tr>\n",
       "    <tr>\n",
       "      <th>2</th>\n",
       "      <td>yahoo.com</td>\n",
       "      <td>3</td>\n",
       "    </tr>\n",
       "    <tr>\n",
       "      <th>3</th>\n",
       "      <td>hotmail.com</td>\n",
       "      <td>2</td>\n",
       "    </tr>\n",
       "    <tr>\n",
       "      <th>4</th>\n",
       "      <td>outlook.com</td>\n",
       "      <td>2</td>\n",
       "    </tr>\n",
       "    <tr>\n",
       "      <th>5</th>\n",
       "      <td>amazon.com</td>\n",
       "      <td>2</td>\n",
       "    </tr>\n",
       "    <tr>\n",
       "      <th>6</th>\n",
       "      <td>apple.com</td>\n",
       "      <td>2</td>\n",
       "    </tr>\n",
       "    <tr>\n",
       "      <th>7</th>\n",
       "      <td>facebook.com</td>\n",
       "      <td>1</td>\n",
       "    </tr>\n",
       "    <tr>\n",
       "      <th>8</th>\n",
       "      <td>netflix.com</td>\n",
       "      <td>1</td>\n",
       "    </tr>\n",
       "  </tbody>\n",
       "</table>\n",
       "</div>"
      ],
      "text/plain": [
       "        Dominio  Frecuencia\n",
       "0    google.com           6\n",
       "1     gmail.com           5\n",
       "2     yahoo.com           3\n",
       "3   hotmail.com           2\n",
       "4   outlook.com           2\n",
       "5    amazon.com           2\n",
       "6     apple.com           2\n",
       "7  facebook.com           1\n",
       "8   netflix.com           1"
      ]
     },
     "execution_count": 9,
     "metadata": {},
     "output_type": "execute_result"
    }
   ],
   "source": [
    "# Usando métodos de pandas\n",
    "df['Dominio'] = df['Email'].str.split('@').str[1]\n",
    "\n",
    "# Contar la frecuencia de cada dominio\n",
    "dominio_counts = df['Dominio'].value_counts()\n",
    "# Se crea un nuevo DatFrame con os dominios como columnas:\n",
    "\n",
    "dominio_df = pd.DataFrame([dominio_counts]).T.reset_index()\n",
    "dominio_df.columns = ['Dominio', 'Frecuencia']\n",
    "\n",
    "dominio_df\n"
   ]
  },
  {
   "cell_type": "markdown",
   "id": "16f12770",
   "metadata": {
    "slideshow": {
     "slide_type": "slide"
    }
   },
   "source": [
    "## 2.9 Datos Categóricos"
   ]
  },
  {
   "cell_type": "code",
   "execution_count": 10,
   "id": "b29c62b6",
   "metadata": {
    "slideshow": {
     "slide_type": "slide"
    }
   },
   "outputs": [
    {
     "name": "stdout",
     "output_type": "stream",
     "text": [
      "0     apple\n",
      "1    orange\n",
      "2     apple\n",
      "3     apple\n",
      "4     apple\n",
      "5    orange\n",
      "6     apple\n",
      "7     apple\n",
      "dtype: object\n",
      "\n"
     ]
    },
    {
     "data": {
      "text/plain": [
       "0    Naranja\n",
       "1      Mango\n",
       "2       Piña\n",
       "3    Naranja\n",
       "4      Mango\n",
       "5       Piña\n",
       "6    Naranja\n",
       "7      Mango\n",
       "8       Piña\n",
       "dtype: object"
      ]
     },
     "execution_count": 10,
     "metadata": {},
     "output_type": "execute_result"
    }
   ],
   "source": [
    "values = pd.Series(['apple', 'orange', 'apple',\n",
    "                    'apple'] * 2)\n",
    "\n",
    "values1 = pd.Series(['Naranja', 'Mango', 'Piña']*3)\n",
    "                    \n",
    "print(values)\n",
    "print()\n",
    "values1             "
   ]
  },
  {
   "cell_type": "code",
   "execution_count": 11,
   "id": "4190d2c9",
   "metadata": {
    "slideshow": {
     "slide_type": "slide"
    }
   },
   "outputs": [
    {
     "name": "stdout",
     "output_type": "stream",
     "text": [
      "['apple' 'orange']\n",
      "\n"
     ]
    },
    {
     "data": {
      "text/plain": [
       "array(['Naranja', 'Mango', 'Piña'], dtype=object)"
      ]
     },
     "execution_count": 11,
     "metadata": {},
     "output_type": "execute_result"
    }
   ],
   "source": [
    "print(pd.unique(values))\n",
    "print()\n",
    "pd.unique(values1)"
   ]
  },
  {
   "cell_type": "code",
   "execution_count": 13,
   "id": "bb220f8a",
   "metadata": {},
   "outputs": [
    {
     "name": "stdout",
     "output_type": "stream",
     "text": [
      "apple     6\n",
      "orange    2\n",
      "Name: count, dtype: int64\n",
      "\n"
     ]
    },
    {
     "name": "stderr",
     "output_type": "stream",
     "text": [
      "C:\\Users\\REY\\AppData\\Local\\Temp\\ipykernel_18148\\2041475194.py:1: FutureWarning: pandas.value_counts is deprecated and will be removed in a future version. Use pd.Series(obj).value_counts() instead.\n",
      "  print(pd.value_counts(values))\n",
      "C:\\Users\\REY\\AppData\\Local\\Temp\\ipykernel_18148\\2041475194.py:3: FutureWarning: pandas.value_counts is deprecated and will be removed in a future version. Use pd.Series(obj).value_counts() instead.\n",
      "  pd.value_counts(values1)\n"
     ]
    },
    {
     "data": {
      "text/plain": [
       "Naranja    3\n",
       "Mango      3\n",
       "Piña       3\n",
       "Name: count, dtype: int64"
      ]
     },
     "execution_count": 13,
     "metadata": {},
     "output_type": "execute_result"
    }
   ],
   "source": [
    "print(pd.value_counts(values))\n",
    "print()\n",
    "pd.value_counts(values1)"
   ]
  },
  {
   "cell_type": "code",
   "execution_count": 14,
   "id": "d14e50c3-f471-45e8-a542-61d46caa28f0",
   "metadata": {},
   "outputs": [
    {
     "name": "stdout",
     "output_type": "stream",
     "text": [
      "apple     6\n",
      "orange    2\n",
      "Name: count, dtype: int64\n",
      "\n"
     ]
    },
    {
     "data": {
      "text/plain": [
       "Naranja    3\n",
       "Mango      3\n",
       "Piña       3\n",
       "Name: count, dtype: int64"
      ]
     },
     "execution_count": 14,
     "metadata": {},
     "output_type": "execute_result"
    }
   ],
   "source": [
    "print(pd.Series(values).value_counts())\n",
    "print()\n",
    "pd.Series(values1).value_counts()\n"
   ]
  },
  {
   "cell_type": "markdown",
   "id": "72536dde",
   "metadata": {
    "slideshow": {
     "slide_type": "slide"
    }
   },
   "source": [
    "Muchos sistemas de datos (para almacenamiento de datos, cálculo estadístico u otros usos) han desarrollado enfoques especializados para representar datos con valores repetidos para un almacenamiento y cálculo más eficientes. En el almacenamiento de datos, una práctica recomendada consiste en utilizar las denominadas tablas de dimensiones, que contienen los valores distintos y almacenan las observaciones primarias como claves enteras que hacen referencia a la tabla de dimensiones:"
   ]
  },
  {
   "cell_type": "code",
   "execution_count": 20,
   "id": "5990ccda",
   "metadata": {},
   "outputs": [
    {
     "name": "stdout",
     "output_type": "stream",
     "text": [
      "0    0\n",
      "1    1\n",
      "2    0\n",
      "3    0\n",
      "4    0\n",
      "5    1\n",
      "6    0\n",
      "7    0\n",
      "dtype: int64\n",
      "\n"
     ]
    },
    {
     "data": {
      "text/plain": [
       "0    0\n",
       "1    1\n",
       "2    2\n",
       "3    1\n",
       "4    0\n",
       "5    1\n",
       "6    2\n",
       "7    1\n",
       "dtype: int64"
      ]
     },
     "execution_count": 20,
     "metadata": {},
     "output_type": "execute_result"
    }
   ],
   "source": [
    "values = pd.Series([0, 1, 0, 0] * 2)\n",
    "values2 = pd.Series([0, 1, 2, 1] * 2)\n",
    "print(values)\n",
    "print()\n",
    "values2"
   ]
  },
  {
   "cell_type": "code",
   "execution_count": 16,
   "id": "81b685dd",
   "metadata": {},
   "outputs": [
    {
     "name": "stdout",
     "output_type": "stream",
     "text": [
      "0     apple\n",
      "1    orange\n",
      "dtype: object\n",
      "\n"
     ]
    },
    {
     "data": {
      "text/plain": [
       "0    Naranja\n",
       "1       Piña\n",
       "2      Mango\n",
       "dtype: object"
      ]
     },
     "execution_count": 16,
     "metadata": {},
     "output_type": "execute_result"
    }
   ],
   "source": [
    "dim = pd.Series(['apple', 'orange'])\n",
    "print(dim)\n",
    "\n",
    "print()\n",
    "\n",
    "dim1 = pd.Series(['Naranja', 'Piña', 'Mango'])\n",
    "dim1\n"
   ]
  },
  {
   "cell_type": "markdown",
   "id": "0ce57bf9",
   "metadata": {
    "slideshow": {
     "slide_type": "slide"
    }
   },
   "source": [
    "Podemos utilizar el método `take` para restaurar la serie original de cadenas:"
   ]
  },
  {
   "cell_type": "code",
   "execution_count": 21,
   "id": "902fa20d",
   "metadata": {},
   "outputs": [
    {
     "name": "stdout",
     "output_type": "stream",
     "text": [
      "0     apple\n",
      "1    orange\n",
      "0     apple\n",
      "0     apple\n",
      "0     apple\n",
      "1    orange\n",
      "0     apple\n",
      "0     apple\n",
      "dtype: object\n",
      "\n"
     ]
    },
    {
     "data": {
      "text/plain": [
       "0    Naranja\n",
       "1       Piña\n",
       "2      Mango\n",
       "1       Piña\n",
       "0    Naranja\n",
       "1       Piña\n",
       "2      Mango\n",
       "1       Piña\n",
       "dtype: object"
      ]
     },
     "execution_count": 21,
     "metadata": {},
     "output_type": "execute_result"
    }
   ],
   "source": [
    "print(dim.take(values))\n",
    "print()\n",
    "dim1.take(values2)\n"
   ]
  },
  {
   "cell_type": "markdown",
   "id": "205356cc",
   "metadata": {
    "slideshow": {
     "slide_type": "slide"
    }
   },
   "source": [
    "Esta representación como números enteros se denomina representación categórica o codificada en diccionario. La array de valores distintos puede denominarse categorías, diccionario o niveles de los datos. Aqui utilizaremos los términos categórico y categorías. Los valores enteros que hacen referencia a las categorías se denominan códigos de categoría o simplemente códigos."
   ]
  },
  {
   "cell_type": "markdown",
   "id": "9745695c-d50f-4f58-bb13-9f0ff202e8da",
   "metadata": {},
   "source": [
    "### Ejemplo"
   ]
  },
  {
   "cell_type": "markdown",
   "id": "00f560d8-56b9-4dc3-a2fc-4e5bba7c9757",
   "metadata": {},
   "source": [
    "Supongamos que tenemos una serie de índices codificados que representan diferentes tipos de mascotas, y una serie de etiquetas que contienen los nombres de las mascotas. Queremos usar el método take para reconstruir las etiquetas originales a partir de los índices."
   ]
  },
  {
   "cell_type": "code",
   "execution_count": 176,
   "id": "a2cbb515-2110-46ba-b102-bcb4a736d952",
   "metadata": {},
   "outputs": [
    {
     "data": {
      "text/plain": [
       "0     cat\n",
       "1     dog\n",
       "2    bird\n",
       "1     dog\n",
       "0     cat\n",
       "2    bird\n",
       "2    bird\n",
       "0     cat\n",
       "dtype: object"
      ]
     },
     "execution_count": 176,
     "metadata": {},
     "output_type": "execute_result"
    }
   ],
   "source": [
    "# Series de índices codificados\n",
    "encoded_labels = pd.Series([0, 1, 2, 1, 0, 2, 2, 0])\n",
    "\n",
    "# Series de etiquetas originales\n",
    "pet_labels = pd.Series(['cat', 'dog', 'bird'])\n",
    "\n",
    "# Reconstruir las etiquetas originales\n",
    "decoded_labels = pet_labels.take(encoded_labels)\n",
    "\n",
    "decoded_labels"
   ]
  },
  {
   "cell_type": "markdown",
   "id": "a3a0d842",
   "metadata": {},
   "source": [
    "#### MI EJEMPLO"
   ]
  },
  {
   "cell_type": "markdown",
   "id": "a0f4374d",
   "metadata": {},
   "source": [
    "Supongamos que tenemos una serie de índices codificados que representan diferentes tipos de deportes, y una serie de etiquetas que contienen los nombres de los deportes. Queremos usar el método take para reconstruir las etiquetas originales a partir de los índices."
   ]
  },
  {
   "cell_type": "code",
   "execution_count": 30,
   "id": "0fbee9ea",
   "metadata": {},
   "outputs": [
    {
     "data": {
      "text/plain": [
       "0     0\n",
       "1     0\n",
       "2     0\n",
       "3     1\n",
       "4     1\n",
       "5     1\n",
       "6     1\n",
       "7     2\n",
       "8     2\n",
       "9     3\n",
       "10    4\n",
       "11    4\n",
       "dtype: int64"
      ]
     },
     "execution_count": 30,
     "metadata": {},
     "output_type": "execute_result"
    }
   ],
   "source": [
    "# Series de ìndices codificados\n",
    "codigos = pd.Series([0,0,0,1,1,1,1,2,2,3,4,4])\n",
    "codigos"
   ]
  },
  {
   "cell_type": "code",
   "execution_count": 31,
   "id": "6da19eb2",
   "metadata": {},
   "outputs": [
    {
     "data": {
      "text/plain": [
       "0    Baloncesto\n",
       "0    Baloncesto\n",
       "0    Baloncesto\n",
       "1       Beisbol\n",
       "1       Beisbol\n",
       "1       Beisbol\n",
       "1       Beisbol\n",
       "2      Voleibol\n",
       "2      Voleibol\n",
       "3        Fútbol\n",
       "4      Ciclismo\n",
       "4      Ciclismo\n",
       "dtype: object"
      ]
     },
     "execution_count": 31,
     "metadata": {},
     "output_type": "execute_result"
    }
   ],
   "source": [
    "# Serie de etiquetas originales\n",
    "deportes = pd.Series(['Baloncesto','Beisbol','Voleibol','Fútbol','Ciclismo'])\n",
    "deportes\n",
    "\n",
    "#Reconstruir las etiquetas originales\n",
    "dec_deportes = deportes.take(codigos)\n",
    "dec_deportes"
   ]
  },
  {
   "cell_type": "markdown",
   "id": "9efcf502-688c-4d7c-9a71-81b2405c6438",
   "metadata": {},
   "source": [
    "### Ejercicio 6. Dados los siguientes datos:"
   ]
  },
  {
   "cell_type": "code",
   "execution_count": 39,
   "id": "49c80190-a508-44df-bf3c-6fe430b12b29",
   "metadata": {},
   "outputs": [],
   "source": [
    "import numpy as np\n",
    "import pandas as pd\n",
    "\n",
    "encoded_labels = [\n",
    "    0, 1, 2, 3, 0, 4, 5, 6, 2, 1, 3, 0, 5, 4, 6, 1, 2, 5, 4, 3,\n",
    "    7, 8, 9, 10, 7, 11, 12, 13, 9, 8, 10, 7, 12, 11, 13, 8, 9, 12, 11, 10,\n",
    "    14, 15, 16, 17, 18, 19, 20, 21, 22, 23, 24, 25, 26, 27, 28, 29, 30, 31, 32, 33\n",
    "]\n",
    "\n",
    "serie_encoded_labels = pd.Series(encoded_labels)\n",
    "\n",
    "animal_labels = [\n",
    "    'cat', 'dog', 'bird', 'fish', 'lion', 'tiger', 'bear', 'elephant', \n",
    "    'giraffe', 'zebra', 'kangaroo', 'koala', 'panda', 'monkey',\n",
    "    'shark', 'whale', 'dolphin', 'penguin', 'ostrich', 'crocodile', \n",
    "    'alligator', 'hippopotamus', 'rhinoceros', 'cheetah', 'leopard', \n",
    "    'jaguar', 'wolf', 'fox', 'rabbit', 'squirrel', 'bat', 'owl', \n",
    "    'hawk', 'eagle'\n",
    "]\n",
    "\n",
    "serie_animal_labels = pd.Series(animal_labels)\n",
    "\n",
    "\n",
    "\n"
   ]
  },
  {
   "cell_type": "markdown",
   "id": "2f6d77d4-ef42-459f-b729-506c530beb69",
   "metadata": {},
   "source": [
    "1- Recrear las etiquetas originales a partir de los índices codificados.  \n",
    "2- Contar la frecuencia de cada etiqueta de animal.  \n",
    "3- Identificar las etiquetas de animales únicas presentes en los datos.  \n",
    "4- Determinar el animal más frecuente y el menos frecuente.  \n",
    "5- Agrupar los animales y contar la frecuencia por grupos (mamíferos, aves, reptiles, etc.).  \n",
    "6- Identificar la posición de las primeras y últimas ocurrencias de cada animal.  \n",
    "7- Generar un resumen estadístico de las frecuencias de los animales (media, mediana, desviación estándar).  \n",
    "8- Filtrar y mostrar solo los animales con una frecuencia mayor que 2.  \n",
    "9- Encontrar y mostrar las etiquetas de animales que aparecen solo una vez.  \n",
    "10- Calcular el porcentaje de apariciones de cada animal respecto al total.  \n",
    "11- Ordenar las etiquetas de animales por frecuencia en orden descendente.  \n",
    "12- Generar un DataFrame que muestre la frecuencia acumulativa de las etiquetas."
   ]
  },
  {
   "cell_type": "code",
   "execution_count": 73,
   "id": "b818c508",
   "metadata": {},
   "outputs": [
    {
     "data": {
      "text/plain": [
       "0              cat\n",
       "1              dog\n",
       "2             bird\n",
       "3             fish\n",
       "0              cat\n",
       "4             lion\n",
       "5            tiger\n",
       "6             bear\n",
       "2             bird\n",
       "1              dog\n",
       "3             fish\n",
       "0              cat\n",
       "5            tiger\n",
       "4             lion\n",
       "6             bear\n",
       "1              dog\n",
       "2             bird\n",
       "5            tiger\n",
       "4             lion\n",
       "3             fish\n",
       "7         elephant\n",
       "8          giraffe\n",
       "9            zebra\n",
       "10        kangaroo\n",
       "7         elephant\n",
       "11           koala\n",
       "12           panda\n",
       "13          monkey\n",
       "9            zebra\n",
       "8          giraffe\n",
       "10        kangaroo\n",
       "7         elephant\n",
       "12           panda\n",
       "11           koala\n",
       "13          monkey\n",
       "8          giraffe\n",
       "9            zebra\n",
       "12           panda\n",
       "11           koala\n",
       "10        kangaroo\n",
       "14           shark\n",
       "15           whale\n",
       "16         dolphin\n",
       "17         penguin\n",
       "18         ostrich\n",
       "19       crocodile\n",
       "20       alligator\n",
       "21    hippopotamus\n",
       "22      rhinoceros\n",
       "23         cheetah\n",
       "24         leopard\n",
       "25          jaguar\n",
       "26            wolf\n",
       "27             fox\n",
       "28          rabbit\n",
       "29        squirrel\n",
       "30             bat\n",
       "31             owl\n",
       "32            hawk\n",
       "33           eagle\n",
       "dtype: object"
      ]
     },
     "execution_count": 73,
     "metadata": {},
     "output_type": "execute_result"
    }
   ],
   "source": [
    "# 1- Recrear las etiquetas originales a partir de los índices codificados.  \n",
    "dec_animal_labels = serie_animal_labels.take(serie_encoded_labels)\n",
    "dec_animal_labels"
   ]
  },
  {
   "cell_type": "code",
   "execution_count": 42,
   "id": "2a244bef",
   "metadata": {},
   "outputs": [
    {
     "data": {
      "text/plain": [
       "cat             3\n",
       "elephant        3\n",
       "dog             3\n",
       "panda           3\n",
       "kangaroo        3\n",
       "zebra           3\n",
       "giraffe         3\n",
       "koala           3\n",
       "tiger           3\n",
       "lion            3\n",
       "fish            3\n",
       "bird            3\n",
       "bear            2\n",
       "monkey          2\n",
       "leopard         1\n",
       "hawk            1\n",
       "owl             1\n",
       "bat             1\n",
       "squirrel        1\n",
       "rabbit          1\n",
       "fox             1\n",
       "wolf            1\n",
       "jaguar          1\n",
       "penguin         1\n",
       "cheetah         1\n",
       "rhinoceros      1\n",
       "hippopotamus    1\n",
       "alligator       1\n",
       "crocodile       1\n",
       "ostrich         1\n",
       "dolphin         1\n",
       "whale           1\n",
       "shark           1\n",
       "eagle           1\n",
       "Name: count, dtype: int64"
      ]
     },
     "execution_count": 42,
     "metadata": {},
     "output_type": "execute_result"
    }
   ],
   "source": [
    "# 2- Contar la frecuencia de cada etiqueta de animal.  \n",
    "\n",
    "frecuencia = dec_animal_labels.value_counts()\n",
    "frecuencia"
   ]
  },
  {
   "cell_type": "code",
   "execution_count": 44,
   "id": "8423a63a",
   "metadata": {},
   "outputs": [
    {
     "data": {
      "text/plain": [
       "array(['cat', 'dog', 'bird', 'fish', 'lion', 'tiger', 'bear', 'elephant',\n",
       "       'giraffe', 'zebra', 'kangaroo', 'koala', 'panda', 'monkey',\n",
       "       'shark', 'whale', 'dolphin', 'penguin', 'ostrich', 'crocodile',\n",
       "       'alligator', 'hippopotamus', 'rhinoceros', 'cheetah', 'leopard',\n",
       "       'jaguar', 'wolf', 'fox', 'rabbit', 'squirrel', 'bat', 'owl',\n",
       "       'hawk', 'eagle'], dtype=object)"
      ]
     },
     "execution_count": 44,
     "metadata": {},
     "output_type": "execute_result"
    }
   ],
   "source": [
    "# 3- Identificar las etiquetas de animales únicas presentes en los datos.  \n",
    "animal = dec_animal_labels.unique()\n",
    "\n",
    "animal"
   ]
  },
  {
   "cell_type": "code",
   "execution_count": 46,
   "id": "80759f95",
   "metadata": {},
   "outputs": [
    {
     "name": "stdout",
     "output_type": "stream",
     "text": [
      "El animal mas frecuencte es el 'cat'\n",
      "El animal menos frecuencte es el 'leopard'\n"
     ]
    }
   ],
   "source": [
    "# 4- Determinar el animal más frecuente y el menos frecuente.  \n",
    "mas_frecuente = frecuencia.idxmax()\n",
    "menos_frecuente = frecuencia.idxmin()\n",
    "\n",
    "print(f\"El animal mas frecuencte es el '{mas_frecuente}'\")\n",
    "print(f\"El animal menos frecuencte es el '{menos_frecuente}'\")"
   ]
  },
  {
   "cell_type": "code",
   "execution_count": 48,
   "id": "4a0dad06",
   "metadata": {},
   "outputs": [
    {
     "data": {
      "text/plain": [
       "{'mamíferos': 36, 'aves': 12, 'reptiles': 4}"
      ]
     },
     "execution_count": 48,
     "metadata": {},
     "output_type": "execute_result"
    }
   ],
   "source": [
    "\"\"\"\n",
    "5- Agrupar los animales y contar la frecuencia por grupos (mamíferos, aves, \n",
    "      reptiles, etc.).  \n",
    "\"\"\"\n",
    "\n",
    "groups = {\n",
    "    'mamíferos': ['cat', 'dog', 'lion', 'tiger', 'bear', 'elephant', 'zebra', 'kangaroo', 'koala', 'panda', 'monkey', 'jaguar', 'wolf', 'fox', 'rabbit', 'squirrel'],\n",
    "    'aves': ['bird', 'giraffe', 'penguin', 'ostrich', 'bat', 'owl', 'hawk', 'eagle'],\n",
    "    'reptiles': ['crocodile', 'alligator', 'hippopotamus', 'rhinoceros']\n",
    "}\n",
    "\n",
    "grupos_frecuencia = {group: dec_animal_labels.isin(animal).sum() for group, animal in groups.items()}\n",
    "\n",
    "grupos_frecuencia\n"
   ]
  },
  {
   "cell_type": "code",
   "execution_count": 61,
   "id": "80e9ba78",
   "metadata": {},
   "outputs": [
    {
     "name": "stdout",
     "output_type": "stream",
     "text": [
      "Primera ocurrencia: \n",
      "alligator       20\n",
      "bat             30\n",
      "bear             6\n",
      "bird             2\n",
      "cat              0\n",
      "cheetah         23\n",
      "crocodile       19\n",
      "dog              1\n",
      "dolphin         16\n",
      "eagle           33\n",
      "elephant         7\n",
      "fish             3\n",
      "fox             27\n",
      "giraffe          8\n",
      "hawk            32\n",
      "hippopotamus    21\n",
      "jaguar          25\n",
      "kangaroo        10\n",
      "koala           11\n",
      "leopard         24\n",
      "lion             4\n",
      "monkey          13\n",
      "ostrich         18\n",
      "owl             31\n",
      "panda           12\n",
      "penguin         17\n",
      "rabbit          28\n",
      "rhinoceros      22\n",
      "shark           14\n",
      "squirrel        29\n",
      "tiger            5\n",
      "whale           15\n",
      "wolf            26\n",
      "zebra            9\n",
      "dtype: int64\n",
      "Última ocurrencia: \n",
      "alligator       20\n",
      "bat             30\n",
      "bear             6\n",
      "bird             2\n",
      "cat              0\n",
      "cheetah         23\n",
      "crocodile       19\n",
      "dog              1\n",
      "dolphin         16\n",
      "eagle           33\n",
      "elephant         7\n",
      "fish             3\n",
      "fox             27\n",
      "giraffe          8\n",
      "hawk            32\n",
      "hippopotamus    21\n",
      "jaguar          25\n",
      "kangaroo        10\n",
      "koala           11\n",
      "leopard         24\n",
      "lion             4\n",
      "monkey          13\n",
      "ostrich         18\n",
      "owl             31\n",
      "panda           12\n",
      "penguin         17\n",
      "rabbit          28\n",
      "rhinoceros      22\n",
      "shark           14\n",
      "squirrel        29\n",
      "tiger            5\n",
      "whale           15\n",
      "wolf            26\n",
      "zebra            9\n",
      "dtype: int64\n"
     ]
    }
   ],
   "source": [
    "# 6- Identificar la posición de las primeras y últimas ocurrencias de cada animal. \n",
    "primera_ocurrencia = dec_animal_labels.groupby(dec_animal_labels).apply(lambda x: x.index[0])\n",
    "\n",
    "ultima_ocurrencia = dec_animal_labels.groupby(dec_animal_labels).apply(lambda x: x.index[-1])\n",
    "\n",
    "print(f\"Primera ocurrencia: \\n{primera_ocurrencia}\")\n",
    "print(f\"Última ocurrencia: \\n{ultima_ocurrencia}\")"
   ]
  },
  {
   "cell_type": "code",
   "execution_count": 62,
   "id": "aa7c2de7",
   "metadata": {},
   "outputs": [
    {
     "data": {
      "text/plain": [
       "count    34.000000\n",
       "mean      1.764706\n",
       "std       0.955330\n",
       "min       1.000000\n",
       "25%       1.000000\n",
       "50%       1.000000\n",
       "75%       3.000000\n",
       "max       3.000000\n",
       "Name: count, dtype: float64"
      ]
     },
     "execution_count": 62,
     "metadata": {},
     "output_type": "execute_result"
    }
   ],
   "source": [
    "\"\"\"\n",
    " 7- Generar un resumen estadístico de las frecuencias de los animales (media, mediana, desviación estándar).  \n",
    "\n",
    "\"\"\"\n",
    "frecuencia.describe()"
   ]
  },
  {
   "cell_type": "code",
   "execution_count": 66,
   "id": "9d057af0",
   "metadata": {},
   "outputs": [
    {
     "data": {
      "text/plain": [
       "cat         3\n",
       "elephant    3\n",
       "dog         3\n",
       "panda       3\n",
       "kangaroo    3\n",
       "zebra       3\n",
       "giraffe     3\n",
       "koala       3\n",
       "tiger       3\n",
       "lion        3\n",
       "fish        3\n",
       "bird        3\n",
       "Name: count, dtype: int64"
      ]
     },
     "execution_count": 66,
     "metadata": {},
     "output_type": "execute_result"
    }
   ],
   "source": [
    "# 8- Filtrar y mostrar solo los animales con una frecuencia mayor que 2.  \n",
    "filtro_mayor_de_2 = frecuencia[frecuencia > 2]\n",
    "filtro_mayor_de_2"
   ]
  },
  {
   "cell_type": "code",
   "execution_count": 67,
   "id": "87c16403",
   "metadata": {},
   "outputs": [
    {
     "data": {
      "text/plain": [
       "leopard         1\n",
       "hawk            1\n",
       "owl             1\n",
       "bat             1\n",
       "squirrel        1\n",
       "rabbit          1\n",
       "fox             1\n",
       "wolf            1\n",
       "jaguar          1\n",
       "penguin         1\n",
       "cheetah         1\n",
       "rhinoceros      1\n",
       "hippopotamus    1\n",
       "alligator       1\n",
       "crocodile       1\n",
       "ostrich         1\n",
       "dolphin         1\n",
       "whale           1\n",
       "shark           1\n",
       "eagle           1\n",
       "Name: count, dtype: int64"
      ]
     },
     "execution_count": 67,
     "metadata": {},
     "output_type": "execute_result"
    }
   ],
   "source": [
    "# 9- Encontrar y mostrar las etiquetas de animales que aparecen solo una vez.\n",
    "una_ocurrencia = frecuencia[frecuencia == 1]\n",
    "una_ocurrencia"
   ]
  },
  {
   "cell_type": "code",
   "execution_count": 74,
   "id": "38df2f4e",
   "metadata": {},
   "outputs": [
    {
     "data": {
      "text/plain": [
       "cat             5.000000\n",
       "elephant        5.000000\n",
       "dog             5.000000\n",
       "panda           5.000000\n",
       "kangaroo        5.000000\n",
       "zebra           5.000000\n",
       "giraffe         5.000000\n",
       "koala           5.000000\n",
       "tiger           5.000000\n",
       "lion            5.000000\n",
       "fish            5.000000\n",
       "bird            5.000000\n",
       "bear            3.333333\n",
       "monkey          3.333333\n",
       "leopard         1.666667\n",
       "hawk            1.666667\n",
       "owl             1.666667\n",
       "bat             1.666667\n",
       "squirrel        1.666667\n",
       "rabbit          1.666667\n",
       "fox             1.666667\n",
       "wolf            1.666667\n",
       "jaguar          1.666667\n",
       "penguin         1.666667\n",
       "cheetah         1.666667\n",
       "rhinoceros      1.666667\n",
       "hippopotamus    1.666667\n",
       "alligator       1.666667\n",
       "crocodile       1.666667\n",
       "ostrich         1.666667\n",
       "dolphin         1.666667\n",
       "whale           1.666667\n",
       "shark           1.666667\n",
       "eagle           1.666667\n",
       "Name: count, dtype: float64"
      ]
     },
     "execution_count": 74,
     "metadata": {},
     "output_type": "execute_result"
    }
   ],
   "source": [
    "# 10- Calcular el porcentaje de apariciones de cada animal respecto al total. \n",
    "porciento = (frecuencia / len(dec_animal_labels)) * 100\n",
    "porciento\n"
   ]
  },
  {
   "cell_type": "code",
   "execution_count": 76,
   "id": "02e6085e",
   "metadata": {},
   "outputs": [
    {
     "data": {
      "text/plain": [
       "cat             3\n",
       "koala           3\n",
       "elephant        3\n",
       "fish            3\n",
       "lion            3\n",
       "tiger           3\n",
       "bird            3\n",
       "giraffe         3\n",
       "zebra           3\n",
       "kangaroo        3\n",
       "panda           3\n",
       "dog             3\n",
       "bear            2\n",
       "monkey          2\n",
       "cheetah         1\n",
       "shark           1\n",
       "whale           1\n",
       "dolphin         1\n",
       "ostrich         1\n",
       "crocodile       1\n",
       "alligator       1\n",
       "hippopotamus    1\n",
       "rhinoceros      1\n",
       "bat             1\n",
       "penguin         1\n",
       "jaguar          1\n",
       "wolf            1\n",
       "fox             1\n",
       "rabbit          1\n",
       "squirrel        1\n",
       "owl             1\n",
       "hawk            1\n",
       "leopard         1\n",
       "eagle           1\n",
       "Name: count, dtype: int64"
      ]
     },
     "execution_count": 76,
     "metadata": {},
     "output_type": "execute_result"
    }
   ],
   "source": [
    "# 11- Ordenar las etiquetas de animales por frecuencia en orden descendente. \n",
    "orden_descendente = frecuencia.sort_values(ascending=False)\n",
    "\n",
    "orden_descendente"
   ]
  },
  {
   "cell_type": "code",
   "execution_count": 78,
   "id": "0ed51361",
   "metadata": {},
   "outputs": [
    {
     "data": {
      "text/html": [
       "<div>\n",
       "<style scoped>\n",
       "    .dataframe tbody tr th:only-of-type {\n",
       "        vertical-align: middle;\n",
       "    }\n",
       "\n",
       "    .dataframe tbody tr th {\n",
       "        vertical-align: top;\n",
       "    }\n",
       "\n",
       "    .dataframe thead th {\n",
       "        text-align: right;\n",
       "    }\n",
       "</style>\n",
       "<table border=\"1\" class=\"dataframe\">\n",
       "  <thead>\n",
       "    <tr style=\"text-align: right;\">\n",
       "      <th></th>\n",
       "      <th>Animal</th>\n",
       "      <th>Frecuencia acumulada</th>\n",
       "    </tr>\n",
       "  </thead>\n",
       "  <tbody>\n",
       "    <tr>\n",
       "      <th>0</th>\n",
       "      <td>cat</td>\n",
       "      <td>3</td>\n",
       "    </tr>\n",
       "    <tr>\n",
       "      <th>1</th>\n",
       "      <td>elephant</td>\n",
       "      <td>6</td>\n",
       "    </tr>\n",
       "    <tr>\n",
       "      <th>2</th>\n",
       "      <td>dog</td>\n",
       "      <td>9</td>\n",
       "    </tr>\n",
       "    <tr>\n",
       "      <th>3</th>\n",
       "      <td>panda</td>\n",
       "      <td>12</td>\n",
       "    </tr>\n",
       "    <tr>\n",
       "      <th>4</th>\n",
       "      <td>kangaroo</td>\n",
       "      <td>15</td>\n",
       "    </tr>\n",
       "    <tr>\n",
       "      <th>5</th>\n",
       "      <td>zebra</td>\n",
       "      <td>18</td>\n",
       "    </tr>\n",
       "    <tr>\n",
       "      <th>6</th>\n",
       "      <td>giraffe</td>\n",
       "      <td>21</td>\n",
       "    </tr>\n",
       "    <tr>\n",
       "      <th>7</th>\n",
       "      <td>koala</td>\n",
       "      <td>24</td>\n",
       "    </tr>\n",
       "    <tr>\n",
       "      <th>8</th>\n",
       "      <td>tiger</td>\n",
       "      <td>27</td>\n",
       "    </tr>\n",
       "    <tr>\n",
       "      <th>9</th>\n",
       "      <td>lion</td>\n",
       "      <td>30</td>\n",
       "    </tr>\n",
       "    <tr>\n",
       "      <th>10</th>\n",
       "      <td>fish</td>\n",
       "      <td>33</td>\n",
       "    </tr>\n",
       "    <tr>\n",
       "      <th>11</th>\n",
       "      <td>bird</td>\n",
       "      <td>36</td>\n",
       "    </tr>\n",
       "    <tr>\n",
       "      <th>12</th>\n",
       "      <td>bear</td>\n",
       "      <td>38</td>\n",
       "    </tr>\n",
       "    <tr>\n",
       "      <th>13</th>\n",
       "      <td>monkey</td>\n",
       "      <td>40</td>\n",
       "    </tr>\n",
       "    <tr>\n",
       "      <th>14</th>\n",
       "      <td>leopard</td>\n",
       "      <td>41</td>\n",
       "    </tr>\n",
       "    <tr>\n",
       "      <th>15</th>\n",
       "      <td>hawk</td>\n",
       "      <td>42</td>\n",
       "    </tr>\n",
       "    <tr>\n",
       "      <th>16</th>\n",
       "      <td>owl</td>\n",
       "      <td>43</td>\n",
       "    </tr>\n",
       "    <tr>\n",
       "      <th>17</th>\n",
       "      <td>bat</td>\n",
       "      <td>44</td>\n",
       "    </tr>\n",
       "    <tr>\n",
       "      <th>18</th>\n",
       "      <td>squirrel</td>\n",
       "      <td>45</td>\n",
       "    </tr>\n",
       "    <tr>\n",
       "      <th>19</th>\n",
       "      <td>rabbit</td>\n",
       "      <td>46</td>\n",
       "    </tr>\n",
       "    <tr>\n",
       "      <th>20</th>\n",
       "      <td>fox</td>\n",
       "      <td>47</td>\n",
       "    </tr>\n",
       "    <tr>\n",
       "      <th>21</th>\n",
       "      <td>wolf</td>\n",
       "      <td>48</td>\n",
       "    </tr>\n",
       "    <tr>\n",
       "      <th>22</th>\n",
       "      <td>jaguar</td>\n",
       "      <td>49</td>\n",
       "    </tr>\n",
       "    <tr>\n",
       "      <th>23</th>\n",
       "      <td>penguin</td>\n",
       "      <td>50</td>\n",
       "    </tr>\n",
       "    <tr>\n",
       "      <th>24</th>\n",
       "      <td>cheetah</td>\n",
       "      <td>51</td>\n",
       "    </tr>\n",
       "    <tr>\n",
       "      <th>25</th>\n",
       "      <td>rhinoceros</td>\n",
       "      <td>52</td>\n",
       "    </tr>\n",
       "    <tr>\n",
       "      <th>26</th>\n",
       "      <td>hippopotamus</td>\n",
       "      <td>53</td>\n",
       "    </tr>\n",
       "    <tr>\n",
       "      <th>27</th>\n",
       "      <td>alligator</td>\n",
       "      <td>54</td>\n",
       "    </tr>\n",
       "    <tr>\n",
       "      <th>28</th>\n",
       "      <td>crocodile</td>\n",
       "      <td>55</td>\n",
       "    </tr>\n",
       "    <tr>\n",
       "      <th>29</th>\n",
       "      <td>ostrich</td>\n",
       "      <td>56</td>\n",
       "    </tr>\n",
       "    <tr>\n",
       "      <th>30</th>\n",
       "      <td>dolphin</td>\n",
       "      <td>57</td>\n",
       "    </tr>\n",
       "    <tr>\n",
       "      <th>31</th>\n",
       "      <td>whale</td>\n",
       "      <td>58</td>\n",
       "    </tr>\n",
       "    <tr>\n",
       "      <th>32</th>\n",
       "      <td>shark</td>\n",
       "      <td>59</td>\n",
       "    </tr>\n",
       "    <tr>\n",
       "      <th>33</th>\n",
       "      <td>eagle</td>\n",
       "      <td>60</td>\n",
       "    </tr>\n",
       "  </tbody>\n",
       "</table>\n",
       "</div>"
      ],
      "text/plain": [
       "          Animal  Frecuencia acumulada\n",
       "0            cat                     3\n",
       "1       elephant                     6\n",
       "2            dog                     9\n",
       "3          panda                    12\n",
       "4       kangaroo                    15\n",
       "5          zebra                    18\n",
       "6        giraffe                    21\n",
       "7          koala                    24\n",
       "8          tiger                    27\n",
       "9           lion                    30\n",
       "10          fish                    33\n",
       "11          bird                    36\n",
       "12          bear                    38\n",
       "13        monkey                    40\n",
       "14       leopard                    41\n",
       "15          hawk                    42\n",
       "16           owl                    43\n",
       "17           bat                    44\n",
       "18      squirrel                    45\n",
       "19        rabbit                    46\n",
       "20           fox                    47\n",
       "21          wolf                    48\n",
       "22        jaguar                    49\n",
       "23       penguin                    50\n",
       "24       cheetah                    51\n",
       "25    rhinoceros                    52\n",
       "26  hippopotamus                    53\n",
       "27     alligator                    54\n",
       "28     crocodile                    55\n",
       "29       ostrich                    56\n",
       "30       dolphin                    57\n",
       "31         whale                    58\n",
       "32         shark                    59\n",
       "33         eagle                    60"
      ]
     },
     "execution_count": 78,
     "metadata": {},
     "output_type": "execute_result"
    }
   ],
   "source": [
    "# 12- Generar un DataFrame que muestre la frecuencia acumulativa de las etiquetas.\n",
    "frecuencia_acumulativa = frecuencia.cumsum()\n",
    "df_frecuencia_acumulativa= pd.DataFrame({'Animal': frecuencia_acumulativa.index, 'Frecuencia acumulada': frecuencia_acumulativa.values})\n",
    "\n",
    "df_frecuencia_acumulativa"
   ]
  },
  {
   "cell_type": "markdown",
   "id": "c8311a57",
   "metadata": {
    "slideshow": {
     "slide_type": "slide"
    }
   },
   "source": [
    "### 2.10 Extension de tipos de datos categóricos en Pandas"
   ]
  },
  {
   "cell_type": "markdown",
   "id": "9f4e76ce",
   "metadata": {},
   "source": [
    "Pandas tiene un tipo de extensión especial `Categorical` para contener datos que utilizan la representación o codificación categórica basada en enteros. Esta es una técnica popular de compresión de datos para datos con muchas ocurrencias de valores similares y puede proporcionar un rendimiento significativamente más rápido con un menor uso de memoria, especialmente para datos de cadenas."
   ]
  },
  {
   "cell_type": "markdown",
   "id": "7fca37ed",
   "metadata": {
    "slideshow": {
     "slide_type": "slide"
    }
   },
   "source": [
    "Volvamos al ejemplo de la serie anterior:"
   ]
  },
  {
   "cell_type": "code",
   "execution_count": 103,
   "id": "fa7d8110",
   "metadata": {},
   "outputs": [],
   "source": [
    "fruits = ['apple', 'orange', 'apple', 'apple'] * 2\n",
    "\n",
    "fruta = ['Mango', 'Piña', 'Piña', 'Mango'] * 3\n"
   ]
  },
  {
   "cell_type": "code",
   "execution_count": 104,
   "id": "b1d0527e",
   "metadata": {
    "slideshow": {
     "slide_type": "slide"
    }
   },
   "outputs": [
    {
     "name": "stdout",
     "output_type": "stream",
     "text": [
      "8\n",
      "\n"
     ]
    },
    {
     "data": {
      "text/plain": [
       "12"
      ]
     },
     "execution_count": 104,
     "metadata": {},
     "output_type": "execute_result"
    }
   ],
   "source": [
    "N = len(fruits)\n",
    "print(N)\n",
    "print()\n",
    "N1=len(fruta)\n",
    "N1"
   ]
  },
  {
   "cell_type": "code",
   "execution_count": 105,
   "id": "f1f0f9ca",
   "metadata": {},
   "outputs": [],
   "source": [
    "rng = np.random.default_rng(seed=12345)"
   ]
  },
  {
   "cell_type": "code",
   "execution_count": 122,
   "id": "15905118",
   "metadata": {
    "slideshow": {
     "slide_type": "slide"
    }
   },
   "outputs": [
    {
     "name": "stdout",
     "output_type": "stream",
     "text": [
      "   basket_id   fruit  count    weight\n",
      "0          0   apple     12  2.989498\n",
      "1          1  orange      8  0.803369\n",
      "2          2   apple     10  1.851017\n",
      "3          3   apple     14  2.543766\n",
      "4          4   apple     10  3.651182\n",
      "5          5  orange      9  1.365126\n",
      "6          6   apple      8  2.660173\n",
      "7          7   apple      3  0.141289\n",
      "\n",
      "    Fruta  Id  Cantidad      Peso\n",
      "0   Mango   0         8  1.080839\n",
      "1    Piña   1         3  2.783669\n",
      "2    Piña   2        11  2.834449\n",
      "3   Mango   3         8  3.904744\n",
      "4   Mango   4         3  0.530979\n",
      "5    Piña   5        10  0.385430\n",
      "6    Piña   6         6  3.326940\n",
      "7   Mango   7         6  1.105017\n",
      "8   Mango   8        12  3.624836\n",
      "9    Piña   9        11  2.286409\n",
      "10   Piña  10         9  2.406878\n",
      "11  Mango  11         6  0.018823\n",
      "\n",
      "0     apple\n",
      "1    orange\n",
      "2     apple\n",
      "3     apple\n",
      "4     apple\n",
      "5    orange\n",
      "6     apple\n",
      "7     apple\n",
      "Name: fruit, dtype: object\n",
      "\n"
     ]
    },
    {
     "data": {
      "text/plain": [
       "0     Mango\n",
       "1      Piña\n",
       "2      Piña\n",
       "3     Mango\n",
       "4     Mango\n",
       "5      Piña\n",
       "6      Piña\n",
       "7     Mango\n",
       "8     Mango\n",
       "9      Piña\n",
       "10     Piña\n",
       "11    Mango\n",
       "Name: Fruta, dtype: object"
      ]
     },
     "execution_count": 122,
     "metadata": {},
     "output_type": "execute_result"
    }
   ],
   "source": [
    "df = pd.DataFrame({'fruit': fruits,\n",
    "                   'basket_id': np.arange(N),\n",
    "                   'count': rng.integers(3, 15, size=N),\n",
    "                   'weight': rng.uniform(0, 4, size=N)},\n",
    "                    columns=['basket_id', 'fruit', 'count', 'weight'])\n",
    "\n",
    "df1 = pd.DataFrame({'Fruta': fruta,\n",
    "                   'Id': np.arange(N1),\n",
    "                   'Cantidad': rng.integers(3, 15, size=N1),\n",
    "                   'Peso': rng.uniform(0, 4, size=N1)},\n",
    "                    columns=['Fruta', 'Id', 'Cantidad', 'Peso'])\n",
    "\n",
    "\n",
    "print(df)\n",
    "print()\n",
    "print(df1)\n",
    "print()\n",
    "print(df['fruit'])\n",
    "print()\n",
    "df1['Fruta']"
   ]
  },
  {
   "cell_type": "markdown",
   "id": "6aa2f9c8",
   "metadata": {
    "slideshow": {
     "slide_type": "slide"
    }
   },
   "source": [
    "Aquí, `df['fruta']` es un array de objetos de cadena de Python. Podemos convertirlo en categórico llamando a:"
   ]
  },
  {
   "cell_type": "code",
   "execution_count": 124,
   "id": "da16ef22",
   "metadata": {},
   "outputs": [
    {
     "name": "stdout",
     "output_type": "stream",
     "text": [
      "0     apple\n",
      "1    orange\n",
      "2     apple\n",
      "3     apple\n",
      "4     apple\n",
      "5    orange\n",
      "6     apple\n",
      "7     apple\n",
      "Name: fruit, dtype: category\n",
      "Categories (2, object): ['apple', 'orange']\n",
      "\n"
     ]
    },
    {
     "data": {
      "text/plain": [
       "0     Mango\n",
       "1      Piña\n",
       "2      Piña\n",
       "3     Mango\n",
       "4     Mango\n",
       "5      Piña\n",
       "6      Piña\n",
       "7     Mango\n",
       "8     Mango\n",
       "9      Piña\n",
       "10     Piña\n",
       "11    Mango\n",
       "Name: Fruta, dtype: category\n",
       "Categories (2, object): ['Mango', 'Piña']"
      ]
     },
     "execution_count": 124,
     "metadata": {},
     "output_type": "execute_result"
    }
   ],
   "source": [
    "fruit_cat = df['fruit'].astype('category')\n",
    "print(fruit_cat)\n",
    "fruita_cat = df['fruit'].astype('category')\n",
    "fruta_cate = df1['Fruta'].astype('category')\n",
    "print()\n",
    "fruta_cate"
   ]
  },
  {
   "cell_type": "markdown",
   "id": "5eeb1fde",
   "metadata": {
    "slideshow": {
     "slide_type": "slide"
    }
   },
   "source": [
    "Los valores de `fruit_cat` son ahora una instancia de pandas.Categorical, a la que se puede acceder mediante el atributo .array:"
   ]
  },
  {
   "cell_type": "code",
   "execution_count": 127,
   "id": "9bce5baf",
   "metadata": {},
   "outputs": [],
   "source": [
    "c = fruit_cat.array\n",
    "type(c)\n",
    "c1 = fruta_cate.array"
   ]
  },
  {
   "cell_type": "markdown",
   "id": "c9aae8aa",
   "metadata": {
    "slideshow": {
     "slide_type": "slide"
    }
   },
   "source": [
    "El objeto `Categorical` tiene atributos de categorías y códigos:"
   ]
  },
  {
   "cell_type": "code",
   "execution_count": 151,
   "id": "e776d430",
   "metadata": {},
   "outputs": [
    {
     "data": {
      "text/plain": [
       "Index(['apple', 'orange'], dtype='object')"
      ]
     },
     "execution_count": 151,
     "metadata": {},
     "output_type": "execute_result"
    }
   ],
   "source": [
    "c.categories"
   ]
  },
  {
   "cell_type": "code",
   "execution_count": 152,
   "id": "9ee319ff",
   "metadata": {},
   "outputs": [
    {
     "data": {
      "text/plain": [
       "array([0, 1, 0, 0, 0, 1, 0, 0], dtype=int8)"
      ]
     },
     "execution_count": 152,
     "metadata": {},
     "output_type": "execute_result"
    }
   ],
   "source": [
    "c.codes"
   ]
  },
  {
   "cell_type": "markdown",
   "id": "f4eea820",
   "metadata": {
    "slideshow": {
     "slide_type": "slide"
    }
   },
   "source": [
    "Un truco útil para obtener una correspondencia entre códigos y categorías es:"
   ]
  },
  {
   "cell_type": "code",
   "execution_count": 128,
   "id": "5d1a0156",
   "metadata": {},
   "outputs": [
    {
     "name": "stdout",
     "output_type": "stream",
     "text": [
      "{0: 'apple', 1: 'orange'}\n",
      "\n"
     ]
    },
    {
     "data": {
      "text/plain": [
       "{0: 'Mango', 1: 'Piña'}"
      ]
     },
     "execution_count": 128,
     "metadata": {},
     "output_type": "execute_result"
    }
   ],
   "source": [
    "print(dict(enumerate(c.categories)))\n",
    "print()\n",
    "dict(enumerate(c1.categories))\n"
   ]
  },
  {
   "cell_type": "markdown",
   "id": "3928f41c",
   "metadata": {
    "slideshow": {
     "slide_type": "slide"
    }
   },
   "source": [
    "Puede convertir una columna DataFrame en categórica asignando el resultado convertido:"
   ]
  },
  {
   "cell_type": "code",
   "execution_count": 154,
   "id": "8ae58662",
   "metadata": {},
   "outputs": [],
   "source": [
    "df['fruit'] = df['fruit'].astype('category')\n",
    "df1['Fruta'] = df1['Fruta'].astype('category')"
   ]
  },
  {
   "cell_type": "code",
   "execution_count": 129,
   "id": "1e348cd6",
   "metadata": {},
   "outputs": [
    {
     "name": "stdout",
     "output_type": "stream",
     "text": [
      "0     apple\n",
      "1    orange\n",
      "2     apple\n",
      "3     apple\n",
      "4     apple\n",
      "5    orange\n",
      "6     apple\n",
      "7     apple\n",
      "Name: fruit, dtype: object\n",
      "\n"
     ]
    },
    {
     "data": {
      "text/plain": [
       "0     Mango\n",
       "1      Piña\n",
       "2      Piña\n",
       "3     Mango\n",
       "4     Mango\n",
       "5      Piña\n",
       "6      Piña\n",
       "7     Mango\n",
       "8     Mango\n",
       "9      Piña\n",
       "10     Piña\n",
       "11    Mango\n",
       "Name: Fruta, dtype: object"
      ]
     },
     "execution_count": 129,
     "metadata": {},
     "output_type": "execute_result"
    }
   ],
   "source": [
    "print(df[\"fruit\"])\n",
    "print()\n",
    "df1['Fruta']"
   ]
  },
  {
   "cell_type": "markdown",
   "id": "2ff960be",
   "metadata": {
    "slideshow": {
     "slide_type": "slide"
    }
   },
   "source": [
    "También puede crear `pandas.Categorical` directamente a partir de otros tipos de secuencias de Python:"
   ]
  },
  {
   "cell_type": "code",
   "execution_count": 130,
   "id": "a479e9f7",
   "metadata": {},
   "outputs": [
    {
     "name": "stdout",
     "output_type": "stream",
     "text": [
      "['foo', 'bar', 'baz', 'foo', 'bar']\n",
      "Categories (3, object): ['bar', 'baz', 'foo']\n",
      "\n"
     ]
    },
    {
     "data": {
      "text/plain": [
       "['lechuga', 'malanga', 'Puerro']\n",
       "Categories (3, object): ['Puerro', 'lechuga', 'malanga']"
      ]
     },
     "execution_count": 130,
     "metadata": {},
     "output_type": "execute_result"
    }
   ],
   "source": [
    "my_categories = pd.Categorical(['foo', 'bar', 'baz', 'foo', 'bar'])\n",
    "print(my_categories)\n",
    "print()\n",
    "\n",
    "mis_categorias = pd.Categorical(['lechuga','malanga','Puerro'])\n",
    "mis_categorias"
   ]
  },
  {
   "cell_type": "markdown",
   "id": "dd690558",
   "metadata": {
    "slideshow": {
     "slide_type": "slide"
    }
   },
   "source": [
    "Si ha obtenido datos categóricos codificados de otra fuente, puede utilizar el constructor alternativo `from_codes`:"
   ]
  },
  {
   "cell_type": "code",
   "execution_count": 132,
   "id": "eba6b4bb",
   "metadata": {},
   "outputs": [],
   "source": [
    "categories = ['foo', 'bar', 'baz']\n",
    "categorias =['lechuga', 'malanga', 'Puerro']\n",
    "\n",
    "codes = [0, 1, 2, 0, 0, 1]\n",
    "codigo = [1, 0, 0, 1, 2, 1, 2, 2]"
   ]
  },
  {
   "cell_type": "code",
   "execution_count": 133,
   "id": "6ec17d44",
   "metadata": {
    "slideshow": {
     "slide_type": "slide"
    }
   },
   "outputs": [
    {
     "name": "stdout",
     "output_type": "stream",
     "text": [
      "['foo', 'bar', 'baz', 'foo', 'foo', 'bar']\n",
      "Categories (3, object): ['foo', 'bar', 'baz']\n",
      "\n"
     ]
    },
    {
     "data": {
      "text/plain": [
       "['malanga', 'lechuga', 'lechuga', 'malanga', 'Puerro', 'malanga', 'Puerro', 'Puerro']\n",
       "Categories (3, object): ['lechuga', 'malanga', 'Puerro']"
      ]
     },
     "execution_count": 133,
     "metadata": {},
     "output_type": "execute_result"
    }
   ],
   "source": [
    "my_cats_2 = pd.Categorical.from_codes(codes, categories)\n",
    "print(my_cats_2)\n",
    "print()\n",
    "\n",
    "mis_categorias_2 = pd.Categorical.from_codes(codigo, categorias)\n",
    "mis_categorias_2"
   ]
  },
  {
   "cell_type": "markdown",
   "id": "f2fd49f9",
   "metadata": {
    "slideshow": {
     "slide_type": "slide"
    }
   },
   "source": [
    "A menos que se especifique explícitamente, las conversiones categóricas no asumen un orden específico de las categorías. Por lo tanto, la matriz de categorías puede estar en un orden diferente dependiendo del orden de los datos de entrada. Cuando utilice `from_codes` o cualquiera de los otros constructores, puede indicar que las categorías tienen un orden significativo:"
   ]
  },
  {
   "cell_type": "code",
   "execution_count": 136,
   "id": "1e621ac6",
   "metadata": {},
   "outputs": [
    {
     "name": "stdout",
     "output_type": "stream",
     "text": [
      "['foo', 'bar', 'baz', 'foo', 'foo', 'bar']\n",
      "Categories (3, object): ['foo' < 'bar' < 'baz']\n",
      "\n"
     ]
    },
    {
     "data": {
      "text/plain": [
       "['lechuga', 'malanga', 'Puerro', 'lechuga', 'lechuga', 'malanga']\n",
       "Categories (3, object): ['lechuga' < 'malanga' < 'Puerro']"
      ]
     },
     "execution_count": 136,
     "metadata": {},
     "output_type": "execute_result"
    }
   ],
   "source": [
    "ordered_cat = pd.Categorical.from_codes(codes, categories,\n",
    "                                        ordered=True)\n",
    "print(ordered_cat)\n",
    "print()\n",
    "orden_asc_mis_categorias = pd.Categorical.from_codes(codes, categorias, ordered=True)\n",
    "orden_asc_mis_categorias                          "
   ]
  },
  {
   "cell_type": "markdown",
   "id": "0fa99e7d",
   "metadata": {
    "slideshow": {
     "slide_type": "slide"
    }
   },
   "source": [
    "La salida `[foo < bar < baz]` indica que 'foo' precede a 'bar' en la ordenación, y así sucesivamente. Una instancia categórica desordenada puede ordenarse con `as_ordered`:"
   ]
  },
  {
   "cell_type": "code",
   "execution_count": 137,
   "id": "9b4f35e8",
   "metadata": {},
   "outputs": [
    {
     "name": "stdout",
     "output_type": "stream",
     "text": [
      "['foo', 'bar', 'baz', 'foo', 'foo', 'bar']\n",
      "Categories (3, object): ['foo' < 'bar' < 'baz']\n",
      "\n"
     ]
    },
    {
     "data": {
      "text/plain": [
       "['malanga', 'lechuga', 'lechuga', 'malanga', 'Puerro', 'malanga', 'Puerro', 'Puerro']\n",
       "Categories (3, object): ['lechuga' < 'malanga' < 'Puerro']"
      ]
     },
     "execution_count": 137,
     "metadata": {},
     "output_type": "execute_result"
    }
   ],
   "source": [
    "print(my_cats_2.as_ordered())\n",
    "print()\n",
    "mis_categorias_2.as_ordered()"
   ]
  },
  {
   "cell_type": "markdown",
   "id": "67fe70cf",
   "metadata": {
    "slideshow": {
     "slide_type": "slide"
    }
   },
   "source": [
    "Por último, los datos categóricos no tienen por qué ser cadenas, aunque sólo he mostrado ejemplos de cadenas. Un array categórico puede consistir en cualquier tipo de valor inmutable."
   ]
  },
  {
   "cell_type": "markdown",
   "id": "2aad9de0",
   "metadata": {
    "slideshow": {
     "slide_type": "slide"
    }
   },
   "source": [
    "### 2.10 Cálculos con datos categorías"
   ]
  },
  {
   "cell_type": "markdown",
   "id": "289f3d28",
   "metadata": {
    "slideshow": {
     "slide_type": "slide"
    }
   },
   "source": [
    "El uso de `Categorical` en pandas comparado con la versión no codificada (como un array de cadenas) generalmente se comporta de la misma manera. Algunas partes de pandas, como la función `groupby`, funcionan mejor cuando se trabaja con `categoricals`. También hay algunas funciones que pueden utilizar la bandera `ordered`.\n",
    "\n",
    "Consideremos algunos datos numéricos aleatorios y utilicemos la función `pandas.qcut binning`. Esto devuelve `pandas.Categorical`; hemos usado `pandas.cut` anteriormente pero hemos pasado por alto los detalles de cómo funcionan los categóricos:"
   ]
  },
  {
   "cell_type": "code",
   "execution_count": 139,
   "id": "f37d854b",
   "metadata": {
    "slideshow": {
     "slide_type": "slide"
    }
   },
   "outputs": [
    {
     "data": {
      "text/plain": [
       "array([-1.42382504,  1.26372846, -0.87066174, -0.25917323, -0.07534331])"
      ]
     },
     "execution_count": 139,
     "metadata": {},
     "output_type": "execute_result"
    }
   ],
   "source": [
    "rng = np.random.default_rng(seed=12345)\n",
    "\n",
    "draws = rng.standard_normal(1000)\n",
    "\n",
    "draws[:5]"
   ]
  },
  {
   "cell_type": "markdown",
   "id": "9fddcaf8",
   "metadata": {
    "slideshow": {
     "slide_type": "slide"
    }
   },
   "source": [
    "Calculemos un intervalo de cuartiles de estos datos y extraigamos algunas estadísticas:"
   ]
  },
  {
   "cell_type": "code",
   "execution_count": 156,
   "id": "3bc93262",
   "metadata": {
    "slideshow": {
     "slide_type": "slide"
    }
   },
   "outputs": [
    {
     "name": "stdout",
     "output_type": "stream",
     "text": [
      "[(-3.121, -0.675], (0.687, 3.211], (-3.121, -0.675], (-0.675, 0.0134], (-0.675, 0.0134], ..., (0.0134, 0.687], (0.0134, 0.687], (-0.675, 0.0134], (0.0134, 0.687], (-0.675, 0.0134]]\n",
      "Length: 1000\n",
      "Categories (4, interval[float64, right]): [(-3.121, -0.675] < (-0.675, 0.0134] < (0.0134, 0.687] < (0.687, 3.211]]\n",
      "\n"
     ]
    },
    {
     "data": {
      "text/plain": [
       "[(-3.121, -0.395], (0.435, 3.211], (-3.121, -0.395], (-0.395, 0.435], (-0.395, 0.435], ..., (-0.395, 0.435], (-0.395, 0.435], (-3.121, -0.395], (0.435, 3.211], (-0.395, 0.435]]\n",
       "Length: 1000\n",
       "Categories (3, interval[float64, right]): [(-3.121, -0.395] < (-0.395, 0.435] < (0.435, 3.211]]"
      ]
     },
     "execution_count": 156,
     "metadata": {},
     "output_type": "execute_result"
    }
   ],
   "source": [
    "bins = pd.qcut(draws, 4)\n",
    "print(bins)\n",
    "print()\n",
    "bins1 = pd.qcut(draws, 3)\n",
    "bins1"
   ]
  },
  {
   "cell_type": "markdown",
   "id": "3f07f374",
   "metadata": {
    "slideshow": {
     "slide_type": "slide"
    }
   },
   "source": [
    "Aunque son útiles, los cuartiles exactos de la muestra pueden ser menos útiles para elaborar un informe que los nombres de los cuartiles. Podemos conseguirlo con el argumento labels de `qcut`:"
   ]
  },
  {
   "cell_type": "code",
   "execution_count": 157,
   "id": "bdb6ea74",
   "metadata": {
    "slideshow": {
     "slide_type": "slide"
    }
   },
   "outputs": [
    {
     "name": "stdout",
     "output_type": "stream",
     "text": [
      "['Q1', 'Q4', 'Q1', 'Q2', 'Q2', ..., 'Q3', 'Q3', 'Q2', 'Q3', 'Q2']\n",
      "Length: 1000\n",
      "Categories (4, object): ['Q1' < 'Q2' < 'Q3' < 'Q4']\n",
      "\n"
     ]
    },
    {
     "data": {
      "text/plain": [
       "['Q1', 'Q4', 'Q1', 'Q2', 'Q2', ..., 'Q3', 'Q3', 'Q2', 'Q3', 'Q2']\n",
       "Length: 1000\n",
       "Categories (4, object): ['Q1' < 'Q2' < 'Q3' < 'Q4']"
      ]
     },
     "execution_count": 157,
     "metadata": {},
     "output_type": "execute_result"
    }
   ],
   "source": [
    "bins = pd.qcut(draws, 4, labels=['Q1', 'Q2', 'Q3', 'Q4'])\n",
    "bins1 = pd.qcut(draws, 4, labels=['Q1', 'Q2', 'Q3', 'Q4'])\n",
    "print(bins)\n",
    "print()\n",
    "bins1"
   ]
  },
  {
   "cell_type": "code",
   "execution_count": 158,
   "id": "ba144c8b",
   "metadata": {
    "slideshow": {
     "slide_type": "slide"
    }
   },
   "outputs": [
    {
     "name": "stdout",
     "output_type": "stream",
     "text": [
      "[0 3 0 1 1 0 0 2 2 0]\n",
      "\n"
     ]
    },
    {
     "data": {
      "text/plain": [
       "array([0, 3, 0, 1, 1, 0, 0, 2, 2, 0], dtype=int8)"
      ]
     },
     "execution_count": 158,
     "metadata": {},
     "output_type": "execute_result"
    }
   ],
   "source": [
    "print(bins.codes[:10])\n",
    "print()\n",
    "bins1.codes[:10]"
   ]
  },
  {
   "cell_type": "markdown",
   "id": "6d28386c",
   "metadata": {
    "slideshow": {
     "slide_type": "slide"
    }
   },
   "source": [
    "La etiqueta categórica `bins` no contiene información sobre los bordes de los bins en los datos, por lo que podemos utilizar `groupby` para extraer algunos estadísticos de resumen:"
   ]
  },
  {
   "cell_type": "code",
   "execution_count": 159,
   "id": "264157af",
   "metadata": {
    "slideshow": {
     "slide_type": "slide"
    }
   },
   "outputs": [],
   "source": [
    "bins = pd.Series(bins, name='quartile')"
   ]
  },
  {
   "cell_type": "code",
   "execution_count": 161,
   "id": "1ac768be",
   "metadata": {
    "slideshow": {
     "slide_type": "slide"
    }
   },
   "outputs": [
    {
     "name": "stderr",
     "output_type": "stream",
     "text": [
      "C:\\Users\\REY\\AppData\\Local\\Temp\\ipykernel_18148\\3900063733.py:2: FutureWarning: The default of observed=False is deprecated and will be changed to True in a future version of pandas. Pass observed=False to retain current behavior or observed=True to adopt the future default and silence this warning.\n",
      "  .groupby(bins)\n"
     ]
    },
    {
     "data": {
      "text/html": [
       "<div>\n",
       "<style scoped>\n",
       "    .dataframe tbody tr th:only-of-type {\n",
       "        vertical-align: middle;\n",
       "    }\n",
       "\n",
       "    .dataframe tbody tr th {\n",
       "        vertical-align: top;\n",
       "    }\n",
       "\n",
       "    .dataframe thead th {\n",
       "        text-align: right;\n",
       "    }\n",
       "</style>\n",
       "<table border=\"1\" class=\"dataframe\">\n",
       "  <thead>\n",
       "    <tr style=\"text-align: right;\">\n",
       "      <th></th>\n",
       "      <th>quartile</th>\n",
       "      <th>count</th>\n",
       "      <th>min</th>\n",
       "      <th>max</th>\n",
       "    </tr>\n",
       "  </thead>\n",
       "  <tbody>\n",
       "    <tr>\n",
       "      <th>0</th>\n",
       "      <td>Q1</td>\n",
       "      <td>250</td>\n",
       "      <td>-3.119609</td>\n",
       "      <td>-0.678494</td>\n",
       "    </tr>\n",
       "    <tr>\n",
       "      <th>1</th>\n",
       "      <td>Q2</td>\n",
       "      <td>250</td>\n",
       "      <td>-0.673305</td>\n",
       "      <td>0.008009</td>\n",
       "    </tr>\n",
       "    <tr>\n",
       "      <th>2</th>\n",
       "      <td>Q3</td>\n",
       "      <td>250</td>\n",
       "      <td>0.018753</td>\n",
       "      <td>0.686183</td>\n",
       "    </tr>\n",
       "    <tr>\n",
       "      <th>3</th>\n",
       "      <td>Q4</td>\n",
       "      <td>250</td>\n",
       "      <td>0.688282</td>\n",
       "      <td>3.211418</td>\n",
       "    </tr>\n",
       "  </tbody>\n",
       "</table>\n",
       "</div>"
      ],
      "text/plain": [
       "  quartile  count       min       max\n",
       "0       Q1    250 -3.119609 -0.678494\n",
       "1       Q2    250 -0.673305  0.008009\n",
       "2       Q3    250  0.018753  0.686183\n",
       "3       Q4    250  0.688282  3.211418"
      ]
     },
     "execution_count": 161,
     "metadata": {},
     "output_type": "execute_result"
    }
   ],
   "source": [
    "results = (pd.Series(draws)\n",
    "           .groupby(bins)\n",
    "           .agg(['count', 'min', 'max'])\n",
    "           .reset_index())\n",
    "\n",
    "\n",
    "# el método agg calcula las estadísticas resumidas para cada grupo, \n",
    "# en este caso, el número de elementos en cada grupo, \n",
    "# el valor mínimo y el valor máximo.\n",
    "results"
   ]
  },
  {
   "cell_type": "markdown",
   "id": "63dca4af",
   "metadata": {
    "slideshow": {
     "slide_type": "slide"
    }
   },
   "source": [
    "La columna \"quartile\" del resultado conserva la información categórica original, incluida la ordenación, de los intervalos:"
   ]
  },
  {
   "cell_type": "code",
   "execution_count": 162,
   "id": "a3651584",
   "metadata": {
    "slideshow": {
     "slide_type": "slide"
    }
   },
   "outputs": [
    {
     "data": {
      "text/plain": [
       "0    Q1\n",
       "1    Q2\n",
       "2    Q3\n",
       "3    Q4\n",
       "Name: quartile, dtype: category\n",
       "Categories (4, object): ['Q1' < 'Q2' < 'Q3' < 'Q4']"
      ]
     },
     "execution_count": 162,
     "metadata": {},
     "output_type": "execute_result"
    }
   ],
   "source": [
    "results['quartile']"
   ]
  },
  {
   "cell_type": "markdown",
   "id": "bb5d5b22",
   "metadata": {
    "slideshow": {
     "slide_type": "slide"
    }
   },
   "source": [
    "### Mejor rendimiento con categóricos"
   ]
  },
  {
   "cell_type": "markdown",
   "id": "c494e515",
   "metadata": {},
   "source": [
    "Como anteriormente se ha dicho que los tipos categóricos pueden mejorar el rendimiento y el uso de memoria, así que veamos algunos ejemplos. Consideremos una serie con 10 millones de elementos y un pequeño número de categorías distintas:"
   ]
  },
  {
   "cell_type": "code",
   "execution_count": 170,
   "id": "827c3915",
   "metadata": {
    "slideshow": {
     "slide_type": "slide"
    }
   },
   "outputs": [],
   "source": [
    "N = 10_000_000"
   ]
  },
  {
   "cell_type": "code",
   "execution_count": 167,
   "id": "2e58d70b",
   "metadata": {},
   "outputs": [
    {
     "name": "stdout",
     "output_type": "stream",
     "text": [
      "0    foo\n",
      "1    bar\n",
      "2    baz\n",
      "3    qux\n",
      "4    foo\n",
      "5    bar\n",
      "6    baz\n",
      "7    qux\n",
      "dtype: object\n",
      "\n"
     ]
    },
    {
     "data": {
      "text/plain": [
       "0    bar\n",
       "1    qux\n",
       "2    qux\n",
       "3    baz\n",
       "4    bar\n",
       "5    qux\n",
       "6    qux\n",
       "7    baz\n",
       "dtype: object"
      ]
     },
     "execution_count": 167,
     "metadata": {},
     "output_type": "execute_result"
    }
   ],
   "source": [
    "labels = pd.Series(['foo', 'bar', 'baz', 'qux'] * (N // 4))\n",
    "labels1 = pd.Series(['bar', 'qux', 'qux', 'baz'] * (N // 4))\n",
    "print(labels)\n",
    "print()\n",
    "labels1"
   ]
  },
  {
   "cell_type": "markdown",
   "id": "4b25401d",
   "metadata": {
    "slideshow": {
     "slide_type": "slide"
    }
   },
   "source": [
    "Ahora convertimos las etiquetas en categóricas:"
   ]
  },
  {
   "cell_type": "code",
   "execution_count": 168,
   "id": "d887718d",
   "metadata": {},
   "outputs": [
    {
     "name": "stdout",
     "output_type": "stream",
     "text": [
      "0    foo\n",
      "1    bar\n",
      "2    baz\n",
      "3    qux\n",
      "4    foo\n",
      "5    bar\n",
      "6    baz\n",
      "7    qux\n",
      "dtype: category\n",
      "Categories (4, object): ['bar', 'baz', 'foo', 'qux']\n",
      "\n"
     ]
    },
    {
     "data": {
      "text/plain": [
       "0    bar\n",
       "1    qux\n",
       "2    qux\n",
       "3    baz\n",
       "4    bar\n",
       "5    qux\n",
       "6    qux\n",
       "7    baz\n",
       "dtype: category\n",
       "Categories (3, object): ['bar', 'baz', 'qux']"
      ]
     },
     "execution_count": 168,
     "metadata": {},
     "output_type": "execute_result"
    }
   ],
   "source": [
    "categories = labels.astype('category')\n",
    "categorias = labels1.astype('category')\n",
    "print(categories)\n",
    "print()\n",
    "categorias"
   ]
  },
  {
   "cell_type": "markdown",
   "id": "9c883624",
   "metadata": {
    "slideshow": {
     "slide_type": "slide"
    }
   },
   "source": [
    "Ahora observamos que las etiquetas utilizan bastante más memoria que las categorías:"
   ]
  },
  {
   "cell_type": "code",
   "execution_count": 169,
   "id": "f447f96f",
   "metadata": {
    "slideshow": {
     "slide_type": "slide"
    }
   },
   "outputs": [
    {
     "name": "stdout",
     "output_type": "stream",
     "text": [
      "548\n",
      "\n"
     ]
    },
    {
     "data": {
      "text/plain": [
       "548"
      ]
     },
     "execution_count": 169,
     "metadata": {},
     "output_type": "execute_result"
    }
   ],
   "source": [
    "print(labels.memory_usage(deep=True))\n",
    "print()\n",
    "labels1.memory_usage(deep=True)"
   ]
  },
  {
   "cell_type": "code",
   "execution_count": 170,
   "id": "75cdad8c",
   "metadata": {},
   "outputs": [
    {
     "name": "stdout",
     "output_type": "stream",
     "text": [
      "520\n",
      "\n"
     ]
    },
    {
     "data": {
      "text/plain": [
       "404"
      ]
     },
     "execution_count": 170,
     "metadata": {},
     "output_type": "execute_result"
    }
   ],
   "source": [
    "print(categories.memory_usage(deep=True))\n",
    "print()\n",
    "categorias.memory_usage(deep=True)"
   ]
  },
  {
   "cell_type": "markdown",
   "id": "8e8ae56f",
   "metadata": {
    "slideshow": {
     "slide_type": "slide"
    }
   },
   "source": [
    "La conversión a categoría no es gratuita, por supuesto, pero es un coste único:"
   ]
  },
  {
   "cell_type": "code",
   "execution_count": 173,
   "id": "96e00a8f",
   "metadata": {},
   "outputs": [
    {
     "name": "stdout",
     "output_type": "stream",
     "text": [
      "CPU times: total: 0 ns\n",
      "Wall time: 1.01 ms\n"
     ]
    }
   ],
   "source": [
    "%time _ = labels.astype('category')\n"
   ]
  },
  {
   "cell_type": "markdown",
   "id": "d64f1636",
   "metadata": {
    "slideshow": {
     "slide_type": "slide"
    }
   },
   "source": [
    "Las operaciones `GroupBy` pueden ser significativamente más rápidas con categóricas porque los algoritmos subyacentes utilizan arrays de códigos basada en enteros en lugar de un array  de cadenas. Aquí comparamos el rendimiento de value_counts(), que utiliza internamente la maquinaria `GroupBy`:"
   ]
  },
  {
   "cell_type": "code",
   "execution_count": 174,
   "id": "918708ed",
   "metadata": {
    "slideshow": {
     "slide_type": "slide"
    }
   },
   "outputs": [
    {
     "name": "stdout",
     "output_type": "stream",
     "text": [
      "187 µs ± 11 µs per loop (mean ± std. dev. of 7 runs, 10,000 loops each)\n"
     ]
    }
   ],
   "source": [
    "%timeit labels.value_counts()"
   ]
  },
  {
   "cell_type": "code",
   "execution_count": 175,
   "id": "43b88993",
   "metadata": {},
   "outputs": [
    {
     "name": "stdout",
     "output_type": "stream",
     "text": [
      "323 µs ± 68.1 µs per loop (mean ± std. dev. of 7 runs, 1,000 loops each)\n"
     ]
    }
   ],
   "source": [
    "%timeit categories.value_counts()"
   ]
  },
  {
   "cell_type": "markdown",
   "id": "170248f9",
   "metadata": {
    "slideshow": {
     "slide_type": "slide"
    }
   },
   "source": [
    "###  Métodos categóricos"
   ]
  },
  {
   "cell_type": "markdown",
   "id": "d17712c1",
   "metadata": {
    "slideshow": {
     "slide_type": "slide"
    }
   },
   "source": [
    "Las series que contienen datos categóricos disponen de varios métodos especiales similares a los métodos de cadena especializados de Series.str. Esto también proporciona un acceso conveniente a las categorías y códigos. Considere la Serie:"
   ]
  },
  {
   "cell_type": "code",
   "execution_count": 176,
   "id": "51dbf164",
   "metadata": {
    "slideshow": {
     "slide_type": "slide"
    }
   },
   "outputs": [
    {
     "name": "stdout",
     "output_type": "stream",
     "text": [
      "0    a\n",
      "1    b\n",
      "2    c\n",
      "3    d\n",
      "4    a\n",
      "5    b\n",
      "6    c\n",
      "7    d\n",
      "dtype: category\n",
      "Categories (4, object): ['a', 'b', 'c', 'd']\n",
      "\n"
     ]
    },
    {
     "data": {
      "text/plain": [
       "0    e\n",
       "1    f\n",
       "2    g\n",
       "3    h\n",
       "4    e\n",
       "5    f\n",
       "6    g\n",
       "7    h\n",
       "dtype: category\n",
       "Categories (4, object): ['e', 'f', 'g', 'h']"
      ]
     },
     "execution_count": 176,
     "metadata": {},
     "output_type": "execute_result"
    }
   ],
   "source": [
    "s = pd.Series(['a', 'b', 'c', 'd'] * 2)\n",
    "s1 = pd.Series(['e', 'f', 'g', 'h'] * 2)\n",
    "    \n",
    "cat_s = s.astype('category')\n",
    "cate_s = s1.astype('category')\n",
    "print(cat_s)\n",
    "print()\n",
    "cate_s"
   ]
  },
  {
   "cell_type": "markdown",
   "id": "cf37683c",
   "metadata": {
    "slideshow": {
     "slide_type": "slide"
    }
   },
   "source": [
    "El atributo especial de acceso `cat` proporciona acceso a métodos categóricos:"
   ]
  },
  {
   "cell_type": "code",
   "execution_count": 177,
   "id": "c6db5280",
   "metadata": {},
   "outputs": [
    {
     "name": "stdout",
     "output_type": "stream",
     "text": [
      "0    0\n",
      "1    1\n",
      "2    2\n",
      "3    3\n",
      "4    0\n",
      "5    1\n",
      "6    2\n",
      "7    3\n",
      "dtype: int8\n",
      "\n"
     ]
    },
    {
     "data": {
      "text/plain": [
       "0    0\n",
       "1    1\n",
       "2    2\n",
       "3    3\n",
       "4    0\n",
       "5    1\n",
       "6    2\n",
       "7    3\n",
       "dtype: int8"
      ]
     },
     "execution_count": 177,
     "metadata": {},
     "output_type": "execute_result"
    }
   ],
   "source": [
    "print(cat_s.cat.codes)\n",
    "print()\n",
    "cate_s.cat.codes"
   ]
  },
  {
   "cell_type": "code",
   "execution_count": 179,
   "id": "1afc9d76",
   "metadata": {
    "slideshow": {
     "slide_type": "slide"
    }
   },
   "outputs": [
    {
     "name": "stdout",
     "output_type": "stream",
     "text": [
      "Index(['a', 'b', 'c', 'd'], dtype='object')\n",
      "\n"
     ]
    },
    {
     "data": {
      "text/plain": [
       "Index(['e', 'f', 'g', 'h'], dtype='object')"
      ]
     },
     "execution_count": 179,
     "metadata": {},
     "output_type": "execute_result"
    }
   ],
   "source": [
    "print(cat_s.cat.categories)\n",
    "print()\n",
    "cate_s.cat.categories\n"
   ]
  },
  {
   "cell_type": "markdown",
   "id": "ae29f3b2",
   "metadata": {
    "slideshow": {
     "slide_type": "slide"
    }
   },
   "source": [
    "Supongamos que sabemos que el conjunto real de categorías para estos datos se extiende más allá de los cuatro valores observados en los datos. Podemos utilizar el método `set_categories` para cambiarlas:"
   ]
  },
  {
   "cell_type": "code",
   "execution_count": 188,
   "id": "64c893c0",
   "metadata": {
    "slideshow": {
     "slide_type": "slide"
    }
   },
   "outputs": [
    {
     "name": "stdout",
     "output_type": "stream",
     "text": [
      "0    a\n",
      "1    b\n",
      "2    c\n",
      "3    d\n",
      "4    a\n",
      "5    b\n",
      "6    c\n",
      "7    d\n",
      "dtype: category\n",
      "Categories (5, object): ['a', 'b', 'c', 'd', 'e']\n",
      "\n"
     ]
    },
    {
     "data": {
      "text/plain": [
       "0    e\n",
       "1    f\n",
       "2    g\n",
       "3    h\n",
       "4    e\n",
       "5    f\n",
       "6    g\n",
       "7    h\n",
       "dtype: category\n",
       "Categories (4, object): ['e', 'f', 'g', 'h']"
      ]
     },
     "execution_count": 188,
     "metadata": {},
     "output_type": "execute_result"
    }
   ],
   "source": [
    "actual_categories = ['a', 'b', 'c', 'd', 'e']\n",
    "actual_categorias = ['e', 'f', 'g', 'h']\n",
    "\n",
    "cat_s2 = cat_s.cat.set_categories(actual_categories)\n",
    "cat_s3 = cate_s.cat.set_categories(actual_categorias)\n",
    "\n",
    "print(cat_s2)\n",
    "print()\n",
    "cat_s3"
   ]
  },
  {
   "cell_type": "markdown",
   "id": "6c40b64d",
   "metadata": {
    "slideshow": {
     "slide_type": "slide"
    }
   },
   "source": [
    "Aunque parezca que los datos no cambian, las nuevas categorías se reflejarán en las operaciones que las utilicen. Por ejemplo, value_counts respeta las categorías, si están presentes:\n",
    "\n"
   ]
  },
  {
   "cell_type": "code",
   "execution_count": 190,
   "id": "39a6fe71",
   "metadata": {},
   "outputs": [
    {
     "name": "stdout",
     "output_type": "stream",
     "text": [
      "a    2\n",
      "b    2\n",
      "c    2\n",
      "d    2\n",
      "Name: count, dtype: int64\n",
      "\n"
     ]
    },
    {
     "data": {
      "text/plain": [
       "e    2\n",
       "f    2\n",
       "g    2\n",
       "h    2\n",
       "Name: count, dtype: int64"
      ]
     },
     "execution_count": 190,
     "metadata": {},
     "output_type": "execute_result"
    }
   ],
   "source": [
    "print(cat_s.value_counts())\n",
    "print()\n",
    "cate_s.value_counts()"
   ]
  },
  {
   "cell_type": "code",
   "execution_count": 187,
   "id": "900c58f1",
   "metadata": {
    "slideshow": {
     "slide_type": "slide"
    }
   },
   "outputs": [
    {
     "data": {
      "text/plain": [
       "a    2\n",
       "b    2\n",
       "c    2\n",
       "d    2\n",
       "e    0\n",
       "Name: count, dtype: int64"
      ]
     },
     "execution_count": 187,
     "metadata": {},
     "output_type": "execute_result"
    }
   ],
   "source": [
    "cat_s2.value_counts()"
   ]
  },
  {
   "cell_type": "markdown",
   "id": "defb7f94",
   "metadata": {
    "slideshow": {
     "slide_type": "slide"
    }
   },
   "source": [
    "En grandes conjuntos de datos, las categorías se utilizan a menudo como una herramienta conveniente para ahorrar memoria y mejorar el rendimiento. Después de filtrar un gran DataFrame o Series, muchas de las categorías pueden no aparecer en los datos. Para ayudar con esto, podemos utilizar el método remove_unused_categories para recortar las categorías no observadas:"
   ]
  },
  {
   "cell_type": "code",
   "execution_count": 191,
   "id": "cac64966",
   "metadata": {
    "slideshow": {
     "slide_type": "slide"
    }
   },
   "outputs": [
    {
     "name": "stdout",
     "output_type": "stream",
     "text": [
      "0    a\n",
      "1    b\n",
      "4    a\n",
      "5    b\n",
      "dtype: category\n",
      "Categories (4, object): ['a', 'b', 'c', 'd']\n",
      "\n"
     ]
    },
    {
     "data": {
      "text/plain": [
       "1    f\n",
       "2    g\n",
       "5    f\n",
       "6    g\n",
       "dtype: category\n",
       "Categories (4, object): ['e', 'f', 'g', 'h']"
      ]
     },
     "execution_count": 191,
     "metadata": {},
     "output_type": "execute_result"
    }
   ],
   "source": [
    "cat_s3 = cat_s[cat_s.isin(['a', 'b'])]\n",
    "cate_s3 = cate_s[cate_s.isin(['f','g'])]\n",
    "print(cat_s3)\n",
    "print()\n",
    "cate_s3"
   ]
  },
  {
   "cell_type": "code",
   "execution_count": 193,
   "id": "3e098e14",
   "metadata": {},
   "outputs": [
    {
     "name": "stdout",
     "output_type": "stream",
     "text": [
      "0    a\n",
      "1    b\n",
      "4    a\n",
      "5    b\n",
      "dtype: category\n",
      "Categories (2, object): ['a', 'b']\n",
      "\n"
     ]
    },
    {
     "data": {
      "text/plain": [
       "1    f\n",
       "2    g\n",
       "5    f\n",
       "6    g\n",
       "dtype: category\n",
       "Categories (2, object): ['f', 'g']"
      ]
     },
     "execution_count": 193,
     "metadata": {},
     "output_type": "execute_result"
    }
   ],
   "source": [
    "print(cat_s3.cat.remove_unused_categories())\n",
    "print()\n",
    "cate_s3.cat.remove_unused_categories()"
   ]
  },
  {
   "cell_type": "code",
   "execution_count": 194,
   "id": "a3168621-574d-479d-bd5f-a828472eabcb",
   "metadata": {},
   "outputs": [
    {
     "data": {
      "text/plain": [
       "1    f\n",
       "2    g\n",
       "5    f\n",
       "6    g\n",
       "dtype: category\n",
       "Categories (4, object): ['e', 'f', 'g', 'h']"
      ]
     },
     "execution_count": 194,
     "metadata": {},
     "output_type": "execute_result"
    }
   ],
   "source": [
    "cate_s3"
   ]
  },
  {
   "cell_type": "code",
   "execution_count": null,
   "id": "9d15a345-4b1f-4b46-8ad3-d2f3d4101e9c",
   "metadata": {},
   "outputs": [],
   "source": []
  },
  {
   "cell_type": "code",
   "execution_count": null,
   "id": "df4d61a2-d864-4e16-b097-b139a7ffcffc",
   "metadata": {},
   "outputs": [],
   "source": []
  }
 ],
 "metadata": {
  "celltoolbar": "Slideshow",
  "kernelspec": {
   "display_name": "Python 3 (ipykernel)",
   "language": "python",
   "name": "python3"
  },
  "language_info": {
   "codemirror_mode": {
    "name": "ipython",
    "version": 3
   },
   "file_extension": ".py",
   "mimetype": "text/x-python",
   "name": "python",
   "nbconvert_exporter": "python",
   "pygments_lexer": "ipython3",
   "version": "3.12.1"
  }
 },
 "nbformat": 4,
 "nbformat_minor": 5
}

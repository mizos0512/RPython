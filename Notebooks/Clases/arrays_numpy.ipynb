{
 "cells": [
  {
   "cell_type": "markdown",
   "metadata": {},
   "source": [
    "TRABAJANDO CON ARRAYs DE NumPy"
   ]
  },
  {
   "cell_type": "markdown",
   "metadata": {},
   "source": [
    "NumPy es el paquete más fundamental para la computación científica en Python y es la base para \n",
    "muchos otros paquetes. Dado que Python no fue inicialmente diseñado para la computación numérica, \n",
    "esta necesidad surgió a finales de los años 90, cuando Python comenzó a hacerse popular entre \n",
    "ingenieros y programadores que necesitaban operaciones vectoriales más rápidas. \n",
    "\n",
    "Para la computación numérica, principalmente trabajas con vectores y matrices. Puedes manipularlos \n",
    "de diferentes maneras utilizando una variedad de funciones matemáticas. NumPy es una solución \n",
    "perfecta para este tipo de situaciones, ya que permite a los usuarios realizar sus cálculos de \n",
    "manera eficiente. Aunque las listas en Python son muy fáciles de crear y manipular, no soportan \n",
    "operaciones vectorizadas. Python no tiene elementos de tipo fijo en las listas y, por ejemplo, el \n",
    "bucle for no es muy eficiente porque en cada iteración se necesita verificar el tipo de dato. En \n",
    "cambio, en los arrays de NumPy, el tipo de dato es fijo y también soporta operaciones vectorizadas. \n",
    "NumPy no solo es más eficiente en operaciones de arrays multidimensionales en comparación con las \n",
    "listas de Python; también proporciona muchos métodos matemáticos que puedes aplicar tan pronto como \n",
    "se importa. NumPy es una biblioteca central para el stack de ciencia de datos científica en Python."
   ]
  },
  {
   "cell_type": "markdown",
   "metadata": {},
   "source": [
    "INTRODUCCIO A LOS VECTORES Y MATRICES"
   ]
  },
  {
   "cell_type": "markdown",
   "metadata": {},
   "source": [
    "Una matriz es un grupo de números o elementos que están dispuestos en un arreglo rectangular. Las filas y columnas de la matriz suelen estar indexadas por letras. Para una matriz de n x m, n representa el número de filas y m representa el número de columnas.\n",
    "\n",
    "No te preocupes si no entendiste la notación. El siguiente ejemplo hará las cosas más claras. Tienes las matrices X e Y y el objetivo es obtener el producto matricial de estas matrices:\n",
    "\n",
    "Puedes verificar los resultados fácilmente con las siguientes cuatro líneas de código:"
   ]
  },
  {
   "cell_type": "code",
   "execution_count": 1,
   "metadata": {},
   "outputs": [
    {
     "data": {
      "text/plain": [
       "array([[14, 13],\n",
       "       [12, 20]])"
      ]
     },
     "execution_count": 1,
     "metadata": {},
     "output_type": "execute_result"
    }
   ],
   "source": [
    "import numpy as np\n",
    "\n",
    "x = np.array([[1,0,4],[3,3,1]])\n",
    "y = np.array([[2,5],[1,1],[3,2]])\n",
    "x.dot(y)\n",
    "\n",
    "# x es una matriz de 2 x 3\n",
    "# y es una matriz de 3 x 2\n",
    "\n",
    "# La operación x.dot(y) calcula el producto matricial de 'x' e 'y'\n",
    "# Donde para multiplicar dos matrices el numero de columna de la primera matriz\n",
    "# debe ser igual al número de filas de la segunda matriz\n"
   ]
  },
  {
   "cell_type": "markdown",
   "metadata": {},
   "source": [
    "CONCEPTOS BÁSICOS DE LOS OBJETOS arrays de NumPy"
   ]
  },
  {
   "cell_type": "markdown",
   "metadata": {},
   "source": [
    "ndarrays:\n",
    "Se refiere a un tipo de objeto proporcionado por la biblioteca NumPy, que representa matrices o arrays multidimensionales. La abreviatura \"nd\" significa \"n-dimensional\". Los ndarrays son fundamentales en NumPy y son utilizados para almacenar datos de manera eficiente en memoria y realizar operaciones matemáticas rápidas en ellos.\n",
    "\n",
    "Todos los elementos del ndarray son homogéneos y usan el mismo tamaño en memoria. Comencemos importando NumPy y analizando la estructura de un objeto array de NumPy creando el array. Puedes importar esta biblioteca fácilmente escribiendo la siguiente instrucción en tu consola. Puedes usar cualquier convención de nombres en lugar de np, pero en este libro se usará np, ya que es la convención estándar. Vamos a crear un array simple y explicar qué contienen los atributos que Python maneja detrás de escena como metadatos del array creado, los llamados atributos:"
   ]
  },
  {
   "cell_type": "code",
   "execution_count": 15,
   "metadata": {},
   "outputs": [
    {
     "name": "stdout",
     "output_type": "stream",
     "text": [
      "Creamos un:  <class 'numpy.ndarray'>\n",
      "Nuestra plantilla tiene forma de:  (2, 3)\n",
      "Total de elemento del arrelo es:  6\n",
      "La dimension del arrego es de:  2\n",
      "Los datos son de tipo:  int32\n",
      "Consume:  24 bytes\n"
     ]
    },
    {
     "data": {
      "text/plain": [
       "array([[1, 2, 3],\n",
       "       [4, 5, 6]])"
      ]
     },
     "execution_count": 15,
     "metadata": {},
     "output_type": "execute_result"
    }
   ],
   "source": [
    "import numpy as np\n",
    "x = np.array([[1,2,3],[4,5,6]])\n",
    "print(\"Creamos un: \", type(x))\n",
    "print(\"Nuestra plantilla tiene forma de: \" ,x.shape)\n",
    "print(\"Total de elemento del arrelo es: \",x.size)\n",
    "print(\"La dimension del arrego es de: \" ,x.ndim)\n",
    "print(\"Los datos son de tipo: \",x.dtype)\n",
    "print(\"Consume: \",x.nbytes,\"bytes\")\n",
    "x\n",
    "\n"
   ]
  },
  {
   "cell_type": "markdown",
   "metadata": {},
   "source": [
    "Vamos a cambiar el tipo de datos por 'float', 'complex' o 'uint' (entero sin signo). Para ver qué efecto tiene el cambio de tipo de dato, analicemos el consumo de bytes, que se muestra como sigue:"
   ]
  },
  {
   "cell_type": "code",
   "execution_count": 33,
   "metadata": {},
   "outputs": [
    {
     "name": "stdout",
     "output_type": "stream",
     "text": [
      "Arreglo de float:\n",
      " [[1. 2. 3.]\n",
      " [4. 5. 6.]]\n",
      "Consume: 48\n",
      "\n",
      "Arreglo complex:\n",
      " [[1.+0.j 2.+0.j 3.+0.j]\n",
      " [4.+0.j 5.+0.j 6.+0.j]]\n",
      "Consume: 48\n",
      "\n",
      "Arreglo de enteros sin signos:\n",
      " [[         1          2          3]\n",
      " [         4 4294967291          6]]\n",
      "Consume: 24\n",
      "\n"
     ]
    },
    {
     "name": "stderr",
     "output_type": "stream",
     "text": [
      "C:\\Users\\REY\\AppData\\Local\\Temp\\ipykernel_9816\\3083292343.py:15: DeprecationWarning: NumPy will stop allowing conversion of out-of-bound Python integers to integer arrays.  The conversion of -5 to uint32 will fail in the future.\n",
      "For the old behavior, usually:\n",
      "    np.array(value).astype(dtype)\n",
      "will give the desired result (the cast overflows).\n",
      "  z = np.array([[1,2,3],[4,-5,6]], dtype = np.uint32)\n"
     ]
    }
   ],
   "source": [
    "import numpy as np\n",
    "\n",
    "x = np.array([[1,2,3],[4,5,6]], dtype = np.float64)\n",
    "print(f\"Arreglo de float:\\n {x}\")\n",
    "\n",
    "print(f\"Consume: {x.nbytes}\")\n",
    "print()\n",
    "\n",
    "y = np.array([[1,2,3],[4,5,6]], dtype = np.complex64)\n",
    "print(f\"Arreglo complex:\\n {y}\")\n",
    "\n",
    "print(f\"Consume: {y.nbytes}\")\n",
    "print()\n",
    "\n",
    "z = np.array([[1,2,3],[4,-5,6]], dtype = np.uint32)\n",
    "print(f\"Arreglo de enteros sin signos:\\n {z}\")\n",
    "\n",
    "print(f\"Consume: {z.nbytes}\")\n",
    "print()"
   ]
  },
  {
   "cell_type": "markdown",
   "metadata": {},
   "source": [
    "Como puedes ver, cada tipo consume un número diferente de bytes.\n",
    "Imagina que tienes una matriz como la siguiente y que estás usando int64 o int32 como tipo de dato:"
   ]
  },
  {
   "cell_type": "code",
   "execution_count": 34,
   "metadata": {},
   "outputs": [
    {
     "name": "stdout",
     "output_type": "stream",
     "text": [
      "int64 consumes 48 bytes\n",
      "int32 consumes 24 bytes\n"
     ]
    }
   ],
   "source": [
    "import numpy as np\n",
    "\n",
    "x = np.array([[1,2,3],[4,5,6]], dtype = np.int64)\n",
    "print(\"int64 consumes\",x.nbytes, \"bytes\")\n",
    "\n",
    "y = np.array([[1,2,3],[4,5,6]], dtype = np.int32)\n",
    "print(\"int32 consumes\",y.nbytes, \"bytes\")\n"
   ]
  },
  {
   "cell_type": "markdown",
   "metadata": {},
   "source": [
    "El consumo de memoria se duplica si usas int64. Hazte esta pregunta: ¿qué tipo de dato sería suficiente? Si tus números están por encima de 2,147,483,648 y por debajo de -2,147,483,647, usar int32 es suficiente. Imagina que tienes un array enorme con un tamaño superior a 100 MB. En esos casos, esta conversión juega un papel crucial en el rendimiento."
   ]
  },
  {
   "cell_type": "markdown",
   "metadata": {},
   "source": [
    "Como habrás notado en el ejemplo anterior, al cambiar los tipos de datos, estabas creando un nuevo array cada vez. Técnicamente, no puedes cambiar el `dtype` después de haber creado el array. Sin embargo, lo que puedes hacer es crearlo de nuevo o copiar el existente con un nuevo `dtype` utilizando el atributo `astype`. Vamos a crear una copia del array con el nuevo `dtype`. Aquí tienes un ejemplo de cómo también puedes cambiar tu `dtype` con el atributo `astype`:"
   ]
  },
  {
   "cell_type": "code",
   "execution_count": 40,
   "metadata": {},
   "outputs": [
    {
     "name": "stdout",
     "output_type": "stream",
     "text": [
      "Arreglo 'x_copy' float64:\n",
      "[[1. 2. 3.]\n",
      " [4. 5. 6.]]\n",
      "\n",
      "'x_copy_int' que es el resultado 'int32' de 'x_copy' usando el atributo 'astype':\n",
      "[[1 2 3]\n",
      " [4 5 6]]\n"
     ]
    }
   ],
   "source": [
    "import numpy as np\n",
    "\n",
    "x_copy = np.array(x, dtype = np.float64)\n",
    "print(f\"Arreglo 'x_copy' float64:\\n{x_copy}\")\n",
    "print()\n",
    "x_copy_int = x_copy.astype(np.int32)\n",
    "print(f\"'x_copy_int' que es el resultado 'int32' de 'x_copy' usando el atributo 'astype':\\n{x_copy_int}\")\n"
   ]
  },
  {
   "cell_type": "markdown",
   "metadata": {},
   "source": [
    "Al usar 'astype' no se cambió el 'dtype' de 'xcopy', lo que creó a 'x_copy_int'"
   ]
  },
  {
   "cell_type": "markdown",
   "metadata": {},
   "source": [
    "Imaginemos un caso donde trabajas en un grupo de investigación que intenta identificar y calcular los riesgos de un paciente individual que tiene cáncer. Tienes 100,000 registros (filas), donde cada fila representa a un paciente único, y cada paciente tiene 100 características (resultados de algunas pruebas). Como resultado, tienes arrays de dimensiones (100000, 100):"
   ]
  },
  {
   "cell_type": "code",
   "execution_count": 44,
   "metadata": {},
   "outputs": [
    {
     "name": "stdout",
     "output_type": "stream",
     "text": [
      "Tipo de dato: <class 'numpy.ndarray'>\n",
      "Tipo de dato de los elementos del arreglo: float64\n",
      "Consumo con dtype= float64: 80000000 \n",
      "Consumo con dtype= float32: 40000000 \n"
     ]
    }
   ],
   "source": [
    "import numpy as np\n",
    "\n",
    "Data_Cancer= np.random.rand(100000,100)\n",
    "# Genera una matriz con números aleatorios entre 'cero' y 'uno'\n",
    "print(f\"Tipo de dato: {type(Data_Cancer)}\")\n",
    "print(f\"Tipo de dato de los elementos del arreglo: {Data_Cancer.dtype}\")\n",
    "print(f\"Consumo con dtype= float64: {Data_Cancer.nbytes} \")\n",
    "Data_Cancer_New = np.array(Data_Cancer, dtype = np.float32)\n",
    "print(f\"Consumo con dtype= float32: {Data_Cancer_New.nbytes} \")\n",
    "\n"
   ]
  },
  {
   "cell_type": "markdown",
   "metadata": {},
   "source": [
    "Como puedes ver en el código anterior, su tamaño disminuye de 80 MB a 40 MB solo cambiando el dtype. A cambio, obtenemos menos precisión después del punto decimal. En lugar de ser preciso hasta 16 puntos decimales, solo tendrás 7 decimales. En algunos algoritmos de aprendizaje automático, la precisión puede ser insignificante. En tales casos, siéntete libre de ajustar tu dtype para minimizar el uso de memoria."
   ]
  },
  {
   "cell_type": "markdown",
   "metadata": {},
   "source": [
    "Operaiones con arays de Numpy"
   ]
  },
  {
   "cell_type": "markdown",
   "metadata": {},
   "source": [
    "Esta sección te guiará a través de la creación y manipulación de datos numéricos con NumPy. Comencemos creando un array de NumPy a partir de una lista:"
   ]
  },
  {
   "cell_type": "code",
   "execution_count": 47,
   "metadata": {},
   "outputs": [
    {
     "data": {
      "text/plain": [
       "numpy.ndarray"
      ]
     },
     "execution_count": 47,
     "metadata": {},
     "output_type": "execute_result"
    }
   ],
   "source": [
    "import numpy\n",
    "\n",
    "my_list = [2, 14, 6, 8]\n",
    "my_array = np.asarray(my_list)\n",
    "type(my_array)\n"
   ]
  },
  {
   "cell_type": "markdown",
   "metadata": {},
   "source": [
    "Operaciones de Suma, Resta, Multiplicación y Division con valores escalares:"
   ]
  },
  {
   "cell_type": "code",
   "execution_count": 50,
   "metadata": {},
   "outputs": [
    {
     "name": "stdout",
     "output_type": "stream",
     "text": [
      "Se realizan operaciones de suma, resta, multiplicación y división con el escalar '2'\n",
      "Suma: [ 4 16  8 10]\n",
      "Resta: [ 1 13  5  7]\n",
      "Multiplicación: [ 4 28 12 16]\n",
      "División: [1. 7. 3. 4.]\n"
     ]
    }
   ],
   "source": [
    "import numpy\n",
    "\n",
    "print(\"Se realizan operaciones de suma, resta, multiplicación y división con el escalar '2'\")\n",
    "\n",
    "print(f\"Suma: {my_array + 2}\")\n",
    "\n",
    "print(f\"Resta: {my_array - 1}\")\n",
    "\n",
    "print(f\"Multiplicación: {my_array * 2}\")\n",
    "\n",
    "print(f\"División: {my_array / 2}\")\n"
   ]
  },
  {
   "cell_type": "markdown",
   "metadata": {},
   "source": [
    "Es mucho más difícil realizar las mismas operaciones en una lista porque la lista no soporta operaciones vectorizadas y necesitas iterar sus elementos. Hay muchas formas de crear arrays en NumPy, y ahora utilizarás uno de estos métodos para crear un array lleno de ceros. Luego, realizarás algunas operaciones aritméticas para ver cómo NumPy se comporta en operaciones elemento a elemento entre dos arrays:"
   ]
  },
  {
   "cell_type": "code",
   "execution_count": 59,
   "metadata": {},
   "outputs": [
    {
     "name": "stdout",
     "output_type": "stream",
     "text": [
      "second_array = np.zeros(4) + 3\n",
      "\n",
      "second_array = [3. 3. 3. 3.]\n",
      "my_array = [ 2 14  6  8]\n",
      "my_array - second_array = [-1. 11.  3.  5.]\n",
      "second_array / my_array = [1.5        0.21428571 0.5        0.375     ]\n"
     ]
    }
   ],
   "source": [
    "second_array = np.zeros(4) + 3\n",
    "\n",
    "print(\"second_array = np.zeros(4) + 3\")\n",
    "print()\n",
    "\n",
    "print(f\"second_array = {second_array}\")\n",
    "\n",
    "print(f\"my_array = {my_array}\")\n",
    "\n",
    "print(f\"my_array - second_array = {my_array - second_array}\")\n",
    "\n",
    "print(f\"second_array / my_array = {second_array / my_array}\")\n"
   ]
  },
  {
   "cell_type": "markdown",
   "metadata": {},
   "source": [
    "Como hicimos en el código anterior, puedes crear un array lleno de unos con `np.ones` o un array identidad con `np.identity` y realizar las mismas operaciones algebraicas que hiciste anteriormente:"
   ]
  },
  {
   "cell_type": "code",
   "execution_count": 61,
   "metadata": {},
   "outputs": [
    {
     "name": "stdout",
     "output_type": "stream",
     "text": [
      "second_array = np.ones(4) + 3\n",
      "\n",
      "second_array = [4. 4. 4. 4.]\n",
      "my_array = [ 2 14  6  8]\n",
      "my_array - second_array = [-2. 10.  2.  4.]\n",
      "second_array / my_array = [2.         0.28571429 0.66666667 0.5       ]\n"
     ]
    }
   ],
   "source": [
    "second_array = np.ones(4) + 3\n",
    "print(\"second_array = np.ones(4) + 3\")\n",
    "print()\n",
    "print(f\"second_array = {second_array}\")\n",
    "print(f\"my_array = {my_array}\")\n",
    "print(f\"my_array - second_array = {my_array - second_array}\")\n",
    "print(f\"second_array / my_array = {second_array / my_array}\")"
   ]
  },
  {
   "cell_type": "markdown",
   "metadata": {},
   "source": [
    "Funciona como se espera con el método `np.ones`, pero cuando usas la matriz identidad, el cálculo devuelve un array de dimensiones (4,4) como sigue:"
   ]
  },
  {
   "cell_type": "code",
   "execution_count": 64,
   "metadata": {},
   "outputs": [
    {
     "name": "stdout",
     "output_type": "stream",
     "text": [
      "second_array = np.identity(4)\n",
      "second_array = [[1. 0. 0. 0.]\n",
      " [0. 1. 0. 0.]\n",
      " [0. 0. 1. 0.]\n",
      " [0. 0. 0. 1.]]\n",
      "\n",
      "second_array_1 = np.identity(4) + 3\n",
      "second_array_1 = [[4. 3. 3. 3.]\n",
      " [3. 4. 3. 3.]\n",
      " [3. 3. 4. 3.]\n",
      " [3. 3. 3. 4.]]\n",
      "\n",
      "my_array = [ 2 14  6  8]\n",
      "my_array - second_array_1 = [[-2. 11.  3.  5.]\n",
      " [-1. 10.  3.  5.]\n",
      " [-1. 11.  2.  5.]\n",
      " [-1. 11.  3.  4.]]\n"
     ]
    }
   ],
   "source": [
    "second_array = np.identity(4)\n",
    "print(\"second_array = np.identity(4)\")\n",
    "print(f\"second_array = {second_array}\")\n",
    "print()\n",
    "second_array_1 = np.identity(4) + 3\n",
    "print(\"second_array_1 = np.identity(4) + 3\")\n",
    "print(f\"second_array_1 = {second_array_1}\")\n",
    "print()\n",
    "print(f\"my_array = {my_array}\")\n",
    "print(f\"my_array - second_array_1 = {my_array - second_array_1}\")"
   ]
  },
  {
   "cell_type": "markdown",
   "metadata": {},
   "source": [
    "Lo que hace esto es restar el primer elemento de `my_array` de todos los elementos de la primera columna de `second_array`, y el segundo elemento de la segunda columna, y así sucesivamente. La misma regla se aplica a la división también. Ten en cuenta que puedes realizar operaciones de arrays con éxito incluso si no tienen exactamente la misma forma. Más adelante en este capítulo, aprenderás sobre los errores de broadcasting cuando no se puede realizar una computación entre dos arrays debido a diferencias en sus formas:"
   ]
  },
  {
   "cell_type": "code",
   "execution_count": 65,
   "metadata": {},
   "outputs": [
    {
     "data": {
      "text/plain": [
       "array([[2.        , 0.21428571, 0.5       , 0.375     ],\n",
       "       [1.5       , 0.28571429, 0.5       , 0.375     ],\n",
       "       [1.5       , 0.21428571, 0.66666667, 0.375     ],\n",
       "       [1.5       , 0.21428571, 0.5       , 0.5       ]])"
      ]
     },
     "execution_count": 65,
     "metadata": {},
     "output_type": "execute_result"
    }
   ],
   "source": [
    "second_array_1 / my_array"
   ]
  },
  {
   "cell_type": "markdown",
   "metadata": {},
   "source": [
    "Uno de los métodos más útiles para crear arrays en NumPy es `arange`. Este método devuelve un array para un intervalo dado entre un valor de inicio y uno de fin. El primer argumento es el valor inicial de tu array, el segundo es el valor final (donde deja de crear valores), y el tercero es el intervalo. Opcionalmente, puedes definir el tipo de datos (`dtype`) como el cuarto argumento. Los valores de intervalo por defecto son de 1:"
   ]
  },
  {
   "cell_type": "code",
   "execution_count": 66,
   "metadata": {},
   "outputs": [
    {
     "data": {
      "text/plain": [
       "array([3. , 3.5, 4. , 4.5, 5. , 5.5, 6. , 6.5])"
      ]
     },
     "execution_count": 66,
     "metadata": {},
     "output_type": "execute_result"
    }
   ],
   "source": [
    "x = np.arange(3,7,0.5)\n",
    "x"
   ]
  },
  {
   "cell_type": "markdown",
   "metadata": {},
   "source": [
    "Hay otra forma de crear un array con intervalos fijos entre el punto de inicio y el punto de parada cuando no puedes decidir cuál debería ser el intervalo, pero sabes cuántas divisiones debería tener tu array:"
   ]
  },
  {
   "cell_type": "code",
   "execution_count": 67,
   "metadata": {},
   "outputs": [
    {
     "data": {
      "text/plain": [
       "array([ 1.2       ,  3.26842105,  5.33684211,  7.40526316,  9.47368421,\n",
       "       11.54210526, 13.61052632, 15.67894737, 17.74736842, 19.81578947,\n",
       "       21.88421053, 23.95263158, 26.02105263, 28.08947368, 30.15789474,\n",
       "       32.22631579, 34.29473684, 36.36315789, 38.43157895, 40.5       ])"
      ]
     },
     "execution_count": 67,
     "metadata": {},
     "output_type": "execute_result"
    }
   ],
   "source": [
    "x = np.linspace(1.2, 40.5, num=20)\n",
    "x"
   ]
  },
  {
   "cell_type": "markdown",
   "metadata": {},
   "source": [
    "Hay dos métodos diferentes que son similares en su uso pero devuelven secuencias de números diferentes porque su escala base es distinta. Esto significa que la distribución de los números también será diferente. El primero es `geomspace`, que devuelve números en una escala logarítmica con una progresión geométrica:"
   ]
  },
  {
   "cell_type": "code",
   "execution_count": 68,
   "metadata": {},
   "outputs": [
    {
     "data": {
      "text/plain": [
       "array([  1.,   5.,  25., 125., 625.])"
      ]
     },
     "execution_count": 68,
     "metadata": {},
     "output_type": "execute_result"
    }
   ],
   "source": [
    "np.geomspace(1, 625, num=5)"
   ]
  },
  {
   "cell_type": "markdown",
   "metadata": {},
   "source": [
    "El otro método importante es `logspace`, donde puedes obtener los valores para tus puntos de inicio y fin, los cuales están distribuidos uniformemente en:"
   ]
  },
  {
   "cell_type": "code",
   "execution_count": 69,
   "metadata": {},
   "outputs": [
    {
     "data": {
      "text/plain": [
       "array([ 1000.        ,  1778.27941004,  3162.27766017,  5623.4132519 ,\n",
       "       10000.        ])"
      ]
     },
     "execution_count": 69,
     "metadata": {},
     "output_type": "execute_result"
    }
   ],
   "source": [
    "np.logspace(3, 4, num=5)"
   ]
  },
  {
   "cell_type": "markdown",
   "metadata": {},
   "source": [
    "¿Qué significan estos argumentos? Si el punto de inicio es 3 y el punto final es 4, entonces estas funciones devuelven números que están mucho más altos que el rango inicial. De hecho, el punto de inicio se establece por defecto en 10** conienzo del argumento y el final se establece en 10** final del argumento. Así que técnicamente, en este ejemplo, el punto de inicio es 10**3 y el punto final es 10**4. Puedes evitar estas situaciones manteniendo tus puntos de inicio y fin como los mismos cuando los pongas como argumentos en el método. El truco es usar los logaritmos en base 10 de los argumentos dados."
   ]
  },
  {
   "cell_type": "code",
   "execution_count": 70,
   "metadata": {},
   "outputs": [
    {
     "data": {
      "text/plain": [
       "array([3.        , 3.2237098 , 3.46410162, 3.72241944, 4.        ])"
      ]
     },
     "execution_count": 70,
     "metadata": {},
     "output_type": "execute_result"
    }
   ],
   "source": [
    "np.logspace(np.log10(3) , np.log10(4) , num=5)"
   ]
  },
  {
   "cell_type": "markdown",
   "metadata": {},
   "source": [
    "Hasta ahora, deberías estar familiarizado con diferentes formas de crear arrays con diferentes distribuciones. También has aprendido cómo realizar algunas operaciones básicas con ellos. Continuemos con otras funciones útiles que definitivamente utilizarás en tu trabajo diario. La mayor parte del tiempo, tendrás que trabajar con múltiples arrays y necesitarás compararlos rápidamente. NumPy tiene una gran solución para este problema; puedes comparar los arrays como lo harías con dos enteros:"
   ]
  },
  {
   "cell_type": "code",
   "execution_count": 71,
   "metadata": {},
   "outputs": [
    {
     "data": {
      "text/plain": [
       "array([ True, False, False,  True])"
      ]
     },
     "execution_count": 71,
     "metadata": {},
     "output_type": "execute_result"
    }
   ],
   "source": [
    "x = np.array([1,2,3,4])\n",
    "y = np.array([1,3,4,4])\n",
    "x == y"
   ]
  },
  {
   "cell_type": "markdown",
   "metadata": {},
   "source": [
    "La comparación se realiza elemento por elemento y devuelve un vector booleano que indica si los elementos coinciden o no en dos arrays diferentes. Este método funciona bien con arrays de tamaño pequeño y también proporciona más detalles. Puedes observar en el array de salida que los valores representados como False indican que esos valores indexados no coinciden en los dos arrays. Si tienes un array grande, también puedes optar por obtener una respuesta única a tu pregunta, si los elementos coinciden o no en dos arrays diferentes:"
   ]
  },
  {
   "cell_type": "code",
   "execution_count": 72,
   "metadata": {},
   "outputs": [
    {
     "data": {
      "text/plain": [
       "False"
      ]
     },
     "execution_count": 72,
     "metadata": {},
     "output_type": "execute_result"
    }
   ],
   "source": [
    "x = np.array([1,2,3,4])\n",
    "y = np.array([1,3,4,4])\n",
    "np.array_equal(x,y)"
   ]
  },
  {
   "cell_type": "markdown",
   "metadata": {},
   "source": [
    "Aquí tienes una única salida booleana. Solo sabes que los arrays no son iguales, pero no sabes exactamente qué elementos no son iguales. La comparación no se limita únicamente a verificar si dos arrays son iguales o no. También puedes realizar una comparación elemento a elemento de mayor o menor entre dos arrays:"
   ]
  },
  {
   "cell_type": "code",
   "execution_count": 73,
   "metadata": {},
   "outputs": [
    {
     "data": {
      "text/plain": [
       "array([False,  True,  True, False])"
      ]
     },
     "execution_count": 73,
     "metadata": {},
     "output_type": "execute_result"
    }
   ],
   "source": [
    "x = np.array([1,2,3,4])\n",
    "y = np.array([1,3,4,4])\n",
    "x<y"
   ]
  },
  {
   "cell_type": "markdown",
   "metadata": {},
   "source": [
    "Cuando necesitas hacer comparaciones lógicas (AND, OR, XOR), puedes usarlas en tus arrays de la siguiente manera:"
   ]
  },
  {
   "cell_type": "code",
   "execution_count": 76,
   "metadata": {},
   "outputs": [
    {
     "name": "stdout",
     "output_type": "stream",
     "text": [
      "[ True  True False  True]\n",
      "[False  True False False]\n",
      "[ True False  True  True]\n"
     ]
    }
   ],
   "source": [
    "x = np.array([0, 1, 0, 0], dtype=bool)\n",
    "y = np.array([1, 1, 0, 1], dtype=bool)\n",
    "print(np.logical_or(x,y))\n",
    "print(np.logical_and(x,y))\n",
    "x = np.array([12,16,57,11])\n",
    "print(np.logical_or(x < 13, x > 50))"
   ]
  },
  {
   "cell_type": "markdown",
   "metadata": {},
   "source": [
    "Hasta ahora se han cubierto operaciones algebraicas como la suma y la multiplicación. ¿Cómo podemos utilizar estas operaciones con funciones trascendentales como la función exponencial, los logaritmos o las funciones trigonométricas?"
   ]
  },
  {
   "cell_type": "code",
   "execution_count": 77,
   "metadata": {},
   "outputs": [
    {
     "name": "stdout",
     "output_type": "stream",
     "text": [
      "[ 2.71828183  7.3890561  20.08553692 54.59815003]\n",
      "[0.         0.69314718 1.09861229 1.38629436]\n",
      "[ 0.84147098  0.90929743  0.14112001 -0.7568025 ]\n"
     ]
    }
   ],
   "source": [
    "x = np.array([1, 2, 3,4 ])\n",
    "\n",
    "print(np.exp(x))\n",
    "\n",
    "print(np.log(x))\n",
    "\n",
    "print(np.sin(x))\n"
   ]
  },
  {
   "cell_type": "markdown",
   "metadata": {},
   "source": [
    "¿Y qué hay de la transposición de una matriz? Primero, utilizarás la función `reshape` con `arange` para establecer la forma deseada de la matriz:"
   ]
  },
  {
   "cell_type": "code",
   "execution_count": 86,
   "metadata": {},
   "outputs": [
    {
     "name": "stdout",
     "output_type": "stream",
     "text": [
      "x = [0 1 2 3 4 5 6 7 8]\n",
      "\n",
      "np.arange(9).reshape((3, 3)) = [[0 1 2]\n",
      " [3 4 5]\n",
      " [6 7 8]]\n",
      "\n",
      "x.T = [0 1 2 3 4 5 6 7 8]\n"
     ]
    }
   ],
   "source": [
    "x = np.arange(9)\n",
    "print(f\"x = {x}\")\n",
    "print()\n",
    "print(f\"np.arange(9).reshape((3, 3)) = {np.arange(9).reshape((3, 3))}\")\n",
    "print()\n",
    "print(f\"x.T = {x.T}\")"
   ]
  },
  {
   "cell_type": "markdown",
   "metadata": {},
   "source": [
    "Transpones el array de 3*3array, por lo que la forma no cambia porque ambas dimensiones son 3. Veamos qué sucede cuando no tienes un array cuadrado:"
   ]
  },
  {
   "cell_type": "code",
   "execution_count": 89,
   "metadata": {},
   "outputs": [
    {
     "name": "stdout",
     "output_type": "stream",
     "text": [
      "x = np.arange(6).reshape(2,3)\n",
      "\n",
      "x = [[0 1 2]\n",
      " [3 4 5]]\n",
      "\n",
      "x.T = [[0 3]\n",
      " [1 4]\n",
      " [2 5]]\n"
     ]
    }
   ],
   "source": [
    "x = np.arange(6).reshape(2,3)\n",
    "print(\"x = np.arange(6).reshape(2,3)\")\n",
    "print()\n",
    "print(f\"x = {x}\")\n",
    "print()\n",
    "print(f\"x.T = {x.T}\")"
   ]
  },
  {
   "cell_type": "markdown",
   "metadata": {},
   "source": [
    "La transposición funciona como se esperaba y las dimensiones también se intercambian. También puedes obtener estadísticas resumidas de arrays, como la media, la mediana y la desviación estándar. "
   ]
  },
  {
   "cell_type": "markdown",
   "metadata": {},
   "source": [
    "El siguiente bloque de código proporciona un ejemplo de los métodos estadísticos anteriores de NumPy. Estos métodos son muy útiles ya que puedes operar los métodos en todo el array o por ejes según tus necesidades. Debes tener en cuenta que puedes encontrar implementaciones más completas y mejores de estos métodos en SciPy, ya que utiliza arrays multidimensionales de NumPy como estructura de datos:"
   ]
  },
  {
   "cell_type": "code",
   "execution_count": 92,
   "metadata": {},
   "outputs": [
    {
     "name": "stdout",
     "output_type": "stream",
     "text": [
      "x = np.arange(9).reshape((3,3))\n",
      "x = [[0 1 2]\n",
      " [3 4 5]\n",
      " [6 7 8]]\n",
      "\n",
      "np.sum(x) = 36\n",
      "\n",
      "np.amin(x) = 0\n",
      "np.amax(x) = 8\n",
      "\n",
      "np.amin(x, axis=0) = [0 1 2]\n",
      "\n",
      "np.amin(x, axis=1) = [0 3 6]\n",
      "\n",
      "np.percentile(x, 80) = 6.4\n"
     ]
    }
   ],
   "source": [
    "x = np.arange(9).reshape((3,3))\n",
    "print(\"x = np.arange(9).reshape((3,3))\")\n",
    "print(f\"x = {x}\")\n",
    "print()\n",
    "print(f\"np.sum(x) = {np.sum(x)}\")\n",
    "print()\n",
    "print(f\"np.amin(x) = {np.amin(x)}\")\n",
    "print(f\"np.amax(x) = {np.amax(x)}\")\n",
    "print()\n",
    "print(f\"np.amin(x, axis=0) = {np.amin(x, axis=0)}\")\n",
    "print()\n",
    "print(f\"np.amin(x, axis=1) = {np.amin(x, axis=1)}\")\n",
    "print()\n",
    "print(f\"np.percentile(x, 80) = {np.percentile(x, 80)}\")\n"
   ]
  },
  {
   "cell_type": "markdown",
   "metadata": {},
   "source": [
    "El argumento `axis` determina la dimensión en la que esta función operará. En este ejemplo, `axis=0` representa el primer eje, que es el eje x, y `axis=1` representa el segundo eje, que es el eje y. Cuando usamos `amin(x)` de manera regular, devolvemos un solo valor porque calcula el valor mínimo en todos los arrays, pero cuando especificamos el eje, empieza a evaluar la función por ejes y devuelve un array que muestra los resultados para cada fila o columna. Imagina que tienes un array grande; encuentras el valor máximo usando `amax`, pero ¿qué pasará si necesitas pasar el índice de este valor a otra función? En tales casos, `argmin` y `argmax` vienen al rescate, como se muestra en el siguiente fragmento de código:"
   ]
  },
  {
   "cell_type": "code",
   "execution_count": 94,
   "metadata": {},
   "outputs": [
    {
     "name": "stdout",
     "output_type": "stream",
     "text": [
      "x = np.array([1,-21,3,-3])\n",
      "\n",
      "np.argmax(x) = 2\n",
      "\n",
      "np.argmin(x) = 1\n"
     ]
    }
   ],
   "source": [
    "x = np.array([1,-21,3,-3])\n",
    "print(\"x = np.array([1,-21,3,-3])\")\n",
    "print()\n",
    "print(f\"np.argmax(x) = {np.argmax(x)}\")\n",
    "print()\n",
    "print(f\"np.argmin(x) = {np.argmin(x)}\")\n"
   ]
  },
  {
   "cell_type": "markdown",
   "metadata": {},
   "source": [
    "El siguiente código proporciona más ejemplos de los métodos estadísticos anteriores de NumPy. Estos métodos se utilizan mucho en las fases de descubrimiento de datos, donde analizas las características y la distribución de tus datos:"
   ]
  },
  {
   "cell_type": "code",
   "execution_count": 96,
   "metadata": {},
   "outputs": [
    {
     "name": "stdout",
     "output_type": "stream",
     "text": [
      "x = np.array([[2, 3, 5], [20, 12, 4]])\n",
      "\n",
      "np.mean(x) = 7.666666666666667\n",
      "\n",
      "np.mean(x, axis=0) = [11.   7.5  4.5]\n",
      "\n",
      "np.mean(x, axis=1) = [ 3.33333333 12.        ]\n",
      "\n",
      "np.median(x) = 4.5\n",
      "\n",
      "np.std(x) = 6.394442031083626\n"
     ]
    }
   ],
   "source": [
    "x = np.array([[2, 3, 5], [20, 12, 4]])\n",
    "print(\"x = np.array([[2, 3, 5], [20, 12, 4]])\")\n",
    "print()\n",
    "print(f\"np.mean(x) = {np.mean(x)}\")\n",
    "print()\n",
    "print(f\"np.mean(x, axis=0) = {np.mean(x, axis=0)}\")\n",
    "print()\n",
    "print(f\"np.mean(x, axis=1) = {np.mean(x, axis=1)}\")\n",
    "print()\n",
    "print(f\"np.median(x) = {np.median(x)}\")\n",
    "print()\n",
    "print(f\"np.std(x) = {np.std(x)}\")"
   ]
  },
  {
   "cell_type": "markdown",
   "metadata": {},
   "source": [
    "TRABAJANDO CON ARREGLOS MULTIDIMENSIONALES"
   ]
  },
  {
   "cell_type": "markdown",
   "metadata": {},
   "source": [
    "Esta sección te dará una comprensión breve de los arrays multidimensionales al revisar diferentes operaciones de matrices. Para realizar multiplicación de matrices en NumPy, debes usar `dot()` en lugar de `*`. Veamos algunos ejemplos:"
   ]
  },
  {
   "cell_type": "code",
   "execution_count": 97,
   "metadata": {},
   "outputs": [
    {
     "name": "stdout",
     "output_type": "stream",
     "text": [
      "c = np.ones((4, 4))\n",
      "\n",
      "c*c = [[1. 1. 1. 1.]\n",
      " [1. 1. 1. 1.]\n",
      " [1. 1. 1. 1.]\n",
      " [1. 1. 1. 1.]]\n",
      "\n",
      "c.dot(c) = [[4. 4. 4. 4.]\n",
      " [4. 4. 4. 4.]\n",
      " [4. 4. 4. 4.]\n",
      " [4. 4. 4. 4.]]\n"
     ]
    }
   ],
   "source": [
    "c = np.ones((4, 4))\n",
    "print(\"c = np.ones((4, 4))\")\n",
    "print()\n",
    "print(f\"c*c = {c*c}\")\n",
    "print()\n",
    "print(f\"c.dot(c) = {c.dot(c)}\")\n"
   ]
  },
  {
   "cell_type": "markdown",
   "metadata": {},
   "source": [
    "El tema más importante al trabajar con arrays multidimensionales es el apilamiento, en otras palabras, cómo fusionar dos arrays. `hstack` se utiliza para apilar arrays horizontalmente (por columnas) y `vstack` se utiliza para apilar arrays verticalmente (por filas). También puedes dividir las columnas con los métodos `hsplit` y `vsplit` de la misma manera que los apilaste:"
   ]
  },
  {
   "cell_type": "code",
   "execution_count": 98,
   "metadata": {},
   "outputs": [
    {
     "name": "stdout",
     "output_type": "stream",
     "text": [
      "y = np.arange(15).reshape(3,5)\n",
      "x = np.arange(10).reshape(2,5)\n",
      "new_array = np.vstack((y,x))\n",
      "y = [[ 0  1  2  3  4]\n",
      " [ 5  6  7  8  9]\n",
      " [10 11 12 13 14]]\n",
      "x = [[0 1 2 3 4]\n",
      " [5 6 7 8 9]]\n",
      "new_array = [[ 0  1  2  3  4]\n",
      " [ 5  6  7  8  9]\n",
      " [10 11 12 13 14]\n",
      " [ 0  1  2  3  4]\n",
      " [ 5  6  7  8  9]]\n",
      "\n",
      "y = np.arange(15).reshape(5,3)\n",
      "x = np.arange(10).reshape(5,2)\n",
      "new_array = np.hstack((y,x))\n",
      "y = [[ 0  1  2]\n",
      " [ 3  4  5]\n",
      " [ 6  7  8]\n",
      " [ 9 10 11]\n",
      " [12 13 14]]\n",
      "x = [[0 1]\n",
      " [2 3]\n",
      " [4 5]\n",
      " [6 7]\n",
      " [8 9]]\n",
      "new_array = [[ 0  1  2  0  1]\n",
      " [ 3  4  5  2  3]\n",
      " [ 6  7  8  4  5]\n",
      " [ 9 10 11  6  7]\n",
      " [12 13 14  8  9]]\n"
     ]
    }
   ],
   "source": [
    "y = np.arange(15).reshape(3,5)\n",
    "x = np.arange(10).reshape(2,5)\n",
    "new_array = np.vstack((y,x))\n",
    "print(\"y = np.arange(15).reshape(3,5)\")\n",
    "print(\"x = np.arange(10).reshape(2,5)\")\n",
    "print(\"new_array = np.vstack((y,x))\")\n",
    "print(f\"y = {y}\")\n",
    "print(f\"x = {x}\")\n",
    "print(f\"new_array = {new_array}\")\n",
    "print()\n",
    "y = np.arange(15).reshape(5,3)\n",
    "x = np.arange(10).reshape(5,2)\n",
    "new_array = np.hstack((y,x))\n",
    "print(\"y = np.arange(15).reshape(5,3)\")\n",
    "print(\"x = np.arange(10).reshape(5,2)\")\n",
    "print(\"new_array = np.hstack((y,x))\")\n",
    "print(f\"y = {y}\")\n",
    "print(f\"x = {x}\")\n",
    "print(f\"new_array = {new_array}\")\n"
   ]
  },
  {
   "cell_type": "markdown",
   "metadata": {},
   "source": [
    "Estos métodos son muy útiles en aplicaciones de aprendizaje automático, especialmente al crear conjuntos de datos. Después de apilar tus arrays, puedes verificar sus estadísticas descriptivas utilizando `Scipy.stats`. Imagina un caso en el que tienes 100 registros, y cada registro tiene 10 características, lo que significa que tienes una matriz 2D con 100 filas y 10 columnas. El siguiente ejemplo muestra cómo puedes obtener fácilmente algunas estadísticas descriptivas para cada característica:"
   ]
  },
  {
   "cell_type": "code",
   "execution_count": 101,
   "metadata": {},
   "outputs": [
    {
     "name": "stdout",
     "output_type": "stream",
     "text": [
      "x= np.random.rand(100,10)\n",
      "n, min_max, mean, var, skew, kurt = stats.describe(x)\n",
      "new_array = np.vstack((mean,var,skew,kurt,min_max[0],min_max[1]))\n",
      "new_array = [[ 5.11232249e-01  4.93067141e-01  5.21940542e-01  5.33536381e-01\n",
      "   4.90426953e-01  4.52168562e-01  4.60740634e-01  4.98651655e-01\n",
      "   5.02705559e-01  4.96736528e-01]\n",
      " [ 8.57404421e-02  7.77184371e-02  8.52073884e-02  7.12809322e-02\n",
      "   8.36148284e-02  8.29451087e-02  7.54712606e-02  8.28545075e-02\n",
      "   8.92590291e-02  8.41888821e-02]\n",
      " [-4.52408421e-02 -4.45025077e-02 -1.32524857e-01 -1.17887657e-01\n",
      "   9.10671456e-02  2.21371514e-01  2.53147234e-01  4.81341660e-02\n",
      "  -4.06560263e-02 -8.62117972e-02]\n",
      " [-1.15885989e+00 -1.13338768e+00 -1.18618860e+00 -9.83045798e-01\n",
      "  -1.00673227e+00 -1.17588146e+00 -1.19003651e+00 -1.26237425e+00\n",
      "  -1.20883121e+00 -1.07962535e+00]\n",
      " [ 2.45664507e-03  2.55127702e-05  2.59577009e-02  2.72761251e-02\n",
      "   2.80341580e-04  1.23128395e-02  2.95461478e-02  9.84655386e-03\n",
      "   9.43192409e-03  1.16811434e-03]\n",
      " [ 9.86886273e-01  9.72664105e-01  9.98742680e-01  9.89219264e-01\n",
      "   9.97631447e-01  9.79008314e-01  9.69711102e-01  9.97204957e-01\n",
      "   9.95739277e-01  9.93597202e-01]]\n",
      "new_array.T = [[ 5.11232249e-01  8.57404421e-02 -4.52408421e-02 -1.15885989e+00\n",
      "   2.45664507e-03  9.86886273e-01]\n",
      " [ 4.93067141e-01  7.77184371e-02 -4.45025077e-02 -1.13338768e+00\n",
      "   2.55127702e-05  9.72664105e-01]\n",
      " [ 5.21940542e-01  8.52073884e-02 -1.32524857e-01 -1.18618860e+00\n",
      "   2.59577009e-02  9.98742680e-01]\n",
      " [ 5.33536381e-01  7.12809322e-02 -1.17887657e-01 -9.83045798e-01\n",
      "   2.72761251e-02  9.89219264e-01]\n",
      " [ 4.90426953e-01  8.36148284e-02  9.10671456e-02 -1.00673227e+00\n",
      "   2.80341580e-04  9.97631447e-01]\n",
      " [ 4.52168562e-01  8.29451087e-02  2.21371514e-01 -1.17588146e+00\n",
      "   1.23128395e-02  9.79008314e-01]\n",
      " [ 4.60740634e-01  7.54712606e-02  2.53147234e-01 -1.19003651e+00\n",
      "   2.95461478e-02  9.69711102e-01]\n",
      " [ 4.98651655e-01  8.28545075e-02  4.81341660e-02 -1.26237425e+00\n",
      "   9.84655386e-03  9.97204957e-01]\n",
      " [ 5.02705559e-01  8.92590291e-02 -4.06560263e-02 -1.20883121e+00\n",
      "   9.43192409e-03  9.95739277e-01]\n",
      " [ 4.96736528e-01  8.41888821e-02 -8.62117972e-02 -1.07962535e+00\n",
      "   1.16811434e-03  9.93597202e-01]]\n"
     ]
    }
   ],
   "source": [
    "import numpy as np\n",
    "from scipy import stats\n",
    "x= np.random.rand(100,10)\n",
    "print(\"x= np.random.rand(100,10)\")\n",
    "n, min_max, mean, var, skew, kurt = stats.describe(x)\n",
    "print(\"n, min_max, mean, var, skew, kurt = stats.describe(x)\")\n",
    "new_array = np.vstack((mean,var,skew,kurt,min_max[0],min_max[1]))\n",
    "print(\"new_array = np.vstack((mean,var,skew,kurt,min_max[0],min_max[1]))\")\n",
    "print(f\"new_array = {new_array}\")\n",
    "print(f\"new_array.T = {new_array.T}\")"
   ]
  },
  {
   "cell_type": "markdown",
   "metadata": {},
   "source": [
    "\n",
    "- n: Número de elementos en el array `x`.\n",
    "- min_max: Tupla que contiene el valor mínimo y el valor máximo de `x`.\n",
    "- mean: Media aritmética de los elementos en `x`.\n",
    "- var: Varianza de `x`, que mide cuánto varían los valores de `x` respecto a su media.\n",
    "- skew: Asimetría (skewness) de `x`, que indica la simetría de la distribución de los valores. Un valor positivo indica una cola derecha más larga, mientras que un valor negativo indica una cola izquierda más larga.\n",
    "- kurt: Curtosis (kurtosis) de `x`, que mide la \"puntiagudez\" de la distribución de los valores. Un valor alto de kurtosis indica una distribución con colas más pesadas (valores extremos), mientras que un valor bajo indica una distribución más plana.\n",
    "\n",
    "Estos valores proporcionan información útil sobre la distribución y las características de los datos en el array `x`, lo cual es fundamental para el análisis estadístico y la comprensión de los datos en aplicaciones de machine learning y análisis de datos."
   ]
  },
  {
   "cell_type": "markdown",
   "metadata": {},
   "source": [
    "NumPy tiene un excelente módulo llamado numpy.ma, que se utiliza para enmascarar elementos de arrays. Es muy útil cuando deseas enmascarar (ignorar) algunos elementos mientras realizas tus cálculos. Cuando NumPy enmascara, estos elementos se consideran inválidos y no se tienen en cuenta en los cálculos."
   ]
  },
  {
   "cell_type": "code",
   "execution_count": 103,
   "metadata": {},
   "outputs": [
    {
     "name": "stdout",
     "output_type": "stream",
     "text": [
      "x = np.arange(6)\n",
      "\n",
      "x.mean() = 2.5\n",
      "masked_array.mean() = 3.0\n"
     ]
    }
   ],
   "source": [
    "import numpy.ma as ma\n",
    "\n",
    "x = np.arange(6)\n",
    "print(\"x = np.arange(6)\")\n",
    "print()\n",
    "print(f\"x.mean() = {x.mean()}\")\n",
    "masked_array = ma.masked_array(x, mask=[1,0,0,0,0,0])\n",
    "print(f\"masked_array.mean() = {masked_array.mean()}\")\n"
   ]
  },
  {
   "cell_type": "markdown",
   "metadata": {},
   "source": [
    "En el código anterior, tienes un array `x = [0, 1, 2, 3, 4, 5]`. Lo que haces es enmascarar el primer elemento del array y luego calcular la media. Cuando un elemento se enmascara como 1 (True), se enmascara el valor de índice asociado en el array. Este método también es muy útil al reemplazar los valores NaN:"
   ]
  },
  {
   "cell_type": "code",
   "execution_count": 108,
   "metadata": {},
   "outputs": [
    {
     "name": "stdout",
     "output_type": "stream",
     "text": [
      "x = np.arange(25, dtype = float).reshape(5,5)\n",
      "\n",
      "x[x<5] = np\n",
      "\n",
      "x = [[nan nan nan nan nan]\n",
      " [ 5.  6.  7.  8.  9.]\n",
      " [10. 11. 12. 13. 14.]\n",
      " [15. 16. 17. 18. 19.]\n",
      " [20. 21. 22. 23. 24.]]\n",
      "\n",
      "np.where(np.isnan(x), ma.array(x, mask=np.isnan(x)).mean(axis=0), x)\n"
     ]
    },
    {
     "data": {
      "text/plain": [
       "array([[12.5, 13.5, 14.5, 15.5, 16.5],\n",
       "       [ 5. ,  6. ,  7. ,  8. ,  9. ],\n",
       "       [10. , 11. , 12. , 13. , 14. ],\n",
       "       [15. , 16. , 17. , 18. , 19. ],\n",
       "       [20. , 21. , 22. , 23. , 24. ]])"
      ]
     },
     "execution_count": 108,
     "metadata": {},
     "output_type": "execute_result"
    }
   ],
   "source": [
    "x = np.arange(25, dtype = float).reshape(5,5)\n",
    "print(\"x = np.arange(25, dtype = float).reshape(5,5)\")\n",
    "print()\n",
    "print(f\"x[x<5] = np\")\n",
    "x[x<5] = np.nan\n",
    "print()\n",
    "print(f\"x = {x}\")\n",
    "print()\n",
    "print(\"np.where(np.isnan(x), ma.array(x, mask=np.isnan(x)).mean(axis=0), x)\")\n",
    "np.where(np.isnan(x), ma.array(x, mask=np.isnan(x)).mean(axis=0), x)"
   ]
  },
  {
   "cell_type": "markdown",
   "metadata": {},
   "source": [
    "En el código anterior, cambiamos el valor de los primeros cinco elementos a NaN colocando una condición con el índice. `x[x<5]` se refiere a los elementos indexados como 0, 1, 2, 3 y 4. Luego sobrescribimos estos valores con la media de cada columna (excluyendo los valores NaN). Hay muchos otros métodos útiles en las operaciones de arrays que pueden ayudar a que tu código sea más conciso:"
   ]
  },
  {
   "cell_type": "markdown",
   "metadata": {},
   "source": [
    "Indexación, segmentación, remodelado, redimensionamiento y difusión"
   ]
  },
  {
   "cell_type": "markdown",
   "metadata": {},
   "source": [
    "Cuando trabajas con arrays enormes en proyectos de aprendizaje automático, a menudo necesitas indexar, segmentar, remodelar y redimensionar. La indexación es un término fundamental utilizado en matemáticas y ciencias de la computación. En términos generales, la indexación te ayuda a especificar cómo devolver elementos deseados de diversas estructuras de datos. El siguiente ejemplo muestra la indexación para una lista y una tupla:"
   ]
  },
  {
   "cell_type": "code",
   "execution_count": 111,
   "metadata": {},
   "outputs": [
    {
     "name": "stdout",
     "output_type": "stream",
     "text": [
      "x = ['USA','France', 'Germany','England']\n",
      "x[2] = Germany\n",
      "\n",
      "x = ('USA',3,'France',4)\n",
      "x[2] = France\n"
     ]
    }
   ],
   "source": [
    "x = [\"USA\",\"France\", \"Germany\",\"England\"]\n",
    "print(\"x = ['USA','France', 'Germany','England']\")\n",
    "print(f\"x[2] = {x[2]}\")\n",
    "x = ('USA',3,\"France\",4)\n",
    "print()\n",
    "print(\"x = ('USA',3,'France',4)\")\n",
    "print(f\"x[2] = {x[2]}\")"
   ]
  },
  {
   "cell_type": "markdown",
   "metadata": {},
   "source": [
    "En NumPy, el uso principal de la indexación consiste en controlar y manipular los elementos de los arrays. Es una forma de crear valores de búsqueda genéricos. La indexación incluye tres operaciones secundarias: acceso a campos (field access), segmentación básica (basic slicing) e indexación avanzada (advanced indexing). En el acceso a campos, simplemente especificas el índice de un elemento en un array para devolver el valor correspondiente a ese índice.\n",
    "\n",
    "NumPy es muy potente cuando se trata de indexación y segmentación. En muchos casos, necesitas referirte a un elemento específico en un array y realizar operaciones en esta área segmentada. Puedes indexar tu array de manera similar a como lo haces con tuplas o listas usando notaciones de corchetes cuadrados. Comencemos con el acceso a campos y la segmentación simple con arrays unidimensionales y luego avanzaremos hacia técnicas más avanzadas:"
   ]
  },
  {
   "cell_type": "code",
   "execution_count": 112,
   "metadata": {},
   "outputs": [
    {
     "name": "stdout",
     "output_type": "stream",
     "text": [
      "x = np.arange(10)\n",
      "x = [0 1 2 3 4 5 6 7 8 9]\n",
      "x[5] = 5\n",
      "x[-2] = 8\n",
      "x[2:8] = [2 3 4 5 6 7]\n",
      "x[:] = [0 1 2 3 4 5 6 7 8 9]\n",
      "x[2:8:2] = [2 4 6]\n"
     ]
    }
   ],
   "source": [
    "x = np.arange(10)\n",
    "print(\"x = np.arange(10)\")\n",
    "print(f\"x = {x}\")\n",
    "print(f\"x[5] = {x[5]}\")\n",
    "print(f\"x[-2] = {x[-2]}\")\n",
    "print(f\"x[2:8] = {x[2:8]}\")\n",
    "print(f\"x[:] = {x[:]}\")\n",
    "print(f\"x[2:8:2] = {x[2:8:2]}\")"
   ]
  },
  {
   "cell_type": "markdown",
   "metadata": {},
   "source": [
    "Hasta ahora, hemos visto la indexación y segmentación en arrays 1D. La lógica no cambia, pero por el bien de la demostración, hagamos algunas prácticas con arrays multidimensionales también. Lo único que cambia cuando tienes arrays multidimensionales es que tienes más ejes. Puedes segmentar un array n-dimensional como [segmentación en el eje x, segmentación en el eje y] en el siguiente código:"
   ]
  },
  {
   "cell_type": "code",
   "execution_count": 114,
   "metadata": {},
   "outputs": [
    {
     "name": "stdout",
     "output_type": "stream",
     "text": [
      "x = np.reshape(np.arange(16),(4,4))\n",
      "x = [[ 0  1  2  3]\n",
      " [ 4  5  6  7]\n",
      " [ 8  9 10 11]\n",
      " [12 13 14 15]]\n",
      "\n",
      "x[1:3] = [[ 4  5  6  7]\n",
      " [ 8  9 10 11]]\n",
      "\n",
      "x[:,1:3] = [[ 1  2]\n",
      " [ 5  6]\n",
      " [ 9 10]\n",
      " [13 14]]\n",
      "\n",
      "x[1:3,1:3] = [[ 5  6]\n",
      " [ 9 10]]\n"
     ]
    }
   ],
   "source": [
    "x = np.reshape(np.arange(16),(4,4))\n",
    "print(\"x = np.reshape(np.arange(16),(4,4))\")\n",
    "print(f\"x = {x}\")\n",
    "print()\n",
    "print(f\"x[1:3] = {x[1:3]}\")\n",
    "print()\n",
    "print(f\"x[:,1:3] = {x[:,1:3]}\")\n",
    "print()\n",
    "print(f\"x[1:3,1:3] = {x[1:3,1:3]}\")\n"
   ]
  },
  {
   "cell_type": "markdown",
   "metadata": {},
   "source": [
    "La función reshape en Python, específicamente cuando se utiliza con NumPy, permite reorganizar la forma (shape) de un array sin cambiar sus datos subyacentes.\n",
    "\n",
    "Has segmentado los arrays por filas y columnas, pero no has segmentado los elementos de una manera más irregular o dinámica, lo que significa que siempre los segmentas de forma rectangular o cuadrada. Imagina un array de 4*4 que queremos segmentar de la siguiente manera:"
   ]
  },
  {
   "cell_type": "markdown",
   "metadata": {},
   "source": [
    "Para obtener la segmentación anterior, ejecutamos el siguiente código:"
   ]
  },
  {
   "cell_type": "code",
   "execution_count": 115,
   "metadata": {},
   "outputs": [
    {
     "name": "stdout",
     "output_type": "stream",
     "text": [
      "x = np.reshape(np.arange(16),(4,4))\n",
      "\n",
      "x = [[ 0  1  2  3]\n",
      " [ 4  5  6  7]\n",
      " [ 8  9 10 11]\n",
      " [12 13 14 15]]\n",
      "\n",
      "x[[0,1,2],[0,1,3]] = [ 0  5 11]\n"
     ]
    }
   ],
   "source": [
    "x = np.reshape(np.arange(16),(4,4))\n",
    "print(\"x = np.reshape(np.arange(16),(4,4))\")\n",
    "print()\n",
    "print(f\"x = {x}\")\n",
    "print()\n",
    "print(f\"x[[0,1,2],[0,1,3]] = {x[[0,1,2],[0,1,3]]}\")\n"
   ]
  },
  {
   "cell_type": "markdown",
   "metadata": {},
   "source": [
    "En la indexación avanzada, la primera parte indica los índices de las filas a segmentar y la segunda parte indica las columnas correspondientes. En el ejemplo anterior, primero segmentaste las filas 1ª, 2ª y 3ª ([0, 1, 2]) y luego segmentaste las columnas 1ª, 2ª y 4ª ([0, 1, 3]) en las filas segmentadas."
   ]
  },
  {
   "cell_type": "markdown",
   "metadata": {},
   "source": [
    "Los métodos `reshape` y `resize` pueden parecer similares, pero tienen diferencias en los resultados de estas operaciones. Cuando remodelas (reshape) el array, solo cambia temporalmente la forma del array, pero no cambia el array en sí mismo. Cuando redimensionas (resize) el array, cambia permanentemente el tamaño del array. Si el nuevo tamaño del array es más grande que el antiguo, los elementos adicionales del nuevo array se llenarán con copias repetidas de los elementos antiguos. Por el contrario, si el nuevo array es más pequeño, el nuevo array tomará los elementos del array antiguo en el orden de los índices necesarios para llenar el nuevo array.\n",
    "\n",
    "Es importante tener en cuenta que los mismos datos pueden ser compartidos por diferentes ndarrays, lo que significa que un ndarray puede ser una vista de otro ndarray. En tales casos, los cambios realizados en un array tendrán consecuencias en otras vistas.\n"
   ]
  },
  {
   "cell_type": "markdown",
   "metadata": {},
   "source": [
    "El siguiente código proporciona un ejemplo de cómo se llenan los nuevos elementos del arreglo cuando el tamaño es mayor o menor que el del arreglo original:"
   ]
  },
  {
   "cell_type": "code",
   "execution_count": 116,
   "metadata": {},
   "outputs": [
    {
     "name": "stdout",
     "output_type": "stream",
     "text": [
      "x = np.arange(16).reshape(4,4)\n",
      "x = [[ 0  1  2  3]\n",
      " [ 4  5  6  7]\n",
      " [ 8  9 10 11]\n",
      " [12 13 14 15]]\n",
      "\n",
      "np.resize(x,(2,2)) = [[0 1]\n",
      " [2 3]]\n",
      "\n",
      "np.resize(x,(6,6)) = [[ 0  1  2  3  4  5]\n",
      " [ 6  7  8  9 10 11]\n",
      " [12 13 14 15  0  1]\n",
      " [ 2  3  4  5  6  7]\n",
      " [ 8  9 10 11 12 13]\n",
      " [14 15  0  1  2  3]]\n"
     ]
    }
   ],
   "source": [
    "x = np.arange(16).reshape(4,4)\n",
    "print(\"x = np.arange(16).reshape(4,4)\")\n",
    "print(f\"x = {x}\")\n",
    "print()\n",
    "print(f\"np.resize(x,(2,2)) = {np.resize(x,(2,2))}\")\n",
    "print()\n",
    "print(f\"np.resize(x,(6,6)) = {np.resize(x,(6,6))}\")"
   ]
  },
  {
   "cell_type": "markdown",
   "metadata": {},
   "source": [
    "El último término importante de esta subsección es la transmisión (broadcasting), que explica cómo NumPy se comporta en operaciones aritméticas de arreglos cuando tienen formas diferentes. NumPy tiene dos reglas para la transmisión: o bien las dimensiones de los arreglos son iguales, o una de ellas es 1. Si no se cumple alguna de estas condiciones, se generará uno de los dos errores: \n",
    "\"frames are not aligned\" (los marcos no están alineados) u \"operands could not be broadcast together\" (los operandos no pueden transmitirse juntos)."
   ]
  },
  {
   "cell_type": "code",
   "execution_count": 117,
   "metadata": {},
   "outputs": [
    {
     "name": "stdout",
     "output_type": "stream",
     "text": [
      "x = np.arange(16).reshape(4,4)\n",
      "y = np.arange(6).reshape(2,3)\n",
      "\n"
     ]
    },
    {
     "ename": "ValueError",
     "evalue": "operands could not be broadcast together with shapes (4,4) (2,3) ",
     "output_type": "error",
     "traceback": [
      "\u001b[1;31m---------------------------------------------------------------------------\u001b[0m",
      "\u001b[1;31mValueError\u001b[0m                                Traceback (most recent call last)",
      "Cell \u001b[1;32mIn[117], line 6\u001b[0m\n\u001b[0;32m      4\u001b[0m \u001b[38;5;28mprint\u001b[39m(\u001b[38;5;124m\"\u001b[39m\u001b[38;5;124my = np.arange(6).reshape(2,3)\u001b[39m\u001b[38;5;124m\"\u001b[39m)\n\u001b[0;32m      5\u001b[0m \u001b[38;5;28mprint\u001b[39m()\n\u001b[1;32m----> 6\u001b[0m \u001b[38;5;28mprint\u001b[39m(\u001b[38;5;124mf\u001b[39m\u001b[38;5;124m\"\u001b[39m\u001b[38;5;124mx+y = \u001b[39m\u001b[38;5;132;01m{\u001b[39;00m\u001b[43mx\u001b[49m\u001b[38;5;241;43m+\u001b[39;49m\u001b[43my\u001b[49m\u001b[38;5;132;01m}\u001b[39;00m\u001b[38;5;124m\"\u001b[39m)\n",
      "\u001b[1;31mValueError\u001b[0m: operands could not be broadcast together with shapes (4,4) (2,3) "
     ]
    }
   ],
   "source": [
    "x = np.arange(16).reshape(4,4)\n",
    "y = np.arange(6).reshape(2,3)\n",
    "print(\"x = np.arange(16).reshape(4,4)\")\n",
    "print(\"y = np.arange(6).reshape(2,3)\")\n",
    "print()\n",
    "print(f\"x+y = {x+y}\")\n"
   ]
  },
  {
   "cell_type": "markdown",
   "metadata": {},
   "source": [
    "You might have seen that you can multiply two matrices with shapes\n",
    "(4, 4) and (4,) or with (2, 2) and (2, 1). The first case meets the\n",
    "condition of having one dimension so that the multiplication\n",
    "becomes a vector * array, which does not cause any broadcasting\n",
    "problems:"
   ]
  },
  {
   "cell_type": "code",
   "execution_count": 120,
   "metadata": {},
   "outputs": [
    {
     "name": "stdout",
     "output_type": "stream",
     "text": [
      "x = np.ones(16).reshape(4,4)\n",
      "y = np.arange(4)\n",
      "\n",
      "x*y = [[0. 1. 2. 3.]\n",
      " [0. 1. 2. 3.]\n",
      " [0. 1. 2. 3.]\n",
      " [0. 1. 2. 3.]]\n",
      "\n",
      "x = np.arange(4).reshape(2,2)\n",
      "x = [[0 1]\n",
      " [2 3]]\n",
      "\n",
      "y = np.arange(2).reshape(1,2)\n",
      "y = [[0 1]]\n",
      "\n",
      "x*y = [[0 1]\n",
      " [0 3]]\n"
     ]
    }
   ],
   "source": [
    "x = np.ones(16).reshape(4,4)\n",
    "print(\"x = np.ones(16).reshape(4,4)\")\n",
    "y = np.arange(4)\n",
    "print(\"y = np.arange(4)\")\n",
    "print()\n",
    "print(f\"x*y = {x*y}\")\n",
    "x = np.arange(4).reshape(2,2)\n",
    "print()\n",
    "print(\"x = np.arange(4).reshape(2,2)\")\n",
    "print(f\"x = {x}\")\n",
    "print()\n",
    "print(\"y = np.arange(2).reshape(1,2)\")\n",
    "y = np.arange(2).reshape(1,2)\n",
    "print(f\"y = {y}\")\n",
    "print()\n",
    "print(f\"x*y = {x*y}\")\n"
   ]
  },
  {
   "cell_type": "markdown",
   "metadata": {},
   "source": [
    "El bloque de código anterior proporciona un ejemplo del segundo caso, donde durante el cálculo los arreglos pequeños iteran a través del arreglo grande y la salida se extiende a lo largo de todo el arreglo. Esta es la razón por la cual hay salidas de dimensiones (4, 4) y (2, 2): durante la multiplicación, ambos arreglos se transmiten a dimensiones más grandes."
   ]
  },
  {
   "cell_type": "markdown",
   "metadata": {},
   "source": [
    "RESUMEN\n",
    "En este capítulo, te familiarizaste con los fundamentos de NumPy para operaciones con arreglos y repasaste tus conocimientos sobre operaciones básicas de matrices. NumPy es una biblioteca extremadamente importante para pilas científicas en Python, con métodos extensivos para operaciones con arreglos. Aprendiste a trabajar con arreglos multidimensionales y cubriste temas importantes como indexación, segmentación, remodelación, redimensionamiento y transmisión (broadcasting). El objetivo principal de este capítulo fue darte una idea breve de cómo NumPy funciona cuando se trata de conjuntos de datos numéricos, lo cual será útil en tu trabajo diario de análisis de datos.\n",
    "\n",
    "En el próximo capítulo, aprenderás los conceptos básicos de álgebra lineal y completarás ejemplos prácticos con NumPy."
   ]
  }
 ],
 "metadata": {
  "kernelspec": {
   "display_name": "Python 3",
   "language": "python",
   "name": "python3"
  },
  "language_info": {
   "codemirror_mode": {
    "name": "ipython",
    "version": 3
   },
   "file_extension": ".py",
   "mimetype": "text/x-python",
   "name": "python",
   "nbconvert_exporter": "python",
   "pygments_lexer": "ipython3",
   "version": "3.12.1"
  }
 },
 "nbformat": 4,
 "nbformat_minor": 2
}

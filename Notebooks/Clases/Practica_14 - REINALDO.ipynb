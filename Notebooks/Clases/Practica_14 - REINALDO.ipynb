{
 "cells": [
  {
   "cell_type": "markdown",
   "metadata": {},
   "source": [
    "1. Muestre el Ouput del siguiente string  \n",
    "      str= \"Bienvenido a mi blog\" "
   ]
  },
  {
   "cell_type": "code",
   "execution_count": 3,
   "metadata": {},
   "outputs": [
    {
     "name": "stdout",
     "output_type": "stream",
     "text": [
      "a.  nvenido a mi bl\n",
      "b.  evnd  \n",
      "c.  Bienven\n",
      "d.  do a mi blo\n",
      "e.  \n",
      "f.  Bnn\n",
      "g.  oam lg\n",
      "h.  i\n",
      "i.  \n",
      "j.  dail\n"
     ]
    }
   ],
   "source": [
    "str= \"Bienvenido a mi blog\"  \n",
    "\n",
    "print(\"a. \",str [3:18])\n",
    "print(\"b. \",str [2:14:2])\n",
    "print(\"c. \",str [:7])\n",
    "print(\"d. \",str [8:-1:1])\n",
    "print(\"e. \",str [-9:-15])\n",
    "print(\"f. \",str [0:9:3])\n",
    "print(\"g. \",str [9:29:2])\n",
    "print(\"h. \",str [-6:-9:-3])\n",
    "print(\"i. \",str [-9:-9:-1])\n",
    "print(\"j. \",str [8:25:3])\n"
   ]
  },
  {
   "cell_type": "markdown",
   "metadata": {},
   "source": [
    "2. Muestre el Ouput del siguiente string  \n",
    "      str= \"String Slicing in Python\"  "
   ]
  },
  {
   "cell_type": "code",
   "execution_count": 4,
   "metadata": {},
   "outputs": [
    {
     "name": "stdout",
     "output_type": "stream",
     "text": [
      "a)  g in \n",
      "b)  o\n",
      "c)  n n\n",
      "d)  Slicing in Pytho\n",
      "e)  Pn ncl \n",
      "f)  Si \n",
      "g)  ython\n",
      "h)  P\n",
      "i)  i gnicilS gnirt\n",
      "j)  rgli \n"
     ]
    }
   ],
   "source": [
    "str= \"String Slicing in Python\"\n",
    "\n",
    "print(\"a) \",str [13:18])\n",
    "print(\"b) \",str [-2:-4:-2])\n",
    "print(\"c) \",str [12:18:2])\n",
    "print(\"d) \",str [-17:-1:1])\n",
    "print(\"e) \",str [-6:-20:-2])\n",
    "print(\"f) \",str [0:9:3])\n",
    "print(\"g) \",str [19:29])\n",
    "print(\"h) \",str [-6:-9:-3])\n",
    "print(\"i) \",str [-9:-0:-1])\n",
    "print(\"j) \",str [2:16:3])"
   ]
  },
  {
   "cell_type": "markdown",
   "metadata": {},
   "source": [
    "3. Cree una cadena que está formada por el primer, medio y último carácter. \n",
    "    str1= \"James\"             Salida Esperada -> Jms "
   ]
  },
  {
   "cell_type": "code",
   "execution_count": 5,
   "metadata": {},
   "outputs": [
    {
     "name": "stdout",
     "output_type": "stream",
     "text": [
      "El primer, medio y último caracter de 'James' es la cadena:  Jms\n"
     ]
    }
   ],
   "source": [
    "str1= \"James\" \n",
    "\n",
    "print(\"El primer, medio y último caracter de 'James' es la cadena: \", str1[0:5:2])"
   ]
  },
  {
   "cell_type": "markdown",
   "metadata": {},
   "source": [
    "4. Cree una cadena que está formada por los tres caracteres centrales del \n",
    "     siguiente string:                                                      \n",
    "                           variable1= \"Cantabria\" "
   ]
  },
  {
   "cell_type": "code",
   "execution_count": 6,
   "metadata": {},
   "outputs": [
    {
     "name": "stdout",
     "output_type": "stream",
     "text": [
      "Los tres caracteres del centro de 'Cantabria' son: tab\n"
     ]
    }
   ],
   "source": [
    "variable1= \"Cantabria\" \n",
    "\n",
    "print(\"Los tres caracteres del centro de 'Cantabria' son:\", variable1[3:6])"
   ]
  }
 ],
 "metadata": {
  "kernelspec": {
   "display_name": "Python 3",
   "language": "python",
   "name": "python3"
  },
  "language_info": {
   "codemirror_mode": {
    "name": "ipython",
    "version": 3
   },
   "file_extension": ".py",
   "mimetype": "text/x-python",
   "name": "python",
   "nbconvert_exporter": "python",
   "pygments_lexer": "ipython3",
   "version": "3.12.1"
  }
 },
 "nbformat": 4,
 "nbformat_minor": 2
}

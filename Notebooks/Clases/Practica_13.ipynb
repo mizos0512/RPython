{
 "cells": [
  {
   "cell_type": "markdown",
   "id": "d58e1ad7-7bdb-4127-a8e9-d7f2e6c6af84",
   "metadata": {},
   "source": [
    "Pregunta_1: Escribir un programa que pregunte el nombre del usuario por la consola y después de que el usuario \n",
    "lo introduzca muestre por la pantalla la cadena ¡Hola <nombre>!, donde <nombre> es el nombre que el usuario haya \n",
    "introducido."
   ]
  },
  {
   "cell_type": "code",
   "execution_count": 1,
   "id": "a61f3d15",
   "metadata": {},
   "outputs": [
    {
     "name": "stdout",
     "output_type": "stream",
     "text": [
      "\n",
      "¡Hola Reinaldo Díaz Mizos\n"
     ]
    }
   ],
   "source": [
    "Nombre=input(\"Introduzca su Nombre: \");print(\"\")\n",
    "print(\"¡Hola {}\".format(Nombre))"
   ]
  },
  {
   "cell_type": "markdown",
   "id": "d4f1ff3d",
   "metadata": {},
   "source": [
    "Pregunta_2: Escribir un programa que muestre por pantalla el resultado dela siguiente operación aritmética:\n",
    "((3+2)/(2*5))^2"
   ]
  },
  {
   "cell_type": "code",
   "execution_count": 3,
   "id": "f16cc578",
   "metadata": {},
   "outputs": [
    {
     "name": "stdout",
     "output_type": "stream",
     "text": [
      "El resultado de ((3+2)/(2*5))^2 es igual a: 0.250\n"
     ]
    }
   ],
   "source": [
    "result=((3+2)/(2*5))**2\n",
    "print(\"El resultado de ((3+2)/(2*5))^2 es igual a: {:.3f}\".format(result))"
   ]
  },
  {
   "cell_type": "markdown",
   "id": "440efbf7",
   "metadata": {},
   "source": [
    "Pregunta_3: Escribe  un programa que pregunte al usuario  por el número de horas trabajadas y el coste por hora. Después debe mostrar por pantalla la paga que le corresponde."
   ]
  },
  {
   "cell_type": "code",
   "execution_count": 4,
   "id": "0d8b2263",
   "metadata": {},
   "outputs": [
    {
     "name": "stdout",
     "output_type": "stream",
     "text": [
      "\n",
      "Su Paga por 6.0 horas trabajadas según un Coste de 6.0 €/horas es de: 36.00€\n"
     ]
    }
   ],
   "source": [
    "Horas=float(input(\"Introduzca horas trabajadas: \"))\n",
    "Coste=float(input(\"Introduzca el Coste por Horas: \"));print(\"\")\n",
    "Paga = Horas * Coste\n",
    "print(\"Su Paga por {} horas trabajadas según un Coste de {} €/horas es de: {:.2f}€\".format(Horas, Coste, Paga))\n"
   ]
  },
  {
   "cell_type": "markdown",
   "id": "19492d42",
   "metadata": {},
   "source": [
    "Pregunta_4: Escribe  un programa que pida al usuario dos números enteros y muestre por pantalla la <n> entre <m> da un cociente <c> y un resto <r> donde <n> y <m> son números introducidos por el usuario, y <c> y <r> son el cociente y el resto de la división entera respectivamente."
   ]
  },
  {
   "cell_type": "code",
   "execution_count": 5,
   "id": "8b0a9319",
   "metadata": {},
   "outputs": [
    {
     "name": "stdout",
     "output_type": "stream",
     "text": [
      "\n",
      "13/2 da un cociente de 6 y un resto de 1\n"
     ]
    }
   ],
   "source": [
    "n=int(input(\"Introduzca el número <n>: \"))\n",
    "m=int(input(\"Introduzca el número <m>: \"));print(\"\")\n",
    "c=n//m\n",
    "r=n%m\n",
    "print(\"{}/{} da un cociente de {} y un resto de {}\".format(n, m, c, r))"
   ]
  },
  {
   "cell_type": "markdown",
   "id": "1df37732",
   "metadata": {},
   "source": [
    "Pregunta_5: Escribir un programa que pregunte al usuario una cantidad a invertir, el interés porcentual anual y el número de años, y muestre por pantalla el capital obtenido en la inversión redondeado con dos decimales."
   ]
  },
  {
   "cell_type": "code",
   "execution_count": 7,
   "id": "f9791dc5",
   "metadata": {},
   "outputs": [
    {
     "name": "stdout",
     "output_type": "stream",
     "text": [
      "\n",
      "El capital obtenido con una inversion de 3000.00 €,  una tasa de 3%,  para 3 años es de 3278.18 €\n"
     ]
    }
   ],
   "source": [
    "inversion=float(input(\"Cantidad a invertir: \"))\n",
    "interes=float(input(\"Interés porcentual (%) anual: \"))\n",
    "anno=int(input(\"Número de años: \"));print(\"\")\n",
    "\n",
    "capital_final = inversion * (1 + interes/100) ** anno\n",
    "\n",
    "print(\"El capital obtenido con una inversion de {:.2f} €,  una tasa de {:.0f}%,  para {} años es de {:.2F} €\".format(inversion, interes, anno, capital_final))"
   ]
  },
  {
   "cell_type": "markdown",
   "id": "98f836c8",
   "metadata": {},
   "source": [
    "Pregunta_6: Una juguetería tiene mucho éxito en dos de sus productos: payasos y muñecas. Suele hacer ventas por correo y la empresa de logística les cobra por peso de cada paquete así que deben calcular el peso de los payasos y muñecas que saldrán en cada paquete a demanda. cada payaso pesa 112 g y cada muñeca 75 g . Escribir un programa que lea el número de payasos y muñecas vendidos en el último pedido y calcule el peso total del paquete que será enviado."
   ]
  },
  {
   "cell_type": "code",
   "execution_count": 8,
   "id": "978009f1",
   "metadata": {},
   "outputs": [
    {
     "name": "stdout",
     "output_type": "stream",
     "text": [
      "\n",
      "El peso total del paquete que será enviado en el último pedido es de 6.36kg\n"
     ]
    }
   ],
   "source": [
    "tpayasos=float(input(\"Cantidad de payasos: \"))\n",
    "tmuneca=float(input(\"Cantidad de muñecas: \"));print(\"\")\n",
    "peso_total_kilogramos=(tpayasos*112+tmuneca*75)/1000\n",
    "print(\"El peso total del paquete que será enviado en el último pedido es de {:.2f}kg\".format(peso_total_kilogramos))"
   ]
  },
  {
   "cell_type": "markdown",
   "id": "af10e1bc",
   "metadata": {},
   "source": [
    "Pregunta_7: Una panaderia vende barras de pan a 3.49€ cada una. El pan que no es el día tiene un descuento del 60%. Escribir un programa que comience leyendo el número de barras vendidas que no son del día. Después el programa debe mostrar el precio habitual de una barra de pan, el descuento que se le hace por no ser fresca y el coste final total."
   ]
  },
  {
   "cell_type": "code",
   "execution_count": 9,
   "id": "d5b2a684",
   "metadata": {},
   "outputs": [
    {
     "name": "stdout",
     "output_type": "stream",
     "text": [
      "\n",
      "Precio de  la barra de pan: 3.49€\n",
      "Descuento: 60%\n",
      "Cantidad de barras vendidas (que no son del día): 15\n",
      "\n",
      "Costo final: 20.94€\n"
     ]
    }
   ],
   "source": [
    "barras=int(input(\"Cabtidad de barras de pan (que no son del día) vendidas: \"));print(\"\")\n",
    "print(\"Precio de  la barra de pan: 3.49€\")\n",
    "print(\"Descuento: 60%\")\n",
    "print(\"Cantidad de barras vendidas (que no son del día): {}\".format(barras));print(\"\")\n",
    "print(\"Costo final: {:.2f}€\".format(barras*3.49*0.40))"
   ]
  },
  {
   "cell_type": "markdown",
   "id": "d70bd2d9",
   "metadata": {},
   "source": [
    "Pregunta_8: Suponga un valor adecuado para la temperatura de una cantiadad en grados Fahrenheit. Escriba un programa para convertir esta temperatura en grados centígrados e imprima ambas temperaturas."
   ]
  },
  {
   "cell_type": "code",
   "execution_count": 10,
   "id": "9f2a3800",
   "metadata": {},
   "outputs": [
    {
     "name": "stdout",
     "output_type": "stream",
     "text": [
      "\n",
      "76.00°F es igual a 24.44°C\n"
     ]
    }
   ],
   "source": [
    "tf=float(input(\"Temperatura en Grados Fahrenheit: \"));print(\"\")\n",
    "\n",
    "tc=(tf-32)*5/9\n",
    "\n",
    "print(\"{:.2f}°F es igual a {:.2f}°C\".format(tf, tc))"
   ]
  },
  {
   "cell_type": "markdown",
   "id": "133303ea",
   "metadata": {},
   "source": [
    "Pregunta_9: Suponga un valor adecuado para la temperatura de una ciudad en grados centígrados. Escriba un programa para convertir esta temperatura en la escala kelvin e imprima ambas temperaturas."
   ]
  },
  {
   "cell_type": "code",
   "execution_count": 11,
   "id": "923df3fc",
   "metadata": {},
   "outputs": [
    {
     "name": "stdout",
     "output_type": "stream",
     "text": [
      "\n",
      "24.00°C es igual a 297.15K\n"
     ]
    }
   ],
   "source": [
    "tc=float(input(\"Temperatura en Grados Centígrados: \"));print(\"\")\n",
    "\n",
    "tk=tc+273.15\n",
    "\n",
    "print(\"{:.2f}°C es igual a {:.2f}K\".format(tc, tk))"
   ]
  },
  {
   "cell_type": "markdown",
   "id": "9bfbdab7",
   "metadata": {},
   "source": [
    "Pregunta_10: Imprima la parte imaginaria del complejo z = 2 + 3j"
   ]
  },
  {
   "cell_type": "code",
   "execution_count": 12,
   "id": "c8ecc0f8",
   "metadata": {},
   "outputs": [
    {
     "name": "stdout",
     "output_type": "stream",
     "text": [
      "La parte imaginaria de la expresión z = 2 + 3j es 3\n"
     ]
    }
   ],
   "source": [
    "z=2+3j\n",
    "print(\"La parte imaginaria de la expresión z = 2 + 3j es {:.0f}\".format(z.imag))"
   ]
  },
  {
   "cell_type": "markdown",
   "id": "008d92f6",
   "metadata": {},
   "source": [
    "Pregunta_11: Imprima la parte imaginaria del complejo z = 4 + 2j"
   ]
  },
  {
   "cell_type": "code",
   "execution_count": 13,
   "id": "b1ac535c",
   "metadata": {},
   "outputs": [
    {
     "name": "stdout",
     "output_type": "stream",
     "text": [
      "La parte real de la expresión z = 4 + 2j es 4\n"
     ]
    }
   ],
   "source": [
    "z=4+2j\n",
    "print(\"La parte real de la expresión z = 4 + 2j es {:.0f}\".format(z.real))"
   ]
  },
  {
   "cell_type": "markdown",
   "id": "d54fe37f",
   "metadata": {},
   "source": [
    "Pregunta_12: Obtenga el conjugado de z = 4 + 2j"
   ]
  },
  {
   "cell_type": "code",
   "execution_count": 14,
   "id": "074b946a",
   "metadata": {},
   "outputs": [
    {
     "name": "stdout",
     "output_type": "stream",
     "text": [
      "El conjugado de la expresión z = 4 + 2j es (4-2j)\n"
     ]
    }
   ],
   "source": [
    "z=4+2j\n",
    "print(\"El conjugado de la expresión z = 4 + 2j es\",z.conjugate())"
   ]
  },
  {
   "cell_type": "markdown",
   "id": "cf1462cf",
   "metadata": {},
   "source": [
    "Pregunta_13: Imprima el equivalente en nuestra base decimal del binario '1100001110'"
   ]
  },
  {
   "cell_type": "code",
   "execution_count": 15,
   "id": "d1ac836c",
   "metadata": {},
   "outputs": [
    {
     "name": "stdout",
     "output_type": "stream",
     "text": [
      "El equivalente en nuestra base decimal del binario '1100001110' es: 782\n"
     ]
    }
   ],
   "source": [
    "print(\"El equivalente en nuestra base decimal del binario '1100001110' es: {}\".format(0b1100001110))"
   ]
  },
  {
   "cell_type": "markdown",
   "id": "58dd67dc",
   "metadata": {},
   "source": [
    "Pregunta_14: Convierta el valor flotante 4.33 a un string (cadena)"
   ]
  },
  {
   "cell_type": "code",
   "execution_count": 16,
   "id": "3d7c38a3",
   "metadata": {},
   "outputs": [
    {
     "name": "stdout",
     "output_type": "stream",
     "text": [
      "El valor flotante de 4.33 covertido a cadena (string) es de: '4.33'\n"
     ]
    }
   ],
   "source": [
    "print(\"El valor flotante de 4.33 covertido a cadena (string) es de: '{}'\".format(str(4.33)))"
   ]
  },
  {
   "cell_type": "markdown",
   "id": "ebcdcbd2",
   "metadata": {},
   "source": [
    "Pregunta_15: Obtenga el cociente entero  y el resto de la división  entre 29 y 5"
   ]
  },
  {
   "cell_type": "code",
   "execution_count": 17,
   "id": "3b93957b",
   "metadata": {},
   "outputs": [
    {
     "name": "stdout",
     "output_type": "stream",
     "text": [
      "De la división de 29/5 el cociente es 5 y el resto es 4\n"
     ]
    }
   ],
   "source": [
    "print(\"De la división de 29/5 el cociente es {} y el resto es {}\".format(29//5, 29%5))"
   ]
  },
  {
   "cell_type": "markdown",
   "id": "c0132957",
   "metadata": {},
   "source": [
    "Pregunta_16: Octenga el equivalente hexadecimal de 34567"
   ]
  },
  {
   "cell_type": "code",
   "execution_count": 18,
   "id": "855ceabc",
   "metadata": {},
   "outputs": [
    {
     "name": "stdout",
     "output_type": "stream",
     "text": [
      "El equivalente hexadecimal de 34567 es 0x8707\n"
     ]
    }
   ],
   "source": [
    "print(\"El equivalente hexadecimal de 34567 es {}\".format(hex(34567)))"
   ]
  },
  {
   "cell_type": "markdown",
   "id": "6f28fcd3",
   "metadata": {},
   "source": [
    "Pregunta_17: Aproxime hasta dos decimales el número 45.67859245"
   ]
  },
  {
   "cell_type": "code",
   "execution_count": 19,
   "id": "a28a5937",
   "metadata": {},
   "outputs": [
    {
     "name": "stdout",
     "output_type": "stream",
     "text": [
      "El número 45.67859245 redondeado a dos decimales es igual a: 45.68\n"
     ]
    }
   ],
   "source": [
    "print(\"El número 45.67859245 redondeado a dos decimales es igual a: {}\".format(round(45.67859245,2)))"
   ]
  },
  {
   "cell_type": "markdown",
   "id": "a8ba54f9",
   "metadata": {},
   "source": [
    "Pregunta_18: Obtenga 4 a partir de 3.556"
   ]
  },
  {
   "cell_type": "code",
   "execution_count": 20,
   "id": "cfe1ad39",
   "metadata": {},
   "outputs": [
    {
     "name": "stdout",
     "output_type": "stream",
     "text": [
      "Con la función round(3.556) obtengo 4\n"
     ]
    }
   ],
   "source": [
    "print(\"Con la función round(3.556) obtengo {}\".format(round(3.556)))"
   ]
  },
  {
   "cell_type": "markdown",
   "id": "0a154e12",
   "metadata": {},
   "source": [
    "Pregunta_19: Obtenga 17 a partir de 16.7844"
   ]
  },
  {
   "cell_type": "code",
   "execution_count": 21,
   "id": "1a1fb0cc",
   "metadata": {},
   "outputs": [
    {
     "name": "stdout",
     "output_type": "stream",
     "text": [
      "Con la función round(16.7844) obtengo 17\n"
     ]
    }
   ],
   "source": [
    "print(\"Con la función round(16.7844) obtengo {}\".format(round(16.7844)))"
   ]
  },
  {
   "cell_type": "markdown",
   "id": "d6b64c74",
   "metadata": {},
   "source": [
    "Pregunta_20: Calcule el resto de la división con 3.45 y 1.22"
   ]
  },
  {
   "cell_type": "code",
   "execution_count": 22,
   "id": "5d1fb54b",
   "metadata": {},
   "outputs": [
    {
     "name": "stdout",
     "output_type": "stream",
     "text": [
      "El resto de la división de 3.45 y 1.22 es 1.01\n"
     ]
    }
   ],
   "source": [
    "print(\"El resto de la división de 3.45 y 1.22 es {:.2f}\".format(3.45%1.22))"
   ]
  },
  {
   "cell_type": "markdown",
   "id": "d614802b",
   "metadata": {},
   "source": [
    "Pregunta_21: Calcule 3.45^1.22"
   ]
  },
  {
   "cell_type": "code",
   "execution_count": 23,
   "id": "9ded6c9c",
   "metadata": {},
   "outputs": [
    {
     "name": "stdout",
     "output_type": "stream",
     "text": [
      "El resultado de 3.45^1.22 es 4.530\n"
     ]
    }
   ],
   "source": [
    "print(\"El resultado de 3.45^1.22 es {:.3f}\".format(3.45**1.22))"
   ]
  },
  {
   "cell_type": "markdown",
   "id": "0d0e7e28",
   "metadata": {},
   "source": [
    "Pregunta_22: ¿Cuál de los siguientes es un nombre de variable no válido y por qué?\n",
    "BASICSALARY\n",
    "_basic\n",
    "_basic-hra\n",
    "#MEAN         -> No es variable porque tiene el caracter #\n",
    "group.        -> No puede contener punto\n",
    "422           -> No es variable porque comienza con número\n",
    "pop in 2020   -> No es variable porque las palabras están separadas\n",
    "over\n",
    "timemindovermatter\n",
    "plot # 3      -> No es variable porque estan separadas las palabras y tiene el caracter # \n",
    "SINGLE\n",
    "hELLO   \n",
    "queue\n",
    "team'svictory  -> Empieza con apóstrofe\n",
    "2015:DDay      -> Comienza con número"
   ]
  },
  {
   "cell_type": "markdown",
   "id": "7bba8225",
   "metadata": {},
   "source": [
    "Pregunta_23: Calcule en Jupiter las siguentes operaciones:\n",
    "2**6//8%2\n",
    "9**2//5-3\n",
    "10+6-2%3+7-2\n",
    "5%10+10-23*4//3\n",
    "5+5//5-5*5**5%5\n",
    "7%7+7//7-7*7"
   ]
  },
  {
   "cell_type": "code",
   "execution_count": 24,
   "id": "3df92ec2",
   "metadata": {},
   "outputs": [
    {
     "name": "stdout",
     "output_type": "stream",
     "text": [
      "El resultado de 2**6//8%2 es 0.000\n",
      "El resultado de 9**2//5-3 es 13.000\n",
      "El resultado de 10+6-2%3+7-2 es 19.000\n",
      "El resultado de 5%10+10-23*4//3es -15.000\n",
      "El resultado de 5+5//5-5*5**5%5 es 6.000\n",
      "El resultado de 7%7+7//7-7*7 es -48.000\n"
     ]
    }
   ],
   "source": [
    "print(\"El resultado de 2**6//8%2 es {:.3f}\".format(2**6//8%2))\n",
    "print(\"El resultado de 9**2//5-3 es {:.3f}\".format(9**2//5-3))\n",
    "print(\"El resultado de 10+6-2%3+7-2 es {:.3f}\".format(10+6-2%3+7-2))\n",
    "print(\"El resultado de 5%10+10-23*4//3es {:.3f}\".format(5%10+10-23*4//3))\n",
    "print(\"El resultado de 5+5//5-5*5**5%5 es {:.3f}\".format(5+5//5-5*5**5%5))\n",
    "print(\"El resultado de 7%7+7//7-7*7 es {:.3f}\".format(7%7+7//7-7*7))"
   ]
  },
  {
   "cell_type": "markdown",
   "id": "85da3324",
   "metadata": {},
   "source": [
    "Pregunta_24: Evalue las siguientes expresiones:\n",
    "min(2,6,8,5)\n",
    "bin(46)\n",
    "round(10.544336,2)"
   ]
  },
  {
   "cell_type": "code",
   "execution_count": 25,
   "id": "8be740f2",
   "metadata": {},
   "outputs": [
    {
     "name": "stdout",
     "output_type": "stream",
     "text": [
      "min(2,6,8,5) =  2\n",
      "bin(46) =  0b101110\n",
      "round(10.544336,2) =  10.54\n"
     ]
    }
   ],
   "source": [
    "print(\"min(2,6,8,5) =  {}\".format(min(2,6,8,5)))\n",
    "print(\"bin(46) =  {}\".format(bin(46)))\n",
    "print(\"round(10.544336,2) =  {}\".format(round(10.544336,2)))"
   ]
  },
  {
   "cell_type": "markdown",
   "id": "048db94b",
   "metadata": {},
   "source": [
    "Pregunta_25: Escriba un programa que intercambie  los valores enteros de las variables a y b. No está pemitido utilizar una tercera variable. No se le permite realizar operaciones aritmeticas en a y b."
   ]
  },
  {
   "cell_type": "code",
   "execution_count": 26,
   "id": "a04ad73c",
   "metadata": {},
   "outputs": [
    {
     "name": "stdout",
     "output_type": "stream",
     "text": [
      "Valor inicial de a =  4\n",
      "Valor inicial de b =  5\n",
      "\n",
      "Intercambiamos el valor de 'a' por el de 'b' y el de 'b' por el de 'a...\n",
      "\n",
      "Después del cambio a =  5\n",
      "Despuès del cambio b =  4\n"
     ]
    }
   ],
   "source": [
    "a = 4\n",
    "b = 5\n",
    "print(\"Valor inicial de a = \",a)\n",
    "print(\"Valor inicial de b = \",b);print(\"\")\n",
    "print(\"Intercambiamos el valor de 'a' por el de 'b' y el de 'b' por el de 'a...\");print(\"\")\n",
    "b,a = a,b\n",
    "print(\"Después del cambio a = \",a)\n",
    "print(\"Despuès del cambio b = \",b)"
   ]
  }
 ],
 "metadata": {
  "kernelspec": {
   "display_name": "Python 3 (ipykernel)",
   "language": "python",
   "name": "python3"
  },
  "language_info": {
   "codemirror_mode": {
    "name": "ipython",
    "version": 3
   },
   "file_extension": ".py",
   "mimetype": "text/x-python",
   "name": "python",
   "nbconvert_exporter": "python",
   "pygments_lexer": "ipython3",
   "version": "3.12.1"
  }
 },
 "nbformat": 4,
 "nbformat_minor": 5
}

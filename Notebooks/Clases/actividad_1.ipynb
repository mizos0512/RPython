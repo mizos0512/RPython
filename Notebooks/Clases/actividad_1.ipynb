{
 "cells": [
  {
   "cell_type": "markdown",
   "id": "d58e1ad7-7bdb-4127-a8e9-d7f2e6c6af84",
   "metadata": {},
   "source": [
    "##Asigna un valor entero 2001 a la variable space_odyssey y muestra su valor"
   ]
  },
  {
   "cell_type": "code",
   "execution_count": 8,
   "id": "be45af4e-e3b6-4a6a-ab8c-f4a559232a3b",
   "metadata": {},
   "outputs": [
    {
     "name": "stdout",
     "output_type": "stream",
     "text": [
      "2001\n"
     ]
    }
   ],
   "source": [
    "space_odyssey=2001\n",
    "print(space_odyssey)"
   ]
  },
  {
   "cell_type": "markdown",
   "id": "cd564dde-4745-4d84-aaf5-694c78e2baf2",
   "metadata": {},
   "source": [
    "##Descubre el tipo del literal 'Good nigth & Good luck'"
   ]
  },
  {
   "cell_type": "code",
   "execution_count": 9,
   "id": "cef81845-dc52-4c86-963b-f55f2a987653",
   "metadata": {},
   "outputs": [
    {
     "name": "stdout",
     "output_type": "stream",
     "text": [
      "<class 'str'>\n"
     ]
    }
   ],
   "source": [
    "print(type('Good night & Good luck'))"
   ]
  },
  {
   "cell_type": "markdown",
   "id": "52982565-e5c9-48e4-9417-cb196b91a842",
   "metadata": {},
   "source": [
    "##Identifica el tipo del lteral True"
   ]
  },
  {
   "cell_type": "code",
   "execution_count": 10,
   "id": "9beb7358-1ce5-4000-9dc7-3f4c2ad192d2",
   "metadata": {},
   "outputs": [
    {
     "name": "stdout",
     "output_type": "stream",
     "text": [
      "<class 'bool'>\n"
     ]
    }
   ],
   "source": [
    "print(type(True))"
   ]
  },
  {
   "cell_type": "markdown",
   "id": "d3a96ea5-6f68-41c5-ba27-e2edfff5cd28",
   "metadata": {},
   "source": [
    "##Asigna la expresión 10*3.0 a la variable result y muestra su tipo "
   ]
  },
  {
   "cell_type": "code",
   "execution_count": 11,
   "id": "f562af35-60e3-41c0-a104-91b2623f7b85",
   "metadata": {},
   "outputs": [
    {
     "name": "stdout",
     "output_type": "stream",
     "text": [
      "El resultado de result es 30.0\n",
      "y es de tipo <class 'float'>\n"
     ]
    }
   ],
   "source": [
    "result=10*3.0\n",
    "print(\"El resultado de result es\", result)\n",
    "print(\"y es de tipo\",type(result))"
   ]
  },
  {
   "cell_type": "markdown",
   "id": "b04ee169-7f14-4921-bf74-f1109fade32d",
   "metadata": {},
   "source": [
    "##Operaando con una variable numerica"
   ]
  },
  {
   "cell_type": "code",
   "execution_count": 12,
   "id": "e9a67ba7-686b-4557-a12f-086c4a8d3988",
   "metadata": {},
   "outputs": [
    {
     "data": {
      "text/plain": [
       "4"
      ]
     },
     "execution_count": 12,
     "metadata": {},
     "output_type": "execute_result"
    }
   ],
   "source": [
    "x=3\n",
    "x+1"
   ]
  },
  {
   "cell_type": "code",
   "execution_count": 13,
   "id": "abb6bead-cd8e-4b6f-87fd-c7a635de7743",
   "metadata": {},
   "outputs": [
    {
     "data": {
      "text/plain": [
       "4"
      ]
     },
     "execution_count": 13,
     "metadata": {},
     "output_type": "execute_result"
    }
   ],
   "source": [
    "y=x+1\n",
    "y"
   ]
  },
  {
   "cell_type": "code",
   "execution_count": 14,
   "id": "a5d64265-e26f-4254-a470-2b62ddb82c75",
   "metadata": {},
   "outputs": [
    {
     "data": {
      "text/plain": [
       "4"
      ]
     },
     "execution_count": 14,
     "metadata": {},
     "output_type": "execute_result"
    }
   ],
   "source": [
    "x=x+1\n",
    "x"
   ]
  },
  {
   "cell_type": "code",
   "execution_count": 17,
   "id": "363bb8ee-df2d-48f7-84a0-c1591c52f3b5",
   "metadata": {},
   "outputs": [
    {
     "data": {
      "text/plain": [
       "7"
      ]
     },
     "execution_count": 17,
     "metadata": {},
     "output_type": "execute_result"
    }
   ],
   "source": [
    "x=7\n",
    "x"
   ]
  },
  {
   "cell_type": "code",
   "execution_count": 18,
   "id": "d64eb260-c7ca-479d-93e6-0da451454d0e",
   "metadata": {},
   "outputs": [
    {
     "data": {
      "text/plain": [
       "9"
      ]
     },
     "execution_count": 18,
     "metadata": {},
     "output_type": "execute_result"
    }
   ],
   "source": [
    "x+=2\n",
    "x"
   ]
  },
  {
   "cell_type": "markdown",
   "id": "1cb2caa6-f4af-4582-9716-ba2e781f9b2d",
   "metadata": {},
   "source": [
    "##Trabajando con Strings"
   ]
  },
  {
   "cell_type": "code",
   "execution_count": 19,
   "id": "499c7fb0-e724-409a-b18e-f35f3e81ed1f",
   "metadata": {},
   "outputs": [
    {
     "data": {
      "text/plain": [
       "'Hola'"
      ]
     },
     "execution_count": 19,
     "metadata": {},
     "output_type": "execute_result"
    }
   ],
   "source": [
    "saludo=\"Hola\"\n",
    "saludo"
   ]
  },
  {
   "cell_type": "code",
   "execution_count": 24,
   "id": "a6df658c-6de1-4049-a8fb-034f27eeb6c5",
   "metadata": {},
   "outputs": [
    {
     "name": "stdout",
     "output_type": "stream",
     "text": [
      "La frase es¡Hola mundo! y  la letra es x\n"
     ]
    }
   ],
   "source": [
    "frase=\"¡Hola mundo!\"\n",
    "letra=\"x\"\n",
    "print(\"La frase es{} y  la letra es {}\".format(frase, letra))"
   ]
  },
  {
   "cell_type": "code",
   "execution_count": 25,
   "id": "adbc6db3-d33f-41f6-bb53-7325deb5100d",
   "metadata": {},
   "outputs": [
    {
     "name": "stdout",
     "output_type": "stream",
     "text": [
      "Esto es un string\n"
     ]
    }
   ],
   "source": [
    "a=\"Esto es un string\"\n",
    "b=a\n",
    "print(b)"
   ]
  },
  {
   "cell_type": "code",
   "execution_count": 26,
   "id": "e92ba7da-aff0-451e-a1ca-744bdc9651e1",
   "metadata": {},
   "outputs": [
    {
     "name": "stdout",
     "output_type": "stream",
     "text": [
      "Con comillas_simples = Esto es un String\n",
      "Con comillas_dobles = Esto es un String\n"
     ]
    }
   ],
   "source": [
    "comillas_simples='Esto es un String'\n",
    "comillas_dobles=\"Esto es un String\"\n",
    "print(\"Con comillas_simples = {}\".format(comillas_simples))\n",
    "print(\"Con comillas_dobles = {}\".format(comillas_dobles))\n",
    "\n"
   ]
  },
  {
   "cell_type": "markdown",
   "id": "34f1f7f9-85a5-4a95-82e6-172634d12580",
   "metadata": {},
   "source": [
    "##Saltos de lineas\n",
    "El caracter \\n es un salto de línea"
   ]
  },
  {
   "cell_type": "code",
   "execution_count": 27,
   "id": "4c336beb-090b-4f7f-a5e0-51df298363c9",
   "metadata": {},
   "outputs": [
    {
     "name": "stdout",
     "output_type": "stream",
     "text": [
      "Hola\n",
      "a\n",
      "todos\n"
     ]
    }
   ],
   "source": [
    "saltos = \"Hola\\na\\ntodos\"\n",
    "print(saltos)"
   ]
  },
  {
   "cell_type": "code",
   "execution_count": 29,
   "id": "97464e70-c8f3-448c-be1d-c6a954c1f777",
   "metadata": {},
   "outputs": [
    {
     "name": "stdout",
     "output_type": "stream",
     "text": [
      "¡Hello\n",
      "World!\n"
     ]
    }
   ],
   "source": [
    "print(\"¡Hello\\nWorld!\")"
   ]
  },
  {
   "cell_type": "markdown",
   "id": "a06e46bd-0b5e-412d-b81e-e9c3030a50ec",
   "metadata": {},
   "source": [
    "##Tabulador Horizontal es con \\t"
   ]
  },
  {
   "cell_type": "code",
   "execution_count": 30,
   "id": "42e1a58f-b7cf-4067-a0ec-f76d6c66ff51",
   "metadata": {},
   "outputs": [
    {
     "name": "stdout",
     "output_type": "stream",
     "text": [
      "¡Hello\tWorld!\n"
     ]
    }
   ],
   "source": [
    "print(\"¡Hello\\tWorld!\")"
   ]
  },
  {
   "cell_type": "code",
   "execution_count": 31,
   "id": "4a32fd5a-ce5f-4362-a484-13a0471bdd39",
   "metadata": {},
   "outputs": [
    {
     "name": "stdout",
     "output_type": "stream",
     "text": [
      "Himanchu\n",
      "\tDAVV\n",
      "\t\tIndore\n"
     ]
    }
   ],
   "source": [
    "print(\"Himanchu\\n\\tDAVV\\n\\t\\tIndore\")"
   ]
  },
  {
   "cell_type": "code",
   "execution_count": 32,
   "id": "ef5de763-dd5b-44b1-91e9-a862fe2398b3",
   "metadata": {},
   "outputs": [
    {
     "name": "stdout",
     "output_type": "stream",
     "text": [
      "*\n",
      "**\n",
      "***\n"
     ]
    }
   ],
   "source": [
    "print(\"*\\n**\\n***\")"
   ]
  },
  {
   "cell_type": "code",
   "execution_count": 34,
   "id": "58213f95-6542-4d76-acf9-c4cf94f9d5d5",
   "metadata": {},
   "outputs": [
    {
     "name": "stdout",
     "output_type": "stream",
     "text": [
      "    *\n",
      "*\t*\n",
      "    *\n"
     ]
    }
   ],
   "source": [
    "print(\"    *\\n*\\t*\\n    *\")"
   ]
  },
  {
   "cell_type": "markdown",
   "id": "56ef0549-503b-428d-b9bc-65d93f2cfe2d",
   "metadata": {},
   "source": [
    "##Constantes\n",
    "En Python la declaración de constantes consiste en poner el texto de declaracion en mayuscula\n",
    "Ponemos a continuación algunos ejemplos de declaración de constantes"
   ]
  },
  {
   "cell_type": "code",
   "execution_count": null,
   "id": "3a67a985-2fef-493f-af30-58f2b15165cd",
   "metadata": {},
   "outputs": [],
   "source": [
    "IVA = 0.18\n",
    "NUMERO_PI = 3.1415927\n",
    "SOUND_SPEED = 343.2\n",
    "WATER_DENSITY = 997\n",
    "EARTH_NAME = 'La Tierra'"
   ]
  },
  {
   "cell_type": "markdown",
   "id": "84af80ab-e654-4686-8641-abde3d9fe575",
   "metadata": {},
   "source": [
    "##String y metodos asociados"
   ]
  },
  {
   "cell_type": "markdown",
   "id": "0369132d-c4cb-4217-896f-573f3cf7c7c1",
   "metadata": {},
   "source": [
    "El signo de '+'"
   ]
  },
  {
   "cell_type": "code",
   "execution_count": 35,
   "id": "774220d3-04a3-45ab-9830-d14f3aae5a1e",
   "metadata": {},
   "outputs": [
    {
     "name": "stdout",
     "output_type": "stream",
     "text": [
      "Hola Mundo\n"
     ]
    }
   ],
   "source": [
    "a = 'Hola'\n",
    "b = 'Mundo'\n",
    "print(a+' '+b)"
   ]
  },
  {
   "cell_type": "markdown",
   "id": "048b5137-bc79-4648-b636-cd0ea3070ecc",
   "metadata": {},
   "source": [
    "Cuando Python usa el signo '+' en cadenas interpreta el numero como cadena de caracter y lo concatena"
   ]
  },
  {
   "cell_type": "code",
   "execution_count": 36,
   "id": "0f7895d3-40f2-47c5-aa3c-8d4913eb844d",
   "metadata": {},
   "outputs": [
    {
     "name": "stdout",
     "output_type": "stream",
     "text": [
      "7234\n"
     ]
    }
   ],
   "source": [
    "a = '72'\n",
    "b = '34'\n",
    "print(a+b)"
   ]
  },
  {
   "cell_type": "markdown",
   "id": "660642f0-bfe3-46f8-9859-9805780609ad",
   "metadata": {},
   "source": [
    "En los String el '+' sencillamente concatena"
   ]
  },
  {
   "cell_type": "code",
   "execution_count": 37,
   "id": "5ccab314-7db4-4fcc-a020-7b6a7ed4cf60",
   "metadata": {},
   "outputs": [
    {
     "name": "stdout",
     "output_type": "stream",
     "text": [
      "Mi nombre es Carlos Santana\n"
     ]
    }
   ],
   "source": [
    "nombre = 'Carlos'\n",
    "apellido = 'Santana'\n",
    "print('Mi nombre es {} {}'.format(nombre, apellido))"
   ]
  },
  {
   "cell_type": "code",
   "execution_count": 38,
   "id": "f83a9867-561f-409c-815e-905f4d008f79",
   "metadata": {},
   "outputs": [
    {
     "name": "stdout",
     "output_type": "stream",
     "text": [
      "Mi nombre es Carlos Santana\n"
     ]
    }
   ],
   "source": [
    "print('Mi nombre es'+' '+nombre+' '+apellido)"
   ]
  },
  {
   "cell_type": "markdown",
   "id": "2e819efb-93fd-4c7c-a3d2-79663d363f7e",
   "metadata": {},
   "source": [
    "Funcion count(). Permite contar la cantidad de ocurrencias de un caracter dentro de un texto"
   ]
  },
  {
   "cell_type": "code",
   "execution_count": 39,
   "id": "f757addb-c562-4311-b23a-c4ae298aab4f",
   "metadata": {},
   "outputs": [
    {
     "name": "stdout",
     "output_type": "stream",
     "text": [
      "3\n"
     ]
    }
   ],
   "source": [
    "print(apellido.count('a'))"
   ]
  },
  {
   "cell_type": "markdown",
   "id": "59793033-218b-4c45-aeea-53c82d347583",
   "metadata": {},
   "source": [
    "La función len() permite contar la cantidad de caracteres de un texto "
   ]
  },
  {
   "cell_type": "code",
   "execution_count": 40,
   "id": "4ed1231b-c047-4677-bc29-2f4dc241915d",
   "metadata": {},
   "outputs": [
    {
     "name": "stdout",
     "output_type": "stream",
     "text": [
      "7\n"
     ]
    }
   ],
   "source": [
    "print(len(apellido))"
   ]
  },
  {
   "cell_type": "markdown",
   "id": "7c529911-10f8-452a-9d7b-2ffebd488eb8",
   "metadata": {},
   "source": [
    "La función upper() convierte a mayuscula un texto"
   ]
  },
  {
   "cell_type": "code",
   "execution_count": 41,
   "id": "6a906211-f826-427e-9a15-e40c41fcbdac",
   "metadata": {},
   "outputs": [
    {
     "name": "stdout",
     "output_type": "stream",
     "text": [
      "SANTANA\n"
     ]
    }
   ],
   "source": [
    "print(apellido.upper())"
   ]
  },
  {
   "cell_type": "markdown",
   "id": "451922db-d817-4268-a758-c17f1f9289d5",
   "metadata": {},
   "source": [
    "La clausa import permite importar liberias de trabajo para Python"
   ]
  },
  {
   "cell_type": "code",
   "execution_count": 43,
   "id": "9e44077e-6092-44ce-a40c-d75cd6a428b6",
   "metadata": {},
   "outputs": [
    {
     "name": "stdout",
     "output_type": "stream",
     "text": [
      "EL área del circulo con diametro = 25 es de 19.63\n"
     ]
    }
   ],
   "source": [
    "import math as mt\n",
    "# Vamos a determinar el área de un círculo\n",
    "diametro = 25\n",
    "area = diametro/2**2*mt.pi\n",
    "print(\"EL área del circulo con diametro = {} es de {:.2f}\".format(diametro, area))\n"
   ]
  },
  {
   "cell_type": "code",
   "execution_count": null,
   "id": "ba4f8a2b-d758-4a5c-a867-1b7f4994dac9",
   "metadata": {},
   "outputs": [],
   "source": []
  }
 ],
 "metadata": {
  "kernelspec": {
   "display_name": "Python 3 (ipykernel)",
   "language": "python",
   "name": "python3"
  },
  "language_info": {
   "codemirror_mode": {
    "name": "ipython",
    "version": 3
   },
   "file_extension": ".py",
   "mimetype": "text/x-python",
   "name": "python",
   "nbconvert_exporter": "python",
   "pygments_lexer": "ipython3",
   "version": "3.11.9"
  }
 },
 "nbformat": 4,
 "nbformat_minor": 5
}

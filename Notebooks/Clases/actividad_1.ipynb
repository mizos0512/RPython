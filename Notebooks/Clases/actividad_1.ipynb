{
 "cells": [
  {
   "cell_type": "markdown",
   "id": "d58e1ad7-7bdb-4127-a8e9-d7f2e6c6af84",
   "metadata": {},
   "source": [
    "##Asigna un valor entero 2001 a la variable space_odyssey y muestra su valor"
   ]
  },
  {
   "cell_type": "code",
   "execution_count": 8,
   "id": "be45af4e-e3b6-4a6a-ab8c-f4a559232a3b",
   "metadata": {},
   "outputs": [
    {
     "name": "stdout",
     "output_type": "stream",
     "text": [
      "2001\n"
     ]
    }
   ],
   "source": [
    "space_odyssey=2001\n",
    "print(space_odyssey)"
   ]
  },
  {
   "cell_type": "markdown",
   "id": "cd564dde-4745-4d84-aaf5-694c78e2baf2",
   "metadata": {},
   "source": [
    "##Descubre el tipo del literal 'Good nigth & Good luck'"
   ]
  },
  {
   "cell_type": "code",
   "execution_count": 9,
   "id": "cef81845-dc52-4c86-963b-f55f2a987653",
   "metadata": {},
   "outputs": [
    {
     "name": "stdout",
     "output_type": "stream",
     "text": [
      "<class 'str'>\n"
     ]
    }
   ],
   "source": [
    "print(type('Good night & Good luck'))"
   ]
  },
  {
   "cell_type": "markdown",
   "id": "52982565-e5c9-48e4-9417-cb196b91a842",
   "metadata": {},
   "source": [
    "##Identifica el tipo del lteral True"
   ]
  },
  {
   "cell_type": "code",
   "execution_count": 10,
   "id": "9beb7358-1ce5-4000-9dc7-3f4c2ad192d2",
   "metadata": {},
   "outputs": [
    {
     "name": "stdout",
     "output_type": "stream",
     "text": [
      "<class 'bool'>\n"
     ]
    }
   ],
   "source": [
    "print(type(True))"
   ]
  },
  {
   "cell_type": "markdown",
   "id": "d3a96ea5-6f68-41c5-ba27-e2edfff5cd28",
   "metadata": {},
   "source": [
    "##Asigna la expresión 10*3.0 a la variable result y muestra su tipo "
   ]
  },
  {
   "cell_type": "code",
   "execution_count": 11,
   "id": "f562af35-60e3-41c0-a104-91b2623f7b85",
   "metadata": {},
   "outputs": [
    {
     "name": "stdout",
     "output_type": "stream",
     "text": [
      "El resultado de result es 30.0\n",
      "y es de tipo <class 'float'>\n"
     ]
    }
   ],
   "source": [
    "result=10*3.0\n",
    "print(\"El resultado de result es\", result)\n",
    "print(\"y es de tipo\",type(result))"
   ]
  }
 ],
 "metadata": {
  "kernelspec": {
   "display_name": "Python 3 (ipykernel)",
   "language": "python",
   "name": "python3"
  },
  "language_info": {
   "codemirror_mode": {
    "name": "ipython",
    "version": 3
   },
   "file_extension": ".py",
   "mimetype": "text/x-python",
   "name": "python",
   "nbconvert_exporter": "python",
   "pygments_lexer": "ipython3",
   "version": "3.11.9"
  }
 },
 "nbformat": 4,
 "nbformat_minor": 5
}

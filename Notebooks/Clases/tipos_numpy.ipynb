{
 "cells": [
  {
   "cell_type": "markdown",
   "metadata": {},
   "source": [
    "ENTEROS"
   ]
  },
  {
   "cell_type": "markdown",
   "metadata": {},
   "source": [
    "Cuando introduces un entero de Python en NumPy, este se convierte en un tipo nativo de NumPy llamado np.int32 (o np.int64, dependiendo del sistema operativo, la versión de Python y la magnitud de los inicializadores):"
   ]
  },
  {
   "cell_type": "code",
   "execution_count": 3,
   "metadata": {},
   "outputs": [
    {
     "name": "stdout",
     "output_type": "stream",
     "text": [
      "int32\n"
     ]
    }
   ],
   "source": [
    "import numpy as np\n",
    "\n",
    "arr=np.array([1, 2, 3]).dtype\n",
    "print(arr)"
   ]
  },
  {
   "cell_type": "markdown",
   "metadata": {},
   "source": [
    "NumPy funciona mejor cuando el ancho de los elementos del array es fijo. Es más rápido y consume menos memoria, pero a diferencia de un entero ordinario de Python (que trabaja con aritmética de precisión arbitraria), los valores de un array se desbordarán cuando superen el valor máximo (o mínimo) para el tipo de dato correspondiente:\n",
    "\n",
    "Los enteros con signo se desbordan silenciosamente en este momento, pero no hay garantía de que siempre lo hagan. El prefijo 'u' significa 'sin signo'"
   ]
  },
  {
   "cell_type": "code",
   "execution_count": 89,
   "metadata": {},
   "outputs": [
    {
     "name": "stdout",
     "output_type": "stream",
     "text": [
      "arr= [0] (dtype = uint8)\n",
      "arr1= [2147483647] (dtype = int32)\n",
      "arr2= [-2147483648] (dtype = int32)\n",
      "arr3= [-9223372036854775808] (dtype = int64)\n"
     ]
    }
   ],
   "source": [
    "import numpy as np\n",
    "\n",
    "arr = np.array([255], np.uint8) + 1 # 2**8-1 es el Entero màximo para uint8\n",
    "print(f\"arr= {arr} (dtype = uint8)\") # dtype=uint8\n",
    "\n",
    "arr1 = np.array([2**31-1]) #2**31-1 is el Entero máximo para int32\n",
    "print(f\"arr1= {arr1} (dtype = int32)\") # dtype= int32\n",
    "\n",
    "arr2 = np.array([2**31-1]) + 1 # o np.array([2**31-1], np.int32)+1 en linux\n",
    "print(f\"arr2= {arr2} (dtype = int32)\") # dtype= int32\n",
    "\n",
    "arr3 = np.array([2**63-1]) + 1 # siempre np.int64 since v > 2**32-1\n",
    "print(f\"arr3= {arr3} (dtype = int64)\") # dtype= int64"
   ]
  },
  {
   "cell_type": "markdown",
   "metadata": {},
   "source": [
    "Un tipo más amplio, y si no existe, lanza una advertencia de desbordamiento (para evitar inundar la salida con advertencias — solo una vez):"
   ]
  },
  {
   "cell_type": "code",
   "execution_count": 21,
   "metadata": {},
   "outputs": [
    {
     "name": "stdout",
     "output_type": "stream",
     "text": [
      "arr= 256\n",
      "arr1= -2147483648\n",
      "arr2= -9223372036854775808\n"
     ]
    },
    {
     "name": "stderr",
     "output_type": "stream",
     "text": [
      "C:\\Users\\REY\\AppData\\Local\\Temp\\ipykernel_17740\\3644953772.py:6: RuntimeWarning: overflow encountered in scalar add\n",
      "  arr1=np.array([2**31-1]) [0] +1 # Cuidado!\n",
      "C:\\Users\\REY\\AppData\\Local\\Temp\\ipykernel_17740\\3644953772.py:9: RuntimeWarning: overflow encountered in scalar add\n",
      "  arr2=np.array([2**63-1]) [0] + 1 # ok, advertido!\n"
     ]
    }
   ],
   "source": [
    "import numpy as np\n",
    "\n",
    "arr=np.array([255], np.uint8) [0] + 1 # ok, promovido a int32(win)/int64(linux)\n",
    "print(f\"arr= {arr}\") \n",
    "\n",
    "arr1=np.array([2**31-1]) [0] +1 # Cuidado!\n",
    "print(f\"arr1= {arr1}\") \n",
    "\n",
    "arr2=np.array([2**63-1]) [0] + 1 # ok, advertido!\n",
    "print(f\"arr2= {arr2}\") "
   ]
  },
  {
   "cell_type": "markdown",
   "metadata": {},
   "source": [
    "Detección de los desbordamientos en 'escalares', conviertiendolo en error:"
   ]
  },
  {
   "cell_type": "code",
   "execution_count": 22,
   "metadata": {},
   "outputs": [
    {
     "ename": "FloatingPointError",
     "evalue": "overflow encountered in scalar add",
     "output_type": "error",
     "traceback": [
      "\u001b[1;31m---------------------------------------------------------------------------\u001b[0m",
      "\u001b[1;31mFloatingPointError\u001b[0m                        Traceback (most recent call last)",
      "Cell \u001b[1;32mIn[22], line 4\u001b[0m\n\u001b[0;32m      1\u001b[0m \u001b[38;5;28;01mimport\u001b[39;00m \u001b[38;5;21;01mnumpy\u001b[39;00m \u001b[38;5;28;01mas\u001b[39;00m \u001b[38;5;21;01mnp\u001b[39;00m\n\u001b[0;32m      3\u001b[0m \u001b[38;5;28;01mwith\u001b[39;00m np\u001b[38;5;241m.\u001b[39merrstate(over\u001b[38;5;241m=\u001b[39m\u001b[38;5;124m'\u001b[39m\u001b[38;5;124mraise\u001b[39m\u001b[38;5;124m'\u001b[39m):\n\u001b[1;32m----> 4\u001b[0m     \u001b[38;5;28mprint\u001b[39m(\u001b[43mnp\u001b[49m\u001b[38;5;241;43m.\u001b[39;49m\u001b[43marray\u001b[49m\u001b[43m(\u001b[49m\u001b[43m[\u001b[49m\u001b[38;5;241;43m2\u001b[39;49m\u001b[38;5;241;43m*\u001b[39;49m\u001b[38;5;241;43m*\u001b[39;49m\u001b[38;5;241;43m31\u001b[39;49m\u001b[38;5;241;43m-\u001b[39;49m\u001b[38;5;241;43m1\u001b[39;49m\u001b[43m]\u001b[49m\u001b[43m)\u001b[49m\u001b[43m \u001b[49m\u001b[43m[\u001b[49m\u001b[38;5;241;43m0\u001b[39;49m\u001b[43m]\u001b[49m\u001b[43m \u001b[49m\u001b[38;5;241;43m+\u001b[39;49m\u001b[43m \u001b[49m\u001b[38;5;241;43m1\u001b[39;49m)    \n",
      "\u001b[1;31mFloatingPointError\u001b[0m: overflow encountered in scalar add"
     ]
    }
   ],
   "source": [
    "import numpy as np\n",
    "\n",
    "with np.errstate(over='raise'):\n",
    "    print(np.array([2**31-1]) [0] + 1)   \n",
    "\n",
    "# Lanza un error con el mensaje: \n",
    "# FloatingPointError: Se encontró desbordamiento en la suma escalar     "
   ]
  },
  {
   "cell_type": "markdown",
   "metadata": {},
   "source": [
    "Se puede suprimir temporalmente:"
   ]
  },
  {
   "cell_type": "code",
   "execution_count": 23,
   "metadata": {},
   "outputs": [
    {
     "name": "stdout",
     "output_type": "stream",
     "text": [
      "-2147483648\n"
     ]
    }
   ],
   "source": [
    "import numpy as np\n",
    "\n",
    "with np.errstate(over='ignore'):\n",
    "    print(np.array([2**31-1]) [0] + 1)   "
   ]
  },
  {
   "cell_type": "markdown",
   "metadata": {},
   "source": [
    "O completamente:"
   ]
  },
  {
   "cell_type": "code",
   "execution_count": 31,
   "metadata": {},
   "outputs": [],
   "source": [
    "import numpy as np\n",
    "import warnings as warn\n",
    "\n",
    "warn.filterwarnings('ignore','overflow')"
   ]
  },
  {
   "cell_type": "markdown",
   "metadata": {},
   "source": [
    "NumPy incluye alias al estilo de C:\n",
    "np.byte = np.int8\n",
    "np.int16 = np.intc\n",
    "np.int = np.int32 en Windows 64 bits pero es np.int64 en linux/MacOS de 64 bits\n",
    "np.intp = np.int32 en Python de 32 bits pero = np.int64 en Python de 64 bits"
   ]
  },
  {
   "cell_type": "markdown",
   "metadata": {},
   "source": [
    "Finalmente, si por alguna razón necesitas enteros de precisión arbitraria (enteros de Python) en ndarrays, NumPy también es capaz de hacerlo."
   ]
  },
  {
   "cell_type": "code",
   "execution_count": 32,
   "metadata": {},
   "outputs": [
    {
     "name": "stdout",
     "output_type": "stream",
     "text": [
      "1003\n"
     ]
    }
   ],
   "source": [
    "import numpy as np\n",
    "\n",
    "a = np.array([10], dtype=object)\n",
    "print(len(str(a**1000)))               # '[1000 ... 0]'"
   ]
  },
  {
   "cell_type": "markdown",
   "metadata": {},
   "source": [
    "Pero sin la mejora habitual en velocidad, ya que almacenará referencias en lugar de los números mismos, mantendrá la conversión de objetos Python al procesar, etc."
   ]
  },
  {
   "cell_type": "markdown",
   "metadata": {},
   "source": [
    "FLOATs"
   ]
  },
  {
   "cell_type": "markdown",
   "metadata": {},
   "source": [
    "El tipo 'float' de Python es directamente compatible con 'np.float64' y el tipo 'complex' de Python — con 'np.complex128'.\n",
    "\n",
    "Dos definiciones alternativas dan 15 y 17 dígitos para 'np.float64', 6 y 9 para 'np.float32', etc.\n",
    "\n",
    "A día de hoy, 'np.float128' está disponible únicamente en Unix (no disponible en Windows)."
   ]
  },
  {
   "cell_type": "code",
   "execution_count": 33,
   "metadata": {},
   "outputs": [
    {
     "name": "stdout",
     "output_type": "stream",
     "text": [
      "[0.]\n"
     ]
    }
   ],
   "source": [
    "import numpy as np\n",
    "\n",
    "x = np.array([-1234.5])\n",
    "y = 1/(1 + np.exp(-x))\n",
    "\n",
    "print(y)"
   ]
  },
  {
   "cell_type": "markdown",
   "metadata": {},
   "source": [
    "Lo que esta advertencia intenta decirte es que NumPy es consciente de que matemáticamente hablando, 1/(1+exp(-x)) nunca puede ser cero, pero en este caso particular, debido a un desbordamiento, lo es."
   ]
  },
  {
   "cell_type": "markdown",
   "metadata": {},
   "source": [
    "Estas advertencias pueden ser \"promovidas\" a excepciones o silenciadas mediante 'errstate' o 'filterwarnings', como se describe en la sección de 'enteros' anteriormente —y quizás para este caso particular eso sería suficiente— pero si realmente deseas obtener el valor exacto puedes seleccionar un 'dtype' más amplio:"
   ]
  },
  {
   "cell_type": "markdown",
   "metadata": {},
   "source": [
    "import numpy as np\n",
    "\n",
    "x = np.array([-1234.5], dtype = float128)\n",
    "y = 1/(1 + np.exp(-x))\n",
    "\n",
    "qrray([7.30234068e-537], dtype = float128)\n",
    "\n",
    "-- np.float128 está solo disponible en linux/MAcOS, no en Windows\n",
    "\n",
    "Una de las cosas que distinguen a los Floats de los enteros es que son 'inexactos', no se pueden comparar dos floats con 'a==b' a menos que  estés seguro de que están representados exactamente.\n",
    "Puedes esperar que los floats representen exactamente los enteros, pero solo hasta cierto nivel (limitado por el número de dígitos significativos):"
   ]
  },
  {
   "cell_type": "markdown",
   "metadata": {},
   "source": [
    "El enfoque estándar para manejar este problema (así como la segunda fuente de inexactitud: el redondeo de los resultados de los cálculos) es compararlos con una tolerancia relativa (para comparar dos argumentos distintos de cero) y una tolerancia absoluta (si uno de los argumentos es cero). Para escalares, se maneja con 'math.isclose(a, b, *, rel_tol=1e-09, abs_tol=0.0)', y para arrays de NumPy existe una versión vectorizada 'np.isclose(a, b, rtol=1e-05, atol=1e-08)'. Es importante notar que las tolerancias tienen nombres y valores predeterminados diferentes."
   ]
  },
  {
   "cell_type": "markdown",
   "metadata": {},
   "source": [
    "Para datos financieros, el tipo 'decimal.Decimal' es útil ya que no involucra ninguna tolerancia adicional en absoluto."
   ]
  },
  {
   "cell_type": "code",
   "execution_count": 40,
   "metadata": {},
   "outputs": [
    {
     "name": "stdout",
     "output_type": "stream",
     "text": [
      "[Decimal('0.1') Decimal('0.2')]\n",
      "La suma de los decimales es: 0.3\n"
     ]
    }
   ],
   "source": [
    "import numpy as np\n",
    "from decimal import Decimal as D\n",
    "\n",
    "a = np.array([D('0.1'), D('0.2')]); \n",
    "\n",
    "print(a)\n",
    "print(f\"La suma de los decimales es: {a.sum()}\")"
   ]
  },
  {
   "cell_type": "markdown",
   "metadata": {},
   "source": [
    "Pero no es una solución universal: también tiene errores de redondeo (ver fuente #2 arriba). El único problema que resuelve es la representación exacta de números decimales a la que los humanos están acostumbrados.\n",
    "Además, no soporta nada más complicado que operaciones aritméticas (aunque sí soporta logaritmos y raíces cuadradas) y es más lento que los floats. Para cálculos matemáticos puros se puede utilizar 'fractions.Fraction':"
   ]
  },
  {
   "cell_type": "code",
   "execution_count": 42,
   "metadata": {},
   "outputs": [
    {
     "name": "stdout",
     "output_type": "stream",
     "text": [
      "Crear fracciones\n",
      "----------------\n",
      "\n",
      "frac1 = Fraction(1, 2)  # Representa 1/2\n",
      "frac2 = Fraction(3, 4)  # Representa 3/4\n",
      "\n",
      "Suma: 5/4\n",
      "Resta: 1/4\n",
      "Multiplicación: 3/8\n",
      "División: 2/3\n",
      "Convertir a punto flotante: 0.5\n"
     ]
    }
   ],
   "source": [
    "from fractions import Fraction\n",
    "\n",
    "# Crear fracciones\n",
    "frac1 = Fraction(1, 2)  # Representa 1/2\n",
    "frac2 = Fraction(3, 4)  # Representa 3/4\n",
    "\n",
    "print(\"Crear fracciones\")\n",
    "print(\"----------------\")\n",
    "print()\n",
    "print(\"frac1 = Fraction(1, 2)  # Representa 1/2\")\n",
    "print(\"frac2 = Fraction(3, 4)  # Representa 3/4\")\n",
    "print()\n",
    "\n",
    "# Suma de fracciones\n",
    "suma = frac1 + frac2\n",
    "print(f\"Suma: {suma}\")  # Output: Suma: 5/4\n",
    "\n",
    "# Resta de fracciones\n",
    "resta = frac2 - frac1\n",
    "print(f\"Resta: {resta}\")  # Output: Resta: 1/4\n",
    "\n",
    "# Multiplicación de fracciones\n",
    "multiplicacion = frac1 * frac2\n",
    "print(f\"Multiplicación: {multiplicacion}\")  # Output: Multiplicación: 3/8\n",
    "\n",
    "# División de fracciones\n",
    "division = frac1 / frac2\n",
    "print(f\"División: {division}\")  # Output: División: 2/3\n",
    "\n",
    "# Convertir fracción a punto flotante\n",
    "flotante = float(frac1)\n",
    "print(f\"Convertir a punto flotante: {flotante}\")  # Output: Convertir a punto flotante: 0.5"
   ]
  },
  {
   "cell_type": "markdown",
   "metadata": {},
   "source": [
    "Se pueden representar cualquier número 'racional' excepto 'PI' y 'e', para manipular estas constantes 'irracionales' debes usar: SymPy\n",
    "\n",
    "Tanto Decimal como Fraction no son tipos nativos para NumPy, pero NumPy es capaz de trabajar con ellos con todas las comodidades, como multidimensiones e indexación avanzada, aunque a costa de una velocidad de procesamiento más lenta que la de los tipos nativos int S o float S. "
   ]
  },
  {
   "cell_type": "markdown",
   "metadata": {},
   "source": [
    "Los números complejos se tratan de la misma manera que los floats. Hay funciones adicionales con nombres intuitivos como 'np.real(z)', 'np.imag(z)', 'np.abs(z)', 'np.angle(z)' que funcionan tanto en escalares como en matrices completas.\n",
    "\n",
    "La única diferencia con el complejo puro de Python, 'np.complex_', es que no funciona con enteros:"
   ]
  },
  {
   "cell_type": "code",
   "execution_count": 43,
   "metadata": {},
   "outputs": [
    {
     "name": "stdout",
     "output_type": "stream",
     "text": [
      "[1.+2.j]\n"
     ]
    }
   ],
   "source": [
    "import numpy as np\n",
    "\n",
    "x = np.array([1 + 2j])              # .dtype == np.complex128\n",
    "\n",
    "print(x)"
   ]
  },
  {
   "cell_type": "markdown",
   "metadata": {},
   "source": [
    "Al igual que con los enteros, en arreglos de floats (y complejos) a veces es útil tratar ciertos valores como \"faltantes\". Los floats son más adecuados para almacenar datos anómalos: tienen un valor 'math.nan' (o 'np.nan' o 'float('nan')') que se puede almacenar junto con los valores numéricos \"válidos\".\n",
    "\n",
    "La mayoría de las funciones estadísticas comunes tienen una versión resistente a `nan` (como `np.nansum`, `np.nanstd`, etc.), pero otras operaciones en esa columna o arreglo requerirían prefiltrado. "
   ]
  },
  {
   "cell_type": "markdown",
   "metadata": {},
   "source": [
    "También los nombres 'float96' / 'float128' son algo engañosos. En realidad, bajo la capucha no es '__float128', sino lo que sea que 'longdouble' signifique en la implementación local de C++. \n",
    "\n",
    "Para una mejor portabilidad, se recomienda utilizar el alias 'np.longdouble' en lugar de 'np.float96` / 'np.float128', porque internamente es lo que se utilizará de todos modos."
   ]
  },
  {
   "cell_type": "markdown",
   "metadata": {},
   "source": [
    "BOOLs"
   ]
  },
  {
   "cell_type": "markdown",
   "metadata": {},
   "source": [
    "Los valores booleanos se almacenan como bytes individuales para mejorar el rendimiento. 'np.bool_' es un tipo separado del 'bool' de Python porque no necesita recuento de referencias ni un enlace a la clase base requerido para cualquier tipo puramente de Python. Entonces, si consideras que usar 8 bits para almacenar un bit de información es excesivo, mira esto:\n",
    "En escenarios del mundo real, la tasa es menor: al empaquetar booleanos de NumPy en un arreglo, cada uno ocupará 1 byte, pero si empaquetas booleanos de Python en una lista, referenciará los mismos dos valores cada vez, costando efectivamente 8 bytes por elemento en x86_64."
   ]
  },
  {
   "cell_type": "markdown",
   "metadata": {},
   "source": [
    "STRINGs"
   ]
  },
  {
   "cell_type": "markdown",
   "metadata": {},
   "source": [
    "Cuando inicializas un arreglo de NumPy con una lista de cadenas de Python, estas se almacenan en un dtype nativo fijo llamado 'np.str_'. Reservar un espacio necesario para que quepa la cadena más larga en cada elemento puede parecer derrochador (especialmente con la codificación fija UCS-4 en comparación con la elección 'dinámica' del ancho UTF en las cadenas de Python 'str')."
   ]
  },
  {
   "cell_type": "code",
   "execution_count": 46,
   "metadata": {},
   "outputs": [
    {
     "name": "stdout",
     "output_type": "stream",
     "text": [
      "['abcde' 'x' 'y' 'x']\n"
     ]
    }
   ],
   "source": [
    "import numpy as np\n",
    "\n",
    "x = np.array(['abcde','x','y','x'], dtype = '<U5')      # 4 bytes por un caracter\n",
    "                                                        # => 5*4 bytes por elemento\n",
    "\n",
    "print(x)  "
   ]
  },
  {
   "cell_type": "markdown",
   "metadata": {},
   "source": [
    "La abreviatura '<U4' proviene del llamado protocolo de arreglo introducido en 2005. Significa ‘Little-endian  USC-4 encoded string, de longitud 5 elementos' (USC-4≈UTF-32, una codificación de ancho fijo de 4 bytes por carácter). Cada tipo de NumPy tiene una abreviatura —tan difícil de leer como esta—, pero afortunadamente han adoptado nombres legibles por humanos al menos para los dtypes más utilizados."
   ]
  },
  {
   "cell_type": "markdown",
   "metadata": {},
   "source": [
    "Otra opción es mantener referencias a cadenas de Python ('str S') en un arreglo de objetos de NumPy:"
   ]
  },
  {
   "cell_type": "code",
   "execution_count": 90,
   "metadata": {},
   "outputs": [
    {
     "data": {
      "text/plain": [
       "array(['abcde', 'x', 'y', 'x'], dtype=object)"
      ]
     },
     "execution_count": 90,
     "metadata": {},
     "output_type": "execute_result"
    }
   ],
   "source": [
    "import numpy as np\n",
    "\n",
    "np.array(['abcde','x','y','x'], object)  # 4 bytes por caracter ascii\n",
    "                                         # => 49+len(el) por elemento"
   ]
  },
  {
   "cell_type": "markdown",
   "metadata": {},
   "source": [
    "Si estás trabajando con una secuencia bruta de bytes, NumPy tiene una versión de longitud fija del tipo bytes de Python llamada np.bytes_:"
   ]
  },
  {
   "cell_type": "code",
   "execution_count": 91,
   "metadata": {},
   "outputs": [
    {
     "data": {
      "text/plain": [
       "array([b'abcde', b'x', b'y', b'x'], dtype='|S5')"
      ]
     },
     "execution_count": 91,
     "metadata": {},
     "output_type": "execute_result"
    }
   ],
   "source": [
    "import numpy as np\n",
    "\n",
    "np.array([b'abcde',b'x',b'y',b'x'])     # 1 byte por caracter ascii\n",
    "                                            # => 5 byte por elemento\n",
    "                                            "
   ]
  },
  {
   "cell_type": "markdown",
   "metadata": {},
   "source": [
    "Aquí, |S5 significa 'secuencia de bytes de longitud 5 sin aplicabilidad de endianness'."
   ]
  },
  {
   "cell_type": "markdown",
   "metadata": {},
   "source": [
    "En cuanto a los tipos nativos 'np.str_' y 'np.bytes_', NumPy tiene varias operaciones comunes de cadenas. Estas reflejan los métodos de cadena de Python, residen en el módulo 'np.char' y operan sobre todo el array:"
   ]
  },
  {
   "cell_type": "code",
   "execution_count": 92,
   "metadata": {},
   "outputs": [
    {
     "data": {
      "text/plain": [
       "array([['A', 'B'],\n",
       "       ['C', 'D']], dtype='<U1')"
      ]
     },
     "execution_count": 92,
     "metadata": {},
     "output_type": "execute_result"
    }
   ],
   "source": [
    "import numpy as np\n",
    "\n",
    "np.char.upper(np.array([['a','b'],['c','d']]))\n"
   ]
  },
  {
   "cell_type": "markdown",
   "metadata": {},
   "source": [
    "En el caso de las cadenas en modo objeto, los bucles deben realizarse en el nivel de Python:"
   ]
  },
  {
   "cell_type": "code",
   "execution_count": 94,
   "metadata": {},
   "outputs": [
    {
     "data": {
      "text/plain": [
       "array([['A', 'B'],\n",
       "       ['C', 'D']], dtype=object)"
      ]
     },
     "execution_count": 94,
     "metadata": {},
     "output_type": "execute_result"
    }
   ],
   "source": [
    "import numpy as np\n",
    "\n",
    "a = np.array([['a','b'],['c','d']], object)\n",
    "np.vectorize(lambda x: x.upper(), otypes = [object]) (a)\n"
   ]
  },
  {
   "cell_type": "markdown",
   "metadata": {},
   "source": [
    "Primera Sentencia:\n",
    "a = np.array([['a', 'b'], ['c', 'd']], object)\n",
    "\n",
    "1. 'np.array': Esta función de NumPy crea un array a partir de la lista proporcionada.\n",
    "2. '[['a', 'b'], ['c', 'd']]': Es una lista de listas que representa una matriz de 2x2 con elementos de tipo cadena.\n",
    "3. 'object': Este argumento especifica que los elementos del array deben ser tratados como objetos de Python en lugar de utilizar un tipo de dato NumPy específico como 'np.int32' o 'np.float64'.\n",
    "\n",
    "Como resultado, 'a' será una matriz 2x2 donde cada elemento es un objeto de cadena:\n",
    "\n",
    "array([['a', 'b'],\n",
    "       ['c', 'd']], dtype=object)\n",
    "\n",
    "Segunda Sentencia:\n",
    "b = np.vectorize(lambda x: x.upper(), otypes=[object])(a)\n",
    "\n",
    "1. 'np.vectorize': Esta es una función de NumPy que toma una función de Python y devuelve una versión \"vectorizada\" de esa función. Esto significa que la función se puede aplicar a arrays de NumPy de manera elemento por elemento, como si estuviera trabajando con un bucle for en Python, pero de una manera que es más eficiente y se siente más natural en NumPy.\n",
    "2. 'lambda x: x.upper()': Esta es una función lambda que toma un argumento 'x' y devuelve 'x.upper()', que es el método para convertir cadenas a mayúsculas.\n",
    "3. 'otypes=[object]': Este argumento le dice a 'np.vectorize' que el tipo de salida de la función será un objeto. Esto es necesario porque estamos trabajando con cadenas, que son objetos en Python.\n",
    "4. '(a)': Esto aplica la función vectorizada a cada elemento del array 'a'.\n",
    "\n",
    "Como resultado, 'b' será un array donde cada elemento de 'a' ha sido convertido a mayúsculas:\n",
    "\n",
    "array([['A', 'B'],\n",
    "       ['C', 'D']], dtype=object)\n",
    "\n",
    "Explicación Paso a Paso:\n",
    "- Definición del array 'a': Se crea un array de NumPy con elementos de tipo cadena.\n",
    "- Vectorización de la función 'lambda x: x.upper()': Se utiliza 'np.vectorize' para permitir que esta función lambda sea aplicada a cada elemento del array de manera eficiente.\n",
    "- Aplicación de la función vectorizada a 'a': La función se aplica a cada elemento del array 'a', transformando cada letra minúscula en mayúscula y almacenando el resultado en 'b'.\n",
    "\n",
    "Este proceso convierte todos los caracteres del array original 'a' a mayúsculas y almacena el resultado en 'b'."
   ]
  },
  {
   "cell_type": "markdown",
   "metadata": {},
   "source": [
    "Según pruebas de rendimiento, las operaciones básicas funcionan algo más rápido con 'str' que con 'np.str'."
   ]
  },
  {
   "cell_type": "markdown",
   "metadata": {},
   "source": [
    "Una marca de tiempo, también conocida como tiempo Unix, representa el número de segundos transcurridos desde el 1 de enero de 1970. Puede contar el tiempo con una granularidad configurable, que va desde años hasta attosegundos, y siempre está representada por un único número int64."
   ]
  },
  {
   "cell_type": "markdown",
   "metadata": {},
   "source": [
    "•\tLa granularidad de años significa \"simplemente contar los años\", sin ninguna mejora real frente a almacenar los años como un entero.\n",
    "•\tLa granularidad de días es equivalente a 'datetime.date' en Python.\n",
    "•\tMicrosegundos son equivalentes a 'datetime.datetime' en Python.\n",
    "Y todo lo que está por debajo es exclusivo de `np.datetime64`.\n",
    "Al crear una instancia de 'np.datetime64', NumPy elige la granularidad más gruesa que aún pueda contener esos datos:"
   ]
  },
  {
   "cell_type": "markdown",
   "metadata": {},
   "source": [
    "DATETIMES"
   ]
  },
  {
   "cell_type": "code",
   "execution_count": 64,
   "metadata": {},
   "outputs": [
    {
     "name": "stdout",
     "output_type": "stream",
     "text": [
      "today\n",
      "Granularidad de dias (en hora local UTC+7): 2024-06-22\n",
      "\n",
      "now\n",
      "Granularidad de segundos (en UTC): 2024-06-22T20:19:04\n",
      "\n",
      "dt.utcnow()\n",
      "Granularidad de microsegundo: 2024-06-22T20:19:04.589531\n",
      "\n",
      "2021-12-24 18:14:23.404438\n",
      "Granularidad de nanosegundos: 2021-12-24T18:14:23.404438\n"
     ]
    },
    {
     "name": "stderr",
     "output_type": "stream",
     "text": [
      "C:\\Users\\REY\\AppData\\Local\\Temp\\ipykernel_17740\\1101429202.py:13: DeprecationWarning: datetime.datetime.utcnow() is deprecated and scheduled for removal in a future version. Use timezone-aware objects to represent datetimes in UTC: datetime.datetime.now(datetime.UTC).\n",
      "  t2 = np.datetime64(dt.utcnow())  # Me indica que esta función está en desuso y será eliminada en una versión futura de python\n"
     ]
    }
   ],
   "source": [
    "import numpy as np\n",
    "from datetime import datetime as dt\n",
    "\n",
    "t = np.datetime64('today')  \n",
    "print(\"today\")        \n",
    "print(f\"Granularidad de dias (en hora local UTC+7): {t}\")\n",
    "print()\n",
    "print(\"now\") \n",
    "t1 = np.datetime64('now')            \n",
    "print(f\"Granularidad de segundos (en UTC): {t1}\")\n",
    "print()\n",
    "print(\"dt.utcnow()\") \n",
    "t2 = np.datetime64(dt.utcnow())  # Me indica que esta función está en desuso y será eliminada en una versión futura de python\n",
    "print(f\"Granularidad de microsegundo: {t2}\")\n",
    "print()\n",
    "print(\"2021-12-24 18:14:23.404438\") \n",
    "t3 = np.datetime64('2021-12-24 18:14:23.404438')  \n",
    "print(f\"Granularidad de nanosegundos: {t3}\")\n",
    "\n"
   ]
  },
  {
   "cell_type": "markdown",
   "metadata": {},
   "source": [
    "Este formato exacto o variaciones mínimas del mismo (ver los 'principios generales' de la página de Wikipedia de ISO 8601).\n",
    "Al crear un array, decides si estás de acuerdo con la granularidad que NumPy ha elegido para ti o insistes, por ejemplo, en nanosegundos o algo así, y te proporcionará 2⁶³ momentos equidistantes medidos en las unidades de tiempo correspondientes a cada lado del 1 de enero de 1970."
   ]
  },
  {
   "cell_type": "markdown",
   "metadata": {},
   "source": [
    "Para obtener un campo particular de un escalar datetime64/timedelta64, puedes convertirlo a un datetime convencional:"
   ]
  },
  {
   "cell_type": "code",
   "execution_count": 72,
   "metadata": {},
   "outputs": [
    {
     "name": "stdout",
     "output_type": "stream",
     "text": [
      "Fecha = 2021-12-24 18:14:23\n",
      "Mes = 12\n"
     ]
    }
   ],
   "source": [
    "f = np.datetime64('2021-12-24 18:14:23').item()\n",
    "m = f.month\n",
    "print(f\"Fecha = {f}\")\n",
    "print(f\"Mes = {m}\")\n"
   ]
  },
  {
   "cell_type": "markdown",
   "metadata": {},
   "source": [
    "Para los arrays como este uno:"
   ]
  },
  {
   "cell_type": "code",
   "execution_count": 74,
   "metadata": {},
   "outputs": [
    {
     "name": "stdout",
     "output_type": "stream",
     "text": [
      "['2021-01-20' '2021-04-20' '2021-07-19' '2021-10-17'],  dtype = 'datetime64[D]'\n"
     ]
    }
   ],
   "source": [
    "import numpy as np\n",
    "a = np.arange(np.datetime64('2021-01-20'),\n",
    "           np.datetime64('2021-12-20'),\n",
    "           np.timedelta64(90, 'D')); a\n",
    "\n",
    "print(f\"{a},  dtype = 'datetime64[D]'\")"
   ]
  },
  {
   "cell_type": "markdown",
   "metadata": {},
   "source": [
    "Puedes hacer conversiones entre subtipos de np.datetime64 (más rápido) o usar Pandas (de 2 a 4 veces más lento):"
   ]
  },
  {
   "cell_type": "markdown",
   "metadata": {},
   "source": [
    "Aquí tienes una función útil que descompone un arreglo de datetime64 en un arreglo de 7 columnas enteras (años, meses, días, horas, minutos, segundos, microsegundos):"
   ]
  },
  {
   "cell_type": "code",
   "execution_count": 76,
   "metadata": {},
   "outputs": [
    {
     "data": {
      "text/plain": [
       "array([[2021,    1,   20,    0,    0,    0,    0],\n",
       "       [2021,    4,   20,    0,    0,    0,    0],\n",
       "       [2021,    7,   19,    0,    0,    0,    0],\n",
       "       [2021,   10,   17,    0,    0,    0,    0]], dtype=uint32)"
      ]
     },
     "execution_count": 76,
     "metadata": {},
     "output_type": "execute_result"
    }
   ],
   "source": [
    "import numpy as np\n",
    "from datetime import datetime as dt\n",
    "\n",
    "def dt2cal(dt):\n",
    "    # Asignar salida\n",
    "    out = np.empty(dt.shape + (7,), dtype = \"u4\")\n",
    "    # Descomponer calendario\n",
    "    Y, M, D, h, m, s = [dt.astype(f\"M8[{x}]\") for x in \"YMDhms\"]\n",
    "    out[..., 0] = Y + 1970   # Año Gregoriano\n",
    "    out[..., 1] = (M-Y) + 1  # fecha\n",
    "    out[..., 2] = (D-M) + 1  # Mes\n",
    "    out[..., 3] = (dt-D).astype(\"m8[h]\")  # hora\n",
    "    out[..., 4] = (dt-h).astype(\"m8[m]\")  # minuto\n",
    "    out[..., 5] = (dt-m).astype(\"m8[s]\")  # segundo\n",
    "    out[..., 6] = (dt-s).astype(\"m8[us]\")  # microsegundo\n",
    "    \n",
    "    return out\n",
    "\n",
    "a = np.arange(np.datetime64('2021-01-20'),\n",
    "           np.datetime64('2021-12-20'),\n",
    "           np.timedelta64(90, 'D')); a\n",
    "\n",
    "dt2cal(a) \n",
    "    \n",
    "    \n",
    "    "
   ]
  },
  {
   "cell_type": "markdown",
   "metadata": {},
   "source": [
    "Un par de detalles a tener en cuenta con las fechas:"
   ]
  },
  {
   "cell_type": "markdown",
   "metadata": {},
   "source": [
    "1.\tAunque se admiten años bisiestos,"
   ]
  },
  {
   "cell_type": "code",
   "execution_count": 77,
   "metadata": {},
   "outputs": [
    {
     "data": {
      "text/plain": [
       "array([29, 28, 29], dtype='timedelta64[D]')"
      ]
     },
     "execution_count": 77,
     "metadata": {},
     "output_type": "execute_result"
    }
   ],
   "source": [
    "import numpy as np\n",
    "from datetime import datetime as dt\n",
    "\n",
    "np.array(['2020-03-01','2022-03-01', '2024-03-01'], np.datetime64)- \\\n",
    "np.array(['2020-02-01','2022-02-01', '2024-02-01'], np.datetime64)\n",
    "\n"
   ]
  },
  {
   "cell_type": "markdown",
   "metadata": {},
   "source": [
    "El módulo time los soporta solo de manera formal (acepta el segundo 60, pero da intervalos incorrectos). Parece que hasta ahora solo astropy los procesa correctamente."
   ]
  },
  {
   "cell_type": "markdown",
   "metadata": {},
   "source": [
    "Parece que hasta ahora solo astropy los procesa correctamente."
   ]
  },
  {
   "cell_type": "code",
   "execution_count": 80,
   "metadata": {},
   "outputs": [
    {
     "data": {
      "text/plain": [
       "61.00000000001593"
      ]
     },
     "execution_count": 80,
     "metadata": {},
     "output_type": "execute_result"
    }
   ],
   "source": [
    "from astropy.time import Time\n",
    "\n",
    "(Time('2017-01-01')-Time('2016-12-31 23:59')).sec"
   ]
  },
  {
   "cell_type": "markdown",
   "metadata": {},
   "source": [
    "Otros se adhieren al calendario gregoriano proleptico con sus exactamente 86400 segundos SI al día, que ya ha ganado aproximadamente medio minuto de diferencia con el tiempo universal desde 1970 debido a las irregularidades en la rotación de la Tierra.\n",
    "Las implicaciones prácticas de usar este calendario son:\n",
    "•\tError al calcular intervalos que incluyen uno o más segundos intercalares.\n",
    "•\tExcepción al intentar construir un datetime64 a partir de una marca de tiempo tomada durante un segundo intercalar."
   ]
  },
  {
   "cell_type": "markdown",
   "metadata": {},
   "source": [
    "2.\tDado que tanto np.datetime64 como np.timedelta64 tienen el mismo ancho, se debe tener cuidado con los timedelta grandes:"
   ]
  },
  {
   "cell_type": "code",
   "execution_count": 82,
   "metadata": {},
   "outputs": [
    {
     "data": {
      "text/plain": [
       "numpy.timedelta64(-17537673709551616,'ns')"
      ]
     },
     "execution_count": 82,
     "metadata": {},
     "output_type": "execute_result"
    }
   ],
   "source": [
    "import numpy as np\n",
    "\n",
    "np.datetime64('2262-01-01', 'ns') - np.datetime64('1678-01-01', 'ns')"
   ]
  },
  {
   "cell_type": "markdown",
   "metadata": {},
   "source": [
    "Finalmente, ten en cuenta que todos los tiempos en np.datetime64 son 'ingenuos' (naive): no son 'conscientes' del horario de verano (por lo que se recomienda almacenar todos los datetimes en UTC) y no pueden convertirse de una zona horaria a otra (usa pytz para conversiones de zona horaria):"
   ]
  },
  {
   "cell_type": "code",
   "execution_count": 99,
   "metadata": {},
   "outputs": [
    {
     "data": {
      "text/plain": [
       "array(['2021-01-20', '2021-04-20', '2021-07-19', '2021-10-17'],\n",
       "      dtype='<U28')"
      ]
     },
     "execution_count": 99,
     "metadata": {},
     "output_type": "execute_result"
    }
   ],
   "source": [
    "import numpy as np\n",
    "from datetime import datetime\n",
    "\n",
    "a = np.arange(np.datetime64('2021-01-20'),\n",
    "           np.datetime64('2021-12-20'),\n",
    "           np.timedelta64(90, 'D')); a\n",
    "\n",
    "np.datetime_as_string(a)"
   ]
  },
  {
   "cell_type": "markdown",
   "metadata": {},
   "source": [
    "COMBINATIONS THEREOF"
   ]
  },
  {
   "cell_type": "markdown",
   "metadata": {},
   "source": [
    "Un \"structured array\" en NumPy es un arreglo con un dtype personalizado hecho a partir de los tipos descritos anteriormente como bloques básicos de construcción (similar a struct en C). Un ejemplo típico es el color de píxel RGB: un tipo de longitud 3 bytes (generalmente 4 por alineación), en el cual los colores pueden ser accesibles por nombre:"
   ]
  },
  {
   "cell_type": "code",
   "execution_count": 117,
   "metadata": {},
   "outputs": [
    {
     "data": {
      "text/plain": [
       "array([(0, 0, 0), (0, 0, 0), (0, 0, 0), (0, 0, 0), (0, 0, 0)],\n",
       "      dtype=[('x', 'u1'), ('y', 'u1'), ('z', 'u1')])"
      ]
     },
     "execution_count": 117,
     "metadata": {},
     "output_type": "execute_result"
    }
   ],
   "source": [
    "import numpy as np\n",
    "\n",
    "rgb = np.dtype([('x',np.uint8),('y', np.uint8), ('z',np.uint8)])\n",
    "a = np.zeros(5, rgb); a"
   ]
  },
  {
   "cell_type": "code",
   "execution_count": 111,
   "metadata": {},
   "outputs": [
    {
     "data": {
      "text/plain": [
       "(0, 0, 0)"
      ]
     },
     "execution_count": 111,
     "metadata": {},
     "output_type": "execute_result"
    }
   ],
   "source": [
    "a[0]"
   ]
  },
  {
   "cell_type": "code",
   "execution_count": 119,
   "metadata": {},
   "outputs": [
    {
     "data": {
      "text/plain": [
       "0"
      ]
     },
     "execution_count": 119,
     "metadata": {},
     "output_type": "execute_result"
    }
   ],
   "source": [
    "a[0]['x']"
   ]
  },
  {
   "cell_type": "code",
   "execution_count": 122,
   "metadata": {},
   "outputs": [
    {
     "data": {
      "text/plain": [
       "array([(10, 0, 0), ( 0, 0, 0), ( 0, 0, 0), ( 0, 0, 0), ( 0, 0, 0)],\n",
       "      dtype=[('x', 'u1'), ('y', 'u1'), ('z', 'u1')])"
      ]
     },
     "execution_count": 122,
     "metadata": {},
     "output_type": "execute_result"
    }
   ],
   "source": [
    "a[0]['x'] = 10\n",
    "a"
   ]
  },
  {
   "cell_type": "code",
   "execution_count": 123,
   "metadata": {},
   "outputs": [
    {
     "data": {
      "text/plain": [
       "array([(10, 0, 5), ( 0, 0, 5), ( 0, 0, 5), ( 0, 0, 5), ( 0, 0, 5)],\n",
       "      dtype=[('x', 'u1'), ('y', 'u1'), ('z', 'u1')])"
      ]
     },
     "execution_count": 123,
     "metadata": {},
     "output_type": "execute_result"
    }
   ],
   "source": [
    "a['z'] = 5\n",
    "a"
   ]
  },
  {
   "cell_type": "markdown",
   "metadata": {},
   "source": [
    "Los tipos para los arrays estructurados no necesariamente tienen que ser homogéneos e incluso pueden incluir subarrays.\n",
    "Con los arrays estructurados y los recarrays se puede obtener la 'apariencia' básica de un DataFrame de Pandas:\n",
    "•\tPuedes acceder a las columnas por nombres,\n",
    "•\tRealizar cálculos aritméticos y estadísticos con ellas,\n",
    "•\tManejar eficientemente valores faltantes,\n",
    "•\tAlgunas operaciones son más rápidas en NumPy que en Pandas.\n",
    "Pero carecen de:\n",
    "•\tagrupación (excepto lo que ofrece itertools.groupby),\n",
    "•\tel poderoso índice y MultiIndex de Pandas (por lo que no hay tablas dinámicas) y\n",
    "•\totras comodidades como ordenar convenientemente, etc."
   ]
  },
  {
   "cell_type": "markdown",
   "metadata": {},
   "source": [
    "recarray\n",
    "En NumPy, un 'recarray' (o \"record array\") es una subclase de arrays estructurados que permite el \n",
    "acceso a los campos de la estructura utilizando atributos en lugar de índices. Esto puede hacer que \n",
    "el acceso a los datos sea más conveniente y legible.\n",
    "\n",
    "Ejemplo:"
   ]
  },
  {
   "cell_type": "code",
   "execution_count": 128,
   "metadata": {},
   "outputs": [
    {
     "name": "stdout",
     "output_type": "stream",
     "text": [
      "[1 2 3]\n",
      "[2.5 3.6 7.8]\n",
      "['Alice' 'Bob' 'Cathy']\n"
     ]
    }
   ],
   "source": [
    "import numpy as np\n",
    "\n",
    "# Definir un dtype estructurado\n",
    "dtype = np.dtype([('x', np.int32), ('y', np.float64), ('name', 'U10')])\n",
    "\n",
    "# Crear un recarray directamente\n",
    "recarray = np.recarray((3,), dtype=dtype)\n",
    "\n",
    "# Asignar valores\n",
    "recarray.x = [1, 2, 3]\n",
    "recarray.y = [2.5, 3.6, 7.8]\n",
    "recarray.name = ['Alice', 'Bob', 'Cathy']\n",
    "\n",
    "# Acceder a los campos como atributos\n",
    "print(recarray.x)  # Salida: [1 2 3]\n",
    "print(recarray.y)  # Salida: [2.5 3.6 7.8]\n",
    "print(recarray.name)  # Salida: ['Alice' 'Bob' 'Cathy']\n"
   ]
  },
  {
   "cell_type": "markdown",
   "metadata": {},
   "source": [
    "TYPE CHECKS"
   ]
  },
  {
   "cell_type": "markdown",
   "metadata": {},
   "source": [
    "Una forma de verificar el tipo de arreglo de NumPy es utilizar isinstance con uno de sus elementos:"
   ]
  },
  {
   "cell_type": "code",
   "execution_count": 130,
   "metadata": {},
   "outputs": [
    {
     "data": {
      "text/plain": [
       "True"
      ]
     },
     "execution_count": 130,
     "metadata": {},
     "output_type": "execute_result"
    }
   ],
   "source": [
    "import numpy as np\n",
    "\n",
    "a = np.array([1, 2, 3])\n",
    "v = a[0]\n",
    "isinstance(v, np.int32)"
   ]
  },
  {
   "cell_type": "markdown",
   "metadata": {},
   "source": [
    "Todos los tipos de NumPy están interconectados en un árbol de herencia que se muestra en la parte superior del artículo (azul=clases abstractas, verde=tipos numéricos, amarillo=otros), por lo tanto, en lugar de especificar una lista completa de tipos como isinstance(v, [np.int32, np.int64, etc.]), puedes escribir controles de tipo más compactos como"
   ]
  },
  {
   "cell_type": "code",
   "execution_count": 131,
   "metadata": {},
   "outputs": [
    {
     "data": {
      "text/plain": [
       "False"
      ]
     },
     "execution_count": 131,
     "metadata": {},
     "output_type": "execute_result"
    }
   ],
   "source": [
    "isinstance(v, np.floating)"
   ]
  },
  {
   "cell_type": "code",
   "execution_count": 132,
   "metadata": {},
   "outputs": [
    {
     "data": {
      "text/plain": [
       "False"
      ]
     },
     "execution_count": 132,
     "metadata": {},
     "output_type": "execute_result"
    }
   ],
   "source": [
    "isinstance(v, np.complexfloating)"
   ]
  },
  {
   "cell_type": "markdown",
   "metadata": {},
   "source": [
    "El inconveniente de este método es que solo funciona contra un valor del arreglo, no contra el arreglo en sí. Esto no es útil cuando el arreglo está vacío, por ejemplo. Verificar el tipo del arreglo es más complicado.\n",
    "\n",
    "Para tipos básicos, el operador == hace el trabajo para una única verificación de tipo:\n"
   ]
  },
  {
   "cell_type": "code",
   "execution_count": 133,
   "metadata": {},
   "outputs": [
    {
     "data": {
      "text/plain": [
       "True"
      ]
     },
     "execution_count": 133,
     "metadata": {},
     "output_type": "execute_result"
    }
   ],
   "source": [
    "a.dtype == np.int32"
   ]
  },
  {
   "cell_type": "code",
   "execution_count": 134,
   "metadata": {},
   "outputs": [
    {
     "data": {
      "text/plain": [
       "False"
      ]
     },
     "execution_count": 134,
     "metadata": {},
     "output_type": "execute_result"
    }
   ],
   "source": [
    "a.dtype == np.int64"
   ]
  },
  {
   "cell_type": "markdown",
   "metadata": {},
   "source": [
    "Y el operador 'in'  para verificar contra un grupo de tipos:"
   ]
  },
  {
   "cell_type": "code",
   "execution_count": 139,
   "metadata": {},
   "outputs": [
    {
     "name": "stdout",
     "output_type": "stream",
     "text": [
      "xdtype es un tipo de punto flotante de NumPy.\n"
     ]
    }
   ],
   "source": [
    "import numpy as np\n",
    "\n",
    "# Definir xdtype, por ejemplo, np.double\n",
    "xdtype = np.double\n",
    "\n",
    "# Verificar si xdtype es uno de los tipos de punto flotante de NumPy\n",
    "if xdtype in (np.half, np.single, np.double, np.longdouble):\n",
    "    print(\"xdtype es un tipo de punto flotante de NumPy.\")\n",
    "else:\n",
    "    print(\"xdtype no es un tipo de punto flotante de NumPy.\")\n"
   ]
  },
  {
   "cell_type": "markdown",
   "metadata": {},
   "source": [
    "Pero para tipos más sofisticados como np.str_ o np.datetime64, no lo hacen.\n",
    "La forma recomendada⁴ de verificar el dtype contra los tipos abstractos es"
   ]
  },
  {
   "cell_type": "code",
   "execution_count": 140,
   "metadata": {},
   "outputs": [
    {
     "data": {
      "text/plain": [
       "True"
      ]
     },
     "execution_count": 140,
     "metadata": {},
     "output_type": "execute_result"
    }
   ],
   "source": [
    "np.issubdtype(a.dtype, np.integer)\n"
   ]
  },
  {
   "cell_type": "code",
   "execution_count": 141,
   "metadata": {},
   "outputs": [
    {
     "data": {
      "text/plain": [
       "False"
      ]
     },
     "execution_count": 141,
     "metadata": {},
     "output_type": "execute_result"
    }
   ],
   "source": [
    "np.issubdtype(a.dtype, np.floating)"
   ]
  },
  {
   "cell_type": "markdown",
   "metadata": {},
   "source": [
    "Funciona con todos los tipos nativos de NumPy, pero la necesidad de este método parece algo no obvia: ¿qué tiene de malo el buen y viejo isinstance? Obviamente, la complejidad de la estructura de herencia de los dtypes (¡se construyen 'sobre la marcha'!) no les permitió hacerlo según el principio de la menor sorpresa."
   ]
  },
  {
   "cell_type": "markdown",
   "metadata": {},
   "source": [
    "Otro método es utilizar el diccionario np.typecodes (no documentado, pero utilizado en las bases de código de SciPy/NumPy, por ejemplo aquí). El árbol que representa tiene muchas menos ramificaciones:"
   ]
  },
  {
   "cell_type": "code",
   "execution_count": 142,
   "metadata": {},
   "outputs": [
    {
     "data": {
      "text/plain": [
       "{'Character': 'c',\n",
       " 'Integer': 'bhilqp',\n",
       " 'UnsignedInteger': 'BHILQP',\n",
       " 'Float': 'efdg',\n",
       " 'Complex': 'FDG',\n",
       " 'AllInteger': 'bBhHiIlLqQpP',\n",
       " 'AllFloat': 'efdgFDG',\n",
       " 'Datetime': 'Mm',\n",
       " 'All': '?bhilqpBHILQPefdgFDGSUVOMm'}"
      ]
     },
     "execution_count": 142,
     "metadata": {},
     "output_type": "execute_result"
    }
   ],
   "source": [
    "np.typecodes"
   ]
  },
  {
   "cell_type": "markdown",
   "metadata": {},
   "source": [
    "Su aplicación principal es generar arreglos con dtypes específicos para propósitos de prueba, pero también se puede utilizar para distinguir entre diferentes grupos de dtypes:"
   ]
  },
  {
   "cell_type": "code",
   "execution_count": 143,
   "metadata": {},
   "outputs": [
    {
     "data": {
      "text/plain": [
       "True"
      ]
     },
     "execution_count": 143,
     "metadata": {},
     "output_type": "execute_result"
    }
   ],
   "source": [
    "a.dtype.char in np.typecodes['AllInteger']"
   ]
  },
  {
   "cell_type": "code",
   "execution_count": 144,
   "metadata": {},
   "outputs": [
    {
     "data": {
      "text/plain": [
       "False"
      ]
     },
     "execution_count": 144,
     "metadata": {},
     "output_type": "execute_result"
    }
   ],
   "source": [
    "a.dtype.char in np.typecodes['Datetime']"
   ]
  },
  {
   "cell_type": "markdown",
   "metadata": {},
   "source": [
    "Nota que usar 'a.dtype.kind` en lugar de 'a.dtype.char' es un error: np.zeros(1, dtype=np.uint8).dtype.kind == 'u' está ausente en 'np.typecodes', while <...>.char == 'B' está listado allí.\n",
    "Uno de los inconvenientes de este método es que los tipos bool, strings, bytes, objects y voids ('?', 'U', 'S', 'O' y 'V', respectivamente) no tienen claves dedicadas en el diccionario.\n",
    "Este enfoque parece más de hackeo pero menos mágico que 'issubdtype'."
   ]
  }
 ],
 "metadata": {
  "kernelspec": {
   "display_name": "Python 3",
   "language": "python",
   "name": "python3"
  },
  "language_info": {
   "codemirror_mode": {
    "name": "ipython",
    "version": 3
   },
   "file_extension": ".py",
   "mimetype": "text/x-python",
   "name": "python",
   "nbconvert_exporter": "python",
   "pygments_lexer": "ipython3",
   "version": "3.12.1"
  }
 },
 "nbformat": 4,
 "nbformat_minor": 2
}

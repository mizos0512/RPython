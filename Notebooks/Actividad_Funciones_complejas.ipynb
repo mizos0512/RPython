{
 "cells": [
  {
   "cell_type": "markdown",
   "metadata": {},
   "source": [
    "1. FUNCIONES lambda"
   ]
  },
  {
   "cell_type": "code",
   "execution_count": 2,
   "metadata": {},
   "outputs": [
    {
     "name": "stdout",
     "output_type": "stream",
     "text": [
      "11\n"
     ]
    }
   ],
   "source": [
    "# Función incrementar\n",
    "incrementar= lambda x: x+1\n",
    "print(incrementar(10))"
   ]
  },
  {
   "cell_type": "code",
   "execution_count": 3,
   "metadata": {},
   "outputs": [
    {
     "name": "stdout",
     "output_type": "stream",
     "text": [
      "8\n"
     ]
    }
   ],
   "source": [
    "# Función cubo\n",
    "cubo= lambda x: x**3\n",
    "print(cubo(2))"
   ]
  },
  {
   "cell_type": "code",
   "execution_count": 11,
   "metadata": {},
   "outputs": [
    {
     "name": "stdout",
     "output_type": "stream",
     "text": [
      "9.0\n",
      "9.0\n"
     ]
    }
   ],
   "source": [
    "# Función Promedio\n",
    "promedio= lambda x, y, z: (x+y+z)/3\n",
    "print(promedio(4,5,18))\n",
    "pm = promedio\n",
    "print(pm(4, 5, 18))"
   ]
  },
  {
   "cell_type": "code",
   "execution_count": 10,
   "metadata": {},
   "outputs": [
    {
     "name": "stdout",
     "output_type": "stream",
     "text": [
      "9.0\n"
     ]
    }
   ],
   "source": [
    "# Calculando el promedio pasándolo directamente al 'print' note como en el print se pasa el 'lambda' y la fuente de datos '(4, 5, 18)'\n",
    "print((lambda x, y, z: (x+y+z)/3) (4, 5, 18))"
   ]
  },
  {
   "cell_type": "code",
   "execution_count": 8,
   "metadata": {},
   "outputs": [
    {
     "name": "stdout",
     "output_type": "stream",
     "text": [
      "El nombre completo es Reinaldo Díaz\n"
     ]
    }
   ],
   "source": [
    "# Función que recibe nombre y apellido para imprimirlo\n",
    "nombre_completo= lambda n, a: f'El nombre completo es {n} {a}'\n",
    "print(nombre_completo('Reinaldo', 'Díaz'))"
   ]
  },
  {
   "cell_type": "code",
   "execution_count": 12,
   "metadata": {},
   "outputs": [
    {
     "name": "stdout",
     "output_type": "stream",
     "text": [
      "3.0\n"
     ]
    }
   ],
   "source": [
    "# Función lambda que calcula la media de los números de una lista, dentro de un print\n",
    "Lista_1= [1, 2, 3, 4, 5]\n",
    "print((lambda lst: sum(lst)/len(lst)) (Lista_1))"
   ]
  },
  {
   "cell_type": "code",
   "execution_count": 13,
   "metadata": {},
   "outputs": [
    {
     "name": "stdout",
     "output_type": "stream",
     "text": [
      "3.0\n"
     ]
    }
   ],
   "source": [
    "# Función lambda que calcula la media de los números de una tupla, dentro de un print\n",
    "tupla_1= (1, 2, 3, 4, 5)\n",
    "print((lambda tpl: sum(tpl)/len(tpl)) (tupla_1))"
   ]
  },
  {
   "cell_type": "markdown",
   "metadata": {},
   "source": [
    "2. FUNCIONES DE ORDEN SUPERIOR"
   ]
  },
  {
   "cell_type": "code",
   "execution_count": 16,
   "metadata": {},
   "outputs": [
    {
     "name": "stdout",
     "output_type": "stream",
     "text": [
      "5\n"
     ]
    }
   ],
   "source": [
    "# Note como en la función 'orden_superior' se pasa un 'valor numerico' com primer parámetro y una 'función' en el segundo parámetro\n",
    "# la función asume como argumento el primer argumento de 'orden_superior'\n",
    "def incrementar(x):\n",
    "    return x+1\n",
    "\n",
    "def orden_superior(x, func):\n",
    "    return x + func(x)\n",
    "\n",
    "resultado = orden_superior(2, incrementar)\n",
    "\n",
    "print(resultado)\n",
    "\n"
   ]
  },
  {
   "cell_type": "code",
   "execution_count": 18,
   "metadata": {},
   "outputs": [
    {
     "name": "stdout",
     "output_type": "stream",
     "text": [
      "5\n"
     ]
    }
   ],
   "source": [
    "# La misma solución pero con 'lambda'\n",
    "\n",
    "incrementar= lambda x: x+1\n",
    "\n",
    "orden_superior=lambda x, func: x + func(x)\n",
    "resultado = orden_superior(2, incrementar)\n",
    "print(resultado)\n"
   ]
  },
  {
   "cell_type": "code",
   "execution_count": 19,
   "metadata": {},
   "outputs": [
    {
     "name": "stdout",
     "output_type": "stream",
     "text": [
      "[('Jamón', 35), ('Pan', 150), ('Salmón', 175), ('Aceite', 230)]\n"
     ]
    }
   ],
   "source": [
    "# Empleando lambda con la función 'sorted' para ordenar u diccionario por valores.\n",
    "# En este ejemplo 'sorted' toma dos argumentos, los valors del diccionario items() y la clave 'key'\n",
    "# por donde va a ordenar. y la clave key se forma con un lambda que genera una lista y que al mismo tiempo\n",
    "# ordena por el elemento '1' de cada par de valor del diccionario.\n",
    "\n",
    "d={'Aceite':230,'Pan':150,'Salmón':175,'Jamón':35}\n",
    "d1 = sorted(d.items(), key=lambda a: a[1])\n",
    "print(d1)\n"
   ]
  },
  {
   "cell_type": "markdown",
   "metadata": {},
   "source": [
    "3. FUNCIÓN map"
   ]
  },
  {
   "cell_type": "code",
   "execution_count": 20,
   "metadata": {},
   "outputs": [
    {
     "name": "stdout",
     "output_type": "stream",
     "text": [
      "[2, 4, 6, 8]\n"
     ]
    }
   ],
   "source": [
    "# 'map' transforma cada elemento de una lista.\n",
    "\n",
    "numeros = [1, 2, 3, 4]\n",
    "\n",
    "# Vamos a utilizar la función 'map' para transformar cada elemento de la lista 'numeros' e su duplo y generar una lista\n",
    "\n",
    "numeros_duplo= list(map(lambda x: x*2, numeros))\n",
    "\n",
    "# A 'map' se le pasa de parametro a 'lambda' y la 'fuente de datos (numeros)'\n",
    "\n",
    "print(numeros_duplo)"
   ]
  },
  {
   "cell_type": "code",
   "execution_count": 21,
   "metadata": {},
   "outputs": [
    {
     "name": "stdout",
     "output_type": "stream",
     "text": [
      "{8, 2, 4, 6}\n"
     ]
    }
   ],
   "source": [
    "# 'map' transforma cada elemento de un conjunto.\n",
    "\n",
    "numeros = [1, 2, 3, 4]\n",
    "\n",
    "# Vamos a utilizar la función 'map' para transformar cada elemento de la lista 'numeros' e su duplo y generar un conjunto\n",
    "\n",
    "numeros_duplo= set(map(lambda x: x*2, numeros))\n",
    "\n",
    "# A 'map' se le pasa de parametro a 'lambda' y la 'fuente de datos (numeros)'\n",
    "\n",
    "print(numeros_duplo)"
   ]
  },
  {
   "cell_type": "code",
   "execution_count": 22,
   "metadata": {},
   "outputs": [
    {
     "name": "stdout",
     "output_type": "stream",
     "text": [
      "(2, 4, 6, 8)\n"
     ]
    }
   ],
   "source": [
    "# 'map' transforma cada elemento de una tupla.\n",
    "\n",
    "numeros = [1, 2, 3, 4]\n",
    "\n",
    "# Vamos a utilizar la función 'map' para transformar cada elemento de la lista 'numeros' e su duplo y generar una tupla\n",
    "\n",
    "numeros_duplo= tuple(map(lambda x: x*2, numeros))\n",
    "\n",
    "# A 'map' se le pasa de parametro a 'lambda' y la 'fuente de datos (numeros)'\n",
    "\n",
    "print(numeros_duplo)"
   ]
  },
  {
   "cell_type": "code",
   "execution_count": 29,
   "metadata": {},
   "outputs": [
    {
     "name": "stdout",
     "output_type": "stream",
     "text": [
      "[6, 8, 10]\n"
     ]
    }
   ],
   "source": [
    "# 'map' para sumar dos listas\n",
    "lst1 = [1, 2, 3, 4]\n",
    "lst2 = [5, 6, 7]\n",
    "\n",
    "suma_lista= list(map(lambda x, y: x  +  y, lst1, lst2))\n",
    "\n",
    "print(suma_lista)"
   ]
  }
 ],
 "metadata": {
  "kernelspec": {
   "display_name": "Curso_Python",
   "language": "python",
   "name": "python3"
  },
  "language_info": {
   "codemirror_mode": {
    "name": "ipython",
    "version": 3
   },
   "file_extension": ".py",
   "mimetype": "text/x-python",
   "name": "python",
   "nbconvert_exporter": "python",
   "pygments_lexer": "ipython3",
   "version": "3.11.9"
  }
 },
 "nbformat": 4,
 "nbformat_minor": 2
}

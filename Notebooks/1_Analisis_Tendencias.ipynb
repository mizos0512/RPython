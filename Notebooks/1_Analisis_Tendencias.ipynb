{
 "cells": [
  {
   "cell_type": "markdown",
   "id": "1f183e6d",
   "metadata": {},
   "source": [
    "# Análisis Descriptivo: Análisis de Tendencias de las ventas del negocio"
   ]
  },
  {
   "cell_type": "markdown",
   "id": "845a8c2e",
   "metadata": {},
   "source": [
    "El análisis de tendencia es una técnica estadística que se utiliza para identificar patrones o tendencias en un conjunto de datos a lo largo del tiempo. El análisis de tendencia es utilizado para predecir la dirección futura del comportamiento de los datos basándose en su comportamiento pasado."
   ]
  },
  {
   "cell_type": "markdown",
   "id": "ce99ea90",
   "metadata": {},
   "source": [
    "### Carga de las librerías de pyhton necesarias"
   ]
  },
  {
   "cell_type": "code",
   "execution_count": 2,
   "id": "6435daaf",
   "metadata": {},
   "outputs": [],
   "source": [
    "# Debe instalar las librerias necesarias antes del import\n",
    "import pyodbc\n",
    "import pandas as pd\n",
    "import numpy as np\n",
    "import matplotlib.pyplot as plt\n",
    "import seaborn as sns\n",
    "\n",
    "plt.rcParams['figure.figsize'] = [12, 8]\n",
    "\n",
    "pd.options.display.float_format = '{:.2f}'.format"
   ]
  },
  {
   "cell_type": "markdown",
   "id": "da98587a",
   "metadata": {},
   "source": [
    "Las librerías de Python son conjuntos de código predefinidos que se utilizan para realizar tareas específicas en el lenguaje de programación Python.\n",
    "Las librerías se utilizan para diferentes propósitos, como manipulación de datos, análisis de datos, visualización de datos, aprendizaje automático, desarrollo web, entre otros. "
   ]
  },
  {
   "cell_type": "markdown",
   "id": "90dc0f21",
   "metadata": {},
   "source": [
    "### Conexión a SQL Server y extracción de los datos"
   ]
  },
  {
   "cell_type": "markdown",
   "id": "3a5fcc80-13a9-4b50-86d7-1abf901bf94f",
   "metadata": {},
   "source": [
    "- Explique línea a línea el código mostrado abajo. Debe explicar tambien la query. Puede probar aparte la query desde Azure Data Studio o directamente desde SQL Server Managment Studio."
   ]
  },
  {
   "cell_type": "code",
   "execution_count": 5,
   "id": "e4087e9c",
   "metadata": {},
   "outputs": [
    {
     "name": "stdout",
     "output_type": "stream",
     "text": [
      "     año  mes        ventas\n",
      "0   2011    5  5.670209e+05\n",
      "1   2011    6  5.070965e+05\n",
      "2   2011    7  2.292183e+06\n",
      "3   2011    8  2.800576e+06\n",
      "4   2011    9  5.547916e+05\n",
      "5   2011   10  5.156270e+06\n",
      "6   2011   11  8.153130e+05\n",
      "7   2011   12  1.462449e+06\n",
      "8   2012    1  4.458337e+06\n",
      "9   2012    2  1.649052e+06\n",
      "10  2012    3  3.336347e+06\n",
      "11  2012    4  1.871924e+06\n",
      "12  2012    5  3.452924e+06\n",
      "13  2012    6  4.610647e+06\n",
      "14  2012    7  3.840231e+06\n",
      "15  2012    8  2.442451e+06\n",
      "16  2012    9  3.881724e+06\n",
      "17  2012   10  2.858060e+06\n",
      "18  2012   11  2.097153e+06\n",
      "19  2012   12  3.176848e+06\n",
      "20  2013    1  2.340062e+06\n",
      "21  2013    2  2.600219e+06\n",
      "22  2013    3  3.831606e+06\n",
      "23  2013    4  2.840711e+06\n",
      "24  2013    5  3.658085e+06\n",
      "25  2013    6  5.726265e+06\n",
      "26  2013    7  5.521841e+06\n",
      "27  2013    8  3.733973e+06\n",
      "28  2013    9  5.083505e+06\n",
      "29  2013   10  5.374376e+06\n",
      "30  2013   11  3.694668e+06\n",
      "31  2013   12  4.560577e+06\n",
      "32  2014    1  4.798028e+06\n",
      "33  2014    2  1.478213e+06\n",
      "34  2014    3  8.097036e+06\n",
      "35  2014    4  1.985886e+06\n",
      "36  2014    5  6.006183e+06\n",
      "37  2014    6  5.415148e+04\n"
     ]
    },
    {
     "name": "stderr",
     "output_type": "stream",
     "text": [
      "C:\\Users\\REY\\AppData\\Local\\Temp\\ipykernel_14644\\759878653.py:22: UserWarning: pandas only supports SQLAlchemy connectable (engine/connection) or database string URI or sqlite3 DBAPI2 connection. Other DBAPI2 objects are not tested. Please consider using SQLAlchemy.\n",
      "  ventas = pd.read_sql(input_query, conn_str)\n"
     ]
    }
   ],
   "source": [
    "import pyodbc\n",
    "import pandas as pd\n",
    "\n",
    "\n",
    "conn_str = pyodbc.connect('Driver={SQL Server};'\n",
    "                          'Server=DESKTOP-MAM6T2F;'\n",
    "                          'Database=AdventureWorks2019;'\n",
    "                          'Trusted_Connection=yes;')\n",
    "\n",
    "\n",
    "input_query = '''\n",
    "SELECT\n",
    "    year(t1.OrderDate) AS 'año',\n",
    "    month(t1.OrderDate) AS 'mes',\n",
    "    sum(t1.TotalDue) AS 'ventas'\n",
    "FROM Sales.SalesOrderHeader AS t1\n",
    "GROUP BY year(t1.OrderDate), month(t1.OrderDate)\n",
    "ORDER BY year(t1.OrderDate), month(t1.OrderDate)\n",
    "'''\n",
    "\n",
    "# Ejecutar la consulta y almacenar los resultados en un DataFrame\n",
    "ventas = pd.read_sql(input_query, conn_str)\n",
    "\n",
    "# Mostrar los resultados\n",
    "print(ventas)\n"
   ]
  },
  {
   "cell_type": "markdown",
   "id": "75680d18",
   "metadata": {},
   "source": [
    "EXPLICACION LINEA POR LINEA\n",
    "\n",
    "1. Para el código anterior es necesario las siguientes librerias de python, las cuales hay que importarlas:\n",
    "   import pyodbc\n",
    "   Es una interfaz de Python para el estándar ODBC (Open Database Connectivity). Proporciona una forma de conectar Python a bases de datos y ejecutar consultas SQL. pyodbc es muy útil para trabajar con diversas bases de datos relacionales, como SQL Server, MySQL, etc\n",
    "\n",
    "   import pandas as pd\n",
    "   Es una herramienta poderosa y versátil para el análisis de datos en Python. Es ampliamente utilizada en ciencia de datos, finanzas, investigación y muchas otras disciplinas debido a su capacidad para manipular y analizar grandes conjuntos de datos de manera eficiente. \n",
    "\n",
    "2. Establecer la conexion con la base de datos\n",
    "   conn_str = pyodbc.connect('Driver={SQL Server};' 'Server=T05W12;''Database=AdventureWorks2019;''Trusted_Connection=yes;') \n",
    "   'Driver={SQL Server};' - Especifica el controlador ODBC a utilizar\n",
    "   'Server=T05W12;' - Especifica el nombre del servidor de la base de datos\n",
    "   'Database=AdventureWorks2019;' - Especifica el nombre de la base de datos a la que se desea conectar.\n",
    "   'Trusted_Connection=yes;' - Indica que se debe usar una conexión confiable (normalmente indica que se usa una autenticación de windows)\n",
    "\n",
    "3. input_query = '''select\n",
    "\t year(t1.OrderDate) as 'año', \n",
    "\t month(t1.OrderDate) as 'mes',\n",
    "\t sum(t1.TotalDue) as 'ventas'\n",
    "   from Sales.SalesOrderHeader as t1\n",
    "\tgroup by year(t1.OrderDate), month(t1.OrderDate) \n",
    "\torder by year(t1.OrderDate), month(t1.OrderDate)'''\n",
    "\n",
    "   Es una consulta en SQL que se almacena en la variable: input_query   \n",
    "\n",
    "4. ventas = pd.read_sql(input_query, conn_str)\n",
    "\n",
    "   Esta linea ejecuta la consulta SQL almacenada en la variable: 'input_query', utilizando la conexión 'conn_str' y almacena el resultado en un 'DataFrame'\n",
    "   llamado 'ventas' \n",
    "\n",
    "5. print(ventas)   \n",
    "   Se imprime el DataFrame 'ventas'\n",
    "\n"
   ]
  },
  {
   "cell_type": "code",
   "execution_count": 15,
   "id": "13b7d255-5adb-438b-b2aa-1b37c8f7caae",
   "metadata": {},
   "outputs": [
    {
     "data": {
      "text/html": [
       "<div>\n",
       "<style scoped>\n",
       "    .dataframe tbody tr th:only-of-type {\n",
       "        vertical-align: middle;\n",
       "    }\n",
       "\n",
       "    .dataframe tbody tr th {\n",
       "        vertical-align: top;\n",
       "    }\n",
       "\n",
       "    .dataframe thead th {\n",
       "        text-align: right;\n",
       "    }\n",
       "</style>\n",
       "<table border=\"1\" class=\"dataframe\">\n",
       "  <thead>\n",
       "    <tr style=\"text-align: right;\">\n",
       "      <th></th>\n",
       "      <th>año</th>\n",
       "      <th>mes</th>\n",
       "      <th>ventas</th>\n",
       "    </tr>\n",
       "  </thead>\n",
       "  <tbody>\n",
       "    <tr>\n",
       "      <th>0</th>\n",
       "      <td>2011</td>\n",
       "      <td>5</td>\n",
       "      <td>567020.95</td>\n",
       "    </tr>\n",
       "    <tr>\n",
       "      <th>1</th>\n",
       "      <td>2011</td>\n",
       "      <td>6</td>\n",
       "      <td>507096.47</td>\n",
       "    </tr>\n",
       "    <tr>\n",
       "      <th>2</th>\n",
       "      <td>2011</td>\n",
       "      <td>7</td>\n",
       "      <td>2292182.88</td>\n",
       "    </tr>\n",
       "    <tr>\n",
       "      <th>3</th>\n",
       "      <td>2011</td>\n",
       "      <td>8</td>\n",
       "      <td>2800576.17</td>\n",
       "    </tr>\n",
       "    <tr>\n",
       "      <th>4</th>\n",
       "      <td>2011</td>\n",
       "      <td>9</td>\n",
       "      <td>554791.61</td>\n",
       "    </tr>\n",
       "    <tr>\n",
       "      <th>5</th>\n",
       "      <td>2011</td>\n",
       "      <td>10</td>\n",
       "      <td>5156269.53</td>\n",
       "    </tr>\n",
       "    <tr>\n",
       "      <th>6</th>\n",
       "      <td>2011</td>\n",
       "      <td>11</td>\n",
       "      <td>815313.02</td>\n",
       "    </tr>\n",
       "    <tr>\n",
       "      <th>7</th>\n",
       "      <td>2011</td>\n",
       "      <td>12</td>\n",
       "      <td>1462448.90</td>\n",
       "    </tr>\n",
       "    <tr>\n",
       "      <th>8</th>\n",
       "      <td>2012</td>\n",
       "      <td>1</td>\n",
       "      <td>4458337.44</td>\n",
       "    </tr>\n",
       "    <tr>\n",
       "      <th>9</th>\n",
       "      <td>2012</td>\n",
       "      <td>2</td>\n",
       "      <td>1649051.90</td>\n",
       "    </tr>\n",
       "    <tr>\n",
       "      <th>10</th>\n",
       "      <td>2012</td>\n",
       "      <td>3</td>\n",
       "      <td>3336347.47</td>\n",
       "    </tr>\n",
       "    <tr>\n",
       "      <th>11</th>\n",
       "      <td>2012</td>\n",
       "      <td>4</td>\n",
       "      <td>1871923.50</td>\n",
       "    </tr>\n",
       "    <tr>\n",
       "      <th>12</th>\n",
       "      <td>2012</td>\n",
       "      <td>5</td>\n",
       "      <td>3452924.45</td>\n",
       "    </tr>\n",
       "    <tr>\n",
       "      <th>13</th>\n",
       "      <td>2012</td>\n",
       "      <td>6</td>\n",
       "      <td>4610647.22</td>\n",
       "    </tr>\n",
       "    <tr>\n",
       "      <th>14</th>\n",
       "      <td>2012</td>\n",
       "      <td>7</td>\n",
       "      <td>3840231.46</td>\n",
       "    </tr>\n",
       "    <tr>\n",
       "      <th>15</th>\n",
       "      <td>2012</td>\n",
       "      <td>8</td>\n",
       "      <td>2442451.18</td>\n",
       "    </tr>\n",
       "    <tr>\n",
       "      <th>16</th>\n",
       "      <td>2012</td>\n",
       "      <td>9</td>\n",
       "      <td>3881724.19</td>\n",
       "    </tr>\n",
       "    <tr>\n",
       "      <th>17</th>\n",
       "      <td>2012</td>\n",
       "      <td>10</td>\n",
       "      <td>2858060.20</td>\n",
       "    </tr>\n",
       "    <tr>\n",
       "      <th>18</th>\n",
       "      <td>2012</td>\n",
       "      <td>11</td>\n",
       "      <td>2097153.13</td>\n",
       "    </tr>\n",
       "    <tr>\n",
       "      <th>19</th>\n",
       "      <td>2012</td>\n",
       "      <td>12</td>\n",
       "      <td>3176848.17</td>\n",
       "    </tr>\n",
       "    <tr>\n",
       "      <th>20</th>\n",
       "      <td>2013</td>\n",
       "      <td>1</td>\n",
       "      <td>2340061.55</td>\n",
       "    </tr>\n",
       "    <tr>\n",
       "      <th>21</th>\n",
       "      <td>2013</td>\n",
       "      <td>2</td>\n",
       "      <td>2600218.87</td>\n",
       "    </tr>\n",
       "    <tr>\n",
       "      <th>22</th>\n",
       "      <td>2013</td>\n",
       "      <td>3</td>\n",
       "      <td>3831605.94</td>\n",
       "    </tr>\n",
       "    <tr>\n",
       "      <th>23</th>\n",
       "      <td>2013</td>\n",
       "      <td>4</td>\n",
       "      <td>2840711.17</td>\n",
       "    </tr>\n",
       "    <tr>\n",
       "      <th>24</th>\n",
       "      <td>2013</td>\n",
       "      <td>5</td>\n",
       "      <td>3658084.95</td>\n",
       "    </tr>\n",
       "    <tr>\n",
       "      <th>25</th>\n",
       "      <td>2013</td>\n",
       "      <td>6</td>\n",
       "      <td>5726265.26</td>\n",
       "    </tr>\n",
       "    <tr>\n",
       "      <th>26</th>\n",
       "      <td>2013</td>\n",
       "      <td>7</td>\n",
       "      <td>5521840.84</td>\n",
       "    </tr>\n",
       "    <tr>\n",
       "      <th>27</th>\n",
       "      <td>2013</td>\n",
       "      <td>8</td>\n",
       "      <td>3733973.00</td>\n",
       "    </tr>\n",
       "    <tr>\n",
       "      <th>28</th>\n",
       "      <td>2013</td>\n",
       "      <td>9</td>\n",
       "      <td>5083505.34</td>\n",
       "    </tr>\n",
       "    <tr>\n",
       "      <th>29</th>\n",
       "      <td>2013</td>\n",
       "      <td>10</td>\n",
       "      <td>5374375.94</td>\n",
       "    </tr>\n",
       "    <tr>\n",
       "      <th>30</th>\n",
       "      <td>2013</td>\n",
       "      <td>11</td>\n",
       "      <td>3694668.00</td>\n",
       "    </tr>\n",
       "    <tr>\n",
       "      <th>31</th>\n",
       "      <td>2013</td>\n",
       "      <td>12</td>\n",
       "      <td>4560577.10</td>\n",
       "    </tr>\n",
       "    <tr>\n",
       "      <th>32</th>\n",
       "      <td>2014</td>\n",
       "      <td>1</td>\n",
       "      <td>4798027.87</td>\n",
       "    </tr>\n",
       "    <tr>\n",
       "      <th>33</th>\n",
       "      <td>2014</td>\n",
       "      <td>2</td>\n",
       "      <td>1478213.29</td>\n",
       "    </tr>\n",
       "    <tr>\n",
       "      <th>34</th>\n",
       "      <td>2014</td>\n",
       "      <td>3</td>\n",
       "      <td>8097036.31</td>\n",
       "    </tr>\n",
       "    <tr>\n",
       "      <th>35</th>\n",
       "      <td>2014</td>\n",
       "      <td>4</td>\n",
       "      <td>1985886.15</td>\n",
       "    </tr>\n",
       "    <tr>\n",
       "      <th>36</th>\n",
       "      <td>2014</td>\n",
       "      <td>5</td>\n",
       "      <td>6006183.21</td>\n",
       "    </tr>\n",
       "    <tr>\n",
       "      <th>37</th>\n",
       "      <td>2014</td>\n",
       "      <td>6</td>\n",
       "      <td>54151.48</td>\n",
       "    </tr>\n",
       "  </tbody>\n",
       "</table>\n",
       "</div>"
      ],
      "text/plain": [
       "     año  mes     ventas\n",
       "0   2011    5  567020.95\n",
       "1   2011    6  507096.47\n",
       "2   2011    7 2292182.88\n",
       "3   2011    8 2800576.17\n",
       "4   2011    9  554791.61\n",
       "5   2011   10 5156269.53\n",
       "6   2011   11  815313.02\n",
       "7   2011   12 1462448.90\n",
       "8   2012    1 4458337.44\n",
       "9   2012    2 1649051.90\n",
       "10  2012    3 3336347.47\n",
       "11  2012    4 1871923.50\n",
       "12  2012    5 3452924.45\n",
       "13  2012    6 4610647.22\n",
       "14  2012    7 3840231.46\n",
       "15  2012    8 2442451.18\n",
       "16  2012    9 3881724.19\n",
       "17  2012   10 2858060.20\n",
       "18  2012   11 2097153.13\n",
       "19  2012   12 3176848.17\n",
       "20  2013    1 2340061.55\n",
       "21  2013    2 2600218.87\n",
       "22  2013    3 3831605.94\n",
       "23  2013    4 2840711.17\n",
       "24  2013    5 3658084.95\n",
       "25  2013    6 5726265.26\n",
       "26  2013    7 5521840.84\n",
       "27  2013    8 3733973.00\n",
       "28  2013    9 5083505.34\n",
       "29  2013   10 5374375.94\n",
       "30  2013   11 3694668.00\n",
       "31  2013   12 4560577.10\n",
       "32  2014    1 4798027.87\n",
       "33  2014    2 1478213.29\n",
       "34  2014    3 8097036.31\n",
       "35  2014    4 1985886.15\n",
       "36  2014    5 6006183.21\n",
       "37  2014    6   54151.48"
      ]
     },
     "execution_count": 15,
     "metadata": {},
     "output_type": "execute_result"
    }
   ],
   "source": [
    "ventas"
   ]
  },
  {
   "cell_type": "markdown",
   "id": "388977fd-209b-4651-8def-76e32ac8bdcf",
   "metadata": {},
   "source": [
    "### El código **no** da error, sin embargo imprime un `warning` donde se sugiere el uso de `SQLAlchemy` en vez de `pyodbc`. Investigue como se hace la conexión a SQL Server con SQLAlchemy utilizando la misma base de datos , pruebe con la misma query anterior, guardar los resultados en un nuevo dataframe usando read_sql e imprima la tabla. Explicar linea por linea el código utilizado."
   ]
  },
  {
   "cell_type": "code",
   "execution_count": 6,
   "id": "5fc8812a",
   "metadata": {},
   "outputs": [
    {
     "name": "stdout",
     "output_type": "stream",
     "text": [
      "     año  mes        ventas\n",
      "0   2011    5  5.670209e+05\n",
      "1   2011    6  5.070965e+05\n",
      "2   2011    7  2.292183e+06\n",
      "3   2011    8  2.800576e+06\n",
      "4   2011    9  5.547916e+05\n",
      "5   2011   10  5.156270e+06\n",
      "6   2011   11  8.153130e+05\n",
      "7   2011   12  1.462449e+06\n",
      "8   2012    1  4.458337e+06\n",
      "9   2012    2  1.649052e+06\n",
      "10  2012    3  3.336347e+06\n",
      "11  2012    4  1.871924e+06\n",
      "12  2012    5  3.452924e+06\n",
      "13  2012    6  4.610647e+06\n",
      "14  2012    7  3.840231e+06\n",
      "15  2012    8  2.442451e+06\n",
      "16  2012    9  3.881724e+06\n",
      "17  2012   10  2.858060e+06\n",
      "18  2012   11  2.097153e+06\n",
      "19  2012   12  3.176848e+06\n",
      "20  2013    1  2.340062e+06\n",
      "21  2013    2  2.600219e+06\n",
      "22  2013    3  3.831606e+06\n",
      "23  2013    4  2.840711e+06\n",
      "24  2013    5  3.658085e+06\n",
      "25  2013    6  5.726265e+06\n",
      "26  2013    7  5.521841e+06\n",
      "27  2013    8  3.733973e+06\n",
      "28  2013    9  5.083505e+06\n",
      "29  2013   10  5.374376e+06\n",
      "30  2013   11  3.694668e+06\n",
      "31  2013   12  4.560577e+06\n",
      "32  2014    1  4.798028e+06\n",
      "33  2014    2  1.478213e+06\n",
      "34  2014    3  8.097036e+06\n",
      "35  2014    4  1.985886e+06\n",
      "36  2014    5  6.006183e+06\n",
      "37  2014    6  5.415148e+04\n"
     ]
    }
   ],
   "source": [
    "# HACIENDO USO DE SQLAlchemy\n",
    "\n",
    "from sqlalchemy import create_engine\n",
    "import pandas as pd\n",
    "\n",
    "# Crear cadena de conexión utilizando SQLAlchemy\n",
    "\n",
    "engine = create_engine('mssql+pyodbc://DESKTOP-MAM6T2F/AdventureWorks2019?driver=SQL+Server&Trusted_connection=yes')\n",
    "    \n",
    "# Definir la consulta SQL\n",
    "input_query = '''\n",
    "SELECT\n",
    "    year(t1.OrderDate) AS año,\n",
    "    month(t1.OrderDate) AS mes,\n",
    "    sum(t1.TotalDue) AS ventas\n",
    "FROM Sales.SalesOrderHeader AS t1\n",
    "GROUP BY year(t1.OrderDate), month(t1.OrderDate)\n",
    "ORDER BY year(t1.OrderDate), month(t1.OrderDate)\n",
    "'''\n",
    "\n",
    "\n",
    "ventas = pd.read_sql(input_query, engine)\n",
    "    \n",
    "print(ventas)\n",
    "\n"
   ]
  },
  {
   "cell_type": "markdown",
   "id": "f5e9ef65",
   "metadata": {},
   "source": [
    "EXPLICACION LINEA POR LINEA DEL CODIGO USANDO LA LIBRERIA SQLAlchemy\n",
    "\n",
    "1. from sqlalchemy import create_engine\n",
    "    Esta línea importa la función 'create_engine' del módulo 'sqlalchemy'\n",
    "\n",
    "2. import pandas as pd\n",
    "    Esta línea importa la biblioteca 'pandas' y le asigna el alias 'pd'.\n",
    "\n",
    "3. engine = create_engine('mssql+pyodbc://T05W12/AdventureWorks2019?driver=SQL+Server&Trusted_connection=yes')\n",
    "    Se hace uso de la función 'create_engine' para crear la instancia 'engine' la cual permite la conexion con la base de datos 'AdventureWorks2019' de un servidor de SQL Server\n",
    "\n",
    "4. input_query = '''select\n",
    "\t year(t1.OrderDate) as 'año', \n",
    "\t month(t1.OrderDate) as 'mes',\n",
    "\t sum(t1.TotalDue) as 'ventas'\n",
    "   from Sales.SalesOrderHeader as t1\n",
    "\tgroup by year(t1.OrderDate), month(t1.OrderDate) \n",
    "\torder by year(t1.OrderDate), month(t1.OrderDate)'''\n",
    "\n",
    "\tEs una consulta en SQL que se almacena en la variable: input_query  \n",
    "\n",
    "5. ventas = pd.read_sql(input_query, engine)\n",
    "   Esta linea ejecuta la consulta SQL almacenada en la variable: 'input_query', utilizando la conexión 'engine' y almacena el resultado en un 'DataFrame'\n",
    "   llamado 'ventas' \n",
    "\n",
    "6. print(ventas)\n",
    "   Imprime el DataFrame 'ventas'\n",
    "\t"
   ]
  },
  {
   "cell_type": "markdown",
   "id": "f0b853a6",
   "metadata": {},
   "source": [
    "### Exploración del dataset extraído (ventas)"
   ]
  },
  {
   "cell_type": "markdown",
   "id": "4f1fc40a-cf45-40e9-9603-7d484f4249ab",
   "metadata": {},
   "source": [
    "- Muestre la información general del dataframe (info):"
   ]
  },
  {
   "cell_type": "code",
   "execution_count": 49,
   "id": "3fa02ca6-461b-4620-bbb8-1a37104e88db",
   "metadata": {},
   "outputs": [
    {
     "name": "stdout",
     "output_type": "stream",
     "text": [
      "<class 'pandas.core.frame.DataFrame'>\n",
      "RangeIndex: 38 entries, 0 to 37\n",
      "Data columns (total 3 columns):\n",
      " #   Column  Non-Null Count  Dtype  \n",
      "---  ------  --------------  -----  \n",
      " 0   año     38 non-null     int64  \n",
      " 1   mes     38 non-null     int64  \n",
      " 2   ventas  38 non-null     float64\n",
      "dtypes: float64(1), int64(2)\n",
      "memory usage: 1.0 KB\n"
     ]
    }
   ],
   "source": [
    "ventas.info()"
   ]
  },
  {
   "cell_type": "markdown",
   "id": "efeec6ef-c877-4eb3-8af1-b94a526f2c0a",
   "metadata": {},
   "source": [
    "- Imprima un resumen de las principales estadisticas descriptivas para el dataframe ventas: count, mean, std, min, 25%,  50%, 75%, max. Explique e interprete la salida. "
   ]
  },
  {
   "cell_type": "code",
   "execution_count": 50,
   "id": "51cf8eb7-ec4f-405f-8010-34d44a8d8c6d",
   "metadata": {},
   "outputs": [
    {
     "name": "stdout",
     "output_type": "stream",
     "text": [
      "               año        mes        ventas\n",
      "count    38.000000  38.000000  3.800000e+01\n",
      "mean   2012.421053   6.447368  3.242547e+06\n",
      "std       1.003550   3.414574  1.787701e+06\n",
      "min    2011.000000   1.000000  5.415148e+04\n",
      "25%    2012.000000   4.000000  2.013703e+06\n",
      "50%    2012.000000   6.000000  3.256598e+06\n",
      "75%    2013.000000   9.000000  4.535017e+06\n",
      "max    2014.000000  12.000000  8.097036e+06\n"
     ]
    }
   ],
   "source": [
    "print(ventas.describe())"
   ]
  },
  {
   "cell_type": "markdown",
   "id": "4c9d4057",
   "metadata": {},
   "source": [
    "- Mostrar las dimensiones del dataset"
   ]
  },
  {
   "cell_type": "code",
   "execution_count": 51,
   "id": "75770ef7-8983-46ff-8bf8-78bedfd5a4e3",
   "metadata": {},
   "outputs": [
    {
     "name": "stdout",
     "output_type": "stream",
     "text": [
      "(38, 3)\n"
     ]
    }
   ],
   "source": [
    "print(ventas.shape)"
   ]
  },
  {
   "cell_type": "markdown",
   "id": "bca68806-3b0f-4901-b6c7-726f0fd9325d",
   "metadata": {},
   "source": [
    "- Imprimir en un objeto tipo Index todas las columnas del dataframe"
   ]
  },
  {
   "cell_type": "code",
   "execution_count": 52,
   "id": "831aa235-bca9-45fa-a769-872fb3b1d307",
   "metadata": {},
   "outputs": [
    {
     "name": "stdout",
     "output_type": "stream",
     "text": [
      "Index(['año', 'mes', 'ventas'], dtype='object')\n"
     ]
    }
   ],
   "source": [
    "print(ventas.columns)"
   ]
  },
  {
   "cell_type": "markdown",
   "id": "f9eaa9b4-86cc-446b-8666-b53af01e4cac",
   "metadata": {},
   "source": [
    "- Muestre el contenido de las primeras 15 líneas del dataframe"
   ]
  },
  {
   "cell_type": "code",
   "execution_count": 7,
   "id": "10ff1751-8639-4a88-ba8b-a61b9d4858f0",
   "metadata": {},
   "outputs": [
    {
     "name": "stdout",
     "output_type": "stream",
     "text": [
      "     año  mes        ventas\n",
      "0   2011    5  5.670209e+05\n",
      "1   2011    6  5.070965e+05\n",
      "2   2011    7  2.292183e+06\n",
      "3   2011    8  2.800576e+06\n",
      "4   2011    9  5.547916e+05\n",
      "5   2011   10  5.156270e+06\n",
      "6   2011   11  8.153130e+05\n",
      "7   2011   12  1.462449e+06\n",
      "8   2012    1  4.458337e+06\n",
      "9   2012    2  1.649052e+06\n",
      "10  2012    3  3.336347e+06\n",
      "11  2012    4  1.871924e+06\n",
      "12  2012    5  3.452924e+06\n",
      "13  2012    6  4.610647e+06\n",
      "14  2012    7  3.840231e+06\n"
     ]
    }
   ],
   "source": [
    "print(ventas.head(15))"
   ]
  },
  {
   "cell_type": "markdown",
   "id": "901cb91c-e275-46b8-9953-8f9f012ec6f2",
   "metadata": {},
   "source": [
    "- Muestre las últimas cinco líneas del dataframe"
   ]
  },
  {
   "cell_type": "code",
   "execution_count": 9,
   "id": "8ac42a65-3500-411d-9c35-1950327a956d",
   "metadata": {},
   "outputs": [
    {
     "name": "stdout",
     "output_type": "stream",
     "text": [
      "     año  mes        ventas\n",
      "33  2014    2  1.478213e+06\n",
      "34  2014    3  8.097036e+06\n",
      "35  2014    4  1.985886e+06\n",
      "36  2014    5  6.006183e+06\n",
      "37  2014    6  5.415148e+04\n"
     ]
    }
   ],
   "source": [
    "print(ventas.tail(5))\n"
   ]
  },
  {
   "cell_type": "markdown",
   "id": "143fd4d2-0779-4aa5-a7a1-31c5d54036d2",
   "metadata": {},
   "source": [
    "- Calcule Correlaciones y Covarianzas. Explicar resultados"
   ]
  },
  {
   "cell_type": "code",
   "execution_count": 55,
   "id": "e7bd609b-aaac-44d1-b008-6572c973ff96",
   "metadata": {},
   "outputs": [
    {
     "name": "stdout",
     "output_type": "stream",
     "text": [
      "CORRELACIONES\n",
      "-------------\n",
      "             año       mes    ventas\n",
      "año     1.000000 -0.403492  0.418327\n",
      "mes    -0.403492  1.000000 -0.039554\n",
      "ventas  0.418327 -0.039554  1.000000\n",
      "\n",
      "COVARIANZAS\n",
      "-----------\n",
      "                  año            mes        ventas\n",
      "año          1.007112      -1.382646  7.504982e+05\n",
      "mes         -1.382646      11.659317 -2.414469e+05\n",
      "ventas  750498.189751 -241446.928150  3.195875e+12\n"
     ]
    }
   ],
   "source": [
    "print(\"CORRELACIONES\")\n",
    "print(\"-------------\")\n",
    "print(ventas.corr())\n",
    "print()\n",
    "print(\"COVARIANZAS\")\n",
    "print(\"-----------\")\n",
    "print(ventas.cov())\n",
    "\n",
    "\n"
   ]
  },
  {
   "cell_type": "markdown",
   "id": "e5d7fed4",
   "metadata": {},
   "source": [
    "- En la matriz de correlacion se puede observar que entre 'ventas' y 'año' existe una correlación muy baja de 0.42 lo ual indica que los incrementos o disminuciones de ventas no tienen que ver con el trancurso de los años.\n",
    "- El mismo analisis anterior, se puede notar con los 'meses', donde la correlación es de -0.039.\n",
    "En resumen el eincremento o disminución de las ventas no está relacionado con el 'tiempo'\n",
    "\n",
    "- En cuanto a la covarianza entre las 'ventas' y 'año' nos dice que a medida que aumenta los 'año' aumenta las 'ventas' y viceversa, lo contrario de 'ventas' y 'mes', donde a medida que aumenta los 'meses' disminuyes las 'ventas' y 'vicevera', es decir, una tendencia positiva en los años y negativa en los meses, pero es obvio que para una evaluación mas completa , aqui determima primeramente el coeficiente de correlacion y lo que nos dice el coeficiente de correlación es que no existe ninguna relacion entre 'ventas' y 'tiempo'; se deduce entones que los resultados de las covarianzas no son 'causales'."
   ]
  },
  {
   "cell_type": "markdown",
   "id": "5b4bc3ae",
   "metadata": {},
   "source": [
    "## Visualización gráfica de los datos"
   ]
  },
  {
   "cell_type": "markdown",
   "id": "e6947453",
   "metadata": {},
   "source": [
    "### Gráfico de barras de las ventas por mes"
   ]
  },
  {
   "cell_type": "markdown",
   "id": "39116fc4",
   "metadata": {},
   "source": [
    "Se realiza una exploración visual de curva que dibuja las ventas agrupadas por mes."
   ]
  },
  {
   "cell_type": "markdown",
   "id": "65fc915b-91f5-4439-9595-ddf3f30a0625",
   "metadata": {},
   "source": [
    "- Explique línea por línea el siguiente código:"
   ]
  },
  {
   "cell_type": "code",
   "execution_count": 5,
   "id": "4bc6103d",
   "metadata": {},
   "outputs": [
    {
     "data": {
      "image/png": "[encoded data removed]",
      "text/plain": [
       "<Figure size 1200x800 with 1 Axes>"
      ]
     },
     "metadata": {},
     "output_type": "display_data"
    }
   ],
   "source": [
    "ventas_por_mes = ventas.groupby('mes')['ventas'].sum().reset_index()\n",
    "sns.barplot(x='mes', y='ventas', data=ventas_por_mes)\n",
    "plt.title('Ventas por mes')\n",
    "plt.show()"
   ]
  },
  {
   "cell_type": "markdown",
   "id": "801bb3dd",
   "metadata": {},
   "source": [
    "EXPLICACION LINEA POR LINEA:\n",
    "\n",
    "- ventas_por_mes = ventas.groupby('mes')['ventas'].sum().reset_index()\n",
    "En el DataFrame, agrupa y suma las ventas por 'meses'; reinicia los índices para que 'mes' sea una columna regular en lugar de ser el 'indice'\n",
    "\n",
    "- sns.barplot(x='mes', y='ventas', data=ventas_por_mes)\n",
    "Utiliza la función 'barplot' de la biblioteca 'Seaborn' para crear un gráfico de barras. Aquí está la explicación detallada de esta línea:\n",
    "\n",
    "- plt.title('Ventas por mes')\n",
    "Crea el Titulo del gráfico de barras.\n",
    "\n",
    "- plt.show()\n",
    "Muestra el gráfico por pantalla\n"
   ]
  },
  {
   "cell_type": "markdown",
   "id": "517fe194-a7cb-4a70-8445-21222ab0ac17",
   "metadata": {},
   "source": [
    "- Interpretar o explicar lo que el gráfico de arriba 'esta diciendo'."
   ]
  },
  {
   "cell_type": "markdown",
   "id": "6a03753e",
   "metadata": {},
   "source": [
    "- En el eje 'horizontal' de distribuyen los doce meses del año y por cada mes se levanta una barra hasta la altura marcada en el 'eje vertical' que identifica el volúmen de las ventas.\n",
    "\n",
    "- Asi podemos ver de primer impacto, que 'marzo' es el mes donde se 'vendió más', asi como, 'febrero' fue el mes donde se 'vendió menos'."
   ]
  },
  {
   "cell_type": "markdown",
   "id": "fd85d5fb",
   "metadata": {},
   "source": [
    "### Gráfico de línea de las ventas por año"
   ]
  },
  {
   "cell_type": "markdown",
   "id": "d49f891b",
   "metadata": {},
   "source": [
    "Se observa la curva que dibuja la evolución de las ventas agrupadas por año."
   ]
  },
  {
   "cell_type": "markdown",
   "id": "b0ac39e8-3bdc-4e0f-b2dc-bf74d7408dfe",
   "metadata": {},
   "source": [
    "- Explique línea por línea el siguiente código:"
   ]
  },
  {
   "cell_type": "code",
   "execution_count": 6,
   "id": "edf27161",
   "metadata": {},
   "outputs": [
    {
     "data": {
      "image/png": "[encoded data removed]",
      "text/plain": [
       "<Figure size 1200x800 with 1 Axes>"
      ]
     },
     "metadata": {},
     "output_type": "display_data"
    }
   ],
   "source": [
    "ventas_por_año = ventas.groupby('año')['ventas'].sum().reset_index()\n",
    "plt.plot(ventas_por_año['año'], ventas_por_año['ventas'])\n",
    "plt.title('Ventas por año')\n",
    "plt.xlabel('Año')\n",
    "plt.ylabel('Ventas')\n",
    "plt.show()"
   ]
  },
  {
   "cell_type": "markdown",
   "id": "b37cd1ea",
   "metadata": {},
   "source": [
    "EXPLICACION LINEA POR LINEA:\n",
    "\n",
    "- ventas_por_año = ventas.groupby('año')['ventas'].sum().reset_index()\n",
    "En el DataFrame, agrupa y suma las ventas por 'años'; reinicia los índices para que 'año' sea una columna regular en lugar de ser el 'indice'\n",
    "\n",
    "- plt.plot(ventas_por_año['año'], ventas_por_año['ventas'])\n",
    "Utiliza la biblioteca Matplotlib para crear un gráfico de líneas\n",
    "\n",
    "- plt.title('Ventas por año')\n",
    "Crea el Titulo del gráfico de lineas.\n",
    "\n",
    "- plt.xlabel('Año')\n",
    "Este codigo es para etiquetar 'el eje x' o 'horizontal' del gráfico creado por Matplotlib, en este caso lo etiqueta con 'Año'\n",
    "\n",
    "- plt.ylabel('Ventas')\n",
    "Este codigo es para etiquetar 'el eje y' o 'vertical' del gráfico creado por Matplotlib, en este caso lo etiqueta con 'Ventas'\n",
    "\n",
    "- plt.show()\n",
    "Muestra el gráfico por pantalla\n"
   ]
  },
  {
   "cell_type": "markdown",
   "id": "811b0d40-3adb-4560-9df1-7427875218c0",
   "metadata": {},
   "source": [
    "- Interpretar o explicar lo que el gráfico de arriba 'esta diciendo'."
   ]
  },
  {
   "cell_type": "markdown",
   "id": "5a863a6c",
   "metadata": {},
   "source": [
    "- El gráfico de línea nos está diceindo que el punto mas alto de las ventas se alcanzó aproximadamente en el primer 'mes' del año '2013' con aproximadamente '4.9'\n",
    "\n",
    "- Que a partir del año '2013', las 'ventas' anuales comenzaron a bajar de forma lineal.\n",
    "\n",
    "- El punto más bajo de ventas, es decri, donde se vendió menos fué aproximadamente, a finales del '2011', con ventas aproximadas de '1.4'"
   ]
  },
  {
   "cell_type": "markdown",
   "id": "8196accf",
   "metadata": {},
   "source": [
    "### Prueba formal: Prueba de tendencia"
   ]
  },
  {
   "cell_type": "markdown",
   "id": "f8df1a03",
   "metadata": {},
   "source": [
    "Existen diferentes métodos para realizar el análisis de tendencia, pero uno de los más utilizados es la regresión lineal. La regresión lineal es una técnica estadística que se utiliza para encontrar la relación entre una variable dependiente (por ejemplo, el precio de una acción) y una o más variables independientes (por ejemplo, el tiempo).\n",
    "\n",
    "Se realiza una prueba de tendencia utilizando la función linregress de la biblioteca scipy.stats. Esta función calcula la pendiente de una línea de regresión lineal y el valor p asociado, que indica la probabilidad de que la pendiente sea cero. Si el valor p es menor que 0,05, se concluye que hay evidencia de una tendencia significativa en los datos."
   ]
  },
  {
   "cell_type": "markdown",
   "id": "90201e80-9a7c-41b1-8b59-cd6bfbc3f03a",
   "metadata": {},
   "source": [
    "- Explicar el siguiente código:"
   ]
  },
  {
   "cell_type": "code",
   "execution_count": 10,
   "id": "21fb6ea8",
   "metadata": {},
   "outputs": [
    {
     "name": "stdout",
     "output_type": "stream",
     "text": [
      "Coeficiente de correlación:  0.41832692838621466\n",
      "Intercepto:  -1496409719.9225278\n",
      "Pendiente:  745198.0612926556\n",
      "Valor de probabilidad:  0.008957361661883\n",
      "La tendencia es significativa\n"
     ]
    }
   ],
   "source": [
    "from scipy.stats import linregress\n",
    "\n",
    "pendiente, intercepto, Coef_corr, probabilidad, error_estandar = linregress(ventas['año'], ventas['ventas'])\n",
    "print('Coeficiente de correlación: ', Coef_corr)\n",
    "print('Intercepto: ', intercepto)\n",
    "print('Pendiente: ', pendiente)\n",
    "print('Valor de probabilidad: ', probabilidad)\n",
    "\n",
    "if probabilidad < 0.05:\n",
    "    print('La tendencia es significativa')\n",
    "else:\n",
    "    print('No hay evidencia de tendencia significativa')"
   ]
  },
  {
   "cell_type": "markdown",
   "id": "4f167513",
   "metadata": {},
   "source": [
    "- Podemos ver que aunque el coeficiente de correlación es bajo de '0.4', hay significación estadistica entre 'ventas' y 'año', por lo cual podemos\n",
    "concluir que el coeficiente de correlasión no es concluyente para definir si el modelo de regresión sirve para predecir.\n",
    "\n",
    "- Existe otra medida estadistica, 'Coeficiente de detrminación' (R-square), que determina que proporcion de la varianza de la variable dependiente 'Y' (ventas) es explicada por la variable independiente 'X' (año)\n",
    "\n",
    "- R-square = Coef_corr**2 = 0.4183269 ** 2 = 0.1749 \n",
    "\n",
    "- En nuestro caso el 'coeficiente de determinación' (R-square) da un valor de: 0.17499, que me dice que el 17.5% de los cambios de las 'ventas' estan determinado por el cambio de los 'años'"
   ]
  },
  {
   "cell_type": "markdown",
   "id": "433c3081",
   "metadata": {},
   "source": [
    "EXPLICACION LINEA POR LINEA:\n",
    "\n",
    "- pendiente, intercepto, Coef_corr, probabilidad, error_estandar = linregress(ventas['año'], ventas['ventas'])\n",
    "Realiza una regresión lineal simple utilizando la función 'linregress' del módulo 'scipy.stats'. Devolviendo los resultados de:\n",
    "pendiente, intercepto, Coef_corr (Coeficiente de correlación), probabilidad (probabilidad marginal) y error_estandar (representa la variabilidad esperada en la estimación si se repitiera\n",
    "el experimento de muestreo muchas veces)\n",
    "\n",
    "- print('Coeficiente de correlación: ', Coef_corr)\n",
    "  print('Intercepto: ', intercepto)\n",
    "  print('Pendiente: ', pendiente)\n",
    "  print('Valor de probabilidad: ', probabilidad)\n",
    "\n",
    "Se imprimen cada uno de los valores devuelto por la función.\n",
    "\n",
    "- if probabilidad < 0.05:\n",
    "    print('La tendencia es significativa')\n",
    " else:\n",
    "    print('No hay evidencia de tendencia significativa')\n",
    "\n",
    "Se compara la 'probabilidad marginal' 'probabilidad' con 0.05 (5%), para ver si se rechaza o no la Hipotesis nula de que no exista diferencias significativa en los estimadores (coef = 0).\n",
    "Si la probabilidad < 0.05 cae en zona de rechazo por ende existen diferencias significativas entre  las variables 'dependiente' e 'independientes', es decir, que los años tienen efectos significativo sobre las ventas. \n",
    "\n",
    "Sin embargo esto no garantiza que el modelo en su totalidad sea bueno, o el mejor modelo posible, para esto se necesita ademas de R-square:\n",
    "\n",
    "- Un analisis de los factores independientes, es decir, pruebas t-studen para cada variable independiente del modelo (en caso que tenga mas de una)\n",
    "\n",
    "- Y probar el cumplimiento de los supuestos del modelo tales como:\n",
    "  . Linealidad\n",
    "  . Independencia de los errores\n",
    "  . Homocedasticidad\n",
    "  . Normalidad de los errores"
   ]
  },
  {
   "cell_type": "markdown",
   "id": "a0f05972",
   "metadata": {},
   "source": [
    "Modelo de Regresión:\n",
    "\n",
    "Ventas = -1496409719.9225278 + 745198.0612926556 * año\n"
   ]
  },
  {
   "cell_type": "markdown",
   "id": "d48ee46b",
   "metadata": {},
   "source": [
    "## Conclusiones"
   ]
  },
  {
   "cell_type": "markdown",
   "id": "17fd1682",
   "metadata": {},
   "source": [
    "Luego del análisis realizado se puede concluir que la *pendiente* de **745198.0612926556** indica que hay un aumento en las ventas por año en la base de datos AdventureWorks2019. Es decir, en promedio, las ventas están aumentando en **745198.06 unidades por año**.\n",
    "\n",
    "El *valor p* de **0.008957361661882999** indica que la probabilidad de obtener una pendiente tan grande como la observada en los datos si la pendiente real es cero es de aproximadamente **0.9%**. Como este valor p es menor que el nivel de significancia comúnmente utilizado de *0,05*, se concluye que hay evidencia suficiente para afirmar que hay una tendencia significativa en los datos.\n",
    "\n",
    "***Por lo tanto, se puede afirmar que las ventas de AdventureWorks2019 están aumentando significativamente con el tiempo.***"
   ]
  },
  {
   "cell_type": "markdown",
   "id": "52fd71a6",
   "metadata": {},
   "source": [
    "## Recomendaciones"
   ]
  },
  {
   "cell_type": "markdown",
   "id": "cf9529d0",
   "metadata": {},
   "source": [
    "Dado que las ventas están aumentando significativamente con el tiempo, una recomendación para la empresa podría ser continuar invirtiendo en áreas clave para mantener esta tendencia positiva. Por ejemplo, la empresa podría considerar:\n",
    "\n",
    "* *Mejorar el marketing*: la empresa podría invertir en esfuerzos de marketing para aumentar la conciencia de marca y atraer a más clientes potenciales.\n",
    "\n",
    "* *Expandir la oferta de productos*: si la empresa ve un aumento en las ventas en ciertas categorías de productos, podría considerar expandir su oferta en esas áreas para aprovechar esa tendencia.\n",
    "\n",
    "* *Optimizar la cadena de suministro*: si la empresa ve una tendencia a largo plazo de aumento en las ventas, podría considerar optimizar su cadena de suministro para garantizar que pueda satisfacer la demanda futura y mantener su nivel de servicio al cliente.\n",
    "\n",
    "* *Fomentar la fidelidad del cliente*: la empresa podría implementar programas de lealtad para fomentar la fidelidad del cliente y aumentar la retención.\n",
    "\n",
    "* *Explorar nuevos canales de venta*: la empresa podría considerar expandir su presencia en línea o abrir nuevas tiendas para aprovechar la tendencia positiva en las ventas.\n",
    "\n",
    "En general, la recomendación sería que la empresa mantenga un enfoque en la comprensión y la satisfacción de las necesidades de sus clientes, así como en la eficiencia operativa, a medida que busca capitalizar en la tendencia positiva en las ventas."
   ]
  },
  {
   "cell_type": "markdown",
   "id": "28e61805-e1bc-4a01-9040-2cfe6d094ec1",
   "metadata": {},
   "source": [
    "- Efectuar nuevas consultas sql (desde **Azure Data Studio** o desde **SQL Server Managment Studio**).  Suponga que aún no le han informado del objetivo negocio, por lo tanto debe en primer lugar entender los datos que tiene. Explorar los datos que tienes en la misma base de datos **AdventureWorks2019** y ver que información relevante y de utilidad se puede extraer de allí. Guardar la(s) query(s) final(es) y luego pasarlo a `SQLALchemy` para obtener un dataframe final sobre el cual vas a realizar análisis descriptivos (con pandas) como los efectuados en el caso expuesto arriba. Los plots son opcionales. Elaborar conclusiones y recomendaciones sobre el potencial de tus resultados.   "
   ]
  },
  {
   "cell_type": "markdown",
   "metadata": {},
   "source": [
    "EL SIGUIENTE CASO ES UN ESTUDIO ENTRE LA CANTIDAD DE PRODUCTOS QUE SE COMPRAN Y LA CANTIDAD DEPRODUCTOS QUE SE VENDEN MENSUALMENTE"
   ]
  },
  {
   "cell_type": "code",
   "execution_count": 29,
   "id": "26d00183-6058-42c5-b9d0-a211349690a8",
   "metadata": {},
   "outputs": [
    {
     "name": "stdout",
     "output_type": "stream",
     "text": [
      " MES  CANT_COMPRAS  CANT_VENTAS\n",
      "   1           672        10266\n",
      "   2           666         6657\n",
      "   3           799        13899\n",
      "   4           784         8346\n",
      "   5           890        13499\n",
      "   6           944        10696\n",
      "   7           947        10961\n",
      "   8          1103         8760\n",
      "   9           688         9611\n",
      "  10           359        11453\n",
      "  11           324         7941\n",
      "  12           669         9228\n"
     ]
    },
    {
     "data": {
      "image/png": "[encoded data removed]",
      "text/plain": [
       "<Figure size 1000x600 with 1 Axes>"
      ]
     },
     "metadata": {},
     "output_type": "display_data"
    }
   ],
   "source": [
    "from sqlalchemy import create_engine\n",
    "import numpy as np\n",
    "import pandas as pd\n",
    "import matplotlib.pyplot as plt\n",
    "import seaborn as sns\n",
    "from scipy.stats import linregress\n",
    "\n",
    "# Crear cadena de conexión utilizando SQLAlchemy\n",
    "\n",
    "engine = create_engine('mssql+pyodbc://DESKTOP-MAM6T2F/AdventureWorks2019?driver=SQL+Server&Trusted_connection=yes')\n",
    "    \n",
    "# Definir la consulta SQL\n",
    "query_compras = '''\n",
    "SELECT Month(h.ModifiedDate) AS MES, COUNT(*) AS CANT_COMPRAS\n",
    "FROM [Purchasing].[PurchaseOrderHeader] h\n",
    "INNER JOIN [Purchasing].[PurchaseOrderDetail] hd\n",
    "ON h.PurchaseOrderID = hd.PurchaseOrderID\n",
    "GROUP BY Month(h.ModifiedDate)\n",
    "ORDER BY MES;\n",
    "'''\n",
    "\n",
    "query_ventas= ''' \n",
    "SELECT Month(h.OrderDate) AS MES, COUNT(*) AS CANT_VENTAS\n",
    "FROM [Sales].[SalesOrderHeader] h\n",
    "INNER JOIN [Sales].[SalesOrderDetail] hd\n",
    "ON h.SalesOrderID=hd.SalesOrderID\n",
    "GROUP BY Month(h.OrderDate)\n",
    "ORDER BY MES;\n",
    "'''\n",
    "\n",
    "\n",
    "compras = pd.read_sql(query_compras, engine)\n",
    "\n",
    "ventas = pd.read_sql(query_ventas, engine)\n",
    "\n",
    "# Eliminando índices\n",
    "compras.reset_index(drop=True, inplace=True)    \n",
    "ventas.reset_index(drop=True, inplace=True)\n",
    "\n",
    "# Uniendo DataFrame\n",
    "relacion_compra_venta= pd.merge(compras, ventas, on='MES')\n",
    "    \n",
    "#print(compras)\n",
    "#print()\n",
    "#print(ventas)\n",
    "#print()\n",
    "print(relacion_compra_venta.to_string(index=False))\n",
    "\n",
    "plt.figure(figsize=(10, 6)) #Define el tamaño de la figura\n",
    "\n",
    "# GRAFICO DE LINEA\n",
    "# plt.plot(relacion_compra_venta['CANT_COMPRAS'], relacion_compra_venta['CANT_VENTAS'], marker='o') #marker = 'o' Dibuja un gráfico de lineas con marcadores en los puntos de datos\n",
    "\n",
    "# GRAFICO DE DISPERSION\n",
    "plt.scatter(relacion_compra_venta['CANT_COMPRAS'], relacion_compra_venta['CANT_VENTAS'], c='blue', marker='o')\n",
    "\n",
    "plt.title('Relacion Compra vs. Venta')\n",
    "plt.xlabel('Compras')\n",
    "plt.ylabel('Ventas')\n",
    "\n",
    "\n",
    "# AJUSTAR UNA LINEA DE TENDENCIA\n",
    "x = relacion_compra_venta['CANT_COMPRAS']\n",
    "y = relacion_compra_venta['CANT_VENTAS']\n",
    "coefficients = np.polyfit(x, y, 1)        # Ajustar una línea de tendencia lineal\n",
    "polynomial = np.poly1d(coefficients)      # Crear un objeto de polinomio\n",
    "trendline = polynomial(x)                 # Generar valores de la línea de tendencia\n",
    "\n",
    "plt.plot(x, trendline, color='red', linestyle='--', linewidth=2, label='Línea de Tendencia')\n",
    "\n",
    "# Añadir una leyenda\n",
    "plt.legend()\n",
    "\n",
    "# Mostrar el gráfico\n",
    "plt.grid(True)\n",
    "plt.show()\n",
    "\n"
   ]
  },
  {
   "cell_type": "code",
   "execution_count": 30,
   "id": "33673e09",
   "metadata": {},
   "outputs": [
    {
     "name": "stdout",
     "output_type": "stream",
     "text": [
      "Coeficiente de correlación:  0.21698912732489867\n",
      "Intercepto:  8605.33004765899\n",
      "Pendiente:  2.0410445933399806\n",
      "Valor de probabilidad:  0.4981380795731385\n",
      "No hay evidencia de tendencia significativa\n"
     ]
    }
   ],
   "source": [
    "# ANALISIS DE REGRESION LINEAL\n",
    "pendiente, intercepto, Coef_corr, probabilidad, error_estandar = linregress(relacion_compra_venta['CANT_COMPRAS'], relacion_compra_venta['CANT_VENTAS'])\n",
    "print('Coeficiente de correlación: ', Coef_corr)\n",
    "print('Intercepto: ', intercepto)\n",
    "print('Pendiente: ', pendiente)\n",
    "print('Valor de probabilidad: ', probabilidad)\n",
    "\n",
    "if probabilidad < 0.05:\n",
    "    print('La tendencia es significativa')\n",
    "else:\n",
    "    print('No hay evidencia de tendencia significativa')\n",
    "\n"
   ]
  },
  {
   "cell_type": "markdown",
   "id": "493d3abb",
   "metadata": {},
   "source": [
    "En este resultado nos dice que no hay relación entre la cantidad de productos que se compran en el mes y la cantidad de ventas."
   ]
  },
  {
   "cell_type": "code",
   "execution_count": null,
   "id": "6bde5e57",
   "metadata": {},
   "outputs": [],
   "source": [
    "relacion_compra_venta['CANT_VENTAS'].corr(relacion_compra_veta['CANT_COMPRAS'])"
   ]
  }
 ],
 "metadata": {
  "kernelspec": {
   "display_name": "Python 3 (ipykernel)",
   "language": "python",
   "name": "python3"
  },
  "language_info": {
   "codemirror_mode": {
    "name": "ipython",
    "version": 3
   },
   "file_extension": ".py",
   "mimetype": "text/x-python",
   "name": "python",
   "nbconvert_exporter": "python",
   "pygments_lexer": "ipython3",
   "version": "3.11.9"
  }
 },
 "nbformat": 4,
 "nbformat_minor": 5
}

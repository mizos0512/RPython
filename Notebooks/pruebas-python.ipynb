{
 "cells": [
  {
   "cell_type": "code",
   "execution_count": 6,
   "metadata": {},
   "outputs": [],
   "source": [
    "#USO DE assert\n",
    "assert 1+1 == 2, \"1 + 1 debe ser igual 2 pero no fue\" \n",
    "# Si la evaluación falla se emitirá el mensaje"
   ]
  },
  {
   "cell_type": "code",
   "execution_count": 16,
   "metadata": {},
   "outputs": [
    {
     "name": "stdout",
     "output_type": "stream",
     "text": [
      "2\n",
      "\n"
     ]
    },
    {
     "ename": "AssertionError",
     "evalue": "Lista vacía, no tiene elementos pequeños",
     "output_type": "error",
     "traceback": [
      "\u001b[1;31m---------------------------------------------------------------------------\u001b[0m",
      "\u001b[1;31mAssertionError\u001b[0m                            Traceback (most recent call last)",
      "Cell \u001b[1;32mIn[16], line 8\u001b[0m\n\u001b[0;32m      6\u001b[0m \u001b[38;5;28mprint\u001b[39m(smallet_item([\u001b[38;5;241m2\u001b[39m, \u001b[38;5;241m34\u001b[39m, \u001b[38;5;241m6\u001b[39m]))\n\u001b[0;32m      7\u001b[0m \u001b[38;5;28mprint\u001b[39m()\n\u001b[1;32m----> 8\u001b[0m \u001b[38;5;28mprint\u001b[39m(\u001b[43msmallet_item\u001b[49m\u001b[43m(\u001b[49m\u001b[43m[\u001b[49m\u001b[43m]\u001b[49m\u001b[43m)\u001b[49m)\n",
      "Cell \u001b[1;32mIn[16], line 3\u001b[0m, in \u001b[0;36msmallet_item\u001b[1;34m(xs)\u001b[0m\n\u001b[0;32m      2\u001b[0m \u001b[38;5;28;01mdef\u001b[39;00m \u001b[38;5;21msmallet_item\u001b[39m(xs):\n\u001b[1;32m----> 3\u001b[0m     \u001b[38;5;28;01massert\u001b[39;00m xs, \u001b[38;5;124m\"\u001b[39m\u001b[38;5;124mLista vacía, no tiene elementos pequeños\u001b[39m\u001b[38;5;124m\"\u001b[39m\n\u001b[0;32m      4\u001b[0m     \u001b[38;5;28;01mreturn\u001b[39;00m \u001b[38;5;28mmin\u001b[39m(xs)\n",
      "\u001b[1;31mAssertionError\u001b[0m: Lista vacía, no tiene elementos pequeños"
     ]
    }
   ],
   "source": [
    "#EVALUANDO ENTRADAS A FUNCIONES\n",
    "def smallet_item(xs):\n",
    "    assert xs, \"Lista vacía, no tiene elementos pequeños\"\n",
    "    return min(xs)\n",
    "\n",
    "print(smallet_item([2, 34, 6]))\n",
    "print()\n",
    "print(smallet_item([]))"
   ]
  },
  {
   "cell_type": "code",
   "execution_count": 19,
   "metadata": {},
   "outputs": [
    {
     "data": {
      "text/plain": [
       "[('a', 1), ('b', 2), ('c', 3)]"
      ]
     },
     "execution_count": 19,
     "metadata": {},
     "output_type": "execute_result"
    }
   ],
   "source": [
    "#EMPAQUETADO Y DESEMPAQUETADO E ARGUMENTOS\n",
    "#LA FUNCION 'zip' TRANSFORMA VARIOS ITERABLES EN UNO SOLO DE 'TUPLAS' DE FUNCION CORRRESPONDIENTES:\n",
    "\n",
    "list1=[1, 2, 3]\n",
    "list2=['a', 'b', 'c']\n",
    "\n",
    "[pares for pares in zip(list1, list2)]\n"
   ]
  }
 ],
 "metadata": {
  "kernelspec": {
   "display_name": "Python 3",
   "language": "python",
   "name": "python3"
  },
  "language_info": {
   "codemirror_mode": {
    "name": "ipython",
    "version": 3
   },
   "file_extension": ".py",
   "mimetype": "text/x-python",
   "name": "python",
   "nbconvert_exporter": "python",
   "pygments_lexer": "ipython3",
   "version": "3.12.1"
  }
 },
 "nbformat": 4,
 "nbformat_minor": 2
}

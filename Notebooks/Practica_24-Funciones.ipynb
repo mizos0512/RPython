{
 "cells": [
  {
   "cell_type": "markdown",
   "id": "b8b3820c",
   "metadata": {},
   "source": [
    "# Practica 24 - Funciones. 15 ejercicios para resolver solo 10."
   ]
  },
  {
   "cell_type": "markdown",
   "id": "51fd8a94",
   "metadata": {},
   "source": [
    "1 - Escribe un programa que defina una función crear_lista( ) para crear y devolver una lista que sea la combinación de dos listas que se le pasen."
   ]
  },
  {
   "cell_type": "code",
   "execution_count": 6,
   "id": "411e44c4",
   "metadata": {},
   "outputs": [
    {
     "name": "stdout",
     "output_type": "stream",
     "text": [
      "Combinacion de la 'lista_fruta' y 'lista_precio': ['Manzana', 'Pera', 'naranja', 3.5, 2.5, 1.5]\n"
     ]
    }
   ],
   "source": [
    "def crear_lista(a,b):\n",
    "    return a+b\n",
    "\n",
    "lista_fruta= ['Manzana','Pera','naranja']\n",
    "lista_precio= [3.50, 2.50, 1.50]    \n",
    "\n",
    "print(f\"Combinacion de la 'lista_fruta' y 'lista_precio': {crear_lista(lista_fruta, lista_precio)}\")"
   ]
  },
  {
   "cell_type": "markdown",
   "id": "1aa4b8b7",
   "metadata": {},
   "source": [
    "2- Escribe una programa que defina una funcion que haga conversiones de precios de moneda. Se le pide al usuario que introduzca la cantidad en euros y que introduzca la divisa a la que quiere convertir. Use por lo menos dos divisas mas: Dolár y Francos por ejemplo. Imprima los resultados."
   ]
  },
  {
   "cell_type": "code",
   "execution_count": 13,
   "id": "cfa89752",
   "metadata": {},
   "outputs": [
    {
     "name": "stdout",
     "output_type": "stream",
     "text": [
      "La conversión de €2.0 en DOLAR es de: $2.40\n"
     ]
    }
   ],
   "source": [
    "def convers(m, t):\n",
    "    if t== 'D':\n",
    "        return 1.08*m\n",
    "    else:\n",
    "        return 0.98*m\n",
    "\n",
    "monto= float(input(\"Cantidad de euros a convertir: \"))\n",
    "tipoDivisa= input(\"Tipo de divisa 'D'- Dolla  'F'- Francos: \")\n",
    "\n",
    "if tipoDivisa.upper() not in ['D','F']:\n",
    "    print(\"Los valores de tipo de divisa a convertir no son válidos...\")\n",
    "else:\n",
    "    if tipoDivisa.upper()=='D':\n",
    "        literal= 'DOLAR'\n",
    "        simbol='$'\n",
    "    else:\n",
    "        literal= 'FRANCO'\n",
    "        simbol='CHF'   \n",
    "    print(f\"La conversión de €{monto} en {literal} es de: {simbol}{convers(monto, tipoDivisa.upper()):.2f}\")    \n"
   ]
  },
  {
   "cell_type": "markdown",
   "id": "e8e0284d",
   "metadata": {},
   "source": [
    "3- Escribe un programa que defina una función llamada limpiar_lista( ) para eliminar todas las entradas duplicadas de la lista que recibe."
   ]
  },
  {
   "cell_type": "code",
   "execution_count": 14,
   "id": "33b4c69b",
   "metadata": {},
   "outputs": [
    {
     "name": "stdout",
     "output_type": "stream",
     "text": [
      "{'JUAN', 'JOSE', 'PEDRO'}\n"
     ]
    }
   ],
   "source": [
    "def limpiar_lista(l):\n",
    "    return(set(l))\n",
    "\n",
    "lista= ['PEDRO', 'JUAN', 'JOSE', 'JUAN']\n",
    "print(limpiar_lista(lista))\n",
    "    "
   ]
  },
  {
   "cell_type": "markdown",
   "id": "0a28448d",
   "metadata": {},
   "source": [
    "4- ¿Cuál de las llamadas a la función imprímelo( ) en el siguiente programa informará de errores?"
   ]
  },
  {
   "cell_type": "code",
   "execution_count": 1,
   "id": "78571ae1",
   "metadata": {},
   "outputs": [
    {
     "ename": "TypeError",
     "evalue": "imprimelo() missing 1 required positional argument: 's'",
     "output_type": "error",
     "traceback": [
      "\u001b[1;31m---------------------------------------------------------------------------\u001b[0m",
      "\u001b[1;31mTypeError\u001b[0m                                 Traceback (most recent call last)",
      "Cell \u001b[1;32mIn[1], line 7\u001b[0m\n\u001b[0;32m      4\u001b[0m     \u001b[38;5;28;01mfor\u001b[39;00m var \u001b[38;5;129;01min\u001b[39;00m args:\n\u001b[0;32m      5\u001b[0m         \u001b[38;5;28mprint\u001b[39m(var, end \u001b[38;5;241m=\u001b[39m \u001b[38;5;124m'\u001b[39m\u001b[38;5;124m'\u001b[39m)\n\u001b[1;32m----> 7\u001b[0m \u001b[43mimprimelo\u001b[49m\u001b[43m(\u001b[49m\u001b[38;5;241;43m10\u001b[39;49m\u001b[43m,\u001b[49m\u001b[43m \u001b[49m\u001b[38;5;241;43m3.14\u001b[39;49m\u001b[43m)\u001b[49m \n\u001b[0;32m      8\u001b[0m imprimelo(\u001b[38;5;241m20\u001b[39m, s \u001b[38;5;241m=\u001b[39m \u001b[38;5;124m'\u001b[39m\u001b[38;5;124mHi\u001b[39m\u001b[38;5;124m'\u001b[39m, a \u001b[38;5;241m=\u001b[39m \u001b[38;5;241m6.28\u001b[39m)\n\u001b[0;32m      9\u001b[0m imprimelo(a \u001b[38;5;241m=\u001b[39m \u001b[38;5;241m6.28\u001b[39m, s \u001b[38;5;241m=\u001b[39m \u001b[38;5;124m'\u001b[39m\u001b[38;5;124mHello\u001b[39m\u001b[38;5;124m'\u001b[39m, i \u001b[38;5;241m=\u001b[39m \u001b[38;5;241m30\u001b[39m) \n",
      "\u001b[1;31mTypeError\u001b[0m: imprimelo() missing 1 required positional argument: 's'"
     ]
    }
   ],
   "source": [
    "def imprimelo(i, a, s, *args) : \n",
    "    print( )\n",
    "    print(i, a, s, end = '') \n",
    "    for var in args:\n",
    "        print(var, end = '')\n",
    "        \n",
    "imprimelo(10, 3.14) \n",
    "imprimelo(20, s = 'Hi', a = 6.28)\n",
    "imprimelo(a = 6.28, s = 'Hello', i = 30) \n",
    "imprimelo(40, 2.35, 'Nag', 'Mum', 10)"
   ]
  },
  {
   "cell_type": "markdown",
   "id": "8004759b",
   "metadata": {},
   "source": [
    "- La llamada imprimelo(10, 3.14) informará de errores, porque la función espera al menos cuatro parámetros posicionales (i, a, s, *args) y la llmada a la función solo proporciona 2 elementos."
   ]
  },
  {
   "cell_type": "markdown",
   "id": "90072e0e",
   "metadata": {},
   "source": [
    "5 - ¿Cuál de las llamadas a funciona( ) en el siguiente programa informará de errores?"
   ]
  },
  {
   "cell_type": "code",
   "execution_count": 2,
   "id": "f5869eee",
   "metadata": {},
   "outputs": [
    {
     "name": "stdout",
     "output_type": "stream",
     "text": [
      "10 !\n",
      "10 !\n",
      "20 !\n",
      "10 !\n",
      "20 !\n",
      "30 !\n",
      "10 +\n",
      "20 +\n",
      "30 +\n",
      "40 +\n"
     ]
    }
   ],
   "source": [
    "def funciona(a, *args, s = '!') :\n",
    "    print(a, s)\n",
    "    for i in args :\n",
    "        print(i, s)\n",
    "        \n",
    "funciona(10) \n",
    "funciona(10, 20)\n",
    "funciona(10, 20, 30)\n",
    "funciona(10, 20, 30, 40, s = '+')"
   ]
  },
  {
   "cell_type": "markdown",
   "id": "c521bc52",
   "metadata": {},
   "source": [
    "- Todas las llamadas son correctas."
   ]
  },
  {
   "cell_type": "markdown",
   "id": "88393dc3",
   "metadata": {},
   "source": [
    "6 - ¿Cuál de las siguientes es una declaración de retorno válida?"
   ]
  },
  {
   "cell_type": "code",
   "execution_count": null,
   "id": "2346695d",
   "metadata": {},
   "outputs": [],
   "source": [
    "return (a, b, c)\n",
    "return a + b + c\n",
    "return a, b, c"
   ]
  },
  {
   "cell_type": "markdown",
   "id": "7e589fe1",
   "metadata": {},
   "source": [
    "Todas son válidas:\n",
    "- La primera devuelve una tupla.\n",
    "- La segunda una suma.\n",
    "- La tercera devuelve tambien una tupla."
   ]
  },
  {
   "cell_type": "markdown",
   "id": "eec1a252",
   "metadata": {},
   "source": [
    "7 - ¿Cuál de las siguientes es una declaración de retorno válida?"
   ]
  },
  {
   "cell_type": "code",
   "execution_count": null,
   "id": "51b2233a",
   "metadata": {},
   "outputs": [],
   "source": [
    "def fun( ) :\n",
    "    print('First avatar')\n",
    "fun( )\n",
    "\n",
    "#################################\n",
    "\n",
    "def fun( ) :\n",
    "    print('New avatar') \n",
    " fun( )"
   ]
  },
  {
   "cell_type": "markdown",
   "id": "bbdc99e9",
   "metadata": {},
   "source": [
    "- La primera es válida porque, imprime 'First avatar' y despues se llama a si misma.\n",
    "- La segunda es inválida porque tiene un error de 'identación' que no es válido en Python"
   ]
  },
  {
   "cell_type": "markdown",
   "id": "e30f2b75",
   "metadata": {},
   "source": [
    "8 (Opcional) - ¿Cómo definirías una función que contenga tres sentencias return, cada una de las cuales devuelve un tipo de valor diferente?"
   ]
  },
  {
   "cell_type": "markdown",
   "id": "cf268806",
   "metadata": {},
   "source": [
    "Una función puede tener multiples sentencias 'return' cada una devolviendo un tipo de valor\n",
    "diferente pero solo un 'return' se ejecutará en función de la logica adel programa."
   ]
  },
  {
   "cell_type": "markdown",
   "id": "4d539a86",
   "metadata": {},
   "source": [
    "9 (Opcional) - ¿Cómo llamarías a imprimelo( ) para que imprima los elementos de una tupla?"
   ]
  },
  {
   "cell_type": "markdown",
   "id": "38dd4924",
   "metadata": {},
   "source": [
    "imprimelo(*mi_tupla)"
   ]
  },
  {
   "cell_type": "markdown",
   "id": "a8ac9fe9",
   "metadata": {},
   "source": [
    "10 - ¿Cuál será la salida de los siguientes programas?. Explique también con sus propias palabras lo que el programa está haciendo. Puede hacerlo en un bloque aparte o en el mismo bloque del codigo usando comentarios"
   ]
  },
  {
   "cell_type": "markdown",
   "id": "9f9b6b87",
   "metadata": {},
   "source": [
    "a)"
   ]
  },
  {
   "cell_type": "code",
   "execution_count": 4,
   "id": "3af9f912",
   "metadata": {},
   "outputs": [
    {
     "name": "stdout",
     "output_type": "stream",
     "text": [
      "48\n"
     ]
    }
   ],
   "source": [
    "def fun(x, y) :\n",
    "    if x == 0 :\n",
    "        return y\n",
    "    else :\n",
    "        return fun(x - 1, x * y) \n",
    "\n",
    "print(fun(4, 2))"
   ]
  },
  {
   "cell_type": "markdown",
   "id": "53b07146",
   "metadata": {},
   "source": [
    "a) Se define una función recursiva fun(x,y) que multiplica los números de forma decreciente hasta que x sea igual a cero, el 'caso base' es el codigo de la sentencia 'if' que es el que hace la parada del programa y evita que la ejecución sea infinita, mientras que el caso recursivo' es donde la fucnión se llama a si misma.\n",
    "48 es el resultado ..."
   ]
  },
  {
   "cell_type": "markdown",
   "id": "6f8299d0",
   "metadata": {},
   "source": [
    "b)"
   ]
  },
  {
   "cell_type": "code",
   "execution_count": 5,
   "id": "f46c2ba5",
   "metadata": {},
   "outputs": [
    {
     "name": "stdout",
     "output_type": "stream",
     "text": [
      "91\n"
     ]
    }
   ],
   "source": [
    "def fun(num) :\n",
    "    if num > 100 : \n",
    "        return num - 10\n",
    "    return fun(fun(num + 11)) \n",
    "print(fun(75))"
   ]
  },
  {
   "cell_type": "markdown",
   "id": "38e83c9b",
   "metadata": {},
   "source": [
    "b) también se define una funcón recursiva def fun(num), solo que al contrario de la anterior, la parada (caso base) se define cuando num se mayor que 100. numero que se incrementa dentro del argumento de la tercera llamada a fun(), es decir, dentro de la declaración de la función fun(), esta función se invoca dos veces.\n",
    "91 es el resultado ..."
   ]
  },
  {
   "cell_type": "markdown",
   "id": "b91e6a9c",
   "metadata": {},
   "source": [
    "c)"
   ]
  },
  {
   "cell_type": "code",
   "execution_count": 6,
   "id": "40f50f6c",
   "metadata": {},
   "outputs": [
    {
     "name": "stdout",
     "output_type": "stream",
     "text": [
      "True\n"
     ]
    }
   ],
   "source": [
    "def fun_(num) :\n",
    "    if num == 0 :\n",
    "        print(\"False\")\n",
    "    elif num == 1 :\n",
    "        print(\"True\")\n",
    "    elif num % 2 == 0 :\n",
    "        fun_(num / 2)\n",
    "fun_(256)"
   ]
  },
  {
   "cell_type": "markdown",
   "id": "b42f37dc",
   "metadata": {},
   "source": [
    "c) Aqui también estamos en presencia de otra llmada a una función recursiva def fun_(num) que imprimirá 'True' p 'False' dependiendo del valor de num; sellama a si misma si 'num' es par.\n",
    "True es el resultado ..."
   ]
  },
  {
   "cell_type": "markdown",
   "id": "3e2f061f",
   "metadata": {},
   "source": [
    "11 - Considere la siguiente lista: lst = [1.25, 3.22, 4.68, 10.95, 32.55, 12.54]. Los números en la lista representan radios de circulos. Escriba un programa donde se obtenga una lista de las areas de esos circulos."
   ]
  },
  {
   "cell_type": "markdown",
   "id": "44b90292",
   "metadata": {},
   "source": [
    "- Area del circulo: A ---------------> A = (pi) * r**2"
   ]
  },
  {
   "cell_type": "code",
   "execution_count": 9,
   "id": "fc8d0d68",
   "metadata": {},
   "outputs": [
    {
     "name": "stdout",
     "output_type": "stream",
     "text": [
      "Áreas de los círculos:\n",
      "Las áreas correspondiente a los radios entrados son: [4.908738521234052, 32.57328926948041, 68.80841893598507, 376.68481314705014, 3328.5252704600193, 494.02047132524063]\n"
     ]
    }
   ],
   "source": [
    "import math \n",
    "\n",
    "def area_circulo(radio):\n",
    "    return math.pi*radio**2\n",
    "\n",
    "lst= [1.25, 3.22, 4.68, 10.95, 32.55, 12.54]\n",
    "areas=[]\n",
    "\n",
    "for radio in lst:\n",
    "    areas.append(area_circulo(radio))\n",
    "\n",
    "print(\"Áreas de los círculos:\")\n",
    "print(f\"Las áreas correspondiente a los radios entrados son: {areas}\")\n",
    "        \n",
    "        \n",
    "    \n",
    "    "
   ]
  },
  {
   "cell_type": "markdown",
   "id": "32444ae6",
   "metadata": {},
   "source": [
    "12 - Considere la siguiente lista: lista = ['Thor', 'Iron Man', 'Cap America', 'Hulk', 'Hawkeye']. Escribe un programa para obtener una lista en la que todos los nombres se conviertan a mayúsculas."
   ]
  },
  {
   "cell_type": "code",
   "execution_count": 3,
   "id": "4bd49275",
   "metadata": {},
   "outputs": [
    {
     "name": "stdout",
     "output_type": "stream",
     "text": [
      "['THOR', 'IRON MAN', 'CAP AMERICAN', 'HULK', 'HAWKEYE']\n"
     ]
    }
   ],
   "source": [
    "lista= ['Thor','Iron Man','Cap American','Hulk','Hawkeye']\n",
    "\n",
    "def listaMayuscula(l):\n",
    "    return [i.upper() for i in l]\n",
    "    \n",
    "print(listaMayuscula(lista))\n",
    "\n",
    "\n"
   ]
  },
  {
   "cell_type": "markdown",
   "id": "e68715cf",
   "metadata": {},
   "source": [
    "13 - Considere la siguiente lista: lista_1 = ['Yo hago Yoga Hoy', 'Acaso hubo búhos acá', 'Ana, la tacaña catalana.', 'Julio está dando caña'] . Escribe un programa que imprima las cadenas que son palíndromos."
   ]
  },
  {
   "cell_type": "code",
   "execution_count": 19,
   "id": "7859f9dd",
   "metadata": {},
   "outputs": [
    {
     "name": "stdout",
     "output_type": "stream",
     "text": [
      "['Yo hago Yoga hoy', 'Ana, la tacaña catalana.']\n"
     ]
    }
   ],
   "source": [
    "def palindromo(l):\n",
    "    l2=[]\n",
    "    for i in l:\n",
    "      j = ''.join(c for c in i.lower() if c.isalnum()) \n",
    "      if j==j[::-1]:\n",
    "          l2.append(i)\n",
    "    return l2    \n",
    "\n",
    "# LISTA CON LOS ELEMENTOS POLÍNDROMOS\n",
    "lista_1 = ['Yo hago Yoga hoy', 'Acaso hubo búhos acá', 'Ana, la tacaña catalana.', 'Julio está dando caña']\n",
    "\n",
    "print(palindromo(lista_1))\n",
    "\n"
   ]
  },
  {
   "cell_type": "markdown",
   "id": "84f77ceb",
   "metadata": {},
   "source": [
    "14 - Supongamos que un diccionario contiene los nombres de los alumnos y las notas que han obtenido en un examen (Rango de notas de 0 - 100). Escribe un programa para obtener una lista de los alumnos que han obtenido más de 40 puntos en el examen."
   ]
  },
  {
   "cell_type": "code",
   "execution_count": 21,
   "id": "83a20444",
   "metadata": {},
   "outputs": [
    {
     "name": "stdout",
     "output_type": "stream",
     "text": [
      "ALUMNOS APROBADOS:\n",
      "------------------\n",
      "Alumnos que están a probados: ['Juan', 'María', 'Ana']\n"
     ]
    }
   ],
   "source": [
    "def aprobados(notas):\n",
    "    alumnosAprobados = []\n",
    "    for a, n in notas.items():\n",
    "        if n> 40:\n",
    "            alumnosAprobados.append(a)\n",
    "    return alumnosAprobados\n",
    "\n",
    "notas_de_alumnos = {'Juan': 85, 'María': 60, 'Pedro': 35, 'Ana': 75, 'Luis': 40 }\n",
    "\n",
    "Alumnos_Aprobados = aprobados(notas_de_alumnos)\n",
    "print(\"ALUMNOS APROBADOS:\")\n",
    "print(\"------------------\")\n",
    "print(f\"Alumnos que están a probados: {aprobados(notas_de_alumnos)}\")\n"
   ]
  },
  {
   "cell_type": "markdown",
   "id": "cc191c04",
   "metadata": {},
   "source": [
    "15 - Considere las siguientes listas:"
   ]
  },
  {
   "cell_type": "code",
   "execution_count": null,
   "id": "f2164659",
   "metadata": {},
   "outputs": [],
   "source": [
    "nums = [10, 20, 30, 40, 50, 60, 70, 80]\n",
    "strs = ['A', 'B', 'C', 'D', 'E', 'F', 'G', 'H']"
   ]
  },
  {
   "cell_type": "markdown",
   "id": "0ec7ca4d",
   "metadata": {},
   "source": [
    "Escribe un programa para obtener una lista de tuplas, donde cada tupla contenga un número de una lista y una cadena de otra, en el mismo orden en que aparecen en las listas originales"
   ]
  },
  {
   "cell_type": "code",
   "execution_count": 24,
   "id": "a4e64fd8",
   "metadata": {},
   "outputs": [
    {
     "name": "stdout",
     "output_type": "stream",
     "text": [
      "Lista de tuplas: [(10, 'A'), (20, 'B'), (30, 'C'), (40, 'D'), (50, 'E'), (60, 'F'), (70, 'G'), (80, 'H')]\n"
     ]
    }
   ],
   "source": [
    "nums = [10, 20, 30, 40, 50, 60, 70, 80]\n",
    "strs = ['A', 'B', 'C', 'D', 'E', 'F', 'G', 'H']\n",
    "\n",
    "print(f\"Lista de tuplas: {list(zip(nums, strs))}\")\n"
   ]
  }
 ],
 "metadata": {
  "kernelspec": {
   "display_name": "Python 3 (ipykernel)",
   "language": "python",
   "name": "python3"
  },
  "language_info": {
   "codemirror_mode": {
    "name": "ipython",
    "version": 3
   },
   "file_extension": ".py",
   "mimetype": "text/x-python",
   "name": "python",
   "nbconvert_exporter": "python",
   "pygments_lexer": "ipython3",
   "version": "3.11.9"
  }
 },
 "nbformat": 4,
 "nbformat_minor": 5
}

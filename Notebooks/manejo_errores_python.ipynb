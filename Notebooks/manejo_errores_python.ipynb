{
 "cells": [
  {
   "cell_type": "markdown",
   "metadata": {},
   "source": [
    "Excepciones y errores de Python\n",
    "En este artículo, aprenderá el manejo de errores y excepciones en Python.\n",
    "\n",
    "Al final del artículo, sabrás:\n",
    "\n",
    "- Cómo controlar las excepciones mediante las instrucciones try, except y finally\n",
    "- Cómo crear una excepción personalizada\n",
    "- Cómo generar una excepción\n",
    "- Cómo usar la excepción incorporada de manera efectiva para crear programas robustos de Python"
   ]
  },
  {
   "cell_type": "markdown",
   "metadata": {},
   "source": [
    "CONCEPTOS:\n",
    "Una 'exception'  es un evento que ocurre  durante la ejecución de programas cuando se interrumpe el flujo normal de ejecución.\n",
    "\n",
    "MANEJADORES DE EXCEPCIONES EN PYTHON\n",
    "1. try-except-finally\n",
    "2. Raise an exception\n",
    "3. Exception chaining (encadenamiento de excepciones)\n",
    "4. Build-in exception (excepciones predefinidas en Python)\n",
    "5. Custom exceptions (excepciones personalizadas) "
   ]
  },
  {
   "cell_type": "markdown",
   "metadata": {},
   "source": [
    "En Python, una excepción es un objeto derivado de la clase 'BaseException' que contiene información sobre un evento de error que se produjo dentro de un método. El objeto de excepción contiene:\n",
    "\n",
    "Tipo de error (nombre de la excepción)\n",
    "El estado del programa cuando se produjo el error\n",
    "Un mensaje de error describe el evento de error.\n",
    "Las excepciones son útiles para indicar diferentes tipos de posibles condiciones de fallo.\n",
    "\n",
    "Por ejemplo, a continuación se encuentran las pocas excepciones estándar\n",
    "\n",
    "FileNotFoundException\n",
    "ImportError\n",
    "RuntimeError\n",
    "NameError\n",
    "TypeError (Error de tipo)"
   ]
  },
  {
   "cell_type": "markdown",
   "metadata": {},
   "source": [
    "¿POR QUÉ USAR LA EXCEPCIÓN?\n",
    "- Control de errores estandarizado: mediante excepciones integradas o la creación de una excepción personalizada con un nombre y una descripción más precisos, puede definir adecuadamente el evento de error, lo que le ayuda a depurar el evento de error.\n",
    "\n",
    "- Código más limpio: las excepciones separan el código de control de errores del código normal, lo que nos ayuda a mantener fácilmente el código grande.\n",
    "\n",
    "- Aplicación robusta: Con la ayuda de excepciones, podemos desarrollar una aplicación sólida, que puede manejar eventos de error de manera eficiente.\n",
    "\n",
    "- Propagación de excepciones: de forma predeterminada, la excepción propaga la pila de llamadas si no la detecta. Por ejemplo, si se ha producido algún evento de error en una función anidada, no es necesario capturarlo y reenviarlo explícitamente; Automáticamente, se reenvía a la función de llamada donde puede manejarlo.\n",
    "\n",
    "- Diferentes tipos de error: puede usar la excepción incorporada o crear su excepción personalizada y agruparlas por su clase principal generalizada, o diferenciar los errores por su clase real"
   ]
  },
  {
   "cell_type": "markdown",
   "metadata": {},
   "source": [
    "¿QUE SON LOS ERRORES?\n",
    "Por otro lado, un error es una acción incorrecta o inexacta. Por ejemplo, error de sintaxis. Debido a lo cual el programa no se ejecuta.\n",
    "\n",
    "A grandes rasgos, los errores se pueden clasificar en dos tipos:\n",
    "\n",
    "- Errores de sintaxis\n",
    "- Errores lógicos\n",
    "\n",
    "Error de sintaxis:\n",
    "El error de sintaxis se produce cuando no estamos siguiendo la estructura o sintaxis adecuada del lenguaje. Un error de sintaxis también se conoce como error de análisis.\n",
    "\n",
    "Cuando Python analiza el programa y encuentra una declaración incorrecta, se conoce como error de sintaxis. Cuando el analizador encuentra un error de sintaxis, sale con un mensaje de error sin ejecutar nada.\n",
    "\n",
    "Errores comunes de sintaxis de Python:\n",
    "\n",
    "- Sangría incorrecta\n",
    "- Faltan dos puntos, comas o corchetes\n",
    "- Poner las palabras clave en el lugar equivocado.\n",
    "\n",
    "A continuación vamos a ver un error de 'identación'"
   ]
  },
  {
   "cell_type": "code",
   "execution_count": null,
   "metadata": {},
   "outputs": [],
   "source": [
    "print(\"Bienvenido a PY nativo\")\n",
    "  print(\"Aprenda Python con nosotros...\")"
   ]
  },
  {
   "cell_type": "markdown",
   "metadata": {},
   "source": [
    "Errores lógicos (excepción):\n",
    "Incluso si una instrucción o expresión es sintácticamente correcta, el error que se produce en tiempo de ejecución se conoce como error lógico o excepción. En otras palabras, los errores detectados durante la ejecución se denominan excepciones.\n",
    "\n",
    "Errores lógicos comunes de Python:\n",
    "\n",
    "- Sangría de un bloque al nivel incorrecto\n",
    "- Usar el nombre de variable incorrecto\n",
    "- Cometer un error en una expresión booleana\n",
    "\n",
    "Veamos un Ejemplo:"
   ]
  },
  {
   "cell_type": "code",
   "execution_count": null,
   "metadata": {},
   "outputs": [],
   "source": [
    "a= 10\n",
    "b= 20\n",
    "print(\"Suma: \",a + c)"
   ]
  },
  {
   "cell_type": "markdown",
   "metadata": {},
   "source": [
    "EXCEPCIONES INTEGRADAS\n",
    "\n",
    "En la tabla siguiente se muestran diferentes excepciones integradas.\n",
    "\n",
    "Python genera automáticamente muchas excepciones y errores. Excepciones en tiempo de ejecución, generalmente como resultado de errores de programación, como:\n",
    "\n",
    "- Lectura de un archivo que no está presente\n",
    "- Intentar leer datos fuera del índice disponible de una lista\n",
    "- Dividir un valor entero por cero"
   ]
  },
  {
   "cell_type": "markdown",
   "metadata": {},
   "source": [
    "EXCEPCIÓN\t        DESCRIPCIÓN\n",
    "AssertionError\t    Se genera cuando se produce un error en una instrucción.assert\n",
    "AttributeError\t    Se genera cuando se produce un error en la asignación de atributos o en la referencia.\n",
    "EOFError\t        Se genera cuando la función alcanza la condición de fin de archivo.input()\n",
    "FloatingPointError\tSe genera cuando se produce un error en una operación de punto flotante.\n",
    "GeneratorExit\t    Raise cuando se llama al método close() de un generador.\n",
    "ImportError\t        Se genera cuando no se encuentra el módulo importado.\n",
    "IndexError\t        Se genera cuando el índice de una secuencia está fuera de rango.\n",
    "KeyError\t        Se genera cuando no se encuentra una clave en un diccionario.\n",
    "KeyboardInterrupt\tSe genera cuando el usuario presiona la tecla de interrupción (Ctrl+C o Eliminar)\n",
    "MemoryError\t        Se genera cuando una operación se queda sin memoria.\n",
    "NameError\t        Se genera cuando una variable no se encuentra en el ámbito local o global.\n",
    "OSError\t            Se genera cuando la operación del sistema causa un error relacionado con el sistema.\n",
    "ReferenceError\t    Se genera cuando se utiliza un proxy de referencia débil para acceder a un referente de recolección de elementos no utilizados.\n",
    "\n",
    "Veamos algunos ejemplos:"
   ]
  },
  {
   "cell_type": "code",
   "execution_count": 1,
   "metadata": {},
   "outputs": [
    {
     "ename": "FileNotFoundError",
     "evalue": "[Errno 2] No such file or directory: 'test.txt'",
     "output_type": "error",
     "traceback": [
      "\u001b[1;31m---------------------------------------------------------------------------\u001b[0m",
      "\u001b[1;31mFileNotFoundError\u001b[0m                         Traceback (most recent call last)",
      "Cell \u001b[1;32mIn[1], line 2\u001b[0m\n\u001b[0;32m      1\u001b[0m \u001b[38;5;66;03m# Error que se genera cuanod nos eencuentra un archivo en el disco\u001b[39;00m\n\u001b[1;32m----> 2\u001b[0m fp \u001b[38;5;241m=\u001b[39m \u001b[38;5;28;43mopen\u001b[39;49m\u001b[43m(\u001b[49m\u001b[38;5;124;43m\"\u001b[39;49m\u001b[38;5;124;43mtest.txt\u001b[39;49m\u001b[38;5;124;43m\"\u001b[39;49m\u001b[43m,\u001b[49m\u001b[43m \u001b[49m\u001b[38;5;124;43m\"\u001b[39;49m\u001b[38;5;124;43mr\u001b[39;49m\u001b[38;5;124;43m\"\u001b[39;49m\u001b[43m)\u001b[49m\n\u001b[0;32m      3\u001b[0m \u001b[38;5;28;01mif\u001b[39;00m fp:\n\u001b[0;32m      4\u001b[0m     \u001b[38;5;28mprint\u001b[39m(\u001b[38;5;124m\"\u001b[39m\u001b[38;5;124mEl fichero se abrió exitosamente\u001b[39m\u001b[38;5;124m\"\u001b[39m)\n",
      "File \u001b[1;32m~\\AppData\\Roaming\\Python\\Python312\\site-packages\\IPython\\core\\interactiveshell.py:324\u001b[0m, in \u001b[0;36m_modified_open\u001b[1;34m(file, *args, **kwargs)\u001b[0m\n\u001b[0;32m    317\u001b[0m \u001b[38;5;28;01mif\u001b[39;00m file \u001b[38;5;129;01min\u001b[39;00m {\u001b[38;5;241m0\u001b[39m, \u001b[38;5;241m1\u001b[39m, \u001b[38;5;241m2\u001b[39m}:\n\u001b[0;32m    318\u001b[0m     \u001b[38;5;28;01mraise\u001b[39;00m \u001b[38;5;167;01mValueError\u001b[39;00m(\n\u001b[0;32m    319\u001b[0m         \u001b[38;5;124mf\u001b[39m\u001b[38;5;124m\"\u001b[39m\u001b[38;5;124mIPython won\u001b[39m\u001b[38;5;124m'\u001b[39m\u001b[38;5;124mt let you open fd=\u001b[39m\u001b[38;5;132;01m{\u001b[39;00mfile\u001b[38;5;132;01m}\u001b[39;00m\u001b[38;5;124m by default \u001b[39m\u001b[38;5;124m\"\u001b[39m\n\u001b[0;32m    320\u001b[0m         \u001b[38;5;124m\"\u001b[39m\u001b[38;5;124mas it is likely to crash IPython. If you know what you are doing, \u001b[39m\u001b[38;5;124m\"\u001b[39m\n\u001b[0;32m    321\u001b[0m         \u001b[38;5;124m\"\u001b[39m\u001b[38;5;124myou can use builtins\u001b[39m\u001b[38;5;124m'\u001b[39m\u001b[38;5;124m open.\u001b[39m\u001b[38;5;124m\"\u001b[39m\n\u001b[0;32m    322\u001b[0m     )\n\u001b[1;32m--> 324\u001b[0m \u001b[38;5;28;01mreturn\u001b[39;00m \u001b[43mio_open\u001b[49m\u001b[43m(\u001b[49m\u001b[43mfile\u001b[49m\u001b[43m,\u001b[49m\u001b[43m \u001b[49m\u001b[38;5;241;43m*\u001b[39;49m\u001b[43margs\u001b[49m\u001b[43m,\u001b[49m\u001b[43m \u001b[49m\u001b[38;5;241;43m*\u001b[39;49m\u001b[38;5;241;43m*\u001b[39;49m\u001b[43mkwargs\u001b[49m\u001b[43m)\u001b[49m\n",
      "\u001b[1;31mFileNotFoundError\u001b[0m: [Errno 2] No such file or directory: 'test.txt'"
     ]
    }
   ],
   "source": [
    "# Error que se genera cuanod nos eencuentra un archivo en el disco\n",
    "fp = open(\"test.txt\", \"r\")\n",
    "if fp:\n",
    "    print(\"El fichero se abrió exitosamente\")\n",
    "# Aqui de no haber error se imprime el mensaje 'fichero abierto exitosamente \n",
    "# Si no el programa se aborta con un error   \n",
    "# La clase de Python predefinida para manipular este error es FileNotFoundError"
   ]
  },
  {
   "cell_type": "markdown",
   "metadata": {},
   "source": [
    "BLOQUE TRY-EXCEPT\n",
    "\n",
    "Cuando se produce una excepción, Python detiene la ejecución del programa y genera un mensaje de excepción. Se recomienda encarecidamente controlar las excepciones. El código dudoso que puede generar una excepción se denomina código de riesgo.\n",
    "\n",
    "Para manejar las excepciones, necesitamos usar try y except block. Defina el código de riesgo que puede generar una excepción dentro del bloque y el código de manejo correspondiente dentro del bloque 'try-except'\n",
    "\n",
    "Sintaxis\n",
    "try :\n",
    "    # sentencias del bloque try\n",
    "except :\n",
    "    # sentencias o mensajes cuando ocurre una excepción en el bloque 'try'"
   ]
  },
  {
   "cell_type": "markdown",
   "metadata": {},
   "source": [
    "El 'bloque try' es para el 'código de riesgo' que puede generar una excepción y el bloque except para controlar el error generado en un bloque 'try'. Por ejemplo, si dividimos cualquier número por cero, try block lanzará , por lo que debemos manejar esa excepción en el bloque except.'ZeroDivisionError'\n",
    "\n",
    "Cuando no usamos el bloque en el programa, el programa termina de manera anormal, o será una terminación no correcta del programa.try…except\n",
    "\n",
    "Ahora veamos el ejemplo en el que no usamos block para manejar excepciones.try-except"
   ]
  },
  {
   "cell_type": "code",
   "execution_count": 2,
   "metadata": {},
   "outputs": [
    {
     "ename": "ZeroDivisionError",
     "evalue": "division by zero",
     "output_type": "error",
     "traceback": [
      "\u001b[1;31m---------------------------------------------------------------------------\u001b[0m",
      "\u001b[1;31mZeroDivisionError\u001b[0m                         Traceback (most recent call last)",
      "Cell \u001b[1;32mIn[2], line 3\u001b[0m\n\u001b[0;32m      1\u001b[0m a \u001b[38;5;241m=\u001b[39m \u001b[38;5;241m10\u001b[39m\n\u001b[0;32m      2\u001b[0m b \u001b[38;5;241m=\u001b[39m \u001b[38;5;241m0\u001b[39m\n\u001b[1;32m----> 3\u001b[0m c \u001b[38;5;241m=\u001b[39m \u001b[43ma\u001b[49m\u001b[43m \u001b[49m\u001b[38;5;241;43m/\u001b[39;49m\u001b[43m \u001b[49m\u001b[43mb\u001b[49m\n\u001b[0;32m      4\u001b[0m \u001b[38;5;28mprint\u001b[39m(\u001b[38;5;124m\"\u001b[39m\u001b[38;5;124ma/b = \u001b[39m\u001b[38;5;132;01m%d\u001b[39;00m\u001b[38;5;124m\"\u001b[39m \u001b[38;5;241m%\u001b[39m c)\n",
      "\u001b[1;31mZeroDivisionError\u001b[0m: division by zero"
     ]
    }
   ],
   "source": [
    "a = 10\n",
    "b = 0\n",
    "c = a / b\n",
    "print(\"a/b = %d\" % c)"
   ]
  },
  {
   "cell_type": "markdown",
   "metadata": {},
   "source": [
    "Podemos ver en el código anterior cuando estamos divididos por 0; Python lanza una excepción como y el programa termina de forma anormal.ZeroDivisionError\n",
    "\n",
    "Podemos manejar la excepción anterior usando el bloque. Consulte el código siguiente.try…except"
   ]
  },
  {
   "cell_type": "code",
   "execution_count": 4,
   "metadata": {},
   "outputs": [
    {
     "name": "stdout",
     "output_type": "stream",
     "text": [
      "No se puede dividir por cero. Proporcione un número diferente\n"
     ]
    }
   ],
   "source": [
    "try:\n",
    "    a = 10\n",
    "    b = 0\n",
    "    c = a/b\n",
    "    print(\"La respuesta de la división de 'a' entre 'b' es:\", c)\n",
    "except:\n",
    "    print(\"No se puede dividir por cero. Proporcione un número diferente\")"
   ]
  },
  {
   "cell_type": "markdown",
   "metadata": {},
   "source": [
    "DETECCIÓN DE EXCEPCIONES ESPECÍFICAS\n",
    "\n",
    "También podemos detectar una excepción específica. En el ejemplo anterior, no mencionamos ninguna excepción específica en el bloque except. Detectar todas las excepciones y controlar todas las excepciones no es una buena práctica de programación.\n",
    "\n",
    "Es una buena práctica especificar una excepción exacta que la cláusula except debe detectar. Por ejemplo, para detectar una excepción que se produce cuando el usuario escribe un valor no numérico en lugar de un número, solo podemos detectar la excepción ValueError integrada que controlará dicho evento correctamente.\n",
    "\n",
    "Podemos especificar qué bloque de excepción debe capturar o manejar. Un bloque puede ir seguido de varios números de bloques para controlar las diferentes excepciones. Pero solo se ejecutará una excepción cuando se produzca una excepción.except try except"
   ]
  },
  {
   "cell_type": "markdown",
   "metadata": {},
   "source": [
    "Ejemplo:\n",
    "En este ejemplo, le pediremos al usuario el valor del denominador. Si el usuario ingresa un número, el programa evaluará y producirá el resultado.\n",
    "Si el usuario ingresa un 'valor no numérico', el bloque 'try' lanzará una excepción, y podemos detectarla usando un primer bloque catch 'except ValueError' imprimiendo el mensaje 'El valor ingresado es incorrecto'.ValueError\n",
    "\n",
    "Y supongamos que el usuario ingresa el denominador como cero. En ese caso, el bloque 'try' lanzará una exception, y podemos capturarlo usando un segundo bloque catch imprimiendo el mensaje 'No se puede dividir por cero'. 'ZeroDivisionError'"
   ]
  },
  {
   "cell_type": "code",
   "execution_count": 8,
   "metadata": {},
   "outputs": [
    {
     "name": "stdout",
     "output_type": "stream",
     "text": [
      "El valor ingresado es incorrecto\n"
     ]
    }
   ],
   "source": [
    "try:\n",
    "    a = int(input(\"Entra el valor de 'a':\"))\n",
    "    b = int(input(\"Entra el valor de 'b':\"))\n",
    "    c = a/b\n",
    "    print(\"La respuesta de 'a' dividido por 'b' es:\", c)\n",
    "except ValueError:\n",
    "    print(\"El valor ingresado es incorrecto\")\n",
    "except ZeroDivisionError:\n",
    "    print(\"No se puede dividir entre cero\")"
   ]
  },
  {
   "cell_type": "markdown",
   "metadata": {},
   "source": [
    "CONTROLAR VARIAS EXCEPCIONES CON UNA SOLA CLÁUSULA EXCEPT\n",
    "\n",
    "También podemos manejar múltiples excepciones con una sola cláusula. Para eso, podemos usar un of para especificar múltiples excepciones en una cláusula.except tuple except\n",
    "\n",
    "Ejemplo\n",
    "\n",
    "Veamos cómo especificar dos excepciones en la cláusula except única."
   ]
  },
  {
   "cell_type": "code",
   "execution_count": 11,
   "metadata": {},
   "outputs": [
    {
     "name": "stdout",
     "output_type": "stream",
     "text": [
      "Por favor entre un valor válido...\n"
     ]
    }
   ],
   "source": [
    "try:\n",
    "    a = int(input(\"Entre el valor de 'a':\"))\n",
    "    b = int(input(\"Entre el valor de 'b':\"))\n",
    "    c = a / b\n",
    "    print(\"La respusta de 'a' dividido entre 'b' es:\", c)\n",
    "except(ValueError, ZeroDivisionError):\n",
    "    print(\"Por favor entre un valor válido...\")"
   ]
  },
  {
   "cell_type": "markdown",
   "metadata": {},
   "source": [
    "USANDO try-finally\n",
    "\n",
    "Python proporciona el bloque, que se utiliza con la instrucción 'try block'. El bloque finally se usa para escribir un bloque de código que debe ejecutarse, ya sea que el bloque try genere un error o no.finally\n",
    "\n",
    "Principalmente, el bloque se utiliza para liberar el recurso externo. Este bloque proporciona una garantía de ejecución.'finally'"
   ]
  },
  {
   "cell_type": "markdown",
   "metadata": {},
   "source": [
    "A veces queremos ejecutar alguna acción a cualquier costo, incluso si se produjo un error en un programa. En Python, podemos realizar tales acciones usando una declaración finally con una declaración try y except.\n",
    "\n",
    "El bloque de código escrito en el bloque finally siempre se ejecutará incluso si hay una excepción en el bloque try y except.\n",
    "\n",
    "Si una excepción no es manejada por la cláusula except, finalmente el bloque se ejecuta primero, luego se produce la excepción. Este proceso se conoce como acción de limpieza.\n",
    "\n",
    "Sintaxis:\n",
    "try:    \n",
    "    # bloque de código     \n",
    "    # Esto puede lanzar una excepción   \n",
    "finally:    \n",
    "    # bloque de código    \n",
    "    # Esto podrá siempre ejecutarse\n",
    "    # después del'try' y cualquier excepción del bloque\n",
    "\n",
    "    Veamos un ejemplo:  "
   ]
  },
  {
   "cell_type": "code",
   "execution_count": 14,
   "metadata": {},
   "outputs": [
    {
     "name": "stdout",
     "output_type": "stream",
     "text": [
      "la respuesta de 'a' dividido entre 'b' es: 7.5\n",
      "Dentro del bloque 'finally'\n"
     ]
    }
   ],
   "source": [
    "try:\n",
    "    a = int(input(\"Entre el valor de 'a':\"))\n",
    "    b = int(input(\"Entre el valor de 'b':\"))\n",
    "    c = a / b\n",
    "    print(\"la respuesta de 'a' dividido entre 'b' es:\", c)\n",
    "\n",
    "except ZeroDivisionError:\n",
    "    print(\"No puedo dividir entre cero\")\n",
    "finally:\n",
    "    print(\"Dentro del bloque 'finally'\")"
   ]
  },
  {
   "cell_type": "markdown",
   "metadata": {},
   "source": [
    "En el ejemplo anterior, podemos ver que dividimos un número por 0 y obtenemos un error, y el programa termina normalmente. En este caso, el bloque también se ejecutó.finally"
   ]
  },
  {
   "cell_type": "markdown",
   "metadata": {},
   "source": [
    "USO DE LA CLÁUSILA with try else\n",
    "\n",
    "A veces, es posible que queramos ejecutar un bloque específico de código. En ese caso, podemos usar 'block' con el bloque. El bloque se ejecutará si y solo si no hay ninguna excepción es el bloque. Para estos casos, podemos usar la instrucción opcional con la instrucción.else try-except else try else try\n",
    "\n",
    "¿Por qué usar el bloque else con try?\n",
    "\n",
    "Use la instrucción 'else'  con el bloque 'try' para verificar si el bloque 'try' se ejecutó sin ninguna excepción o si desea ejecutar un código específico solo si no se genera una excepción.\n",
    "\n",
    "Sintaxis:\n",
    "\n",
    "try:    \n",
    "    # bloque de código     \n",
    "except Exception1:    \n",
    "    # bloque de código    \n",
    "else:    \n",
    "    # Este código se ejecuta cuando la excepción no ocurrió.\n",
    "\n",
    "    Veamos un ejemplo:    "
   ]
  },
  {
   "cell_type": "code",
   "execution_count": 17,
   "metadata": {},
   "outputs": [
    {
     "name": "stdout",
     "output_type": "stream",
     "text": [
      "a/b = 5\n",
      "Estamos en el bloque de 'else'\n"
     ]
    }
   ],
   "source": [
    "try:\n",
    "    a = int(input(\"Entra el valor de 'a':\"))\n",
    "    b = int(input(\"Entra el valor de 'b':\"))\n",
    "    c = a / b\n",
    "    print(\"a/b = %d\" % c)\n",
    "\n",
    "except ZeroDivisionError:\n",
    "    print(\"No puedo dividir entre cero\")\n",
    "else:\n",
    "    print(\"Estamos en el bloque de 'else'\")"
   ]
  },
  {
   "cell_type": "markdown",
   "metadata": {},
   "source": [
    "GENERAR EXCEPCIONES\n",
    "\n",
    "En Python, la instrucción nos permite lanzar una excepción. Los argumentos individuales de la sentencia muestran que se debe plantear una excepción. Puede ser un objeto de excepción o una clase derivada de la clase. raise raise Exception  Exception\n",
    "\n",
    "La instrucción es útil en situaciones en las que necesitamos generar una excepción al programa de llamada. Podemos plantear excepciones en casos como la recepción de datos erróneos o cualquier error de validación. raise\n",
    "\n",
    "Siga los pasos que se indican a continuación para generar una excepción:\n",
    "\n",
    "- Cree una excepción del tipo adecuado. Utilice las excepciones integradas existentes o cree la excepción ganada según el requisito.\n",
    "\n",
    "- Pase los datos apropiados mientras genera una excepción.\n",
    "\n",
    "- Ejecute una instrucción raise proporcionando la clase de excepción.\n",
    "\n",
    "La sintaxis para usar la instrucción se da a continuación. raise\n",
    "\n",
    "raise Exception_class,<value>  \n",
    "\n",
    "Veamos un ejemplo:\n",
    "\n",
    "En este ejemplo, lanzaremos una excepción si la tasa de interés es mayor que 100.\n"
   ]
  },
  {
   "cell_type": "code",
   "execution_count": 21,
   "metadata": {},
   "outputs": [
    {
     "name": "stdout",
     "output_type": "stream",
     "text": [
      "Case 1\n",
      "El interés simple es de:  384.0\n",
      "Case 2\n",
      "La tasa de interés está fuera de rango: 800\n"
     ]
    }
   ],
   "source": [
    "def simple_interest(amount, year, rate):\n",
    "    try:\n",
    "        if rate > 100:\n",
    "            raise ValueError(rate)\n",
    "        interest = (amount * year * rate) / 100\n",
    "        print('El interés simple es de: ', interest)\n",
    "        return interest\n",
    "    except ValueError:\n",
    "        print('La tasa de interés está fuera de rango:', rate)\n",
    "\n",
    "print('Case 1')\n",
    "simple_interest(800, 6, 8)\n",
    "\n",
    "print('Case 2')\n",
    "simple_interest(800, 6, 800)"
   ]
  },
  {
   "cell_type": "markdown",
   "metadata": {},
   "source": [
    "ENCADENAMIENTO DE EXCEPCIONES\n",
    "\n",
    "El encadenamiento de excepciones solo está disponible en Python 3. Las instrucciones nos permiten como instrucción opcional, lo que habilita el encadenamiento de excepciones. Por lo tanto, podemos implementar el encadenamiento de excepciones en python3 usando una cláusula para encadenar excepciones.raise from raise…from\n",
    "\n",
    "Cuando se genera una excepción, el encadenamiento de excepciones se produce automáticamente. La excepción se puede generar dentro o en bloque de la sección. También deshabilitamos el encadenamiento de excepciones mediante el uso de modismo.except finally from None\n",
    "\n",
    "Ejemplo:"
   ]
  },
  {
   "cell_type": "code",
   "execution_count": 24,
   "metadata": {},
   "outputs": [
    {
     "ename": "ValueError",
     "evalue": "La división falló",
     "output_type": "error",
     "traceback": [
      "\u001b[1;31m---------------------------------------------------------------------------\u001b[0m",
      "\u001b[1;31mZeroDivisionError\u001b[0m                         Traceback (most recent call last)",
      "Cell \u001b[1;32mIn[24], line 4\u001b[0m\n\u001b[0;32m      3\u001b[0m b \u001b[38;5;241m=\u001b[39m \u001b[38;5;28mint\u001b[39m(\u001b[38;5;28minput\u001b[39m(\u001b[38;5;124m\"\u001b[39m\u001b[38;5;124mEntre el valor de \u001b[39m\u001b[38;5;124m'\u001b[39m\u001b[38;5;124mb\u001b[39m\u001b[38;5;124m'\u001b[39m\u001b[38;5;124m:\u001b[39m\u001b[38;5;124m\"\u001b[39m))\n\u001b[1;32m----> 4\u001b[0m c \u001b[38;5;241m=\u001b[39m \u001b[43ma\u001b[49m\u001b[38;5;241;43m/\u001b[39;49m\u001b[43mb\u001b[49m\n\u001b[0;32m      5\u001b[0m \u001b[38;5;28mprint\u001b[39m(\u001b[38;5;124m\"\u001b[39m\u001b[38;5;124mLa respuesta de la división de \u001b[39m\u001b[38;5;124m'\u001b[39m\u001b[38;5;124ma\u001b[39m\u001b[38;5;124m'\u001b[39m\u001b[38;5;124m entre \u001b[39m\u001b[38;5;124m'\u001b[39m\u001b[38;5;124mb\u001b[39m\u001b[38;5;124m'\u001b[39m\u001b[38;5;124m es de:\u001b[39m\u001b[38;5;124m\"\u001b[39m, c)\n",
      "\u001b[1;31mZeroDivisionError\u001b[0m: division by zero",
      "\nThe above exception was the direct cause of the following exception:\n",
      "\u001b[1;31mValueError\u001b[0m                                Traceback (most recent call last)",
      "Cell \u001b[1;32mIn[24], line 7\u001b[0m\n\u001b[0;32m      5\u001b[0m     \u001b[38;5;28mprint\u001b[39m(\u001b[38;5;124m\"\u001b[39m\u001b[38;5;124mLa respuesta de la división de \u001b[39m\u001b[38;5;124m'\u001b[39m\u001b[38;5;124ma\u001b[39m\u001b[38;5;124m'\u001b[39m\u001b[38;5;124m entre \u001b[39m\u001b[38;5;124m'\u001b[39m\u001b[38;5;124mb\u001b[39m\u001b[38;5;124m'\u001b[39m\u001b[38;5;124m es de:\u001b[39m\u001b[38;5;124m\"\u001b[39m, c)\n\u001b[0;32m      6\u001b[0m \u001b[38;5;28;01mexcept\u001b[39;00m \u001b[38;5;167;01mZeroDivisionError\u001b[39;00m \u001b[38;5;28;01mas\u001b[39;00m e:\n\u001b[1;32m----> 7\u001b[0m     \u001b[38;5;28;01mraise\u001b[39;00m \u001b[38;5;167;01mValueError\u001b[39;00m(\u001b[38;5;124m\"\u001b[39m\u001b[38;5;124mLa división falló\u001b[39m\u001b[38;5;124m\"\u001b[39m) \u001b[38;5;28;01mfrom\u001b[39;00m \u001b[38;5;21;01me\u001b[39;00m\n\u001b[0;32m      9\u001b[0m \u001b[38;5;66;03m# Output: Entre el valor de 'a':10\u001b[39;00m\n\u001b[0;32m     10\u001b[0m \u001b[38;5;66;03m# Entre el valor de 'b':0\u001b[39;00m\n\u001b[0;32m     11\u001b[0m \u001b[38;5;66;03m# ValueError: La división falló\u001b[39;00m\n",
      "\u001b[1;31mValueError\u001b[0m: La división falló"
     ]
    }
   ],
   "source": [
    "try:\n",
    "    a = int(input(\"Entre el valor de 'a':\"))\n",
    "    b = int(input(\"Entre el valor de 'b':\"))\n",
    "    c = a/b\n",
    "    print(\"La respuesta de la división de 'a' entre 'b' es de:\", c)\n",
    "except ZeroDivisionError as e:\n",
    "    raise ValueError(\"La división falló\") from e\n",
    "\n",
    "# Output: Entre el valor de 'a':10\n",
    "# Entre el valor de 'b':0\n",
    "# ValueError: La división falló"
   ]
  },
  {
   "cell_type": "markdown",
   "metadata": {},
   "source": [
    "En el ejemplo anterior, usamos el encadenamiento de excepciones usando la cláusula y la división de elevación fallo raise...from ValueError"
   ]
  }
 ],
 "metadata": {
  "kernelspec": {
   "display_name": "Python 3",
   "language": "python",
   "name": "python3"
  },
  "language_info": {
   "codemirror_mode": {
    "name": "ipython",
    "version": 3
   },
   "file_extension": ".py",
   "mimetype": "text/x-python",
   "name": "python",
   "nbconvert_exporter": "python",
   "pygments_lexer": "ipython3",
   "version": "3.12.1"
  }
 },
 "nbformat": 4,
 "nbformat_minor": 2
}
